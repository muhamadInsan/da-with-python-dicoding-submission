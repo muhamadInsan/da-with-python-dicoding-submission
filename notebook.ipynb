{
  "cells": [
    {
      "cell_type": "markdown",
      "metadata": {
        "id": "cP5zh7Ww85Fm"
      },
      "source": [
        "# Proyek Analisis Data: Nama dataset\n",
        "- Nama: Muhamad Insan Rahmatuloh\n",
        "- Email: muhamad.insan.r@gmail.com\n",
        "- Id Dicoding:"
      ]
    },
    {
      "cell_type": "markdown",
      "metadata": {
        "id": "ggwOFmpI88dG"
      },
      "source": [
        "## Menentukan Pertanyaan Bisnis"
      ]
    },
    {
      "cell_type": "markdown",
      "metadata": {
        "id": "6irqmTtg8-IC"
      },
      "source": [
        "- dimana saja kota tempat tinggal customer dan kota mana yang paling banyak\n",
        "- dari wilayah tsb dimana order paling banyak\n",
        "- produk apa saja yang paling banyak diorder\n",
        "- apa saja produk dengan skor review yang baik\n",
        "- bagaimana presentase status order\n",
        "- produk yang paling mahal \n",
        "- bagaimana analisis RFMnya\n",
        "- bagaimana geoanalisis antara order, customer dan seller"
      ]
    },
    {
      "cell_type": "markdown",
      "metadata": {
        "id": "EueHsNk89AsY"
      },
      "source": [
        "## Menyaipkan semua library yang dibuthkan"
      ]
    },
    {
      "cell_type": "code",
      "execution_count": 228,
      "metadata": {
        "id": "4cmWv4qc8xWu"
      },
      "outputs": [],
      "source": [
        "import pandas as pd\n",
        "import geopandas as gpd\n",
        "import numpy as np\n",
        "import matplotlib.pyplot as plt\n",
        "import plotly.express as px\n",
        "import seaborn as sns\n",
        "from scipy import stats"
      ]
    },
    {
      "cell_type": "markdown",
      "metadata": {
        "id": "7DwSpkkZ9BqV"
      },
      "source": [
        "## Data Wrangling"
      ]
    },
    {
      "cell_type": "markdown",
      "metadata": {
        "id": "ZuJuLGxe9D9O"
      },
      "source": [
        "### Gathering Data "
      ]
    },
    {
      "cell_type": "code",
      "execution_count": 229,
      "metadata": {
        "id": "Rg3wtvOr9DUm"
      },
      "outputs": [],
      "source": [
        "customers = pd.read_csv('data/E-Commerce Public Dataset/customers_dataset.csv')\n",
        "geolocation = gpd.read_file('data/E-Commerce Public Dataset/geolocation_dataset.csv')\n",
        "# geo_location = gpd.GeoDataFrame(geolocation, geometry=gpd.points_from_xy(geolocation['geolocation_lng'], geolocation['geolocation_lat']))\n",
        "# geo_location.crs = {'init':'epsg:4326'}\n",
        "order_items = pd.read_csv('data/E-Commerce Public Dataset/order_items_dataset.csv')\n",
        "order_payments = pd.read_csv('data/E-Commerce Public Dataset/order_payments_dataset.csv')\n",
        "order_reviews = pd.read_csv('data/E-Commerce Public Dataset/order_reviews_dataset.csv')\n",
        "orders = pd.read_csv('data/E-Commerce Public Dataset/orders_dataset.csv')\n",
        "product_cat_name = pd.read_csv('data/E-Commerce Public Dataset/product_category_name_translation.csv')\n",
        "products = pd.read_csv('data/E-Commerce Public Dataset/products_dataset.csv')\n",
        "sellers = pd.read_csv('data/E-Commerce Public Dataset/sellers_dataset.csv')\n"
      ]
    },
    {
      "cell_type": "markdown",
      "metadata": {
        "id": "BvZAfrSH9F2U"
      },
      "source": [
        "### Assessing Data"
      ]
    },
    {
      "cell_type": "markdown",
      "metadata": {},
      "source": [
        "#### Customers"
      ]
    },
    {
      "cell_type": "code",
      "execution_count": 230,
      "metadata": {
        "id": "fx7PaLsV9G8M"
      },
      "outputs": [
        {
          "data": {
            "text/html": [
              "<div>\n",
              "<style scoped>\n",
              "    .dataframe tbody tr th:only-of-type {\n",
              "        vertical-align: middle;\n",
              "    }\n",
              "\n",
              "    .dataframe tbody tr th {\n",
              "        vertical-align: top;\n",
              "    }\n",
              "\n",
              "    .dataframe thead th {\n",
              "        text-align: right;\n",
              "    }\n",
              "</style>\n",
              "<table border=\"1\" class=\"dataframe\">\n",
              "  <thead>\n",
              "    <tr style=\"text-align: right;\">\n",
              "      <th></th>\n",
              "      <th>customer_id</th>\n",
              "      <th>customer_unique_id</th>\n",
              "      <th>customer_zip_code_prefix</th>\n",
              "      <th>customer_city</th>\n",
              "      <th>customer_state</th>\n",
              "    </tr>\n",
              "  </thead>\n",
              "  <tbody>\n",
              "    <tr>\n",
              "      <th>87268</th>\n",
              "      <td>31f0b79edd49b7961c0abf48b7313ca4</td>\n",
              "      <td>d622872c5474dceac934a58a768a1a4d</td>\n",
              "      <td>5876</td>\n",
              "      <td>sao paulo</td>\n",
              "      <td>SP</td>\n",
              "    </tr>\n",
              "    <tr>\n",
              "      <th>79146</th>\n",
              "      <td>c4d7a6e0c977031788582eee2aec876b</td>\n",
              "      <td>ca330c9d99c8b37fefeced3616f82ed5</td>\n",
              "      <td>13320</td>\n",
              "      <td>salto</td>\n",
              "      <td>SP</td>\n",
              "    </tr>\n",
              "    <tr>\n",
              "      <th>66109</th>\n",
              "      <td>528db5e83192cfe52f500e42ac01ed57</td>\n",
              "      <td>174ca114d69e69c17a25752cbac289bf</td>\n",
              "      <td>18030</td>\n",
              "      <td>sorocaba</td>\n",
              "      <td>SP</td>\n",
              "    </tr>\n",
              "    <tr>\n",
              "      <th>68741</th>\n",
              "      <td>a48133e2358b288d04447786a3eb902b</td>\n",
              "      <td>8df948efd5c903f51e2b7353430700c3</td>\n",
              "      <td>48880</td>\n",
              "      <td>santaluz</td>\n",
              "      <td>BA</td>\n",
              "    </tr>\n",
              "    <tr>\n",
              "      <th>78010</th>\n",
              "      <td>c142a0c1cafdbc0cdd3a2f017aed7b27</td>\n",
              "      <td>def968e4b11de940e3b4eaef72bf290e</td>\n",
              "      <td>11250</td>\n",
              "      <td>bertioga</td>\n",
              "      <td>SP</td>\n",
              "    </tr>\n",
              "    <tr>\n",
              "      <th>37065</th>\n",
              "      <td>d3d15f8ea937386cd303c296833ea313</td>\n",
              "      <td>b690f5a1ad0e3276e0909094a2edc2c1</td>\n",
              "      <td>13295</td>\n",
              "      <td>itupeva</td>\n",
              "      <td>SP</td>\n",
              "    </tr>\n",
              "    <tr>\n",
              "      <th>35527</th>\n",
              "      <td>b93e95e6174fff9b5edcc6b8ffea5402</td>\n",
              "      <td>4d679de4b206350c05fcd2591f162bcb</td>\n",
              "      <td>12630</td>\n",
              "      <td>cachoeira paulista</td>\n",
              "      <td>SP</td>\n",
              "    </tr>\n",
              "    <tr>\n",
              "      <th>34340</th>\n",
              "      <td>14b7979700eeefcb40f5b2f054fbee53</td>\n",
              "      <td>28b7eaa89eeb2313e24ac80ccbad9c84</td>\n",
              "      <td>36010</td>\n",
              "      <td>juiz de fora</td>\n",
              "      <td>MG</td>\n",
              "    </tr>\n",
              "    <tr>\n",
              "      <th>73121</th>\n",
              "      <td>a31e5a52da6f1e13e7d1bf74f4749612</td>\n",
              "      <td>af42f48445865d17a93e63ad74b0972d</td>\n",
              "      <td>9371</td>\n",
              "      <td>maua</td>\n",
              "      <td>SP</td>\n",
              "    </tr>\n",
              "    <tr>\n",
              "      <th>33740</th>\n",
              "      <td>06a162c47cfda7cc5575ab732213ff11</td>\n",
              "      <td>90137e6a745aacaf44a05460ee1fc67e</td>\n",
              "      <td>91370</td>\n",
              "      <td>porto alegre</td>\n",
              "      <td>RS</td>\n",
              "    </tr>\n",
              "  </tbody>\n",
              "</table>\n",
              "</div>"
            ],
            "text/plain": [
              "                            customer_id                customer_unique_id  \\\n",
              "87268  31f0b79edd49b7961c0abf48b7313ca4  d622872c5474dceac934a58a768a1a4d   \n",
              "79146  c4d7a6e0c977031788582eee2aec876b  ca330c9d99c8b37fefeced3616f82ed5   \n",
              "66109  528db5e83192cfe52f500e42ac01ed57  174ca114d69e69c17a25752cbac289bf   \n",
              "68741  a48133e2358b288d04447786a3eb902b  8df948efd5c903f51e2b7353430700c3   \n",
              "78010  c142a0c1cafdbc0cdd3a2f017aed7b27  def968e4b11de940e3b4eaef72bf290e   \n",
              "37065  d3d15f8ea937386cd303c296833ea313  b690f5a1ad0e3276e0909094a2edc2c1   \n",
              "35527  b93e95e6174fff9b5edcc6b8ffea5402  4d679de4b206350c05fcd2591f162bcb   \n",
              "34340  14b7979700eeefcb40f5b2f054fbee53  28b7eaa89eeb2313e24ac80ccbad9c84   \n",
              "73121  a31e5a52da6f1e13e7d1bf74f4749612  af42f48445865d17a93e63ad74b0972d   \n",
              "33740  06a162c47cfda7cc5575ab732213ff11  90137e6a745aacaf44a05460ee1fc67e   \n",
              "\n",
              "       customer_zip_code_prefix       customer_city customer_state  \n",
              "87268                      5876           sao paulo             SP  \n",
              "79146                     13320               salto             SP  \n",
              "66109                     18030            sorocaba             SP  \n",
              "68741                     48880            santaluz             BA  \n",
              "78010                     11250            bertioga             SP  \n",
              "37065                     13295             itupeva             SP  \n",
              "35527                     12630  cachoeira paulista             SP  \n",
              "34340                     36010        juiz de fora             MG  \n",
              "73121                      9371                maua             SP  \n",
              "33740                     91370        porto alegre             RS  "
            ]
          },
          "execution_count": 230,
          "metadata": {},
          "output_type": "execute_result"
        }
      ],
      "source": [
        "customers.sample(10)"
      ]
    },
    {
      "cell_type": "code",
      "execution_count": 231,
      "metadata": {},
      "outputs": [
        {
          "data": {
            "text/plain": [
              "(99441, 5)"
            ]
          },
          "execution_count": 231,
          "metadata": {},
          "output_type": "execute_result"
        }
      ],
      "source": [
        "customers.shape"
      ]
    },
    {
      "cell_type": "code",
      "execution_count": 232,
      "metadata": {},
      "outputs": [
        {
          "name": "stdout",
          "output_type": "stream",
          "text": [
            "<class 'pandas.core.frame.DataFrame'>\n",
            "RangeIndex: 99441 entries, 0 to 99440\n",
            "Data columns (total 5 columns):\n",
            " #   Column                    Non-Null Count  Dtype \n",
            "---  ------                    --------------  ----- \n",
            " 0   customer_id               99441 non-null  object\n",
            " 1   customer_unique_id        99441 non-null  object\n",
            " 2   customer_zip_code_prefix  99441 non-null  int64 \n",
            " 3   customer_city             99441 non-null  object\n",
            " 4   customer_state            99441 non-null  object\n",
            "dtypes: int64(1), object(4)\n",
            "memory usage: 3.8+ MB\n"
          ]
        }
      ],
      "source": [
        "customers.info()"
      ]
    },
    {
      "cell_type": "markdown",
      "metadata": {},
      "source": [
        "#### Geolocation"
      ]
    },
    {
      "cell_type": "code",
      "execution_count": 233,
      "metadata": {},
      "outputs": [
        {
          "data": {
            "text/html": [
              "<div>\n",
              "<style scoped>\n",
              "    .dataframe tbody tr th:only-of-type {\n",
              "        vertical-align: middle;\n",
              "    }\n",
              "\n",
              "    .dataframe tbody tr th {\n",
              "        vertical-align: top;\n",
              "    }\n",
              "\n",
              "    .dataframe thead th {\n",
              "        text-align: right;\n",
              "    }\n",
              "</style>\n",
              "<table border=\"1\" class=\"dataframe\">\n",
              "  <thead>\n",
              "    <tr style=\"text-align: right;\">\n",
              "      <th></th>\n",
              "      <th>geolocation_zip_code_prefix</th>\n",
              "      <th>geolocation_lat</th>\n",
              "      <th>geolocation_lng</th>\n",
              "      <th>geolocation_city</th>\n",
              "      <th>geolocation_state</th>\n",
              "      <th>geometry</th>\n",
              "    </tr>\n",
              "  </thead>\n",
              "  <tbody>\n",
              "    <tr>\n",
              "      <th>538977</th>\n",
              "      <td>29703</td>\n",
              "      <td>-19.51749544700013</td>\n",
              "      <td>-40.647099858669236</td>\n",
              "      <td>colatina</td>\n",
              "      <td>ES</td>\n",
              "      <td>None</td>\n",
              "    </tr>\n",
              "    <tr>\n",
              "      <th>830663</th>\n",
              "      <td>78820</td>\n",
              "      <td>-15.951458523795885</td>\n",
              "      <td>-54.969466847736406</td>\n",
              "      <td>jaciara</td>\n",
              "      <td>MT</td>\n",
              "      <td>None</td>\n",
              "    </tr>\n",
              "    <tr>\n",
              "      <th>350592</th>\n",
              "      <td>15130</td>\n",
              "      <td>-20.808493867155452</td>\n",
              "      <td>-49.51138773834325</td>\n",
              "      <td>mirassol</td>\n",
              "      <td>SP</td>\n",
              "      <td>None</td>\n",
              "    </tr>\n",
              "    <tr>\n",
              "      <th>643058</th>\n",
              "      <td>38170</td>\n",
              "      <td>-19.35312557624665</td>\n",
              "      <td>-47.286223071057954</td>\n",
              "      <td>perdizes</td>\n",
              "      <td>MG</td>\n",
              "      <td>None</td>\n",
              "    </tr>\n",
              "    <tr>\n",
              "      <th>698562</th>\n",
              "      <td>47400</td>\n",
              "      <td>-10.824275012232624</td>\n",
              "      <td>-42.73089011844119</td>\n",
              "      <td>xique-xique</td>\n",
              "      <td>BA</td>\n",
              "      <td>None</td>\n",
              "    </tr>\n",
              "  </tbody>\n",
              "</table>\n",
              "</div>"
            ],
            "text/plain": [
              "       geolocation_zip_code_prefix      geolocation_lat      geolocation_lng  \\\n",
              "538977                       29703   -19.51749544700013  -40.647099858669236   \n",
              "830663                       78820  -15.951458523795885  -54.969466847736406   \n",
              "350592                       15130  -20.808493867155452   -49.51138773834325   \n",
              "643058                       38170   -19.35312557624665  -47.286223071057954   \n",
              "698562                       47400  -10.824275012232624   -42.73089011844119   \n",
              "\n",
              "       geolocation_city geolocation_state geometry  \n",
              "538977         colatina                ES     None  \n",
              "830663          jaciara                MT     None  \n",
              "350592         mirassol                SP     None  \n",
              "643058         perdizes                MG     None  \n",
              "698562      xique-xique                BA     None  "
            ]
          },
          "execution_count": 233,
          "metadata": {},
          "output_type": "execute_result"
        }
      ],
      "source": [
        "geolocation.sample(5)"
      ]
    },
    {
      "cell_type": "code",
      "execution_count": 234,
      "metadata": {},
      "outputs": [
        {
          "data": {
            "text/plain": [
              "(1000163, 6)"
            ]
          },
          "execution_count": 234,
          "metadata": {},
          "output_type": "execute_result"
        }
      ],
      "source": [
        "geolocation.shape"
      ]
    },
    {
      "cell_type": "code",
      "execution_count": 235,
      "metadata": {},
      "outputs": [
        {
          "name": "stdout",
          "output_type": "stream",
          "text": [
            "<class 'geopandas.geodataframe.GeoDataFrame'>\n",
            "RangeIndex: 1000163 entries, 0 to 1000162\n",
            "Data columns (total 6 columns):\n",
            " #   Column                       Non-Null Count    Dtype   \n",
            "---  ------                       --------------    -----   \n",
            " 0   geolocation_zip_code_prefix  1000163 non-null  object  \n",
            " 1   geolocation_lat              1000163 non-null  object  \n",
            " 2   geolocation_lng              1000163 non-null  object  \n",
            " 3   geolocation_city             1000163 non-null  object  \n",
            " 4   geolocation_state            1000163 non-null  object  \n",
            " 5   geometry                     0 non-null        geometry\n",
            "dtypes: geometry(1), object(5)\n",
            "memory usage: 45.8+ MB\n"
          ]
        }
      ],
      "source": [
        "geolocation.info()"
      ]
    },
    {
      "cell_type": "code",
      "execution_count": 236,
      "metadata": {},
      "outputs": [
        {
          "data": {
            "text/plain": [
              "geolocation_state\n",
              "SP    404268\n",
              "MG    126336\n",
              "RJ    121169\n",
              "RS     61851\n",
              "PR     57859\n",
              "SC     38328\n",
              "BA     36045\n",
              "GO     20139\n",
              "ES     16748\n",
              "PE     16432\n",
              "DF     12986\n",
              "MT     12031\n",
              "CE     11674\n",
              "PA     10853\n",
              "MS     10431\n",
              "MA      7853\n",
              "PB      5538\n",
              "RN      5041\n",
              "PI      4549\n",
              "AL      4183\n",
              "TO      3576\n",
              "SE      3563\n",
              "RO      3478\n",
              "AM      2432\n",
              "AC      1301\n",
              "AP       853\n",
              "RR       646\n",
              "Name: count, dtype: int64"
            ]
          },
          "execution_count": 236,
          "metadata": {},
          "output_type": "execute_result"
        }
      ],
      "source": [
        "geolocation.geolocation_state.value_counts()"
      ]
    },
    {
      "cell_type": "markdown",
      "metadata": {},
      "source": [
        "#### Order Items"
      ]
    },
    {
      "cell_type": "code",
      "execution_count": 237,
      "metadata": {},
      "outputs": [
        {
          "data": {
            "text/html": [
              "<div>\n",
              "<style scoped>\n",
              "    .dataframe tbody tr th:only-of-type {\n",
              "        vertical-align: middle;\n",
              "    }\n",
              "\n",
              "    .dataframe tbody tr th {\n",
              "        vertical-align: top;\n",
              "    }\n",
              "\n",
              "    .dataframe thead th {\n",
              "        text-align: right;\n",
              "    }\n",
              "</style>\n",
              "<table border=\"1\" class=\"dataframe\">\n",
              "  <thead>\n",
              "    <tr style=\"text-align: right;\">\n",
              "      <th></th>\n",
              "      <th>order_id</th>\n",
              "      <th>order_item_id</th>\n",
              "      <th>product_id</th>\n",
              "      <th>seller_id</th>\n",
              "      <th>shipping_limit_date</th>\n",
              "      <th>price</th>\n",
              "      <th>freight_value</th>\n",
              "    </tr>\n",
              "  </thead>\n",
              "  <tbody>\n",
              "    <tr>\n",
              "      <th>33635</th>\n",
              "      <td>4c3302743a4cdbc7c65bb027ea156c35</td>\n",
              "      <td>1</td>\n",
              "      <td>76b7fa5da50b22fe17d1e7bbde661106</td>\n",
              "      <td>2a261b5b644fa05f4f2700eb93544f2c</td>\n",
              "      <td>2018-03-07 18:49:08</td>\n",
              "      <td>45.00</td>\n",
              "      <td>17.60</td>\n",
              "    </tr>\n",
              "    <tr>\n",
              "      <th>67804</th>\n",
              "      <td>9b027054a981a89fca1af6a5341e81e2</td>\n",
              "      <td>1</td>\n",
              "      <td>bfa3d6cdc62f90365c2a895263e371a0</td>\n",
              "      <td>a673821011d0cec28146ea42f5ab767f</td>\n",
              "      <td>2018-08-22 14:09:19</td>\n",
              "      <td>199.99</td>\n",
              "      <td>10.15</td>\n",
              "    </tr>\n",
              "    <tr>\n",
              "      <th>61179</th>\n",
              "      <td>8b745c54dfd32df8f3d575a2ab02fc9c</td>\n",
              "      <td>1</td>\n",
              "      <td>422879e10f46682990de24d770e7f83d</td>\n",
              "      <td>1f50f920176fa81dab994f9023523100</td>\n",
              "      <td>2017-11-30 15:14:13</td>\n",
              "      <td>49.00</td>\n",
              "      <td>17.64</td>\n",
              "    </tr>\n",
              "    <tr>\n",
              "      <th>7244</th>\n",
              "      <td>106b93e7196f2acfb1f73a326770c843</td>\n",
              "      <td>1</td>\n",
              "      <td>1f5f0f003ce8595ad88fb215ec1409e6</td>\n",
              "      <td>8d956fec2e4337affcb520f56fd8cbfd</td>\n",
              "      <td>2018-05-22 13:10:26</td>\n",
              "      <td>99.95</td>\n",
              "      <td>23.28</td>\n",
              "    </tr>\n",
              "    <tr>\n",
              "      <th>104007</th>\n",
              "      <td>ec36a2bdf65bba1742263a91c4f251ae</td>\n",
              "      <td>1</td>\n",
              "      <td>361009da0572b0d1d961d347f10e09b1</td>\n",
              "      <td>4d6fb82c629c7a5028bfd973c07b05e0</td>\n",
              "      <td>2017-03-13 22:01:44</td>\n",
              "      <td>139.00</td>\n",
              "      <td>20.27</td>\n",
              "    </tr>\n",
              "  </tbody>\n",
              "</table>\n",
              "</div>"
            ],
            "text/plain": [
              "                                order_id  order_item_id  \\\n",
              "33635   4c3302743a4cdbc7c65bb027ea156c35              1   \n",
              "67804   9b027054a981a89fca1af6a5341e81e2              1   \n",
              "61179   8b745c54dfd32df8f3d575a2ab02fc9c              1   \n",
              "7244    106b93e7196f2acfb1f73a326770c843              1   \n",
              "104007  ec36a2bdf65bba1742263a91c4f251ae              1   \n",
              "\n",
              "                              product_id                         seller_id  \\\n",
              "33635   76b7fa5da50b22fe17d1e7bbde661106  2a261b5b644fa05f4f2700eb93544f2c   \n",
              "67804   bfa3d6cdc62f90365c2a895263e371a0  a673821011d0cec28146ea42f5ab767f   \n",
              "61179   422879e10f46682990de24d770e7f83d  1f50f920176fa81dab994f9023523100   \n",
              "7244    1f5f0f003ce8595ad88fb215ec1409e6  8d956fec2e4337affcb520f56fd8cbfd   \n",
              "104007  361009da0572b0d1d961d347f10e09b1  4d6fb82c629c7a5028bfd973c07b05e0   \n",
              "\n",
              "        shipping_limit_date   price  freight_value  \n",
              "33635   2018-03-07 18:49:08   45.00          17.60  \n",
              "67804   2018-08-22 14:09:19  199.99          10.15  \n",
              "61179   2017-11-30 15:14:13   49.00          17.64  \n",
              "7244    2018-05-22 13:10:26   99.95          23.28  \n",
              "104007  2017-03-13 22:01:44  139.00          20.27  "
            ]
          },
          "execution_count": 237,
          "metadata": {},
          "output_type": "execute_result"
        }
      ],
      "source": [
        "order_items.sample(5)"
      ]
    },
    {
      "cell_type": "code",
      "execution_count": 238,
      "metadata": {},
      "outputs": [
        {
          "data": {
            "text/plain": [
              "(112650, 7)"
            ]
          },
          "execution_count": 238,
          "metadata": {},
          "output_type": "execute_result"
        }
      ],
      "source": [
        "order_items.shape"
      ]
    },
    {
      "cell_type": "code",
      "execution_count": 239,
      "metadata": {},
      "outputs": [
        {
          "name": "stdout",
          "output_type": "stream",
          "text": [
            "<class 'pandas.core.frame.DataFrame'>\n",
            "RangeIndex: 112650 entries, 0 to 112649\n",
            "Data columns (total 7 columns):\n",
            " #   Column               Non-Null Count   Dtype  \n",
            "---  ------               --------------   -----  \n",
            " 0   order_id             112650 non-null  object \n",
            " 1   order_item_id        112650 non-null  int64  \n",
            " 2   product_id           112650 non-null  object \n",
            " 3   seller_id            112650 non-null  object \n",
            " 4   shipping_limit_date  112650 non-null  object \n",
            " 5   price                112650 non-null  float64\n",
            " 6   freight_value        112650 non-null  float64\n",
            "dtypes: float64(2), int64(1), object(4)\n",
            "memory usage: 6.0+ MB\n"
          ]
        }
      ],
      "source": [
        "order_items.info()"
      ]
    },
    {
      "cell_type": "code",
      "execution_count": 240,
      "metadata": {},
      "outputs": [
        {
          "data": {
            "text/html": [
              "<div>\n",
              "<style scoped>\n",
              "    .dataframe tbody tr th:only-of-type {\n",
              "        vertical-align: middle;\n",
              "    }\n",
              "\n",
              "    .dataframe tbody tr th {\n",
              "        vertical-align: top;\n",
              "    }\n",
              "\n",
              "    .dataframe thead th {\n",
              "        text-align: right;\n",
              "    }\n",
              "</style>\n",
              "<table border=\"1\" class=\"dataframe\">\n",
              "  <thead>\n",
              "    <tr style=\"text-align: right;\">\n",
              "      <th></th>\n",
              "      <th>order_item_id</th>\n",
              "      <th>price</th>\n",
              "      <th>freight_value</th>\n",
              "    </tr>\n",
              "  </thead>\n",
              "  <tbody>\n",
              "    <tr>\n",
              "      <th>count</th>\n",
              "      <td>112650.000000</td>\n",
              "      <td>112650.000000</td>\n",
              "      <td>112650.000000</td>\n",
              "    </tr>\n",
              "    <tr>\n",
              "      <th>mean</th>\n",
              "      <td>1.197834</td>\n",
              "      <td>120.653739</td>\n",
              "      <td>19.990320</td>\n",
              "    </tr>\n",
              "    <tr>\n",
              "      <th>std</th>\n",
              "      <td>0.705124</td>\n",
              "      <td>183.633928</td>\n",
              "      <td>15.806405</td>\n",
              "    </tr>\n",
              "    <tr>\n",
              "      <th>min</th>\n",
              "      <td>1.000000</td>\n",
              "      <td>0.850000</td>\n",
              "      <td>0.000000</td>\n",
              "    </tr>\n",
              "    <tr>\n",
              "      <th>25%</th>\n",
              "      <td>1.000000</td>\n",
              "      <td>39.900000</td>\n",
              "      <td>13.080000</td>\n",
              "    </tr>\n",
              "    <tr>\n",
              "      <th>50%</th>\n",
              "      <td>1.000000</td>\n",
              "      <td>74.990000</td>\n",
              "      <td>16.260000</td>\n",
              "    </tr>\n",
              "    <tr>\n",
              "      <th>75%</th>\n",
              "      <td>1.000000</td>\n",
              "      <td>134.900000</td>\n",
              "      <td>21.150000</td>\n",
              "    </tr>\n",
              "    <tr>\n",
              "      <th>max</th>\n",
              "      <td>21.000000</td>\n",
              "      <td>6735.000000</td>\n",
              "      <td>409.680000</td>\n",
              "    </tr>\n",
              "  </tbody>\n",
              "</table>\n",
              "</div>"
            ],
            "text/plain": [
              "       order_item_id          price  freight_value\n",
              "count  112650.000000  112650.000000  112650.000000\n",
              "mean        1.197834     120.653739      19.990320\n",
              "std         0.705124     183.633928      15.806405\n",
              "min         1.000000       0.850000       0.000000\n",
              "25%         1.000000      39.900000      13.080000\n",
              "50%         1.000000      74.990000      16.260000\n",
              "75%         1.000000     134.900000      21.150000\n",
              "max        21.000000    6735.000000     409.680000"
            ]
          },
          "execution_count": 240,
          "metadata": {},
          "output_type": "execute_result"
        }
      ],
      "source": [
        "order_items.describe()"
      ]
    },
    {
      "cell_type": "code",
      "execution_count": 241,
      "metadata": {},
      "outputs": [
        {
          "data": {
            "text/plain": [
              "<Axes: ylabel='Count'>"
            ]
          },
          "execution_count": 241,
          "metadata": {},
          "output_type": "execute_result"
        },
        {
          "data": {
            "image/png": "[encoded data removed]",
            "text/plain": [
              "<Figure size 640x480 with 1 Axes>"
            ]
          },
          "metadata": {},
          "output_type": "display_data"
        }
      ],
      "source": [
        "normal_price = stats.boxcox(order_items.price)\n",
        "sns.histplot(normal_price[0],  kde=True)"
      ]
    },
    {
      "cell_type": "markdown",
      "metadata": {},
      "source": [
        "#### Order Payments"
      ]
    },
    {
      "cell_type": "code",
      "execution_count": 242,
      "metadata": {},
      "outputs": [
        {
          "data": {
            "text/html": [
              "<div>\n",
              "<style scoped>\n",
              "    .dataframe tbody tr th:only-of-type {\n",
              "        vertical-align: middle;\n",
              "    }\n",
              "\n",
              "    .dataframe tbody tr th {\n",
              "        vertical-align: top;\n",
              "    }\n",
              "\n",
              "    .dataframe thead th {\n",
              "        text-align: right;\n",
              "    }\n",
              "</style>\n",
              "<table border=\"1\" class=\"dataframe\">\n",
              "  <thead>\n",
              "    <tr style=\"text-align: right;\">\n",
              "      <th></th>\n",
              "      <th>order_id</th>\n",
              "      <th>payment_sequential</th>\n",
              "      <th>payment_type</th>\n",
              "      <th>payment_installments</th>\n",
              "      <th>payment_value</th>\n",
              "    </tr>\n",
              "  </thead>\n",
              "  <tbody>\n",
              "    <tr>\n",
              "      <th>79136</th>\n",
              "      <td>3b090f7fe6e2cf01b468a154dc9c546a</td>\n",
              "      <td>1</td>\n",
              "      <td>credit_card</td>\n",
              "      <td>1</td>\n",
              "      <td>43.58</td>\n",
              "    </tr>\n",
              "    <tr>\n",
              "      <th>58475</th>\n",
              "      <td>3e6bf80e5361b0fd113b9185bf09d8d0</td>\n",
              "      <td>1</td>\n",
              "      <td>credit_card</td>\n",
              "      <td>1</td>\n",
              "      <td>55.00</td>\n",
              "    </tr>\n",
              "    <tr>\n",
              "      <th>46692</th>\n",
              "      <td>1b0577d71cd408c29c2fe1c9ec939056</td>\n",
              "      <td>1</td>\n",
              "      <td>credit_card</td>\n",
              "      <td>1</td>\n",
              "      <td>133.35</td>\n",
              "    </tr>\n",
              "    <tr>\n",
              "      <th>19151</th>\n",
              "      <td>c5f9c59800d0f2f6124ea0cfa1ae8d1f</td>\n",
              "      <td>1</td>\n",
              "      <td>credit_card</td>\n",
              "      <td>6</td>\n",
              "      <td>226.95</td>\n",
              "    </tr>\n",
              "    <tr>\n",
              "      <th>73662</th>\n",
              "      <td>0124e0c5bfae1979838a91e47df53f14</td>\n",
              "      <td>1</td>\n",
              "      <td>credit_card</td>\n",
              "      <td>1</td>\n",
              "      <td>62.38</td>\n",
              "    </tr>\n",
              "  </tbody>\n",
              "</table>\n",
              "</div>"
            ],
            "text/plain": [
              "                               order_id  payment_sequential payment_type  \\\n",
              "79136  3b090f7fe6e2cf01b468a154dc9c546a                   1  credit_card   \n",
              "58475  3e6bf80e5361b0fd113b9185bf09d8d0                   1  credit_card   \n",
              "46692  1b0577d71cd408c29c2fe1c9ec939056                   1  credit_card   \n",
              "19151  c5f9c59800d0f2f6124ea0cfa1ae8d1f                   1  credit_card   \n",
              "73662  0124e0c5bfae1979838a91e47df53f14                   1  credit_card   \n",
              "\n",
              "       payment_installments  payment_value  \n",
              "79136                     1          43.58  \n",
              "58475                     1          55.00  \n",
              "46692                     1         133.35  \n",
              "19151                     6         226.95  \n",
              "73662                     1          62.38  "
            ]
          },
          "execution_count": 242,
          "metadata": {},
          "output_type": "execute_result"
        }
      ],
      "source": [
        "order_payments.sample(5)"
      ]
    },
    {
      "cell_type": "code",
      "execution_count": 243,
      "metadata": {},
      "outputs": [
        {
          "data": {
            "text/plain": [
              "(103886, 5)"
            ]
          },
          "execution_count": 243,
          "metadata": {},
          "output_type": "execute_result"
        }
      ],
      "source": [
        "order_payments.shape"
      ]
    },
    {
      "cell_type": "code",
      "execution_count": 244,
      "metadata": {},
      "outputs": [
        {
          "name": "stdout",
          "output_type": "stream",
          "text": [
            "<class 'pandas.core.frame.DataFrame'>\n",
            "RangeIndex: 103886 entries, 0 to 103885\n",
            "Data columns (total 5 columns):\n",
            " #   Column                Non-Null Count   Dtype  \n",
            "---  ------                --------------   -----  \n",
            " 0   order_id              103886 non-null  object \n",
            " 1   payment_sequential    103886 non-null  int64  \n",
            " 2   payment_type          103886 non-null  object \n",
            " 3   payment_installments  103886 non-null  int64  \n",
            " 4   payment_value         103886 non-null  float64\n",
            "dtypes: float64(1), int64(2), object(2)\n",
            "memory usage: 4.0+ MB\n"
          ]
        }
      ],
      "source": [
        "order_payments.info()"
      ]
    },
    {
      "cell_type": "code",
      "execution_count": 245,
      "metadata": {},
      "outputs": [
        {
          "data": {
            "text/html": [
              "<div>\n",
              "<style scoped>\n",
              "    .dataframe tbody tr th:only-of-type {\n",
              "        vertical-align: middle;\n",
              "    }\n",
              "\n",
              "    .dataframe tbody tr th {\n",
              "        vertical-align: top;\n",
              "    }\n",
              "\n",
              "    .dataframe thead th {\n",
              "        text-align: right;\n",
              "    }\n",
              "</style>\n",
              "<table border=\"1\" class=\"dataframe\">\n",
              "  <thead>\n",
              "    <tr style=\"text-align: right;\">\n",
              "      <th></th>\n",
              "      <th>payment_sequential</th>\n",
              "      <th>payment_installments</th>\n",
              "      <th>payment_value</th>\n",
              "    </tr>\n",
              "  </thead>\n",
              "  <tbody>\n",
              "    <tr>\n",
              "      <th>count</th>\n",
              "      <td>103886.000000</td>\n",
              "      <td>103886.000000</td>\n",
              "      <td>103886.000000</td>\n",
              "    </tr>\n",
              "    <tr>\n",
              "      <th>mean</th>\n",
              "      <td>1.092679</td>\n",
              "      <td>2.853349</td>\n",
              "      <td>154.100380</td>\n",
              "    </tr>\n",
              "    <tr>\n",
              "      <th>std</th>\n",
              "      <td>0.706584</td>\n",
              "      <td>2.687051</td>\n",
              "      <td>217.494064</td>\n",
              "    </tr>\n",
              "    <tr>\n",
              "      <th>min</th>\n",
              "      <td>1.000000</td>\n",
              "      <td>0.000000</td>\n",
              "      <td>0.000000</td>\n",
              "    </tr>\n",
              "    <tr>\n",
              "      <th>25%</th>\n",
              "      <td>1.000000</td>\n",
              "      <td>1.000000</td>\n",
              "      <td>56.790000</td>\n",
              "    </tr>\n",
              "    <tr>\n",
              "      <th>50%</th>\n",
              "      <td>1.000000</td>\n",
              "      <td>1.000000</td>\n",
              "      <td>100.000000</td>\n",
              "    </tr>\n",
              "    <tr>\n",
              "      <th>75%</th>\n",
              "      <td>1.000000</td>\n",
              "      <td>4.000000</td>\n",
              "      <td>171.837500</td>\n",
              "    </tr>\n",
              "    <tr>\n",
              "      <th>max</th>\n",
              "      <td>29.000000</td>\n",
              "      <td>24.000000</td>\n",
              "      <td>13664.080000</td>\n",
              "    </tr>\n",
              "  </tbody>\n",
              "</table>\n",
              "</div>"
            ],
            "text/plain": [
              "       payment_sequential  payment_installments  payment_value\n",
              "count       103886.000000         103886.000000  103886.000000\n",
              "mean             1.092679              2.853349     154.100380\n",
              "std              0.706584              2.687051     217.494064\n",
              "min              1.000000              0.000000       0.000000\n",
              "25%              1.000000              1.000000      56.790000\n",
              "50%              1.000000              1.000000     100.000000\n",
              "75%              1.000000              4.000000     171.837500\n",
              "max             29.000000             24.000000   13664.080000"
            ]
          },
          "execution_count": 245,
          "metadata": {},
          "output_type": "execute_result"
        }
      ],
      "source": [
        "order_payments.describe()"
      ]
    },
    {
      "cell_type": "markdown",
      "metadata": {},
      "source": [
        "#### Orders Reviews"
      ]
    },
    {
      "cell_type": "code",
      "execution_count": 246,
      "metadata": {},
      "outputs": [
        {
          "data": {
            "text/html": [
              "<div>\n",
              "<style scoped>\n",
              "    .dataframe tbody tr th:only-of-type {\n",
              "        vertical-align: middle;\n",
              "    }\n",
              "\n",
              "    .dataframe tbody tr th {\n",
              "        vertical-align: top;\n",
              "    }\n",
              "\n",
              "    .dataframe thead th {\n",
              "        text-align: right;\n",
              "    }\n",
              "</style>\n",
              "<table border=\"1\" class=\"dataframe\">\n",
              "  <thead>\n",
              "    <tr style=\"text-align: right;\">\n",
              "      <th></th>\n",
              "      <th>review_id</th>\n",
              "      <th>order_id</th>\n",
              "      <th>review_score</th>\n",
              "      <th>review_comment_title</th>\n",
              "      <th>review_comment_message</th>\n",
              "      <th>review_creation_date</th>\n",
              "      <th>review_answer_timestamp</th>\n",
              "    </tr>\n",
              "  </thead>\n",
              "  <tbody>\n",
              "    <tr>\n",
              "      <th>12547</th>\n",
              "      <td>a1e32c2bbb631985ee5d3ef4633ea138</td>\n",
              "      <td>fa73021d06471826a5740f3188024ce2</td>\n",
              "      <td>4</td>\n",
              "      <td>Recomendo</td>\n",
              "      <td>Entrega rápida, sem complicações !</td>\n",
              "      <td>2018-07-05 00:00:00</td>\n",
              "      <td>2018-07-05 17:59:56</td>\n",
              "    </tr>\n",
              "    <tr>\n",
              "      <th>88072</th>\n",
              "      <td>331f70956c1eead801a47bb8f96e81f5</td>\n",
              "      <td>a46673a644bf3ee145a6afe288ed3e92</td>\n",
              "      <td>5</td>\n",
              "      <td>NaN</td>\n",
              "      <td>NaN</td>\n",
              "      <td>2018-03-21 00:00:00</td>\n",
              "      <td>2018-03-22 00:24:07</td>\n",
              "    </tr>\n",
              "    <tr>\n",
              "      <th>17595</th>\n",
              "      <td>dc4ca62cd3baf3b7e965e30d859d54d5</td>\n",
              "      <td>5845efeb1a7164fc3885f465a37ebd46</td>\n",
              "      <td>5</td>\n",
              "      <td>NaN</td>\n",
              "      <td>Ótima loja e o brinquedo meu filho adoro</td>\n",
              "      <td>2017-11-15 00:00:00</td>\n",
              "      <td>2017-11-17 21:54:48</td>\n",
              "    </tr>\n",
              "    <tr>\n",
              "      <th>28534</th>\n",
              "      <td>bb3b79a438775aaf55fba02bdc8b82f1</td>\n",
              "      <td>b72bd7bf1e84a4cde235a7ffcc7542ca</td>\n",
              "      <td>5</td>\n",
              "      <td>NaN</td>\n",
              "      <td>NaN</td>\n",
              "      <td>2018-06-15 00:00:00</td>\n",
              "      <td>2018-06-18 18:45:47</td>\n",
              "    </tr>\n",
              "    <tr>\n",
              "      <th>16794</th>\n",
              "      <td>8a7dcdd817130d26ccae5fa8eea9e015</td>\n",
              "      <td>7b4dd7a1e967f3c305574c48bf4045f5</td>\n",
              "      <td>4</td>\n",
              "      <td>NaN</td>\n",
              "      <td>NaN</td>\n",
              "      <td>2018-07-22 00:00:00</td>\n",
              "      <td>2018-07-26 01:08:48</td>\n",
              "    </tr>\n",
              "  </tbody>\n",
              "</table>\n",
              "</div>"
            ],
            "text/plain": [
              "                              review_id                          order_id  \\\n",
              "12547  a1e32c2bbb631985ee5d3ef4633ea138  fa73021d06471826a5740f3188024ce2   \n",
              "88072  331f70956c1eead801a47bb8f96e81f5  a46673a644bf3ee145a6afe288ed3e92   \n",
              "17595  dc4ca62cd3baf3b7e965e30d859d54d5  5845efeb1a7164fc3885f465a37ebd46   \n",
              "28534  bb3b79a438775aaf55fba02bdc8b82f1  b72bd7bf1e84a4cde235a7ffcc7542ca   \n",
              "16794  8a7dcdd817130d26ccae5fa8eea9e015  7b4dd7a1e967f3c305574c48bf4045f5   \n",
              "\n",
              "       review_score review_comment_title  \\\n",
              "12547             4            Recomendo   \n",
              "88072             5                  NaN   \n",
              "17595             5                  NaN   \n",
              "28534             5                  NaN   \n",
              "16794             4                  NaN   \n",
              "\n",
              "                          review_comment_message review_creation_date  \\\n",
              "12547         Entrega rápida, sem complicações !  2018-07-05 00:00:00   \n",
              "88072                                        NaN  2018-03-21 00:00:00   \n",
              "17595  Ótima loja e o brinquedo meu filho adoro   2017-11-15 00:00:00   \n",
              "28534                                        NaN  2018-06-15 00:00:00   \n",
              "16794                                        NaN  2018-07-22 00:00:00   \n",
              "\n",
              "      review_answer_timestamp  \n",
              "12547     2018-07-05 17:59:56  \n",
              "88072     2018-03-22 00:24:07  \n",
              "17595     2017-11-17 21:54:48  \n",
              "28534     2018-06-18 18:45:47  \n",
              "16794     2018-07-26 01:08:48  "
            ]
          },
          "execution_count": 246,
          "metadata": {},
          "output_type": "execute_result"
        }
      ],
      "source": [
        "order_reviews.sample(5)"
      ]
    },
    {
      "cell_type": "code",
      "execution_count": 247,
      "metadata": {},
      "outputs": [
        {
          "data": {
            "text/plain": [
              "(99224, 7)"
            ]
          },
          "execution_count": 247,
          "metadata": {},
          "output_type": "execute_result"
        }
      ],
      "source": [
        "order_reviews.shape"
      ]
    },
    {
      "cell_type": "code",
      "execution_count": 248,
      "metadata": {},
      "outputs": [
        {
          "name": "stdout",
          "output_type": "stream",
          "text": [
            "<class 'pandas.core.frame.DataFrame'>\n",
            "RangeIndex: 99224 entries, 0 to 99223\n",
            "Data columns (total 7 columns):\n",
            " #   Column                   Non-Null Count  Dtype \n",
            "---  ------                   --------------  ----- \n",
            " 0   review_id                99224 non-null  object\n",
            " 1   order_id                 99224 non-null  object\n",
            " 2   review_score             99224 non-null  int64 \n",
            " 3   review_comment_title     11568 non-null  object\n",
            " 4   review_comment_message   40977 non-null  object\n",
            " 5   review_creation_date     99224 non-null  object\n",
            " 6   review_answer_timestamp  99224 non-null  object\n",
            "dtypes: int64(1), object(6)\n",
            "memory usage: 5.3+ MB\n"
          ]
        }
      ],
      "source": [
        "order_reviews.info()"
      ]
    },
    {
      "cell_type": "code",
      "execution_count": 249,
      "metadata": {},
      "outputs": [
        {
          "data": {
            "text/html": [
              "<div>\n",
              "<style scoped>\n",
              "    .dataframe tbody tr th:only-of-type {\n",
              "        vertical-align: middle;\n",
              "    }\n",
              "\n",
              "    .dataframe tbody tr th {\n",
              "        vertical-align: top;\n",
              "    }\n",
              "\n",
              "    .dataframe thead th {\n",
              "        text-align: right;\n",
              "    }\n",
              "</style>\n",
              "<table border=\"1\" class=\"dataframe\">\n",
              "  <thead>\n",
              "    <tr style=\"text-align: right;\">\n",
              "      <th></th>\n",
              "      <th>review_score</th>\n",
              "    </tr>\n",
              "  </thead>\n",
              "  <tbody>\n",
              "    <tr>\n",
              "      <th>count</th>\n",
              "      <td>99224.000000</td>\n",
              "    </tr>\n",
              "    <tr>\n",
              "      <th>mean</th>\n",
              "      <td>4.086421</td>\n",
              "    </tr>\n",
              "    <tr>\n",
              "      <th>std</th>\n",
              "      <td>1.347579</td>\n",
              "    </tr>\n",
              "    <tr>\n",
              "      <th>min</th>\n",
              "      <td>1.000000</td>\n",
              "    </tr>\n",
              "    <tr>\n",
              "      <th>25%</th>\n",
              "      <td>4.000000</td>\n",
              "    </tr>\n",
              "    <tr>\n",
              "      <th>50%</th>\n",
              "      <td>5.000000</td>\n",
              "    </tr>\n",
              "    <tr>\n",
              "      <th>75%</th>\n",
              "      <td>5.000000</td>\n",
              "    </tr>\n",
              "    <tr>\n",
              "      <th>max</th>\n",
              "      <td>5.000000</td>\n",
              "    </tr>\n",
              "  </tbody>\n",
              "</table>\n",
              "</div>"
            ],
            "text/plain": [
              "       review_score\n",
              "count  99224.000000\n",
              "mean       4.086421\n",
              "std        1.347579\n",
              "min        1.000000\n",
              "25%        4.000000\n",
              "50%        5.000000\n",
              "75%        5.000000\n",
              "max        5.000000"
            ]
          },
          "execution_count": 249,
          "metadata": {},
          "output_type": "execute_result"
        }
      ],
      "source": [
        "order_reviews.describe()"
      ]
    },
    {
      "cell_type": "markdown",
      "metadata": {},
      "source": [
        "#### Orders"
      ]
    },
    {
      "cell_type": "code",
      "execution_count": 250,
      "metadata": {},
      "outputs": [
        {
          "data": {
            "text/html": [
              "<div>\n",
              "<style scoped>\n",
              "    .dataframe tbody tr th:only-of-type {\n",
              "        vertical-align: middle;\n",
              "    }\n",
              "\n",
              "    .dataframe tbody tr th {\n",
              "        vertical-align: top;\n",
              "    }\n",
              "\n",
              "    .dataframe thead th {\n",
              "        text-align: right;\n",
              "    }\n",
              "</style>\n",
              "<table border=\"1\" class=\"dataframe\">\n",
              "  <thead>\n",
              "    <tr style=\"text-align: right;\">\n",
              "      <th></th>\n",
              "      <th>order_id</th>\n",
              "      <th>customer_id</th>\n",
              "      <th>order_status</th>\n",
              "      <th>order_purchase_timestamp</th>\n",
              "      <th>order_approved_at</th>\n",
              "      <th>order_delivered_carrier_date</th>\n",
              "      <th>order_delivered_customer_date</th>\n",
              "      <th>order_estimated_delivery_date</th>\n",
              "    </tr>\n",
              "  </thead>\n",
              "  <tbody>\n",
              "    <tr>\n",
              "      <th>65771</th>\n",
              "      <td>8e037d22abe0755825b4a5bd17135b23</td>\n",
              "      <td>29bafca28f3133a6055dd58892615b55</td>\n",
              "      <td>delivered</td>\n",
              "      <td>2018-06-24 13:16:32</td>\n",
              "      <td>2018-06-24 13:34:01</td>\n",
              "      <td>2018-06-25 15:27:00</td>\n",
              "      <td>2018-06-28 14:32:20</td>\n",
              "      <td>2018-07-30 00:00:00</td>\n",
              "    </tr>\n",
              "    <tr>\n",
              "      <th>94436</th>\n",
              "      <td>b37a7e90838d63c38152d2f8c432a726</td>\n",
              "      <td>ff542e3cf0ba09909e8cfa4ea58186e1</td>\n",
              "      <td>delivered</td>\n",
              "      <td>2018-02-25 17:37:04</td>\n",
              "      <td>2018-02-27 04:31:04</td>\n",
              "      <td>2018-02-27 21:38:32</td>\n",
              "      <td>2018-03-15 19:11:43</td>\n",
              "      <td>2018-03-27 00:00:00</td>\n",
              "    </tr>\n",
              "    <tr>\n",
              "      <th>1411</th>\n",
              "      <td>6da34f9b88619e4ba847c49363dfb425</td>\n",
              "      <td>8ce4d77283bb19ebaedee1fb91fef7ba</td>\n",
              "      <td>delivered</td>\n",
              "      <td>2017-12-03 20:03:22</td>\n",
              "      <td>2017-12-03 20:13:44</td>\n",
              "      <td>2017-12-05 16:04:36</td>\n",
              "      <td>2017-12-13 21:19:02</td>\n",
              "      <td>2017-12-29 00:00:00</td>\n",
              "    </tr>\n",
              "    <tr>\n",
              "      <th>83445</th>\n",
              "      <td>5c70dd56919e4ecb33f8d48067944b48</td>\n",
              "      <td>a016fe5ee20067bbf94ab0b66438845a</td>\n",
              "      <td>delivered</td>\n",
              "      <td>2018-03-26 22:25:35</td>\n",
              "      <td>2018-03-28 02:50:25</td>\n",
              "      <td>2018-03-28 21:24:35</td>\n",
              "      <td>2018-04-17 22:46:23</td>\n",
              "      <td>2018-04-17 00:00:00</td>\n",
              "    </tr>\n",
              "    <tr>\n",
              "      <th>60865</th>\n",
              "      <td>6f6adb6239aa458699f94784b3bb978a</td>\n",
              "      <td>fe58bbe7df40b2146ac3b2c65852ee03</td>\n",
              "      <td>delivered</td>\n",
              "      <td>2018-08-07 23:19:34</td>\n",
              "      <td>2018-08-07 23:35:14</td>\n",
              "      <td>2018-08-08 16:13:00</td>\n",
              "      <td>2018-08-14 20:03:00</td>\n",
              "      <td>2018-08-23 00:00:00</td>\n",
              "    </tr>\n",
              "  </tbody>\n",
              "</table>\n",
              "</div>"
            ],
            "text/plain": [
              "                               order_id                       customer_id  \\\n",
              "65771  8e037d22abe0755825b4a5bd17135b23  29bafca28f3133a6055dd58892615b55   \n",
              "94436  b37a7e90838d63c38152d2f8c432a726  ff542e3cf0ba09909e8cfa4ea58186e1   \n",
              "1411   6da34f9b88619e4ba847c49363dfb425  8ce4d77283bb19ebaedee1fb91fef7ba   \n",
              "83445  5c70dd56919e4ecb33f8d48067944b48  a016fe5ee20067bbf94ab0b66438845a   \n",
              "60865  6f6adb6239aa458699f94784b3bb978a  fe58bbe7df40b2146ac3b2c65852ee03   \n",
              "\n",
              "      order_status order_purchase_timestamp    order_approved_at  \\\n",
              "65771    delivered      2018-06-24 13:16:32  2018-06-24 13:34:01   \n",
              "94436    delivered      2018-02-25 17:37:04  2018-02-27 04:31:04   \n",
              "1411     delivered      2017-12-03 20:03:22  2017-12-03 20:13:44   \n",
              "83445    delivered      2018-03-26 22:25:35  2018-03-28 02:50:25   \n",
              "60865    delivered      2018-08-07 23:19:34  2018-08-07 23:35:14   \n",
              "\n",
              "      order_delivered_carrier_date order_delivered_customer_date  \\\n",
              "65771          2018-06-25 15:27:00           2018-06-28 14:32:20   \n",
              "94436          2018-02-27 21:38:32           2018-03-15 19:11:43   \n",
              "1411           2017-12-05 16:04:36           2017-12-13 21:19:02   \n",
              "83445          2018-03-28 21:24:35           2018-04-17 22:46:23   \n",
              "60865          2018-08-08 16:13:00           2018-08-14 20:03:00   \n",
              "\n",
              "      order_estimated_delivery_date  \n",
              "65771           2018-07-30 00:00:00  \n",
              "94436           2018-03-27 00:00:00  \n",
              "1411            2017-12-29 00:00:00  \n",
              "83445           2018-04-17 00:00:00  \n",
              "60865           2018-08-23 00:00:00  "
            ]
          },
          "execution_count": 250,
          "metadata": {},
          "output_type": "execute_result"
        }
      ],
      "source": [
        "orders.sample(5)"
      ]
    },
    {
      "cell_type": "code",
      "execution_count": 251,
      "metadata": {},
      "outputs": [
        {
          "data": {
            "text/plain": [
              "(99441, 8)"
            ]
          },
          "execution_count": 251,
          "metadata": {},
          "output_type": "execute_result"
        }
      ],
      "source": [
        "orders.shape"
      ]
    },
    {
      "cell_type": "code",
      "execution_count": 252,
      "metadata": {},
      "outputs": [
        {
          "name": "stdout",
          "output_type": "stream",
          "text": [
            "<class 'pandas.core.frame.DataFrame'>\n",
            "RangeIndex: 99441 entries, 0 to 99440\n",
            "Data columns (total 8 columns):\n",
            " #   Column                         Non-Null Count  Dtype \n",
            "---  ------                         --------------  ----- \n",
            " 0   order_id                       99441 non-null  object\n",
            " 1   customer_id                    99441 non-null  object\n",
            " 2   order_status                   99441 non-null  object\n",
            " 3   order_purchase_timestamp       99441 non-null  object\n",
            " 4   order_approved_at              99281 non-null  object\n",
            " 5   order_delivered_carrier_date   97658 non-null  object\n",
            " 6   order_delivered_customer_date  96476 non-null  object\n",
            " 7   order_estimated_delivery_date  99441 non-null  object\n",
            "dtypes: object(8)\n",
            "memory usage: 6.1+ MB\n"
          ]
        }
      ],
      "source": [
        "orders.info()"
      ]
    },
    {
      "cell_type": "code",
      "execution_count": 253,
      "metadata": {},
      "outputs": [
        {
          "name": "stdout",
          "output_type": "stream",
          "text": [
            "<class 'pandas.core.frame.DataFrame'>\n",
            "RangeIndex: 99441 entries, 0 to 99440\n",
            "Data columns (total 8 columns):\n",
            " #   Column                         Non-Null Count  Dtype         \n",
            "---  ------                         --------------  -----         \n",
            " 0   order_id                       99441 non-null  object        \n",
            " 1   customer_id                    99441 non-null  object        \n",
            " 2   order_status                   99441 non-null  object        \n",
            " 3   order_purchase_timestamp       99441 non-null  datetime64[ns]\n",
            " 4   order_approved_at              99281 non-null  datetime64[ns]\n",
            " 5   order_delivered_carrier_date   97658 non-null  datetime64[ns]\n",
            " 6   order_delivered_customer_date  96476 non-null  datetime64[ns]\n",
            " 7   order_estimated_delivery_date  99441 non-null  datetime64[ns]\n",
            "dtypes: datetime64[ns](5), object(3)\n",
            "memory usage: 6.1+ MB\n"
          ]
        }
      ],
      "source": [
        "cols = ['order_purchase_timestamp','order_delivered_carrier_date','order_approved_at','order_delivered_customer_date','order_estimated_delivery_date']\n",
        "\n",
        "for c in cols:\n",
        "    orders[c] = pd.to_datetime(orders[c])\n",
        "\n",
        "orders.info()"
      ]
    },
    {
      "cell_type": "code",
      "execution_count": 254,
      "metadata": {},
      "outputs": [
        {
          "data": {
            "text/plain": [
              "order_id                            0\n",
              "customer_id                         0\n",
              "order_status                        0\n",
              "order_purchase_timestamp            0\n",
              "order_approved_at                 160\n",
              "order_delivered_carrier_date     1783\n",
              "order_delivered_customer_date    2965\n",
              "order_estimated_delivery_date       0\n",
              "dtype: int64"
            ]
          },
          "execution_count": 254,
          "metadata": {},
          "output_type": "execute_result"
        }
      ],
      "source": [
        "orders.isnull().sum()"
      ]
    },
    {
      "cell_type": "markdown",
      "metadata": {},
      "source": [
        "#### Product Category Name Translation"
      ]
    },
    {
      "cell_type": "code",
      "execution_count": 255,
      "metadata": {},
      "outputs": [
        {
          "data": {
            "text/html": [
              "<div>\n",
              "<style scoped>\n",
              "    .dataframe tbody tr th:only-of-type {\n",
              "        vertical-align: middle;\n",
              "    }\n",
              "\n",
              "    .dataframe tbody tr th {\n",
              "        vertical-align: top;\n",
              "    }\n",
              "\n",
              "    .dataframe thead th {\n",
              "        text-align: right;\n",
              "    }\n",
              "</style>\n",
              "<table border=\"1\" class=\"dataframe\">\n",
              "  <thead>\n",
              "    <tr style=\"text-align: right;\">\n",
              "      <th></th>\n",
              "      <th>product_category_name</th>\n",
              "      <th>product_category_name_english</th>\n",
              "    </tr>\n",
              "  </thead>\n",
              "  <tbody>\n",
              "    <tr>\n",
              "      <th>63</th>\n",
              "      <td>portateis_casa_forno_e_cafe</td>\n",
              "      <td>small_appliances_home_oven_and_coffee</td>\n",
              "    </tr>\n",
              "    <tr>\n",
              "      <th>67</th>\n",
              "      <td>artes_e_artesanato</td>\n",
              "      <td>arts_and_craftmanship</td>\n",
              "    </tr>\n",
              "    <tr>\n",
              "      <th>32</th>\n",
              "      <td>eletronicos</td>\n",
              "      <td>electronics</td>\n",
              "    </tr>\n",
              "    <tr>\n",
              "      <th>12</th>\n",
              "      <td>papelaria</td>\n",
              "      <td>stationery</td>\n",
              "    </tr>\n",
              "    <tr>\n",
              "      <th>29</th>\n",
              "      <td>pet_shop</td>\n",
              "      <td>pet_shop</td>\n",
              "    </tr>\n",
              "  </tbody>\n",
              "</table>\n",
              "</div>"
            ],
            "text/plain": [
              "          product_category_name          product_category_name_english\n",
              "63  portateis_casa_forno_e_cafe  small_appliances_home_oven_and_coffee\n",
              "67           artes_e_artesanato                  arts_and_craftmanship\n",
              "32                  eletronicos                            electronics\n",
              "12                    papelaria                             stationery\n",
              "29                     pet_shop                               pet_shop"
            ]
          },
          "execution_count": 255,
          "metadata": {},
          "output_type": "execute_result"
        }
      ],
      "source": [
        "product_cat_name.sample(5)"
      ]
    },
    {
      "cell_type": "code",
      "execution_count": 256,
      "metadata": {},
      "outputs": [
        {
          "data": {
            "text/plain": [
              "(71, 2)"
            ]
          },
          "execution_count": 256,
          "metadata": {},
          "output_type": "execute_result"
        }
      ],
      "source": [
        "product_cat_name.shape"
      ]
    },
    {
      "cell_type": "code",
      "execution_count": 257,
      "metadata": {},
      "outputs": [
        {
          "name": "stdout",
          "output_type": "stream",
          "text": [
            "<class 'pandas.core.frame.DataFrame'>\n",
            "RangeIndex: 71 entries, 0 to 70\n",
            "Data columns (total 2 columns):\n",
            " #   Column                         Non-Null Count  Dtype \n",
            "---  ------                         --------------  ----- \n",
            " 0   product_category_name          71 non-null     object\n",
            " 1   product_category_name_english  71 non-null     object\n",
            "dtypes: object(2)\n",
            "memory usage: 1.2+ KB\n"
          ]
        }
      ],
      "source": [
        "product_cat_name.info()"
      ]
    },
    {
      "cell_type": "markdown",
      "metadata": {},
      "source": [
        "#### Products"
      ]
    },
    {
      "cell_type": "code",
      "execution_count": 258,
      "metadata": {},
      "outputs": [
        {
          "data": {
            "text/html": [
              "<div>\n",
              "<style scoped>\n",
              "    .dataframe tbody tr th:only-of-type {\n",
              "        vertical-align: middle;\n",
              "    }\n",
              "\n",
              "    .dataframe tbody tr th {\n",
              "        vertical-align: top;\n",
              "    }\n",
              "\n",
              "    .dataframe thead th {\n",
              "        text-align: right;\n",
              "    }\n",
              "</style>\n",
              "<table border=\"1\" class=\"dataframe\">\n",
              "  <thead>\n",
              "    <tr style=\"text-align: right;\">\n",
              "      <th></th>\n",
              "      <th>product_id</th>\n",
              "      <th>product_category_name</th>\n",
              "      <th>product_name_lenght</th>\n",
              "      <th>product_description_lenght</th>\n",
              "      <th>product_photos_qty</th>\n",
              "      <th>product_weight_g</th>\n",
              "      <th>product_length_cm</th>\n",
              "      <th>product_height_cm</th>\n",
              "      <th>product_width_cm</th>\n",
              "    </tr>\n",
              "  </thead>\n",
              "  <tbody>\n",
              "    <tr>\n",
              "      <th>2300</th>\n",
              "      <td>b8fdfcbb0ed03c62d197327a56593842</td>\n",
              "      <td>esporte_lazer</td>\n",
              "      <td>42.0</td>\n",
              "      <td>852.0</td>\n",
              "      <td>2.0</td>\n",
              "      <td>1400.0</td>\n",
              "      <td>16.0</td>\n",
              "      <td>12.0</td>\n",
              "      <td>11.0</td>\n",
              "    </tr>\n",
              "    <tr>\n",
              "      <th>24973</th>\n",
              "      <td>40057bb8798f91bc5835fe774b8b4c36</td>\n",
              "      <td>utilidades_domesticas</td>\n",
              "      <td>49.0</td>\n",
              "      <td>707.0</td>\n",
              "      <td>2.0</td>\n",
              "      <td>800.0</td>\n",
              "      <td>25.0</td>\n",
              "      <td>8.0</td>\n",
              "      <td>15.0</td>\n",
              "    </tr>\n",
              "    <tr>\n",
              "      <th>7146</th>\n",
              "      <td>92fc46ca7d96704d71f84ed65943a0c1</td>\n",
              "      <td>bebes</td>\n",
              "      <td>30.0</td>\n",
              "      <td>430.0</td>\n",
              "      <td>3.0</td>\n",
              "      <td>1500.0</td>\n",
              "      <td>16.0</td>\n",
              "      <td>29.0</td>\n",
              "      <td>42.0</td>\n",
              "    </tr>\n",
              "    <tr>\n",
              "      <th>5041</th>\n",
              "      <td>d2e79198b51c33512670c0a652c1a27f</td>\n",
              "      <td>artigos_de_natal</td>\n",
              "      <td>46.0</td>\n",
              "      <td>1030.0</td>\n",
              "      <td>1.0</td>\n",
              "      <td>2850.0</td>\n",
              "      <td>30.0</td>\n",
              "      <td>12.0</td>\n",
              "      <td>40.0</td>\n",
              "    </tr>\n",
              "    <tr>\n",
              "      <th>5707</th>\n",
              "      <td>7a8dfec813ae58cfaa3e1ef9f534adab</td>\n",
              "      <td>utilidades_domesticas</td>\n",
              "      <td>36.0</td>\n",
              "      <td>508.0</td>\n",
              "      <td>2.0</td>\n",
              "      <td>1200.0</td>\n",
              "      <td>33.0</td>\n",
              "      <td>10.0</td>\n",
              "      <td>30.0</td>\n",
              "    </tr>\n",
              "  </tbody>\n",
              "</table>\n",
              "</div>"
            ],
            "text/plain": [
              "                             product_id  product_category_name  \\\n",
              "2300   b8fdfcbb0ed03c62d197327a56593842          esporte_lazer   \n",
              "24973  40057bb8798f91bc5835fe774b8b4c36  utilidades_domesticas   \n",
              "7146   92fc46ca7d96704d71f84ed65943a0c1                  bebes   \n",
              "5041   d2e79198b51c33512670c0a652c1a27f       artigos_de_natal   \n",
              "5707   7a8dfec813ae58cfaa3e1ef9f534adab  utilidades_domesticas   \n",
              "\n",
              "       product_name_lenght  product_description_lenght  product_photos_qty  \\\n",
              "2300                  42.0                       852.0                 2.0   \n",
              "24973                 49.0                       707.0                 2.0   \n",
              "7146                  30.0                       430.0                 3.0   \n",
              "5041                  46.0                      1030.0                 1.0   \n",
              "5707                  36.0                       508.0                 2.0   \n",
              "\n",
              "       product_weight_g  product_length_cm  product_height_cm  \\\n",
              "2300             1400.0               16.0               12.0   \n",
              "24973             800.0               25.0                8.0   \n",
              "7146             1500.0               16.0               29.0   \n",
              "5041             2850.0               30.0               12.0   \n",
              "5707             1200.0               33.0               10.0   \n",
              "\n",
              "       product_width_cm  \n",
              "2300               11.0  \n",
              "24973              15.0  \n",
              "7146               42.0  \n",
              "5041               40.0  \n",
              "5707               30.0  "
            ]
          },
          "execution_count": 258,
          "metadata": {},
          "output_type": "execute_result"
        }
      ],
      "source": [
        "products.sample(5)"
      ]
    },
    {
      "cell_type": "code",
      "execution_count": 259,
      "metadata": {},
      "outputs": [
        {
          "data": {
            "text/plain": [
              "(32951, 9)"
            ]
          },
          "execution_count": 259,
          "metadata": {},
          "output_type": "execute_result"
        }
      ],
      "source": [
        "products.shape"
      ]
    },
    {
      "cell_type": "code",
      "execution_count": 260,
      "metadata": {},
      "outputs": [
        {
          "name": "stdout",
          "output_type": "stream",
          "text": [
            "<class 'pandas.core.frame.DataFrame'>\n",
            "RangeIndex: 32951 entries, 0 to 32950\n",
            "Data columns (total 9 columns):\n",
            " #   Column                      Non-Null Count  Dtype  \n",
            "---  ------                      --------------  -----  \n",
            " 0   product_id                  32951 non-null  object \n",
            " 1   product_category_name       32341 non-null  object \n",
            " 2   product_name_lenght         32341 non-null  float64\n",
            " 3   product_description_lenght  32341 non-null  float64\n",
            " 4   product_photos_qty          32341 non-null  float64\n",
            " 5   product_weight_g            32949 non-null  float64\n",
            " 6   product_length_cm           32949 non-null  float64\n",
            " 7   product_height_cm           32949 non-null  float64\n",
            " 8   product_width_cm            32949 non-null  float64\n",
            "dtypes: float64(7), object(2)\n",
            "memory usage: 2.3+ MB\n"
          ]
        }
      ],
      "source": [
        "products.info()"
      ]
    },
    {
      "cell_type": "code",
      "execution_count": 261,
      "metadata": {},
      "outputs": [
        {
          "data": {
            "text/plain": [
              "product_id                      0\n",
              "product_category_name         610\n",
              "product_name_lenght           610\n",
              "product_description_lenght    610\n",
              "product_photos_qty            610\n",
              "product_weight_g                2\n",
              "product_length_cm               2\n",
              "product_height_cm               2\n",
              "product_width_cm                2\n",
              "dtype: int64"
            ]
          },
          "execution_count": 261,
          "metadata": {},
          "output_type": "execute_result"
        }
      ],
      "source": [
        "products.isnull().sum()"
      ]
    },
    {
      "cell_type": "code",
      "execution_count": 262,
      "metadata": {},
      "outputs": [
        {
          "data": {
            "text/html": [
              "<div>\n",
              "<style scoped>\n",
              "    .dataframe tbody tr th:only-of-type {\n",
              "        vertical-align: middle;\n",
              "    }\n",
              "\n",
              "    .dataframe tbody tr th {\n",
              "        vertical-align: top;\n",
              "    }\n",
              "\n",
              "    .dataframe thead th {\n",
              "        text-align: right;\n",
              "    }\n",
              "</style>\n",
              "<table border=\"1\" class=\"dataframe\">\n",
              "  <thead>\n",
              "    <tr style=\"text-align: right;\">\n",
              "      <th></th>\n",
              "      <th>product_name_lenght</th>\n",
              "      <th>product_description_lenght</th>\n",
              "      <th>product_photos_qty</th>\n",
              "      <th>product_weight_g</th>\n",
              "      <th>product_length_cm</th>\n",
              "      <th>product_height_cm</th>\n",
              "      <th>product_width_cm</th>\n",
              "    </tr>\n",
              "  </thead>\n",
              "  <tbody>\n",
              "    <tr>\n",
              "      <th>count</th>\n",
              "      <td>32341.000000</td>\n",
              "      <td>32341.000000</td>\n",
              "      <td>32341.000000</td>\n",
              "      <td>32949.000000</td>\n",
              "      <td>32949.000000</td>\n",
              "      <td>32949.000000</td>\n",
              "      <td>32949.000000</td>\n",
              "    </tr>\n",
              "    <tr>\n",
              "      <th>mean</th>\n",
              "      <td>48.476949</td>\n",
              "      <td>771.495285</td>\n",
              "      <td>2.188986</td>\n",
              "      <td>2276.472488</td>\n",
              "      <td>30.815078</td>\n",
              "      <td>16.937661</td>\n",
              "      <td>23.196728</td>\n",
              "    </tr>\n",
              "    <tr>\n",
              "      <th>std</th>\n",
              "      <td>10.245741</td>\n",
              "      <td>635.115225</td>\n",
              "      <td>1.736766</td>\n",
              "      <td>4282.038731</td>\n",
              "      <td>16.914458</td>\n",
              "      <td>13.637554</td>\n",
              "      <td>12.079047</td>\n",
              "    </tr>\n",
              "    <tr>\n",
              "      <th>min</th>\n",
              "      <td>5.000000</td>\n",
              "      <td>4.000000</td>\n",
              "      <td>1.000000</td>\n",
              "      <td>0.000000</td>\n",
              "      <td>7.000000</td>\n",
              "      <td>2.000000</td>\n",
              "      <td>6.000000</td>\n",
              "    </tr>\n",
              "    <tr>\n",
              "      <th>25%</th>\n",
              "      <td>42.000000</td>\n",
              "      <td>339.000000</td>\n",
              "      <td>1.000000</td>\n",
              "      <td>300.000000</td>\n",
              "      <td>18.000000</td>\n",
              "      <td>8.000000</td>\n",
              "      <td>15.000000</td>\n",
              "    </tr>\n",
              "    <tr>\n",
              "      <th>50%</th>\n",
              "      <td>51.000000</td>\n",
              "      <td>595.000000</td>\n",
              "      <td>1.000000</td>\n",
              "      <td>700.000000</td>\n",
              "      <td>25.000000</td>\n",
              "      <td>13.000000</td>\n",
              "      <td>20.000000</td>\n",
              "    </tr>\n",
              "    <tr>\n",
              "      <th>75%</th>\n",
              "      <td>57.000000</td>\n",
              "      <td>972.000000</td>\n",
              "      <td>3.000000</td>\n",
              "      <td>1900.000000</td>\n",
              "      <td>38.000000</td>\n",
              "      <td>21.000000</td>\n",
              "      <td>30.000000</td>\n",
              "    </tr>\n",
              "    <tr>\n",
              "      <th>max</th>\n",
              "      <td>76.000000</td>\n",
              "      <td>3992.000000</td>\n",
              "      <td>20.000000</td>\n",
              "      <td>40425.000000</td>\n",
              "      <td>105.000000</td>\n",
              "      <td>105.000000</td>\n",
              "      <td>118.000000</td>\n",
              "    </tr>\n",
              "  </tbody>\n",
              "</table>\n",
              "</div>"
            ],
            "text/plain": [
              "       product_name_lenght  product_description_lenght  product_photos_qty  \\\n",
              "count         32341.000000                32341.000000        32341.000000   \n",
              "mean             48.476949                  771.495285            2.188986   \n",
              "std              10.245741                  635.115225            1.736766   \n",
              "min               5.000000                    4.000000            1.000000   \n",
              "25%              42.000000                  339.000000            1.000000   \n",
              "50%              51.000000                  595.000000            1.000000   \n",
              "75%              57.000000                  972.000000            3.000000   \n",
              "max              76.000000                 3992.000000           20.000000   \n",
              "\n",
              "       product_weight_g  product_length_cm  product_height_cm  \\\n",
              "count      32949.000000       32949.000000       32949.000000   \n",
              "mean        2276.472488          30.815078          16.937661   \n",
              "std         4282.038731          16.914458          13.637554   \n",
              "min            0.000000           7.000000           2.000000   \n",
              "25%          300.000000          18.000000           8.000000   \n",
              "50%          700.000000          25.000000          13.000000   \n",
              "75%         1900.000000          38.000000          21.000000   \n",
              "max        40425.000000         105.000000         105.000000   \n",
              "\n",
              "       product_width_cm  \n",
              "count      32949.000000  \n",
              "mean          23.196728  \n",
              "std           12.079047  \n",
              "min            6.000000  \n",
              "25%           15.000000  \n",
              "50%           20.000000  \n",
              "75%           30.000000  \n",
              "max          118.000000  "
            ]
          },
          "execution_count": 262,
          "metadata": {},
          "output_type": "execute_result"
        }
      ],
      "source": [
        "products.describe()"
      ]
    },
    {
      "cell_type": "code",
      "execution_count": 263,
      "metadata": {},
      "outputs": [
        {
          "data": {
            "text/html": [
              "<div>\n",
              "<style scoped>\n",
              "    .dataframe tbody tr th:only-of-type {\n",
              "        vertical-align: middle;\n",
              "    }\n",
              "\n",
              "    .dataframe tbody tr th {\n",
              "        vertical-align: top;\n",
              "    }\n",
              "\n",
              "    .dataframe thead th {\n",
              "        text-align: right;\n",
              "    }\n",
              "</style>\n",
              "<table border=\"1\" class=\"dataframe\">\n",
              "  <thead>\n",
              "    <tr style=\"text-align: right;\">\n",
              "      <th></th>\n",
              "      <th>product_id</th>\n",
              "      <th>product_category_name</th>\n",
              "      <th>product_name_lenght</th>\n",
              "      <th>product_description_lenght</th>\n",
              "      <th>product_photos_qty</th>\n",
              "      <th>product_weight_g</th>\n",
              "      <th>product_length_cm</th>\n",
              "      <th>product_height_cm</th>\n",
              "      <th>product_width_cm</th>\n",
              "    </tr>\n",
              "  </thead>\n",
              "  <tbody>\n",
              "    <tr>\n",
              "      <th>11975</th>\n",
              "      <td>1fbeaaa01377d3f600de52f455ef578c</td>\n",
              "      <td>cama_mesa_banho</td>\n",
              "      <td>55.0</td>\n",
              "      <td>664.0</td>\n",
              "      <td>1.0</td>\n",
              "      <td>2800.0</td>\n",
              "      <td>44.0</td>\n",
              "      <td>10.0</td>\n",
              "      <td>34.0</td>\n",
              "    </tr>\n",
              "  </tbody>\n",
              "</table>\n",
              "</div>"
            ],
            "text/plain": [
              "                             product_id product_category_name  \\\n",
              "11975  1fbeaaa01377d3f600de52f455ef578c       cama_mesa_banho   \n",
              "\n",
              "       product_name_lenght  product_description_lenght  product_photos_qty  \\\n",
              "11975                 55.0                       664.0                 1.0   \n",
              "\n",
              "       product_weight_g  product_length_cm  product_height_cm  \\\n",
              "11975            2800.0               44.0               10.0   \n",
              "\n",
              "       product_width_cm  \n",
              "11975              34.0  "
            ]
          },
          "execution_count": 263,
          "metadata": {},
          "output_type": "execute_result"
        }
      ],
      "source": [
        "products[products.product_id == '1fbeaaa01377d3f600de52f455ef578c']"
      ]
    },
    {
      "cell_type": "markdown",
      "metadata": {},
      "source": [
        "#### Sellers"
      ]
    },
    {
      "cell_type": "code",
      "execution_count": 264,
      "metadata": {},
      "outputs": [
        {
          "data": {
            "text/html": [
              "<div>\n",
              "<style scoped>\n",
              "    .dataframe tbody tr th:only-of-type {\n",
              "        vertical-align: middle;\n",
              "    }\n",
              "\n",
              "    .dataframe tbody tr th {\n",
              "        vertical-align: top;\n",
              "    }\n",
              "\n",
              "    .dataframe thead th {\n",
              "        text-align: right;\n",
              "    }\n",
              "</style>\n",
              "<table border=\"1\" class=\"dataframe\">\n",
              "  <thead>\n",
              "    <tr style=\"text-align: right;\">\n",
              "      <th></th>\n",
              "      <th>seller_id</th>\n",
              "      <th>seller_zip_code_prefix</th>\n",
              "      <th>seller_city</th>\n",
              "      <th>seller_state</th>\n",
              "    </tr>\n",
              "  </thead>\n",
              "  <tbody>\n",
              "    <tr>\n",
              "      <th>889</th>\n",
              "      <td>2089a6d640999f9b9141ac719b2af596</td>\n",
              "      <td>13566</td>\n",
              "      <td>sao carlos</td>\n",
              "      <td>SP</td>\n",
              "    </tr>\n",
              "    <tr>\n",
              "      <th>137</th>\n",
              "      <td>34aefe746cd81b7f3b23253ea28bef39</td>\n",
              "      <td>81210</td>\n",
              "      <td>curitiba</td>\n",
              "      <td>PR</td>\n",
              "    </tr>\n",
              "    <tr>\n",
              "      <th>1216</th>\n",
              "      <td>c0e0b73d039eb9a99b6ce4cb7a429cd3</td>\n",
              "      <td>89170</td>\n",
              "      <td>laurentino</td>\n",
              "      <td>SC</td>\n",
              "    </tr>\n",
              "    <tr>\n",
              "      <th>1273</th>\n",
              "      <td>70c27847eca8195c983ed7e798c56743</td>\n",
              "      <td>20930</td>\n",
              "      <td>rio de janeiro</td>\n",
              "      <td>RJ</td>\n",
              "    </tr>\n",
              "    <tr>\n",
              "      <th>1614</th>\n",
              "      <td>ae9690c6e8fee182c28c9ff8e11ca52c</td>\n",
              "      <td>4361</td>\n",
              "      <td>sao paulo</td>\n",
              "      <td>SP</td>\n",
              "    </tr>\n",
              "  </tbody>\n",
              "</table>\n",
              "</div>"
            ],
            "text/plain": [
              "                             seller_id  seller_zip_code_prefix  \\\n",
              "889   2089a6d640999f9b9141ac719b2af596                   13566   \n",
              "137   34aefe746cd81b7f3b23253ea28bef39                   81210   \n",
              "1216  c0e0b73d039eb9a99b6ce4cb7a429cd3                   89170   \n",
              "1273  70c27847eca8195c983ed7e798c56743                   20930   \n",
              "1614  ae9690c6e8fee182c28c9ff8e11ca52c                    4361   \n",
              "\n",
              "         seller_city seller_state  \n",
              "889       sao carlos           SP  \n",
              "137         curitiba           PR  \n",
              "1216      laurentino           SC  \n",
              "1273  rio de janeiro           RJ  \n",
              "1614       sao paulo           SP  "
            ]
          },
          "execution_count": 264,
          "metadata": {},
          "output_type": "execute_result"
        }
      ],
      "source": [
        "sellers.sample(5)"
      ]
    },
    {
      "cell_type": "code",
      "execution_count": 265,
      "metadata": {},
      "outputs": [
        {
          "data": {
            "text/plain": [
              "(3095, 4)"
            ]
          },
          "execution_count": 265,
          "metadata": {},
          "output_type": "execute_result"
        }
      ],
      "source": [
        "sellers.shape"
      ]
    },
    {
      "cell_type": "code",
      "execution_count": 266,
      "metadata": {},
      "outputs": [
        {
          "name": "stdout",
          "output_type": "stream",
          "text": [
            "<class 'pandas.core.frame.DataFrame'>\n",
            "RangeIndex: 3095 entries, 0 to 3094\n",
            "Data columns (total 4 columns):\n",
            " #   Column                  Non-Null Count  Dtype \n",
            "---  ------                  --------------  ----- \n",
            " 0   seller_id               3095 non-null   object\n",
            " 1   seller_zip_code_prefix  3095 non-null   int64 \n",
            " 2   seller_city             3095 non-null   object\n",
            " 3   seller_state            3095 non-null   object\n",
            "dtypes: int64(1), object(3)\n",
            "memory usage: 96.8+ KB\n"
          ]
        }
      ],
      "source": [
        "sellers.info()"
      ]
    },
    {
      "cell_type": "markdown",
      "metadata": {
        "id": "Uz5dgcJm9HW5"
      },
      "source": [
        "### Cleaning Data"
      ]
    },
    {
      "cell_type": "code",
      "execution_count": 267,
      "metadata": {
        "id": "CCszTdXD9Ivf"
      },
      "outputs": [],
      "source": [
        "# change data type on Order Items of shipping_limit_date to date\n",
        "order_items.shipping_limit_date = pd.to_datetime(order_items['shipping_limit_date'])\n",
        "\n",
        "# change data type on order review of the review_creation_date and review_answer_timestamp to date \n",
        "order_reviews.review_creation_date = pd.to_datetime(order_reviews.review_creation_date)\n",
        "order_reviews.review_answer_timestamp = pd.to_datetime(order_reviews.review_answer_timestamp)\n",
        "\n",
        "# change data type on Orders of the order_purchase_timestamp, order_approved_at, order_delivered_carrier_date, \n",
        "# order_delivered_customer_date, order_estimated_delivery_date to date \n",
        "# orders.order_purchase_timestamp = pd.to_datetime(orders.order_purchase_timestamp.str.strip())\n",
        "# orders.order_approved_at = pd.to_datetime(orders.order_approved_at.str.strip())\n",
        "# orders.order_delivered_carrier_date = pd.to_datetime(orders.order_delivered_carrier_date.str.strip())\n",
        "# orders.order_delivered_customer_date = pd.to_datetime(orders.order_delivered_customer_date.str.strip())\n",
        "# orders.order_estimated_delivery_date = pd.to_datetime(orders.order_estimated_delivery_date.str.strip())\n"
      ]
    },
    {
      "cell_type": "code",
      "execution_count": 268,
      "metadata": {},
      "outputs": [],
      "source": [
        "# cleaning null value on Orders dataset (99441, 8)\n",
        "# orders.isnull().sum()\n",
        "# orders.dropna(subset=['order_approved_at','order_delivered_carrier_date','order_delivered_customer_date'], inplace=True)\n",
        "\n",
        "# cleaning null value on Products dataset (32951, 9)\n",
        "# products.isnull().sum()\n",
        "# products.dropna(inplace=True)"
      ]
    },
    {
      "cell_type": "code",
      "execution_count": 269,
      "metadata": {},
      "outputs": [
        {
          "name": "stdout",
          "output_type": "stream",
          "text": [
            "order (99441, 8) & products (32951, 9)\n"
          ]
        }
      ],
      "source": [
        "print(f'order {orders.shape} & products {products.shape}')"
      ]
    },
    {
      "cell_type": "markdown",
      "metadata": {
        "id": "EyPJaCDm9KFb"
      },
      "source": [
        "## Exploratory Data Analysis (EDA)"
      ]
    },
    {
      "cell_type": "markdown",
      "metadata": {
        "id": "hxgJ6qd69Mce"
      },
      "source": [
        "#### Explore Customer"
      ]
    },
    {
      "cell_type": "code",
      "execution_count": 270,
      "metadata": {
        "id": "Xo68yguo9LTl"
      },
      "outputs": [
        {
          "data": {
            "text/html": [
              "<div>\n",
              "<style scoped>\n",
              "    .dataframe tbody tr th:only-of-type {\n",
              "        vertical-align: middle;\n",
              "    }\n",
              "\n",
              "    .dataframe tbody tr th {\n",
              "        vertical-align: top;\n",
              "    }\n",
              "\n",
              "    .dataframe thead th {\n",
              "        text-align: right;\n",
              "    }\n",
              "</style>\n",
              "<table border=\"1\" class=\"dataframe\">\n",
              "  <thead>\n",
              "    <tr style=\"text-align: right;\">\n",
              "      <th></th>\n",
              "      <th>customer_id</th>\n",
              "      <th>customer_unique_id</th>\n",
              "      <th>customer_zip_code_prefix</th>\n",
              "      <th>customer_city</th>\n",
              "      <th>customer_state</th>\n",
              "    </tr>\n",
              "  </thead>\n",
              "  <tbody>\n",
              "    <tr>\n",
              "      <th>59</th>\n",
              "      <td>a905baa530258422594f1b05615bd225</td>\n",
              "      <td>c80da60feddb7cf8325bd104032e314a</td>\n",
              "      <td>60140</td>\n",
              "      <td>fortaleza</td>\n",
              "      <td>CE</td>\n",
              "    </tr>\n",
              "    <tr>\n",
              "      <th>70</th>\n",
              "      <td>4c7241af24b5344cb01fe687643de4fe</td>\n",
              "      <td>b157c176c3fe04914fde33f2dc8b878a</td>\n",
              "      <td>60336</td>\n",
              "      <td>fortaleza</td>\n",
              "      <td>CE</td>\n",
              "    </tr>\n",
              "    <tr>\n",
              "      <th>103</th>\n",
              "      <td>126cf4e9fd189d2d64bc9b112fd6a5e8</td>\n",
              "      <td>90d479448b39ad9586d05da64cfb695b</td>\n",
              "      <td>62016</td>\n",
              "      <td>sobral</td>\n",
              "      <td>CE</td>\n",
              "    </tr>\n",
              "    <tr>\n",
              "      <th>303</th>\n",
              "      <td>3aec4688b93d6061ec5061721ad493a7</td>\n",
              "      <td>7b0cae22ae2b6cf88163a50600da4ee2</td>\n",
              "      <td>60181</td>\n",
              "      <td>fortaleza</td>\n",
              "      <td>CE</td>\n",
              "    </tr>\n",
              "    <tr>\n",
              "      <th>422</th>\n",
              "      <td>522a6e7c1f1f992ac81be6abefa46294</td>\n",
              "      <td>282ebddb3e85120b1652204758fc332b</td>\n",
              "      <td>60055</td>\n",
              "      <td>fortaleza</td>\n",
              "      <td>CE</td>\n",
              "    </tr>\n",
              "    <tr>\n",
              "      <th>...</th>\n",
              "      <td>...</td>\n",
              "      <td>...</td>\n",
              "      <td>...</td>\n",
              "      <td>...</td>\n",
              "      <td>...</td>\n",
              "    </tr>\n",
              "    <tr>\n",
              "      <th>99072</th>\n",
              "      <td>18e56af97c2f24afcfaf7aa97ad2b969</td>\n",
              "      <td>d9ff7e37d7bf448abb783a6e56462d93</td>\n",
              "      <td>63765</td>\n",
              "      <td>sucesso</td>\n",
              "      <td>CE</td>\n",
              "    </tr>\n",
              "    <tr>\n",
              "      <th>99171</th>\n",
              "      <td>3218724bc18c442e58bd39608b0f100a</td>\n",
              "      <td>d9151698fc7193669598995a4c6f494f</td>\n",
              "      <td>62800</td>\n",
              "      <td>aracati</td>\n",
              "      <td>CE</td>\n",
              "    </tr>\n",
              "    <tr>\n",
              "      <th>99328</th>\n",
              "      <td>1e03a2aa5714007700c8e727849cf123</td>\n",
              "      <td>54a2d9cbeb08a11268085529cfe2524f</td>\n",
              "      <td>60440</td>\n",
              "      <td>fortaleza</td>\n",
              "      <td>CE</td>\n",
              "    </tr>\n",
              "    <tr>\n",
              "      <th>99343</th>\n",
              "      <td>9289d8bcd95805bc1ac27c949a99da98</td>\n",
              "      <td>ec8aaeb3869352e348097f26f4c49ee3</td>\n",
              "      <td>60864</td>\n",
              "      <td>fortaleza</td>\n",
              "      <td>CE</td>\n",
              "    </tr>\n",
              "    <tr>\n",
              "      <th>99438</th>\n",
              "      <td>5e28dfe12db7fb50a4b2f691faecea5e</td>\n",
              "      <td>e9f50caf99f032f0bf3c55141f019d99</td>\n",
              "      <td>60115</td>\n",
              "      <td>fortaleza</td>\n",
              "      <td>CE</td>\n",
              "    </tr>\n",
              "  </tbody>\n",
              "</table>\n",
              "<p>1336 rows × 5 columns</p>\n",
              "</div>"
            ],
            "text/plain": [
              "                            customer_id                customer_unique_id  \\\n",
              "59     a905baa530258422594f1b05615bd225  c80da60feddb7cf8325bd104032e314a   \n",
              "70     4c7241af24b5344cb01fe687643de4fe  b157c176c3fe04914fde33f2dc8b878a   \n",
              "103    126cf4e9fd189d2d64bc9b112fd6a5e8  90d479448b39ad9586d05da64cfb695b   \n",
              "303    3aec4688b93d6061ec5061721ad493a7  7b0cae22ae2b6cf88163a50600da4ee2   \n",
              "422    522a6e7c1f1f992ac81be6abefa46294  282ebddb3e85120b1652204758fc332b   \n",
              "...                                 ...                               ...   \n",
              "99072  18e56af97c2f24afcfaf7aa97ad2b969  d9ff7e37d7bf448abb783a6e56462d93   \n",
              "99171  3218724bc18c442e58bd39608b0f100a  d9151698fc7193669598995a4c6f494f   \n",
              "99328  1e03a2aa5714007700c8e727849cf123  54a2d9cbeb08a11268085529cfe2524f   \n",
              "99343  9289d8bcd95805bc1ac27c949a99da98  ec8aaeb3869352e348097f26f4c49ee3   \n",
              "99438  5e28dfe12db7fb50a4b2f691faecea5e  e9f50caf99f032f0bf3c55141f019d99   \n",
              "\n",
              "       customer_zip_code_prefix customer_city customer_state  \n",
              "59                        60140     fortaleza             CE  \n",
              "70                        60336     fortaleza             CE  \n",
              "103                       62016        sobral             CE  \n",
              "303                       60181     fortaleza             CE  \n",
              "422                       60055     fortaleza             CE  \n",
              "...                         ...           ...            ...  \n",
              "99072                     63765       sucesso             CE  \n",
              "99171                     62800       aracati             CE  \n",
              "99328                     60440     fortaleza             CE  \n",
              "99343                     60864     fortaleza             CE  \n",
              "99438                     60115     fortaleza             CE  \n",
              "\n",
              "[1336 rows x 5 columns]"
            ]
          },
          "execution_count": 270,
          "metadata": {},
          "output_type": "execute_result"
        }
      ],
      "source": [
        "customers[customers.customer_state == 'CE']"
      ]
    },
    {
      "cell_type": "code",
      "execution_count": 271,
      "metadata": {},
      "outputs": [
        {
          "data": {
            "text/html": [
              "<div>\n",
              "<style scoped>\n",
              "    .dataframe tbody tr th:only-of-type {\n",
              "        vertical-align: middle;\n",
              "    }\n",
              "\n",
              "    .dataframe tbody tr th {\n",
              "        vertical-align: top;\n",
              "    }\n",
              "\n",
              "    .dataframe thead th {\n",
              "        text-align: right;\n",
              "    }\n",
              "</style>\n",
              "<table border=\"1\" class=\"dataframe\">\n",
              "  <thead>\n",
              "    <tr style=\"text-align: right;\">\n",
              "      <th></th>\n",
              "      <th>customer_city</th>\n",
              "      <th>jml_cust</th>\n",
              "    </tr>\n",
              "  </thead>\n",
              "  <tbody>\n",
              "    <tr>\n",
              "      <th>0</th>\n",
              "      <td>sao paulo</td>\n",
              "      <td>15540</td>\n",
              "    </tr>\n",
              "    <tr>\n",
              "      <th>1</th>\n",
              "      <td>rio de janeiro</td>\n",
              "      <td>6882</td>\n",
              "    </tr>\n",
              "    <tr>\n",
              "      <th>2</th>\n",
              "      <td>belo horizonte</td>\n",
              "      <td>2773</td>\n",
              "    </tr>\n",
              "    <tr>\n",
              "      <th>3</th>\n",
              "      <td>brasilia</td>\n",
              "      <td>2131</td>\n",
              "    </tr>\n",
              "    <tr>\n",
              "      <th>4</th>\n",
              "      <td>curitiba</td>\n",
              "      <td>1521</td>\n",
              "    </tr>\n",
              "  </tbody>\n",
              "</table>\n",
              "</div>"
            ],
            "text/plain": [
              "    customer_city  jml_cust\n",
              "0       sao paulo     15540\n",
              "1  rio de janeiro      6882\n",
              "2  belo horizonte      2773\n",
              "3        brasilia      2131\n",
              "4        curitiba      1521"
            ]
          },
          "execution_count": 271,
          "metadata": {},
          "output_type": "execute_result"
        }
      ],
      "source": [
        "custby_city_states = customers.groupby(by=['customer_city']).agg({'customer_id':'count'}).sort_values(by='customer_id', ascending=False).reset_index().rename(columns={'customer_id':'jml_cust'})\n",
        "custby_city_states.head()"
      ]
    },
    {
      "cell_type": "code",
      "execution_count": 272,
      "metadata": {},
      "outputs": [
        {
          "data": {
            "text/html": [
              "<div>\n",
              "<style scoped>\n",
              "    .dataframe tbody tr th:only-of-type {\n",
              "        vertical-align: middle;\n",
              "    }\n",
              "\n",
              "    .dataframe tbody tr th {\n",
              "        vertical-align: top;\n",
              "    }\n",
              "\n",
              "    .dataframe thead th {\n",
              "        text-align: right;\n",
              "    }\n",
              "</style>\n",
              "<table border=\"1\" class=\"dataframe\">\n",
              "  <thead>\n",
              "    <tr style=\"text-align: right;\">\n",
              "      <th></th>\n",
              "      <th>customer_state</th>\n",
              "      <th>jml_cust</th>\n",
              "    </tr>\n",
              "  </thead>\n",
              "  <tbody>\n",
              "    <tr>\n",
              "      <th>2</th>\n",
              "      <td>MG</td>\n",
              "      <td>11635</td>\n",
              "    </tr>\n",
              "    <tr>\n",
              "      <th>15</th>\n",
              "      <td>MS</td>\n",
              "      <td>715</td>\n",
              "    </tr>\n",
              "    <tr>\n",
              "      <th>3</th>\n",
              "      <td>RS</td>\n",
              "      <td>5466</td>\n",
              "    </tr>\n",
              "  </tbody>\n",
              "</table>\n",
              "</div>"
            ],
            "text/plain": [
              "   customer_state  jml_cust\n",
              "2              MG     11635\n",
              "15             MS       715\n",
              "3              RS      5466"
            ]
          },
          "execution_count": 272,
          "metadata": {},
          "output_type": "execute_result"
        }
      ],
      "source": [
        "custby_states = customers.groupby(by=['customer_state']).customer_id.nunique().sort_values(ascending=False).to_frame().reset_index().rename(columns={'customer_id':'jml_cust'})\n",
        "custby_states.sample(3)"
      ]
    },
    {
      "cell_type": "markdown",
      "metadata": {},
      "source": [
        "#### Explore Order"
      ]
    },
    {
      "cell_type": "code",
      "execution_count": 273,
      "metadata": {},
      "outputs": [
        {
          "data": {
            "text/html": [
              "<div>\n",
              "<style scoped>\n",
              "    .dataframe tbody tr th:only-of-type {\n",
              "        vertical-align: middle;\n",
              "    }\n",
              "\n",
              "    .dataframe tbody tr th {\n",
              "        vertical-align: top;\n",
              "    }\n",
              "\n",
              "    .dataframe thead th {\n",
              "        text-align: right;\n",
              "    }\n",
              "</style>\n",
              "<table border=\"1\" class=\"dataframe\">\n",
              "  <thead>\n",
              "    <tr style=\"text-align: right;\">\n",
              "      <th></th>\n",
              "      <th>order_id</th>\n",
              "      <th>order_item_id</th>\n",
              "      <th>product_id</th>\n",
              "      <th>seller_id</th>\n",
              "      <th>shipping_limit_date</th>\n",
              "      <th>price</th>\n",
              "      <th>freight_value</th>\n",
              "    </tr>\n",
              "  </thead>\n",
              "  <tbody>\n",
              "    <tr>\n",
              "      <th>77178</th>\n",
              "      <td>afbc5dc3c3d0255f644df560b79f1b32</td>\n",
              "      <td>1</td>\n",
              "      <td>d2f2c2b94c6ac44ece0bd0dd202c7939</td>\n",
              "      <td>710e3548e02bc1d2831dfc4f1b5b14d4</td>\n",
              "      <td>2017-08-02 22:45:07</td>\n",
              "      <td>35.99</td>\n",
              "      <td>17.60</td>\n",
              "    </tr>\n",
              "    <tr>\n",
              "      <th>8802</th>\n",
              "      <td>14276b4f803d028dd9b569f6c22a27ca</td>\n",
              "      <td>1</td>\n",
              "      <td>ce5a07feea47b22089fc735f70ae4931</td>\n",
              "      <td>0d83f8e03188682112cc0d93523705cc</td>\n",
              "      <td>2017-11-21 02:35:48</td>\n",
              "      <td>89.98</td>\n",
              "      <td>14.38</td>\n",
              "    </tr>\n",
              "    <tr>\n",
              "      <th>30109</th>\n",
              "      <td>445e644ce100ddf209bc9fd616d882ae</td>\n",
              "      <td>1</td>\n",
              "      <td>2b301a96f8ae692b3157360f621b658f</td>\n",
              "      <td>269c5fc9fcadee614364c3620c30a1f9</td>\n",
              "      <td>2018-08-14 21:30:12</td>\n",
              "      <td>29.90</td>\n",
              "      <td>7.47</td>\n",
              "    </tr>\n",
              "  </tbody>\n",
              "</table>\n",
              "</div>"
            ],
            "text/plain": [
              "                               order_id  order_item_id  \\\n",
              "77178  afbc5dc3c3d0255f644df560b79f1b32              1   \n",
              "8802   14276b4f803d028dd9b569f6c22a27ca              1   \n",
              "30109  445e644ce100ddf209bc9fd616d882ae              1   \n",
              "\n",
              "                             product_id                         seller_id  \\\n",
              "77178  d2f2c2b94c6ac44ece0bd0dd202c7939  710e3548e02bc1d2831dfc4f1b5b14d4   \n",
              "8802   ce5a07feea47b22089fc735f70ae4931  0d83f8e03188682112cc0d93523705cc   \n",
              "30109  2b301a96f8ae692b3157360f621b658f  269c5fc9fcadee614364c3620c30a1f9   \n",
              "\n",
              "      shipping_limit_date  price  freight_value  \n",
              "77178 2017-08-02 22:45:07  35.99          17.60  \n",
              "8802  2017-11-21 02:35:48  89.98          14.38  \n",
              "30109 2018-08-14 21:30:12  29.90           7.47  "
            ]
          },
          "execution_count": 273,
          "metadata": {},
          "output_type": "execute_result"
        }
      ],
      "source": [
        "order_items.sample(3)"
      ]
    },
    {
      "cell_type": "code",
      "execution_count": 274,
      "metadata": {},
      "outputs": [
        {
          "data": {
            "text/html": [
              "<div>\n",
              "<style scoped>\n",
              "    .dataframe tbody tr th:only-of-type {\n",
              "        vertical-align: middle;\n",
              "    }\n",
              "\n",
              "    .dataframe tbody tr th {\n",
              "        vertical-align: top;\n",
              "    }\n",
              "\n",
              "    .dataframe thead th {\n",
              "        text-align: right;\n",
              "    }\n",
              "</style>\n",
              "<table border=\"1\" class=\"dataframe\">\n",
              "  <thead>\n",
              "    <tr style=\"text-align: right;\">\n",
              "      <th></th>\n",
              "      <th>order_id</th>\n",
              "      <th>customer_id</th>\n",
              "      <th>order_status</th>\n",
              "      <th>order_purchase_timestamp</th>\n",
              "      <th>order_approved_at</th>\n",
              "      <th>order_delivered_carrier_date</th>\n",
              "      <th>order_delivered_customer_date</th>\n",
              "      <th>order_estimated_delivery_date</th>\n",
              "    </tr>\n",
              "  </thead>\n",
              "  <tbody>\n",
              "    <tr>\n",
              "      <th>7278</th>\n",
              "      <td>9ddffc0194a79dd25662255b87eb9e09</td>\n",
              "      <td>6ff4191488e14530d6a698f7420a769d</td>\n",
              "      <td>delivered</td>\n",
              "      <td>2017-11-24 00:27:59</td>\n",
              "      <td>2017-11-24 00:56:37</td>\n",
              "      <td>2017-11-24 16:04:45</td>\n",
              "      <td>2017-12-04 19:07:26</td>\n",
              "      <td>2017-12-14</td>\n",
              "    </tr>\n",
              "    <tr>\n",
              "      <th>28411</th>\n",
              "      <td>b33010cda5cc0e6573b4eecafeb14082</td>\n",
              "      <td>21a23cc024883e2a7c9dbe7a14a7eccc</td>\n",
              "      <td>delivered</td>\n",
              "      <td>2018-07-30 17:57:51</td>\n",
              "      <td>2018-07-30 19:32:19</td>\n",
              "      <td>2018-08-03 15:14:00</td>\n",
              "      <td>2018-08-08 00:51:56</td>\n",
              "      <td>2018-08-17</td>\n",
              "    </tr>\n",
              "  </tbody>\n",
              "</table>\n",
              "</div>"
            ],
            "text/plain": [
              "                               order_id                       customer_id  \\\n",
              "7278   9ddffc0194a79dd25662255b87eb9e09  6ff4191488e14530d6a698f7420a769d   \n",
              "28411  b33010cda5cc0e6573b4eecafeb14082  21a23cc024883e2a7c9dbe7a14a7eccc   \n",
              "\n",
              "      order_status order_purchase_timestamp   order_approved_at  \\\n",
              "7278     delivered      2017-11-24 00:27:59 2017-11-24 00:56:37   \n",
              "28411    delivered      2018-07-30 17:57:51 2018-07-30 19:32:19   \n",
              "\n",
              "      order_delivered_carrier_date order_delivered_customer_date  \\\n",
              "7278           2017-11-24 16:04:45           2017-12-04 19:07:26   \n",
              "28411          2018-08-03 15:14:00           2018-08-08 00:51:56   \n",
              "\n",
              "      order_estimated_delivery_date  \n",
              "7278                     2017-12-14  \n",
              "28411                    2018-08-17  "
            ]
          },
          "execution_count": 274,
          "metadata": {},
          "output_type": "execute_result"
        }
      ],
      "source": [
        "orders.sample(2)"
      ]
    },
    {
      "cell_type": "code",
      "execution_count": 275,
      "metadata": {},
      "outputs": [
        {
          "data": {
            "text/html": [
              "<div>\n",
              "<style scoped>\n",
              "    .dataframe tbody tr th:only-of-type {\n",
              "        vertical-align: middle;\n",
              "    }\n",
              "\n",
              "    .dataframe tbody tr th {\n",
              "        vertical-align: top;\n",
              "    }\n",
              "\n",
              "    .dataframe thead th {\n",
              "        text-align: right;\n",
              "    }\n",
              "</style>\n",
              "<table border=\"1\" class=\"dataframe\">\n",
              "  <thead>\n",
              "    <tr style=\"text-align: right;\">\n",
              "      <th></th>\n",
              "      <th>order_purchase_timestamp</th>\n",
              "      <th>order_approved_at</th>\n",
              "      <th>order_delivered_carrier_date</th>\n",
              "      <th>order_delivered_customer_date</th>\n",
              "      <th>order_estimated_delivery_date</th>\n",
              "      <th>delivery_time</th>\n",
              "    </tr>\n",
              "  </thead>\n",
              "  <tbody>\n",
              "    <tr>\n",
              "      <th>count</th>\n",
              "      <td>99441</td>\n",
              "      <td>99281</td>\n",
              "      <td>97658</td>\n",
              "      <td>96476</td>\n",
              "      <td>99441</td>\n",
              "      <td>96462.000000</td>\n",
              "    </tr>\n",
              "    <tr>\n",
              "      <th>mean</th>\n",
              "      <td>2017-12-31 08:43:12.776581120</td>\n",
              "      <td>2017-12-31 18:35:24.098800128</td>\n",
              "      <td>2018-01-04 21:49:48.138278656</td>\n",
              "      <td>2018-01-14 12:09:19.035542272</td>\n",
              "      <td>2018-01-24 03:08:37.730111232</td>\n",
              "      <td>11.642968</td>\n",
              "    </tr>\n",
              "    <tr>\n",
              "      <th>min</th>\n",
              "      <td>2016-09-04 21:15:19</td>\n",
              "      <td>2016-09-15 12:16:38</td>\n",
              "      <td>2016-10-08 10:34:01</td>\n",
              "      <td>2016-10-11 13:46:32</td>\n",
              "      <td>2016-09-30 00:00:00</td>\n",
              "      <td>-7.000000</td>\n",
              "    </tr>\n",
              "    <tr>\n",
              "      <th>25%</th>\n",
              "      <td>2017-09-12 14:46:19</td>\n",
              "      <td>2017-09-12 23:24:16</td>\n",
              "      <td>2017-09-15 22:28:50.249999872</td>\n",
              "      <td>2017-09-25 22:07:22.249999872</td>\n",
              "      <td>2017-10-03 00:00:00</td>\n",
              "      <td>6.000000</td>\n",
              "    </tr>\n",
              "    <tr>\n",
              "      <th>50%</th>\n",
              "      <td>2018-01-18 23:04:36</td>\n",
              "      <td>2018-01-19 11:36:13</td>\n",
              "      <td>2018-01-24 16:10:58</td>\n",
              "      <td>2018-02-02 19:28:10.500000</td>\n",
              "      <td>2018-02-15 00:00:00</td>\n",
              "      <td>9.000000</td>\n",
              "    </tr>\n",
              "    <tr>\n",
              "      <th>75%</th>\n",
              "      <td>2018-05-04 15:42:16</td>\n",
              "      <td>2018-05-04 20:35:10</td>\n",
              "      <td>2018-05-08 13:37:45</td>\n",
              "      <td>2018-05-15 22:48:52.249999872</td>\n",
              "      <td>2018-05-25 00:00:00</td>\n",
              "      <td>15.000000</td>\n",
              "    </tr>\n",
              "    <tr>\n",
              "      <th>max</th>\n",
              "      <td>2018-10-17 17:30:18</td>\n",
              "      <td>2018-09-03 17:40:06</td>\n",
              "      <td>2018-09-11 19:48:28</td>\n",
              "      <td>2018-10-17 13:22:46</td>\n",
              "      <td>2018-11-12 00:00:00</td>\n",
              "      <td>208.000000</td>\n",
              "    </tr>\n",
              "    <tr>\n",
              "      <th>std</th>\n",
              "      <td>NaN</td>\n",
              "      <td>NaN</td>\n",
              "      <td>NaN</td>\n",
              "      <td>NaN</td>\n",
              "      <td>NaN</td>\n",
              "      <td>9.520747</td>\n",
              "    </tr>\n",
              "  </tbody>\n",
              "</table>\n",
              "</div>"
            ],
            "text/plain": [
              "            order_purchase_timestamp              order_approved_at  \\\n",
              "count                          99441                          99281   \n",
              "mean   2017-12-31 08:43:12.776581120  2017-12-31 18:35:24.098800128   \n",
              "min              2016-09-04 21:15:19            2016-09-15 12:16:38   \n",
              "25%              2017-09-12 14:46:19            2017-09-12 23:24:16   \n",
              "50%              2018-01-18 23:04:36            2018-01-19 11:36:13   \n",
              "75%              2018-05-04 15:42:16            2018-05-04 20:35:10   \n",
              "max              2018-10-17 17:30:18            2018-09-03 17:40:06   \n",
              "std                              NaN                            NaN   \n",
              "\n",
              "        order_delivered_carrier_date  order_delivered_customer_date  \\\n",
              "count                          97658                          96476   \n",
              "mean   2018-01-04 21:49:48.138278656  2018-01-14 12:09:19.035542272   \n",
              "min              2016-10-08 10:34:01            2016-10-11 13:46:32   \n",
              "25%    2017-09-15 22:28:50.249999872  2017-09-25 22:07:22.249999872   \n",
              "50%              2018-01-24 16:10:58     2018-02-02 19:28:10.500000   \n",
              "75%              2018-05-08 13:37:45  2018-05-15 22:48:52.249999872   \n",
              "max              2018-09-11 19:48:28            2018-10-17 13:22:46   \n",
              "std                              NaN                            NaN   \n",
              "\n",
              "       order_estimated_delivery_date  delivery_time  \n",
              "count                          99441   96462.000000  \n",
              "mean   2018-01-24 03:08:37.730111232      11.642968  \n",
              "min              2016-09-30 00:00:00      -7.000000  \n",
              "25%              2017-10-03 00:00:00       6.000000  \n",
              "50%              2018-02-15 00:00:00       9.000000  \n",
              "75%              2018-05-25 00:00:00      15.000000  \n",
              "max              2018-11-12 00:00:00     208.000000  \n",
              "std                              NaN       9.520747  "
            ]
          },
          "execution_count": 275,
          "metadata": {},
          "output_type": "execute_result"
        }
      ],
      "source": [
        "orders['delivery_time'] = (orders.order_delivered_customer_date - orders.order_approved_at).dt.days\n",
        "# del_time.apply(lambda x: x.total_seconds())/86400\n",
        "orders.describe()"
      ]
    },
    {
      "cell_type": "code",
      "execution_count": 276,
      "metadata": {},
      "outputs": [
        {
          "data": {
            "text/html": [
              "<div>\n",
              "<style scoped>\n",
              "    .dataframe tbody tr th:only-of-type {\n",
              "        vertical-align: middle;\n",
              "    }\n",
              "\n",
              "    .dataframe tbody tr th {\n",
              "        vertical-align: top;\n",
              "    }\n",
              "\n",
              "    .dataframe thead th {\n",
              "        text-align: right;\n",
              "    }\n",
              "</style>\n",
              "<table border=\"1\" class=\"dataframe\">\n",
              "  <thead>\n",
              "    <tr style=\"text-align: right;\">\n",
              "      <th></th>\n",
              "      <th>order_id</th>\n",
              "      <th>customer_id</th>\n",
              "      <th>order_status</th>\n",
              "      <th>order_purchase_timestamp</th>\n",
              "      <th>order_approved_at</th>\n",
              "      <th>order_delivered_carrier_date</th>\n",
              "      <th>order_delivered_customer_date</th>\n",
              "      <th>order_estimated_delivery_date</th>\n",
              "      <th>delivery_time</th>\n",
              "      <th>order_item_id</th>\n",
              "      <th>product_id</th>\n",
              "      <th>seller_id</th>\n",
              "      <th>shipping_limit_date</th>\n",
              "      <th>price</th>\n",
              "      <th>freight_value</th>\n",
              "      <th>total_price</th>\n",
              "    </tr>\n",
              "  </thead>\n",
              "  <tbody>\n",
              "    <tr>\n",
              "      <th>27798</th>\n",
              "      <td>4eedbea06033407253ea131738b99a5d</td>\n",
              "      <td>9023f21bb5ec09efe6bfb4e8cf09196d</td>\n",
              "      <td>delivered</td>\n",
              "      <td>2018-02-15 00:25:44</td>\n",
              "      <td>2018-02-15 00:47:17</td>\n",
              "      <td>2018-02-20 23:07:32</td>\n",
              "      <td>2018-03-15 23:55:29</td>\n",
              "      <td>2018-03-13</td>\n",
              "      <td>28.0</td>\n",
              "      <td>1</td>\n",
              "      <td>473795a355d29305c3ea6b156833adf5</td>\n",
              "      <td>620c87c171fb2a6dd6e8bb4dec959fc6</td>\n",
              "      <td>2018-02-26 23:47:17</td>\n",
              "      <td>55.9</td>\n",
              "      <td>12.39</td>\n",
              "      <td>55.9</td>\n",
              "    </tr>\n",
              "    <tr>\n",
              "      <th>111585</th>\n",
              "      <td>f7a6067a1669a4d0b6a58e933098da0c</td>\n",
              "      <td>1ffa4eac7791a589b5d77c34ec891855</td>\n",
              "      <td>delivered</td>\n",
              "      <td>2017-09-12 21:16:27</td>\n",
              "      <td>2017-09-12 21:25:52</td>\n",
              "      <td>2017-09-14 13:51:58</td>\n",
              "      <td>2017-10-06 17:57:40</td>\n",
              "      <td>2017-10-02</td>\n",
              "      <td>23.0</td>\n",
              "      <td>1</td>\n",
              "      <td>24d7b551f0ea7c3cea080d402b211132</td>\n",
              "      <td>d2374cbcbb3ca4ab1086534108cc3ab7</td>\n",
              "      <td>2017-09-18 21:25:52</td>\n",
              "      <td>30.7</td>\n",
              "      <td>16.11</td>\n",
              "      <td>30.7</td>\n",
              "    </tr>\n",
              "    <tr>\n",
              "      <th>70212</th>\n",
              "      <td>340f6a494c2beb062b582296fa626746</td>\n",
              "      <td>4fd59a5a2e0539e43a8cff7d4bb510a2</td>\n",
              "      <td>delivered</td>\n",
              "      <td>2017-07-07 15:55:02</td>\n",
              "      <td>2017-07-08 03:30:46</td>\n",
              "      <td>2017-07-10 19:07:41</td>\n",
              "      <td>2017-07-18 19:04:01</td>\n",
              "      <td>2017-07-31</td>\n",
              "      <td>10.0</td>\n",
              "      <td>1</td>\n",
              "      <td>30469bb5ea377eae7121981e2f0778e4</td>\n",
              "      <td>80e6699fe29150b372a0c8a1ebf7dcc8</td>\n",
              "      <td>2017-07-13 03:30:46</td>\n",
              "      <td>113.0</td>\n",
              "      <td>34.15</td>\n",
              "      <td>113.0</td>\n",
              "    </tr>\n",
              "    <tr>\n",
              "      <th>52698</th>\n",
              "      <td>d4668cd8ef48b78df597195703c95da2</td>\n",
              "      <td>54f755c3fd2709231f9964a1430c5218</td>\n",
              "      <td>delivered</td>\n",
              "      <td>2017-08-10 13:01:54</td>\n",
              "      <td>2017-08-10 13:23:32</td>\n",
              "      <td>2017-08-14 19:44:58</td>\n",
              "      <td>2017-08-21 13:42:55</td>\n",
              "      <td>2017-09-01</td>\n",
              "      <td>11.0</td>\n",
              "      <td>1</td>\n",
              "      <td>48633254f8b7b802b1ca8c4f4dcf3e33</td>\n",
              "      <td>8c16d1f32a54d92897cc437244442e1b</td>\n",
              "      <td>2017-08-16 13:23:32</td>\n",
              "      <td>44.9</td>\n",
              "      <td>15.10</td>\n",
              "      <td>44.9</td>\n",
              "    </tr>\n",
              "    <tr>\n",
              "      <th>33186</th>\n",
              "      <td>23538663b36489215fd49765baa4ba8f</td>\n",
              "      <td>14b0912a842b58de740de4a7b5ec8e1d</td>\n",
              "      <td>delivered</td>\n",
              "      <td>2018-08-05 14:07:53</td>\n",
              "      <td>2018-08-06 14:04:43</td>\n",
              "      <td>2018-08-08 08:39:00</td>\n",
              "      <td>2018-08-16 16:27:51</td>\n",
              "      <td>2018-08-28</td>\n",
              "      <td>10.0</td>\n",
              "      <td>1</td>\n",
              "      <td>b11b6e603959e09bb5b90095db226602</td>\n",
              "      <td>eaaa46e98c9e61f6764dd1d7a2ab8b3e</td>\n",
              "      <td>2018-08-10 14:04:43</td>\n",
              "      <td>98.0</td>\n",
              "      <td>27.64</td>\n",
              "      <td>98.0</td>\n",
              "    </tr>\n",
              "  </tbody>\n",
              "</table>\n",
              "</div>"
            ],
            "text/plain": [
              "                                order_id                       customer_id  \\\n",
              "27798   4eedbea06033407253ea131738b99a5d  9023f21bb5ec09efe6bfb4e8cf09196d   \n",
              "111585  f7a6067a1669a4d0b6a58e933098da0c  1ffa4eac7791a589b5d77c34ec891855   \n",
              "70212   340f6a494c2beb062b582296fa626746  4fd59a5a2e0539e43a8cff7d4bb510a2   \n",
              "52698   d4668cd8ef48b78df597195703c95da2  54f755c3fd2709231f9964a1430c5218   \n",
              "33186   23538663b36489215fd49765baa4ba8f  14b0912a842b58de740de4a7b5ec8e1d   \n",
              "\n",
              "       order_status order_purchase_timestamp   order_approved_at  \\\n",
              "27798     delivered      2018-02-15 00:25:44 2018-02-15 00:47:17   \n",
              "111585    delivered      2017-09-12 21:16:27 2017-09-12 21:25:52   \n",
              "70212     delivered      2017-07-07 15:55:02 2017-07-08 03:30:46   \n",
              "52698     delivered      2017-08-10 13:01:54 2017-08-10 13:23:32   \n",
              "33186     delivered      2018-08-05 14:07:53 2018-08-06 14:04:43   \n",
              "\n",
              "       order_delivered_carrier_date order_delivered_customer_date  \\\n",
              "27798           2018-02-20 23:07:32           2018-03-15 23:55:29   \n",
              "111585          2017-09-14 13:51:58           2017-10-06 17:57:40   \n",
              "70212           2017-07-10 19:07:41           2017-07-18 19:04:01   \n",
              "52698           2017-08-14 19:44:58           2017-08-21 13:42:55   \n",
              "33186           2018-08-08 08:39:00           2018-08-16 16:27:51   \n",
              "\n",
              "       order_estimated_delivery_date  delivery_time  order_item_id  \\\n",
              "27798                     2018-03-13           28.0              1   \n",
              "111585                    2017-10-02           23.0              1   \n",
              "70212                     2017-07-31           10.0              1   \n",
              "52698                     2017-09-01           11.0              1   \n",
              "33186                     2018-08-28           10.0              1   \n",
              "\n",
              "                              product_id                         seller_id  \\\n",
              "27798   473795a355d29305c3ea6b156833adf5  620c87c171fb2a6dd6e8bb4dec959fc6   \n",
              "111585  24d7b551f0ea7c3cea080d402b211132  d2374cbcbb3ca4ab1086534108cc3ab7   \n",
              "70212   30469bb5ea377eae7121981e2f0778e4  80e6699fe29150b372a0c8a1ebf7dcc8   \n",
              "52698   48633254f8b7b802b1ca8c4f4dcf3e33  8c16d1f32a54d92897cc437244442e1b   \n",
              "33186   b11b6e603959e09bb5b90095db226602  eaaa46e98c9e61f6764dd1d7a2ab8b3e   \n",
              "\n",
              "       shipping_limit_date  price  freight_value  total_price  \n",
              "27798  2018-02-26 23:47:17   55.9          12.39         55.9  \n",
              "111585 2017-09-18 21:25:52   30.7          16.11         30.7  \n",
              "70212  2017-07-13 03:30:46  113.0          34.15        113.0  \n",
              "52698  2017-08-16 13:23:32   44.9          15.10         44.9  \n",
              "33186  2018-08-10 14:04:43   98.0          27.64         98.0  "
            ]
          },
          "execution_count": 276,
          "metadata": {},
          "output_type": "execute_result"
        }
      ],
      "source": [
        "orders_items = pd.merge(left=orders, right=order_items, on='order_id', how='inner')\n",
        "orders_items['total_price'] = orders_items.order_item_id * orders_items.price\n",
        "orders_items.sample(5)"
      ]
    },
    {
      "cell_type": "code",
      "execution_count": 277,
      "metadata": {},
      "outputs": [
        {
          "name": "stdout",
          "output_type": "stream",
          "text": [
            "(117601, 20)\n"
          ]
        },
        {
          "data": {
            "text/html": [
              "<div>\n",
              "<style scoped>\n",
              "    .dataframe tbody tr th:only-of-type {\n",
              "        vertical-align: middle;\n",
              "    }\n",
              "\n",
              "    .dataframe tbody tr th {\n",
              "        vertical-align: top;\n",
              "    }\n",
              "\n",
              "    .dataframe thead th {\n",
              "        text-align: right;\n",
              "    }\n",
              "</style>\n",
              "<table border=\"1\" class=\"dataframe\">\n",
              "  <thead>\n",
              "    <tr style=\"text-align: right;\">\n",
              "      <th></th>\n",
              "      <th>order_id</th>\n",
              "      <th>customer_id</th>\n",
              "      <th>order_status</th>\n",
              "      <th>order_purchase_timestamp</th>\n",
              "      <th>order_approved_at</th>\n",
              "      <th>order_delivered_carrier_date</th>\n",
              "      <th>order_delivered_customer_date</th>\n",
              "      <th>order_estimated_delivery_date</th>\n",
              "      <th>delivery_time</th>\n",
              "      <th>order_item_id</th>\n",
              "      <th>product_id</th>\n",
              "      <th>seller_id</th>\n",
              "      <th>shipping_limit_date</th>\n",
              "      <th>price</th>\n",
              "      <th>freight_value</th>\n",
              "      <th>total_price</th>\n",
              "      <th>payment_sequential</th>\n",
              "      <th>payment_type</th>\n",
              "      <th>payment_installments</th>\n",
              "      <th>payment_value</th>\n",
              "    </tr>\n",
              "  </thead>\n",
              "  <tbody>\n",
              "    <tr>\n",
              "      <th>56566</th>\n",
              "      <td>b523ce1995c46d7ad970da56cbf867e1</td>\n",
              "      <td>8100eea287c70641a7af75e848cae7a6</td>\n",
              "      <td>delivered</td>\n",
              "      <td>2018-07-20 09:26:27</td>\n",
              "      <td>2018-07-20 09:43:42</td>\n",
              "      <td>2018-07-27 10:33:00</td>\n",
              "      <td>2018-08-06 18:48:52</td>\n",
              "      <td>2018-08-20</td>\n",
              "      <td>17.0</td>\n",
              "      <td>2</td>\n",
              "      <td>a2a074bf18230a66559fa3ba6977bcad</td>\n",
              "      <td>92eb0f42c21942b6552362b9b114707d</td>\n",
              "      <td>2018-08-01 09:43:42</td>\n",
              "      <td>18.77</td>\n",
              "      <td>16.92</td>\n",
              "      <td>37.54</td>\n",
              "      <td>1</td>\n",
              "      <td>credit_card</td>\n",
              "      <td>1</td>\n",
              "      <td>60.10</td>\n",
              "    </tr>\n",
              "    <tr>\n",
              "      <th>44742</th>\n",
              "      <td>ec6752845f9c553dcaeb40318b0df3ce</td>\n",
              "      <td>01a7b4df1b55e01c05863134a5e587be</td>\n",
              "      <td>delivered</td>\n",
              "      <td>2018-05-18 18:00:59</td>\n",
              "      <td>2018-05-18 18:19:27</td>\n",
              "      <td>2018-05-22 09:02:00</td>\n",
              "      <td>2018-05-23 20:38:24</td>\n",
              "      <td>2018-05-28</td>\n",
              "      <td>5.0</td>\n",
              "      <td>1</td>\n",
              "      <td>aca2eb7d00ea1a7b8ebd4e68314663af</td>\n",
              "      <td>955fee9216a65b617aa5c0531780ce60</td>\n",
              "      <td>2018-05-22 18:19:27</td>\n",
              "      <td>69.90</td>\n",
              "      <td>12.43</td>\n",
              "      <td>69.90</td>\n",
              "      <td>1</td>\n",
              "      <td>credit_card</td>\n",
              "      <td>8</td>\n",
              "      <td>82.33</td>\n",
              "    </tr>\n",
              "    <tr>\n",
              "      <th>37375</th>\n",
              "      <td>79f04f286db371d16fa7bb23b3ca8b5f</td>\n",
              "      <td>46a12f26b4e591ecaf6b86f5f5e2fdbf</td>\n",
              "      <td>delivered</td>\n",
              "      <td>2018-04-26 05:01:24</td>\n",
              "      <td>2018-04-27 10:12:23</td>\n",
              "      <td>2018-04-27 12:46:00</td>\n",
              "      <td>2018-05-08 22:28:30</td>\n",
              "      <td>2018-06-22</td>\n",
              "      <td>11.0</td>\n",
              "      <td>1</td>\n",
              "      <td>209699610264262664b7357184f3b83f</td>\n",
              "      <td>ececbfcff9804a2d6b40f589df8eef2b</td>\n",
              "      <td>2018-05-04 10:12:23</td>\n",
              "      <td>79.90</td>\n",
              "      <td>11.47</td>\n",
              "      <td>79.90</td>\n",
              "      <td>1</td>\n",
              "      <td>boleto</td>\n",
              "      <td>1</td>\n",
              "      <td>170.64</td>\n",
              "    </tr>\n",
              "  </tbody>\n",
              "</table>\n",
              "</div>"
            ],
            "text/plain": [
              "                               order_id                       customer_id  \\\n",
              "56566  b523ce1995c46d7ad970da56cbf867e1  8100eea287c70641a7af75e848cae7a6   \n",
              "44742  ec6752845f9c553dcaeb40318b0df3ce  01a7b4df1b55e01c05863134a5e587be   \n",
              "37375  79f04f286db371d16fa7bb23b3ca8b5f  46a12f26b4e591ecaf6b86f5f5e2fdbf   \n",
              "\n",
              "      order_status order_purchase_timestamp   order_approved_at  \\\n",
              "56566    delivered      2018-07-20 09:26:27 2018-07-20 09:43:42   \n",
              "44742    delivered      2018-05-18 18:00:59 2018-05-18 18:19:27   \n",
              "37375    delivered      2018-04-26 05:01:24 2018-04-27 10:12:23   \n",
              "\n",
              "      order_delivered_carrier_date order_delivered_customer_date  \\\n",
              "56566          2018-07-27 10:33:00           2018-08-06 18:48:52   \n",
              "44742          2018-05-22 09:02:00           2018-05-23 20:38:24   \n",
              "37375          2018-04-27 12:46:00           2018-05-08 22:28:30   \n",
              "\n",
              "      order_estimated_delivery_date  delivery_time  order_item_id  \\\n",
              "56566                    2018-08-20           17.0              2   \n",
              "44742                    2018-05-28            5.0              1   \n",
              "37375                    2018-06-22           11.0              1   \n",
              "\n",
              "                             product_id                         seller_id  \\\n",
              "56566  a2a074bf18230a66559fa3ba6977bcad  92eb0f42c21942b6552362b9b114707d   \n",
              "44742  aca2eb7d00ea1a7b8ebd4e68314663af  955fee9216a65b617aa5c0531780ce60   \n",
              "37375  209699610264262664b7357184f3b83f  ececbfcff9804a2d6b40f589df8eef2b   \n",
              "\n",
              "      shipping_limit_date  price  freight_value  total_price  \\\n",
              "56566 2018-08-01 09:43:42  18.77          16.92        37.54   \n",
              "44742 2018-05-22 18:19:27  69.90          12.43        69.90   \n",
              "37375 2018-05-04 10:12:23  79.90          11.47        79.90   \n",
              "\n",
              "       payment_sequential payment_type  payment_installments  payment_value  \n",
              "56566                   1  credit_card                     1          60.10  \n",
              "44742                   1  credit_card                     8          82.33  \n",
              "37375                   1       boleto                     1         170.64  "
            ]
          },
          "execution_count": 277,
          "metadata": {},
          "output_type": "execute_result"
        }
      ],
      "source": [
        "orders_items_payments = pd.merge(left=orders_items, right=order_payments, on='order_id')\n",
        "print(orders_items_payments.shape)\n",
        "orders_items_payments.sample(3)\n",
        "# world.continent.value_counts()"
      ]
    },
    {
      "cell_type": "code",
      "execution_count": 278,
      "metadata": {},
      "outputs": [
        {
          "data": {
            "text/html": [
              "<div>\n",
              "<style scoped>\n",
              "    .dataframe tbody tr th:only-of-type {\n",
              "        vertical-align: middle;\n",
              "    }\n",
              "\n",
              "    .dataframe tbody tr th {\n",
              "        vertical-align: top;\n",
              "    }\n",
              "\n",
              "    .dataframe thead th {\n",
              "        text-align: right;\n",
              "    }\n",
              "</style>\n",
              "<table border=\"1\" class=\"dataframe\">\n",
              "  <thead>\n",
              "    <tr style=\"text-align: right;\">\n",
              "      <th></th>\n",
              "      <th>order_id</th>\n",
              "      <th>customer_id</th>\n",
              "      <th>order_status</th>\n",
              "      <th>order_purchase_timestamp</th>\n",
              "      <th>order_approved_at</th>\n",
              "      <th>order_delivered_carrier_date</th>\n",
              "      <th>order_delivered_customer_date</th>\n",
              "      <th>order_estimated_delivery_date</th>\n",
              "      <th>delivery_time</th>\n",
              "      <th>order_item_id</th>\n",
              "      <th>...</th>\n",
              "      <th>payment_sequential</th>\n",
              "      <th>payment_type</th>\n",
              "      <th>payment_installments</th>\n",
              "      <th>payment_value</th>\n",
              "      <th>review_id</th>\n",
              "      <th>review_score</th>\n",
              "      <th>review_comment_title</th>\n",
              "      <th>review_comment_message</th>\n",
              "      <th>review_creation_date</th>\n",
              "      <th>review_answer_timestamp</th>\n",
              "    </tr>\n",
              "  </thead>\n",
              "  <tbody>\n",
              "    <tr>\n",
              "      <th>11836</th>\n",
              "      <td>2c9f9957886293ce9bc43dee12fa1adb</td>\n",
              "      <td>86bff62b6eccfcbdeb17ed3cdf4a9ef0</td>\n",
              "      <td>delivered</td>\n",
              "      <td>2018-02-24 12:23:21</td>\n",
              "      <td>2018-02-24 12:35:34</td>\n",
              "      <td>2018-03-01 01:48:45</td>\n",
              "      <td>2018-03-07 23:26:48</td>\n",
              "      <td>2018-03-20</td>\n",
              "      <td>11.0</td>\n",
              "      <td>1</td>\n",
              "      <td>...</td>\n",
              "      <td>1</td>\n",
              "      <td>credit_card</td>\n",
              "      <td>2</td>\n",
              "      <td>130.93</td>\n",
              "      <td>ed5703777eeb035674518b9fb00b92a3</td>\n",
              "      <td>5</td>\n",
              "      <td>NaN</td>\n",
              "      <td>NaN</td>\n",
              "      <td>2018-03-08</td>\n",
              "      <td>2018-03-12 14:05:14</td>\n",
              "    </tr>\n",
              "    <tr>\n",
              "      <th>61452</th>\n",
              "      <td>5ef19cbded760e407b107f1be0e293f0</td>\n",
              "      <td>c2c698586ce38f1936de867bd495ac82</td>\n",
              "      <td>delivered</td>\n",
              "      <td>2017-07-13 10:35:01</td>\n",
              "      <td>2017-07-13 22:04:11</td>\n",
              "      <td>2017-07-18 20:12:41</td>\n",
              "      <td>2017-07-27 18:04:00</td>\n",
              "      <td>2017-08-16</td>\n",
              "      <td>13.0</td>\n",
              "      <td>1</td>\n",
              "      <td>...</td>\n",
              "      <td>1</td>\n",
              "      <td>credit_card</td>\n",
              "      <td>2</td>\n",
              "      <td>43.53</td>\n",
              "      <td>e1abb48346c3c169d280568d56e1500e</td>\n",
              "      <td>5</td>\n",
              "      <td>NaN</td>\n",
              "      <td>NaN</td>\n",
              "      <td>2017-07-28</td>\n",
              "      <td>2017-07-29 02:09:36</td>\n",
              "    </tr>\n",
              "    <tr>\n",
              "      <th>88389</th>\n",
              "      <td>2c3e691445b0edeba4836606bbb095c9</td>\n",
              "      <td>b1262a81b8c88e650642ec06959b973a</td>\n",
              "      <td>delivered</td>\n",
              "      <td>2018-06-05 16:35:43</td>\n",
              "      <td>2018-06-07 02:35:21</td>\n",
              "      <td>2018-06-07 15:32:00</td>\n",
              "      <td>2018-06-11 18:52:05</td>\n",
              "      <td>2018-07-12</td>\n",
              "      <td>4.0</td>\n",
              "      <td>1</td>\n",
              "      <td>...</td>\n",
              "      <td>1</td>\n",
              "      <td>boleto</td>\n",
              "      <td>1</td>\n",
              "      <td>150.83</td>\n",
              "      <td>5e49f53c1168247daa9e549325de94d2</td>\n",
              "      <td>5</td>\n",
              "      <td>NaN</td>\n",
              "      <td>NaN</td>\n",
              "      <td>2018-06-12</td>\n",
              "      <td>2018-06-19 16:47:36</td>\n",
              "    </tr>\n",
              "  </tbody>\n",
              "</table>\n",
              "<p>3 rows × 26 columns</p>\n",
              "</div>"
            ],
            "text/plain": [
              "                               order_id                       customer_id  \\\n",
              "11836  2c9f9957886293ce9bc43dee12fa1adb  86bff62b6eccfcbdeb17ed3cdf4a9ef0   \n",
              "61452  5ef19cbded760e407b107f1be0e293f0  c2c698586ce38f1936de867bd495ac82   \n",
              "88389  2c3e691445b0edeba4836606bbb095c9  b1262a81b8c88e650642ec06959b973a   \n",
              "\n",
              "      order_status order_purchase_timestamp   order_approved_at  \\\n",
              "11836    delivered      2018-02-24 12:23:21 2018-02-24 12:35:34   \n",
              "61452    delivered      2017-07-13 10:35:01 2017-07-13 22:04:11   \n",
              "88389    delivered      2018-06-05 16:35:43 2018-06-07 02:35:21   \n",
              "\n",
              "      order_delivered_carrier_date order_delivered_customer_date  \\\n",
              "11836          2018-03-01 01:48:45           2018-03-07 23:26:48   \n",
              "61452          2017-07-18 20:12:41           2017-07-27 18:04:00   \n",
              "88389          2018-06-07 15:32:00           2018-06-11 18:52:05   \n",
              "\n",
              "      order_estimated_delivery_date  delivery_time  order_item_id  ...  \\\n",
              "11836                    2018-03-20           11.0              1  ...   \n",
              "61452                    2017-08-16           13.0              1  ...   \n",
              "88389                    2018-07-12            4.0              1  ...   \n",
              "\n",
              "      payment_sequential payment_type payment_installments  payment_value  \\\n",
              "11836                  1  credit_card                    2         130.93   \n",
              "61452                  1  credit_card                    2          43.53   \n",
              "88389                  1       boleto                    1         150.83   \n",
              "\n",
              "                              review_id  review_score  review_comment_title  \\\n",
              "11836  ed5703777eeb035674518b9fb00b92a3             5                   NaN   \n",
              "61452  e1abb48346c3c169d280568d56e1500e             5                   NaN   \n",
              "88389  5e49f53c1168247daa9e549325de94d2             5                   NaN   \n",
              "\n",
              "      review_comment_message  review_creation_date  review_answer_timestamp  \n",
              "11836                    NaN            2018-03-08      2018-03-12 14:05:14  \n",
              "61452                    NaN            2017-07-28      2017-07-29 02:09:36  \n",
              "88389                    NaN            2018-06-12      2018-06-19 16:47:36  \n",
              "\n",
              "[3 rows x 26 columns]"
            ]
          },
          "execution_count": 278,
          "metadata": {},
          "output_type": "execute_result"
        }
      ],
      "source": [
        "all_orders = pd.merge(left=orders_items_payments, right=order_reviews, on='order_id')\n",
        "all_orders.sample(3)"
      ]
    },
    {
      "cell_type": "code",
      "execution_count": 279,
      "metadata": {},
      "outputs": [
        {
          "data": {
            "text/plain": [
              "cust_status\n",
              "Active    99441\n",
              "Name: count, dtype: int64"
            ]
          },
          "execution_count": 279,
          "metadata": {},
          "output_type": "execute_result"
        }
      ],
      "source": [
        "cust_list = customers.customer_id.to_list()\n",
        "customers['cust_status'] = orders.customer_id.apply(lambda x: \"Active\" if x in cust_list else \"In-Active\")\n",
        "\n",
        "customers.cust_status.value_counts()"
      ]
    },
    {
      "cell_type": "markdown",
      "metadata": {},
      "source": [
        "#### Explore Products"
      ]
    },
    {
      "cell_type": "code",
      "execution_count": 280,
      "metadata": {},
      "outputs": [
        {
          "name": "stdout",
          "output_type": "stream",
          "text": [
            "(32951, 9)\n"
          ]
        },
        {
          "data": {
            "text/html": [
              "<div>\n",
              "<style scoped>\n",
              "    .dataframe tbody tr th:only-of-type {\n",
              "        vertical-align: middle;\n",
              "    }\n",
              "\n",
              "    .dataframe tbody tr th {\n",
              "        vertical-align: top;\n",
              "    }\n",
              "\n",
              "    .dataframe thead th {\n",
              "        text-align: right;\n",
              "    }\n",
              "</style>\n",
              "<table border=\"1\" class=\"dataframe\">\n",
              "  <thead>\n",
              "    <tr style=\"text-align: right;\">\n",
              "      <th></th>\n",
              "      <th>product_id</th>\n",
              "      <th>product_category_name</th>\n",
              "      <th>product_name_lenght</th>\n",
              "      <th>product_description_lenght</th>\n",
              "      <th>product_photos_qty</th>\n",
              "      <th>product_weight_g</th>\n",
              "      <th>product_length_cm</th>\n",
              "      <th>product_height_cm</th>\n",
              "      <th>product_width_cm</th>\n",
              "    </tr>\n",
              "  </thead>\n",
              "  <tbody>\n",
              "    <tr>\n",
              "      <th>16350</th>\n",
              "      <td>29bf158cd50fc035e7443f1c04e8deaa</td>\n",
              "      <td>perfumaria</td>\n",
              "      <td>55.0</td>\n",
              "      <td>483.0</td>\n",
              "      <td>1.0</td>\n",
              "      <td>150.0</td>\n",
              "      <td>16.0</td>\n",
              "      <td>12.0</td>\n",
              "      <td>15.0</td>\n",
              "    </tr>\n",
              "    <tr>\n",
              "      <th>1977</th>\n",
              "      <td>67583cf9d65f2b9a1f26c158bd85257f</td>\n",
              "      <td>ferramentas_jardim</td>\n",
              "      <td>53.0</td>\n",
              "      <td>267.0</td>\n",
              "      <td>3.0</td>\n",
              "      <td>16600.0</td>\n",
              "      <td>42.0</td>\n",
              "      <td>90.0</td>\n",
              "      <td>26.0</td>\n",
              "    </tr>\n",
              "    <tr>\n",
              "      <th>16327</th>\n",
              "      <td>55279b0710ffb17d56db631cb318c47a</td>\n",
              "      <td>moveis_decoracao</td>\n",
              "      <td>56.0</td>\n",
              "      <td>603.0</td>\n",
              "      <td>1.0</td>\n",
              "      <td>2400.0</td>\n",
              "      <td>40.0</td>\n",
              "      <td>35.0</td>\n",
              "      <td>35.0</td>\n",
              "    </tr>\n",
              "  </tbody>\n",
              "</table>\n",
              "</div>"
            ],
            "text/plain": [
              "                             product_id product_category_name  \\\n",
              "16350  29bf158cd50fc035e7443f1c04e8deaa            perfumaria   \n",
              "1977   67583cf9d65f2b9a1f26c158bd85257f    ferramentas_jardim   \n",
              "16327  55279b0710ffb17d56db631cb318c47a      moveis_decoracao   \n",
              "\n",
              "       product_name_lenght  product_description_lenght  product_photos_qty  \\\n",
              "16350                 55.0                       483.0                 1.0   \n",
              "1977                  53.0                       267.0                 3.0   \n",
              "16327                 56.0                       603.0                 1.0   \n",
              "\n",
              "       product_weight_g  product_length_cm  product_height_cm  \\\n",
              "16350             150.0               16.0               12.0   \n",
              "1977            16600.0               42.0               90.0   \n",
              "16327            2400.0               40.0               35.0   \n",
              "\n",
              "       product_width_cm  \n",
              "16350              15.0  \n",
              "1977               26.0  \n",
              "16327              35.0  "
            ]
          },
          "execution_count": 280,
          "metadata": {},
          "output_type": "execute_result"
        }
      ],
      "source": [
        "print(products.shape)\n",
        "products.sample(3)"
      ]
    },
    {
      "cell_type": "code",
      "execution_count": 281,
      "metadata": {},
      "outputs": [
        {
          "name": "stdout",
          "output_type": "stream",
          "text": [
            "(71, 2)\n"
          ]
        },
        {
          "data": {
            "text/html": [
              "<div>\n",
              "<style scoped>\n",
              "    .dataframe tbody tr th:only-of-type {\n",
              "        vertical-align: middle;\n",
              "    }\n",
              "\n",
              "    .dataframe tbody tr th {\n",
              "        vertical-align: top;\n",
              "    }\n",
              "\n",
              "    .dataframe thead th {\n",
              "        text-align: right;\n",
              "    }\n",
              "</style>\n",
              "<table border=\"1\" class=\"dataframe\">\n",
              "  <thead>\n",
              "    <tr style=\"text-align: right;\">\n",
              "      <th></th>\n",
              "      <th>product_category_name</th>\n",
              "      <th>product_category_name_english</th>\n",
              "    </tr>\n",
              "  </thead>\n",
              "  <tbody>\n",
              "    <tr>\n",
              "      <th>35</th>\n",
              "      <td>casa_conforto</td>\n",
              "      <td>home_confort</td>\n",
              "    </tr>\n",
              "    <tr>\n",
              "      <th>20</th>\n",
              "      <td>audio</td>\n",
              "      <td>audio</td>\n",
              "    </tr>\n",
              "    <tr>\n",
              "      <th>53</th>\n",
              "      <td>pcs</td>\n",
              "      <td>computers</td>\n",
              "    </tr>\n",
              "  </tbody>\n",
              "</table>\n",
              "</div>"
            ],
            "text/plain": [
              "   product_category_name product_category_name_english\n",
              "35         casa_conforto                  home_confort\n",
              "20                 audio                         audio\n",
              "53                   pcs                     computers"
            ]
          },
          "execution_count": 281,
          "metadata": {},
          "output_type": "execute_result"
        }
      ],
      "source": [
        "print(product_cat_name.shape)\n",
        "product_cat_name.sample(3)"
      ]
    },
    {
      "cell_type": "code",
      "execution_count": 282,
      "metadata": {},
      "outputs": [
        {
          "name": "stdout",
          "output_type": "stream",
          "text": [
            "(32328, 10)\n"
          ]
        },
        {
          "data": {
            "text/html": [
              "<div>\n",
              "<style scoped>\n",
              "    .dataframe tbody tr th:only-of-type {\n",
              "        vertical-align: middle;\n",
              "    }\n",
              "\n",
              "    .dataframe tbody tr th {\n",
              "        vertical-align: top;\n",
              "    }\n",
              "\n",
              "    .dataframe thead th {\n",
              "        text-align: right;\n",
              "    }\n",
              "</style>\n",
              "<table border=\"1\" class=\"dataframe\">\n",
              "  <thead>\n",
              "    <tr style=\"text-align: right;\">\n",
              "      <th></th>\n",
              "      <th>product_id</th>\n",
              "      <th>product_category_name</th>\n",
              "      <th>product_name_lenght</th>\n",
              "      <th>product_description_lenght</th>\n",
              "      <th>product_photos_qty</th>\n",
              "      <th>product_weight_g</th>\n",
              "      <th>product_length_cm</th>\n",
              "      <th>product_height_cm</th>\n",
              "      <th>product_width_cm</th>\n",
              "      <th>product_category_name_english</th>\n",
              "    </tr>\n",
              "  </thead>\n",
              "  <tbody>\n",
              "    <tr>\n",
              "      <th>31392</th>\n",
              "      <td>d9894482fba41f536a273ba2276d951f</td>\n",
              "      <td>market_place</td>\n",
              "      <td>62.0</td>\n",
              "      <td>310.0</td>\n",
              "      <td>2.0</td>\n",
              "      <td>600.0</td>\n",
              "      <td>20.0</td>\n",
              "      <td>14.0</td>\n",
              "      <td>20.0</td>\n",
              "      <td>market_place</td>\n",
              "    </tr>\n",
              "    <tr>\n",
              "      <th>3811</th>\n",
              "      <td>f3979f97b4913d696bbe9c7c425c5e4e</td>\n",
              "      <td>bebes</td>\n",
              "      <td>36.0</td>\n",
              "      <td>654.0</td>\n",
              "      <td>3.0</td>\n",
              "      <td>18667.0</td>\n",
              "      <td>88.0</td>\n",
              "      <td>28.0</td>\n",
              "      <td>67.0</td>\n",
              "      <td>baby</td>\n",
              "    </tr>\n",
              "    <tr>\n",
              "      <th>22916</th>\n",
              "      <td>4cbe01e6e8b6d49ce7880528c00b6c31</td>\n",
              "      <td>automotivo</td>\n",
              "      <td>57.0</td>\n",
              "      <td>347.0</td>\n",
              "      <td>2.0</td>\n",
              "      <td>3800.0</td>\n",
              "      <td>39.0</td>\n",
              "      <td>5.0</td>\n",
              "      <td>39.0</td>\n",
              "      <td>auto</td>\n",
              "    </tr>\n",
              "  </tbody>\n",
              "</table>\n",
              "</div>"
            ],
            "text/plain": [
              "                             product_id product_category_name  \\\n",
              "31392  d9894482fba41f536a273ba2276d951f          market_place   \n",
              "3811   f3979f97b4913d696bbe9c7c425c5e4e                 bebes   \n",
              "22916  4cbe01e6e8b6d49ce7880528c00b6c31            automotivo   \n",
              "\n",
              "       product_name_lenght  product_description_lenght  product_photos_qty  \\\n",
              "31392                 62.0                       310.0                 2.0   \n",
              "3811                  36.0                       654.0                 3.0   \n",
              "22916                 57.0                       347.0                 2.0   \n",
              "\n",
              "       product_weight_g  product_length_cm  product_height_cm  \\\n",
              "31392             600.0               20.0               14.0   \n",
              "3811            18667.0               88.0               28.0   \n",
              "22916            3800.0               39.0                5.0   \n",
              "\n",
              "       product_width_cm product_category_name_english  \n",
              "31392              20.0                  market_place  \n",
              "3811               67.0                          baby  \n",
              "22916              39.0                          auto  "
            ]
          },
          "execution_count": 282,
          "metadata": {},
          "output_type": "execute_result"
        }
      ],
      "source": [
        "products_cat_name_translation = pd.merge(left=products, right=product_cat_name, on='product_category_name')\n",
        "print(products_cat_name_translation.shape)\n",
        "products_cat_name_translation.sample(3)"
      ]
    },
    {
      "cell_type": "markdown",
      "metadata": {},
      "source": [
        "#### Merger customer, order and product"
      ]
    },
    {
      "cell_type": "code",
      "execution_count": 283,
      "metadata": {},
      "outputs": [
        {
          "name": "stdout",
          "output_type": "stream",
          "text": [
            "(115609, 40)\n"
          ]
        },
        {
          "data": {
            "text/html": [
              "<div>\n",
              "<style scoped>\n",
              "    .dataframe tbody tr th:only-of-type {\n",
              "        vertical-align: middle;\n",
              "    }\n",
              "\n",
              "    .dataframe tbody tr th {\n",
              "        vertical-align: top;\n",
              "    }\n",
              "\n",
              "    .dataframe thead th {\n",
              "        text-align: right;\n",
              "    }\n",
              "</style>\n",
              "<table border=\"1\" class=\"dataframe\">\n",
              "  <thead>\n",
              "    <tr style=\"text-align: right;\">\n",
              "      <th></th>\n",
              "      <th>order_id</th>\n",
              "      <th>order_status</th>\n",
              "      <th>order_item_id</th>\n",
              "      <th>price</th>\n",
              "      <th>product_id</th>\n",
              "      <th>total_price</th>\n",
              "      <th>product_category_name</th>\n",
              "      <th>product_category_name_english</th>\n",
              "    </tr>\n",
              "  </thead>\n",
              "  <tbody>\n",
              "    <tr>\n",
              "      <th>387</th>\n",
              "      <td>5ff96c15d0b717ac6ad1f3d77225a350</td>\n",
              "      <td>delivered</td>\n",
              "      <td>1</td>\n",
              "      <td>19.90</td>\n",
              "      <td>10adb53d8faa890ca7c2f0cbcb68d777</td>\n",
              "      <td>19.90</td>\n",
              "      <td>cama_mesa_banho</td>\n",
              "      <td>bed_bath_table</td>\n",
              "    </tr>\n",
              "    <tr>\n",
              "      <th>388</th>\n",
              "      <td>270cd1874ca5310906e251407490d66c</td>\n",
              "      <td>delivered</td>\n",
              "      <td>1</td>\n",
              "      <td>19.90</td>\n",
              "      <td>10adb53d8faa890ca7c2f0cbcb68d777</td>\n",
              "      <td>19.90</td>\n",
              "      <td>cama_mesa_banho</td>\n",
              "      <td>bed_bath_table</td>\n",
              "    </tr>\n",
              "    <tr>\n",
              "      <th>389</th>\n",
              "      <td>3dcab1487bcd1dbcc6c968fdfe0511fb</td>\n",
              "      <td>delivered</td>\n",
              "      <td>2</td>\n",
              "      <td>19.90</td>\n",
              "      <td>10adb53d8faa890ca7c2f0cbcb68d777</td>\n",
              "      <td>39.80</td>\n",
              "      <td>cama_mesa_banho</td>\n",
              "      <td>bed_bath_table</td>\n",
              "    </tr>\n",
              "    <tr>\n",
              "      <th>390</th>\n",
              "      <td>224bad763c3bcc7aea8ca8f87fce6608</td>\n",
              "      <td>delivered</td>\n",
              "      <td>1</td>\n",
              "      <td>19.90</td>\n",
              "      <td>10adb53d8faa890ca7c2f0cbcb68d777</td>\n",
              "      <td>19.90</td>\n",
              "      <td>cama_mesa_banho</td>\n",
              "      <td>bed_bath_table</td>\n",
              "    </tr>\n",
              "    <tr>\n",
              "      <th>391</th>\n",
              "      <td>e0e3cde1bd7f993b460771481843727f</td>\n",
              "      <td>delivered</td>\n",
              "      <td>3</td>\n",
              "      <td>19.90</td>\n",
              "      <td>10adb53d8faa890ca7c2f0cbcb68d777</td>\n",
              "      <td>59.70</td>\n",
              "      <td>cama_mesa_banho</td>\n",
              "      <td>bed_bath_table</td>\n",
              "    </tr>\n",
              "    <tr>\n",
              "      <th>...</th>\n",
              "      <td>...</td>\n",
              "      <td>...</td>\n",
              "      <td>...</td>\n",
              "      <td>...</td>\n",
              "      <td>...</td>\n",
              "      <td>...</td>\n",
              "      <td>...</td>\n",
              "      <td>...</td>\n",
              "    </tr>\n",
              "    <tr>\n",
              "      <th>115553</th>\n",
              "      <td>3b506802b619f7a3d43a4180ae13698f</td>\n",
              "      <td>delivered</td>\n",
              "      <td>1</td>\n",
              "      <td>170.00</td>\n",
              "      <td>1fbeaaa01377d3f600de52f455ef578c</td>\n",
              "      <td>170.00</td>\n",
              "      <td>cama_mesa_banho</td>\n",
              "      <td>bed_bath_table</td>\n",
              "    </tr>\n",
              "    <tr>\n",
              "      <th>115562</th>\n",
              "      <td>2583b27eb8957bea688a9cd41b7c0f47</td>\n",
              "      <td>delivered</td>\n",
              "      <td>1</td>\n",
              "      <td>249.99</td>\n",
              "      <td>914997fa7aef743334b7c0da8580fd5e</td>\n",
              "      <td>249.99</td>\n",
              "      <td>cama_mesa_banho</td>\n",
              "      <td>bed_bath_table</td>\n",
              "    </tr>\n",
              "    <tr>\n",
              "      <th>115563</th>\n",
              "      <td>08b46ab06eaf71cf043929ebf277e280</td>\n",
              "      <td>delivered</td>\n",
              "      <td>2</td>\n",
              "      <td>40.00</td>\n",
              "      <td>93dd9d8291fad4757cf910f1a80eb0ac</td>\n",
              "      <td>80.00</td>\n",
              "      <td>cama_mesa_banho</td>\n",
              "      <td>bed_bath_table</td>\n",
              "    </tr>\n",
              "    <tr>\n",
              "      <th>115573</th>\n",
              "      <td>17ff863d51f7f8ee2c9dc76413c43b54</td>\n",
              "      <td>delivered</td>\n",
              "      <td>1</td>\n",
              "      <td>119.90</td>\n",
              "      <td>29353bc591cb0f1a7cfa75382a0c6170</td>\n",
              "      <td>119.90</td>\n",
              "      <td>cama_mesa_banho</td>\n",
              "      <td>bed_bath_table</td>\n",
              "    </tr>\n",
              "    <tr>\n",
              "      <th>115595</th>\n",
              "      <td>432b94fc93fa7876de3b78bd99ddc053</td>\n",
              "      <td>delivered</td>\n",
              "      <td>1</td>\n",
              "      <td>146.99</td>\n",
              "      <td>d275bb0f793c1f80031e1f6ae7e1ab00</td>\n",
              "      <td>146.99</td>\n",
              "      <td>cama_mesa_banho</td>\n",
              "      <td>bed_bath_table</td>\n",
              "    </tr>\n",
              "  </tbody>\n",
              "</table>\n",
              "<p>11847 rows × 8 columns</p>\n",
              "</div>"
            ],
            "text/plain": [
              "                                order_id order_status  order_item_id   price  \\\n",
              "387     5ff96c15d0b717ac6ad1f3d77225a350    delivered              1   19.90   \n",
              "388     270cd1874ca5310906e251407490d66c    delivered              1   19.90   \n",
              "389     3dcab1487bcd1dbcc6c968fdfe0511fb    delivered              2   19.90   \n",
              "390     224bad763c3bcc7aea8ca8f87fce6608    delivered              1   19.90   \n",
              "391     e0e3cde1bd7f993b460771481843727f    delivered              3   19.90   \n",
              "...                                  ...          ...            ...     ...   \n",
              "115553  3b506802b619f7a3d43a4180ae13698f    delivered              1  170.00   \n",
              "115562  2583b27eb8957bea688a9cd41b7c0f47    delivered              1  249.99   \n",
              "115563  08b46ab06eaf71cf043929ebf277e280    delivered              2   40.00   \n",
              "115573  17ff863d51f7f8ee2c9dc76413c43b54    delivered              1  119.90   \n",
              "115595  432b94fc93fa7876de3b78bd99ddc053    delivered              1  146.99   \n",
              "\n",
              "                              product_id  total_price product_category_name  \\\n",
              "387     10adb53d8faa890ca7c2f0cbcb68d777        19.90       cama_mesa_banho   \n",
              "388     10adb53d8faa890ca7c2f0cbcb68d777        19.90       cama_mesa_banho   \n",
              "389     10adb53d8faa890ca7c2f0cbcb68d777        39.80       cama_mesa_banho   \n",
              "390     10adb53d8faa890ca7c2f0cbcb68d777        19.90       cama_mesa_banho   \n",
              "391     10adb53d8faa890ca7c2f0cbcb68d777        59.70       cama_mesa_banho   \n",
              "...                                  ...          ...                   ...   \n",
              "115553  1fbeaaa01377d3f600de52f455ef578c       170.00       cama_mesa_banho   \n",
              "115562  914997fa7aef743334b7c0da8580fd5e       249.99       cama_mesa_banho   \n",
              "115563  93dd9d8291fad4757cf910f1a80eb0ac        80.00       cama_mesa_banho   \n",
              "115573  29353bc591cb0f1a7cfa75382a0c6170       119.90       cama_mesa_banho   \n",
              "115595  d275bb0f793c1f80031e1f6ae7e1ab00       146.99       cama_mesa_banho   \n",
              "\n",
              "       product_category_name_english  \n",
              "387                   bed_bath_table  \n",
              "388                   bed_bath_table  \n",
              "389                   bed_bath_table  \n",
              "390                   bed_bath_table  \n",
              "391                   bed_bath_table  \n",
              "...                              ...  \n",
              "115553                bed_bath_table  \n",
              "115562                bed_bath_table  \n",
              "115563                bed_bath_table  \n",
              "115573                bed_bath_table  \n",
              "115595                bed_bath_table  \n",
              "\n",
              "[11847 rows x 8 columns]"
            ]
          },
          "execution_count": 283,
          "metadata": {},
          "output_type": "execute_result"
        }
      ],
      "source": [
        "order_cust = pd.merge(left=all_orders, right=customers, on='customer_id')\n",
        "all_dataset = pd.merge(left=order_cust, right=products_cat_name_translation, on='product_id')\n",
        "print(all_dataset.shape)\n",
        "\n",
        "df = all_dataset[['order_id', 'order_status', 'order_item_id', 'price', 'product_id', 'total_price','product_category_name', 'product_category_name_english']]\n",
        "df[df.product_category_name_english == 'bed_bath_table']"
      ]
    },
    {
      "cell_type": "code",
      "execution_count": 284,
      "metadata": {},
      "outputs": [
        {
          "data": {
            "text/html": [
              "<div>\n",
              "<style scoped>\n",
              "    .dataframe tbody tr th:only-of-type {\n",
              "        vertical-align: middle;\n",
              "    }\n",
              "\n",
              "    .dataframe tbody tr th {\n",
              "        vertical-align: top;\n",
              "    }\n",
              "\n",
              "    .dataframe thead th {\n",
              "        text-align: right;\n",
              "    }\n",
              "</style>\n",
              "<table border=\"1\" class=\"dataframe\">\n",
              "  <thead>\n",
              "    <tr style=\"text-align: right;\">\n",
              "      <th></th>\n",
              "      <th>product_category_name_english</th>\n",
              "      <th>order_id</th>\n",
              "      <th>order_item_id</th>\n",
              "      <th>total_price</th>\n",
              "    </tr>\n",
              "  </thead>\n",
              "  <tbody>\n",
              "    <tr>\n",
              "      <th>7</th>\n",
              "      <td>bed_bath_table</td>\n",
              "      <td>11847</td>\n",
              "      <td>14608</td>\n",
              "      <td>1301396.26</td>\n",
              "    </tr>\n",
              "    <tr>\n",
              "      <th>43</th>\n",
              "      <td>health_beauty</td>\n",
              "      <td>9944</td>\n",
              "      <td>11368</td>\n",
              "      <td>1384414.30</td>\n",
              "    </tr>\n",
              "    <tr>\n",
              "      <th>65</th>\n",
              "      <td>sports_leisure</td>\n",
              "      <td>8942</td>\n",
              "      <td>10273</td>\n",
              "      <td>1119662.44</td>\n",
              "    </tr>\n",
              "    <tr>\n",
              "      <th>39</th>\n",
              "      <td>furniture_decor</td>\n",
              "      <td>8743</td>\n",
              "      <td>12038</td>\n",
              "      <td>969488.82</td>\n",
              "    </tr>\n",
              "    <tr>\n",
              "      <th>15</th>\n",
              "      <td>computers_accessories</td>\n",
              "      <td>8105</td>\n",
              "      <td>10222</td>\n",
              "      <td>1171994.41</td>\n",
              "    </tr>\n",
              "    <tr>\n",
              "      <th>...</th>\n",
              "      <td>...</td>\n",
              "      <td>...</td>\n",
              "      <td>...</td>\n",
              "      <td>...</td>\n",
              "    </tr>\n",
              "    <tr>\n",
              "      <th>3</th>\n",
              "      <td>arts_and_craftmanship</td>\n",
              "      <td>24</td>\n",
              "      <td>26</td>\n",
              "      <td>1875.90</td>\n",
              "    </tr>\n",
              "    <tr>\n",
              "      <th>52</th>\n",
              "      <td>la_cuisine</td>\n",
              "      <td>15</td>\n",
              "      <td>17</td>\n",
              "      <td>2330.98</td>\n",
              "    </tr>\n",
              "    <tr>\n",
              "      <th>11</th>\n",
              "      <td>cds_dvds_musicals</td>\n",
              "      <td>14</td>\n",
              "      <td>16</td>\n",
              "      <td>820.00</td>\n",
              "    </tr>\n",
              "    <tr>\n",
              "      <th>29</th>\n",
              "      <td>fashion_childrens_clothes</td>\n",
              "      <td>8</td>\n",
              "      <td>8</td>\n",
              "      <td>569.85</td>\n",
              "    </tr>\n",
              "    <tr>\n",
              "      <th>61</th>\n",
              "      <td>security_and_services</td>\n",
              "      <td>2</td>\n",
              "      <td>2</td>\n",
              "      <td>283.29</td>\n",
              "    </tr>\n",
              "  </tbody>\n",
              "</table>\n",
              "<p>71 rows × 4 columns</p>\n",
              "</div>"
            ],
            "text/plain": [
              "   product_category_name_english  order_id  order_item_id  total_price\n",
              "7                 bed_bath_table     11847          14608   1301396.26\n",
              "43                 health_beauty      9944          11368   1384414.30\n",
              "65                sports_leisure      8942          10273   1119662.44\n",
              "39               furniture_decor      8743          12038    969488.82\n",
              "15         computers_accessories      8105          10222   1171994.41\n",
              "..                           ...       ...            ...          ...\n",
              "3          arts_and_craftmanship        24             26      1875.90\n",
              "52                    la_cuisine        15             17      2330.98\n",
              "11             cds_dvds_musicals        14             16       820.00\n",
              "29     fashion_childrens_clothes         8              8       569.85\n",
              "61         security_and_services         2              2       283.29\n",
              "\n",
              "[71 rows x 4 columns]"
            ]
          },
          "execution_count": 284,
          "metadata": {},
          "output_type": "execute_result"
        }
      ],
      "source": [
        "df.groupby(by='product_category_name_english').agg({\n",
        "    'order_id':'count',\n",
        "    'order_item_id':'sum',\n",
        "    'total_price':'sum'\n",
        "}).reset_index().sort_values(by='order_id', ascending=False)"
      ]
    },
    {
      "cell_type": "code",
      "execution_count": 285,
      "metadata": {},
      "outputs": [],
      "source": [
        "# cities with the most order \n",
        "order_in_cities = all_dataset.groupby(by='customer_city').agg({\n",
        "    'order_id':'nunique'\n",
        "    }).sort_values(by='order_id', ascending=False).reset_index().rename(columns={'order_id':'jml_order'})\n",
        "\n",
        "# states with the most order \n",
        "order_in_states = all_dataset.groupby(by='customer_state').agg({\n",
        "    'order_id':'nunique'\n",
        "    }).sort_values(by='order_id', ascending=False).reset_index().rename(columns={'order_id':'jml_order'})\n",
        "\n",
        "\n",
        "# order_in_cities.head()"
      ]
    },
    {
      "cell_type": "code",
      "execution_count": 286,
      "metadata": {},
      "outputs": [
        {
          "name": "stdout",
          "output_type": "stream",
          "text": [
            "<class 'pandas.core.frame.DataFrame'>\n",
            "RangeIndex: 115609 entries, 0 to 115608\n",
            "Data columns (total 40 columns):\n",
            " #   Column                         Non-Null Count   Dtype         \n",
            "---  ------                         --------------   -----         \n",
            " 0   order_id                       115609 non-null  object        \n",
            " 1   customer_id                    115609 non-null  object        \n",
            " 2   order_status                   115609 non-null  object        \n",
            " 3   order_purchase_timestamp       115609 non-null  datetime64[ns]\n",
            " 4   order_approved_at              115595 non-null  datetime64[ns]\n",
            " 5   order_delivered_carrier_date   114414 non-null  datetime64[ns]\n",
            " 6   order_delivered_customer_date  113209 non-null  datetime64[ns]\n",
            " 7   order_estimated_delivery_date  115609 non-null  datetime64[ns]\n",
            " 8   delivery_time                  113195 non-null  float64       \n",
            " 9   order_item_id                  115609 non-null  int64         \n",
            " 10  product_id                     115609 non-null  object        \n",
            " 11  seller_id                      115609 non-null  object        \n",
            " 12  shipping_limit_date            115609 non-null  datetime64[ns]\n",
            " 13  price                          115609 non-null  float64       \n",
            " 14  freight_value                  115609 non-null  float64       \n",
            " 15  total_price                    115609 non-null  float64       \n",
            " 16  payment_sequential             115609 non-null  int64         \n",
            " 17  payment_type                   115609 non-null  object        \n",
            " 18  payment_installments           115609 non-null  int64         \n",
            " 19  payment_value                  115609 non-null  float64       \n",
            " 20  review_id                      115609 non-null  object        \n",
            " 21  review_score                   115609 non-null  int64         \n",
            " 22  review_comment_title           13801 non-null   object        \n",
            " 23  review_comment_message         48906 non-null   object        \n",
            " 24  review_creation_date           115609 non-null  datetime64[ns]\n",
            " 25  review_answer_timestamp        115609 non-null  datetime64[ns]\n",
            " 26  customer_unique_id             115609 non-null  object        \n",
            " 27  customer_zip_code_prefix       115609 non-null  int64         \n",
            " 28  customer_city                  115609 non-null  object        \n",
            " 29  customer_state                 115609 non-null  object        \n",
            " 30  cust_status                    115609 non-null  object        \n",
            " 31  product_category_name          115609 non-null  object        \n",
            " 32  product_name_lenght            115609 non-null  float64       \n",
            " 33  product_description_lenght     115609 non-null  float64       \n",
            " 34  product_photos_qty             115609 non-null  float64       \n",
            " 35  product_weight_g               115608 non-null  float64       \n",
            " 36  product_length_cm              115608 non-null  float64       \n",
            " 37  product_height_cm              115608 non-null  float64       \n",
            " 38  product_width_cm               115608 non-null  float64       \n",
            " 39  product_category_name_english  115609 non-null  object        \n",
            "dtypes: datetime64[ns](8), float64(12), int64(5), object(15)\n",
            "memory usage: 35.3+ MB\n"
          ]
        }
      ],
      "source": [
        "all_dataset.info()"
      ]
    },
    {
      "cell_type": "code",
      "execution_count": 311,
      "metadata": {},
      "outputs": [],
      "source": [
        "all_dataset.to_csv('data/all_dataset.csv', index=False)"
      ]
    },
    {
      "cell_type": "markdown",
      "metadata": {
        "id": "SCNmtOLp9OKB"
      },
      "source": [
        "## Visualization & Explanatory Analysis"
      ]
    },
    {
      "cell_type": "markdown",
      "metadata": {
        "id": "SG59_Fbj9Qr6"
      },
      "source": [
        "### Pertanyaan 1: dimana saja kota tempat tinggal customer dan kota mana yang paling banyak, dari wilayah tsb dimana order paling banyak"
      ]
    },
    {
      "cell_type": "code",
      "execution_count": 287,
      "metadata": {
        "id": "dtRoaxqd9PdU"
      },
      "outputs": [
        {
          "data": {
            "text/html": [
              "<div>\n",
              "<style scoped>\n",
              "    .dataframe tbody tr th:only-of-type {\n",
              "        vertical-align: middle;\n",
              "    }\n",
              "\n",
              "    .dataframe tbody tr th {\n",
              "        vertical-align: top;\n",
              "    }\n",
              "\n",
              "    .dataframe thead th {\n",
              "        text-align: right;\n",
              "    }\n",
              "</style>\n",
              "<table border=\"1\" class=\"dataframe\">\n",
              "  <thead>\n",
              "    <tr style=\"text-align: right;\">\n",
              "      <th></th>\n",
              "      <th>customer_state</th>\n",
              "      <th>jml_cust</th>\n",
              "      <th>%</th>\n",
              "    </tr>\n",
              "  </thead>\n",
              "  <tbody>\n",
              "    <tr>\n",
              "      <th>0</th>\n",
              "      <td>SP</td>\n",
              "      <td>41746</td>\n",
              "      <td>0.419807</td>\n",
              "    </tr>\n",
              "    <tr>\n",
              "      <th>1</th>\n",
              "      <td>RJ</td>\n",
              "      <td>12852</td>\n",
              "      <td>0.129242</td>\n",
              "    </tr>\n",
              "    <tr>\n",
              "      <th>2</th>\n",
              "      <td>MG</td>\n",
              "      <td>11635</td>\n",
              "      <td>0.117004</td>\n",
              "    </tr>\n",
              "    <tr>\n",
              "      <th>3</th>\n",
              "      <td>RS</td>\n",
              "      <td>5466</td>\n",
              "      <td>0.054967</td>\n",
              "    </tr>\n",
              "    <tr>\n",
              "      <th>4</th>\n",
              "      <td>PR</td>\n",
              "      <td>5045</td>\n",
              "      <td>0.050734</td>\n",
              "    </tr>\n",
              "  </tbody>\n",
              "</table>\n",
              "</div>"
            ],
            "text/plain": [
              "  customer_state  jml_cust         %\n",
              "0             SP     41746  0.419807\n",
              "1             RJ     12852  0.129242\n",
              "2             MG     11635  0.117004\n",
              "3             RS      5466  0.054967\n",
              "4             PR      5045  0.050734"
            ]
          },
          "execution_count": 287,
          "metadata": {},
          "output_type": "execute_result"
        }
      ],
      "source": [
        "custby_states['%'] = custby_states.jml_cust/custby_states.jml_cust.sum()\n",
        "custby_states.head()"
      ]
    },
    {
      "cell_type": "code",
      "execution_count": 313,
      "metadata": {},
      "outputs": [
        {
          "data": {
            "text/html": [
              "<div>\n",
              "<style scoped>\n",
              "    .dataframe tbody tr th:only-of-type {\n",
              "        vertical-align: middle;\n",
              "    }\n",
              "\n",
              "    .dataframe tbody tr th {\n",
              "        vertical-align: top;\n",
              "    }\n",
              "\n",
              "    .dataframe thead th {\n",
              "        text-align: right;\n",
              "    }\n",
              "</style>\n",
              "<table border=\"1\" class=\"dataframe\">\n",
              "  <thead>\n",
              "    <tr style=\"text-align: right;\">\n",
              "      <th></th>\n",
              "      <th>customer_state</th>\n",
              "      <th>jml_cust</th>\n",
              "    </tr>\n",
              "  </thead>\n",
              "  <tbody>\n",
              "    <tr>\n",
              "      <th>0</th>\n",
              "      <td>SP</td>\n",
              "      <td>40536</td>\n",
              "    </tr>\n",
              "    <tr>\n",
              "      <th>1</th>\n",
              "      <td>RJ</td>\n",
              "      <td>12410</td>\n",
              "    </tr>\n",
              "    <tr>\n",
              "      <th>2</th>\n",
              "      <td>MG</td>\n",
              "      <td>11297</td>\n",
              "    </tr>\n",
              "    <tr>\n",
              "      <th>3</th>\n",
              "      <td>RS</td>\n",
              "      <td>5331</td>\n",
              "    </tr>\n",
              "    <tr>\n",
              "      <th>4</th>\n",
              "      <td>PR</td>\n",
              "      <td>4902</td>\n",
              "    </tr>\n",
              "    <tr>\n",
              "      <th>5</th>\n",
              "      <td>SC</td>\n",
              "      <td>3526</td>\n",
              "    </tr>\n",
              "    <tr>\n",
              "      <th>6</th>\n",
              "      <td>BA</td>\n",
              "      <td>3277</td>\n",
              "    </tr>\n",
              "    <tr>\n",
              "      <th>7</th>\n",
              "      <td>DF</td>\n",
              "      <td>2084</td>\n",
              "    </tr>\n",
              "    <tr>\n",
              "      <th>8</th>\n",
              "      <td>ES</td>\n",
              "      <td>1981</td>\n",
              "    </tr>\n",
              "    <tr>\n",
              "      <th>9</th>\n",
              "      <td>GO</td>\n",
              "      <td>1946</td>\n",
              "    </tr>\n",
              "    <tr>\n",
              "      <th>10</th>\n",
              "      <td>PE</td>\n",
              "      <td>1613</td>\n",
              "    </tr>\n",
              "    <tr>\n",
              "      <th>11</th>\n",
              "      <td>CE</td>\n",
              "      <td>1302</td>\n",
              "    </tr>\n",
              "    <tr>\n",
              "      <th>12</th>\n",
              "      <td>PA</td>\n",
              "      <td>938</td>\n",
              "    </tr>\n",
              "    <tr>\n",
              "      <th>13</th>\n",
              "      <td>MT</td>\n",
              "      <td>885</td>\n",
              "    </tr>\n",
              "    <tr>\n",
              "      <th>14</th>\n",
              "      <td>MA</td>\n",
              "      <td>725</td>\n",
              "    </tr>\n",
              "    <tr>\n",
              "      <th>15</th>\n",
              "      <td>MS</td>\n",
              "      <td>698</td>\n",
              "    </tr>\n",
              "    <tr>\n",
              "      <th>16</th>\n",
              "      <td>PB</td>\n",
              "      <td>517</td>\n",
              "    </tr>\n",
              "    <tr>\n",
              "      <th>17</th>\n",
              "      <td>PI</td>\n",
              "      <td>481</td>\n",
              "    </tr>\n",
              "    <tr>\n",
              "      <th>18</th>\n",
              "      <td>RN</td>\n",
              "      <td>472</td>\n",
              "    </tr>\n",
              "    <tr>\n",
              "      <th>19</th>\n",
              "      <td>AL</td>\n",
              "      <td>404</td>\n",
              "    </tr>\n",
              "    <tr>\n",
              "      <th>20</th>\n",
              "      <td>SE</td>\n",
              "      <td>342</td>\n",
              "    </tr>\n",
              "    <tr>\n",
              "      <th>21</th>\n",
              "      <td>TO</td>\n",
              "      <td>274</td>\n",
              "    </tr>\n",
              "    <tr>\n",
              "      <th>22</th>\n",
              "      <td>RO</td>\n",
              "      <td>241</td>\n",
              "    </tr>\n",
              "    <tr>\n",
              "      <th>23</th>\n",
              "      <td>AM</td>\n",
              "      <td>144</td>\n",
              "    </tr>\n",
              "    <tr>\n",
              "      <th>24</th>\n",
              "      <td>AC</td>\n",
              "      <td>79</td>\n",
              "    </tr>\n",
              "    <tr>\n",
              "      <th>25</th>\n",
              "      <td>AP</td>\n",
              "      <td>67</td>\n",
              "    </tr>\n",
              "    <tr>\n",
              "      <th>26</th>\n",
              "      <td>RR</td>\n",
              "      <td>44</td>\n",
              "    </tr>\n",
              "  </tbody>\n",
              "</table>\n",
              "</div>"
            ],
            "text/plain": [
              "   customer_state  jml_cust\n",
              "0              SP     40536\n",
              "1              RJ     12410\n",
              "2              MG     11297\n",
              "3              RS      5331\n",
              "4              PR      4902\n",
              "5              SC      3526\n",
              "6              BA      3277\n",
              "7              DF      2084\n",
              "8              ES      1981\n",
              "9              GO      1946\n",
              "10             PE      1613\n",
              "11             CE      1302\n",
              "12             PA       938\n",
              "13             MT       885\n",
              "14             MA       725\n",
              "15             MS       698\n",
              "16             PB       517\n",
              "17             PI       481\n",
              "18             RN       472\n",
              "19             AL       404\n",
              "20             SE       342\n",
              "21             TO       274\n",
              "22             RO       241\n",
              "23             AM       144\n",
              "24             AC        79\n",
              "25             AP        67\n",
              "26             RR        44"
            ]
          },
          "execution_count": 313,
          "metadata": {},
          "output_type": "execute_result"
        }
      ],
      "source": [
        "all_dataset.groupby(by=['customer_state']).customer_id.nunique().sort_values(ascending=False).reset_index().rename(columns={'customer_id':'jml_cust'})"
      ]
    },
    {
      "cell_type": "code",
      "execution_count": 289,
      "metadata": {},
      "outputs": [
        {
          "data": {
            "application/vnd.plotly.v1+json": {
              "config": {
                "plotlyServerURL": "https://plot.ly"
              },
              "data": [
                {
                  "alignmentgroup": "True",
                  "hovertemplate": "customer_state=%{x}<br>jml_cust=%{y}<extra></extra>",
                  "legendgroup": "",
                  "marker": {
                    "color": "#636efa",
                    "pattern": {
                      "shape": ""
                    }
                  },
                  "name": "",
                  "offsetgroup": "",
                  "orientation": "v",
                  "showlegend": false,
                  "textposition": "auto",
                  "type": "bar",
                  "x": [
                    "SP",
                    "RJ",
                    "MG",
                    "RS",
                    "PR",
                    "SC",
                    "BA",
                    "DF",
                    "ES",
                    "GO",
                    "PE",
                    "CE",
                    "PA",
                    "MT",
                    "MA",
                    "MS",
                    "PB",
                    "PI",
                    "RN",
                    "AL",
                    "SE",
                    "TO",
                    "RO",
                    "AM",
                    "AC",
                    "AP",
                    "RR"
                  ],
                  "xaxis": "x",
                  "y": [
                    41746,
                    12852,
                    11635,
                    5466,
                    5045,
                    3637,
                    3380,
                    2140,
                    2033,
                    2020,
                    1652,
                    1336,
                    975,
                    907,
                    747,
                    715,
                    536,
                    495,
                    485,
                    413,
                    350,
                    280,
                    253,
                    148,
                    81,
                    68,
                    46
                  ],
                  "yaxis": "y"
                }
              ],
              "layout": {
                "barmode": "relative",
                "legend": {
                  "tracegroupgap": 0
                },
                "template": {
                  "data": {
                    "bar": [
                      {
                        "error_x": {
                          "color": "#2a3f5f"
                        },
                        "error_y": {
                          "color": "#2a3f5f"
                        },
                        "marker": {
                          "line": {
                            "color": "#E5ECF6",
                            "width": 0.5
                          },
                          "pattern": {
                            "fillmode": "overlay",
                            "size": 10,
                            "solidity": 0.2
                          }
                        },
                        "type": "bar"
                      }
                    ],
                    "barpolar": [
                      {
                        "marker": {
                          "line": {
                            "color": "#E5ECF6",
                            "width": 0.5
                          },
                          "pattern": {
                            "fillmode": "overlay",
                            "size": 10,
                            "solidity": 0.2
                          }
                        },
                        "type": "barpolar"
                      }
                    ],
                    "carpet": [
                      {
                        "aaxis": {
                          "endlinecolor": "#2a3f5f",
                          "gridcolor": "white",
                          "linecolor": "white",
                          "minorgridcolor": "white",
                          "startlinecolor": "#2a3f5f"
                        },
                        "baxis": {
                          "endlinecolor": "#2a3f5f",
                          "gridcolor": "white",
                          "linecolor": "white",
                          "minorgridcolor": "white",
                          "startlinecolor": "#2a3f5f"
                        },
                        "type": "carpet"
                      }
                    ],
                    "choropleth": [
                      {
                        "colorbar": {
                          "outlinewidth": 0,
                          "ticks": ""
                        },
                        "type": "choropleth"
                      }
                    ],
                    "contour": [
                      {
                        "colorbar": {
                          "outlinewidth": 0,
                          "ticks": ""
                        },
                        "colorscale": [
                          [
                            0,
                            "#0d0887"
                          ],
                          [
                            0.1111111111111111,
                            "#46039f"
                          ],
                          [
                            0.2222222222222222,
                            "#7201a8"
                          ],
                          [
                            0.3333333333333333,
                            "#9c179e"
                          ],
                          [
                            0.4444444444444444,
                            "#bd3786"
                          ],
                          [
                            0.5555555555555556,
                            "#d8576b"
                          ],
                          [
                            0.6666666666666666,
                            "#ed7953"
                          ],
                          [
                            0.7777777777777778,
                            "#fb9f3a"
                          ],
                          [
                            0.8888888888888888,
                            "#fdca26"
                          ],
                          [
                            1,
                            "#f0f921"
                          ]
                        ],
                        "type": "contour"
                      }
                    ],
                    "contourcarpet": [
                      {
                        "colorbar": {
                          "outlinewidth": 0,
                          "ticks": ""
                        },
                        "type": "contourcarpet"
                      }
                    ],
                    "heatmap": [
                      {
                        "colorbar": {
                          "outlinewidth": 0,
                          "ticks": ""
                        },
                        "colorscale": [
                          [
                            0,
                            "#0d0887"
                          ],
                          [
                            0.1111111111111111,
                            "#46039f"
                          ],
                          [
                            0.2222222222222222,
                            "#7201a8"
                          ],
                          [
                            0.3333333333333333,
                            "#9c179e"
                          ],
                          [
                            0.4444444444444444,
                            "#bd3786"
                          ],
                          [
                            0.5555555555555556,
                            "#d8576b"
                          ],
                          [
                            0.6666666666666666,
                            "#ed7953"
                          ],
                          [
                            0.7777777777777778,
                            "#fb9f3a"
                          ],
                          [
                            0.8888888888888888,
                            "#fdca26"
                          ],
                          [
                            1,
                            "#f0f921"
                          ]
                        ],
                        "type": "heatmap"
                      }
                    ],
                    "heatmapgl": [
                      {
                        "colorbar": {
                          "outlinewidth": 0,
                          "ticks": ""
                        },
                        "colorscale": [
                          [
                            0,
                            "#0d0887"
                          ],
                          [
                            0.1111111111111111,
                            "#46039f"
                          ],
                          [
                            0.2222222222222222,
                            "#7201a8"
                          ],
                          [
                            0.3333333333333333,
                            "#9c179e"
                          ],
                          [
                            0.4444444444444444,
                            "#bd3786"
                          ],
                          [
                            0.5555555555555556,
                            "#d8576b"
                          ],
                          [
                            0.6666666666666666,
                            "#ed7953"
                          ],
                          [
                            0.7777777777777778,
                            "#fb9f3a"
                          ],
                          [
                            0.8888888888888888,
                            "#fdca26"
                          ],
                          [
                            1,
                            "#f0f921"
                          ]
                        ],
                        "type": "heatmapgl"
                      }
                    ],
                    "histogram": [
                      {
                        "marker": {
                          "pattern": {
                            "fillmode": "overlay",
                            "size": 10,
                            "solidity": 0.2
                          }
                        },
                        "type": "histogram"
                      }
                    ],
                    "histogram2d": [
                      {
                        "colorbar": {
                          "outlinewidth": 0,
                          "ticks": ""
                        },
                        "colorscale": [
                          [
                            0,
                            "#0d0887"
                          ],
                          [
                            0.1111111111111111,
                            "#46039f"
                          ],
                          [
                            0.2222222222222222,
                            "#7201a8"
                          ],
                          [
                            0.3333333333333333,
                            "#9c179e"
                          ],
                          [
                            0.4444444444444444,
                            "#bd3786"
                          ],
                          [
                            0.5555555555555556,
                            "#d8576b"
                          ],
                          [
                            0.6666666666666666,
                            "#ed7953"
                          ],
                          [
                            0.7777777777777778,
                            "#fb9f3a"
                          ],
                          [
                            0.8888888888888888,
                            "#fdca26"
                          ],
                          [
                            1,
                            "#f0f921"
                          ]
                        ],
                        "type": "histogram2d"
                      }
                    ],
                    "histogram2dcontour": [
                      {
                        "colorbar": {
                          "outlinewidth": 0,
                          "ticks": ""
                        },
                        "colorscale": [
                          [
                            0,
                            "#0d0887"
                          ],
                          [
                            0.1111111111111111,
                            "#46039f"
                          ],
                          [
                            0.2222222222222222,
                            "#7201a8"
                          ],
                          [
                            0.3333333333333333,
                            "#9c179e"
                          ],
                          [
                            0.4444444444444444,
                            "#bd3786"
                          ],
                          [
                            0.5555555555555556,
                            "#d8576b"
                          ],
                          [
                            0.6666666666666666,
                            "#ed7953"
                          ],
                          [
                            0.7777777777777778,
                            "#fb9f3a"
                          ],
                          [
                            0.8888888888888888,
                            "#fdca26"
                          ],
                          [
                            1,
                            "#f0f921"
                          ]
                        ],
                        "type": "histogram2dcontour"
                      }
                    ],
                    "mesh3d": [
                      {
                        "colorbar": {
                          "outlinewidth": 0,
                          "ticks": ""
                        },
                        "type": "mesh3d"
                      }
                    ],
                    "parcoords": [
                      {
                        "line": {
                          "colorbar": {
                            "outlinewidth": 0,
                            "ticks": ""
                          }
                        },
                        "type": "parcoords"
                      }
                    ],
                    "pie": [
                      {
                        "automargin": true,
                        "type": "pie"
                      }
                    ],
                    "scatter": [
                      {
                        "fillpattern": {
                          "fillmode": "overlay",
                          "size": 10,
                          "solidity": 0.2
                        },
                        "type": "scatter"
                      }
                    ],
                    "scatter3d": [
                      {
                        "line": {
                          "colorbar": {
                            "outlinewidth": 0,
                            "ticks": ""
                          }
                        },
                        "marker": {
                          "colorbar": {
                            "outlinewidth": 0,
                            "ticks": ""
                          }
                        },
                        "type": "scatter3d"
                      }
                    ],
                    "scattercarpet": [
                      {
                        "marker": {
                          "colorbar": {
                            "outlinewidth": 0,
                            "ticks": ""
                          }
                        },
                        "type": "scattercarpet"
                      }
                    ],
                    "scattergeo": [
                      {
                        "marker": {
                          "colorbar": {
                            "outlinewidth": 0,
                            "ticks": ""
                          }
                        },
                        "type": "scattergeo"
                      }
                    ],
                    "scattergl": [
                      {
                        "marker": {
                          "colorbar": {
                            "outlinewidth": 0,
                            "ticks": ""
                          }
                        },
                        "type": "scattergl"
                      }
                    ],
                    "scattermapbox": [
                      {
                        "marker": {
                          "colorbar": {
                            "outlinewidth": 0,
                            "ticks": ""
                          }
                        },
                        "type": "scattermapbox"
                      }
                    ],
                    "scatterpolar": [
                      {
                        "marker": {
                          "colorbar": {
                            "outlinewidth": 0,
                            "ticks": ""
                          }
                        },
                        "type": "scatterpolar"
                      }
                    ],
                    "scatterpolargl": [
                      {
                        "marker": {
                          "colorbar": {
                            "outlinewidth": 0,
                            "ticks": ""
                          }
                        },
                        "type": "scatterpolargl"
                      }
                    ],
                    "scatterternary": [
                      {
                        "marker": {
                          "colorbar": {
                            "outlinewidth": 0,
                            "ticks": ""
                          }
                        },
                        "type": "scatterternary"
                      }
                    ],
                    "surface": [
                      {
                        "colorbar": {
                          "outlinewidth": 0,
                          "ticks": ""
                        },
                        "colorscale": [
                          [
                            0,
                            "#0d0887"
                          ],
                          [
                            0.1111111111111111,
                            "#46039f"
                          ],
                          [
                            0.2222222222222222,
                            "#7201a8"
                          ],
                          [
                            0.3333333333333333,
                            "#9c179e"
                          ],
                          [
                            0.4444444444444444,
                            "#bd3786"
                          ],
                          [
                            0.5555555555555556,
                            "#d8576b"
                          ],
                          [
                            0.6666666666666666,
                            "#ed7953"
                          ],
                          [
                            0.7777777777777778,
                            "#fb9f3a"
                          ],
                          [
                            0.8888888888888888,
                            "#fdca26"
                          ],
                          [
                            1,
                            "#f0f921"
                          ]
                        ],
                        "type": "surface"
                      }
                    ],
                    "table": [
                      {
                        "cells": {
                          "fill": {
                            "color": "#EBF0F8"
                          },
                          "line": {
                            "color": "white"
                          }
                        },
                        "header": {
                          "fill": {
                            "color": "#C8D4E3"
                          },
                          "line": {
                            "color": "white"
                          }
                        },
                        "type": "table"
                      }
                    ]
                  },
                  "layout": {
                    "annotationdefaults": {
                      "arrowcolor": "#2a3f5f",
                      "arrowhead": 0,
                      "arrowwidth": 1
                    },
                    "autotypenumbers": "strict",
                    "coloraxis": {
                      "colorbar": {
                        "outlinewidth": 0,
                        "ticks": ""
                      }
                    },
                    "colorscale": {
                      "diverging": [
                        [
                          0,
                          "#8e0152"
                        ],
                        [
                          0.1,
                          "#c51b7d"
                        ],
                        [
                          0.2,
                          "#de77ae"
                        ],
                        [
                          0.3,
                          "#f1b6da"
                        ],
                        [
                          0.4,
                          "#fde0ef"
                        ],
                        [
                          0.5,
                          "#f7f7f7"
                        ],
                        [
                          0.6,
                          "#e6f5d0"
                        ],
                        [
                          0.7,
                          "#b8e186"
                        ],
                        [
                          0.8,
                          "#7fbc41"
                        ],
                        [
                          0.9,
                          "#4d9221"
                        ],
                        [
                          1,
                          "#276419"
                        ]
                      ],
                      "sequential": [
                        [
                          0,
                          "#0d0887"
                        ],
                        [
                          0.1111111111111111,
                          "#46039f"
                        ],
                        [
                          0.2222222222222222,
                          "#7201a8"
                        ],
                        [
                          0.3333333333333333,
                          "#9c179e"
                        ],
                        [
                          0.4444444444444444,
                          "#bd3786"
                        ],
                        [
                          0.5555555555555556,
                          "#d8576b"
                        ],
                        [
                          0.6666666666666666,
                          "#ed7953"
                        ],
                        [
                          0.7777777777777778,
                          "#fb9f3a"
                        ],
                        [
                          0.8888888888888888,
                          "#fdca26"
                        ],
                        [
                          1,
                          "#f0f921"
                        ]
                      ],
                      "sequentialminus": [
                        [
                          0,
                          "#0d0887"
                        ],
                        [
                          0.1111111111111111,
                          "#46039f"
                        ],
                        [
                          0.2222222222222222,
                          "#7201a8"
                        ],
                        [
                          0.3333333333333333,
                          "#9c179e"
                        ],
                        [
                          0.4444444444444444,
                          "#bd3786"
                        ],
                        [
                          0.5555555555555556,
                          "#d8576b"
                        ],
                        [
                          0.6666666666666666,
                          "#ed7953"
                        ],
                        [
                          0.7777777777777778,
                          "#fb9f3a"
                        ],
                        [
                          0.8888888888888888,
                          "#fdca26"
                        ],
                        [
                          1,
                          "#f0f921"
                        ]
                      ]
                    },
                    "colorway": [
                      "#636efa",
                      "#EF553B",
                      "#00cc96",
                      "#ab63fa",
                      "#FFA15A",
                      "#19d3f3",
                      "#FF6692",
                      "#B6E880",
                      "#FF97FF",
                      "#FECB52"
                    ],
                    "font": {
                      "color": "#2a3f5f"
                    },
                    "geo": {
                      "bgcolor": "white",
                      "lakecolor": "white",
                      "landcolor": "#E5ECF6",
                      "showlakes": true,
                      "showland": true,
                      "subunitcolor": "white"
                    },
                    "hoverlabel": {
                      "align": "left"
                    },
                    "hovermode": "closest",
                    "mapbox": {
                      "style": "light"
                    },
                    "paper_bgcolor": "white",
                    "plot_bgcolor": "#E5ECF6",
                    "polar": {
                      "angularaxis": {
                        "gridcolor": "white",
                        "linecolor": "white",
                        "ticks": ""
                      },
                      "bgcolor": "#E5ECF6",
                      "radialaxis": {
                        "gridcolor": "white",
                        "linecolor": "white",
                        "ticks": ""
                      }
                    },
                    "scene": {
                      "xaxis": {
                        "backgroundcolor": "#E5ECF6",
                        "gridcolor": "white",
                        "gridwidth": 2,
                        "linecolor": "white",
                        "showbackground": true,
                        "ticks": "",
                        "zerolinecolor": "white"
                      },
                      "yaxis": {
                        "backgroundcolor": "#E5ECF6",
                        "gridcolor": "white",
                        "gridwidth": 2,
                        "linecolor": "white",
                        "showbackground": true,
                        "ticks": "",
                        "zerolinecolor": "white"
                      },
                      "zaxis": {
                        "backgroundcolor": "#E5ECF6",
                        "gridcolor": "white",
                        "gridwidth": 2,
                        "linecolor": "white",
                        "showbackground": true,
                        "ticks": "",
                        "zerolinecolor": "white"
                      }
                    },
                    "shapedefaults": {
                      "line": {
                        "color": "#2a3f5f"
                      }
                    },
                    "ternary": {
                      "aaxis": {
                        "gridcolor": "white",
                        "linecolor": "white",
                        "ticks": ""
                      },
                      "baxis": {
                        "gridcolor": "white",
                        "linecolor": "white",
                        "ticks": ""
                      },
                      "bgcolor": "#E5ECF6",
                      "caxis": {
                        "gridcolor": "white",
                        "linecolor": "white",
                        "ticks": ""
                      }
                    },
                    "title": {
                      "x": 0.05
                    },
                    "xaxis": {
                      "automargin": true,
                      "gridcolor": "white",
                      "linecolor": "white",
                      "ticks": "",
                      "title": {
                        "standoff": 15
                      },
                      "zerolinecolor": "white",
                      "zerolinewidth": 2
                    },
                    "yaxis": {
                      "automargin": true,
                      "gridcolor": "white",
                      "linecolor": "white",
                      "ticks": "",
                      "title": {
                        "standoff": 15
                      },
                      "zerolinecolor": "white",
                      "zerolinewidth": 2
                    }
                  }
                },
                "title": {
                  "text": "States With The Largest Customer"
                },
                "xaxis": {
                  "anchor": "y",
                  "domain": [
                    0,
                    1
                  ],
                  "title": {
                    "text": "customer_state"
                  }
                },
                "yaxis": {
                  "anchor": "x",
                  "domain": [
                    0,
                    1
                  ],
                  "title": {
                    "text": "jml_cust"
                  }
                }
              }
            }
          },
          "metadata": {},
          "output_type": "display_data"
        }
      ],
      "source": [
        "fig = px.bar(\n",
        "    custby_states, \n",
        "    x='customer_state', \n",
        "    y='jml_cust',\n",
        "    title='States With The Largest Customer' )\n",
        "fig.show()\n"
      ]
    },
    {
      "cell_type": "code",
      "execution_count": 324,
      "metadata": {},
      "outputs": [
        {
          "data": {
            "text/html": [
              "<div>\n",
              "<style scoped>\n",
              "    .dataframe tbody tr th:only-of-type {\n",
              "        vertical-align: middle;\n",
              "    }\n",
              "\n",
              "    .dataframe tbody tr th {\n",
              "        vertical-align: top;\n",
              "    }\n",
              "\n",
              "    .dataframe thead th {\n",
              "        text-align: right;\n",
              "    }\n",
              "</style>\n",
              "<table border=\"1\" class=\"dataframe\">\n",
              "  <thead>\n",
              "    <tr style=\"text-align: right;\">\n",
              "      <th></th>\n",
              "      <th>customer_city</th>\n",
              "      <th>jml_cust</th>\n",
              "    </tr>\n",
              "  </thead>\n",
              "  <tbody>\n",
              "    <tr>\n",
              "      <th>0</th>\n",
              "      <td>sao paulo</td>\n",
              "      <td>18267</td>\n",
              "    </tr>\n",
              "    <tr>\n",
              "      <th>1</th>\n",
              "      <td>rio de janeiro</td>\n",
              "      <td>8022</td>\n",
              "    </tr>\n",
              "    <tr>\n",
              "      <th>2</th>\n",
              "      <td>belo horizonte</td>\n",
              "      <td>3196</td>\n",
              "    </tr>\n",
              "    <tr>\n",
              "      <th>3</th>\n",
              "      <td>brasilia</td>\n",
              "      <td>2434</td>\n",
              "    </tr>\n",
              "    <tr>\n",
              "      <th>4</th>\n",
              "      <td>curitiba</td>\n",
              "      <td>1790</td>\n",
              "    </tr>\n",
              "    <tr>\n",
              "      <th>...</th>\n",
              "      <td>...</td>\n",
              "      <td>...</td>\n",
              "    </tr>\n",
              "    <tr>\n",
              "      <th>4088</th>\n",
              "      <td>mamonas</td>\n",
              "      <td>1</td>\n",
              "    </tr>\n",
              "    <tr>\n",
              "      <th>4089</th>\n",
              "      <td>malhador</td>\n",
              "      <td>1</td>\n",
              "    </tr>\n",
              "    <tr>\n",
              "      <th>4090</th>\n",
              "      <td>major porto</td>\n",
              "      <td>1</td>\n",
              "    </tr>\n",
              "    <tr>\n",
              "      <th>4091</th>\n",
              "      <td>maiquinique</td>\n",
              "      <td>1</td>\n",
              "    </tr>\n",
              "    <tr>\n",
              "      <th>4092</th>\n",
              "      <td>zortea</td>\n",
              "      <td>1</td>\n",
              "    </tr>\n",
              "  </tbody>\n",
              "</table>\n",
              "<p>4093 rows × 2 columns</p>\n",
              "</div>"
            ],
            "text/plain": [
              "       customer_city  jml_cust\n",
              "0          sao paulo     18267\n",
              "1     rio de janeiro      8022\n",
              "2     belo horizonte      3196\n",
              "3           brasilia      2434\n",
              "4           curitiba      1790\n",
              "...              ...       ...\n",
              "4088         mamonas         1\n",
              "4089        malhador         1\n",
              "4090     major porto         1\n",
              "4091     maiquinique         1\n",
              "4092          zortea         1\n",
              "\n",
              "[4093 rows x 2 columns]"
            ]
          },
          "execution_count": 324,
          "metadata": {},
          "output_type": "execute_result"
        }
      ],
      "source": [
        "# all_dataset.groupb(by=['customer_city']).agg({'customer_id':'count'}).sort_values(\n",
        "#     by='customer_id', \n",
        "#     ascending=False).resyet_index().rename(columns={'customer_id':'jml_cust'})\n",
        "\n",
        "all_dataset.loc[:,['customer_city','customer_id']].groupby(by=['customer_city']).agg({'customer_id':'count'}).sort_values(\n",
        "    by='customer_id', \n",
        "    ascending=False).reset_index().rename(columns={'customer_id':'jml_cust'})"
      ]
    },
    {
      "cell_type": "code",
      "execution_count": 291,
      "metadata": {},
      "outputs": [
        {
          "data": {
            "application/vnd.plotly.v1+json": {
              "config": {
                "plotlyServerURL": "https://plot.ly"
              },
              "data": [
                {
                  "alignmentgroup": "True",
                  "hovertemplate": "jml_cust=%{x}<br>customer_city=%{y}<extra></extra>",
                  "legendgroup": "",
                  "marker": {
                    "color": "#636efa",
                    "pattern": {
                      "shape": ""
                    }
                  },
                  "name": "",
                  "offsetgroup": "",
                  "orientation": "h",
                  "showlegend": false,
                  "textposition": "auto",
                  "type": "bar",
                  "x": [
                    15540,
                    6882,
                    2773,
                    2131,
                    1521,
                    1444,
                    1379,
                    1245,
                    1189,
                    938
                  ],
                  "xaxis": "x",
                  "y": [
                    "sao paulo",
                    "rio de janeiro",
                    "belo horizonte",
                    "brasilia",
                    "curitiba",
                    "campinas",
                    "porto alegre",
                    "salvador",
                    "guarulhos",
                    "sao bernardo do campo"
                  ],
                  "yaxis": "y"
                }
              ],
              "layout": {
                "barmode": "relative",
                "legend": {
                  "tracegroupgap": 0
                },
                "template": {
                  "data": {
                    "bar": [
                      {
                        "error_x": {
                          "color": "#2a3f5f"
                        },
                        "error_y": {
                          "color": "#2a3f5f"
                        },
                        "marker": {
                          "line": {
                            "color": "#E5ECF6",
                            "width": 0.5
                          },
                          "pattern": {
                            "fillmode": "overlay",
                            "size": 10,
                            "solidity": 0.2
                          }
                        },
                        "type": "bar"
                      }
                    ],
                    "barpolar": [
                      {
                        "marker": {
                          "line": {
                            "color": "#E5ECF6",
                            "width": 0.5
                          },
                          "pattern": {
                            "fillmode": "overlay",
                            "size": 10,
                            "solidity": 0.2
                          }
                        },
                        "type": "barpolar"
                      }
                    ],
                    "carpet": [
                      {
                        "aaxis": {
                          "endlinecolor": "#2a3f5f",
                          "gridcolor": "white",
                          "linecolor": "white",
                          "minorgridcolor": "white",
                          "startlinecolor": "#2a3f5f"
                        },
                        "baxis": {
                          "endlinecolor": "#2a3f5f",
                          "gridcolor": "white",
                          "linecolor": "white",
                          "minorgridcolor": "white",
                          "startlinecolor": "#2a3f5f"
                        },
                        "type": "carpet"
                      }
                    ],
                    "choropleth": [
                      {
                        "colorbar": {
                          "outlinewidth": 0,
                          "ticks": ""
                        },
                        "type": "choropleth"
                      }
                    ],
                    "contour": [
                      {
                        "colorbar": {
                          "outlinewidth": 0,
                          "ticks": ""
                        },
                        "colorscale": [
                          [
                            0,
                            "#0d0887"
                          ],
                          [
                            0.1111111111111111,
                            "#46039f"
                          ],
                          [
                            0.2222222222222222,
                            "#7201a8"
                          ],
                          [
                            0.3333333333333333,
                            "#9c179e"
                          ],
                          [
                            0.4444444444444444,
                            "#bd3786"
                          ],
                          [
                            0.5555555555555556,
                            "#d8576b"
                          ],
                          [
                            0.6666666666666666,
                            "#ed7953"
                          ],
                          [
                            0.7777777777777778,
                            "#fb9f3a"
                          ],
                          [
                            0.8888888888888888,
                            "#fdca26"
                          ],
                          [
                            1,
                            "#f0f921"
                          ]
                        ],
                        "type": "contour"
                      }
                    ],
                    "contourcarpet": [
                      {
                        "colorbar": {
                          "outlinewidth": 0,
                          "ticks": ""
                        },
                        "type": "contourcarpet"
                      }
                    ],
                    "heatmap": [
                      {
                        "colorbar": {
                          "outlinewidth": 0,
                          "ticks": ""
                        },
                        "colorscale": [
                          [
                            0,
                            "#0d0887"
                          ],
                          [
                            0.1111111111111111,
                            "#46039f"
                          ],
                          [
                            0.2222222222222222,
                            "#7201a8"
                          ],
                          [
                            0.3333333333333333,
                            "#9c179e"
                          ],
                          [
                            0.4444444444444444,
                            "#bd3786"
                          ],
                          [
                            0.5555555555555556,
                            "#d8576b"
                          ],
                          [
                            0.6666666666666666,
                            "#ed7953"
                          ],
                          [
                            0.7777777777777778,
                            "#fb9f3a"
                          ],
                          [
                            0.8888888888888888,
                            "#fdca26"
                          ],
                          [
                            1,
                            "#f0f921"
                          ]
                        ],
                        "type": "heatmap"
                      }
                    ],
                    "heatmapgl": [
                      {
                        "colorbar": {
                          "outlinewidth": 0,
                          "ticks": ""
                        },
                        "colorscale": [
                          [
                            0,
                            "#0d0887"
                          ],
                          [
                            0.1111111111111111,
                            "#46039f"
                          ],
                          [
                            0.2222222222222222,
                            "#7201a8"
                          ],
                          [
                            0.3333333333333333,
                            "#9c179e"
                          ],
                          [
                            0.4444444444444444,
                            "#bd3786"
                          ],
                          [
                            0.5555555555555556,
                            "#d8576b"
                          ],
                          [
                            0.6666666666666666,
                            "#ed7953"
                          ],
                          [
                            0.7777777777777778,
                            "#fb9f3a"
                          ],
                          [
                            0.8888888888888888,
                            "#fdca26"
                          ],
                          [
                            1,
                            "#f0f921"
                          ]
                        ],
                        "type": "heatmapgl"
                      }
                    ],
                    "histogram": [
                      {
                        "marker": {
                          "pattern": {
                            "fillmode": "overlay",
                            "size": 10,
                            "solidity": 0.2
                          }
                        },
                        "type": "histogram"
                      }
                    ],
                    "histogram2d": [
                      {
                        "colorbar": {
                          "outlinewidth": 0,
                          "ticks": ""
                        },
                        "colorscale": [
                          [
                            0,
                            "#0d0887"
                          ],
                          [
                            0.1111111111111111,
                            "#46039f"
                          ],
                          [
                            0.2222222222222222,
                            "#7201a8"
                          ],
                          [
                            0.3333333333333333,
                            "#9c179e"
                          ],
                          [
                            0.4444444444444444,
                            "#bd3786"
                          ],
                          [
                            0.5555555555555556,
                            "#d8576b"
                          ],
                          [
                            0.6666666666666666,
                            "#ed7953"
                          ],
                          [
                            0.7777777777777778,
                            "#fb9f3a"
                          ],
                          [
                            0.8888888888888888,
                            "#fdca26"
                          ],
                          [
                            1,
                            "#f0f921"
                          ]
                        ],
                        "type": "histogram2d"
                      }
                    ],
                    "histogram2dcontour": [
                      {
                        "colorbar": {
                          "outlinewidth": 0,
                          "ticks": ""
                        },
                        "colorscale": [
                          [
                            0,
                            "#0d0887"
                          ],
                          [
                            0.1111111111111111,
                            "#46039f"
                          ],
                          [
                            0.2222222222222222,
                            "#7201a8"
                          ],
                          [
                            0.3333333333333333,
                            "#9c179e"
                          ],
                          [
                            0.4444444444444444,
                            "#bd3786"
                          ],
                          [
                            0.5555555555555556,
                            "#d8576b"
                          ],
                          [
                            0.6666666666666666,
                            "#ed7953"
                          ],
                          [
                            0.7777777777777778,
                            "#fb9f3a"
                          ],
                          [
                            0.8888888888888888,
                            "#fdca26"
                          ],
                          [
                            1,
                            "#f0f921"
                          ]
                        ],
                        "type": "histogram2dcontour"
                      }
                    ],
                    "mesh3d": [
                      {
                        "colorbar": {
                          "outlinewidth": 0,
                          "ticks": ""
                        },
                        "type": "mesh3d"
                      }
                    ],
                    "parcoords": [
                      {
                        "line": {
                          "colorbar": {
                            "outlinewidth": 0,
                            "ticks": ""
                          }
                        },
                        "type": "parcoords"
                      }
                    ],
                    "pie": [
                      {
                        "automargin": true,
                        "type": "pie"
                      }
                    ],
                    "scatter": [
                      {
                        "fillpattern": {
                          "fillmode": "overlay",
                          "size": 10,
                          "solidity": 0.2
                        },
                        "type": "scatter"
                      }
                    ],
                    "scatter3d": [
                      {
                        "line": {
                          "colorbar": {
                            "outlinewidth": 0,
                            "ticks": ""
                          }
                        },
                        "marker": {
                          "colorbar": {
                            "outlinewidth": 0,
                            "ticks": ""
                          }
                        },
                        "type": "scatter3d"
                      }
                    ],
                    "scattercarpet": [
                      {
                        "marker": {
                          "colorbar": {
                            "outlinewidth": 0,
                            "ticks": ""
                          }
                        },
                        "type": "scattercarpet"
                      }
                    ],
                    "scattergeo": [
                      {
                        "marker": {
                          "colorbar": {
                            "outlinewidth": 0,
                            "ticks": ""
                          }
                        },
                        "type": "scattergeo"
                      }
                    ],
                    "scattergl": [
                      {
                        "marker": {
                          "colorbar": {
                            "outlinewidth": 0,
                            "ticks": ""
                          }
                        },
                        "type": "scattergl"
                      }
                    ],
                    "scattermapbox": [
                      {
                        "marker": {
                          "colorbar": {
                            "outlinewidth": 0,
                            "ticks": ""
                          }
                        },
                        "type": "scattermapbox"
                      }
                    ],
                    "scatterpolar": [
                      {
                        "marker": {
                          "colorbar": {
                            "outlinewidth": 0,
                            "ticks": ""
                          }
                        },
                        "type": "scatterpolar"
                      }
                    ],
                    "scatterpolargl": [
                      {
                        "marker": {
                          "colorbar": {
                            "outlinewidth": 0,
                            "ticks": ""
                          }
                        },
                        "type": "scatterpolargl"
                      }
                    ],
                    "scatterternary": [
                      {
                        "marker": {
                          "colorbar": {
                            "outlinewidth": 0,
                            "ticks": ""
                          }
                        },
                        "type": "scatterternary"
                      }
                    ],
                    "surface": [
                      {
                        "colorbar": {
                          "outlinewidth": 0,
                          "ticks": ""
                        },
                        "colorscale": [
                          [
                            0,
                            "#0d0887"
                          ],
                          [
                            0.1111111111111111,
                            "#46039f"
                          ],
                          [
                            0.2222222222222222,
                            "#7201a8"
                          ],
                          [
                            0.3333333333333333,
                            "#9c179e"
                          ],
                          [
                            0.4444444444444444,
                            "#bd3786"
                          ],
                          [
                            0.5555555555555556,
                            "#d8576b"
                          ],
                          [
                            0.6666666666666666,
                            "#ed7953"
                          ],
                          [
                            0.7777777777777778,
                            "#fb9f3a"
                          ],
                          [
                            0.8888888888888888,
                            "#fdca26"
                          ],
                          [
                            1,
                            "#f0f921"
                          ]
                        ],
                        "type": "surface"
                      }
                    ],
                    "table": [
                      {
                        "cells": {
                          "fill": {
                            "color": "#EBF0F8"
                          },
                          "line": {
                            "color": "white"
                          }
                        },
                        "header": {
                          "fill": {
                            "color": "#C8D4E3"
                          },
                          "line": {
                            "color": "white"
                          }
                        },
                        "type": "table"
                      }
                    ]
                  },
                  "layout": {
                    "annotationdefaults": {
                      "arrowcolor": "#2a3f5f",
                      "arrowhead": 0,
                      "arrowwidth": 1
                    },
                    "autotypenumbers": "strict",
                    "coloraxis": {
                      "colorbar": {
                        "outlinewidth": 0,
                        "ticks": ""
                      }
                    },
                    "colorscale": {
                      "diverging": [
                        [
                          0,
                          "#8e0152"
                        ],
                        [
                          0.1,
                          "#c51b7d"
                        ],
                        [
                          0.2,
                          "#de77ae"
                        ],
                        [
                          0.3,
                          "#f1b6da"
                        ],
                        [
                          0.4,
                          "#fde0ef"
                        ],
                        [
                          0.5,
                          "#f7f7f7"
                        ],
                        [
                          0.6,
                          "#e6f5d0"
                        ],
                        [
                          0.7,
                          "#b8e186"
                        ],
                        [
                          0.8,
                          "#7fbc41"
                        ],
                        [
                          0.9,
                          "#4d9221"
                        ],
                        [
                          1,
                          "#276419"
                        ]
                      ],
                      "sequential": [
                        [
                          0,
                          "#0d0887"
                        ],
                        [
                          0.1111111111111111,
                          "#46039f"
                        ],
                        [
                          0.2222222222222222,
                          "#7201a8"
                        ],
                        [
                          0.3333333333333333,
                          "#9c179e"
                        ],
                        [
                          0.4444444444444444,
                          "#bd3786"
                        ],
                        [
                          0.5555555555555556,
                          "#d8576b"
                        ],
                        [
                          0.6666666666666666,
                          "#ed7953"
                        ],
                        [
                          0.7777777777777778,
                          "#fb9f3a"
                        ],
                        [
                          0.8888888888888888,
                          "#fdca26"
                        ],
                        [
                          1,
                          "#f0f921"
                        ]
                      ],
                      "sequentialminus": [
                        [
                          0,
                          "#0d0887"
                        ],
                        [
                          0.1111111111111111,
                          "#46039f"
                        ],
                        [
                          0.2222222222222222,
                          "#7201a8"
                        ],
                        [
                          0.3333333333333333,
                          "#9c179e"
                        ],
                        [
                          0.4444444444444444,
                          "#bd3786"
                        ],
                        [
                          0.5555555555555556,
                          "#d8576b"
                        ],
                        [
                          0.6666666666666666,
                          "#ed7953"
                        ],
                        [
                          0.7777777777777778,
                          "#fb9f3a"
                        ],
                        [
                          0.8888888888888888,
                          "#fdca26"
                        ],
                        [
                          1,
                          "#f0f921"
                        ]
                      ]
                    },
                    "colorway": [
                      "#636efa",
                      "#EF553B",
                      "#00cc96",
                      "#ab63fa",
                      "#FFA15A",
                      "#19d3f3",
                      "#FF6692",
                      "#B6E880",
                      "#FF97FF",
                      "#FECB52"
                    ],
                    "font": {
                      "color": "#2a3f5f"
                    },
                    "geo": {
                      "bgcolor": "white",
                      "lakecolor": "white",
                      "landcolor": "#E5ECF6",
                      "showlakes": true,
                      "showland": true,
                      "subunitcolor": "white"
                    },
                    "hoverlabel": {
                      "align": "left"
                    },
                    "hovermode": "closest",
                    "mapbox": {
                      "style": "light"
                    },
                    "paper_bgcolor": "white",
                    "plot_bgcolor": "#E5ECF6",
                    "polar": {
                      "angularaxis": {
                        "gridcolor": "white",
                        "linecolor": "white",
                        "ticks": ""
                      },
                      "bgcolor": "#E5ECF6",
                      "radialaxis": {
                        "gridcolor": "white",
                        "linecolor": "white",
                        "ticks": ""
                      }
                    },
                    "scene": {
                      "xaxis": {
                        "backgroundcolor": "#E5ECF6",
                        "gridcolor": "white",
                        "gridwidth": 2,
                        "linecolor": "white",
                        "showbackground": true,
                        "ticks": "",
                        "zerolinecolor": "white"
                      },
                      "yaxis": {
                        "backgroundcolor": "#E5ECF6",
                        "gridcolor": "white",
                        "gridwidth": 2,
                        "linecolor": "white",
                        "showbackground": true,
                        "ticks": "",
                        "zerolinecolor": "white"
                      },
                      "zaxis": {
                        "backgroundcolor": "#E5ECF6",
                        "gridcolor": "white",
                        "gridwidth": 2,
                        "linecolor": "white",
                        "showbackground": true,
                        "ticks": "",
                        "zerolinecolor": "white"
                      }
                    },
                    "shapedefaults": {
                      "line": {
                        "color": "#2a3f5f"
                      }
                    },
                    "ternary": {
                      "aaxis": {
                        "gridcolor": "white",
                        "linecolor": "white",
                        "ticks": ""
                      },
                      "baxis": {
                        "gridcolor": "white",
                        "linecolor": "white",
                        "ticks": ""
                      },
                      "bgcolor": "#E5ECF6",
                      "caxis": {
                        "gridcolor": "white",
                        "linecolor": "white",
                        "ticks": ""
                      }
                    },
                    "title": {
                      "x": 0.05
                    },
                    "xaxis": {
                      "automargin": true,
                      "gridcolor": "white",
                      "linecolor": "white",
                      "ticks": "",
                      "title": {
                        "standoff": 15
                      },
                      "zerolinecolor": "white",
                      "zerolinewidth": 2
                    },
                    "yaxis": {
                      "automargin": true,
                      "gridcolor": "white",
                      "linecolor": "white",
                      "ticks": "",
                      "title": {
                        "standoff": 15
                      },
                      "zerolinecolor": "white",
                      "zerolinewidth": 2
                    }
                  }
                },
                "title": {
                  "text": "Cities With The Largest Customer"
                },
                "xaxis": {
                  "anchor": "y",
                  "domain": [
                    0,
                    1
                  ],
                  "title": {
                    "text": "jml_cust"
                  }
                },
                "yaxis": {
                  "anchor": "x",
                  "categoryorder": "total ascending",
                  "domain": [
                    0,
                    1
                  ],
                  "title": {
                    "text": "customer_city"
                  }
                }
              }
            }
          },
          "metadata": {},
          "output_type": "display_data"
        },
        {
          "data": {
            "text/plain": [
              "(           customer_city  jml_cust\n",
              " 0              sao paulo     15540\n",
              " 1         rio de janeiro      6882\n",
              " 2         belo horizonte      2773\n",
              " 3               brasilia      2131\n",
              " 4               curitiba      1521\n",
              " 5               campinas      1444\n",
              " 6           porto alegre      1379\n",
              " 7               salvador      1245\n",
              " 8              guarulhos      1189\n",
              " 9  sao bernardo do campo       938,)"
            ]
          },
          "execution_count": 291,
          "metadata": {},
          "output_type": "execute_result"
        }
      ],
      "source": [
        "fig = px.bar(\n",
        "    custby_city_states.head(10), \n",
        "    x='jml_cust',\n",
        "    y='customer_city',\n",
        "    title='Top 10 Cities With The Largest Customer',\n",
        "    orientation='h',\n",
        "    )\n",
        "fig.update_layout(yaxis={'categoryorder':'total ascending'})\n",
        "fig.show()\n",
        "custby_city_states.head(10),"
      ]
    },
    {
      "cell_type": "markdown",
      "metadata": {
        "id": "F2Bo_ypQ9RfH"
      },
      "source": [
        "### Pertanyaan 2: produk apa saja yang paling banyak diorder"
      ]
    },
    {
      "cell_type": "code",
      "execution_count": 292,
      "metadata": {
        "id": "jkO5kTJq9S1Y"
      },
      "outputs": [
        {
          "data": {
            "text/html": [
              "<div>\n",
              "<style scoped>\n",
              "    .dataframe tbody tr th:only-of-type {\n",
              "        vertical-align: middle;\n",
              "    }\n",
              "\n",
              "    .dataframe tbody tr th {\n",
              "        vertical-align: top;\n",
              "    }\n",
              "\n",
              "    .dataframe thead th {\n",
              "        text-align: right;\n",
              "    }\n",
              "</style>\n",
              "<table border=\"1\" class=\"dataframe\">\n",
              "  <thead>\n",
              "    <tr style=\"text-align: right;\">\n",
              "      <th></th>\n",
              "      <th>product_category_name_english</th>\n",
              "      <th>count</th>\n",
              "    </tr>\n",
              "  </thead>\n",
              "  <tbody>\n",
              "    <tr>\n",
              "      <th>0</th>\n",
              "      <td>bed_bath_table</td>\n",
              "      <td>3029</td>\n",
              "    </tr>\n",
              "    <tr>\n",
              "      <th>1</th>\n",
              "      <td>sports_leisure</td>\n",
              "      <td>2867</td>\n",
              "    </tr>\n",
              "    <tr>\n",
              "      <th>2</th>\n",
              "      <td>furniture_decor</td>\n",
              "      <td>2657</td>\n",
              "    </tr>\n",
              "    <tr>\n",
              "      <th>3</th>\n",
              "      <td>health_beauty</td>\n",
              "      <td>2444</td>\n",
              "    </tr>\n",
              "    <tr>\n",
              "      <th>4</th>\n",
              "      <td>housewares</td>\n",
              "      <td>2335</td>\n",
              "    </tr>\n",
              "    <tr>\n",
              "      <th>...</th>\n",
              "      <td>...</td>\n",
              "      <td>...</td>\n",
              "    </tr>\n",
              "    <tr>\n",
              "      <th>66</th>\n",
              "      <td>tablets_printing_image</td>\n",
              "      <td>9</td>\n",
              "    </tr>\n",
              "    <tr>\n",
              "      <th>67</th>\n",
              "      <td>fashion_childrens_clothes</td>\n",
              "      <td>5</td>\n",
              "    </tr>\n",
              "    <tr>\n",
              "      <th>68</th>\n",
              "      <td>home_comfort_2</td>\n",
              "      <td>5</td>\n",
              "    </tr>\n",
              "    <tr>\n",
              "      <th>69</th>\n",
              "      <td>security_and_services</td>\n",
              "      <td>2</td>\n",
              "    </tr>\n",
              "    <tr>\n",
              "      <th>70</th>\n",
              "      <td>cds_dvds_musicals</td>\n",
              "      <td>1</td>\n",
              "    </tr>\n",
              "  </tbody>\n",
              "</table>\n",
              "<p>71 rows × 2 columns</p>\n",
              "</div>"
            ],
            "text/plain": [
              "   product_category_name_english  count\n",
              "0                 bed_bath_table   3029\n",
              "1                 sports_leisure   2867\n",
              "2                furniture_decor   2657\n",
              "3                  health_beauty   2444\n",
              "4                     housewares   2335\n",
              "..                           ...    ...\n",
              "66        tablets_printing_image      9\n",
              "67     fashion_childrens_clothes      5\n",
              "68                home_comfort_2      5\n",
              "69         security_and_services      2\n",
              "70             cds_dvds_musicals      1\n",
              "\n",
              "[71 rows x 2 columns]"
            ]
          },
          "execution_count": 292,
          "metadata": {},
          "output_type": "execute_result"
        }
      ],
      "source": [
        "products_cat_name_translation.product_category_name_english.value_counts().to_frame().reset_index()"
      ]
    },
    {
      "cell_type": "code",
      "execution_count": 330,
      "metadata": {},
      "outputs": [
        {
          "data": {
            "text/html": [
              "<div>\n",
              "<style scoped>\n",
              "    .dataframe tbody tr th:only-of-type {\n",
              "        vertical-align: middle;\n",
              "    }\n",
              "\n",
              "    .dataframe tbody tr th {\n",
              "        vertical-align: top;\n",
              "    }\n",
              "\n",
              "    .dataframe thead th {\n",
              "        text-align: right;\n",
              "    }\n",
              "</style>\n",
              "<table border=\"1\" class=\"dataframe\">\n",
              "  <thead>\n",
              "    <tr style=\"text-align: right;\">\n",
              "      <th></th>\n",
              "      <th>product_category_name_english</th>\n",
              "      <th>jumlah</th>\n",
              "    </tr>\n",
              "  </thead>\n",
              "  <tbody>\n",
              "    <tr>\n",
              "      <th>11</th>\n",
              "      <td>cool_stuff</td>\n",
              "      <td>3964</td>\n",
              "    </tr>\n",
              "    <tr>\n",
              "      <th>12</th>\n",
              "      <td>perfumery</td>\n",
              "      <td>3575</td>\n",
              "    </tr>\n",
              "    <tr>\n",
              "      <th>13</th>\n",
              "      <td>baby</td>\n",
              "      <td>3178</td>\n",
              "    </tr>\n",
              "    <tr>\n",
              "      <th>14</th>\n",
              "      <td>electronics</td>\n",
              "      <td>2827</td>\n",
              "    </tr>\n",
              "    <tr>\n",
              "      <th>15</th>\n",
              "      <td>stationery</td>\n",
              "      <td>2607</td>\n",
              "    </tr>\n",
              "    <tr>\n",
              "      <th>16</th>\n",
              "      <td>fashion_bags_accessories</td>\n",
              "      <td>2159</td>\n",
              "    </tr>\n",
              "    <tr>\n",
              "      <th>17</th>\n",
              "      <td>pet_shop</td>\n",
              "      <td>2020</td>\n",
              "    </tr>\n",
              "    <tr>\n",
              "      <th>18</th>\n",
              "      <td>office_furniture</td>\n",
              "      <td>1773</td>\n",
              "    </tr>\n",
              "    <tr>\n",
              "      <th>19</th>\n",
              "      <td>consoles_games</td>\n",
              "      <td>1180</td>\n",
              "    </tr>\n",
              "    <tr>\n",
              "      <th>20</th>\n",
              "      <td>luggage_accessories</td>\n",
              "      <td>1159</td>\n",
              "    </tr>\n",
              "    <tr>\n",
              "      <th>21</th>\n",
              "      <td>construction_tools_construction</td>\n",
              "      <td>950</td>\n",
              "    </tr>\n",
              "    <tr>\n",
              "      <th>22</th>\n",
              "      <td>home_appliances</td>\n",
              "      <td>823</td>\n",
              "    </tr>\n",
              "    <tr>\n",
              "      <th>23</th>\n",
              "      <td>musical_instruments</td>\n",
              "      <td>712</td>\n",
              "    </tr>\n",
              "    <tr>\n",
              "      <th>24</th>\n",
              "      <td>small_appliances</td>\n",
              "      <td>699</td>\n",
              "    </tr>\n",
              "    <tr>\n",
              "      <th>25</th>\n",
              "      <td>home_construction</td>\n",
              "      <td>630</td>\n",
              "    </tr>\n",
              "    <tr>\n",
              "      <th>26</th>\n",
              "      <td>books_general_interest</td>\n",
              "      <td>561</td>\n",
              "    </tr>\n",
              "    <tr>\n",
              "      <th>27</th>\n",
              "      <td>furniture_living_room</td>\n",
              "      <td>522</td>\n",
              "    </tr>\n",
              "    <tr>\n",
              "      <th>28</th>\n",
              "      <td>food</td>\n",
              "      <td>511</td>\n",
              "    </tr>\n",
              "    <tr>\n",
              "      <th>29</th>\n",
              "      <td>home_confort</td>\n",
              "      <td>476</td>\n",
              "    </tr>\n",
              "    <tr>\n",
              "      <th>30</th>\n",
              "      <td>drinks</td>\n",
              "      <td>384</td>\n",
              "    </tr>\n",
              "    <tr>\n",
              "      <th>31</th>\n",
              "      <td>audio</td>\n",
              "      <td>377</td>\n",
              "    </tr>\n",
              "    <tr>\n",
              "      <th>32</th>\n",
              "      <td>market_place</td>\n",
              "      <td>330</td>\n",
              "    </tr>\n",
              "    <tr>\n",
              "      <th>33</th>\n",
              "      <td>construction_tools_lights</td>\n",
              "      <td>305</td>\n",
              "    </tr>\n",
              "    <tr>\n",
              "      <th>34</th>\n",
              "      <td>kitchen_dining_laundry_garden_furniture</td>\n",
              "      <td>297</td>\n",
              "    </tr>\n",
              "    <tr>\n",
              "      <th>35</th>\n",
              "      <td>air_conditioning</td>\n",
              "      <td>297</td>\n",
              "    </tr>\n",
              "    <tr>\n",
              "      <th>36</th>\n",
              "      <td>food_drink</td>\n",
              "      <td>290</td>\n",
              "    </tr>\n",
              "    <tr>\n",
              "      <th>37</th>\n",
              "      <td>fashion_shoes</td>\n",
              "      <td>273</td>\n",
              "    </tr>\n",
              "    <tr>\n",
              "      <th>38</th>\n",
              "      <td>fixed_telephony</td>\n",
              "      <td>269</td>\n",
              "    </tr>\n",
              "    <tr>\n",
              "      <th>39</th>\n",
              "      <td>industry_commerce_and_business</td>\n",
              "      <td>269</td>\n",
              "    </tr>\n",
              "    <tr>\n",
              "      <th>40</th>\n",
              "      <td>books_technical</td>\n",
              "      <td>269</td>\n",
              "    </tr>\n",
              "    <tr>\n",
              "      <th>41</th>\n",
              "      <td>home_appliances_2</td>\n",
              "      <td>268</td>\n",
              "    </tr>\n",
              "    <tr>\n",
              "      <th>42</th>\n",
              "      <td>agro_industry_and_commerce</td>\n",
              "      <td>252</td>\n",
              "    </tr>\n",
              "    <tr>\n",
              "      <th>43</th>\n",
              "      <td>costruction_tools_garden</td>\n",
              "      <td>247</td>\n",
              "    </tr>\n",
              "    <tr>\n",
              "      <th>44</th>\n",
              "      <td>computers</td>\n",
              "      <td>217</td>\n",
              "    </tr>\n",
              "    <tr>\n",
              "      <th>45</th>\n",
              "      <td>art</td>\n",
              "      <td>217</td>\n",
              "    </tr>\n",
              "    <tr>\n",
              "      <th>46</th>\n",
              "      <td>signaling_and_security</td>\n",
              "      <td>199</td>\n",
              "    </tr>\n",
              "    <tr>\n",
              "      <th>47</th>\n",
              "      <td>construction_tools_safety</td>\n",
              "      <td>198</td>\n",
              "    </tr>\n",
              "    <tr>\n",
              "      <th>48</th>\n",
              "      <td>christmas_supplies</td>\n",
              "      <td>148</td>\n",
              "    </tr>\n",
              "    <tr>\n",
              "      <th>49</th>\n",
              "      <td>fashion_male_clothing</td>\n",
              "      <td>144</td>\n",
              "    </tr>\n",
              "    <tr>\n",
              "      <th>50</th>\n",
              "      <td>fashion_underwear_beach</td>\n",
              "      <td>143</td>\n",
              "    </tr>\n",
              "    <tr>\n",
              "      <th>51</th>\n",
              "      <td>furniture_bedroom</td>\n",
              "      <td>126</td>\n",
              "    </tr>\n",
              "    <tr>\n",
              "      <th>52</th>\n",
              "      <td>costruction_tools_tools</td>\n",
              "      <td>101</td>\n",
              "    </tr>\n",
              "    <tr>\n",
              "      <th>53</th>\n",
              "      <td>tablets_printing_image</td>\n",
              "      <td>85</td>\n",
              "    </tr>\n",
              "    <tr>\n",
              "      <th>54</th>\n",
              "      <td>small_appliances_home_oven_and_coffee</td>\n",
              "      <td>78</td>\n",
              "    </tr>\n",
              "    <tr>\n",
              "      <th>55</th>\n",
              "      <td>cine_photo</td>\n",
              "      <td>74</td>\n",
              "    </tr>\n",
              "    <tr>\n",
              "      <th>56</th>\n",
              "      <td>dvds_blu_ray</td>\n",
              "      <td>70</td>\n",
              "    </tr>\n",
              "    <tr>\n",
              "      <th>57</th>\n",
              "      <td>books_imported</td>\n",
              "      <td>62</td>\n",
              "    </tr>\n",
              "    <tr>\n",
              "      <th>58</th>\n",
              "      <td>fashio_female_clothing</td>\n",
              "      <td>50</td>\n",
              "    </tr>\n",
              "    <tr>\n",
              "      <th>59</th>\n",
              "      <td>party_supplies</td>\n",
              "      <td>46</td>\n",
              "    </tr>\n",
              "    <tr>\n",
              "      <th>60</th>\n",
              "      <td>furniture_mattress_and_upholstery</td>\n",
              "      <td>41</td>\n",
              "    </tr>\n",
              "    <tr>\n",
              "      <th>61</th>\n",
              "      <td>music</td>\n",
              "      <td>40</td>\n",
              "    </tr>\n",
              "    <tr>\n",
              "      <th>62</th>\n",
              "      <td>diapers_and_hygiene</td>\n",
              "      <td>39</td>\n",
              "    </tr>\n",
              "    <tr>\n",
              "      <th>63</th>\n",
              "      <td>fashion_sport</td>\n",
              "      <td>31</td>\n",
              "    </tr>\n",
              "    <tr>\n",
              "      <th>64</th>\n",
              "      <td>flowers</td>\n",
              "      <td>31</td>\n",
              "    </tr>\n",
              "    <tr>\n",
              "      <th>65</th>\n",
              "      <td>home_comfort_2</td>\n",
              "      <td>28</td>\n",
              "    </tr>\n",
              "    <tr>\n",
              "      <th>66</th>\n",
              "      <td>arts_and_craftmanship</td>\n",
              "      <td>24</td>\n",
              "    </tr>\n",
              "    <tr>\n",
              "      <th>67</th>\n",
              "      <td>la_cuisine</td>\n",
              "      <td>15</td>\n",
              "    </tr>\n",
              "    <tr>\n",
              "      <th>68</th>\n",
              "      <td>cds_dvds_musicals</td>\n",
              "      <td>14</td>\n",
              "    </tr>\n",
              "    <tr>\n",
              "      <th>69</th>\n",
              "      <td>fashion_childrens_clothes</td>\n",
              "      <td>8</td>\n",
              "    </tr>\n",
              "    <tr>\n",
              "      <th>70</th>\n",
              "      <td>security_and_services</td>\n",
              "      <td>2</td>\n",
              "    </tr>\n",
              "  </tbody>\n",
              "</table>\n",
              "</div>"
            ],
            "text/plain": [
              "              product_category_name_english  jumlah\n",
              "11                               cool_stuff    3964\n",
              "12                                perfumery    3575\n",
              "13                                     baby    3178\n",
              "14                              electronics    2827\n",
              "15                               stationery    2607\n",
              "16                 fashion_bags_accessories    2159\n",
              "17                                 pet_shop    2020\n",
              "18                         office_furniture    1773\n",
              "19                           consoles_games    1180\n",
              "20                      luggage_accessories    1159\n",
              "21          construction_tools_construction     950\n",
              "22                          home_appliances     823\n",
              "23                      musical_instruments     712\n",
              "24                         small_appliances     699\n",
              "25                        home_construction     630\n",
              "26                   books_general_interest     561\n",
              "27                    furniture_living_room     522\n",
              "28                                     food     511\n",
              "29                             home_confort     476\n",
              "30                                   drinks     384\n",
              "31                                    audio     377\n",
              "32                             market_place     330\n",
              "33                construction_tools_lights     305\n",
              "34  kitchen_dining_laundry_garden_furniture     297\n",
              "35                         air_conditioning     297\n",
              "36                               food_drink     290\n",
              "37                            fashion_shoes     273\n",
              "38                          fixed_telephony     269\n",
              "39           industry_commerce_and_business     269\n",
              "40                          books_technical     269\n",
              "41                        home_appliances_2     268\n",
              "42               agro_industry_and_commerce     252\n",
              "43                 costruction_tools_garden     247\n",
              "44                                computers     217\n",
              "45                                      art     217\n",
              "46                   signaling_and_security     199\n",
              "47                construction_tools_safety     198\n",
              "48                       christmas_supplies     148\n",
              "49                    fashion_male_clothing     144\n",
              "50                  fashion_underwear_beach     143\n",
              "51                        furniture_bedroom     126\n",
              "52                  costruction_tools_tools     101\n",
              "53                   tablets_printing_image      85\n",
              "54    small_appliances_home_oven_and_coffee      78\n",
              "55                               cine_photo      74\n",
              "56                             dvds_blu_ray      70\n",
              "57                           books_imported      62\n",
              "58                   fashio_female_clothing      50\n",
              "59                           party_supplies      46\n",
              "60        furniture_mattress_and_upholstery      41\n",
              "61                                    music      40\n",
              "62                      diapers_and_hygiene      39\n",
              "63                            fashion_sport      31\n",
              "64                                  flowers      31\n",
              "65                           home_comfort_2      28\n",
              "66                    arts_and_craftmanship      24\n",
              "67                               la_cuisine      15\n",
              "68                        cds_dvds_musicals      14\n",
              "69                fashion_childrens_clothes       8\n",
              "70                    security_and_services       2"
            ]
          },
          "execution_count": 330,
          "metadata": {},
          "output_type": "execute_result"
        }
      ],
      "source": [
        "top_product_cat = all_dataset.groupby(by='product_category_name_english').agg({\n",
        "    'order_id':'count'\n",
        "}).sort_values(\n",
        "    by='order_id', \n",
        "    ascending=False).reset_index().rename(columns={'order_id':'jumlah'})\n",
        "\n",
        "top_product_cat.iloc[11:,]"
      ]
    },
    {
      "cell_type": "markdown",
      "metadata": {},
      "source": [
        "### Pertanyaan 3: kategori produk apa saja yang memiliki skor review yang baik"
      ]
    },
    {
      "cell_type": "code",
      "execution_count": 294,
      "metadata": {},
      "outputs": [
        {
          "data": {
            "text/plain": [
              "Index(['order_id', 'customer_id', 'order_status', 'order_purchase_timestamp',\n",
              "       'order_approved_at', 'order_delivered_carrier_date',\n",
              "       'order_delivered_customer_date', 'order_estimated_delivery_date',\n",
              "       'delivery_time', 'order_item_id', 'product_id', 'seller_id',\n",
              "       'shipping_limit_date', 'price', 'freight_value', 'total_price',\n",
              "       'payment_sequential', 'payment_type', 'payment_installments',\n",
              "       'payment_value', 'review_id', 'review_score', 'review_comment_title',\n",
              "       'review_comment_message', 'review_creation_date',\n",
              "       'review_answer_timestamp', 'customer_unique_id',\n",
              "       'customer_zip_code_prefix', 'customer_city', 'customer_state',\n",
              "       'cust_status', 'product_category_name', 'product_name_lenght',\n",
              "       'product_description_lenght', 'product_photos_qty', 'product_weight_g',\n",
              "       'product_length_cm', 'product_height_cm', 'product_width_cm',\n",
              "       'product_category_name_english'],\n",
              "      dtype='object')"
            ]
          },
          "execution_count": 294,
          "metadata": {},
          "output_type": "execute_result"
        }
      ],
      "source": [
        "all_dataset.columns"
      ]
    },
    {
      "cell_type": "code",
      "execution_count": 295,
      "metadata": {},
      "outputs": [
        {
          "data": {
            "text/html": [
              "<div>\n",
              "<style scoped>\n",
              "    .dataframe tbody tr th:only-of-type {\n",
              "        vertical-align: middle;\n",
              "    }\n",
              "\n",
              "    .dataframe tbody tr th {\n",
              "        vertical-align: top;\n",
              "    }\n",
              "\n",
              "    .dataframe thead th {\n",
              "        text-align: right;\n",
              "    }\n",
              "</style>\n",
              "<table border=\"1\" class=\"dataframe\">\n",
              "  <thead>\n",
              "    <tr style=\"text-align: right;\">\n",
              "      <th></th>\n",
              "      <th>review_score</th>\n",
              "      <th>product_category_name_english</th>\n",
              "      <th>jml</th>\n",
              "    </tr>\n",
              "  </thead>\n",
              "  <tbody>\n",
              "    <tr>\n",
              "      <th>0</th>\n",
              "      <td>5</td>\n",
              "      <td>bed_bath_table</td>\n",
              "      <td>6166</td>\n",
              "    </tr>\n",
              "    <tr>\n",
              "      <th>1</th>\n",
              "      <td>5</td>\n",
              "      <td>health_beauty</td>\n",
              "      <td>6024</td>\n",
              "    </tr>\n",
              "    <tr>\n",
              "      <th>2</th>\n",
              "      <td>5</td>\n",
              "      <td>sports_leisure</td>\n",
              "      <td>5284</td>\n",
              "    </tr>\n",
              "    <tr>\n",
              "      <th>3</th>\n",
              "      <td>5</td>\n",
              "      <td>furniture_decor</td>\n",
              "      <td>4698</td>\n",
              "    </tr>\n",
              "    <tr>\n",
              "      <th>4</th>\n",
              "      <td>5</td>\n",
              "      <td>computers_accessories</td>\n",
              "      <td>4347</td>\n",
              "    </tr>\n",
              "  </tbody>\n",
              "</table>\n",
              "</div>"
            ],
            "text/plain": [
              "   review_score product_category_name_english   jml\n",
              "0             5                bed_bath_table  6166\n",
              "1             5                 health_beauty  6024\n",
              "2             5                sports_leisure  5284\n",
              "3             5               furniture_decor  4698\n",
              "4             5         computers_accessories  4347"
            ]
          },
          "execution_count": 295,
          "metadata": {},
          "output_type": "execute_result"
        }
      ],
      "source": [
        "product = all_dataset[[\n",
        "    'review_id','review_score', \n",
        "    'review_comment_title', \n",
        "    'review_comment_message',\n",
        "    'review_creation_date',\n",
        "    'product_category_name_english']]\n",
        "\n",
        "product_review = product.groupby(by=['review_score','product_category_name_english']).agg({'review_id':'count'}).sort_values(by='review_id', ascending=False).rename(columns={'review_id':'jml'}).reset_index()\n",
        "product_review.head()"
      ]
    },
    {
      "cell_type": "code",
      "execution_count": 296,
      "metadata": {},
      "outputs": [
        {
          "data": {
            "application/vnd.plotly.v1+json": {
              "config": {
                "plotlyServerURL": "https://plot.ly"
              },
              "data": [
                {
                  "branchvalues": "total",
                  "domain": {
                    "x": [
                      0,
                      1
                    ],
                    "y": [
                      0,
                      1
                    ]
                  },
                  "hovertemplate": "labels=%{label}<br>jml=%{value}<br>parent=%{parent}<br>id=%{id}<extra></extra>",
                  "ids": [
                    "Product Review/1/agro_industry_and_commerce",
                    "Product Review/2/agro_industry_and_commerce",
                    "Product Review/3/agro_industry_and_commerce",
                    "Product Review/4/agro_industry_and_commerce",
                    "Product Review/5/agro_industry_and_commerce",
                    "Product Review/1/air_conditioning",
                    "Product Review/2/air_conditioning",
                    "Product Review/3/air_conditioning",
                    "Product Review/4/air_conditioning",
                    "Product Review/5/air_conditioning",
                    "Product Review/1/art",
                    "Product Review/2/art",
                    "Product Review/3/art",
                    "Product Review/4/art",
                    "Product Review/5/art",
                    "Product Review/1/arts_and_craftmanship",
                    "Product Review/3/arts_and_craftmanship",
                    "Product Review/4/arts_and_craftmanship",
                    "Product Review/5/arts_and_craftmanship",
                    "Product Review/1/audio",
                    "Product Review/2/audio",
                    "Product Review/3/audio",
                    "Product Review/4/audio",
                    "Product Review/5/audio",
                    "Product Review/1/auto",
                    "Product Review/2/auto",
                    "Product Review/3/auto",
                    "Product Review/4/auto",
                    "Product Review/5/auto",
                    "Product Review/1/baby",
                    "Product Review/2/baby",
                    "Product Review/3/baby",
                    "Product Review/4/baby",
                    "Product Review/5/baby",
                    "Product Review/1/bed_bath_table",
                    "Product Review/2/bed_bath_table",
                    "Product Review/3/bed_bath_table",
                    "Product Review/4/bed_bath_table",
                    "Product Review/5/bed_bath_table",
                    "Product Review/1/books_general_interest",
                    "Product Review/2/books_general_interest",
                    "Product Review/3/books_general_interest",
                    "Product Review/4/books_general_interest",
                    "Product Review/5/books_general_interest",
                    "Product Review/1/books_imported",
                    "Product Review/2/books_imported",
                    "Product Review/3/books_imported",
                    "Product Review/4/books_imported",
                    "Product Review/5/books_imported",
                    "Product Review/1/books_technical",
                    "Product Review/2/books_technical",
                    "Product Review/3/books_technical",
                    "Product Review/4/books_technical",
                    "Product Review/5/books_technical",
                    "Product Review/3/cds_dvds_musicals",
                    "Product Review/4/cds_dvds_musicals",
                    "Product Review/5/cds_dvds_musicals",
                    "Product Review/1/christmas_supplies",
                    "Product Review/2/christmas_supplies",
                    "Product Review/3/christmas_supplies",
                    "Product Review/4/christmas_supplies",
                    "Product Review/5/christmas_supplies",
                    "Product Review/1/cine_photo",
                    "Product Review/2/cine_photo",
                    "Product Review/3/cine_photo",
                    "Product Review/4/cine_photo",
                    "Product Review/5/cine_photo",
                    "Product Review/1/computers",
                    "Product Review/2/computers",
                    "Product Review/3/computers",
                    "Product Review/4/computers",
                    "Product Review/5/computers",
                    "Product Review/1/computers_accessories",
                    "Product Review/2/computers_accessories",
                    "Product Review/3/computers_accessories",
                    "Product Review/4/computers_accessories",
                    "Product Review/5/computers_accessories",
                    "Product Review/1/consoles_games",
                    "Product Review/2/consoles_games",
                    "Product Review/3/consoles_games",
                    "Product Review/4/consoles_games",
                    "Product Review/5/consoles_games",
                    "Product Review/1/construction_tools_construction",
                    "Product Review/2/construction_tools_construction",
                    "Product Review/3/construction_tools_construction",
                    "Product Review/4/construction_tools_construction",
                    "Product Review/5/construction_tools_construction",
                    "Product Review/1/construction_tools_lights",
                    "Product Review/2/construction_tools_lights",
                    "Product Review/3/construction_tools_lights",
                    "Product Review/4/construction_tools_lights",
                    "Product Review/5/construction_tools_lights",
                    "Product Review/1/construction_tools_safety",
                    "Product Review/2/construction_tools_safety",
                    "Product Review/3/construction_tools_safety",
                    "Product Review/4/construction_tools_safety",
                    "Product Review/5/construction_tools_safety",
                    "Product Review/1/cool_stuff",
                    "Product Review/2/cool_stuff",
                    "Product Review/3/cool_stuff",
                    "Product Review/4/cool_stuff",
                    "Product Review/5/cool_stuff",
                    "Product Review/1/costruction_tools_garden",
                    "Product Review/2/costruction_tools_garden",
                    "Product Review/3/costruction_tools_garden",
                    "Product Review/4/costruction_tools_garden",
                    "Product Review/5/costruction_tools_garden",
                    "Product Review/1/costruction_tools_tools",
                    "Product Review/3/costruction_tools_tools",
                    "Product Review/4/costruction_tools_tools",
                    "Product Review/5/costruction_tools_tools",
                    "Product Review/1/diapers_and_hygiene",
                    "Product Review/3/diapers_and_hygiene",
                    "Product Review/4/diapers_and_hygiene",
                    "Product Review/5/diapers_and_hygiene",
                    "Product Review/1/drinks",
                    "Product Review/2/drinks",
                    "Product Review/3/drinks",
                    "Product Review/4/drinks",
                    "Product Review/5/drinks",
                    "Product Review/1/dvds_blu_ray",
                    "Product Review/2/dvds_blu_ray",
                    "Product Review/3/dvds_blu_ray",
                    "Product Review/4/dvds_blu_ray",
                    "Product Review/5/dvds_blu_ray",
                    "Product Review/1/electronics",
                    "Product Review/2/electronics",
                    "Product Review/3/electronics",
                    "Product Review/4/electronics",
                    "Product Review/5/electronics",
                    "Product Review/1/fashio_female_clothing",
                    "Product Review/2/fashio_female_clothing",
                    "Product Review/3/fashio_female_clothing",
                    "Product Review/4/fashio_female_clothing",
                    "Product Review/5/fashio_female_clothing",
                    "Product Review/1/fashion_bags_accessories",
                    "Product Review/2/fashion_bags_accessories",
                    "Product Review/3/fashion_bags_accessories",
                    "Product Review/4/fashion_bags_accessories",
                    "Product Review/5/fashion_bags_accessories",
                    "Product Review/1/fashion_childrens_clothes",
                    "Product Review/5/fashion_childrens_clothes",
                    "Product Review/1/fashion_male_clothing",
                    "Product Review/2/fashion_male_clothing",
                    "Product Review/3/fashion_male_clothing",
                    "Product Review/4/fashion_male_clothing",
                    "Product Review/5/fashion_male_clothing",
                    "Product Review/1/fashion_shoes",
                    "Product Review/2/fashion_shoes",
                    "Product Review/3/fashion_shoes",
                    "Product Review/4/fashion_shoes",
                    "Product Review/5/fashion_shoes",
                    "Product Review/1/fashion_sport",
                    "Product Review/2/fashion_sport",
                    "Product Review/3/fashion_sport",
                    "Product Review/4/fashion_sport",
                    "Product Review/5/fashion_sport",
                    "Product Review/1/fashion_underwear_beach",
                    "Product Review/2/fashion_underwear_beach",
                    "Product Review/3/fashion_underwear_beach",
                    "Product Review/4/fashion_underwear_beach",
                    "Product Review/5/fashion_underwear_beach",
                    "Product Review/1/fixed_telephony",
                    "Product Review/2/fixed_telephony",
                    "Product Review/3/fixed_telephony",
                    "Product Review/4/fixed_telephony",
                    "Product Review/5/fixed_telephony",
                    "Product Review/1/flowers",
                    "Product Review/3/flowers",
                    "Product Review/4/flowers",
                    "Product Review/5/flowers",
                    "Product Review/1/food",
                    "Product Review/2/food",
                    "Product Review/3/food",
                    "Product Review/4/food",
                    "Product Review/5/food",
                    "Product Review/1/food_drink",
                    "Product Review/2/food_drink",
                    "Product Review/3/food_drink",
                    "Product Review/4/food_drink",
                    "Product Review/5/food_drink",
                    "Product Review/1/furniture_bedroom",
                    "Product Review/2/furniture_bedroom",
                    "Product Review/3/furniture_bedroom",
                    "Product Review/4/furniture_bedroom",
                    "Product Review/5/furniture_bedroom",
                    "Product Review/1/furniture_decor",
                    "Product Review/2/furniture_decor",
                    "Product Review/3/furniture_decor",
                    "Product Review/4/furniture_decor",
                    "Product Review/5/furniture_decor",
                    "Product Review/1/furniture_living_room",
                    "Product Review/2/furniture_living_room",
                    "Product Review/3/furniture_living_room",
                    "Product Review/4/furniture_living_room",
                    "Product Review/5/furniture_living_room",
                    "Product Review/1/furniture_mattress_and_upholstery",
                    "Product Review/2/furniture_mattress_and_upholstery",
                    "Product Review/3/furniture_mattress_and_upholstery",
                    "Product Review/4/furniture_mattress_and_upholstery",
                    "Product Review/5/furniture_mattress_and_upholstery",
                    "Product Review/1/garden_tools",
                    "Product Review/2/garden_tools",
                    "Product Review/3/garden_tools",
                    "Product Review/4/garden_tools",
                    "Product Review/5/garden_tools",
                    "Product Review/1/health_beauty",
                    "Product Review/2/health_beauty",
                    "Product Review/3/health_beauty",
                    "Product Review/4/health_beauty",
                    "Product Review/5/health_beauty",
                    "Product Review/1/home_appliances",
                    "Product Review/2/home_appliances",
                    "Product Review/3/home_appliances",
                    "Product Review/4/home_appliances",
                    "Product Review/5/home_appliances",
                    "Product Review/1/home_appliances_2",
                    "Product Review/2/home_appliances_2",
                    "Product Review/3/home_appliances_2",
                    "Product Review/4/home_appliances_2",
                    "Product Review/5/home_appliances_2",
                    "Product Review/1/home_comfort_2",
                    "Product Review/2/home_comfort_2",
                    "Product Review/3/home_comfort_2",
                    "Product Review/4/home_comfort_2",
                    "Product Review/5/home_comfort_2",
                    "Product Review/1/home_confort",
                    "Product Review/2/home_confort",
                    "Product Review/3/home_confort",
                    "Product Review/4/home_confort",
                    "Product Review/5/home_confort",
                    "Product Review/1/home_construction",
                    "Product Review/2/home_construction",
                    "Product Review/3/home_construction",
                    "Product Review/4/home_construction",
                    "Product Review/5/home_construction",
                    "Product Review/1/housewares",
                    "Product Review/2/housewares",
                    "Product Review/3/housewares",
                    "Product Review/4/housewares",
                    "Product Review/5/housewares",
                    "Product Review/1/industry_commerce_and_business",
                    "Product Review/2/industry_commerce_and_business",
                    "Product Review/3/industry_commerce_and_business",
                    "Product Review/4/industry_commerce_and_business",
                    "Product Review/5/industry_commerce_and_business",
                    "Product Review/1/kitchen_dining_laundry_garden_furniture",
                    "Product Review/2/kitchen_dining_laundry_garden_furniture",
                    "Product Review/3/kitchen_dining_laundry_garden_furniture",
                    "Product Review/4/kitchen_dining_laundry_garden_furniture",
                    "Product Review/5/kitchen_dining_laundry_garden_furniture",
                    "Product Review/1/la_cuisine",
                    "Product Review/4/la_cuisine",
                    "Product Review/5/la_cuisine",
                    "Product Review/1/luggage_accessories",
                    "Product Review/2/luggage_accessories",
                    "Product Review/3/luggage_accessories",
                    "Product Review/4/luggage_accessories",
                    "Product Review/5/luggage_accessories",
                    "Product Review/1/market_place",
                    "Product Review/2/market_place",
                    "Product Review/3/market_place",
                    "Product Review/4/market_place",
                    "Product Review/5/market_place",
                    "Product Review/1/music",
                    "Product Review/3/music",
                    "Product Review/4/music",
                    "Product Review/5/music",
                    "Product Review/1/musical_instruments",
                    "Product Review/2/musical_instruments",
                    "Product Review/3/musical_instruments",
                    "Product Review/4/musical_instruments",
                    "Product Review/5/musical_instruments",
                    "Product Review/1/office_furniture",
                    "Product Review/2/office_furniture",
                    "Product Review/3/office_furniture",
                    "Product Review/4/office_furniture",
                    "Product Review/5/office_furniture",
                    "Product Review/1/party_supplies",
                    "Product Review/2/party_supplies",
                    "Product Review/3/party_supplies",
                    "Product Review/4/party_supplies",
                    "Product Review/5/party_supplies",
                    "Product Review/1/perfumery",
                    "Product Review/2/perfumery",
                    "Product Review/3/perfumery",
                    "Product Review/4/perfumery",
                    "Product Review/5/perfumery",
                    "Product Review/1/pet_shop",
                    "Product Review/2/pet_shop",
                    "Product Review/3/pet_shop",
                    "Product Review/4/pet_shop",
                    "Product Review/5/pet_shop",
                    "Product Review/1/security_and_services",
                    "Product Review/4/security_and_services",
                    "Product Review/1/signaling_and_security",
                    "Product Review/2/signaling_and_security",
                    "Product Review/3/signaling_and_security",
                    "Product Review/4/signaling_and_security",
                    "Product Review/5/signaling_and_security",
                    "Product Review/1/small_appliances",
                    "Product Review/2/small_appliances",
                    "Product Review/3/small_appliances",
                    "Product Review/4/small_appliances",
                    "Product Review/5/small_appliances",
                    "Product Review/1/small_appliances_home_oven_and_coffee",
                    "Product Review/2/small_appliances_home_oven_and_coffee",
                    "Product Review/3/small_appliances_home_oven_and_coffee",
                    "Product Review/4/small_appliances_home_oven_and_coffee",
                    "Product Review/5/small_appliances_home_oven_and_coffee",
                    "Product Review/1/sports_leisure",
                    "Product Review/2/sports_leisure",
                    "Product Review/3/sports_leisure",
                    "Product Review/4/sports_leisure",
                    "Product Review/5/sports_leisure",
                    "Product Review/1/stationery",
                    "Product Review/2/stationery",
                    "Product Review/3/stationery",
                    "Product Review/4/stationery",
                    "Product Review/5/stationery",
                    "Product Review/1/tablets_printing_image",
                    "Product Review/2/tablets_printing_image",
                    "Product Review/3/tablets_printing_image",
                    "Product Review/4/tablets_printing_image",
                    "Product Review/5/tablets_printing_image",
                    "Product Review/1/telephony",
                    "Product Review/2/telephony",
                    "Product Review/3/telephony",
                    "Product Review/4/telephony",
                    "Product Review/5/telephony",
                    "Product Review/1/toys",
                    "Product Review/2/toys",
                    "Product Review/3/toys",
                    "Product Review/4/toys",
                    "Product Review/5/toys",
                    "Product Review/1/watches_gifts",
                    "Product Review/2/watches_gifts",
                    "Product Review/3/watches_gifts",
                    "Product Review/4/watches_gifts",
                    "Product Review/5/watches_gifts",
                    "Product Review/1",
                    "Product Review/2",
                    "Product Review/3",
                    "Product Review/4",
                    "Product Review/5",
                    "Product Review"
                  ],
                  "labels": [
                    "agro_industry_and_commerce",
                    "agro_industry_and_commerce",
                    "agro_industry_and_commerce",
                    "agro_industry_and_commerce",
                    "agro_industry_and_commerce",
                    "air_conditioning",
                    "air_conditioning",
                    "air_conditioning",
                    "air_conditioning",
                    "air_conditioning",
                    "art",
                    "art",
                    "art",
                    "art",
                    "art",
                    "arts_and_craftmanship",
                    "arts_and_craftmanship",
                    "arts_and_craftmanship",
                    "arts_and_craftmanship",
                    "audio",
                    "audio",
                    "audio",
                    "audio",
                    "audio",
                    "auto",
                    "auto",
                    "auto",
                    "auto",
                    "auto",
                    "baby",
                    "baby",
                    "baby",
                    "baby",
                    "baby",
                    "bed_bath_table",
                    "bed_bath_table",
                    "bed_bath_table",
                    "bed_bath_table",
                    "bed_bath_table",
                    "books_general_interest",
                    "books_general_interest",
                    "books_general_interest",
                    "books_general_interest",
                    "books_general_interest",
                    "books_imported",
                    "books_imported",
                    "books_imported",
                    "books_imported",
                    "books_imported",
                    "books_technical",
                    "books_technical",
                    "books_technical",
                    "books_technical",
                    "books_technical",
                    "cds_dvds_musicals",
                    "cds_dvds_musicals",
                    "cds_dvds_musicals",
                    "christmas_supplies",
                    "christmas_supplies",
                    "christmas_supplies",
                    "christmas_supplies",
                    "christmas_supplies",
                    "cine_photo",
                    "cine_photo",
                    "cine_photo",
                    "cine_photo",
                    "cine_photo",
                    "computers",
                    "computers",
                    "computers",
                    "computers",
                    "computers",
                    "computers_accessories",
                    "computers_accessories",
                    "computers_accessories",
                    "computers_accessories",
                    "computers_accessories",
                    "consoles_games",
                    "consoles_games",
                    "consoles_games",
                    "consoles_games",
                    "consoles_games",
                    "construction_tools_construction",
                    "construction_tools_construction",
                    "construction_tools_construction",
                    "construction_tools_construction",
                    "construction_tools_construction",
                    "construction_tools_lights",
                    "construction_tools_lights",
                    "construction_tools_lights",
                    "construction_tools_lights",
                    "construction_tools_lights",
                    "construction_tools_safety",
                    "construction_tools_safety",
                    "construction_tools_safety",
                    "construction_tools_safety",
                    "construction_tools_safety",
                    "cool_stuff",
                    "cool_stuff",
                    "cool_stuff",
                    "cool_stuff",
                    "cool_stuff",
                    "costruction_tools_garden",
                    "costruction_tools_garden",
                    "costruction_tools_garden",
                    "costruction_tools_garden",
                    "costruction_tools_garden",
                    "costruction_tools_tools",
                    "costruction_tools_tools",
                    "costruction_tools_tools",
                    "costruction_tools_tools",
                    "diapers_and_hygiene",
                    "diapers_and_hygiene",
                    "diapers_and_hygiene",
                    "diapers_and_hygiene",
                    "drinks",
                    "drinks",
                    "drinks",
                    "drinks",
                    "drinks",
                    "dvds_blu_ray",
                    "dvds_blu_ray",
                    "dvds_blu_ray",
                    "dvds_blu_ray",
                    "dvds_blu_ray",
                    "electronics",
                    "electronics",
                    "electronics",
                    "electronics",
                    "electronics",
                    "fashio_female_clothing",
                    "fashio_female_clothing",
                    "fashio_female_clothing",
                    "fashio_female_clothing",
                    "fashio_female_clothing",
                    "fashion_bags_accessories",
                    "fashion_bags_accessories",
                    "fashion_bags_accessories",
                    "fashion_bags_accessories",
                    "fashion_bags_accessories",
                    "fashion_childrens_clothes",
                    "fashion_childrens_clothes",
                    "fashion_male_clothing",
                    "fashion_male_clothing",
                    "fashion_male_clothing",
                    "fashion_male_clothing",
                    "fashion_male_clothing",
                    "fashion_shoes",
                    "fashion_shoes",
                    "fashion_shoes",
                    "fashion_shoes",
                    "fashion_shoes",
                    "fashion_sport",
                    "fashion_sport",
                    "fashion_sport",
                    "fashion_sport",
                    "fashion_sport",
                    "fashion_underwear_beach",
                    "fashion_underwear_beach",
                    "fashion_underwear_beach",
                    "fashion_underwear_beach",
                    "fashion_underwear_beach",
                    "fixed_telephony",
                    "fixed_telephony",
                    "fixed_telephony",
                    "fixed_telephony",
                    "fixed_telephony",
                    "flowers",
                    "flowers",
                    "flowers",
                    "flowers",
                    "food",
                    "food",
                    "food",
                    "food",
                    "food",
                    "food_drink",
                    "food_drink",
                    "food_drink",
                    "food_drink",
                    "food_drink",
                    "furniture_bedroom",
                    "furniture_bedroom",
                    "furniture_bedroom",
                    "furniture_bedroom",
                    "furniture_bedroom",
                    "furniture_decor",
                    "furniture_decor",
                    "furniture_decor",
                    "furniture_decor",
                    "furniture_decor",
                    "furniture_living_room",
                    "furniture_living_room",
                    "furniture_living_room",
                    "furniture_living_room",
                    "furniture_living_room",
                    "furniture_mattress_and_upholstery",
                    "furniture_mattress_and_upholstery",
                    "furniture_mattress_and_upholstery",
                    "furniture_mattress_and_upholstery",
                    "furniture_mattress_and_upholstery",
                    "garden_tools",
                    "garden_tools",
                    "garden_tools",
                    "garden_tools",
                    "garden_tools",
                    "health_beauty",
                    "health_beauty",
                    "health_beauty",
                    "health_beauty",
                    "health_beauty",
                    "home_appliances",
                    "home_appliances",
                    "home_appliances",
                    "home_appliances",
                    "home_appliances",
                    "home_appliances_2",
                    "home_appliances_2",
                    "home_appliances_2",
                    "home_appliances_2",
                    "home_appliances_2",
                    "home_comfort_2",
                    "home_comfort_2",
                    "home_comfort_2",
                    "home_comfort_2",
                    "home_comfort_2",
                    "home_confort",
                    "home_confort",
                    "home_confort",
                    "home_confort",
                    "home_confort",
                    "home_construction",
                    "home_construction",
                    "home_construction",
                    "home_construction",
                    "home_construction",
                    "housewares",
                    "housewares",
                    "housewares",
                    "housewares",
                    "housewares",
                    "industry_commerce_and_business",
                    "industry_commerce_and_business",
                    "industry_commerce_and_business",
                    "industry_commerce_and_business",
                    "industry_commerce_and_business",
                    "kitchen_dining_laundry_garden_furniture",
                    "kitchen_dining_laundry_garden_furniture",
                    "kitchen_dining_laundry_garden_furniture",
                    "kitchen_dining_laundry_garden_furniture",
                    "kitchen_dining_laundry_garden_furniture",
                    "la_cuisine",
                    "la_cuisine",
                    "la_cuisine",
                    "luggage_accessories",
                    "luggage_accessories",
                    "luggage_accessories",
                    "luggage_accessories",
                    "luggage_accessories",
                    "market_place",
                    "market_place",
                    "market_place",
                    "market_place",
                    "market_place",
                    "music",
                    "music",
                    "music",
                    "music",
                    "musical_instruments",
                    "musical_instruments",
                    "musical_instruments",
                    "musical_instruments",
                    "musical_instruments",
                    "office_furniture",
                    "office_furniture",
                    "office_furniture",
                    "office_furniture",
                    "office_furniture",
                    "party_supplies",
                    "party_supplies",
                    "party_supplies",
                    "party_supplies",
                    "party_supplies",
                    "perfumery",
                    "perfumery",
                    "perfumery",
                    "perfumery",
                    "perfumery",
                    "pet_shop",
                    "pet_shop",
                    "pet_shop",
                    "pet_shop",
                    "pet_shop",
                    "security_and_services",
                    "security_and_services",
                    "signaling_and_security",
                    "signaling_and_security",
                    "signaling_and_security",
                    "signaling_and_security",
                    "signaling_and_security",
                    "small_appliances",
                    "small_appliances",
                    "small_appliances",
                    "small_appliances",
                    "small_appliances",
                    "small_appliances_home_oven_and_coffee",
                    "small_appliances_home_oven_and_coffee",
                    "small_appliances_home_oven_and_coffee",
                    "small_appliances_home_oven_and_coffee",
                    "small_appliances_home_oven_and_coffee",
                    "sports_leisure",
                    "sports_leisure",
                    "sports_leisure",
                    "sports_leisure",
                    "sports_leisure",
                    "stationery",
                    "stationery",
                    "stationery",
                    "stationery",
                    "stationery",
                    "tablets_printing_image",
                    "tablets_printing_image",
                    "tablets_printing_image",
                    "tablets_printing_image",
                    "tablets_printing_image",
                    "telephony",
                    "telephony",
                    "telephony",
                    "telephony",
                    "telephony",
                    "toys",
                    "toys",
                    "toys",
                    "toys",
                    "toys",
                    "watches_gifts",
                    "watches_gifts",
                    "watches_gifts",
                    "watches_gifts",
                    "watches_gifts",
                    "1",
                    "2",
                    "3",
                    "4",
                    "5",
                    "Product Review"
                  ],
                  "name": "",
                  "parents": [
                    "Product Review/1",
                    "Product Review/2",
                    "Product Review/3",
                    "Product Review/4",
                    "Product Review/5",
                    "Product Review/1",
                    "Product Review/2",
                    "Product Review/3",
                    "Product Review/4",
                    "Product Review/5",
                    "Product Review/1",
                    "Product Review/2",
                    "Product Review/3",
                    "Product Review/4",
                    "Product Review/5",
                    "Product Review/1",
                    "Product Review/3",
                    "Product Review/4",
                    "Product Review/5",
                    "Product Review/1",
                    "Product Review/2",
                    "Product Review/3",
                    "Product Review/4",
                    "Product Review/5",
                    "Product Review/1",
                    "Product Review/2",
                    "Product Review/3",
                    "Product Review/4",
                    "Product Review/5",
                    "Product Review/1",
                    "Product Review/2",
                    "Product Review/3",
                    "Product Review/4",
                    "Product Review/5",
                    "Product Review/1",
                    "Product Review/2",
                    "Product Review/3",
                    "Product Review/4",
                    "Product Review/5",
                    "Product Review/1",
                    "Product Review/2",
                    "Product Review/3",
                    "Product Review/4",
                    "Product Review/5",
                    "Product Review/1",
                    "Product Review/2",
                    "Product Review/3",
                    "Product Review/4",
                    "Product Review/5",
                    "Product Review/1",
                    "Product Review/2",
                    "Product Review/3",
                    "Product Review/4",
                    "Product Review/5",
                    "Product Review/3",
                    "Product Review/4",
                    "Product Review/5",
                    "Product Review/1",
                    "Product Review/2",
                    "Product Review/3",
                    "Product Review/4",
                    "Product Review/5",
                    "Product Review/1",
                    "Product Review/2",
                    "Product Review/3",
                    "Product Review/4",
                    "Product Review/5",
                    "Product Review/1",
                    "Product Review/2",
                    "Product Review/3",
                    "Product Review/4",
                    "Product Review/5",
                    "Product Review/1",
                    "Product Review/2",
                    "Product Review/3",
                    "Product Review/4",
                    "Product Review/5",
                    "Product Review/1",
                    "Product Review/2",
                    "Product Review/3",
                    "Product Review/4",
                    "Product Review/5",
                    "Product Review/1",
                    "Product Review/2",
                    "Product Review/3",
                    "Product Review/4",
                    "Product Review/5",
                    "Product Review/1",
                    "Product Review/2",
                    "Product Review/3",
                    "Product Review/4",
                    "Product Review/5",
                    "Product Review/1",
                    "Product Review/2",
                    "Product Review/3",
                    "Product Review/4",
                    "Product Review/5",
                    "Product Review/1",
                    "Product Review/2",
                    "Product Review/3",
                    "Product Review/4",
                    "Product Review/5",
                    "Product Review/1",
                    "Product Review/2",
                    "Product Review/3",
                    "Product Review/4",
                    "Product Review/5",
                    "Product Review/1",
                    "Product Review/3",
                    "Product Review/4",
                    "Product Review/5",
                    "Product Review/1",
                    "Product Review/3",
                    "Product Review/4",
                    "Product Review/5",
                    "Product Review/1",
                    "Product Review/2",
                    "Product Review/3",
                    "Product Review/4",
                    "Product Review/5",
                    "Product Review/1",
                    "Product Review/2",
                    "Product Review/3",
                    "Product Review/4",
                    "Product Review/5",
                    "Product Review/1",
                    "Product Review/2",
                    "Product Review/3",
                    "Product Review/4",
                    "Product Review/5",
                    "Product Review/1",
                    "Product Review/2",
                    "Product Review/3",
                    "Product Review/4",
                    "Product Review/5",
                    "Product Review/1",
                    "Product Review/2",
                    "Product Review/3",
                    "Product Review/4",
                    "Product Review/5",
                    "Product Review/1",
                    "Product Review/5",
                    "Product Review/1",
                    "Product Review/2",
                    "Product Review/3",
                    "Product Review/4",
                    "Product Review/5",
                    "Product Review/1",
                    "Product Review/2",
                    "Product Review/3",
                    "Product Review/4",
                    "Product Review/5",
                    "Product Review/1",
                    "Product Review/2",
                    "Product Review/3",
                    "Product Review/4",
                    "Product Review/5",
                    "Product Review/1",
                    "Product Review/2",
                    "Product Review/3",
                    "Product Review/4",
                    "Product Review/5",
                    "Product Review/1",
                    "Product Review/2",
                    "Product Review/3",
                    "Product Review/4",
                    "Product Review/5",
                    "Product Review/1",
                    "Product Review/3",
                    "Product Review/4",
                    "Product Review/5",
                    "Product Review/1",
                    "Product Review/2",
                    "Product Review/3",
                    "Product Review/4",
                    "Product Review/5",
                    "Product Review/1",
                    "Product Review/2",
                    "Product Review/3",
                    "Product Review/4",
                    "Product Review/5",
                    "Product Review/1",
                    "Product Review/2",
                    "Product Review/3",
                    "Product Review/4",
                    "Product Review/5",
                    "Product Review/1",
                    "Product Review/2",
                    "Product Review/3",
                    "Product Review/4",
                    "Product Review/5",
                    "Product Review/1",
                    "Product Review/2",
                    "Product Review/3",
                    "Product Review/4",
                    "Product Review/5",
                    "Product Review/1",
                    "Product Review/2",
                    "Product Review/3",
                    "Product Review/4",
                    "Product Review/5",
                    "Product Review/1",
                    "Product Review/2",
                    "Product Review/3",
                    "Product Review/4",
                    "Product Review/5",
                    "Product Review/1",
                    "Product Review/2",
                    "Product Review/3",
                    "Product Review/4",
                    "Product Review/5",
                    "Product Review/1",
                    "Product Review/2",
                    "Product Review/3",
                    "Product Review/4",
                    "Product Review/5",
                    "Product Review/1",
                    "Product Review/2",
                    "Product Review/3",
                    "Product Review/4",
                    "Product Review/5",
                    "Product Review/1",
                    "Product Review/2",
                    "Product Review/3",
                    "Product Review/4",
                    "Product Review/5",
                    "Product Review/1",
                    "Product Review/2",
                    "Product Review/3",
                    "Product Review/4",
                    "Product Review/5",
                    "Product Review/1",
                    "Product Review/2",
                    "Product Review/3",
                    "Product Review/4",
                    "Product Review/5",
                    "Product Review/1",
                    "Product Review/2",
                    "Product Review/3",
                    "Product Review/4",
                    "Product Review/5",
                    "Product Review/1",
                    "Product Review/2",
                    "Product Review/3",
                    "Product Review/4",
                    "Product Review/5",
                    "Product Review/1",
                    "Product Review/2",
                    "Product Review/3",
                    "Product Review/4",
                    "Product Review/5",
                    "Product Review/1",
                    "Product Review/4",
                    "Product Review/5",
                    "Product Review/1",
                    "Product Review/2",
                    "Product Review/3",
                    "Product Review/4",
                    "Product Review/5",
                    "Product Review/1",
                    "Product Review/2",
                    "Product Review/3",
                    "Product Review/4",
                    "Product Review/5",
                    "Product Review/1",
                    "Product Review/3",
                    "Product Review/4",
                    "Product Review/5",
                    "Product Review/1",
                    "Product Review/2",
                    "Product Review/3",
                    "Product Review/4",
                    "Product Review/5",
                    "Product Review/1",
                    "Product Review/2",
                    "Product Review/3",
                    "Product Review/4",
                    "Product Review/5",
                    "Product Review/1",
                    "Product Review/2",
                    "Product Review/3",
                    "Product Review/4",
                    "Product Review/5",
                    "Product Review/1",
                    "Product Review/2",
                    "Product Review/3",
                    "Product Review/4",
                    "Product Review/5",
                    "Product Review/1",
                    "Product Review/2",
                    "Product Review/3",
                    "Product Review/4",
                    "Product Review/5",
                    "Product Review/1",
                    "Product Review/4",
                    "Product Review/1",
                    "Product Review/2",
                    "Product Review/3",
                    "Product Review/4",
                    "Product Review/5",
                    "Product Review/1",
                    "Product Review/2",
                    "Product Review/3",
                    "Product Review/4",
                    "Product Review/5",
                    "Product Review/1",
                    "Product Review/2",
                    "Product Review/3",
                    "Product Review/4",
                    "Product Review/5",
                    "Product Review/1",
                    "Product Review/2",
                    "Product Review/3",
                    "Product Review/4",
                    "Product Review/5",
                    "Product Review/1",
                    "Product Review/2",
                    "Product Review/3",
                    "Product Review/4",
                    "Product Review/5",
                    "Product Review/1",
                    "Product Review/2",
                    "Product Review/3",
                    "Product Review/4",
                    "Product Review/5",
                    "Product Review/1",
                    "Product Review/2",
                    "Product Review/3",
                    "Product Review/4",
                    "Product Review/5",
                    "Product Review/1",
                    "Product Review/2",
                    "Product Review/3",
                    "Product Review/4",
                    "Product Review/5",
                    "Product Review/1",
                    "Product Review/2",
                    "Product Review/3",
                    "Product Review/4",
                    "Product Review/5",
                    "Product Review",
                    "Product Review",
                    "Product Review",
                    "Product Review",
                    "Product Review",
                    ""
                  ],
                  "root": {
                    "color": "lightgrey"
                  },
                  "type": "treemap",
                  "values": [
                    27,
                    7,
                    14,
                    57,
                    147,
                    44,
                    8,
                    26,
                    54,
                    165,
                    33,
                    7,
                    19,
                    40,
                    118,
                    3,
                    3,
                    3,
                    15,
                    62,
                    19,
                    37,
                    58,
                    201,
                    512,
                    152,
                    334,
                    904,
                    2454,
                    421,
                    110,
                    264,
                    599,
                    1784,
                    1724,
                    562,
                    1166,
                    2229,
                    6166,
                    41,
                    8,
                    21,
                    85,
                    406,
                    6,
                    1,
                    2,
                    5,
                    48,
                    22,
                    7,
                    10,
                    39,
                    191,
                    1,
                    3,
                    10,
                    19,
                    2,
                    13,
                    37,
                    77,
                    9,
                    2,
                    5,
                    6,
                    52,
                    25,
                    2,
                    12,
                    47,
                    131,
                    1199,
                    290,
                    688,
                    1581,
                    4347,
                    147,
                    38,
                    118,
                    227,
                    650,
                    110,
                    30,
                    89,
                    178,
                    543,
                    26,
                    17,
                    33,
                    64,
                    165,
                    35,
                    5,
                    17,
                    39,
                    102,
                    396,
                    126,
                    327,
                    790,
                    2325,
                    32,
                    10,
                    13,
                    43,
                    149,
                    9,
                    1,
                    21,
                    70,
                    10,
                    11,
                    6,
                    12,
                    49,
                    7,
                    33,
                    84,
                    211,
                    11,
                    1,
                    1,
                    13,
                    44,
                    332,
                    114,
                    220,
                    603,
                    1558,
                    6,
                    3,
                    7,
                    14,
                    20,
                    224,
                    57,
                    185,
                    440,
                    1253,
                    1,
                    7,
                    40,
                    5,
                    7,
                    20,
                    72,
                    26,
                    9,
                    18,
                    45,
                    175,
                    2,
                    1,
                    2,
                    8,
                    18,
                    16,
                    8,
                    10,
                    36,
                    73,
                    53,
                    17,
                    19,
                    56,
                    124,
                    2,
                    2,
                    6,
                    21,
                    52,
                    13,
                    26,
                    95,
                    325,
                    18,
                    5,
                    29,
                    51,
                    187,
                    26,
                    4,
                    5,
                    20,
                    71,
                    1303,
                    390,
                    777,
                    1575,
                    4698,
                    69,
                    25,
                    57,
                    102,
                    269,
                    7,
                    1,
                    5,
                    8,
                    20,
                    602,
                    143,
                    366,
                    880,
                    2567,
                    1128,
                    245,
                    778,
                    1769,
                    6024,
                    82,
                    15,
                    68,
                    170,
                    488,
                    21,
                    9,
                    20,
                    60,
                    158,
                    6,
                    1,
                    3,
                    5,
                    13,
                    72,
                    16,
                    60,
                    64,
                    264,
                    73,
                    37,
                    52,
                    152,
                    316,
                    869,
                    264,
                    625,
                    1370,
                    4203,
                    28,
                    9,
                    25,
                    56,
                    151,
                    39,
                    6,
                    31,
                    72,
                    149,
                    3,
                    1,
                    11,
                    93,
                    25,
                    76,
                    217,
                    748,
                    35,
                    10,
                    32,
                    85,
                    168,
                    4,
                    5,
                    6,
                    25,
                    71,
                    31,
                    45,
                    133,
                    432,
                    360,
                    90,
                    252,
                    398,
                    673,
                    8,
                    2,
                    5,
                    5,
                    26,
                    440,
                    111,
                    240,
                    544,
                    2240,
                    196,
                    59,
                    148,
                    365,
                    1252,
                    1,
                    1,
                    22,
                    3,
                    29,
                    33,
                    112,
                    76,
                    23,
                    41,
                    135,
                    424,
                    7,
                    1,
                    4,
                    14,
                    52,
                    1061,
                    238,
                    664,
                    1695,
                    5284,
                    252,
                    93,
                    162,
                    505,
                    1595,
                    5,
                    6,
                    8,
                    21,
                    45,
                    600,
                    186,
                    476,
                    1022,
                    2408,
                    463,
                    109,
                    325,
                    727,
                    2622,
                    780,
                    225,
                    551,
                    1155,
                    3450,
                    14546,
                    4020,
                    9718,
                    21951,
                    65374,
                    115609
                  ]
                }
              ],
              "layout": {
                "legend": {
                  "tracegroupgap": 0
                },
                "margin": {
                  "b": 25,
                  "l": 25,
                  "r": 25,
                  "t": 50
                },
                "template": {
                  "data": {
                    "bar": [
                      {
                        "error_x": {
                          "color": "#2a3f5f"
                        },
                        "error_y": {
                          "color": "#2a3f5f"
                        },
                        "marker": {
                          "line": {
                            "color": "#E5ECF6",
                            "width": 0.5
                          },
                          "pattern": {
                            "fillmode": "overlay",
                            "size": 10,
                            "solidity": 0.2
                          }
                        },
                        "type": "bar"
                      }
                    ],
                    "barpolar": [
                      {
                        "marker": {
                          "line": {
                            "color": "#E5ECF6",
                            "width": 0.5
                          },
                          "pattern": {
                            "fillmode": "overlay",
                            "size": 10,
                            "solidity": 0.2
                          }
                        },
                        "type": "barpolar"
                      }
                    ],
                    "carpet": [
                      {
                        "aaxis": {
                          "endlinecolor": "#2a3f5f",
                          "gridcolor": "white",
                          "linecolor": "white",
                          "minorgridcolor": "white",
                          "startlinecolor": "#2a3f5f"
                        },
                        "baxis": {
                          "endlinecolor": "#2a3f5f",
                          "gridcolor": "white",
                          "linecolor": "white",
                          "minorgridcolor": "white",
                          "startlinecolor": "#2a3f5f"
                        },
                        "type": "carpet"
                      }
                    ],
                    "choropleth": [
                      {
                        "colorbar": {
                          "outlinewidth": 0,
                          "ticks": ""
                        },
                        "type": "choropleth"
                      }
                    ],
                    "contour": [
                      {
                        "colorbar": {
                          "outlinewidth": 0,
                          "ticks": ""
                        },
                        "colorscale": [
                          [
                            0,
                            "#0d0887"
                          ],
                          [
                            0.1111111111111111,
                            "#46039f"
                          ],
                          [
                            0.2222222222222222,
                            "#7201a8"
                          ],
                          [
                            0.3333333333333333,
                            "#9c179e"
                          ],
                          [
                            0.4444444444444444,
                            "#bd3786"
                          ],
                          [
                            0.5555555555555556,
                            "#d8576b"
                          ],
                          [
                            0.6666666666666666,
                            "#ed7953"
                          ],
                          [
                            0.7777777777777778,
                            "#fb9f3a"
                          ],
                          [
                            0.8888888888888888,
                            "#fdca26"
                          ],
                          [
                            1,
                            "#f0f921"
                          ]
                        ],
                        "type": "contour"
                      }
                    ],
                    "contourcarpet": [
                      {
                        "colorbar": {
                          "outlinewidth": 0,
                          "ticks": ""
                        },
                        "type": "contourcarpet"
                      }
                    ],
                    "heatmap": [
                      {
                        "colorbar": {
                          "outlinewidth": 0,
                          "ticks": ""
                        },
                        "colorscale": [
                          [
                            0,
                            "#0d0887"
                          ],
                          [
                            0.1111111111111111,
                            "#46039f"
                          ],
                          [
                            0.2222222222222222,
                            "#7201a8"
                          ],
                          [
                            0.3333333333333333,
                            "#9c179e"
                          ],
                          [
                            0.4444444444444444,
                            "#bd3786"
                          ],
                          [
                            0.5555555555555556,
                            "#d8576b"
                          ],
                          [
                            0.6666666666666666,
                            "#ed7953"
                          ],
                          [
                            0.7777777777777778,
                            "#fb9f3a"
                          ],
                          [
                            0.8888888888888888,
                            "#fdca26"
                          ],
                          [
                            1,
                            "#f0f921"
                          ]
                        ],
                        "type": "heatmap"
                      }
                    ],
                    "heatmapgl": [
                      {
                        "colorbar": {
                          "outlinewidth": 0,
                          "ticks": ""
                        },
                        "colorscale": [
                          [
                            0,
                            "#0d0887"
                          ],
                          [
                            0.1111111111111111,
                            "#46039f"
                          ],
                          [
                            0.2222222222222222,
                            "#7201a8"
                          ],
                          [
                            0.3333333333333333,
                            "#9c179e"
                          ],
                          [
                            0.4444444444444444,
                            "#bd3786"
                          ],
                          [
                            0.5555555555555556,
                            "#d8576b"
                          ],
                          [
                            0.6666666666666666,
                            "#ed7953"
                          ],
                          [
                            0.7777777777777778,
                            "#fb9f3a"
                          ],
                          [
                            0.8888888888888888,
                            "#fdca26"
                          ],
                          [
                            1,
                            "#f0f921"
                          ]
                        ],
                        "type": "heatmapgl"
                      }
                    ],
                    "histogram": [
                      {
                        "marker": {
                          "pattern": {
                            "fillmode": "overlay",
                            "size": 10,
                            "solidity": 0.2
                          }
                        },
                        "type": "histogram"
                      }
                    ],
                    "histogram2d": [
                      {
                        "colorbar": {
                          "outlinewidth": 0,
                          "ticks": ""
                        },
                        "colorscale": [
                          [
                            0,
                            "#0d0887"
                          ],
                          [
                            0.1111111111111111,
                            "#46039f"
                          ],
                          [
                            0.2222222222222222,
                            "#7201a8"
                          ],
                          [
                            0.3333333333333333,
                            "#9c179e"
                          ],
                          [
                            0.4444444444444444,
                            "#bd3786"
                          ],
                          [
                            0.5555555555555556,
                            "#d8576b"
                          ],
                          [
                            0.6666666666666666,
                            "#ed7953"
                          ],
                          [
                            0.7777777777777778,
                            "#fb9f3a"
                          ],
                          [
                            0.8888888888888888,
                            "#fdca26"
                          ],
                          [
                            1,
                            "#f0f921"
                          ]
                        ],
                        "type": "histogram2d"
                      }
                    ],
                    "histogram2dcontour": [
                      {
                        "colorbar": {
                          "outlinewidth": 0,
                          "ticks": ""
                        },
                        "colorscale": [
                          [
                            0,
                            "#0d0887"
                          ],
                          [
                            0.1111111111111111,
                            "#46039f"
                          ],
                          [
                            0.2222222222222222,
                            "#7201a8"
                          ],
                          [
                            0.3333333333333333,
                            "#9c179e"
                          ],
                          [
                            0.4444444444444444,
                            "#bd3786"
                          ],
                          [
                            0.5555555555555556,
                            "#d8576b"
                          ],
                          [
                            0.6666666666666666,
                            "#ed7953"
                          ],
                          [
                            0.7777777777777778,
                            "#fb9f3a"
                          ],
                          [
                            0.8888888888888888,
                            "#fdca26"
                          ],
                          [
                            1,
                            "#f0f921"
                          ]
                        ],
                        "type": "histogram2dcontour"
                      }
                    ],
                    "mesh3d": [
                      {
                        "colorbar": {
                          "outlinewidth": 0,
                          "ticks": ""
                        },
                        "type": "mesh3d"
                      }
                    ],
                    "parcoords": [
                      {
                        "line": {
                          "colorbar": {
                            "outlinewidth": 0,
                            "ticks": ""
                          }
                        },
                        "type": "parcoords"
                      }
                    ],
                    "pie": [
                      {
                        "automargin": true,
                        "type": "pie"
                      }
                    ],
                    "scatter": [
                      {
                        "fillpattern": {
                          "fillmode": "overlay",
                          "size": 10,
                          "solidity": 0.2
                        },
                        "type": "scatter"
                      }
                    ],
                    "scatter3d": [
                      {
                        "line": {
                          "colorbar": {
                            "outlinewidth": 0,
                            "ticks": ""
                          }
                        },
                        "marker": {
                          "colorbar": {
                            "outlinewidth": 0,
                            "ticks": ""
                          }
                        },
                        "type": "scatter3d"
                      }
                    ],
                    "scattercarpet": [
                      {
                        "marker": {
                          "colorbar": {
                            "outlinewidth": 0,
                            "ticks": ""
                          }
                        },
                        "type": "scattercarpet"
                      }
                    ],
                    "scattergeo": [
                      {
                        "marker": {
                          "colorbar": {
                            "outlinewidth": 0,
                            "ticks": ""
                          }
                        },
                        "type": "scattergeo"
                      }
                    ],
                    "scattergl": [
                      {
                        "marker": {
                          "colorbar": {
                            "outlinewidth": 0,
                            "ticks": ""
                          }
                        },
                        "type": "scattergl"
                      }
                    ],
                    "scattermapbox": [
                      {
                        "marker": {
                          "colorbar": {
                            "outlinewidth": 0,
                            "ticks": ""
                          }
                        },
                        "type": "scattermapbox"
                      }
                    ],
                    "scatterpolar": [
                      {
                        "marker": {
                          "colorbar": {
                            "outlinewidth": 0,
                            "ticks": ""
                          }
                        },
                        "type": "scatterpolar"
                      }
                    ],
                    "scatterpolargl": [
                      {
                        "marker": {
                          "colorbar": {
                            "outlinewidth": 0,
                            "ticks": ""
                          }
                        },
                        "type": "scatterpolargl"
                      }
                    ],
                    "scatterternary": [
                      {
                        "marker": {
                          "colorbar": {
                            "outlinewidth": 0,
                            "ticks": ""
                          }
                        },
                        "type": "scatterternary"
                      }
                    ],
                    "surface": [
                      {
                        "colorbar": {
                          "outlinewidth": 0,
                          "ticks": ""
                        },
                        "colorscale": [
                          [
                            0,
                            "#0d0887"
                          ],
                          [
                            0.1111111111111111,
                            "#46039f"
                          ],
                          [
                            0.2222222222222222,
                            "#7201a8"
                          ],
                          [
                            0.3333333333333333,
                            "#9c179e"
                          ],
                          [
                            0.4444444444444444,
                            "#bd3786"
                          ],
                          [
                            0.5555555555555556,
                            "#d8576b"
                          ],
                          [
                            0.6666666666666666,
                            "#ed7953"
                          ],
                          [
                            0.7777777777777778,
                            "#fb9f3a"
                          ],
                          [
                            0.8888888888888888,
                            "#fdca26"
                          ],
                          [
                            1,
                            "#f0f921"
                          ]
                        ],
                        "type": "surface"
                      }
                    ],
                    "table": [
                      {
                        "cells": {
                          "fill": {
                            "color": "#EBF0F8"
                          },
                          "line": {
                            "color": "white"
                          }
                        },
                        "header": {
                          "fill": {
                            "color": "#C8D4E3"
                          },
                          "line": {
                            "color": "white"
                          }
                        },
                        "type": "table"
                      }
                    ]
                  },
                  "layout": {
                    "annotationdefaults": {
                      "arrowcolor": "#2a3f5f",
                      "arrowhead": 0,
                      "arrowwidth": 1
                    },
                    "autotypenumbers": "strict",
                    "coloraxis": {
                      "colorbar": {
                        "outlinewidth": 0,
                        "ticks": ""
                      }
                    },
                    "colorscale": {
                      "diverging": [
                        [
                          0,
                          "#8e0152"
                        ],
                        [
                          0.1,
                          "#c51b7d"
                        ],
                        [
                          0.2,
                          "#de77ae"
                        ],
                        [
                          0.3,
                          "#f1b6da"
                        ],
                        [
                          0.4,
                          "#fde0ef"
                        ],
                        [
                          0.5,
                          "#f7f7f7"
                        ],
                        [
                          0.6,
                          "#e6f5d0"
                        ],
                        [
                          0.7,
                          "#b8e186"
                        ],
                        [
                          0.8,
                          "#7fbc41"
                        ],
                        [
                          0.9,
                          "#4d9221"
                        ],
                        [
                          1,
                          "#276419"
                        ]
                      ],
                      "sequential": [
                        [
                          0,
                          "#0d0887"
                        ],
                        [
                          0.1111111111111111,
                          "#46039f"
                        ],
                        [
                          0.2222222222222222,
                          "#7201a8"
                        ],
                        [
                          0.3333333333333333,
                          "#9c179e"
                        ],
                        [
                          0.4444444444444444,
                          "#bd3786"
                        ],
                        [
                          0.5555555555555556,
                          "#d8576b"
                        ],
                        [
                          0.6666666666666666,
                          "#ed7953"
                        ],
                        [
                          0.7777777777777778,
                          "#fb9f3a"
                        ],
                        [
                          0.8888888888888888,
                          "#fdca26"
                        ],
                        [
                          1,
                          "#f0f921"
                        ]
                      ],
                      "sequentialminus": [
                        [
                          0,
                          "#0d0887"
                        ],
                        [
                          0.1111111111111111,
                          "#46039f"
                        ],
                        [
                          0.2222222222222222,
                          "#7201a8"
                        ],
                        [
                          0.3333333333333333,
                          "#9c179e"
                        ],
                        [
                          0.4444444444444444,
                          "#bd3786"
                        ],
                        [
                          0.5555555555555556,
                          "#d8576b"
                        ],
                        [
                          0.6666666666666666,
                          "#ed7953"
                        ],
                        [
                          0.7777777777777778,
                          "#fb9f3a"
                        ],
                        [
                          0.8888888888888888,
                          "#fdca26"
                        ],
                        [
                          1,
                          "#f0f921"
                        ]
                      ]
                    },
                    "colorway": [
                      "#636efa",
                      "#EF553B",
                      "#00cc96",
                      "#ab63fa",
                      "#FFA15A",
                      "#19d3f3",
                      "#FF6692",
                      "#B6E880",
                      "#FF97FF",
                      "#FECB52"
                    ],
                    "font": {
                      "color": "#2a3f5f"
                    },
                    "geo": {
                      "bgcolor": "white",
                      "lakecolor": "white",
                      "landcolor": "#E5ECF6",
                      "showlakes": true,
                      "showland": true,
                      "subunitcolor": "white"
                    },
                    "hoverlabel": {
                      "align": "left"
                    },
                    "hovermode": "closest",
                    "mapbox": {
                      "style": "light"
                    },
                    "paper_bgcolor": "white",
                    "plot_bgcolor": "#E5ECF6",
                    "polar": {
                      "angularaxis": {
                        "gridcolor": "white",
                        "linecolor": "white",
                        "ticks": ""
                      },
                      "bgcolor": "#E5ECF6",
                      "radialaxis": {
                        "gridcolor": "white",
                        "linecolor": "white",
                        "ticks": ""
                      }
                    },
                    "scene": {
                      "xaxis": {
                        "backgroundcolor": "#E5ECF6",
                        "gridcolor": "white",
                        "gridwidth": 2,
                        "linecolor": "white",
                        "showbackground": true,
                        "ticks": "",
                        "zerolinecolor": "white"
                      },
                      "yaxis": {
                        "backgroundcolor": "#E5ECF6",
                        "gridcolor": "white",
                        "gridwidth": 2,
                        "linecolor": "white",
                        "showbackground": true,
                        "ticks": "",
                        "zerolinecolor": "white"
                      },
                      "zaxis": {
                        "backgroundcolor": "#E5ECF6",
                        "gridcolor": "white",
                        "gridwidth": 2,
                        "linecolor": "white",
                        "showbackground": true,
                        "ticks": "",
                        "zerolinecolor": "white"
                      }
                    },
                    "shapedefaults": {
                      "line": {
                        "color": "#2a3f5f"
                      }
                    },
                    "ternary": {
                      "aaxis": {
                        "gridcolor": "white",
                        "linecolor": "white",
                        "ticks": ""
                      },
                      "baxis": {
                        "gridcolor": "white",
                        "linecolor": "white",
                        "ticks": ""
                      },
                      "bgcolor": "#E5ECF6",
                      "caxis": {
                        "gridcolor": "white",
                        "linecolor": "white",
                        "ticks": ""
                      }
                    },
                    "title": {
                      "x": 0.05
                    },
                    "xaxis": {
                      "automargin": true,
                      "gridcolor": "white",
                      "linecolor": "white",
                      "ticks": "",
                      "title": {
                        "standoff": 15
                      },
                      "zerolinecolor": "white",
                      "zerolinewidth": 2
                    },
                    "yaxis": {
                      "automargin": true,
                      "gridcolor": "white",
                      "linecolor": "white",
                      "ticks": "",
                      "title": {
                        "standoff": 15
                      },
                      "zerolinecolor": "white",
                      "zerolinewidth": 2
                    }
                  }
                }
              }
            }
          },
          "metadata": {},
          "output_type": "display_data"
        }
      ],
      "source": [
        "# df = px.data.tips()\n",
        "# px.Constant(\"all\")\n",
        "fig = px.treemap(product_review, path=[px.Constant(\"Product Review\"), 'review_score', 'product_category_name_english'], values='jml')\n",
        "fig.update_traces(root_color=\"lightgrey\")\n",
        "fig.update_layout(margin = dict(t=50, l=25, r=25, b=25))\n",
        "fig.show()"
      ]
    },
    {
      "cell_type": "markdown",
      "metadata": {},
      "source": [
        "### Pertanyaan 4: bagaimana presentase status order"
      ]
    },
    {
      "cell_type": "code",
      "execution_count": 297,
      "metadata": {},
      "outputs": [
        {
          "data": {
            "text/html": [
              "<div>\n",
              "<style scoped>\n",
              "    .dataframe tbody tr th:only-of-type {\n",
              "        vertical-align: middle;\n",
              "    }\n",
              "\n",
              "    .dataframe tbody tr th {\n",
              "        vertical-align: top;\n",
              "    }\n",
              "\n",
              "    .dataframe thead th {\n",
              "        text-align: right;\n",
              "    }\n",
              "</style>\n",
              "<table border=\"1\" class=\"dataframe\">\n",
              "  <thead>\n",
              "    <tr style=\"text-align: right;\">\n",
              "      <th></th>\n",
              "      <th>order_status</th>\n",
              "      <th>jml</th>\n",
              "    </tr>\n",
              "  </thead>\n",
              "  <tbody>\n",
              "    <tr>\n",
              "      <th>0</th>\n",
              "      <td>delivered</td>\n",
              "      <td>113210</td>\n",
              "    </tr>\n",
              "    <tr>\n",
              "      <th>1</th>\n",
              "      <td>shipped</td>\n",
              "      <td>1138</td>\n",
              "    </tr>\n",
              "    <tr>\n",
              "      <th>2</th>\n",
              "      <td>canceled</td>\n",
              "      <td>536</td>\n",
              "    </tr>\n",
              "    <tr>\n",
              "      <th>3</th>\n",
              "      <td>invoiced</td>\n",
              "      <td>358</td>\n",
              "    </tr>\n",
              "    <tr>\n",
              "      <th>4</th>\n",
              "      <td>processing</td>\n",
              "      <td>357</td>\n",
              "    </tr>\n",
              "  </tbody>\n",
              "</table>\n",
              "</div>"
            ],
            "text/plain": [
              "  order_status     jml\n",
              "0    delivered  113210\n",
              "1      shipped    1138\n",
              "2     canceled     536\n",
              "3     invoiced     358\n",
              "4   processing     357"
            ]
          },
          "execution_count": 297,
          "metadata": {},
          "output_type": "execute_result"
        }
      ],
      "source": [
        "order = all_dataset[['order_id', 'customer_id', 'order_status']]\n",
        "status_order = order.groupby(by='order_status').agg({'order_id':'count'}).sort_values(by='order_id', ascending=False).rename(columns={'order_id':'jml'}).reset_index()\n",
        "status_order.head()"
      ]
    },
    {
      "cell_type": "code",
      "execution_count": 298,
      "metadata": {},
      "outputs": [
        {
          "data": {
            "application/vnd.plotly.v1+json": {
              "config": {
                "plotlyServerURL": "https://plot.ly"
              },
              "data": [
                {
                  "domain": {
                    "x": [
                      0,
                      1
                    ],
                    "y": [
                      0,
                      1
                    ]
                  },
                  "hovertemplate": "order_status=%{label}<br>jml=%{value}<extra></extra>",
                  "labels": [
                    "delivered",
                    "shipped",
                    "canceled",
                    "invoiced",
                    "processing",
                    "unavailable",
                    "approved"
                  ],
                  "legendgroup": "",
                  "name": "",
                  "showlegend": true,
                  "type": "pie",
                  "values": [
                    113210,
                    1138,
                    536,
                    358,
                    357,
                    7,
                    3
                  ]
                }
              ],
              "layout": {
                "legend": {
                  "tracegroupgap": 0
                },
                "margin": {
                  "t": 60
                },
                "piecolorway": [
                  "rgb(103,0,31)",
                  "rgb(178,24,43)",
                  "rgb(214,96,77)",
                  "rgb(244,165,130)",
                  "rgb(253,219,199)",
                  "rgb(247,247,247)",
                  "rgb(209,229,240)",
                  "rgb(146,197,222)",
                  "rgb(67,147,195)",
                  "rgb(33,102,172)",
                  "rgb(5,48,97)"
                ],
                "template": {
                  "data": {
                    "bar": [
                      {
                        "error_x": {
                          "color": "#2a3f5f"
                        },
                        "error_y": {
                          "color": "#2a3f5f"
                        },
                        "marker": {
                          "line": {
                            "color": "#E5ECF6",
                            "width": 0.5
                          },
                          "pattern": {
                            "fillmode": "overlay",
                            "size": 10,
                            "solidity": 0.2
                          }
                        },
                        "type": "bar"
                      }
                    ],
                    "barpolar": [
                      {
                        "marker": {
                          "line": {
                            "color": "#E5ECF6",
                            "width": 0.5
                          },
                          "pattern": {
                            "fillmode": "overlay",
                            "size": 10,
                            "solidity": 0.2
                          }
                        },
                        "type": "barpolar"
                      }
                    ],
                    "carpet": [
                      {
                        "aaxis": {
                          "endlinecolor": "#2a3f5f",
                          "gridcolor": "white",
                          "linecolor": "white",
                          "minorgridcolor": "white",
                          "startlinecolor": "#2a3f5f"
                        },
                        "baxis": {
                          "endlinecolor": "#2a3f5f",
                          "gridcolor": "white",
                          "linecolor": "white",
                          "minorgridcolor": "white",
                          "startlinecolor": "#2a3f5f"
                        },
                        "type": "carpet"
                      }
                    ],
                    "choropleth": [
                      {
                        "colorbar": {
                          "outlinewidth": 0,
                          "ticks": ""
                        },
                        "type": "choropleth"
                      }
                    ],
                    "contour": [
                      {
                        "colorbar": {
                          "outlinewidth": 0,
                          "ticks": ""
                        },
                        "colorscale": [
                          [
                            0,
                            "#0d0887"
                          ],
                          [
                            0.1111111111111111,
                            "#46039f"
                          ],
                          [
                            0.2222222222222222,
                            "#7201a8"
                          ],
                          [
                            0.3333333333333333,
                            "#9c179e"
                          ],
                          [
                            0.4444444444444444,
                            "#bd3786"
                          ],
                          [
                            0.5555555555555556,
                            "#d8576b"
                          ],
                          [
                            0.6666666666666666,
                            "#ed7953"
                          ],
                          [
                            0.7777777777777778,
                            "#fb9f3a"
                          ],
                          [
                            0.8888888888888888,
                            "#fdca26"
                          ],
                          [
                            1,
                            "#f0f921"
                          ]
                        ],
                        "type": "contour"
                      }
                    ],
                    "contourcarpet": [
                      {
                        "colorbar": {
                          "outlinewidth": 0,
                          "ticks": ""
                        },
                        "type": "contourcarpet"
                      }
                    ],
                    "heatmap": [
                      {
                        "colorbar": {
                          "outlinewidth": 0,
                          "ticks": ""
                        },
                        "colorscale": [
                          [
                            0,
                            "#0d0887"
                          ],
                          [
                            0.1111111111111111,
                            "#46039f"
                          ],
                          [
                            0.2222222222222222,
                            "#7201a8"
                          ],
                          [
                            0.3333333333333333,
                            "#9c179e"
                          ],
                          [
                            0.4444444444444444,
                            "#bd3786"
                          ],
                          [
                            0.5555555555555556,
                            "#d8576b"
                          ],
                          [
                            0.6666666666666666,
                            "#ed7953"
                          ],
                          [
                            0.7777777777777778,
                            "#fb9f3a"
                          ],
                          [
                            0.8888888888888888,
                            "#fdca26"
                          ],
                          [
                            1,
                            "#f0f921"
                          ]
                        ],
                        "type": "heatmap"
                      }
                    ],
                    "heatmapgl": [
                      {
                        "colorbar": {
                          "outlinewidth": 0,
                          "ticks": ""
                        },
                        "colorscale": [
                          [
                            0,
                            "#0d0887"
                          ],
                          [
                            0.1111111111111111,
                            "#46039f"
                          ],
                          [
                            0.2222222222222222,
                            "#7201a8"
                          ],
                          [
                            0.3333333333333333,
                            "#9c179e"
                          ],
                          [
                            0.4444444444444444,
                            "#bd3786"
                          ],
                          [
                            0.5555555555555556,
                            "#d8576b"
                          ],
                          [
                            0.6666666666666666,
                            "#ed7953"
                          ],
                          [
                            0.7777777777777778,
                            "#fb9f3a"
                          ],
                          [
                            0.8888888888888888,
                            "#fdca26"
                          ],
                          [
                            1,
                            "#f0f921"
                          ]
                        ],
                        "type": "heatmapgl"
                      }
                    ],
                    "histogram": [
                      {
                        "marker": {
                          "pattern": {
                            "fillmode": "overlay",
                            "size": 10,
                            "solidity": 0.2
                          }
                        },
                        "type": "histogram"
                      }
                    ],
                    "histogram2d": [
                      {
                        "colorbar": {
                          "outlinewidth": 0,
                          "ticks": ""
                        },
                        "colorscale": [
                          [
                            0,
                            "#0d0887"
                          ],
                          [
                            0.1111111111111111,
                            "#46039f"
                          ],
                          [
                            0.2222222222222222,
                            "#7201a8"
                          ],
                          [
                            0.3333333333333333,
                            "#9c179e"
                          ],
                          [
                            0.4444444444444444,
                            "#bd3786"
                          ],
                          [
                            0.5555555555555556,
                            "#d8576b"
                          ],
                          [
                            0.6666666666666666,
                            "#ed7953"
                          ],
                          [
                            0.7777777777777778,
                            "#fb9f3a"
                          ],
                          [
                            0.8888888888888888,
                            "#fdca26"
                          ],
                          [
                            1,
                            "#f0f921"
                          ]
                        ],
                        "type": "histogram2d"
                      }
                    ],
                    "histogram2dcontour": [
                      {
                        "colorbar": {
                          "outlinewidth": 0,
                          "ticks": ""
                        },
                        "colorscale": [
                          [
                            0,
                            "#0d0887"
                          ],
                          [
                            0.1111111111111111,
                            "#46039f"
                          ],
                          [
                            0.2222222222222222,
                            "#7201a8"
                          ],
                          [
                            0.3333333333333333,
                            "#9c179e"
                          ],
                          [
                            0.4444444444444444,
                            "#bd3786"
                          ],
                          [
                            0.5555555555555556,
                            "#d8576b"
                          ],
                          [
                            0.6666666666666666,
                            "#ed7953"
                          ],
                          [
                            0.7777777777777778,
                            "#fb9f3a"
                          ],
                          [
                            0.8888888888888888,
                            "#fdca26"
                          ],
                          [
                            1,
                            "#f0f921"
                          ]
                        ],
                        "type": "histogram2dcontour"
                      }
                    ],
                    "mesh3d": [
                      {
                        "colorbar": {
                          "outlinewidth": 0,
                          "ticks": ""
                        },
                        "type": "mesh3d"
                      }
                    ],
                    "parcoords": [
                      {
                        "line": {
                          "colorbar": {
                            "outlinewidth": 0,
                            "ticks": ""
                          }
                        },
                        "type": "parcoords"
                      }
                    ],
                    "pie": [
                      {
                        "automargin": true,
                        "type": "pie"
                      }
                    ],
                    "scatter": [
                      {
                        "fillpattern": {
                          "fillmode": "overlay",
                          "size": 10,
                          "solidity": 0.2
                        },
                        "type": "scatter"
                      }
                    ],
                    "scatter3d": [
                      {
                        "line": {
                          "colorbar": {
                            "outlinewidth": 0,
                            "ticks": ""
                          }
                        },
                        "marker": {
                          "colorbar": {
                            "outlinewidth": 0,
                            "ticks": ""
                          }
                        },
                        "type": "scatter3d"
                      }
                    ],
                    "scattercarpet": [
                      {
                        "marker": {
                          "colorbar": {
                            "outlinewidth": 0,
                            "ticks": ""
                          }
                        },
                        "type": "scattercarpet"
                      }
                    ],
                    "scattergeo": [
                      {
                        "marker": {
                          "colorbar": {
                            "outlinewidth": 0,
                            "ticks": ""
                          }
                        },
                        "type": "scattergeo"
                      }
                    ],
                    "scattergl": [
                      {
                        "marker": {
                          "colorbar": {
                            "outlinewidth": 0,
                            "ticks": ""
                          }
                        },
                        "type": "scattergl"
                      }
                    ],
                    "scattermapbox": [
                      {
                        "marker": {
                          "colorbar": {
                            "outlinewidth": 0,
                            "ticks": ""
                          }
                        },
                        "type": "scattermapbox"
                      }
                    ],
                    "scatterpolar": [
                      {
                        "marker": {
                          "colorbar": {
                            "outlinewidth": 0,
                            "ticks": ""
                          }
                        },
                        "type": "scatterpolar"
                      }
                    ],
                    "scatterpolargl": [
                      {
                        "marker": {
                          "colorbar": {
                            "outlinewidth": 0,
                            "ticks": ""
                          }
                        },
                        "type": "scatterpolargl"
                      }
                    ],
                    "scatterternary": [
                      {
                        "marker": {
                          "colorbar": {
                            "outlinewidth": 0,
                            "ticks": ""
                          }
                        },
                        "type": "scatterternary"
                      }
                    ],
                    "surface": [
                      {
                        "colorbar": {
                          "outlinewidth": 0,
                          "ticks": ""
                        },
                        "colorscale": [
                          [
                            0,
                            "#0d0887"
                          ],
                          [
                            0.1111111111111111,
                            "#46039f"
                          ],
                          [
                            0.2222222222222222,
                            "#7201a8"
                          ],
                          [
                            0.3333333333333333,
                            "#9c179e"
                          ],
                          [
                            0.4444444444444444,
                            "#bd3786"
                          ],
                          [
                            0.5555555555555556,
                            "#d8576b"
                          ],
                          [
                            0.6666666666666666,
                            "#ed7953"
                          ],
                          [
                            0.7777777777777778,
                            "#fb9f3a"
                          ],
                          [
                            0.8888888888888888,
                            "#fdca26"
                          ],
                          [
                            1,
                            "#f0f921"
                          ]
                        ],
                        "type": "surface"
                      }
                    ],
                    "table": [
                      {
                        "cells": {
                          "fill": {
                            "color": "#EBF0F8"
                          },
                          "line": {
                            "color": "white"
                          }
                        },
                        "header": {
                          "fill": {
                            "color": "#C8D4E3"
                          },
                          "line": {
                            "color": "white"
                          }
                        },
                        "type": "table"
                      }
                    ]
                  },
                  "layout": {
                    "annotationdefaults": {
                      "arrowcolor": "#2a3f5f",
                      "arrowhead": 0,
                      "arrowwidth": 1
                    },
                    "autotypenumbers": "strict",
                    "coloraxis": {
                      "colorbar": {
                        "outlinewidth": 0,
                        "ticks": ""
                      }
                    },
                    "colorscale": {
                      "diverging": [
                        [
                          0,
                          "#8e0152"
                        ],
                        [
                          0.1,
                          "#c51b7d"
                        ],
                        [
                          0.2,
                          "#de77ae"
                        ],
                        [
                          0.3,
                          "#f1b6da"
                        ],
                        [
                          0.4,
                          "#fde0ef"
                        ],
                        [
                          0.5,
                          "#f7f7f7"
                        ],
                        [
                          0.6,
                          "#e6f5d0"
                        ],
                        [
                          0.7,
                          "#b8e186"
                        ],
                        [
                          0.8,
                          "#7fbc41"
                        ],
                        [
                          0.9,
                          "#4d9221"
                        ],
                        [
                          1,
                          "#276419"
                        ]
                      ],
                      "sequential": [
                        [
                          0,
                          "#0d0887"
                        ],
                        [
                          0.1111111111111111,
                          "#46039f"
                        ],
                        [
                          0.2222222222222222,
                          "#7201a8"
                        ],
                        [
                          0.3333333333333333,
                          "#9c179e"
                        ],
                        [
                          0.4444444444444444,
                          "#bd3786"
                        ],
                        [
                          0.5555555555555556,
                          "#d8576b"
                        ],
                        [
                          0.6666666666666666,
                          "#ed7953"
                        ],
                        [
                          0.7777777777777778,
                          "#fb9f3a"
                        ],
                        [
                          0.8888888888888888,
                          "#fdca26"
                        ],
                        [
                          1,
                          "#f0f921"
                        ]
                      ],
                      "sequentialminus": [
                        [
                          0,
                          "#0d0887"
                        ],
                        [
                          0.1111111111111111,
                          "#46039f"
                        ],
                        [
                          0.2222222222222222,
                          "#7201a8"
                        ],
                        [
                          0.3333333333333333,
                          "#9c179e"
                        ],
                        [
                          0.4444444444444444,
                          "#bd3786"
                        ],
                        [
                          0.5555555555555556,
                          "#d8576b"
                        ],
                        [
                          0.6666666666666666,
                          "#ed7953"
                        ],
                        [
                          0.7777777777777778,
                          "#fb9f3a"
                        ],
                        [
                          0.8888888888888888,
                          "#fdca26"
                        ],
                        [
                          1,
                          "#f0f921"
                        ]
                      ]
                    },
                    "colorway": [
                      "#636efa",
                      "#EF553B",
                      "#00cc96",
                      "#ab63fa",
                      "#FFA15A",
                      "#19d3f3",
                      "#FF6692",
                      "#B6E880",
                      "#FF97FF",
                      "#FECB52"
                    ],
                    "font": {
                      "color": "#2a3f5f"
                    },
                    "geo": {
                      "bgcolor": "white",
                      "lakecolor": "white",
                      "landcolor": "#E5ECF6",
                      "showlakes": true,
                      "showland": true,
                      "subunitcolor": "white"
                    },
                    "hoverlabel": {
                      "align": "left"
                    },
                    "hovermode": "closest",
                    "mapbox": {
                      "style": "light"
                    },
                    "paper_bgcolor": "white",
                    "plot_bgcolor": "#E5ECF6",
                    "polar": {
                      "angularaxis": {
                        "gridcolor": "white",
                        "linecolor": "white",
                        "ticks": ""
                      },
                      "bgcolor": "#E5ECF6",
                      "radialaxis": {
                        "gridcolor": "white",
                        "linecolor": "white",
                        "ticks": ""
                      }
                    },
                    "scene": {
                      "xaxis": {
                        "backgroundcolor": "#E5ECF6",
                        "gridcolor": "white",
                        "gridwidth": 2,
                        "linecolor": "white",
                        "showbackground": true,
                        "ticks": "",
                        "zerolinecolor": "white"
                      },
                      "yaxis": {
                        "backgroundcolor": "#E5ECF6",
                        "gridcolor": "white",
                        "gridwidth": 2,
                        "linecolor": "white",
                        "showbackground": true,
                        "ticks": "",
                        "zerolinecolor": "white"
                      },
                      "zaxis": {
                        "backgroundcolor": "#E5ECF6",
                        "gridcolor": "white",
                        "gridwidth": 2,
                        "linecolor": "white",
                        "showbackground": true,
                        "ticks": "",
                        "zerolinecolor": "white"
                      }
                    },
                    "shapedefaults": {
                      "line": {
                        "color": "#2a3f5f"
                      }
                    },
                    "ternary": {
                      "aaxis": {
                        "gridcolor": "white",
                        "linecolor": "white",
                        "ticks": ""
                      },
                      "baxis": {
                        "gridcolor": "white",
                        "linecolor": "white",
                        "ticks": ""
                      },
                      "bgcolor": "#E5ECF6",
                      "caxis": {
                        "gridcolor": "white",
                        "linecolor": "white",
                        "ticks": ""
                      }
                    },
                    "title": {
                      "x": 0.05
                    },
                    "xaxis": {
                      "automargin": true,
                      "gridcolor": "white",
                      "linecolor": "white",
                      "ticks": "",
                      "title": {
                        "standoff": 15
                      },
                      "zerolinecolor": "white",
                      "zerolinewidth": 2
                    },
                    "yaxis": {
                      "automargin": true,
                      "gridcolor": "white",
                      "linecolor": "white",
                      "ticks": "",
                      "title": {
                        "standoff": 15
                      },
                      "zerolinecolor": "white",
                      "zerolinewidth": 2
                    }
                  }
                }
              }
            }
          },
          "metadata": {},
          "output_type": "display_data"
        }
      ],
      "source": [
        "fig = px.pie(status_order, values='jml', names='order_status', color_discrete_sequence=px.colors.sequential.RdBu)\n",
        "fig.show()"
      ]
    },
    {
      "cell_type": "markdown",
      "metadata": {},
      "source": [
        "### Pertanyaan 5: kategori produk yang paling banyak terjual"
      ]
    },
    {
      "cell_type": "code",
      "execution_count": 299,
      "metadata": {},
      "outputs": [
        {
          "name": "stdout",
          "output_type": "stream",
          "text": [
            "(115609, 14)\n"
          ]
        },
        {
          "data": {
            "text/html": [
              "<div>\n",
              "<style scoped>\n",
              "    .dataframe tbody tr th:only-of-type {\n",
              "        vertical-align: middle;\n",
              "    }\n",
              "\n",
              "    .dataframe tbody tr th {\n",
              "        vertical-align: top;\n",
              "    }\n",
              "\n",
              "    .dataframe thead th {\n",
              "        text-align: right;\n",
              "    }\n",
              "</style>\n",
              "<table border=\"1\" class=\"dataframe\">\n",
              "  <thead>\n",
              "    <tr style=\"text-align: right;\">\n",
              "      <th></th>\n",
              "      <th>product_category_name_english</th>\n",
              "      <th>count</th>\n",
              "    </tr>\n",
              "  </thead>\n",
              "  <tbody>\n",
              "    <tr>\n",
              "      <th>0</th>\n",
              "      <td>bed_bath_table</td>\n",
              "      <td>11847</td>\n",
              "    </tr>\n",
              "    <tr>\n",
              "      <th>1</th>\n",
              "      <td>health_beauty</td>\n",
              "      <td>9944</td>\n",
              "    </tr>\n",
              "    <tr>\n",
              "      <th>2</th>\n",
              "      <td>sports_leisure</td>\n",
              "      <td>8942</td>\n",
              "    </tr>\n",
              "    <tr>\n",
              "      <th>3</th>\n",
              "      <td>furniture_decor</td>\n",
              "      <td>8743</td>\n",
              "    </tr>\n",
              "    <tr>\n",
              "      <th>4</th>\n",
              "      <td>computers_accessories</td>\n",
              "      <td>8105</td>\n",
              "    </tr>\n",
              "  </tbody>\n",
              "</table>\n",
              "</div>"
            ],
            "text/plain": [
              "  product_category_name_english  count\n",
              "0                bed_bath_table  11847\n",
              "1                 health_beauty   9944\n",
              "2                sports_leisure   8942\n",
              "3               furniture_decor   8743\n",
              "4         computers_accessories   8105"
            ]
          },
          "execution_count": 299,
          "metadata": {},
          "output_type": "execute_result"
        }
      ],
      "source": [
        "data = all_dataset[['order_id', 'order_status', 'order_item_id', 'product_id', 'shipping_limit_date',\n",
        "                                      'price', 'freight_value', 'total_price', 'payment_sequential','payment_type', \n",
        "                                      'order_item_id','payment_installments', 'payment_value','product_category_name_english']]\n",
        "print(data.shape)\n",
        "data[data.order_status.isin(['delivered','shipped','invoiced'])]\n",
        "\n",
        "rate_product = data.groupby(by=['product_category_name_english']).agg(\n",
        "    {'order_id':'count'}\n",
        "     ).sort_values(\n",
        "         by='order_id', \n",
        "         ascending=False\n",
        "         ).rename(columns={'order_id':'count'}).reset_index()\n",
        "\n",
        "rate_product.head(5)\n",
        "\n",
        "# sns.scatterplot(data=rate_product, x=\"order_id\", y=\"price\")"
      ]
    },
    {
      "cell_type": "code",
      "execution_count": 300,
      "metadata": {},
      "outputs": [
        {
          "name": "stdout",
          "output_type": "stream",
          "text": [
            "(71, 2)\n"
          ]
        },
        {
          "data": {
            "text/html": [
              "<div>\n",
              "<style scoped>\n",
              "    .dataframe tbody tr th:only-of-type {\n",
              "        vertical-align: middle;\n",
              "    }\n",
              "\n",
              "    .dataframe tbody tr th {\n",
              "        vertical-align: top;\n",
              "    }\n",
              "\n",
              "    .dataframe thead th {\n",
              "        text-align: right;\n",
              "    }\n",
              "</style>\n",
              "<table border=\"1\" class=\"dataframe\">\n",
              "  <thead>\n",
              "    <tr style=\"text-align: right;\">\n",
              "      <th></th>\n",
              "      <th>product_category_name_english</th>\n",
              "      <th>count</th>\n",
              "    </tr>\n",
              "  </thead>\n",
              "  <tbody>\n",
              "    <tr>\n",
              "      <th>36</th>\n",
              "      <td>food_drink</td>\n",
              "      <td>290</td>\n",
              "    </tr>\n",
              "    <tr>\n",
              "      <th>48</th>\n",
              "      <td>christmas_supplies</td>\n",
              "      <td>148</td>\n",
              "    </tr>\n",
              "    <tr>\n",
              "      <th>45</th>\n",
              "      <td>art</td>\n",
              "      <td>217</td>\n",
              "    </tr>\n",
              "    <tr>\n",
              "      <th>19</th>\n",
              "      <td>consoles_games</td>\n",
              "      <td>1180</td>\n",
              "    </tr>\n",
              "    <tr>\n",
              "      <th>25</th>\n",
              "      <td>home_construction</td>\n",
              "      <td>630</td>\n",
              "    </tr>\n",
              "    <tr>\n",
              "      <th>41</th>\n",
              "      <td>home_appliances_2</td>\n",
              "      <td>268</td>\n",
              "    </tr>\n",
              "    <tr>\n",
              "      <th>35</th>\n",
              "      <td>air_conditioning</td>\n",
              "      <td>297</td>\n",
              "    </tr>\n",
              "    <tr>\n",
              "      <th>9</th>\n",
              "      <td>auto</td>\n",
              "      <td>4356</td>\n",
              "    </tr>\n",
              "    <tr>\n",
              "      <th>53</th>\n",
              "      <td>tablets_printing_image</td>\n",
              "      <td>85</td>\n",
              "    </tr>\n",
              "    <tr>\n",
              "      <th>67</th>\n",
              "      <td>la_cuisine</td>\n",
              "      <td>15</td>\n",
              "    </tr>\n",
              "  </tbody>\n",
              "</table>\n",
              "</div>"
            ],
            "text/plain": [
              "   product_category_name_english  count\n",
              "36                    food_drink    290\n",
              "48            christmas_supplies    148\n",
              "45                           art    217\n",
              "19                consoles_games   1180\n",
              "25             home_construction    630\n",
              "41             home_appliances_2    268\n",
              "35              air_conditioning    297\n",
              "9                           auto   4356\n",
              "53        tablets_printing_image     85\n",
              "67                    la_cuisine     15"
            ]
          },
          "execution_count": 300,
          "metadata": {},
          "output_type": "execute_result"
        }
      ],
      "source": [
        "# z_scores = stats.zscore(rate_product[['price','order_id']])\n",
        "# print(z_scores)\n",
        "print(rate_product.shape)\n",
        "rate_product.sample(10)"
      ]
    },
    {
      "cell_type": "code",
      "execution_count": 301,
      "metadata": {},
      "outputs": [
        {
          "data": {
            "application/vnd.plotly.v1+json": {
              "config": {
                "plotlyServerURL": "https://plot.ly"
              },
              "data": [
                {
                  "branchvalues": "total",
                  "domain": {
                    "x": [
                      0,
                      1
                    ],
                    "y": [
                      0,
                      1
                    ]
                  },
                  "hovertemplate": "labels=%{label}<br>count=%{value}<br>parent=%{parent}<br>id=%{id}<extra></extra>",
                  "ids": [
                    "Product Sold/agro_industry_and_commerce",
                    "Product Sold/air_conditioning",
                    "Product Sold/art",
                    "Product Sold/arts_and_craftmanship",
                    "Product Sold/audio",
                    "Product Sold/auto",
                    "Product Sold/baby",
                    "Product Sold/bed_bath_table",
                    "Product Sold/books_general_interest",
                    "Product Sold/books_imported",
                    "Product Sold/books_technical",
                    "Product Sold/cds_dvds_musicals",
                    "Product Sold/christmas_supplies",
                    "Product Sold/cine_photo",
                    "Product Sold/computers",
                    "Product Sold/computers_accessories",
                    "Product Sold/consoles_games",
                    "Product Sold/construction_tools_construction",
                    "Product Sold/construction_tools_lights",
                    "Product Sold/construction_tools_safety",
                    "Product Sold/cool_stuff",
                    "Product Sold/costruction_tools_garden",
                    "Product Sold/costruction_tools_tools",
                    "Product Sold/diapers_and_hygiene",
                    "Product Sold/drinks",
                    "Product Sold/dvds_blu_ray",
                    "Product Sold/electronics",
                    "Product Sold/fashio_female_clothing",
                    "Product Sold/fashion_bags_accessories",
                    "Product Sold/fashion_childrens_clothes",
                    "Product Sold/fashion_male_clothing",
                    "Product Sold/fashion_shoes",
                    "Product Sold/fashion_sport",
                    "Product Sold/fashion_underwear_beach",
                    "Product Sold/fixed_telephony",
                    "Product Sold/flowers",
                    "Product Sold/food",
                    "Product Sold/food_drink",
                    "Product Sold/furniture_bedroom",
                    "Product Sold/furniture_decor",
                    "Product Sold/furniture_living_room",
                    "Product Sold/furniture_mattress_and_upholstery",
                    "Product Sold/garden_tools",
                    "Product Sold/health_beauty",
                    "Product Sold/home_appliances",
                    "Product Sold/home_appliances_2",
                    "Product Sold/home_comfort_2",
                    "Product Sold/home_confort",
                    "Product Sold/home_construction",
                    "Product Sold/housewares",
                    "Product Sold/industry_commerce_and_business",
                    "Product Sold/kitchen_dining_laundry_garden_furniture",
                    "Product Sold/la_cuisine",
                    "Product Sold/luggage_accessories",
                    "Product Sold/market_place",
                    "Product Sold/music",
                    "Product Sold/musical_instruments",
                    "Product Sold/office_furniture",
                    "Product Sold/party_supplies",
                    "Product Sold/perfumery",
                    "Product Sold/pet_shop",
                    "Product Sold/security_and_services",
                    "Product Sold/signaling_and_security",
                    "Product Sold/small_appliances",
                    "Product Sold/small_appliances_home_oven_and_coffee",
                    "Product Sold/sports_leisure",
                    "Product Sold/stationery",
                    "Product Sold/tablets_printing_image",
                    "Product Sold/telephony",
                    "Product Sold/toys",
                    "Product Sold/watches_gifts",
                    "Product Sold"
                  ],
                  "labels": [
                    "agro_industry_and_commerce",
                    "air_conditioning",
                    "art",
                    "arts_and_craftmanship",
                    "audio",
                    "auto",
                    "baby",
                    "bed_bath_table",
                    "books_general_interest",
                    "books_imported",
                    "books_technical",
                    "cds_dvds_musicals",
                    "christmas_supplies",
                    "cine_photo",
                    "computers",
                    "computers_accessories",
                    "consoles_games",
                    "construction_tools_construction",
                    "construction_tools_lights",
                    "construction_tools_safety",
                    "cool_stuff",
                    "costruction_tools_garden",
                    "costruction_tools_tools",
                    "diapers_and_hygiene",
                    "drinks",
                    "dvds_blu_ray",
                    "electronics",
                    "fashio_female_clothing",
                    "fashion_bags_accessories",
                    "fashion_childrens_clothes",
                    "fashion_male_clothing",
                    "fashion_shoes",
                    "fashion_sport",
                    "fashion_underwear_beach",
                    "fixed_telephony",
                    "flowers",
                    "food",
                    "food_drink",
                    "furniture_bedroom",
                    "furniture_decor",
                    "furniture_living_room",
                    "furniture_mattress_and_upholstery",
                    "garden_tools",
                    "health_beauty",
                    "home_appliances",
                    "home_appliances_2",
                    "home_comfort_2",
                    "home_confort",
                    "home_construction",
                    "housewares",
                    "industry_commerce_and_business",
                    "kitchen_dining_laundry_garden_furniture",
                    "la_cuisine",
                    "luggage_accessories",
                    "market_place",
                    "music",
                    "musical_instruments",
                    "office_furniture",
                    "party_supplies",
                    "perfumery",
                    "pet_shop",
                    "security_and_services",
                    "signaling_and_security",
                    "small_appliances",
                    "small_appliances_home_oven_and_coffee",
                    "sports_leisure",
                    "stationery",
                    "tablets_printing_image",
                    "telephony",
                    "toys",
                    "watches_gifts",
                    "Product Sold"
                  ],
                  "name": "",
                  "parents": [
                    "Product Sold",
                    "Product Sold",
                    "Product Sold",
                    "Product Sold",
                    "Product Sold",
                    "Product Sold",
                    "Product Sold",
                    "Product Sold",
                    "Product Sold",
                    "Product Sold",
                    "Product Sold",
                    "Product Sold",
                    "Product Sold",
                    "Product Sold",
                    "Product Sold",
                    "Product Sold",
                    "Product Sold",
                    "Product Sold",
                    "Product Sold",
                    "Product Sold",
                    "Product Sold",
                    "Product Sold",
                    "Product Sold",
                    "Product Sold",
                    "Product Sold",
                    "Product Sold",
                    "Product Sold",
                    "Product Sold",
                    "Product Sold",
                    "Product Sold",
                    "Product Sold",
                    "Product Sold",
                    "Product Sold",
                    "Product Sold",
                    "Product Sold",
                    "Product Sold",
                    "Product Sold",
                    "Product Sold",
                    "Product Sold",
                    "Product Sold",
                    "Product Sold",
                    "Product Sold",
                    "Product Sold",
                    "Product Sold",
                    "Product Sold",
                    "Product Sold",
                    "Product Sold",
                    "Product Sold",
                    "Product Sold",
                    "Product Sold",
                    "Product Sold",
                    "Product Sold",
                    "Product Sold",
                    "Product Sold",
                    "Product Sold",
                    "Product Sold",
                    "Product Sold",
                    "Product Sold",
                    "Product Sold",
                    "Product Sold",
                    "Product Sold",
                    "Product Sold",
                    "Product Sold",
                    "Product Sold",
                    "Product Sold",
                    "Product Sold",
                    "Product Sold",
                    "Product Sold",
                    "Product Sold",
                    "Product Sold",
                    "Product Sold",
                    ""
                  ],
                  "root": {
                    "color": "lightgrey"
                  },
                  "type": "treemap",
                  "values": [
                    252,
                    297,
                    217,
                    24,
                    377,
                    4356,
                    3178,
                    11847,
                    561,
                    62,
                    269,
                    14,
                    148,
                    74,
                    217,
                    8105,
                    1180,
                    950,
                    305,
                    198,
                    3964,
                    247,
                    101,
                    39,
                    384,
                    70,
                    2827,
                    50,
                    2159,
                    8,
                    144,
                    273,
                    31,
                    143,
                    269,
                    31,
                    511,
                    290,
                    126,
                    8743,
                    522,
                    41,
                    4558,
                    9944,
                    823,
                    268,
                    28,
                    476,
                    630,
                    7331,
                    269,
                    297,
                    15,
                    1159,
                    330,
                    40,
                    712,
                    1773,
                    46,
                    3575,
                    2020,
                    2,
                    199,
                    699,
                    78,
                    8942,
                    2607,
                    85,
                    4692,
                    4246,
                    6161,
                    115609
                  ]
                }
              ],
              "layout": {
                "legend": {
                  "tracegroupgap": 0
                },
                "margin": {
                  "b": 25,
                  "l": 25,
                  "r": 25,
                  "t": 50
                },
                "template": {
                  "data": {
                    "bar": [
                      {
                        "error_x": {
                          "color": "#2a3f5f"
                        },
                        "error_y": {
                          "color": "#2a3f5f"
                        },
                        "marker": {
                          "line": {
                            "color": "#E5ECF6",
                            "width": 0.5
                          },
                          "pattern": {
                            "fillmode": "overlay",
                            "size": 10,
                            "solidity": 0.2
                          }
                        },
                        "type": "bar"
                      }
                    ],
                    "barpolar": [
                      {
                        "marker": {
                          "line": {
                            "color": "#E5ECF6",
                            "width": 0.5
                          },
                          "pattern": {
                            "fillmode": "overlay",
                            "size": 10,
                            "solidity": 0.2
                          }
                        },
                        "type": "barpolar"
                      }
                    ],
                    "carpet": [
                      {
                        "aaxis": {
                          "endlinecolor": "#2a3f5f",
                          "gridcolor": "white",
                          "linecolor": "white",
                          "minorgridcolor": "white",
                          "startlinecolor": "#2a3f5f"
                        },
                        "baxis": {
                          "endlinecolor": "#2a3f5f",
                          "gridcolor": "white",
                          "linecolor": "white",
                          "minorgridcolor": "white",
                          "startlinecolor": "#2a3f5f"
                        },
                        "type": "carpet"
                      }
                    ],
                    "choropleth": [
                      {
                        "colorbar": {
                          "outlinewidth": 0,
                          "ticks": ""
                        },
                        "type": "choropleth"
                      }
                    ],
                    "contour": [
                      {
                        "colorbar": {
                          "outlinewidth": 0,
                          "ticks": ""
                        },
                        "colorscale": [
                          [
                            0,
                            "#0d0887"
                          ],
                          [
                            0.1111111111111111,
                            "#46039f"
                          ],
                          [
                            0.2222222222222222,
                            "#7201a8"
                          ],
                          [
                            0.3333333333333333,
                            "#9c179e"
                          ],
                          [
                            0.4444444444444444,
                            "#bd3786"
                          ],
                          [
                            0.5555555555555556,
                            "#d8576b"
                          ],
                          [
                            0.6666666666666666,
                            "#ed7953"
                          ],
                          [
                            0.7777777777777778,
                            "#fb9f3a"
                          ],
                          [
                            0.8888888888888888,
                            "#fdca26"
                          ],
                          [
                            1,
                            "#f0f921"
                          ]
                        ],
                        "type": "contour"
                      }
                    ],
                    "contourcarpet": [
                      {
                        "colorbar": {
                          "outlinewidth": 0,
                          "ticks": ""
                        },
                        "type": "contourcarpet"
                      }
                    ],
                    "heatmap": [
                      {
                        "colorbar": {
                          "outlinewidth": 0,
                          "ticks": ""
                        },
                        "colorscale": [
                          [
                            0,
                            "#0d0887"
                          ],
                          [
                            0.1111111111111111,
                            "#46039f"
                          ],
                          [
                            0.2222222222222222,
                            "#7201a8"
                          ],
                          [
                            0.3333333333333333,
                            "#9c179e"
                          ],
                          [
                            0.4444444444444444,
                            "#bd3786"
                          ],
                          [
                            0.5555555555555556,
                            "#d8576b"
                          ],
                          [
                            0.6666666666666666,
                            "#ed7953"
                          ],
                          [
                            0.7777777777777778,
                            "#fb9f3a"
                          ],
                          [
                            0.8888888888888888,
                            "#fdca26"
                          ],
                          [
                            1,
                            "#f0f921"
                          ]
                        ],
                        "type": "heatmap"
                      }
                    ],
                    "heatmapgl": [
                      {
                        "colorbar": {
                          "outlinewidth": 0,
                          "ticks": ""
                        },
                        "colorscale": [
                          [
                            0,
                            "#0d0887"
                          ],
                          [
                            0.1111111111111111,
                            "#46039f"
                          ],
                          [
                            0.2222222222222222,
                            "#7201a8"
                          ],
                          [
                            0.3333333333333333,
                            "#9c179e"
                          ],
                          [
                            0.4444444444444444,
                            "#bd3786"
                          ],
                          [
                            0.5555555555555556,
                            "#d8576b"
                          ],
                          [
                            0.6666666666666666,
                            "#ed7953"
                          ],
                          [
                            0.7777777777777778,
                            "#fb9f3a"
                          ],
                          [
                            0.8888888888888888,
                            "#fdca26"
                          ],
                          [
                            1,
                            "#f0f921"
                          ]
                        ],
                        "type": "heatmapgl"
                      }
                    ],
                    "histogram": [
                      {
                        "marker": {
                          "pattern": {
                            "fillmode": "overlay",
                            "size": 10,
                            "solidity": 0.2
                          }
                        },
                        "type": "histogram"
                      }
                    ],
                    "histogram2d": [
                      {
                        "colorbar": {
                          "outlinewidth": 0,
                          "ticks": ""
                        },
                        "colorscale": [
                          [
                            0,
                            "#0d0887"
                          ],
                          [
                            0.1111111111111111,
                            "#46039f"
                          ],
                          [
                            0.2222222222222222,
                            "#7201a8"
                          ],
                          [
                            0.3333333333333333,
                            "#9c179e"
                          ],
                          [
                            0.4444444444444444,
                            "#bd3786"
                          ],
                          [
                            0.5555555555555556,
                            "#d8576b"
                          ],
                          [
                            0.6666666666666666,
                            "#ed7953"
                          ],
                          [
                            0.7777777777777778,
                            "#fb9f3a"
                          ],
                          [
                            0.8888888888888888,
                            "#fdca26"
                          ],
                          [
                            1,
                            "#f0f921"
                          ]
                        ],
                        "type": "histogram2d"
                      }
                    ],
                    "histogram2dcontour": [
                      {
                        "colorbar": {
                          "outlinewidth": 0,
                          "ticks": ""
                        },
                        "colorscale": [
                          [
                            0,
                            "#0d0887"
                          ],
                          [
                            0.1111111111111111,
                            "#46039f"
                          ],
                          [
                            0.2222222222222222,
                            "#7201a8"
                          ],
                          [
                            0.3333333333333333,
                            "#9c179e"
                          ],
                          [
                            0.4444444444444444,
                            "#bd3786"
                          ],
                          [
                            0.5555555555555556,
                            "#d8576b"
                          ],
                          [
                            0.6666666666666666,
                            "#ed7953"
                          ],
                          [
                            0.7777777777777778,
                            "#fb9f3a"
                          ],
                          [
                            0.8888888888888888,
                            "#fdca26"
                          ],
                          [
                            1,
                            "#f0f921"
                          ]
                        ],
                        "type": "histogram2dcontour"
                      }
                    ],
                    "mesh3d": [
                      {
                        "colorbar": {
                          "outlinewidth": 0,
                          "ticks": ""
                        },
                        "type": "mesh3d"
                      }
                    ],
                    "parcoords": [
                      {
                        "line": {
                          "colorbar": {
                            "outlinewidth": 0,
                            "ticks": ""
                          }
                        },
                        "type": "parcoords"
                      }
                    ],
                    "pie": [
                      {
                        "automargin": true,
                        "type": "pie"
                      }
                    ],
                    "scatter": [
                      {
                        "fillpattern": {
                          "fillmode": "overlay",
                          "size": 10,
                          "solidity": 0.2
                        },
                        "type": "scatter"
                      }
                    ],
                    "scatter3d": [
                      {
                        "line": {
                          "colorbar": {
                            "outlinewidth": 0,
                            "ticks": ""
                          }
                        },
                        "marker": {
                          "colorbar": {
                            "outlinewidth": 0,
                            "ticks": ""
                          }
                        },
                        "type": "scatter3d"
                      }
                    ],
                    "scattercarpet": [
                      {
                        "marker": {
                          "colorbar": {
                            "outlinewidth": 0,
                            "ticks": ""
                          }
                        },
                        "type": "scattercarpet"
                      }
                    ],
                    "scattergeo": [
                      {
                        "marker": {
                          "colorbar": {
                            "outlinewidth": 0,
                            "ticks": ""
                          }
                        },
                        "type": "scattergeo"
                      }
                    ],
                    "scattergl": [
                      {
                        "marker": {
                          "colorbar": {
                            "outlinewidth": 0,
                            "ticks": ""
                          }
                        },
                        "type": "scattergl"
                      }
                    ],
                    "scattermapbox": [
                      {
                        "marker": {
                          "colorbar": {
                            "outlinewidth": 0,
                            "ticks": ""
                          }
                        },
                        "type": "scattermapbox"
                      }
                    ],
                    "scatterpolar": [
                      {
                        "marker": {
                          "colorbar": {
                            "outlinewidth": 0,
                            "ticks": ""
                          }
                        },
                        "type": "scatterpolar"
                      }
                    ],
                    "scatterpolargl": [
                      {
                        "marker": {
                          "colorbar": {
                            "outlinewidth": 0,
                            "ticks": ""
                          }
                        },
                        "type": "scatterpolargl"
                      }
                    ],
                    "scatterternary": [
                      {
                        "marker": {
                          "colorbar": {
                            "outlinewidth": 0,
                            "ticks": ""
                          }
                        },
                        "type": "scatterternary"
                      }
                    ],
                    "surface": [
                      {
                        "colorbar": {
                          "outlinewidth": 0,
                          "ticks": ""
                        },
                        "colorscale": [
                          [
                            0,
                            "#0d0887"
                          ],
                          [
                            0.1111111111111111,
                            "#46039f"
                          ],
                          [
                            0.2222222222222222,
                            "#7201a8"
                          ],
                          [
                            0.3333333333333333,
                            "#9c179e"
                          ],
                          [
                            0.4444444444444444,
                            "#bd3786"
                          ],
                          [
                            0.5555555555555556,
                            "#d8576b"
                          ],
                          [
                            0.6666666666666666,
                            "#ed7953"
                          ],
                          [
                            0.7777777777777778,
                            "#fb9f3a"
                          ],
                          [
                            0.8888888888888888,
                            "#fdca26"
                          ],
                          [
                            1,
                            "#f0f921"
                          ]
                        ],
                        "type": "surface"
                      }
                    ],
                    "table": [
                      {
                        "cells": {
                          "fill": {
                            "color": "#EBF0F8"
                          },
                          "line": {
                            "color": "white"
                          }
                        },
                        "header": {
                          "fill": {
                            "color": "#C8D4E3"
                          },
                          "line": {
                            "color": "white"
                          }
                        },
                        "type": "table"
                      }
                    ]
                  },
                  "layout": {
                    "annotationdefaults": {
                      "arrowcolor": "#2a3f5f",
                      "arrowhead": 0,
                      "arrowwidth": 1
                    },
                    "autotypenumbers": "strict",
                    "coloraxis": {
                      "colorbar": {
                        "outlinewidth": 0,
                        "ticks": ""
                      }
                    },
                    "colorscale": {
                      "diverging": [
                        [
                          0,
                          "#8e0152"
                        ],
                        [
                          0.1,
                          "#c51b7d"
                        ],
                        [
                          0.2,
                          "#de77ae"
                        ],
                        [
                          0.3,
                          "#f1b6da"
                        ],
                        [
                          0.4,
                          "#fde0ef"
                        ],
                        [
                          0.5,
                          "#f7f7f7"
                        ],
                        [
                          0.6,
                          "#e6f5d0"
                        ],
                        [
                          0.7,
                          "#b8e186"
                        ],
                        [
                          0.8,
                          "#7fbc41"
                        ],
                        [
                          0.9,
                          "#4d9221"
                        ],
                        [
                          1,
                          "#276419"
                        ]
                      ],
                      "sequential": [
                        [
                          0,
                          "#0d0887"
                        ],
                        [
                          0.1111111111111111,
                          "#46039f"
                        ],
                        [
                          0.2222222222222222,
                          "#7201a8"
                        ],
                        [
                          0.3333333333333333,
                          "#9c179e"
                        ],
                        [
                          0.4444444444444444,
                          "#bd3786"
                        ],
                        [
                          0.5555555555555556,
                          "#d8576b"
                        ],
                        [
                          0.6666666666666666,
                          "#ed7953"
                        ],
                        [
                          0.7777777777777778,
                          "#fb9f3a"
                        ],
                        [
                          0.8888888888888888,
                          "#fdca26"
                        ],
                        [
                          1,
                          "#f0f921"
                        ]
                      ],
                      "sequentialminus": [
                        [
                          0,
                          "#0d0887"
                        ],
                        [
                          0.1111111111111111,
                          "#46039f"
                        ],
                        [
                          0.2222222222222222,
                          "#7201a8"
                        ],
                        [
                          0.3333333333333333,
                          "#9c179e"
                        ],
                        [
                          0.4444444444444444,
                          "#bd3786"
                        ],
                        [
                          0.5555555555555556,
                          "#d8576b"
                        ],
                        [
                          0.6666666666666666,
                          "#ed7953"
                        ],
                        [
                          0.7777777777777778,
                          "#fb9f3a"
                        ],
                        [
                          0.8888888888888888,
                          "#fdca26"
                        ],
                        [
                          1,
                          "#f0f921"
                        ]
                      ]
                    },
                    "colorway": [
                      "#636efa",
                      "#EF553B",
                      "#00cc96",
                      "#ab63fa",
                      "#FFA15A",
                      "#19d3f3",
                      "#FF6692",
                      "#B6E880",
                      "#FF97FF",
                      "#FECB52"
                    ],
                    "font": {
                      "color": "#2a3f5f"
                    },
                    "geo": {
                      "bgcolor": "white",
                      "lakecolor": "white",
                      "landcolor": "#E5ECF6",
                      "showlakes": true,
                      "showland": true,
                      "subunitcolor": "white"
                    },
                    "hoverlabel": {
                      "align": "left"
                    },
                    "hovermode": "closest",
                    "mapbox": {
                      "style": "light"
                    },
                    "paper_bgcolor": "white",
                    "plot_bgcolor": "#E5ECF6",
                    "polar": {
                      "angularaxis": {
                        "gridcolor": "white",
                        "linecolor": "white",
                        "ticks": ""
                      },
                      "bgcolor": "#E5ECF6",
                      "radialaxis": {
                        "gridcolor": "white",
                        "linecolor": "white",
                        "ticks": ""
                      }
                    },
                    "scene": {
                      "xaxis": {
                        "backgroundcolor": "#E5ECF6",
                        "gridcolor": "white",
                        "gridwidth": 2,
                        "linecolor": "white",
                        "showbackground": true,
                        "ticks": "",
                        "zerolinecolor": "white"
                      },
                      "yaxis": {
                        "backgroundcolor": "#E5ECF6",
                        "gridcolor": "white",
                        "gridwidth": 2,
                        "linecolor": "white",
                        "showbackground": true,
                        "ticks": "",
                        "zerolinecolor": "white"
                      },
                      "zaxis": {
                        "backgroundcolor": "#E5ECF6",
                        "gridcolor": "white",
                        "gridwidth": 2,
                        "linecolor": "white",
                        "showbackground": true,
                        "ticks": "",
                        "zerolinecolor": "white"
                      }
                    },
                    "shapedefaults": {
                      "line": {
                        "color": "#2a3f5f"
                      }
                    },
                    "ternary": {
                      "aaxis": {
                        "gridcolor": "white",
                        "linecolor": "white",
                        "ticks": ""
                      },
                      "baxis": {
                        "gridcolor": "white",
                        "linecolor": "white",
                        "ticks": ""
                      },
                      "bgcolor": "#E5ECF6",
                      "caxis": {
                        "gridcolor": "white",
                        "linecolor": "white",
                        "ticks": ""
                      }
                    },
                    "title": {
                      "x": 0.05
                    },
                    "xaxis": {
                      "automargin": true,
                      "gridcolor": "white",
                      "linecolor": "white",
                      "ticks": "",
                      "title": {
                        "standoff": 15
                      },
                      "zerolinecolor": "white",
                      "zerolinewidth": 2
                    },
                    "yaxis": {
                      "automargin": true,
                      "gridcolor": "white",
                      "linecolor": "white",
                      "ticks": "",
                      "title": {
                        "standoff": 15
                      },
                      "zerolinecolor": "white",
                      "zerolinewidth": 2
                    }
                  }
                }
              }
            }
          },
          "metadata": {},
          "output_type": "display_data"
        }
      ],
      "source": [
        "fig = px.treemap(rate_product, path=[px.Constant(\"Product Sold\"), 'product_category_name_english'], values='count')\n",
        "fig.update_traces(root_color=\"lightgrey\")\n",
        "fig.update_layout(margin = dict(t=50, l=25, r=25, b=25))\n",
        "fig.show()"
      ]
    },
    {
      "cell_type": "markdown",
      "metadata": {},
      "source": [
        "### Pertanyaan 6: bagaimana analisis RFMnya"
      ]
    },
    {
      "cell_type": "code",
      "execution_count": 308,
      "metadata": {},
      "outputs": [],
      "source": [
        "df = all_dataset.groupby(by='customer_id', as_index=False).agg({\n",
        "    'order_purchase_timestamp':'max',\n",
        "    'order_id':'count',\n",
        "    'total_price':'sum'\n",
        "})\n",
        "\n",
        "df.columns = [\"customer_id\", \"max_order_timestamp\", \"frequency\", \"monetary\"]\n",
        " # - df.max_order_timestamp.dt.date\n",
        "df[\"max_order_timestamp\"] = df.max_order_timestamp.dt.date\n",
        "rcnt_date = all_dataset.order_purchase_timestamp.dt.date.max()\n",
        "df[\"recency\"] = df[\"max_order_timestamp\"].apply(lambda x: (rcnt_date - x).days)\n",
        "\n",
        "df.drop(\"max_order_timestamp\", axis=1, inplace=True)"
      ]
    },
    {
      "cell_type": "code",
      "execution_count": 309,
      "metadata": {},
      "outputs": [
        {
          "data": {
            "text/html": [
              "<div>\n",
              "<style scoped>\n",
              "    .dataframe tbody tr th:only-of-type {\n",
              "        vertical-align: middle;\n",
              "    }\n",
              "\n",
              "    .dataframe tbody tr th {\n",
              "        vertical-align: top;\n",
              "    }\n",
              "\n",
              "    .dataframe thead th {\n",
              "        text-align: right;\n",
              "    }\n",
              "</style>\n",
              "<table border=\"1\" class=\"dataframe\">\n",
              "  <thead>\n",
              "    <tr style=\"text-align: right;\">\n",
              "      <th></th>\n",
              "      <th>customer_id</th>\n",
              "      <th>frequency</th>\n",
              "      <th>monetary</th>\n",
              "      <th>recency</th>\n",
              "    </tr>\n",
              "  </thead>\n",
              "  <tbody>\n",
              "    <tr>\n",
              "      <th>14799</th>\n",
              "      <td>270c23a11d024a44c896d1894b261a83</td>\n",
              "      <td>63</td>\n",
              "      <td>6097.77</td>\n",
              "      <td>391</td>\n",
              "    </tr>\n",
              "    <tr>\n",
              "      <th>7380</th>\n",
              "      <td>13aa59158da63ba0e93ec6ac2c07aacb</td>\n",
              "      <td>38</td>\n",
              "      <td>4559.43</td>\n",
              "      <td>345</td>\n",
              "    </tr>\n",
              "    <tr>\n",
              "      <th>58458</th>\n",
              "      <td>9af2372a1e49340278e7c1ef8d749f34</td>\n",
              "      <td>29</td>\n",
              "      <td>11383.95</td>\n",
              "      <td>501</td>\n",
              "    </tr>\n",
              "    <tr>\n",
              "      <th>55309</th>\n",
              "      <td>92cd3ec6e2d643d4ebd0e3d6238f69e2</td>\n",
              "      <td>26</td>\n",
              "      <td>1299.74</td>\n",
              "      <td>453</td>\n",
              "    </tr>\n",
              "    <tr>\n",
              "      <th>37510</th>\n",
              "      <td>63b964e79dee32a3587651701a2b8dbf</td>\n",
              "      <td>24</td>\n",
              "      <td>14832.00</td>\n",
              "      <td>201</td>\n",
              "    </tr>\n",
              "  </tbody>\n",
              "</table>\n",
              "</div>"
            ],
            "text/plain": [
              "                            customer_id  frequency  monetary  recency\n",
              "14799  270c23a11d024a44c896d1894b261a83         63   6097.77      391\n",
              "7380   13aa59158da63ba0e93ec6ac2c07aacb         38   4559.43      345\n",
              "58458  9af2372a1e49340278e7c1ef8d749f34         29  11383.95      501\n",
              "55309  92cd3ec6e2d643d4ebd0e3d6238f69e2         26   1299.74      453\n",
              "37510  63b964e79dee32a3587651701a2b8dbf         24  14832.00      201"
            ]
          },
          "execution_count": 309,
          "metadata": {},
          "output_type": "execute_result"
        }
      ],
      "source": [
        "df.sort_values(by='frequency', ascending=False).head()"
      ]
    },
    {
      "cell_type": "code",
      "execution_count": 310,
      "metadata": {},
      "outputs": [
        {
          "name": "stderr",
          "output_type": "stream",
          "text": [
            "C:\\Users\\Lenovo\\AppData\\Local\\Temp\\ipykernel_11996\\461157019.py:5: FutureWarning:\n",
            "\n",
            "\n",
            "\n",
            "Passing `palette` without assigning `hue` is deprecated and will be removed in v0.14.0. Assign the `x` variable to `hue` and set `legend=False` for the same effect.\n",
            "\n",
            "\n",
            "C:\\Users\\Lenovo\\AppData\\Local\\Temp\\ipykernel_11996\\461157019.py:11: FutureWarning:\n",
            "\n",
            "\n",
            "\n",
            "Passing `palette` without assigning `hue` is deprecated and will be removed in v0.14.0. Assign the `x` variable to `hue` and set `legend=False` for the same effect.\n",
            "\n",
            "\n",
            "C:\\Users\\Lenovo\\AppData\\Local\\Temp\\ipykernel_11996\\461157019.py:17: FutureWarning:\n",
            "\n",
            "\n",
            "\n",
            "Passing `palette` without assigning `hue` is deprecated and will be removed in v0.14.0. Assign the `x` variable to `hue` and set `legend=False` for the same effect.\n",
            "\n",
            "\n"
          ]
        },
        {
          "data": {
            "image/png": "[encoded data removed]",
            "text/plain": [
              "<Figure size 3000x600 with 3 Axes>"
            ]
          },
          "metadata": {},
          "output_type": "display_data"
        }
      ],
      "source": [
        "fig, ax = plt.subplots(nrows=1, ncols=3, figsize=(30, 6))\n",
        " \n",
        "colors = [\"#72BCD4\", \"#72BCD4\", \"#72BCD4\", \"#72BCD4\", \"#72BCD4\"]\n",
        " \n",
        "sns.barplot(y=\"recency\", x=\"customer_id\", data=df.sort_values(by=\"recency\", ascending=True).head(5), palette=colors, ax=ax[0])\n",
        "ax[0].set_ylabel(None)\n",
        "ax[0].set_xlabel(None)\n",
        "ax[0].set_title(\"By Recency (days)\", loc=\"center\", fontsize=18)\n",
        "ax[0].tick_params(axis ='x', labelsize=15)\n",
        " \n",
        "sns.barplot(y=\"frequency\", x=\"customer_id\", data=df.sort_values(by=\"frequency\", ascending=False).head(5), palette=colors, ax=ax[1])\n",
        "ax[1].set_ylabel(None)\n",
        "ax[1].set_xlabel(None)\n",
        "ax[1].set_title(\"By Frequency\", loc=\"center\", fontsize=18)\n",
        "ax[1].tick_params(axis='x', labelsize=15)\n",
        " \n",
        "sns.barplot(y=\"monetary\", x=\"customer_id\", data=df.sort_values(by=\"monetary\", ascending=False).head(5), palette=colors, ax=ax[2])\n",
        "ax[2].set_ylabel(None)\n",
        "ax[2].set_xlabel(None)\n",
        "ax[2].set_title(\"By Monetary\", loc=\"center\", fontsize=18)\n",
        "ax[2].tick_params(axis='x', labelsize=15)\n",
        " \n",
        "plt.suptitle(\"Best Customer Based on RFM Parameters (customer_id)\", fontsize=20)\n",
        "plt.show()"
      ]
    },
    {
      "cell_type": "markdown",
      "metadata": {},
      "source": [
        "### Pertanyaan 7: bagaimana geoanalisis antara order, customer dan seller"
      ]
    },
    {
      "cell_type": "code",
      "execution_count": null,
      "metadata": {},
      "outputs": [],
      "source": []
    },
    {
      "cell_type": "markdown",
      "metadata": {
        "id": "J2CnXYGT9Tc2"
      },
      "source": [
        "## Conclusion"
      ]
    },
    {
      "cell_type": "markdown",
      "metadata": {
        "id": "f73FBkLw9V8C"
      },
      "source": [
        "- Conclution pertanyaan 1\n",
        "- conclution pertanyaan 2"
      ]
    },
    {
      "cell_type": "code",
      "execution_count": null,
      "metadata": {
        "id": "b32P72p99VN9"
      },
      "outputs": [],
      "source": []
    }
  ],
  "metadata": {
    "colab": {
      "provenance": []
    },
    "kernelspec": {
      "display_name": "Python 3",
      "name": "python3"
    },
    "language_info": {
      "codemirror_mode": {
        "name": "ipython",
        "version": 3
      },
      "file_extension": ".py",
      "mimetype": "text/x-python",
      "name": "python",
      "nbconvert_exporter": "python",
      "pygments_lexer": "ipython3",
      "version": "3.10.0"
    }
  },
  "nbformat": 4,
  "nbformat_minor": 0
}
