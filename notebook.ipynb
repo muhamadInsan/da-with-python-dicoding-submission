{
  "cells": [
    {
      "cell_type": "markdown",
      "metadata": {
        "id": "cP5zh7Ww85Fm"
      },
      "source": [
        "# Data Analytic Project: E-commerce public dataset\n",
        "- Name: Muhamad Insan Rahmatuloh\n",
        "- Email: muhamad.insan.r@gmail.com\n",
        "- Id Dicoding:"
      ]
    },
    {
      "cell_type": "markdown",
      "metadata": {
        "id": "ggwOFmpI88dG"
      },
      "source": [
        "## Define Business Question"
      ]
    },
    {
      "cell_type": "markdown",
      "metadata": {
        "id": "6irqmTtg8-IC"
      },
      "source": [
        "- Dimana saja kota tempat tinggal customer dan kota mana yang paling banyak, dari wilayah tsb dimana order paling banyak\n",
        "- Produk apa saja yang paling banyak diorder\n",
        "- Kategori produk apa saja yang memiliki skor review yang baik\n",
        "- Bagaimana presentase status order\n",
        "- Kategori produk yang paling banyak terjual\n",
        "- Bagaimana analisis RFMnya"
      ]
    },
    {
      "cell_type": "markdown",
      "metadata": {
        "id": "EueHsNk89AsY"
      },
      "source": [
        "## Prepare for all libraries"
      ]
    },
    {
      "cell_type": "code",
      "execution_count": 1,
      "metadata": {
        "id": "4cmWv4qc8xWu"
      },
      "outputs": [],
      "source": [
        "import pandas as pd\n",
        "import geopandas as gpd\n",
        "import matplotlib.pyplot as plt\n",
        "import plotly.express as px\n",
        "import seaborn as sns\n",
        "import posixpath\n",
        "from pathlib import Path\n",
        "from scipy import stats"
      ]
    },
    {
      "cell_type": "markdown",
      "metadata": {
        "id": "7DwSpkkZ9BqV"
      },
      "source": [
        "## Data Wrangling"
      ]
    },
    {
      "cell_type": "markdown",
      "metadata": {
        "id": "ZuJuLGxe9D9O"
      },
      "source": [
        "### Gathering Data "
      ]
    },
    {
      "cell_type": "code",
      "execution_count": 2,
      "metadata": {
        "id": "Rg3wtvOr9DUm"
      },
      "outputs": [],
      "source": [
        "customers = pd.read_csv('dashboard/data/E-Commerce Public Dataset/customers_dataset.csv')\n",
        "geolocation = gpd.read_file('dashboard/data/E-Commerce Public Dataset/geolocation_dataset.csv')\n",
        "# geo_location = gpd.GeoDataFrame(geolocation, geometry=gpd.points_from_xy(geolocation['geolocation_lng'], geolocation['geolocation_lat']))\n",
        "# geo_location.crs = {'init':'epsg:4326'}\n",
        "order_items = pd.read_csv('dashboard/data/E-Commerce Public Dataset/order_items_dataset.csv')\n",
        "order_payments = pd.read_csv('dashboard/data/E-Commerce Public Dataset/order_payments_dataset.csv')\n",
        "order_reviews = pd.read_csv('dashboard/data/E-Commerce Public Dataset/order_reviews_dataset.csv')\n",
        "orders = pd.read_csv('dashboard/data/E-Commerce Public Dataset/orders_dataset.csv')\n",
        "product_cat_name = pd.read_csv('dashboard/data/E-Commerce Public Dataset/product_category_name_translation.csv')\n",
        "products = pd.read_csv('dashboard/data/E-Commerce Public Dataset/products_dataset.csv')\n",
        "sellers = pd.read_csv('dashboard/data/E-Commerce Public Dataset/sellers_dataset.csv')\n"
      ]
    },
    {
      "cell_type": "markdown",
      "metadata": {
        "id": "BvZAfrSH9F2U"
      },
      "source": [
        "### Assessing Data"
      ]
    },
    {
      "cell_type": "markdown",
      "metadata": {},
      "source": [
        "#### Customers"
      ]
    },
    {
      "cell_type": "code",
      "execution_count": 3,
      "metadata": {
        "id": "fx7PaLsV9G8M"
      },
      "outputs": [
        {
          "data": {
            "text/html": [
              "<div>\n",
              "<style scoped>\n",
              "    .dataframe tbody tr th:only-of-type {\n",
              "        vertical-align: middle;\n",
              "    }\n",
              "\n",
              "    .dataframe tbody tr th {\n",
              "        vertical-align: top;\n",
              "    }\n",
              "\n",
              "    .dataframe thead th {\n",
              "        text-align: right;\n",
              "    }\n",
              "</style>\n",
              "<table border=\"1\" class=\"dataframe\">\n",
              "  <thead>\n",
              "    <tr style=\"text-align: right;\">\n",
              "      <th></th>\n",
              "      <th>customer_id</th>\n",
              "      <th>customer_unique_id</th>\n",
              "      <th>customer_zip_code_prefix</th>\n",
              "      <th>customer_city</th>\n",
              "      <th>customer_state</th>\n",
              "    </tr>\n",
              "  </thead>\n",
              "  <tbody>\n",
              "    <tr>\n",
              "      <th>55421</th>\n",
              "      <td>6a9f8b26d13f6070c2be70b834949be9</td>\n",
              "      <td>5468c19d0df121d47a5d3dc792f6cf52</td>\n",
              "      <td>72863</td>\n",
              "      <td>novo gama</td>\n",
              "      <td>GO</td>\n",
              "    </tr>\n",
              "    <tr>\n",
              "      <th>42502</th>\n",
              "      <td>fef48c390f25186c8dce2a4ea986c213</td>\n",
              "      <td>35c8836f7ec75aefc11b1c77640c8c29</td>\n",
              "      <td>40140</td>\n",
              "      <td>salvador</td>\n",
              "      <td>BA</td>\n",
              "    </tr>\n",
              "    <tr>\n",
              "      <th>15634</th>\n",
              "      <td>c353167c1b4445649a80d52e656eeebc</td>\n",
              "      <td>dc62754eeded8cdfc5462e992ac20f13</td>\n",
              "      <td>8674</td>\n",
              "      <td>suzano</td>\n",
              "      <td>SP</td>\n",
              "    </tr>\n",
              "    <tr>\n",
              "      <th>62979</th>\n",
              "      <td>2069a41636b7238c9ebb007af92e652f</td>\n",
              "      <td>ed788f0856b85ee36ed4a52a964f1988</td>\n",
              "      <td>4305</td>\n",
              "      <td>sao paulo</td>\n",
              "      <td>SP</td>\n",
              "    </tr>\n",
              "    <tr>\n",
              "      <th>40854</th>\n",
              "      <td>be683d7033a4881645d055afc913b083</td>\n",
              "      <td>df0b86ca2d7e2c663bf8ecfb460d211a</td>\n",
              "      <td>12960</td>\n",
              "      <td>nazare paulista</td>\n",
              "      <td>SP</td>\n",
              "    </tr>\n",
              "    <tr>\n",
              "      <th>79439</th>\n",
              "      <td>51659c9420d923bc476f86828be8d7b5</td>\n",
              "      <td>9222caaba88ea29eb30172b47f3c554c</td>\n",
              "      <td>27260</td>\n",
              "      <td>volta redonda</td>\n",
              "      <td>RJ</td>\n",
              "    </tr>\n",
              "    <tr>\n",
              "      <th>51790</th>\n",
              "      <td>56041b9a34fcdf3368352cbb4fa67432</td>\n",
              "      <td>a5c62e7e896b7e6ed95d39714f51304a</td>\n",
              "      <td>11667</td>\n",
              "      <td>caraguatatuba</td>\n",
              "      <td>SP</td>\n",
              "    </tr>\n",
              "    <tr>\n",
              "      <th>40825</th>\n",
              "      <td>2d9e44d15887f511fd4e650144a25dc7</td>\n",
              "      <td>90bc6e6e28acc7d33938b97c961903a6</td>\n",
              "      <td>9941</td>\n",
              "      <td>diadema</td>\n",
              "      <td>SP</td>\n",
              "    </tr>\n",
              "    <tr>\n",
              "      <th>48597</th>\n",
              "      <td>f8b67d327058afa39382991d7173b1d7</td>\n",
              "      <td>7a3463eea32843cf42a1cbc026b117e5</td>\n",
              "      <td>33840</td>\n",
              "      <td>ribeirao das neves</td>\n",
              "      <td>MG</td>\n",
              "    </tr>\n",
              "    <tr>\n",
              "      <th>10771</th>\n",
              "      <td>90c74d2a364948608eb6b45bf576940d</td>\n",
              "      <td>81727e86a8b8a9d9dcc84e67cd824a5f</td>\n",
              "      <td>23585</td>\n",
              "      <td>rio de janeiro</td>\n",
              "      <td>RJ</td>\n",
              "    </tr>\n",
              "  </tbody>\n",
              "</table>\n",
              "</div>"
            ],
            "text/plain": [
              "                            customer_id                customer_unique_id  \\\n",
              "55421  6a9f8b26d13f6070c2be70b834949be9  5468c19d0df121d47a5d3dc792f6cf52   \n",
              "42502  fef48c390f25186c8dce2a4ea986c213  35c8836f7ec75aefc11b1c77640c8c29   \n",
              "15634  c353167c1b4445649a80d52e656eeebc  dc62754eeded8cdfc5462e992ac20f13   \n",
              "62979  2069a41636b7238c9ebb007af92e652f  ed788f0856b85ee36ed4a52a964f1988   \n",
              "40854  be683d7033a4881645d055afc913b083  df0b86ca2d7e2c663bf8ecfb460d211a   \n",
              "79439  51659c9420d923bc476f86828be8d7b5  9222caaba88ea29eb30172b47f3c554c   \n",
              "51790  56041b9a34fcdf3368352cbb4fa67432  a5c62e7e896b7e6ed95d39714f51304a   \n",
              "40825  2d9e44d15887f511fd4e650144a25dc7  90bc6e6e28acc7d33938b97c961903a6   \n",
              "48597  f8b67d327058afa39382991d7173b1d7  7a3463eea32843cf42a1cbc026b117e5   \n",
              "10771  90c74d2a364948608eb6b45bf576940d  81727e86a8b8a9d9dcc84e67cd824a5f   \n",
              "\n",
              "       customer_zip_code_prefix       customer_city customer_state  \n",
              "55421                     72863           novo gama             GO  \n",
              "42502                     40140            salvador             BA  \n",
              "15634                      8674              suzano             SP  \n",
              "62979                      4305           sao paulo             SP  \n",
              "40854                     12960     nazare paulista             SP  \n",
              "79439                     27260       volta redonda             RJ  \n",
              "51790                     11667       caraguatatuba             SP  \n",
              "40825                      9941             diadema             SP  \n",
              "48597                     33840  ribeirao das neves             MG  \n",
              "10771                     23585      rio de janeiro             RJ  "
            ]
          },
          "execution_count": 3,
          "metadata": {},
          "output_type": "execute_result"
        }
      ],
      "source": [
        "customers.sample(10)"
      ]
    },
    {
      "cell_type": "code",
      "execution_count": 4,
      "metadata": {},
      "outputs": [
        {
          "data": {
            "text/plain": [
              "(99441, 5)"
            ]
          },
          "execution_count": 4,
          "metadata": {},
          "output_type": "execute_result"
        }
      ],
      "source": [
        "customers.shape"
      ]
    },
    {
      "cell_type": "code",
      "execution_count": 5,
      "metadata": {},
      "outputs": [
        {
          "name": "stdout",
          "output_type": "stream",
          "text": [
            "<class 'pandas.core.frame.DataFrame'>\n",
            "RangeIndex: 99441 entries, 0 to 99440\n",
            "Data columns (total 5 columns):\n",
            " #   Column                    Non-Null Count  Dtype \n",
            "---  ------                    --------------  ----- \n",
            " 0   customer_id               99441 non-null  object\n",
            " 1   customer_unique_id        99441 non-null  object\n",
            " 2   customer_zip_code_prefix  99441 non-null  int64 \n",
            " 3   customer_city             99441 non-null  object\n",
            " 4   customer_state            99441 non-null  object\n",
            "dtypes: int64(1), object(4)\n",
            "memory usage: 3.8+ MB\n"
          ]
        }
      ],
      "source": [
        "customers.info()"
      ]
    },
    {
      "cell_type": "markdown",
      "metadata": {},
      "source": [
        "#### Geolocation"
      ]
    },
    {
      "cell_type": "code",
      "execution_count": 6,
      "metadata": {},
      "outputs": [
        {
          "data": {
            "text/html": [
              "<div>\n",
              "<style scoped>\n",
              "    .dataframe tbody tr th:only-of-type {\n",
              "        vertical-align: middle;\n",
              "    }\n",
              "\n",
              "    .dataframe tbody tr th {\n",
              "        vertical-align: top;\n",
              "    }\n",
              "\n",
              "    .dataframe thead th {\n",
              "        text-align: right;\n",
              "    }\n",
              "</style>\n",
              "<table border=\"1\" class=\"dataframe\">\n",
              "  <thead>\n",
              "    <tr style=\"text-align: right;\">\n",
              "      <th></th>\n",
              "      <th>geolocation_zip_code_prefix</th>\n",
              "      <th>geolocation_lat</th>\n",
              "      <th>geolocation_lng</th>\n",
              "      <th>geolocation_city</th>\n",
              "      <th>geolocation_state</th>\n",
              "      <th>geometry</th>\n",
              "    </tr>\n",
              "  </thead>\n",
              "  <tbody>\n",
              "    <tr>\n",
              "      <th>409780</th>\n",
              "      <td>20260</td>\n",
              "      <td>-22.91594935172878</td>\n",
              "      <td>-43.21235613840123</td>\n",
              "      <td>rio de janeiro</td>\n",
              "      <td>RJ</td>\n",
              "      <td>None</td>\n",
              "    </tr>\n",
              "    <tr>\n",
              "      <th>245029</th>\n",
              "      <td>09940</td>\n",
              "      <td>-23.66912980821169</td>\n",
              "      <td>-46.604050872756574</td>\n",
              "      <td>diadema</td>\n",
              "      <td>SP</td>\n",
              "      <td>None</td>\n",
              "    </tr>\n",
              "    <tr>\n",
              "      <th>897552</th>\n",
              "      <td>87400</td>\n",
              "      <td>-23.792416911832934</td>\n",
              "      <td>-53.058119586588255</td>\n",
              "      <td>cruzeiro do oeste</td>\n",
              "      <td>PR</td>\n",
              "      <td>None</td>\n",
              "    </tr>\n",
              "    <tr>\n",
              "      <th>250962</th>\n",
              "      <td>11250</td>\n",
              "      <td>-23.835895738312143</td>\n",
              "      <td>-46.123480421880366</td>\n",
              "      <td>bertioga</td>\n",
              "      <td>SP</td>\n",
              "      <td>None</td>\n",
              "    </tr>\n",
              "    <tr>\n",
              "      <th>812594</th>\n",
              "      <td>76700</td>\n",
              "      <td>-14.750848114808623</td>\n",
              "      <td>-50.5730980579047</td>\n",
              "      <td>mozarlandia</td>\n",
              "      <td>GO</td>\n",
              "      <td>None</td>\n",
              "    </tr>\n",
              "  </tbody>\n",
              "</table>\n",
              "</div>"
            ],
            "text/plain": [
              "       geolocation_zip_code_prefix      geolocation_lat      geolocation_lng  \\\n",
              "409780                       20260   -22.91594935172878   -43.21235613840123   \n",
              "245029                       09940   -23.66912980821169  -46.604050872756574   \n",
              "897552                       87400  -23.792416911832934  -53.058119586588255   \n",
              "250962                       11250  -23.835895738312143  -46.123480421880366   \n",
              "812594                       76700  -14.750848114808623    -50.5730980579047   \n",
              "\n",
              "         geolocation_city geolocation_state geometry  \n",
              "409780     rio de janeiro                RJ     None  \n",
              "245029            diadema                SP     None  \n",
              "897552  cruzeiro do oeste                PR     None  \n",
              "250962           bertioga                SP     None  \n",
              "812594        mozarlandia                GO     None  "
            ]
          },
          "execution_count": 6,
          "metadata": {},
          "output_type": "execute_result"
        }
      ],
      "source": [
        "geolocation.sample(5)"
      ]
    },
    {
      "cell_type": "code",
      "execution_count": 7,
      "metadata": {},
      "outputs": [
        {
          "data": {
            "text/plain": [
              "(1000163, 6)"
            ]
          },
          "execution_count": 7,
          "metadata": {},
          "output_type": "execute_result"
        }
      ],
      "source": [
        "geolocation.shape"
      ]
    },
    {
      "cell_type": "code",
      "execution_count": 72,
      "metadata": {},
      "outputs": [
        {
          "name": "stdout",
          "output_type": "stream",
          "text": [
            "<class 'geopandas.geodataframe.GeoDataFrame'>\n",
            "RangeIndex: 1000163 entries, 0 to 1000162\n",
            "Data columns (total 6 columns):\n",
            " #   Column                       Non-Null Count    Dtype   \n",
            "---  ------                       --------------    -----   \n",
            " 0   geolocation_zip_code_prefix  1000163 non-null  object  \n",
            " 1   geolocation_lat              1000163 non-null  object  \n",
            " 2   geolocation_lng              1000163 non-null  object  \n",
            " 3   geolocation_city             1000163 non-null  object  \n",
            " 4   geolocation_state            1000163 non-null  object  \n",
            " 5   geometry                     0 non-null        geometry\n",
            "dtypes: geometry(1), object(5)\n",
            "memory usage: 45.8+ MB\n"
          ]
        }
      ],
      "source": [
        "geolocation.info()"
      ]
    },
    {
      "cell_type": "code",
      "execution_count": 82,
      "metadata": {},
      "outputs": [],
      "source": [
        "geolocation['geolocation_zip_code_prefix'] = pd.to_numeric(geolocation['geolocation_zip_code_prefix'])"
      ]
    },
    {
      "cell_type": "markdown",
      "metadata": {},
      "source": [
        "#### Order Items"
      ]
    },
    {
      "cell_type": "code",
      "execution_count": 10,
      "metadata": {},
      "outputs": [
        {
          "data": {
            "text/html": [
              "<div>\n",
              "<style scoped>\n",
              "    .dataframe tbody tr th:only-of-type {\n",
              "        vertical-align: middle;\n",
              "    }\n",
              "\n",
              "    .dataframe tbody tr th {\n",
              "        vertical-align: top;\n",
              "    }\n",
              "\n",
              "    .dataframe thead th {\n",
              "        text-align: right;\n",
              "    }\n",
              "</style>\n",
              "<table border=\"1\" class=\"dataframe\">\n",
              "  <thead>\n",
              "    <tr style=\"text-align: right;\">\n",
              "      <th></th>\n",
              "      <th>order_id</th>\n",
              "      <th>order_item_id</th>\n",
              "      <th>product_id</th>\n",
              "      <th>seller_id</th>\n",
              "      <th>shipping_limit_date</th>\n",
              "      <th>price</th>\n",
              "      <th>freight_value</th>\n",
              "    </tr>\n",
              "  </thead>\n",
              "  <tbody>\n",
              "    <tr>\n",
              "      <th>106949</th>\n",
              "      <td>f30d59d024a381d49e85a1ecfe0d79c0</td>\n",
              "      <td>1</td>\n",
              "      <td>2bd9b51a9ab079e095aca987845d3266</td>\n",
              "      <td>81f89e42267213cb94da7ddc301651da</td>\n",
              "      <td>2018-08-21 04:15:28</td>\n",
              "      <td>75.0</td>\n",
              "      <td>18.63</td>\n",
              "    </tr>\n",
              "    <tr>\n",
              "      <th>28053</th>\n",
              "      <td>3fe3d1ba41519dd81c6d6ebde0c8801b</td>\n",
              "      <td>1</td>\n",
              "      <td>a961143b53bf771400f1bc6bdf396e8d</td>\n",
              "      <td>5011f0d93373a4c5753adf58ca77af8d</td>\n",
              "      <td>2017-08-24 03:24:14</td>\n",
              "      <td>19.9</td>\n",
              "      <td>15.10</td>\n",
              "    </tr>\n",
              "    <tr>\n",
              "      <th>68858</th>\n",
              "      <td>9d4837e9f15d4e57e4783e22786cb407</td>\n",
              "      <td>5</td>\n",
              "      <td>36f60d45225e60c7da4558b070ce4b60</td>\n",
              "      <td>f457c46070d02cadd8a68551231220dd</td>\n",
              "      <td>2018-02-12 18:54:55</td>\n",
              "      <td>89.9</td>\n",
              "      <td>10.16</td>\n",
              "    </tr>\n",
              "    <tr>\n",
              "      <th>56550</th>\n",
              "      <td>80a0f4a6ed94bfc597b4997d2afcd70e</td>\n",
              "      <td>2</td>\n",
              "      <td>268dea74d2aec39c04aecdf03081ac60</td>\n",
              "      <td>b5f49fe968dff6b112861e6cd8e192ef</td>\n",
              "      <td>2018-01-25 09:07:54</td>\n",
              "      <td>64.9</td>\n",
              "      <td>14.32</td>\n",
              "    </tr>\n",
              "    <tr>\n",
              "      <th>27369</th>\n",
              "      <td>3e43e4dedffaf5c15e579786d0b5317f</td>\n",
              "      <td>1</td>\n",
              "      <td>970694629024df557d9b71b3088a488d</td>\n",
              "      <td>e504a4e2efaa45cbff7e268a2c58c956</td>\n",
              "      <td>2018-08-07 04:15:24</td>\n",
              "      <td>99.9</td>\n",
              "      <td>34.46</td>\n",
              "    </tr>\n",
              "  </tbody>\n",
              "</table>\n",
              "</div>"
            ],
            "text/plain": [
              "                                order_id  order_item_id  \\\n",
              "106949  f30d59d024a381d49e85a1ecfe0d79c0              1   \n",
              "28053   3fe3d1ba41519dd81c6d6ebde0c8801b              1   \n",
              "68858   9d4837e9f15d4e57e4783e22786cb407              5   \n",
              "56550   80a0f4a6ed94bfc597b4997d2afcd70e              2   \n",
              "27369   3e43e4dedffaf5c15e579786d0b5317f              1   \n",
              "\n",
              "                              product_id                         seller_id  \\\n",
              "106949  2bd9b51a9ab079e095aca987845d3266  81f89e42267213cb94da7ddc301651da   \n",
              "28053   a961143b53bf771400f1bc6bdf396e8d  5011f0d93373a4c5753adf58ca77af8d   \n",
              "68858   36f60d45225e60c7da4558b070ce4b60  f457c46070d02cadd8a68551231220dd   \n",
              "56550   268dea74d2aec39c04aecdf03081ac60  b5f49fe968dff6b112861e6cd8e192ef   \n",
              "27369   970694629024df557d9b71b3088a488d  e504a4e2efaa45cbff7e268a2c58c956   \n",
              "\n",
              "        shipping_limit_date  price  freight_value  \n",
              "106949  2018-08-21 04:15:28   75.0          18.63  \n",
              "28053   2017-08-24 03:24:14   19.9          15.10  \n",
              "68858   2018-02-12 18:54:55   89.9          10.16  \n",
              "56550   2018-01-25 09:07:54   64.9          14.32  \n",
              "27369   2018-08-07 04:15:24   99.9          34.46  "
            ]
          },
          "execution_count": 10,
          "metadata": {},
          "output_type": "execute_result"
        }
      ],
      "source": [
        "order_items.sample(5)"
      ]
    },
    {
      "cell_type": "code",
      "execution_count": 11,
      "metadata": {},
      "outputs": [
        {
          "data": {
            "text/plain": [
              "(112650, 7)"
            ]
          },
          "execution_count": 11,
          "metadata": {},
          "output_type": "execute_result"
        }
      ],
      "source": [
        "order_items.shape"
      ]
    },
    {
      "cell_type": "code",
      "execution_count": 12,
      "metadata": {},
      "outputs": [
        {
          "name": "stdout",
          "output_type": "stream",
          "text": [
            "<class 'pandas.core.frame.DataFrame'>\n",
            "RangeIndex: 112650 entries, 0 to 112649\n",
            "Data columns (total 7 columns):\n",
            " #   Column               Non-Null Count   Dtype  \n",
            "---  ------               --------------   -----  \n",
            " 0   order_id             112650 non-null  object \n",
            " 1   order_item_id        112650 non-null  int64  \n",
            " 2   product_id           112650 non-null  object \n",
            " 3   seller_id            112650 non-null  object \n",
            " 4   shipping_limit_date  112650 non-null  object \n",
            " 5   price                112650 non-null  float64\n",
            " 6   freight_value        112650 non-null  float64\n",
            "dtypes: float64(2), int64(1), object(4)\n",
            "memory usage: 6.0+ MB\n"
          ]
        }
      ],
      "source": [
        "order_items.info()"
      ]
    },
    {
      "cell_type": "code",
      "execution_count": 13,
      "metadata": {},
      "outputs": [
        {
          "data": {
            "text/html": [
              "<div>\n",
              "<style scoped>\n",
              "    .dataframe tbody tr th:only-of-type {\n",
              "        vertical-align: middle;\n",
              "    }\n",
              "\n",
              "    .dataframe tbody tr th {\n",
              "        vertical-align: top;\n",
              "    }\n",
              "\n",
              "    .dataframe thead th {\n",
              "        text-align: right;\n",
              "    }\n",
              "</style>\n",
              "<table border=\"1\" class=\"dataframe\">\n",
              "  <thead>\n",
              "    <tr style=\"text-align: right;\">\n",
              "      <th></th>\n",
              "      <th>order_item_id</th>\n",
              "      <th>price</th>\n",
              "      <th>freight_value</th>\n",
              "    </tr>\n",
              "  </thead>\n",
              "  <tbody>\n",
              "    <tr>\n",
              "      <th>count</th>\n",
              "      <td>112650.000000</td>\n",
              "      <td>112650.000000</td>\n",
              "      <td>112650.000000</td>\n",
              "    </tr>\n",
              "    <tr>\n",
              "      <th>mean</th>\n",
              "      <td>1.197834</td>\n",
              "      <td>120.653739</td>\n",
              "      <td>19.990320</td>\n",
              "    </tr>\n",
              "    <tr>\n",
              "      <th>std</th>\n",
              "      <td>0.705124</td>\n",
              "      <td>183.633928</td>\n",
              "      <td>15.806405</td>\n",
              "    </tr>\n",
              "    <tr>\n",
              "      <th>min</th>\n",
              "      <td>1.000000</td>\n",
              "      <td>0.850000</td>\n",
              "      <td>0.000000</td>\n",
              "    </tr>\n",
              "    <tr>\n",
              "      <th>25%</th>\n",
              "      <td>1.000000</td>\n",
              "      <td>39.900000</td>\n",
              "      <td>13.080000</td>\n",
              "    </tr>\n",
              "    <tr>\n",
              "      <th>50%</th>\n",
              "      <td>1.000000</td>\n",
              "      <td>74.990000</td>\n",
              "      <td>16.260000</td>\n",
              "    </tr>\n",
              "    <tr>\n",
              "      <th>75%</th>\n",
              "      <td>1.000000</td>\n",
              "      <td>134.900000</td>\n",
              "      <td>21.150000</td>\n",
              "    </tr>\n",
              "    <tr>\n",
              "      <th>max</th>\n",
              "      <td>21.000000</td>\n",
              "      <td>6735.000000</td>\n",
              "      <td>409.680000</td>\n",
              "    </tr>\n",
              "  </tbody>\n",
              "</table>\n",
              "</div>"
            ],
            "text/plain": [
              "       order_item_id          price  freight_value\n",
              "count  112650.000000  112650.000000  112650.000000\n",
              "mean        1.197834     120.653739      19.990320\n",
              "std         0.705124     183.633928      15.806405\n",
              "min         1.000000       0.850000       0.000000\n",
              "25%         1.000000      39.900000      13.080000\n",
              "50%         1.000000      74.990000      16.260000\n",
              "75%         1.000000     134.900000      21.150000\n",
              "max        21.000000    6735.000000     409.680000"
            ]
          },
          "execution_count": 13,
          "metadata": {},
          "output_type": "execute_result"
        }
      ],
      "source": [
        "order_items.describe()"
      ]
    },
    {
      "cell_type": "code",
      "execution_count": 14,
      "metadata": {},
      "outputs": [
        {
          "data": {
            "text/plain": [
              "<Axes: ylabel='Count'>"
            ]
          },
          "execution_count": 14,
          "metadata": {},
          "output_type": "execute_result"
        },
        {
          "data": {
            "image/png": "[encoded data removed]",
            "text/plain": [
              "<Figure size 640x480 with 1 Axes>"
            ]
          },
          "metadata": {},
          "output_type": "display_data"
        }
      ],
      "source": [
        "normal_price = stats.boxcox(order_items.price)\n",
        "sns.histplot(normal_price[0],  kde=True)"
      ]
    },
    {
      "cell_type": "markdown",
      "metadata": {},
      "source": [
        "#### Order Payments"
      ]
    },
    {
      "cell_type": "code",
      "execution_count": 15,
      "metadata": {},
      "outputs": [
        {
          "data": {
            "text/html": [
              "<div>\n",
              "<style scoped>\n",
              "    .dataframe tbody tr th:only-of-type {\n",
              "        vertical-align: middle;\n",
              "    }\n",
              "\n",
              "    .dataframe tbody tr th {\n",
              "        vertical-align: top;\n",
              "    }\n",
              "\n",
              "    .dataframe thead th {\n",
              "        text-align: right;\n",
              "    }\n",
              "</style>\n",
              "<table border=\"1\" class=\"dataframe\">\n",
              "  <thead>\n",
              "    <tr style=\"text-align: right;\">\n",
              "      <th></th>\n",
              "      <th>order_id</th>\n",
              "      <th>payment_sequential</th>\n",
              "      <th>payment_type</th>\n",
              "      <th>payment_installments</th>\n",
              "      <th>payment_value</th>\n",
              "    </tr>\n",
              "  </thead>\n",
              "  <tbody>\n",
              "    <tr>\n",
              "      <th>88270</th>\n",
              "      <td>59e4b15bc4ba90075398df42e550a289</td>\n",
              "      <td>1</td>\n",
              "      <td>credit_card</td>\n",
              "      <td>4</td>\n",
              "      <td>73.34</td>\n",
              "    </tr>\n",
              "    <tr>\n",
              "      <th>31294</th>\n",
              "      <td>c64bba38c488c2f4362e11cf93ebbed4</td>\n",
              "      <td>1</td>\n",
              "      <td>boleto</td>\n",
              "      <td>1</td>\n",
              "      <td>47.45</td>\n",
              "    </tr>\n",
              "    <tr>\n",
              "      <th>39680</th>\n",
              "      <td>0424ec4615df28c58201d0828ac20cdd</td>\n",
              "      <td>1</td>\n",
              "      <td>credit_card</td>\n",
              "      <td>6</td>\n",
              "      <td>168.29</td>\n",
              "    </tr>\n",
              "    <tr>\n",
              "      <th>58167</th>\n",
              "      <td>114b047e7bac7728e93bdf39f7031875</td>\n",
              "      <td>1</td>\n",
              "      <td>credit_card</td>\n",
              "      <td>2</td>\n",
              "      <td>123.18</td>\n",
              "    </tr>\n",
              "    <tr>\n",
              "      <th>76472</th>\n",
              "      <td>a08f93229ff75ba67fbdc36e6ad7c5c7</td>\n",
              "      <td>1</td>\n",
              "      <td>credit_card</td>\n",
              "      <td>2</td>\n",
              "      <td>260.73</td>\n",
              "    </tr>\n",
              "  </tbody>\n",
              "</table>\n",
              "</div>"
            ],
            "text/plain": [
              "                               order_id  payment_sequential payment_type  \\\n",
              "88270  59e4b15bc4ba90075398df42e550a289                   1  credit_card   \n",
              "31294  c64bba38c488c2f4362e11cf93ebbed4                   1       boleto   \n",
              "39680  0424ec4615df28c58201d0828ac20cdd                   1  credit_card   \n",
              "58167  114b047e7bac7728e93bdf39f7031875                   1  credit_card   \n",
              "76472  a08f93229ff75ba67fbdc36e6ad7c5c7                   1  credit_card   \n",
              "\n",
              "       payment_installments  payment_value  \n",
              "88270                     4          73.34  \n",
              "31294                     1          47.45  \n",
              "39680                     6         168.29  \n",
              "58167                     2         123.18  \n",
              "76472                     2         260.73  "
            ]
          },
          "execution_count": 15,
          "metadata": {},
          "output_type": "execute_result"
        }
      ],
      "source": [
        "order_payments.sample(5)"
      ]
    },
    {
      "cell_type": "code",
      "execution_count": 16,
      "metadata": {},
      "outputs": [
        {
          "data": {
            "text/plain": [
              "(103886, 5)"
            ]
          },
          "execution_count": 16,
          "metadata": {},
          "output_type": "execute_result"
        }
      ],
      "source": [
        "order_payments.shape"
      ]
    },
    {
      "cell_type": "code",
      "execution_count": 17,
      "metadata": {},
      "outputs": [
        {
          "name": "stdout",
          "output_type": "stream",
          "text": [
            "<class 'pandas.core.frame.DataFrame'>\n",
            "RangeIndex: 103886 entries, 0 to 103885\n",
            "Data columns (total 5 columns):\n",
            " #   Column                Non-Null Count   Dtype  \n",
            "---  ------                --------------   -----  \n",
            " 0   order_id              103886 non-null  object \n",
            " 1   payment_sequential    103886 non-null  int64  \n",
            " 2   payment_type          103886 non-null  object \n",
            " 3   payment_installments  103886 non-null  int64  \n",
            " 4   payment_value         103886 non-null  float64\n",
            "dtypes: float64(1), int64(2), object(2)\n",
            "memory usage: 4.0+ MB\n"
          ]
        }
      ],
      "source": [
        "order_payments.info()"
      ]
    },
    {
      "cell_type": "code",
      "execution_count": 18,
      "metadata": {},
      "outputs": [
        {
          "data": {
            "text/html": [
              "<div>\n",
              "<style scoped>\n",
              "    .dataframe tbody tr th:only-of-type {\n",
              "        vertical-align: middle;\n",
              "    }\n",
              "\n",
              "    .dataframe tbody tr th {\n",
              "        vertical-align: top;\n",
              "    }\n",
              "\n",
              "    .dataframe thead th {\n",
              "        text-align: right;\n",
              "    }\n",
              "</style>\n",
              "<table border=\"1\" class=\"dataframe\">\n",
              "  <thead>\n",
              "    <tr style=\"text-align: right;\">\n",
              "      <th></th>\n",
              "      <th>payment_sequential</th>\n",
              "      <th>payment_installments</th>\n",
              "      <th>payment_value</th>\n",
              "    </tr>\n",
              "  </thead>\n",
              "  <tbody>\n",
              "    <tr>\n",
              "      <th>count</th>\n",
              "      <td>103886.000000</td>\n",
              "      <td>103886.000000</td>\n",
              "      <td>103886.000000</td>\n",
              "    </tr>\n",
              "    <tr>\n",
              "      <th>mean</th>\n",
              "      <td>1.092679</td>\n",
              "      <td>2.853349</td>\n",
              "      <td>154.100380</td>\n",
              "    </tr>\n",
              "    <tr>\n",
              "      <th>std</th>\n",
              "      <td>0.706584</td>\n",
              "      <td>2.687051</td>\n",
              "      <td>217.494064</td>\n",
              "    </tr>\n",
              "    <tr>\n",
              "      <th>min</th>\n",
              "      <td>1.000000</td>\n",
              "      <td>0.000000</td>\n",
              "      <td>0.000000</td>\n",
              "    </tr>\n",
              "    <tr>\n",
              "      <th>25%</th>\n",
              "      <td>1.000000</td>\n",
              "      <td>1.000000</td>\n",
              "      <td>56.790000</td>\n",
              "    </tr>\n",
              "    <tr>\n",
              "      <th>50%</th>\n",
              "      <td>1.000000</td>\n",
              "      <td>1.000000</td>\n",
              "      <td>100.000000</td>\n",
              "    </tr>\n",
              "    <tr>\n",
              "      <th>75%</th>\n",
              "      <td>1.000000</td>\n",
              "      <td>4.000000</td>\n",
              "      <td>171.837500</td>\n",
              "    </tr>\n",
              "    <tr>\n",
              "      <th>max</th>\n",
              "      <td>29.000000</td>\n",
              "      <td>24.000000</td>\n",
              "      <td>13664.080000</td>\n",
              "    </tr>\n",
              "  </tbody>\n",
              "</table>\n",
              "</div>"
            ],
            "text/plain": [
              "       payment_sequential  payment_installments  payment_value\n",
              "count       103886.000000         103886.000000  103886.000000\n",
              "mean             1.092679              2.853349     154.100380\n",
              "std              0.706584              2.687051     217.494064\n",
              "min              1.000000              0.000000       0.000000\n",
              "25%              1.000000              1.000000      56.790000\n",
              "50%              1.000000              1.000000     100.000000\n",
              "75%              1.000000              4.000000     171.837500\n",
              "max             29.000000             24.000000   13664.080000"
            ]
          },
          "execution_count": 18,
          "metadata": {},
          "output_type": "execute_result"
        }
      ],
      "source": [
        "order_payments.describe()"
      ]
    },
    {
      "cell_type": "code",
      "execution_count": 61,
      "metadata": {},
      "outputs": [
        {
          "data": {
            "text/plain": [
              "payment_type\n",
              "credit_card    76795\n",
              "boleto         19784\n",
              "voucher         5775\n",
              "debit_card      1529\n",
              "not_defined        3\n",
              "Name: count, dtype: int64"
            ]
          },
          "execution_count": 61,
          "metadata": {},
          "output_type": "execute_result"
        }
      ],
      "source": [
        "order_payments.payment_type.value_counts()"
      ]
    },
    {
      "cell_type": "markdown",
      "metadata": {},
      "source": [
        "#### Orders Reviews"
      ]
    },
    {
      "cell_type": "code",
      "execution_count": 19,
      "metadata": {},
      "outputs": [
        {
          "data": {
            "text/html": [
              "<div>\n",
              "<style scoped>\n",
              "    .dataframe tbody tr th:only-of-type {\n",
              "        vertical-align: middle;\n",
              "    }\n",
              "\n",
              "    .dataframe tbody tr th {\n",
              "        vertical-align: top;\n",
              "    }\n",
              "\n",
              "    .dataframe thead th {\n",
              "        text-align: right;\n",
              "    }\n",
              "</style>\n",
              "<table border=\"1\" class=\"dataframe\">\n",
              "  <thead>\n",
              "    <tr style=\"text-align: right;\">\n",
              "      <th></th>\n",
              "      <th>review_id</th>\n",
              "      <th>order_id</th>\n",
              "      <th>review_score</th>\n",
              "      <th>review_comment_title</th>\n",
              "      <th>review_comment_message</th>\n",
              "      <th>review_creation_date</th>\n",
              "      <th>review_answer_timestamp</th>\n",
              "    </tr>\n",
              "  </thead>\n",
              "  <tbody>\n",
              "    <tr>\n",
              "      <th>19063</th>\n",
              "      <td>5e8cf40b4400760c62e1a3e99683c0c9</td>\n",
              "      <td>013b811ba81339b7634ab5231c547e6a</td>\n",
              "      <td>4</td>\n",
              "      <td>NaN</td>\n",
              "      <td>Bom produto</td>\n",
              "      <td>2017-11-02 00:00:00</td>\n",
              "      <td>2017-11-03 18:27:12</td>\n",
              "    </tr>\n",
              "    <tr>\n",
              "      <th>53280</th>\n",
              "      <td>a3812bd8ec5b86324afbd38669d943d7</td>\n",
              "      <td>77baa217632fcbf3656de4ec4a66b0c4</td>\n",
              "      <td>4</td>\n",
              "      <td>NaN</td>\n",
              "      <td>NaN</td>\n",
              "      <td>2018-05-17 00:00:00</td>\n",
              "      <td>2018-05-21 14:39:01</td>\n",
              "    </tr>\n",
              "    <tr>\n",
              "      <th>13208</th>\n",
              "      <td>b31f410cd838ae35780775dbee0cdcee</td>\n",
              "      <td>b1cc2415253bed6a394cec36a9280797</td>\n",
              "      <td>3</td>\n",
              "      <td>NaN</td>\n",
              "      <td>NaN</td>\n",
              "      <td>2018-03-16 00:00:00</td>\n",
              "      <td>2018-03-16 11:39:51</td>\n",
              "    </tr>\n",
              "    <tr>\n",
              "      <th>83392</th>\n",
              "      <td>66938df90b37ab05894f54b9c75b9e4c</td>\n",
              "      <td>e2e223aa7d0f409950eb995e6c759475</td>\n",
              "      <td>5</td>\n",
              "      <td>NaN</td>\n",
              "      <td>NaN</td>\n",
              "      <td>2017-03-25 00:00:00</td>\n",
              "      <td>2017-03-25 21:27:46</td>\n",
              "    </tr>\n",
              "    <tr>\n",
              "      <th>6272</th>\n",
              "      <td>bb5a44bfe1d17fe278f7c14c375df98b</td>\n",
              "      <td>c2fd626797fb5ca566e69305eebca31a</td>\n",
              "      <td>1</td>\n",
              "      <td>NaN</td>\n",
              "      <td>Gostei de comprar nas lannister, envio rápido ...</td>\n",
              "      <td>2018-04-05 00:00:00</td>\n",
              "      <td>2018-04-11 14:26:20</td>\n",
              "    </tr>\n",
              "  </tbody>\n",
              "</table>\n",
              "</div>"
            ],
            "text/plain": [
              "                              review_id                          order_id  \\\n",
              "19063  5e8cf40b4400760c62e1a3e99683c0c9  013b811ba81339b7634ab5231c547e6a   \n",
              "53280  a3812bd8ec5b86324afbd38669d943d7  77baa217632fcbf3656de4ec4a66b0c4   \n",
              "13208  b31f410cd838ae35780775dbee0cdcee  b1cc2415253bed6a394cec36a9280797   \n",
              "83392  66938df90b37ab05894f54b9c75b9e4c  e2e223aa7d0f409950eb995e6c759475   \n",
              "6272   bb5a44bfe1d17fe278f7c14c375df98b  c2fd626797fb5ca566e69305eebca31a   \n",
              "\n",
              "       review_score review_comment_title  \\\n",
              "19063             4                  NaN   \n",
              "53280             4                  NaN   \n",
              "13208             3                  NaN   \n",
              "83392             5                  NaN   \n",
              "6272              1                  NaN   \n",
              "\n",
              "                                  review_comment_message review_creation_date  \\\n",
              "19063                                       Bom produto   2017-11-02 00:00:00   \n",
              "53280                                                NaN  2018-05-17 00:00:00   \n",
              "13208                                                NaN  2018-03-16 00:00:00   \n",
              "83392                                                NaN  2017-03-25 00:00:00   \n",
              "6272   Gostei de comprar nas lannister, envio rápido ...  2018-04-05 00:00:00   \n",
              "\n",
              "      review_answer_timestamp  \n",
              "19063     2017-11-03 18:27:12  \n",
              "53280     2018-05-21 14:39:01  \n",
              "13208     2018-03-16 11:39:51  \n",
              "83392     2017-03-25 21:27:46  \n",
              "6272      2018-04-11 14:26:20  "
            ]
          },
          "execution_count": 19,
          "metadata": {},
          "output_type": "execute_result"
        }
      ],
      "source": [
        "order_reviews.sample(5)"
      ]
    },
    {
      "cell_type": "code",
      "execution_count": 20,
      "metadata": {},
      "outputs": [
        {
          "data": {
            "text/plain": [
              "(99224, 7)"
            ]
          },
          "execution_count": 20,
          "metadata": {},
          "output_type": "execute_result"
        }
      ],
      "source": [
        "order_reviews.shape"
      ]
    },
    {
      "cell_type": "code",
      "execution_count": 21,
      "metadata": {},
      "outputs": [
        {
          "name": "stdout",
          "output_type": "stream",
          "text": [
            "<class 'pandas.core.frame.DataFrame'>\n",
            "RangeIndex: 99224 entries, 0 to 99223\n",
            "Data columns (total 7 columns):\n",
            " #   Column                   Non-Null Count  Dtype \n",
            "---  ------                   --------------  ----- \n",
            " 0   review_id                99224 non-null  object\n",
            " 1   order_id                 99224 non-null  object\n",
            " 2   review_score             99224 non-null  int64 \n",
            " 3   review_comment_title     11568 non-null  object\n",
            " 4   review_comment_message   40977 non-null  object\n",
            " 5   review_creation_date     99224 non-null  object\n",
            " 6   review_answer_timestamp  99224 non-null  object\n",
            "dtypes: int64(1), object(6)\n",
            "memory usage: 5.3+ MB\n"
          ]
        }
      ],
      "source": [
        "order_reviews.info()"
      ]
    },
    {
      "cell_type": "code",
      "execution_count": 22,
      "metadata": {},
      "outputs": [
        {
          "data": {
            "text/html": [
              "<div>\n",
              "<style scoped>\n",
              "    .dataframe tbody tr th:only-of-type {\n",
              "        vertical-align: middle;\n",
              "    }\n",
              "\n",
              "    .dataframe tbody tr th {\n",
              "        vertical-align: top;\n",
              "    }\n",
              "\n",
              "    .dataframe thead th {\n",
              "        text-align: right;\n",
              "    }\n",
              "</style>\n",
              "<table border=\"1\" class=\"dataframe\">\n",
              "  <thead>\n",
              "    <tr style=\"text-align: right;\">\n",
              "      <th></th>\n",
              "      <th>review_score</th>\n",
              "    </tr>\n",
              "  </thead>\n",
              "  <tbody>\n",
              "    <tr>\n",
              "      <th>count</th>\n",
              "      <td>99224.000000</td>\n",
              "    </tr>\n",
              "    <tr>\n",
              "      <th>mean</th>\n",
              "      <td>4.086421</td>\n",
              "    </tr>\n",
              "    <tr>\n",
              "      <th>std</th>\n",
              "      <td>1.347579</td>\n",
              "    </tr>\n",
              "    <tr>\n",
              "      <th>min</th>\n",
              "      <td>1.000000</td>\n",
              "    </tr>\n",
              "    <tr>\n",
              "      <th>25%</th>\n",
              "      <td>4.000000</td>\n",
              "    </tr>\n",
              "    <tr>\n",
              "      <th>50%</th>\n",
              "      <td>5.000000</td>\n",
              "    </tr>\n",
              "    <tr>\n",
              "      <th>75%</th>\n",
              "      <td>5.000000</td>\n",
              "    </tr>\n",
              "    <tr>\n",
              "      <th>max</th>\n",
              "      <td>5.000000</td>\n",
              "    </tr>\n",
              "  </tbody>\n",
              "</table>\n",
              "</div>"
            ],
            "text/plain": [
              "       review_score\n",
              "count  99224.000000\n",
              "mean       4.086421\n",
              "std        1.347579\n",
              "min        1.000000\n",
              "25%        4.000000\n",
              "50%        5.000000\n",
              "75%        5.000000\n",
              "max        5.000000"
            ]
          },
          "execution_count": 22,
          "metadata": {},
          "output_type": "execute_result"
        }
      ],
      "source": [
        "order_reviews.describe()"
      ]
    },
    {
      "cell_type": "markdown",
      "metadata": {},
      "source": [
        "#### Orders"
      ]
    },
    {
      "cell_type": "code",
      "execution_count": 66,
      "metadata": {},
      "outputs": [
        {
          "data": {
            "text/html": [
              "<div>\n",
              "<style scoped>\n",
              "    .dataframe tbody tr th:only-of-type {\n",
              "        vertical-align: middle;\n",
              "    }\n",
              "\n",
              "    .dataframe tbody tr th {\n",
              "        vertical-align: top;\n",
              "    }\n",
              "\n",
              "    .dataframe thead th {\n",
              "        text-align: right;\n",
              "    }\n",
              "</style>\n",
              "<table border=\"1\" class=\"dataframe\">\n",
              "  <thead>\n",
              "    <tr style=\"text-align: right;\">\n",
              "      <th></th>\n",
              "      <th>order_status</th>\n",
              "      <th>order_purchase_timestamp</th>\n",
              "      <th>order_approved_at</th>\n",
              "      <th>order_delivered_carrier_date</th>\n",
              "      <th>order_delivered_customer_date</th>\n",
              "      <th>order_estimated_delivery_date</th>\n",
              "      <th>delivery_time</th>\n",
              "    </tr>\n",
              "  </thead>\n",
              "  <tbody>\n",
              "    <tr>\n",
              "      <th>92203</th>\n",
              "      <td>delivered</td>\n",
              "      <td>2018-02-15 17:38:41</td>\n",
              "      <td>2018-02-16 07:47:07</td>\n",
              "      <td>2018-02-21 03:10:08</td>\n",
              "      <td>2018-02-26 21:28:06</td>\n",
              "      <td>2018-03-14</td>\n",
              "      <td>10.0</td>\n",
              "    </tr>\n",
              "    <tr>\n",
              "      <th>56153</th>\n",
              "      <td>unavailable</td>\n",
              "      <td>2017-10-08 11:02:21</td>\n",
              "      <td>2017-10-09 22:35:26</td>\n",
              "      <td>NaT</td>\n",
              "      <td>NaT</td>\n",
              "      <td>2017-11-03</td>\n",
              "      <td>NaN</td>\n",
              "    </tr>\n",
              "    <tr>\n",
              "      <th>34970</th>\n",
              "      <td>delivered</td>\n",
              "      <td>2017-02-07 09:07:17</td>\n",
              "      <td>2017-02-07 09:23:11</td>\n",
              "      <td>2017-02-10 12:09:13</td>\n",
              "      <td>2017-02-14 13:49:03</td>\n",
              "      <td>2017-03-14</td>\n",
              "      <td>7.0</td>\n",
              "    </tr>\n",
              "    <tr>\n",
              "      <th>5658</th>\n",
              "      <td>delivered</td>\n",
              "      <td>2018-08-16 11:28:46</td>\n",
              "      <td>2018-08-16 11:43:50</td>\n",
              "      <td>2018-08-17 12:40:00</td>\n",
              "      <td>2018-08-24 09:41:35</td>\n",
              "      <td>2018-08-31</td>\n",
              "      <td>7.0</td>\n",
              "    </tr>\n",
              "    <tr>\n",
              "      <th>92700</th>\n",
              "      <td>delivered</td>\n",
              "      <td>2017-10-18 19:07:46</td>\n",
              "      <td>2017-10-18 19:28:38</td>\n",
              "      <td>2017-10-20 11:24:16</td>\n",
              "      <td>2017-10-25 17:35:58</td>\n",
              "      <td>2017-11-06</td>\n",
              "      <td>6.0</td>\n",
              "    </tr>\n",
              "  </tbody>\n",
              "</table>\n",
              "</div>"
            ],
            "text/plain": [
              "      order_status order_purchase_timestamp   order_approved_at  \\\n",
              "92203    delivered      2018-02-15 17:38:41 2018-02-16 07:47:07   \n",
              "56153  unavailable      2017-10-08 11:02:21 2017-10-09 22:35:26   \n",
              "34970    delivered      2017-02-07 09:07:17 2017-02-07 09:23:11   \n",
              "5658     delivered      2018-08-16 11:28:46 2018-08-16 11:43:50   \n",
              "92700    delivered      2017-10-18 19:07:46 2017-10-18 19:28:38   \n",
              "\n",
              "      order_delivered_carrier_date order_delivered_customer_date  \\\n",
              "92203          2018-02-21 03:10:08           2018-02-26 21:28:06   \n",
              "56153                          NaT                           NaT   \n",
              "34970          2017-02-10 12:09:13           2017-02-14 13:49:03   \n",
              "5658           2018-08-17 12:40:00           2018-08-24 09:41:35   \n",
              "92700          2017-10-20 11:24:16           2017-10-25 17:35:58   \n",
              "\n",
              "      order_estimated_delivery_date  delivery_time  \n",
              "92203                    2018-03-14           10.0  \n",
              "56153                    2017-11-03            NaN  \n",
              "34970                    2017-03-14            7.0  \n",
              "5658                     2018-08-31            7.0  \n",
              "92700                    2017-11-06            6.0  "
            ]
          },
          "execution_count": 66,
          "metadata": {},
          "output_type": "execute_result"
        }
      ],
      "source": [
        "orders.sample(5)"
      ]
    },
    {
      "cell_type": "code",
      "execution_count": 24,
      "metadata": {},
      "outputs": [
        {
          "data": {
            "text/plain": [
              "(99441, 8)"
            ]
          },
          "execution_count": 24,
          "metadata": {},
          "output_type": "execute_result"
        }
      ],
      "source": [
        "orders.shape"
      ]
    },
    {
      "cell_type": "code",
      "execution_count": 25,
      "metadata": {},
      "outputs": [
        {
          "name": "stdout",
          "output_type": "stream",
          "text": [
            "<class 'pandas.core.frame.DataFrame'>\n",
            "RangeIndex: 99441 entries, 0 to 99440\n",
            "Data columns (total 8 columns):\n",
            " #   Column                         Non-Null Count  Dtype \n",
            "---  ------                         --------------  ----- \n",
            " 0   order_id                       99441 non-null  object\n",
            " 1   customer_id                    99441 non-null  object\n",
            " 2   order_status                   99441 non-null  object\n",
            " 3   order_purchase_timestamp       99441 non-null  object\n",
            " 4   order_approved_at              99281 non-null  object\n",
            " 5   order_delivered_carrier_date   97658 non-null  object\n",
            " 6   order_delivered_customer_date  96476 non-null  object\n",
            " 7   order_estimated_delivery_date  99441 non-null  object\n",
            "dtypes: object(8)\n",
            "memory usage: 6.1+ MB\n"
          ]
        }
      ],
      "source": [
        "orders.info()"
      ]
    },
    {
      "cell_type": "code",
      "execution_count": 26,
      "metadata": {},
      "outputs": [
        {
          "name": "stdout",
          "output_type": "stream",
          "text": [
            "<class 'pandas.core.frame.DataFrame'>\n",
            "RangeIndex: 99441 entries, 0 to 99440\n",
            "Data columns (total 8 columns):\n",
            " #   Column                         Non-Null Count  Dtype         \n",
            "---  ------                         --------------  -----         \n",
            " 0   order_id                       99441 non-null  object        \n",
            " 1   customer_id                    99441 non-null  object        \n",
            " 2   order_status                   99441 non-null  object        \n",
            " 3   order_purchase_timestamp       99441 non-null  datetime64[ns]\n",
            " 4   order_approved_at              99281 non-null  datetime64[ns]\n",
            " 5   order_delivered_carrier_date   97658 non-null  datetime64[ns]\n",
            " 6   order_delivered_customer_date  96476 non-null  datetime64[ns]\n",
            " 7   order_estimated_delivery_date  99441 non-null  datetime64[ns]\n",
            "dtypes: datetime64[ns](5), object(3)\n",
            "memory usage: 6.1+ MB\n"
          ]
        }
      ],
      "source": [
        "cols = ['order_purchase_timestamp','order_delivered_carrier_date','order_approved_at','order_delivered_customer_date','order_estimated_delivery_date']\n",
        "\n",
        "for c in cols:\n",
        "    orders[c] = pd.to_datetime(orders[c])\n",
        "\n",
        "orders.info()"
      ]
    },
    {
      "cell_type": "code",
      "execution_count": 27,
      "metadata": {},
      "outputs": [
        {
          "data": {
            "text/plain": [
              "order_id                            0\n",
              "customer_id                         0\n",
              "order_status                        0\n",
              "order_purchase_timestamp            0\n",
              "order_approved_at                 160\n",
              "order_delivered_carrier_date     1783\n",
              "order_delivered_customer_date    2965\n",
              "order_estimated_delivery_date       0\n",
              "dtype: int64"
            ]
          },
          "execution_count": 27,
          "metadata": {},
          "output_type": "execute_result"
        }
      ],
      "source": [
        "orders.isnull().sum()"
      ]
    },
    {
      "cell_type": "markdown",
      "metadata": {},
      "source": [
        "#### Product Category Name Translation"
      ]
    },
    {
      "cell_type": "code",
      "execution_count": 28,
      "metadata": {},
      "outputs": [
        {
          "data": {
            "text/html": [
              "<div>\n",
              "<style scoped>\n",
              "    .dataframe tbody tr th:only-of-type {\n",
              "        vertical-align: middle;\n",
              "    }\n",
              "\n",
              "    .dataframe tbody tr th {\n",
              "        vertical-align: top;\n",
              "    }\n",
              "\n",
              "    .dataframe thead th {\n",
              "        text-align: right;\n",
              "    }\n",
              "</style>\n",
              "<table border=\"1\" class=\"dataframe\">\n",
              "  <thead>\n",
              "    <tr style=\"text-align: right;\">\n",
              "      <th></th>\n",
              "      <th>product_category_name</th>\n",
              "      <th>product_category_name_english</th>\n",
              "    </tr>\n",
              "  </thead>\n",
              "  <tbody>\n",
              "    <tr>\n",
              "      <th>48</th>\n",
              "      <td>livros_interesse_geral</td>\n",
              "      <td>books_general_interest</td>\n",
              "    </tr>\n",
              "    <tr>\n",
              "      <th>39</th>\n",
              "      <td>livros_tecnicos</td>\n",
              "      <td>books_technical</td>\n",
              "    </tr>\n",
              "    <tr>\n",
              "      <th>31</th>\n",
              "      <td>market_place</td>\n",
              "      <td>market_place</td>\n",
              "    </tr>\n",
              "    <tr>\n",
              "      <th>54</th>\n",
              "      <td>artigos_de_natal</td>\n",
              "      <td>christmas_supplies</td>\n",
              "    </tr>\n",
              "    <tr>\n",
              "      <th>65</th>\n",
              "      <td>dvds_blu_ray</td>\n",
              "      <td>dvds_blu_ray</td>\n",
              "    </tr>\n",
              "  </tbody>\n",
              "</table>\n",
              "</div>"
            ],
            "text/plain": [
              "     product_category_name product_category_name_english\n",
              "48  livros_interesse_geral        books_general_interest\n",
              "39         livros_tecnicos               books_technical\n",
              "31            market_place                  market_place\n",
              "54        artigos_de_natal            christmas_supplies\n",
              "65            dvds_blu_ray                  dvds_blu_ray"
            ]
          },
          "execution_count": 28,
          "metadata": {},
          "output_type": "execute_result"
        }
      ],
      "source": [
        "product_cat_name.sample(5)"
      ]
    },
    {
      "cell_type": "code",
      "execution_count": 29,
      "metadata": {},
      "outputs": [
        {
          "data": {
            "text/plain": [
              "(71, 2)"
            ]
          },
          "execution_count": 29,
          "metadata": {},
          "output_type": "execute_result"
        }
      ],
      "source": [
        "product_cat_name.shape"
      ]
    },
    {
      "cell_type": "code",
      "execution_count": 30,
      "metadata": {},
      "outputs": [
        {
          "name": "stdout",
          "output_type": "stream",
          "text": [
            "<class 'pandas.core.frame.DataFrame'>\n",
            "RangeIndex: 71 entries, 0 to 70\n",
            "Data columns (total 2 columns):\n",
            " #   Column                         Non-Null Count  Dtype \n",
            "---  ------                         --------------  ----- \n",
            " 0   product_category_name          71 non-null     object\n",
            " 1   product_category_name_english  71 non-null     object\n",
            "dtypes: object(2)\n",
            "memory usage: 1.2+ KB\n"
          ]
        }
      ],
      "source": [
        "product_cat_name.info()"
      ]
    },
    {
      "cell_type": "markdown",
      "metadata": {},
      "source": [
        "#### Products"
      ]
    },
    {
      "cell_type": "code",
      "execution_count": 31,
      "metadata": {},
      "outputs": [
        {
          "data": {
            "text/html": [
              "<div>\n",
              "<style scoped>\n",
              "    .dataframe tbody tr th:only-of-type {\n",
              "        vertical-align: middle;\n",
              "    }\n",
              "\n",
              "    .dataframe tbody tr th {\n",
              "        vertical-align: top;\n",
              "    }\n",
              "\n",
              "    .dataframe thead th {\n",
              "        text-align: right;\n",
              "    }\n",
              "</style>\n",
              "<table border=\"1\" class=\"dataframe\">\n",
              "  <thead>\n",
              "    <tr style=\"text-align: right;\">\n",
              "      <th></th>\n",
              "      <th>product_id</th>\n",
              "      <th>product_category_name</th>\n",
              "      <th>product_name_lenght</th>\n",
              "      <th>product_description_lenght</th>\n",
              "      <th>product_photos_qty</th>\n",
              "      <th>product_weight_g</th>\n",
              "      <th>product_length_cm</th>\n",
              "      <th>product_height_cm</th>\n",
              "      <th>product_width_cm</th>\n",
              "    </tr>\n",
              "  </thead>\n",
              "  <tbody>\n",
              "    <tr>\n",
              "      <th>15550</th>\n",
              "      <td>fd28b464cf1660a67606f7b48c8c38c6</td>\n",
              "      <td>cama_mesa_banho</td>\n",
              "      <td>54.0</td>\n",
              "      <td>497.0</td>\n",
              "      <td>4.0</td>\n",
              "      <td>700.0</td>\n",
              "      <td>32.0</td>\n",
              "      <td>11.0</td>\n",
              "      <td>23.0</td>\n",
              "    </tr>\n",
              "    <tr>\n",
              "      <th>22880</th>\n",
              "      <td>a396c58c1c3c3bc927aa57ed987a75ec</td>\n",
              "      <td>relogios_presentes</td>\n",
              "      <td>57.0</td>\n",
              "      <td>624.0</td>\n",
              "      <td>2.0</td>\n",
              "      <td>270.0</td>\n",
              "      <td>18.0</td>\n",
              "      <td>13.0</td>\n",
              "      <td>16.0</td>\n",
              "    </tr>\n",
              "    <tr>\n",
              "      <th>3295</th>\n",
              "      <td>fbbccb1d65066d96ce4cc9edef2f5a0a</td>\n",
              "      <td>pet_shop</td>\n",
              "      <td>51.0</td>\n",
              "      <td>301.0</td>\n",
              "      <td>1.0</td>\n",
              "      <td>2500.0</td>\n",
              "      <td>65.0</td>\n",
              "      <td>50.0</td>\n",
              "      <td>45.0</td>\n",
              "    </tr>\n",
              "    <tr>\n",
              "      <th>25894</th>\n",
              "      <td>515778ec4dcf81869530fe93e6710ef8</td>\n",
              "      <td>automotivo</td>\n",
              "      <td>54.0</td>\n",
              "      <td>383.0</td>\n",
              "      <td>2.0</td>\n",
              "      <td>100.0</td>\n",
              "      <td>16.0</td>\n",
              "      <td>10.0</td>\n",
              "      <td>15.0</td>\n",
              "    </tr>\n",
              "    <tr>\n",
              "      <th>5249</th>\n",
              "      <td>ba6060edcfb9011f13da2fcdc78a01b8</td>\n",
              "      <td>automotivo</td>\n",
              "      <td>59.0</td>\n",
              "      <td>298.0</td>\n",
              "      <td>1.0</td>\n",
              "      <td>1700.0</td>\n",
              "      <td>30.0</td>\n",
              "      <td>14.0</td>\n",
              "      <td>30.0</td>\n",
              "    </tr>\n",
              "  </tbody>\n",
              "</table>\n",
              "</div>"
            ],
            "text/plain": [
              "                             product_id product_category_name  \\\n",
              "15550  fd28b464cf1660a67606f7b48c8c38c6       cama_mesa_banho   \n",
              "22880  a396c58c1c3c3bc927aa57ed987a75ec    relogios_presentes   \n",
              "3295   fbbccb1d65066d96ce4cc9edef2f5a0a              pet_shop   \n",
              "25894  515778ec4dcf81869530fe93e6710ef8            automotivo   \n",
              "5249   ba6060edcfb9011f13da2fcdc78a01b8            automotivo   \n",
              "\n",
              "       product_name_lenght  product_description_lenght  product_photos_qty  \\\n",
              "15550                 54.0                       497.0                 4.0   \n",
              "22880                 57.0                       624.0                 2.0   \n",
              "3295                  51.0                       301.0                 1.0   \n",
              "25894                 54.0                       383.0                 2.0   \n",
              "5249                  59.0                       298.0                 1.0   \n",
              "\n",
              "       product_weight_g  product_length_cm  product_height_cm  \\\n",
              "15550             700.0               32.0               11.0   \n",
              "22880             270.0               18.0               13.0   \n",
              "3295             2500.0               65.0               50.0   \n",
              "25894             100.0               16.0               10.0   \n",
              "5249             1700.0               30.0               14.0   \n",
              "\n",
              "       product_width_cm  \n",
              "15550              23.0  \n",
              "22880              16.0  \n",
              "3295               45.0  \n",
              "25894              15.0  \n",
              "5249               30.0  "
            ]
          },
          "execution_count": 31,
          "metadata": {},
          "output_type": "execute_result"
        }
      ],
      "source": [
        "products.sample(5)"
      ]
    },
    {
      "cell_type": "code",
      "execution_count": 32,
      "metadata": {},
      "outputs": [
        {
          "data": {
            "text/plain": [
              "(32951, 9)"
            ]
          },
          "execution_count": 32,
          "metadata": {},
          "output_type": "execute_result"
        }
      ],
      "source": [
        "products.shape"
      ]
    },
    {
      "cell_type": "code",
      "execution_count": 33,
      "metadata": {},
      "outputs": [
        {
          "name": "stdout",
          "output_type": "stream",
          "text": [
            "<class 'pandas.core.frame.DataFrame'>\n",
            "RangeIndex: 32951 entries, 0 to 32950\n",
            "Data columns (total 9 columns):\n",
            " #   Column                      Non-Null Count  Dtype  \n",
            "---  ------                      --------------  -----  \n",
            " 0   product_id                  32951 non-null  object \n",
            " 1   product_category_name       32341 non-null  object \n",
            " 2   product_name_lenght         32341 non-null  float64\n",
            " 3   product_description_lenght  32341 non-null  float64\n",
            " 4   product_photos_qty          32341 non-null  float64\n",
            " 5   product_weight_g            32949 non-null  float64\n",
            " 6   product_length_cm           32949 non-null  float64\n",
            " 7   product_height_cm           32949 non-null  float64\n",
            " 8   product_width_cm            32949 non-null  float64\n",
            "dtypes: float64(7), object(2)\n",
            "memory usage: 2.3+ MB\n"
          ]
        }
      ],
      "source": [
        "products.info()"
      ]
    },
    {
      "cell_type": "code",
      "execution_count": 34,
      "metadata": {},
      "outputs": [
        {
          "data": {
            "text/plain": [
              "product_id                      0\n",
              "product_category_name         610\n",
              "product_name_lenght           610\n",
              "product_description_lenght    610\n",
              "product_photos_qty            610\n",
              "product_weight_g                2\n",
              "product_length_cm               2\n",
              "product_height_cm               2\n",
              "product_width_cm                2\n",
              "dtype: int64"
            ]
          },
          "execution_count": 34,
          "metadata": {},
          "output_type": "execute_result"
        }
      ],
      "source": [
        "products.isnull().sum()"
      ]
    },
    {
      "cell_type": "code",
      "execution_count": 35,
      "metadata": {},
      "outputs": [
        {
          "data": {
            "text/html": [
              "<div>\n",
              "<style scoped>\n",
              "    .dataframe tbody tr th:only-of-type {\n",
              "        vertical-align: middle;\n",
              "    }\n",
              "\n",
              "    .dataframe tbody tr th {\n",
              "        vertical-align: top;\n",
              "    }\n",
              "\n",
              "    .dataframe thead th {\n",
              "        text-align: right;\n",
              "    }\n",
              "</style>\n",
              "<table border=\"1\" class=\"dataframe\">\n",
              "  <thead>\n",
              "    <tr style=\"text-align: right;\">\n",
              "      <th></th>\n",
              "      <th>product_name_lenght</th>\n",
              "      <th>product_description_lenght</th>\n",
              "      <th>product_photos_qty</th>\n",
              "      <th>product_weight_g</th>\n",
              "      <th>product_length_cm</th>\n",
              "      <th>product_height_cm</th>\n",
              "      <th>product_width_cm</th>\n",
              "    </tr>\n",
              "  </thead>\n",
              "  <tbody>\n",
              "    <tr>\n",
              "      <th>count</th>\n",
              "      <td>32341.000000</td>\n",
              "      <td>32341.000000</td>\n",
              "      <td>32341.000000</td>\n",
              "      <td>32949.000000</td>\n",
              "      <td>32949.000000</td>\n",
              "      <td>32949.000000</td>\n",
              "      <td>32949.000000</td>\n",
              "    </tr>\n",
              "    <tr>\n",
              "      <th>mean</th>\n",
              "      <td>48.476949</td>\n",
              "      <td>771.495285</td>\n",
              "      <td>2.188986</td>\n",
              "      <td>2276.472488</td>\n",
              "      <td>30.815078</td>\n",
              "      <td>16.937661</td>\n",
              "      <td>23.196728</td>\n",
              "    </tr>\n",
              "    <tr>\n",
              "      <th>std</th>\n",
              "      <td>10.245741</td>\n",
              "      <td>635.115225</td>\n",
              "      <td>1.736766</td>\n",
              "      <td>4282.038731</td>\n",
              "      <td>16.914458</td>\n",
              "      <td>13.637554</td>\n",
              "      <td>12.079047</td>\n",
              "    </tr>\n",
              "    <tr>\n",
              "      <th>min</th>\n",
              "      <td>5.000000</td>\n",
              "      <td>4.000000</td>\n",
              "      <td>1.000000</td>\n",
              "      <td>0.000000</td>\n",
              "      <td>7.000000</td>\n",
              "      <td>2.000000</td>\n",
              "      <td>6.000000</td>\n",
              "    </tr>\n",
              "    <tr>\n",
              "      <th>25%</th>\n",
              "      <td>42.000000</td>\n",
              "      <td>339.000000</td>\n",
              "      <td>1.000000</td>\n",
              "      <td>300.000000</td>\n",
              "      <td>18.000000</td>\n",
              "      <td>8.000000</td>\n",
              "      <td>15.000000</td>\n",
              "    </tr>\n",
              "    <tr>\n",
              "      <th>50%</th>\n",
              "      <td>51.000000</td>\n",
              "      <td>595.000000</td>\n",
              "      <td>1.000000</td>\n",
              "      <td>700.000000</td>\n",
              "      <td>25.000000</td>\n",
              "      <td>13.000000</td>\n",
              "      <td>20.000000</td>\n",
              "    </tr>\n",
              "    <tr>\n",
              "      <th>75%</th>\n",
              "      <td>57.000000</td>\n",
              "      <td>972.000000</td>\n",
              "      <td>3.000000</td>\n",
              "      <td>1900.000000</td>\n",
              "      <td>38.000000</td>\n",
              "      <td>21.000000</td>\n",
              "      <td>30.000000</td>\n",
              "    </tr>\n",
              "    <tr>\n",
              "      <th>max</th>\n",
              "      <td>76.000000</td>\n",
              "      <td>3992.000000</td>\n",
              "      <td>20.000000</td>\n",
              "      <td>40425.000000</td>\n",
              "      <td>105.000000</td>\n",
              "      <td>105.000000</td>\n",
              "      <td>118.000000</td>\n",
              "    </tr>\n",
              "  </tbody>\n",
              "</table>\n",
              "</div>"
            ],
            "text/plain": [
              "       product_name_lenght  product_description_lenght  product_photos_qty  \\\n",
              "count         32341.000000                32341.000000        32341.000000   \n",
              "mean             48.476949                  771.495285            2.188986   \n",
              "std              10.245741                  635.115225            1.736766   \n",
              "min               5.000000                    4.000000            1.000000   \n",
              "25%              42.000000                  339.000000            1.000000   \n",
              "50%              51.000000                  595.000000            1.000000   \n",
              "75%              57.000000                  972.000000            3.000000   \n",
              "max              76.000000                 3992.000000           20.000000   \n",
              "\n",
              "       product_weight_g  product_length_cm  product_height_cm  \\\n",
              "count      32949.000000       32949.000000       32949.000000   \n",
              "mean        2276.472488          30.815078          16.937661   \n",
              "std         4282.038731          16.914458          13.637554   \n",
              "min            0.000000           7.000000           2.000000   \n",
              "25%          300.000000          18.000000           8.000000   \n",
              "50%          700.000000          25.000000          13.000000   \n",
              "75%         1900.000000          38.000000          21.000000   \n",
              "max        40425.000000         105.000000         105.000000   \n",
              "\n",
              "       product_width_cm  \n",
              "count      32949.000000  \n",
              "mean          23.196728  \n",
              "std           12.079047  \n",
              "min            6.000000  \n",
              "25%           15.000000  \n",
              "50%           20.000000  \n",
              "75%           30.000000  \n",
              "max          118.000000  "
            ]
          },
          "execution_count": 35,
          "metadata": {},
          "output_type": "execute_result"
        }
      ],
      "source": [
        "products.describe()"
      ]
    },
    {
      "cell_type": "code",
      "execution_count": 36,
      "metadata": {},
      "outputs": [
        {
          "data": {
            "text/html": [
              "<div>\n",
              "<style scoped>\n",
              "    .dataframe tbody tr th:only-of-type {\n",
              "        vertical-align: middle;\n",
              "    }\n",
              "\n",
              "    .dataframe tbody tr th {\n",
              "        vertical-align: top;\n",
              "    }\n",
              "\n",
              "    .dataframe thead th {\n",
              "        text-align: right;\n",
              "    }\n",
              "</style>\n",
              "<table border=\"1\" class=\"dataframe\">\n",
              "  <thead>\n",
              "    <tr style=\"text-align: right;\">\n",
              "      <th></th>\n",
              "      <th>product_id</th>\n",
              "      <th>product_category_name</th>\n",
              "      <th>product_name_lenght</th>\n",
              "      <th>product_description_lenght</th>\n",
              "      <th>product_photos_qty</th>\n",
              "      <th>product_weight_g</th>\n",
              "      <th>product_length_cm</th>\n",
              "      <th>product_height_cm</th>\n",
              "      <th>product_width_cm</th>\n",
              "    </tr>\n",
              "  </thead>\n",
              "  <tbody>\n",
              "    <tr>\n",
              "      <th>11975</th>\n",
              "      <td>1fbeaaa01377d3f600de52f455ef578c</td>\n",
              "      <td>cama_mesa_banho</td>\n",
              "      <td>55.0</td>\n",
              "      <td>664.0</td>\n",
              "      <td>1.0</td>\n",
              "      <td>2800.0</td>\n",
              "      <td>44.0</td>\n",
              "      <td>10.0</td>\n",
              "      <td>34.0</td>\n",
              "    </tr>\n",
              "  </tbody>\n",
              "</table>\n",
              "</div>"
            ],
            "text/plain": [
              "                             product_id product_category_name  \\\n",
              "11975  1fbeaaa01377d3f600de52f455ef578c       cama_mesa_banho   \n",
              "\n",
              "       product_name_lenght  product_description_lenght  product_photos_qty  \\\n",
              "11975                 55.0                       664.0                 1.0   \n",
              "\n",
              "       product_weight_g  product_length_cm  product_height_cm  \\\n",
              "11975            2800.0               44.0               10.0   \n",
              "\n",
              "       product_width_cm  \n",
              "11975              34.0  "
            ]
          },
          "execution_count": 36,
          "metadata": {},
          "output_type": "execute_result"
        }
      ],
      "source": [
        "products[products.product_id == '1fbeaaa01377d3f600de52f455ef578c']"
      ]
    },
    {
      "cell_type": "markdown",
      "metadata": {},
      "source": [
        "#### Sellers"
      ]
    },
    {
      "cell_type": "code",
      "execution_count": 100,
      "metadata": {},
      "outputs": [
        {
          "data": {
            "text/html": [
              "<div>\n",
              "<style scoped>\n",
              "    .dataframe tbody tr th:only-of-type {\n",
              "        vertical-align: middle;\n",
              "    }\n",
              "\n",
              "    .dataframe tbody tr th {\n",
              "        vertical-align: top;\n",
              "    }\n",
              "\n",
              "    .dataframe thead th {\n",
              "        text-align: right;\n",
              "    }\n",
              "</style>\n",
              "<table border=\"1\" class=\"dataframe\">\n",
              "  <thead>\n",
              "    <tr style=\"text-align: right;\">\n",
              "      <th></th>\n",
              "      <th>seller_id</th>\n",
              "      <th>zip_code_prefix</th>\n",
              "      <th>seller_city</th>\n",
              "      <th>seller_state</th>\n",
              "    </tr>\n",
              "  </thead>\n",
              "  <tbody>\n",
              "    <tr>\n",
              "      <th>0</th>\n",
              "      <td>3442f8959a84dea7ee197c632cb2df15</td>\n",
              "      <td>13023</td>\n",
              "      <td>campinas</td>\n",
              "      <td>SP</td>\n",
              "    </tr>\n",
              "    <tr>\n",
              "      <th>1</th>\n",
              "      <td>d1b65fc7debc3361ea86b5f14c68d2e2</td>\n",
              "      <td>13844</td>\n",
              "      <td>mogi guacu</td>\n",
              "      <td>SP</td>\n",
              "    </tr>\n",
              "    <tr>\n",
              "      <th>2</th>\n",
              "      <td>ce3ad9de960102d0677a81f5d0bb7b2d</td>\n",
              "      <td>20031</td>\n",
              "      <td>rio de janeiro</td>\n",
              "      <td>RJ</td>\n",
              "    </tr>\n",
              "    <tr>\n",
              "      <th>3</th>\n",
              "      <td>c0f3eea2e14555b6faeea3dd58c1b1c3</td>\n",
              "      <td>4195</td>\n",
              "      <td>sao paulo</td>\n",
              "      <td>SP</td>\n",
              "    </tr>\n",
              "    <tr>\n",
              "      <th>4</th>\n",
              "      <td>51a04a8a6bdcb23deccc82b0b80742cf</td>\n",
              "      <td>12914</td>\n",
              "      <td>braganca paulista</td>\n",
              "      <td>SP</td>\n",
              "    </tr>\n",
              "  </tbody>\n",
              "</table>\n",
              "</div>"
            ],
            "text/plain": [
              "                          seller_id  zip_code_prefix        seller_city  \\\n",
              "0  3442f8959a84dea7ee197c632cb2df15            13023           campinas   \n",
              "1  d1b65fc7debc3361ea86b5f14c68d2e2            13844         mogi guacu   \n",
              "2  ce3ad9de960102d0677a81f5d0bb7b2d            20031     rio de janeiro   \n",
              "3  c0f3eea2e14555b6faeea3dd58c1b1c3             4195          sao paulo   \n",
              "4  51a04a8a6bdcb23deccc82b0b80742cf            12914  braganca paulista   \n",
              "\n",
              "  seller_state  \n",
              "0           SP  \n",
              "1           SP  \n",
              "2           RJ  \n",
              "3           SP  \n",
              "4           SP  "
            ]
          },
          "execution_count": 100,
          "metadata": {},
          "output_type": "execute_result"
        }
      ],
      "source": [
        "sellers.head()"
      ]
    },
    {
      "cell_type": "code",
      "execution_count": 38,
      "metadata": {},
      "outputs": [
        {
          "data": {
            "text/plain": [
              "(3095, 4)"
            ]
          },
          "execution_count": 38,
          "metadata": {},
          "output_type": "execute_result"
        }
      ],
      "source": [
        "sellers.shape"
      ]
    },
    {
      "cell_type": "code",
      "execution_count": 39,
      "metadata": {},
      "outputs": [
        {
          "name": "stdout",
          "output_type": "stream",
          "text": [
            "<class 'pandas.core.frame.DataFrame'>\n",
            "RangeIndex: 3095 entries, 0 to 3094\n",
            "Data columns (total 4 columns):\n",
            " #   Column                  Non-Null Count  Dtype \n",
            "---  ------                  --------------  ----- \n",
            " 0   seller_id               3095 non-null   object\n",
            " 1   seller_zip_code_prefix  3095 non-null   int64 \n",
            " 2   seller_city             3095 non-null   object\n",
            " 3   seller_state            3095 non-null   object\n",
            "dtypes: int64(1), object(3)\n",
            "memory usage: 96.8+ KB\n"
          ]
        }
      ],
      "source": [
        "sellers.info()"
      ]
    },
    {
      "cell_type": "code",
      "execution_count": 97,
      "metadata": {},
      "outputs": [
        {
          "data": {
            "text/plain": [
              "zip_code_prefix\n",
              "14940    49\n",
              "13660    10\n",
              "13920     9\n",
              "16200     9\n",
              "87050     8\n",
              "14020     8\n",
              "1026      8\n",
              "37540     7\n",
              "13481     7\n",
              "35530     6\n",
              "Name: count, dtype: int64"
            ]
          },
          "execution_count": 97,
          "metadata": {},
          "output_type": "execute_result"
        }
      ],
      "source": [
        "sellers.zip_code_prefix.value_counts().head(10)"
      ]
    },
    {
      "cell_type": "code",
      "execution_count": 96,
      "metadata": {},
      "outputs": [
        {
          "data": {
            "text/plain": [
              "2246"
            ]
          },
          "execution_count": 96,
          "metadata": {},
          "output_type": "execute_result"
        }
      ],
      "source": [
        "sellers.zip_code_prefix.nunique()"
      ]
    },
    {
      "cell_type": "markdown",
      "metadata": {
        "id": "Uz5dgcJm9HW5"
      },
      "source": [
        "### Cleaning Data"
      ]
    },
    {
      "cell_type": "code",
      "execution_count": 40,
      "metadata": {
        "id": "CCszTdXD9Ivf"
      },
      "outputs": [],
      "source": [
        "# change data type on Order Items of shipping_limit_date to date\n",
        "order_items.shipping_limit_date = pd.to_datetime(order_items['shipping_limit_date'])\n",
        "\n",
        "# change data type on order review of the review_creation_date and review_answer_timestamp to date \n",
        "order_reviews.review_creation_date = pd.to_datetime(order_reviews.review_creation_date)\n",
        "order_reviews.review_answer_timestamp = pd.to_datetime(order_reviews.review_answer_timestamp)\n",
        "\n",
        "# change data type on Orders of the order_purchase_timestamp, order_approved_at, order_delivered_carrier_date, \n",
        "# order_delivered_customer_date, order_estimated_delivery_date to date \n",
        "# orders.order_purchase_timestamp = pd.to_datetime(orders.order_purchase_timestamp.str.strip())\n",
        "# orders.order_approved_at = pd.to_datetime(orders.order_approved_at.str.strip())\n",
        "# orders.order_delivered_carrier_date = pd.to_datetime(orders.order_delivered_carrier_date.str.strip())\n",
        "# orders.order_delivered_customer_date = pd.to_datetime(orders.order_delivered_customer_date.str.strip())\n",
        "# orders.order_estimated_delivery_date = pd.to_datetime(orders.order_estimated_delivery_date.str.strip())\n"
      ]
    },
    {
      "cell_type": "code",
      "execution_count": 41,
      "metadata": {},
      "outputs": [],
      "source": [
        "# cleaning null value on Orders dataset (99441, 8)\n",
        "# orders.isnull().sum()\n",
        "# orders.dropna(subset=['order_approved_at','order_delivered_carrier_date','order_delivered_customer_date'], inplace=True)\n",
        "\n",
        "# cleaning null value on Products dataset (32951, 9)\n",
        "# products.isnull().sum()\n",
        "# products.dropna(inplace=True)"
      ]
    },
    {
      "cell_type": "code",
      "execution_count": 42,
      "metadata": {},
      "outputs": [
        {
          "name": "stdout",
          "output_type": "stream",
          "text": [
            "order (99441, 8) & products (32951, 9)\n"
          ]
        }
      ],
      "source": [
        "print(f'order {orders.shape} & products {products.shape}')"
      ]
    },
    {
      "cell_type": "markdown",
      "metadata": {
        "id": "EyPJaCDm9KFb"
      },
      "source": [
        "## Exploratory Data Analysis (EDA)"
      ]
    },
    {
      "cell_type": "markdown",
      "metadata": {
        "id": "hxgJ6qd69Mce"
      },
      "source": [
        "#### Explore Customer"
      ]
    },
    {
      "cell_type": "code",
      "execution_count": 43,
      "metadata": {
        "id": "Xo68yguo9LTl"
      },
      "outputs": [
        {
          "data": {
            "text/html": [
              "<div>\n",
              "<style scoped>\n",
              "    .dataframe tbody tr th:only-of-type {\n",
              "        vertical-align: middle;\n",
              "    }\n",
              "\n",
              "    .dataframe tbody tr th {\n",
              "        vertical-align: top;\n",
              "    }\n",
              "\n",
              "    .dataframe thead th {\n",
              "        text-align: right;\n",
              "    }\n",
              "</style>\n",
              "<table border=\"1\" class=\"dataframe\">\n",
              "  <thead>\n",
              "    <tr style=\"text-align: right;\">\n",
              "      <th></th>\n",
              "      <th>customer_id</th>\n",
              "      <th>customer_unique_id</th>\n",
              "      <th>customer_zip_code_prefix</th>\n",
              "      <th>customer_city</th>\n",
              "      <th>customer_state</th>\n",
              "    </tr>\n",
              "  </thead>\n",
              "  <tbody>\n",
              "    <tr>\n",
              "      <th>59</th>\n",
              "      <td>a905baa530258422594f1b05615bd225</td>\n",
              "      <td>c80da60feddb7cf8325bd104032e314a</td>\n",
              "      <td>60140</td>\n",
              "      <td>fortaleza</td>\n",
              "      <td>CE</td>\n",
              "    </tr>\n",
              "    <tr>\n",
              "      <th>70</th>\n",
              "      <td>4c7241af24b5344cb01fe687643de4fe</td>\n",
              "      <td>b157c176c3fe04914fde33f2dc8b878a</td>\n",
              "      <td>60336</td>\n",
              "      <td>fortaleza</td>\n",
              "      <td>CE</td>\n",
              "    </tr>\n",
              "    <tr>\n",
              "      <th>103</th>\n",
              "      <td>126cf4e9fd189d2d64bc9b112fd6a5e8</td>\n",
              "      <td>90d479448b39ad9586d05da64cfb695b</td>\n",
              "      <td>62016</td>\n",
              "      <td>sobral</td>\n",
              "      <td>CE</td>\n",
              "    </tr>\n",
              "    <tr>\n",
              "      <th>303</th>\n",
              "      <td>3aec4688b93d6061ec5061721ad493a7</td>\n",
              "      <td>7b0cae22ae2b6cf88163a50600da4ee2</td>\n",
              "      <td>60181</td>\n",
              "      <td>fortaleza</td>\n",
              "      <td>CE</td>\n",
              "    </tr>\n",
              "    <tr>\n",
              "      <th>422</th>\n",
              "      <td>522a6e7c1f1f992ac81be6abefa46294</td>\n",
              "      <td>282ebddb3e85120b1652204758fc332b</td>\n",
              "      <td>60055</td>\n",
              "      <td>fortaleza</td>\n",
              "      <td>CE</td>\n",
              "    </tr>\n",
              "    <tr>\n",
              "      <th>...</th>\n",
              "      <td>...</td>\n",
              "      <td>...</td>\n",
              "      <td>...</td>\n",
              "      <td>...</td>\n",
              "      <td>...</td>\n",
              "    </tr>\n",
              "    <tr>\n",
              "      <th>99072</th>\n",
              "      <td>18e56af97c2f24afcfaf7aa97ad2b969</td>\n",
              "      <td>d9ff7e37d7bf448abb783a6e56462d93</td>\n",
              "      <td>63765</td>\n",
              "      <td>sucesso</td>\n",
              "      <td>CE</td>\n",
              "    </tr>\n",
              "    <tr>\n",
              "      <th>99171</th>\n",
              "      <td>3218724bc18c442e58bd39608b0f100a</td>\n",
              "      <td>d9151698fc7193669598995a4c6f494f</td>\n",
              "      <td>62800</td>\n",
              "      <td>aracati</td>\n",
              "      <td>CE</td>\n",
              "    </tr>\n",
              "    <tr>\n",
              "      <th>99328</th>\n",
              "      <td>1e03a2aa5714007700c8e727849cf123</td>\n",
              "      <td>54a2d9cbeb08a11268085529cfe2524f</td>\n",
              "      <td>60440</td>\n",
              "      <td>fortaleza</td>\n",
              "      <td>CE</td>\n",
              "    </tr>\n",
              "    <tr>\n",
              "      <th>99343</th>\n",
              "      <td>9289d8bcd95805bc1ac27c949a99da98</td>\n",
              "      <td>ec8aaeb3869352e348097f26f4c49ee3</td>\n",
              "      <td>60864</td>\n",
              "      <td>fortaleza</td>\n",
              "      <td>CE</td>\n",
              "    </tr>\n",
              "    <tr>\n",
              "      <th>99438</th>\n",
              "      <td>5e28dfe12db7fb50a4b2f691faecea5e</td>\n",
              "      <td>e9f50caf99f032f0bf3c55141f019d99</td>\n",
              "      <td>60115</td>\n",
              "      <td>fortaleza</td>\n",
              "      <td>CE</td>\n",
              "    </tr>\n",
              "  </tbody>\n",
              "</table>\n",
              "<p>1336 rows × 5 columns</p>\n",
              "</div>"
            ],
            "text/plain": [
              "                            customer_id                customer_unique_id  \\\n",
              "59     a905baa530258422594f1b05615bd225  c80da60feddb7cf8325bd104032e314a   \n",
              "70     4c7241af24b5344cb01fe687643de4fe  b157c176c3fe04914fde33f2dc8b878a   \n",
              "103    126cf4e9fd189d2d64bc9b112fd6a5e8  90d479448b39ad9586d05da64cfb695b   \n",
              "303    3aec4688b93d6061ec5061721ad493a7  7b0cae22ae2b6cf88163a50600da4ee2   \n",
              "422    522a6e7c1f1f992ac81be6abefa46294  282ebddb3e85120b1652204758fc332b   \n",
              "...                                 ...                               ...   \n",
              "99072  18e56af97c2f24afcfaf7aa97ad2b969  d9ff7e37d7bf448abb783a6e56462d93   \n",
              "99171  3218724bc18c442e58bd39608b0f100a  d9151698fc7193669598995a4c6f494f   \n",
              "99328  1e03a2aa5714007700c8e727849cf123  54a2d9cbeb08a11268085529cfe2524f   \n",
              "99343  9289d8bcd95805bc1ac27c949a99da98  ec8aaeb3869352e348097f26f4c49ee3   \n",
              "99438  5e28dfe12db7fb50a4b2f691faecea5e  e9f50caf99f032f0bf3c55141f019d99   \n",
              "\n",
              "       customer_zip_code_prefix customer_city customer_state  \n",
              "59                        60140     fortaleza             CE  \n",
              "70                        60336     fortaleza             CE  \n",
              "103                       62016        sobral             CE  \n",
              "303                       60181     fortaleza             CE  \n",
              "422                       60055     fortaleza             CE  \n",
              "...                         ...           ...            ...  \n",
              "99072                     63765       sucesso             CE  \n",
              "99171                     62800       aracati             CE  \n",
              "99328                     60440     fortaleza             CE  \n",
              "99343                     60864     fortaleza             CE  \n",
              "99438                     60115     fortaleza             CE  \n",
              "\n",
              "[1336 rows x 5 columns]"
            ]
          },
          "execution_count": 43,
          "metadata": {},
          "output_type": "execute_result"
        }
      ],
      "source": [
        "customers[customers.customer_state == 'CE']"
      ]
    },
    {
      "cell_type": "code",
      "execution_count": 44,
      "metadata": {},
      "outputs": [
        {
          "data": {
            "text/html": [
              "<div>\n",
              "<style scoped>\n",
              "    .dataframe tbody tr th:only-of-type {\n",
              "        vertical-align: middle;\n",
              "    }\n",
              "\n",
              "    .dataframe tbody tr th {\n",
              "        vertical-align: top;\n",
              "    }\n",
              "\n",
              "    .dataframe thead th {\n",
              "        text-align: right;\n",
              "    }\n",
              "</style>\n",
              "<table border=\"1\" class=\"dataframe\">\n",
              "  <thead>\n",
              "    <tr style=\"text-align: right;\">\n",
              "      <th></th>\n",
              "      <th>customer_city</th>\n",
              "      <th>jml_cust</th>\n",
              "    </tr>\n",
              "  </thead>\n",
              "  <tbody>\n",
              "    <tr>\n",
              "      <th>0</th>\n",
              "      <td>sao paulo</td>\n",
              "      <td>15540</td>\n",
              "    </tr>\n",
              "    <tr>\n",
              "      <th>1</th>\n",
              "      <td>rio de janeiro</td>\n",
              "      <td>6882</td>\n",
              "    </tr>\n",
              "    <tr>\n",
              "      <th>2</th>\n",
              "      <td>belo horizonte</td>\n",
              "      <td>2773</td>\n",
              "    </tr>\n",
              "    <tr>\n",
              "      <th>3</th>\n",
              "      <td>brasilia</td>\n",
              "      <td>2131</td>\n",
              "    </tr>\n",
              "    <tr>\n",
              "      <th>4</th>\n",
              "      <td>curitiba</td>\n",
              "      <td>1521</td>\n",
              "    </tr>\n",
              "  </tbody>\n",
              "</table>\n",
              "</div>"
            ],
            "text/plain": [
              "    customer_city  jml_cust\n",
              "0       sao paulo     15540\n",
              "1  rio de janeiro      6882\n",
              "2  belo horizonte      2773\n",
              "3        brasilia      2131\n",
              "4        curitiba      1521"
            ]
          },
          "execution_count": 44,
          "metadata": {},
          "output_type": "execute_result"
        }
      ],
      "source": [
        "custby_city_states = customers.groupby(by=['customer_city']).agg({'customer_id':'count'}).sort_values(by='customer_id', ascending=False).reset_index().rename(columns={'customer_id':'jml_cust'})\n",
        "custby_city_states.head()"
      ]
    },
    {
      "cell_type": "code",
      "execution_count": 45,
      "metadata": {},
      "outputs": [
        {
          "data": {
            "text/html": [
              "<div>\n",
              "<style scoped>\n",
              "    .dataframe tbody tr th:only-of-type {\n",
              "        vertical-align: middle;\n",
              "    }\n",
              "\n",
              "    .dataframe tbody tr th {\n",
              "        vertical-align: top;\n",
              "    }\n",
              "\n",
              "    .dataframe thead th {\n",
              "        text-align: right;\n",
              "    }\n",
              "</style>\n",
              "<table border=\"1\" class=\"dataframe\">\n",
              "  <thead>\n",
              "    <tr style=\"text-align: right;\">\n",
              "      <th></th>\n",
              "      <th>customer_state</th>\n",
              "      <th>jml_cust</th>\n",
              "    </tr>\n",
              "  </thead>\n",
              "  <tbody>\n",
              "    <tr>\n",
              "      <th>6</th>\n",
              "      <td>BA</td>\n",
              "      <td>3380</td>\n",
              "    </tr>\n",
              "    <tr>\n",
              "      <th>8</th>\n",
              "      <td>ES</td>\n",
              "      <td>2033</td>\n",
              "    </tr>\n",
              "    <tr>\n",
              "      <th>7</th>\n",
              "      <td>DF</td>\n",
              "      <td>2140</td>\n",
              "    </tr>\n",
              "  </tbody>\n",
              "</table>\n",
              "</div>"
            ],
            "text/plain": [
              "  customer_state  jml_cust\n",
              "6             BA      3380\n",
              "8             ES      2033\n",
              "7             DF      2140"
            ]
          },
          "execution_count": 45,
          "metadata": {},
          "output_type": "execute_result"
        }
      ],
      "source": [
        "custby_states = customers.groupby(by=['customer_state']).customer_id.nunique().sort_values(ascending=False).to_frame().reset_index().rename(columns={'customer_id':'jml_cust'})\n",
        "custby_states.sample(3)"
      ]
    },
    {
      "cell_type": "markdown",
      "metadata": {},
      "source": [
        "#### Explore Order"
      ]
    },
    {
      "cell_type": "code",
      "execution_count": 5,
      "metadata": {},
      "outputs": [
        {
          "data": {
            "text/html": [
              "<div>\n",
              "<style scoped>\n",
              "    .dataframe tbody tr th:only-of-type {\n",
              "        vertical-align: middle;\n",
              "    }\n",
              "\n",
              "    .dataframe tbody tr th {\n",
              "        vertical-align: top;\n",
              "    }\n",
              "\n",
              "    .dataframe thead th {\n",
              "        text-align: right;\n",
              "    }\n",
              "</style>\n",
              "<table border=\"1\" class=\"dataframe\">\n",
              "  <thead>\n",
              "    <tr style=\"text-align: right;\">\n",
              "      <th></th>\n",
              "      <th>order_id</th>\n",
              "      <th>order_item_id</th>\n",
              "      <th>product_id</th>\n",
              "      <th>seller_id</th>\n",
              "      <th>shipping_limit_date</th>\n",
              "      <th>price</th>\n",
              "      <th>freight_value</th>\n",
              "    </tr>\n",
              "  </thead>\n",
              "  <tbody>\n",
              "    <tr>\n",
              "      <th>53851</th>\n",
              "      <td>7a72862f08ad9a6b9debda8e2a65d762</td>\n",
              "      <td>1</td>\n",
              "      <td>7e0dc102074f8285580c9777f79c90cf</td>\n",
              "      <td>e26901d5ab434ce92fd9b5c256820a4e</td>\n",
              "      <td>2017-03-21 19:47:34</td>\n",
              "      <td>34.9</td>\n",
              "      <td>24.84</td>\n",
              "    </tr>\n",
              "    <tr>\n",
              "      <th>11442</th>\n",
              "      <td>1a0b81380bc0d5b206b3e4ed62cf1791</td>\n",
              "      <td>1</td>\n",
              "      <td>4ff6d690de7f98ab534ab22881bf5819</td>\n",
              "      <td>282f23a9769b2690c5dda22e316f9941</td>\n",
              "      <td>2018-02-28 18:00:20</td>\n",
              "      <td>53.4</td>\n",
              "      <td>17.62</td>\n",
              "    </tr>\n",
              "    <tr>\n",
              "      <th>81772</th>\n",
              "      <td>b9e021cd678385c5fe5e9ef35d5bae49</td>\n",
              "      <td>1</td>\n",
              "      <td>81c6b0f031d89938fce1df449b3b464b</td>\n",
              "      <td>537eb890efff034a88679788b647c564</td>\n",
              "      <td>2018-06-18 21:23:05</td>\n",
              "      <td>18.9</td>\n",
              "      <td>7.55</td>\n",
              "    </tr>\n",
              "  </tbody>\n",
              "</table>\n",
              "</div>"
            ],
            "text/plain": [
              "                               order_id  order_item_id  \\\n",
              "53851  7a72862f08ad9a6b9debda8e2a65d762              1   \n",
              "11442  1a0b81380bc0d5b206b3e4ed62cf1791              1   \n",
              "81772  b9e021cd678385c5fe5e9ef35d5bae49              1   \n",
              "\n",
              "                             product_id                         seller_id  \\\n",
              "53851  7e0dc102074f8285580c9777f79c90cf  e26901d5ab434ce92fd9b5c256820a4e   \n",
              "11442  4ff6d690de7f98ab534ab22881bf5819  282f23a9769b2690c5dda22e316f9941   \n",
              "81772  81c6b0f031d89938fce1df449b3b464b  537eb890efff034a88679788b647c564   \n",
              "\n",
              "       shipping_limit_date  price  freight_value  \n",
              "53851  2017-03-21 19:47:34   34.9          24.84  \n",
              "11442  2018-02-28 18:00:20   53.4          17.62  \n",
              "81772  2018-06-18 21:23:05   18.9           7.55  "
            ]
          },
          "execution_count": 5,
          "metadata": {},
          "output_type": "execute_result"
        }
      ],
      "source": [
        "order_items.sample(3)"
      ]
    },
    {
      "cell_type": "code",
      "execution_count": 6,
      "metadata": {},
      "outputs": [
        {
          "data": {
            "text/html": [
              "<div>\n",
              "<style scoped>\n",
              "    .dataframe tbody tr th:only-of-type {\n",
              "        vertical-align: middle;\n",
              "    }\n",
              "\n",
              "    .dataframe tbody tr th {\n",
              "        vertical-align: top;\n",
              "    }\n",
              "\n",
              "    .dataframe thead th {\n",
              "        text-align: right;\n",
              "    }\n",
              "</style>\n",
              "<table border=\"1\" class=\"dataframe\">\n",
              "  <thead>\n",
              "    <tr style=\"text-align: right;\">\n",
              "      <th></th>\n",
              "      <th>order_id</th>\n",
              "      <th>customer_id</th>\n",
              "      <th>order_status</th>\n",
              "      <th>order_purchase_timestamp</th>\n",
              "      <th>order_approved_at</th>\n",
              "      <th>order_delivered_carrier_date</th>\n",
              "      <th>order_delivered_customer_date</th>\n",
              "      <th>order_estimated_delivery_date</th>\n",
              "    </tr>\n",
              "  </thead>\n",
              "  <tbody>\n",
              "    <tr>\n",
              "      <th>58348</th>\n",
              "      <td>4a21e3eb07861993fbaae74314b0d224</td>\n",
              "      <td>ffc0c21bf66cb129c62d8f89ed19c26c</td>\n",
              "      <td>delivered</td>\n",
              "      <td>2018-07-22 16:56:59</td>\n",
              "      <td>2018-07-23 12:31:42</td>\n",
              "      <td>2018-07-23 13:27:00</td>\n",
              "      <td>2018-07-30 16:42:11</td>\n",
              "      <td>2018-08-15 00:00:00</td>\n",
              "    </tr>\n",
              "    <tr>\n",
              "      <th>32239</th>\n",
              "      <td>1a785632cbf5301f146c5b3c67268911</td>\n",
              "      <td>9b1235a30973118303a0a017d3b5793b</td>\n",
              "      <td>delivered</td>\n",
              "      <td>2018-08-12 18:04:00</td>\n",
              "      <td>2018-08-12 18:24:19</td>\n",
              "      <td>2018-08-13 17:20:00</td>\n",
              "      <td>2018-08-21 17:41:09</td>\n",
              "      <td>2018-08-27 00:00:00</td>\n",
              "    </tr>\n",
              "  </tbody>\n",
              "</table>\n",
              "</div>"
            ],
            "text/plain": [
              "                               order_id                       customer_id  \\\n",
              "58348  4a21e3eb07861993fbaae74314b0d224  ffc0c21bf66cb129c62d8f89ed19c26c   \n",
              "32239  1a785632cbf5301f146c5b3c67268911  9b1235a30973118303a0a017d3b5793b   \n",
              "\n",
              "      order_status order_purchase_timestamp    order_approved_at  \\\n",
              "58348    delivered      2018-07-22 16:56:59  2018-07-23 12:31:42   \n",
              "32239    delivered      2018-08-12 18:04:00  2018-08-12 18:24:19   \n",
              "\n",
              "      order_delivered_carrier_date order_delivered_customer_date  \\\n",
              "58348          2018-07-23 13:27:00           2018-07-30 16:42:11   \n",
              "32239          2018-08-13 17:20:00           2018-08-21 17:41:09   \n",
              "\n",
              "      order_estimated_delivery_date  \n",
              "58348           2018-08-15 00:00:00  \n",
              "32239           2018-08-27 00:00:00  "
            ]
          },
          "execution_count": 6,
          "metadata": {},
          "output_type": "execute_result"
        }
      ],
      "source": [
        "orders.sample(2)"
      ]
    },
    {
      "cell_type": "code",
      "execution_count": null,
      "metadata": {},
      "outputs": [],
      "source": [
        "orders['delivery_time'] = (orders.order_delivered_customer_date - orders.order_approved_at).dt.days\n",
        "# del_time.apply(lambda x: x.total_seconds())/86400\n",
        "orders.describe()"
      ]
    },
    {
      "cell_type": "code",
      "execution_count": 8,
      "metadata": {},
      "outputs": [
        {
          "data": {
            "text/html": [
              "<div>\n",
              "<style scoped>\n",
              "    .dataframe tbody tr th:only-of-type {\n",
              "        vertical-align: middle;\n",
              "    }\n",
              "\n",
              "    .dataframe tbody tr th {\n",
              "        vertical-align: top;\n",
              "    }\n",
              "\n",
              "    .dataframe thead th {\n",
              "        text-align: right;\n",
              "    }\n",
              "</style>\n",
              "<table border=\"1\" class=\"dataframe\">\n",
              "  <thead>\n",
              "    <tr style=\"text-align: right;\">\n",
              "      <th></th>\n",
              "      <th>order_id</th>\n",
              "      <th>customer_id</th>\n",
              "      <th>order_status</th>\n",
              "      <th>order_purchase_timestamp</th>\n",
              "      <th>order_approved_at</th>\n",
              "      <th>order_delivered_carrier_date</th>\n",
              "      <th>order_delivered_customer_date</th>\n",
              "      <th>order_estimated_delivery_date</th>\n",
              "      <th>order_item_id</th>\n",
              "      <th>product_id</th>\n",
              "      <th>seller_id</th>\n",
              "      <th>shipping_limit_date</th>\n",
              "      <th>price</th>\n",
              "      <th>freight_value</th>\n",
              "      <th>total_price</th>\n",
              "    </tr>\n",
              "  </thead>\n",
              "  <tbody>\n",
              "    <tr>\n",
              "      <th>34750</th>\n",
              "      <td>b778b1973ac33ebdb97a4d9b25426c61</td>\n",
              "      <td>8e64ee8a8087e2105aacb3eb1611242b</td>\n",
              "      <td>delivered</td>\n",
              "      <td>2017-04-21 11:51:07</td>\n",
              "      <td>2017-04-24 16:30:20</td>\n",
              "      <td>2017-04-25 11:47:58</td>\n",
              "      <td>2017-05-03 11:54:40</td>\n",
              "      <td>2017-05-30 00:00:00</td>\n",
              "      <td>1</td>\n",
              "      <td>ebee6703e867082f455a058a8bd04092</td>\n",
              "      <td>fc906263ca5083d09dce42fe02247800</td>\n",
              "      <td>2017-04-28 16:30:20</td>\n",
              "      <td>39.0</td>\n",
              "      <td>20.80</td>\n",
              "      <td>39.0</td>\n",
              "    </tr>\n",
              "    <tr>\n",
              "      <th>31729</th>\n",
              "      <td>9d861ac27142c9f86a4787f50247f486</td>\n",
              "      <td>dda506e73a7b3cad2ce4b09e0ffb5e68</td>\n",
              "      <td>delivered</td>\n",
              "      <td>2017-07-20 17:32:44</td>\n",
              "      <td>2017-07-20 17:45:18</td>\n",
              "      <td>2017-07-25 21:47:44</td>\n",
              "      <td>2017-08-14 13:13:36</td>\n",
              "      <td>2017-08-21 00:00:00</td>\n",
              "      <td>1</td>\n",
              "      <td>965ed8ce606fae58ee076e77023d9a0b</td>\n",
              "      <td>fa1c13f2614d7b5c4749cbc52fecda94</td>\n",
              "      <td>2017-07-26 17:45:18</td>\n",
              "      <td>259.9</td>\n",
              "      <td>18.26</td>\n",
              "      <td>259.9</td>\n",
              "    </tr>\n",
              "    <tr>\n",
              "      <th>2370</th>\n",
              "      <td>4f248cce45f86c074a86cbf117d2b1b5</td>\n",
              "      <td>78b62d86956ff92fb90758963d061c6b</td>\n",
              "      <td>delivered</td>\n",
              "      <td>2018-06-17 20:16:55</td>\n",
              "      <td>2018-06-17 20:33:53</td>\n",
              "      <td>2018-06-20 12:16:00</td>\n",
              "      <td>2018-06-21 16:32:17</td>\n",
              "      <td>2018-07-26 00:00:00</td>\n",
              "      <td>1</td>\n",
              "      <td>ae5f5d4cad780bc59652d9ca6ba3b1a7</td>\n",
              "      <td>89f69225956f951295ca4c7fb1266553</td>\n",
              "      <td>2018-06-21 20:31:25</td>\n",
              "      <td>79.9</td>\n",
              "      <td>14.72</td>\n",
              "      <td>79.9</td>\n",
              "    </tr>\n",
              "    <tr>\n",
              "      <th>92584</th>\n",
              "      <td>f77069f53023a7b046bf919f50bb2dd7</td>\n",
              "      <td>17dd52ad2465bdedb0c78d744ba82f84</td>\n",
              "      <td>delivered</td>\n",
              "      <td>2017-12-06 14:17:39</td>\n",
              "      <td>2017-12-06 14:32:04</td>\n",
              "      <td>2017-12-07 16:52:20</td>\n",
              "      <td>2017-12-18 21:18:54</td>\n",
              "      <td>2018-01-08 00:00:00</td>\n",
              "      <td>2</td>\n",
              "      <td>9a803c36a15de3fd981f42c0e4cabdea</td>\n",
              "      <td>c3cfdc648177fdbbbb35635a37472c53</td>\n",
              "      <td>2017-12-14 14:30:31</td>\n",
              "      <td>148.9</td>\n",
              "      <td>36.40</td>\n",
              "      <td>297.8</td>\n",
              "    </tr>\n",
              "    <tr>\n",
              "      <th>94701</th>\n",
              "      <td>61d54e16685b5da6db2e220e6588c376</td>\n",
              "      <td>21ce8c10c9805097875674f79709391b</td>\n",
              "      <td>delivered</td>\n",
              "      <td>2018-07-18 11:43:20</td>\n",
              "      <td>2018-07-18 11:55:16</td>\n",
              "      <td>2018-07-20 11:12:00</td>\n",
              "      <td>2018-07-25 15:26:28</td>\n",
              "      <td>2018-08-14 00:00:00</td>\n",
              "      <td>1</td>\n",
              "      <td>79161ecc0839d5d58374918d289ee6c7</td>\n",
              "      <td>5795aebfe331fbcd02a2c4b679fb7952</td>\n",
              "      <td>2018-07-24 11:55:16</td>\n",
              "      <td>185.0</td>\n",
              "      <td>18.23</td>\n",
              "      <td>185.0</td>\n",
              "    </tr>\n",
              "  </tbody>\n",
              "</table>\n",
              "</div>"
            ],
            "text/plain": [
              "                               order_id                       customer_id  \\\n",
              "34750  b778b1973ac33ebdb97a4d9b25426c61  8e64ee8a8087e2105aacb3eb1611242b   \n",
              "31729  9d861ac27142c9f86a4787f50247f486  dda506e73a7b3cad2ce4b09e0ffb5e68   \n",
              "2370   4f248cce45f86c074a86cbf117d2b1b5  78b62d86956ff92fb90758963d061c6b   \n",
              "92584  f77069f53023a7b046bf919f50bb2dd7  17dd52ad2465bdedb0c78d744ba82f84   \n",
              "94701  61d54e16685b5da6db2e220e6588c376  21ce8c10c9805097875674f79709391b   \n",
              "\n",
              "      order_status order_purchase_timestamp    order_approved_at  \\\n",
              "34750    delivered      2017-04-21 11:51:07  2017-04-24 16:30:20   \n",
              "31729    delivered      2017-07-20 17:32:44  2017-07-20 17:45:18   \n",
              "2370     delivered      2018-06-17 20:16:55  2018-06-17 20:33:53   \n",
              "92584    delivered      2017-12-06 14:17:39  2017-12-06 14:32:04   \n",
              "94701    delivered      2018-07-18 11:43:20  2018-07-18 11:55:16   \n",
              "\n",
              "      order_delivered_carrier_date order_delivered_customer_date  \\\n",
              "34750          2017-04-25 11:47:58           2017-05-03 11:54:40   \n",
              "31729          2017-07-25 21:47:44           2017-08-14 13:13:36   \n",
              "2370           2018-06-20 12:16:00           2018-06-21 16:32:17   \n",
              "92584          2017-12-07 16:52:20           2017-12-18 21:18:54   \n",
              "94701          2018-07-20 11:12:00           2018-07-25 15:26:28   \n",
              "\n",
              "      order_estimated_delivery_date  order_item_id  \\\n",
              "34750           2017-05-30 00:00:00              1   \n",
              "31729           2017-08-21 00:00:00              1   \n",
              "2370            2018-07-26 00:00:00              1   \n",
              "92584           2018-01-08 00:00:00              2   \n",
              "94701           2018-08-14 00:00:00              1   \n",
              "\n",
              "                             product_id                         seller_id  \\\n",
              "34750  ebee6703e867082f455a058a8bd04092  fc906263ca5083d09dce42fe02247800   \n",
              "31729  965ed8ce606fae58ee076e77023d9a0b  fa1c13f2614d7b5c4749cbc52fecda94   \n",
              "2370   ae5f5d4cad780bc59652d9ca6ba3b1a7  89f69225956f951295ca4c7fb1266553   \n",
              "92584  9a803c36a15de3fd981f42c0e4cabdea  c3cfdc648177fdbbbb35635a37472c53   \n",
              "94701  79161ecc0839d5d58374918d289ee6c7  5795aebfe331fbcd02a2c4b679fb7952   \n",
              "\n",
              "       shipping_limit_date  price  freight_value  total_price  \n",
              "34750  2017-04-28 16:30:20   39.0          20.80         39.0  \n",
              "31729  2017-07-26 17:45:18  259.9          18.26        259.9  \n",
              "2370   2018-06-21 20:31:25   79.9          14.72         79.9  \n",
              "92584  2017-12-14 14:30:31  148.9          36.40        297.8  \n",
              "94701  2018-07-24 11:55:16  185.0          18.23        185.0  "
            ]
          },
          "execution_count": 8,
          "metadata": {},
          "output_type": "execute_result"
        }
      ],
      "source": [
        "orders_items = pd.merge(left=orders, right=order_items, on='order_id', how='inner')\n",
        "orders_items['total_price'] = orders_items.order_item_id * orders_items.price\n",
        "orders_items.sample(5)"
      ]
    },
    {
      "cell_type": "code",
      "execution_count": 9,
      "metadata": {},
      "outputs": [
        {
          "name": "stdout",
          "output_type": "stream",
          "text": [
            "(117601, 19)\n"
          ]
        },
        {
          "data": {
            "text/html": [
              "<div>\n",
              "<style scoped>\n",
              "    .dataframe tbody tr th:only-of-type {\n",
              "        vertical-align: middle;\n",
              "    }\n",
              "\n",
              "    .dataframe tbody tr th {\n",
              "        vertical-align: top;\n",
              "    }\n",
              "\n",
              "    .dataframe thead th {\n",
              "        text-align: right;\n",
              "    }\n",
              "</style>\n",
              "<table border=\"1\" class=\"dataframe\">\n",
              "  <thead>\n",
              "    <tr style=\"text-align: right;\">\n",
              "      <th></th>\n",
              "      <th>order_id</th>\n",
              "      <th>customer_id</th>\n",
              "      <th>order_status</th>\n",
              "      <th>order_purchase_timestamp</th>\n",
              "      <th>order_approved_at</th>\n",
              "      <th>order_delivered_carrier_date</th>\n",
              "      <th>order_delivered_customer_date</th>\n",
              "      <th>order_estimated_delivery_date</th>\n",
              "      <th>order_item_id</th>\n",
              "      <th>product_id</th>\n",
              "      <th>seller_id</th>\n",
              "      <th>shipping_limit_date</th>\n",
              "      <th>price</th>\n",
              "      <th>freight_value</th>\n",
              "      <th>total_price</th>\n",
              "      <th>payment_sequential</th>\n",
              "      <th>payment_type</th>\n",
              "      <th>payment_installments</th>\n",
              "      <th>payment_value</th>\n",
              "    </tr>\n",
              "  </thead>\n",
              "  <tbody>\n",
              "    <tr>\n",
              "      <th>43305</th>\n",
              "      <td>6112465ce26bd647dea31c662d04cbde</td>\n",
              "      <td>a053b95d32607c31f7a02ddc583b7e49</td>\n",
              "      <td>delivered</td>\n",
              "      <td>2018-03-03 12:04:13</td>\n",
              "      <td>2018-03-03 12:15:42</td>\n",
              "      <td>2018-03-05 19:42:45</td>\n",
              "      <td>2018-03-09 01:49:21</td>\n",
              "      <td>2018-03-22 00:00:00</td>\n",
              "      <td>1</td>\n",
              "      <td>a237de12bdf0bfe4fe220bae65a89731</td>\n",
              "      <td>6c7d50c24b3ccd2fd83b44d8bb34e073</td>\n",
              "      <td>2018-03-08 12:15:42</td>\n",
              "      <td>45.91</td>\n",
              "      <td>13.37</td>\n",
              "      <td>45.91</td>\n",
              "      <td>1</td>\n",
              "      <td>credit_card</td>\n",
              "      <td>2</td>\n",
              "      <td>118.56</td>\n",
              "    </tr>\n",
              "    <tr>\n",
              "      <th>107282</th>\n",
              "      <td>eaa755795bc07ae1c3d55d7f6efe1dfc</td>\n",
              "      <td>4f6d55f91cc55993f83d3f289af748ff</td>\n",
              "      <td>delivered</td>\n",
              "      <td>2018-02-09 09:45:41</td>\n",
              "      <td>2018-02-10 02:35:47</td>\n",
              "      <td>2018-02-16 16:56:34</td>\n",
              "      <td>2018-02-26 20:19:06</td>\n",
              "      <td>2018-03-07 00:00:00</td>\n",
              "      <td>1</td>\n",
              "      <td>08c816d9a716567bf436173ef6f5f12e</td>\n",
              "      <td>5656537e588803a555b8eb41f07a944b</td>\n",
              "      <td>2018-02-15 02:35:47</td>\n",
              "      <td>19.89</td>\n",
              "      <td>17.63</td>\n",
              "      <td>19.89</td>\n",
              "      <td>1</td>\n",
              "      <td>boleto</td>\n",
              "      <td>1</td>\n",
              "      <td>37.52</td>\n",
              "    </tr>\n",
              "    <tr>\n",
              "      <th>22880</th>\n",
              "      <td>bb780b0ed67fce7c92b2772fde29bc6e</td>\n",
              "      <td>a13b59f2362357007db99730023baa32</td>\n",
              "      <td>delivered</td>\n",
              "      <td>2017-02-05 14:23:56</td>\n",
              "      <td>2017-02-07 04:05:12</td>\n",
              "      <td>2017-02-09 05:25:41</td>\n",
              "      <td>2017-02-15 17:06:05</td>\n",
              "      <td>2017-03-01 00:00:00</td>\n",
              "      <td>1</td>\n",
              "      <td>26c574b434aeee44ae054dcb540f2ebe</td>\n",
              "      <td>7b0df942f46435babab05d49b744b2c4</td>\n",
              "      <td>2017-02-09 14:23:56</td>\n",
              "      <td>290.47</td>\n",
              "      <td>14.61</td>\n",
              "      <td>290.47</td>\n",
              "      <td>1</td>\n",
              "      <td>boleto</td>\n",
              "      <td>1</td>\n",
              "      <td>305.08</td>\n",
              "    </tr>\n",
              "  </tbody>\n",
              "</table>\n",
              "</div>"
            ],
            "text/plain": [
              "                                order_id                       customer_id  \\\n",
              "43305   6112465ce26bd647dea31c662d04cbde  a053b95d32607c31f7a02ddc583b7e49   \n",
              "107282  eaa755795bc07ae1c3d55d7f6efe1dfc  4f6d55f91cc55993f83d3f289af748ff   \n",
              "22880   bb780b0ed67fce7c92b2772fde29bc6e  a13b59f2362357007db99730023baa32   \n",
              "\n",
              "       order_status order_purchase_timestamp    order_approved_at  \\\n",
              "43305     delivered      2018-03-03 12:04:13  2018-03-03 12:15:42   \n",
              "107282    delivered      2018-02-09 09:45:41  2018-02-10 02:35:47   \n",
              "22880     delivered      2017-02-05 14:23:56  2017-02-07 04:05:12   \n",
              "\n",
              "       order_delivered_carrier_date order_delivered_customer_date  \\\n",
              "43305           2018-03-05 19:42:45           2018-03-09 01:49:21   \n",
              "107282          2018-02-16 16:56:34           2018-02-26 20:19:06   \n",
              "22880           2017-02-09 05:25:41           2017-02-15 17:06:05   \n",
              "\n",
              "       order_estimated_delivery_date  order_item_id  \\\n",
              "43305            2018-03-22 00:00:00              1   \n",
              "107282           2018-03-07 00:00:00              1   \n",
              "22880            2017-03-01 00:00:00              1   \n",
              "\n",
              "                              product_id                         seller_id  \\\n",
              "43305   a237de12bdf0bfe4fe220bae65a89731  6c7d50c24b3ccd2fd83b44d8bb34e073   \n",
              "107282  08c816d9a716567bf436173ef6f5f12e  5656537e588803a555b8eb41f07a944b   \n",
              "22880   26c574b434aeee44ae054dcb540f2ebe  7b0df942f46435babab05d49b744b2c4   \n",
              "\n",
              "        shipping_limit_date   price  freight_value  total_price  \\\n",
              "43305   2018-03-08 12:15:42   45.91          13.37        45.91   \n",
              "107282  2018-02-15 02:35:47   19.89          17.63        19.89   \n",
              "22880   2017-02-09 14:23:56  290.47          14.61       290.47   \n",
              "\n",
              "        payment_sequential payment_type  payment_installments  payment_value  \n",
              "43305                    1  credit_card                     2         118.56  \n",
              "107282                   1       boleto                     1          37.52  \n",
              "22880                    1       boleto                     1         305.08  "
            ]
          },
          "execution_count": 9,
          "metadata": {},
          "output_type": "execute_result"
        }
      ],
      "source": [
        "orders_items_payments = pd.merge(left=orders_items, right=order_payments, on='order_id')\n",
        "print(orders_items_payments.shape)\n",
        "orders_items_payments.sample(3)\n",
        "# world.continent.value_counts()"
      ]
    },
    {
      "cell_type": "code",
      "execution_count": 10,
      "metadata": {},
      "outputs": [
        {
          "data": {
            "text/html": [
              "<div>\n",
              "<style scoped>\n",
              "    .dataframe tbody tr th:only-of-type {\n",
              "        vertical-align: middle;\n",
              "    }\n",
              "\n",
              "    .dataframe tbody tr th {\n",
              "        vertical-align: top;\n",
              "    }\n",
              "\n",
              "    .dataframe thead th {\n",
              "        text-align: right;\n",
              "    }\n",
              "</style>\n",
              "<table border=\"1\" class=\"dataframe\">\n",
              "  <thead>\n",
              "    <tr style=\"text-align: right;\">\n",
              "      <th></th>\n",
              "      <th>order_id</th>\n",
              "      <th>customer_id</th>\n",
              "      <th>order_status</th>\n",
              "      <th>order_purchase_timestamp</th>\n",
              "      <th>order_approved_at</th>\n",
              "      <th>order_delivered_carrier_date</th>\n",
              "      <th>order_delivered_customer_date</th>\n",
              "      <th>order_estimated_delivery_date</th>\n",
              "      <th>order_item_id</th>\n",
              "      <th>product_id</th>\n",
              "      <th>...</th>\n",
              "      <th>payment_sequential</th>\n",
              "      <th>payment_type</th>\n",
              "      <th>payment_installments</th>\n",
              "      <th>payment_value</th>\n",
              "      <th>review_id</th>\n",
              "      <th>review_score</th>\n",
              "      <th>review_comment_title</th>\n",
              "      <th>review_comment_message</th>\n",
              "      <th>review_creation_date</th>\n",
              "      <th>review_answer_timestamp</th>\n",
              "    </tr>\n",
              "  </thead>\n",
              "  <tbody>\n",
              "    <tr>\n",
              "      <th>39863</th>\n",
              "      <td>ecdc847ed73d804147eb009dec3a0a0c</td>\n",
              "      <td>c6a9becaa9e9a12a50b0f9ec880b67d3</td>\n",
              "      <td>delivered</td>\n",
              "      <td>2017-05-11 07:17:44</td>\n",
              "      <td>2017-05-11 08:02:32</td>\n",
              "      <td>2017-05-11 10:12:05</td>\n",
              "      <td>2017-05-12 14:52:54</td>\n",
              "      <td>2017-05-22 00:00:00</td>\n",
              "      <td>1</td>\n",
              "      <td>25d6edcd216a9ee579f19f92d694f7d5</td>\n",
              "      <td>...</td>\n",
              "      <td>1</td>\n",
              "      <td>credit_card</td>\n",
              "      <td>2</td>\n",
              "      <td>20.75</td>\n",
              "      <td>9ad64902b6c9bfad48bbe4d17e4dcb4b</td>\n",
              "      <td>4</td>\n",
              "      <td>NaN</td>\n",
              "      <td>Entrega super rápida, parabéns!</td>\n",
              "      <td>2017-05-13 00:00:00</td>\n",
              "      <td>2017-05-14 14:37:54</td>\n",
              "    </tr>\n",
              "    <tr>\n",
              "      <th>54454</th>\n",
              "      <td>43e1cbf9959b24b39acb40a44ff3655b</td>\n",
              "      <td>cbf080b962ac028e6a6ee3ad5419ff05</td>\n",
              "      <td>delivered</td>\n",
              "      <td>2018-05-06 13:04:09</td>\n",
              "      <td>2018-05-06 13:33:04</td>\n",
              "      <td>2018-05-07 15:11:00</td>\n",
              "      <td>2018-05-08 20:14:49</td>\n",
              "      <td>2018-06-07 00:00:00</td>\n",
              "      <td>1</td>\n",
              "      <td>b53de21d6ac42f6bc21b82af0e89a002</td>\n",
              "      <td>...</td>\n",
              "      <td>1</td>\n",
              "      <td>credit_card</td>\n",
              "      <td>3</td>\n",
              "      <td>78.72</td>\n",
              "      <td>7d0474879bbf5803661c0065c02c71c0</td>\n",
              "      <td>5</td>\n",
              "      <td>NaN</td>\n",
              "      <td>NaN</td>\n",
              "      <td>2018-05-09 00:00:00</td>\n",
              "      <td>2018-05-13 23:37:01</td>\n",
              "    </tr>\n",
              "    <tr>\n",
              "      <th>6652</th>\n",
              "      <td>2ee77ee9cd8288db14b7af33ba98c163</td>\n",
              "      <td>196f17bb795d8e0ce677230cc1781059</td>\n",
              "      <td>delivered</td>\n",
              "      <td>2017-10-20 13:15:37</td>\n",
              "      <td>2017-10-20 13:28:07</td>\n",
              "      <td>2017-10-20 20:22:37</td>\n",
              "      <td>2017-10-21 15:43:44</td>\n",
              "      <td>2017-11-01 00:00:00</td>\n",
              "      <td>1</td>\n",
              "      <td>17a019676883dce326999c11a46a14f0</td>\n",
              "      <td>...</td>\n",
              "      <td>1</td>\n",
              "      <td>credit_card</td>\n",
              "      <td>1</td>\n",
              "      <td>31.77</td>\n",
              "      <td>2040f26b60ebec871246a85e13e90ff6</td>\n",
              "      <td>5</td>\n",
              "      <td>NaN</td>\n",
              "      <td>a entrega foi rapida</td>\n",
              "      <td>2017-10-22 00:00:00</td>\n",
              "      <td>2017-10-27 16:41:50</td>\n",
              "    </tr>\n",
              "  </tbody>\n",
              "</table>\n",
              "<p>3 rows × 25 columns</p>\n",
              "</div>"
            ],
            "text/plain": [
              "                               order_id                       customer_id  \\\n",
              "39863  ecdc847ed73d804147eb009dec3a0a0c  c6a9becaa9e9a12a50b0f9ec880b67d3   \n",
              "54454  43e1cbf9959b24b39acb40a44ff3655b  cbf080b962ac028e6a6ee3ad5419ff05   \n",
              "6652   2ee77ee9cd8288db14b7af33ba98c163  196f17bb795d8e0ce677230cc1781059   \n",
              "\n",
              "      order_status order_purchase_timestamp    order_approved_at  \\\n",
              "39863    delivered      2017-05-11 07:17:44  2017-05-11 08:02:32   \n",
              "54454    delivered      2018-05-06 13:04:09  2018-05-06 13:33:04   \n",
              "6652     delivered      2017-10-20 13:15:37  2017-10-20 13:28:07   \n",
              "\n",
              "      order_delivered_carrier_date order_delivered_customer_date  \\\n",
              "39863          2017-05-11 10:12:05           2017-05-12 14:52:54   \n",
              "54454          2018-05-07 15:11:00           2018-05-08 20:14:49   \n",
              "6652           2017-10-20 20:22:37           2017-10-21 15:43:44   \n",
              "\n",
              "      order_estimated_delivery_date  order_item_id  \\\n",
              "39863           2017-05-22 00:00:00              1   \n",
              "54454           2018-06-07 00:00:00              1   \n",
              "6652            2017-11-01 00:00:00              1   \n",
              "\n",
              "                             product_id  ... payment_sequential payment_type  \\\n",
              "39863  25d6edcd216a9ee579f19f92d694f7d5  ...                  1  credit_card   \n",
              "54454  b53de21d6ac42f6bc21b82af0e89a002  ...                  1  credit_card   \n",
              "6652   17a019676883dce326999c11a46a14f0  ...                  1  credit_card   \n",
              "\n",
              "       payment_installments  payment_value                         review_id  \\\n",
              "39863                     2          20.75  9ad64902b6c9bfad48bbe4d17e4dcb4b   \n",
              "54454                     3          78.72  7d0474879bbf5803661c0065c02c71c0   \n",
              "6652                      1          31.77  2040f26b60ebec871246a85e13e90ff6   \n",
              "\n",
              "       review_score review_comment_title           review_comment_message  \\\n",
              "39863             4                  NaN  Entrega super rápida, parabéns!   \n",
              "54454             5                  NaN                              NaN   \n",
              "6652              5                  NaN             a entrega foi rapida   \n",
              "\n",
              "       review_creation_date review_answer_timestamp  \n",
              "39863   2017-05-13 00:00:00     2017-05-14 14:37:54  \n",
              "54454   2018-05-09 00:00:00     2018-05-13 23:37:01  \n",
              "6652    2017-10-22 00:00:00     2017-10-27 16:41:50  \n",
              "\n",
              "[3 rows x 25 columns]"
            ]
          },
          "execution_count": 10,
          "metadata": {},
          "output_type": "execute_result"
        }
      ],
      "source": [
        "all_orders = pd.merge(left=orders_items_payments, right=order_reviews, on='order_id')\n",
        "all_orders.sample(3)"
      ]
    },
    {
      "cell_type": "code",
      "execution_count": 11,
      "metadata": {},
      "outputs": [
        {
          "data": {
            "text/plain": [
              "cust_status\n",
              "Active    99441\n",
              "Name: count, dtype: int64"
            ]
          },
          "execution_count": 11,
          "metadata": {},
          "output_type": "execute_result"
        }
      ],
      "source": [
        "cust_list = customers.customer_id.to_list()\n",
        "customers['cust_status'] = orders.customer_id.apply(lambda x: \"Active\" if x in cust_list else \"In-Active\")\n",
        "\n",
        "customers.cust_status.value_counts()"
      ]
    },
    {
      "cell_type": "markdown",
      "metadata": {},
      "source": [
        "#### Explore Products"
      ]
    },
    {
      "cell_type": "code",
      "execution_count": 53,
      "metadata": {},
      "outputs": [
        {
          "name": "stdout",
          "output_type": "stream",
          "text": [
            "(32951, 9)\n"
          ]
        },
        {
          "data": {
            "text/html": [
              "<div>\n",
              "<style scoped>\n",
              "    .dataframe tbody tr th:only-of-type {\n",
              "        vertical-align: middle;\n",
              "    }\n",
              "\n",
              "    .dataframe tbody tr th {\n",
              "        vertical-align: top;\n",
              "    }\n",
              "\n",
              "    .dataframe thead th {\n",
              "        text-align: right;\n",
              "    }\n",
              "</style>\n",
              "<table border=\"1\" class=\"dataframe\">\n",
              "  <thead>\n",
              "    <tr style=\"text-align: right;\">\n",
              "      <th></th>\n",
              "      <th>product_id</th>\n",
              "      <th>product_category_name</th>\n",
              "      <th>product_name_lenght</th>\n",
              "      <th>product_description_lenght</th>\n",
              "      <th>product_photos_qty</th>\n",
              "      <th>product_weight_g</th>\n",
              "      <th>product_length_cm</th>\n",
              "      <th>product_height_cm</th>\n",
              "      <th>product_width_cm</th>\n",
              "    </tr>\n",
              "  </thead>\n",
              "  <tbody>\n",
              "    <tr>\n",
              "      <th>29747</th>\n",
              "      <td>d9ef8862928998b3921fa52eb30c5fe2</td>\n",
              "      <td>beleza_saude</td>\n",
              "      <td>42.0</td>\n",
              "      <td>361.0</td>\n",
              "      <td>1.0</td>\n",
              "      <td>100.0</td>\n",
              "      <td>27.0</td>\n",
              "      <td>28.0</td>\n",
              "      <td>27.0</td>\n",
              "    </tr>\n",
              "    <tr>\n",
              "      <th>20896</th>\n",
              "      <td>86003fbbec2202f29e74ada517cec5a8</td>\n",
              "      <td>cama_mesa_banho</td>\n",
              "      <td>47.0</td>\n",
              "      <td>117.0</td>\n",
              "      <td>1.0</td>\n",
              "      <td>300.0</td>\n",
              "      <td>40.0</td>\n",
              "      <td>4.0</td>\n",
              "      <td>30.0</td>\n",
              "    </tr>\n",
              "    <tr>\n",
              "      <th>20342</th>\n",
              "      <td>dd12ee0c5287865a05d9a873944680bc</td>\n",
              "      <td>ferramentas_jardim</td>\n",
              "      <td>26.0</td>\n",
              "      <td>201.0</td>\n",
              "      <td>1.0</td>\n",
              "      <td>500.0</td>\n",
              "      <td>16.0</td>\n",
              "      <td>21.0</td>\n",
              "      <td>11.0</td>\n",
              "    </tr>\n",
              "  </tbody>\n",
              "</table>\n",
              "</div>"
            ],
            "text/plain": [
              "                             product_id product_category_name  \\\n",
              "29747  d9ef8862928998b3921fa52eb30c5fe2          beleza_saude   \n",
              "20896  86003fbbec2202f29e74ada517cec5a8       cama_mesa_banho   \n",
              "20342  dd12ee0c5287865a05d9a873944680bc    ferramentas_jardim   \n",
              "\n",
              "       product_name_lenght  product_description_lenght  product_photos_qty  \\\n",
              "29747                 42.0                       361.0                 1.0   \n",
              "20896                 47.0                       117.0                 1.0   \n",
              "20342                 26.0                       201.0                 1.0   \n",
              "\n",
              "       product_weight_g  product_length_cm  product_height_cm  \\\n",
              "29747             100.0               27.0               28.0   \n",
              "20896             300.0               40.0                4.0   \n",
              "20342             500.0               16.0               21.0   \n",
              "\n",
              "       product_width_cm  \n",
              "29747              27.0  \n",
              "20896              30.0  \n",
              "20342              11.0  "
            ]
          },
          "execution_count": 53,
          "metadata": {},
          "output_type": "execute_result"
        }
      ],
      "source": [
        "print(products.shape)\n",
        "products.sample(3)"
      ]
    },
    {
      "cell_type": "code",
      "execution_count": 54,
      "metadata": {},
      "outputs": [
        {
          "name": "stdout",
          "output_type": "stream",
          "text": [
            "(71, 2)\n"
          ]
        },
        {
          "data": {
            "text/html": [
              "<div>\n",
              "<style scoped>\n",
              "    .dataframe tbody tr th:only-of-type {\n",
              "        vertical-align: middle;\n",
              "    }\n",
              "\n",
              "    .dataframe tbody tr th {\n",
              "        vertical-align: top;\n",
              "    }\n",
              "\n",
              "    .dataframe thead th {\n",
              "        text-align: right;\n",
              "    }\n",
              "</style>\n",
              "<table border=\"1\" class=\"dataframe\">\n",
              "  <thead>\n",
              "    <tr style=\"text-align: right;\">\n",
              "      <th></th>\n",
              "      <th>product_category_name</th>\n",
              "      <th>product_category_name_english</th>\n",
              "    </tr>\n",
              "  </thead>\n",
              "  <tbody>\n",
              "    <tr>\n",
              "      <th>37</th>\n",
              "      <td>agro_industria_e_comercio</td>\n",
              "      <td>agro_industry_and_commerce</td>\n",
              "    </tr>\n",
              "    <tr>\n",
              "      <th>58</th>\n",
              "      <td>bebidas</td>\n",
              "      <td>drinks</td>\n",
              "    </tr>\n",
              "    <tr>\n",
              "      <th>67</th>\n",
              "      <td>artes_e_artesanato</td>\n",
              "      <td>arts_and_craftmanship</td>\n",
              "    </tr>\n",
              "  </tbody>\n",
              "</table>\n",
              "</div>"
            ],
            "text/plain": [
              "        product_category_name product_category_name_english\n",
              "37  agro_industria_e_comercio    agro_industry_and_commerce\n",
              "58                    bebidas                        drinks\n",
              "67         artes_e_artesanato         arts_and_craftmanship"
            ]
          },
          "execution_count": 54,
          "metadata": {},
          "output_type": "execute_result"
        }
      ],
      "source": [
        "print(product_cat_name.shape)\n",
        "product_cat_name.sample(3)"
      ]
    },
    {
      "cell_type": "code",
      "execution_count": 13,
      "metadata": {},
      "outputs": [
        {
          "name": "stdout",
          "output_type": "stream",
          "text": [
            "(32328, 10)\n"
          ]
        },
        {
          "data": {
            "text/html": [
              "<div>\n",
              "<style scoped>\n",
              "    .dataframe tbody tr th:only-of-type {\n",
              "        vertical-align: middle;\n",
              "    }\n",
              "\n",
              "    .dataframe tbody tr th {\n",
              "        vertical-align: top;\n",
              "    }\n",
              "\n",
              "    .dataframe thead th {\n",
              "        text-align: right;\n",
              "    }\n",
              "</style>\n",
              "<table border=\"1\" class=\"dataframe\">\n",
              "  <thead>\n",
              "    <tr style=\"text-align: right;\">\n",
              "      <th></th>\n",
              "      <th>product_id</th>\n",
              "      <th>product_category_name</th>\n",
              "      <th>product_name_lenght</th>\n",
              "      <th>product_description_lenght</th>\n",
              "      <th>product_photos_qty</th>\n",
              "      <th>product_weight_g</th>\n",
              "      <th>product_length_cm</th>\n",
              "      <th>product_height_cm</th>\n",
              "      <th>product_width_cm</th>\n",
              "      <th>product_category_name_english</th>\n",
              "    </tr>\n",
              "  </thead>\n",
              "  <tbody>\n",
              "    <tr>\n",
              "      <th>24553</th>\n",
              "      <td>e122fc0e32b49bd6dec4d37d5d90691d</td>\n",
              "      <td>telefonia</td>\n",
              "      <td>58.0</td>\n",
              "      <td>1235.0</td>\n",
              "      <td>2.0</td>\n",
              "      <td>350.0</td>\n",
              "      <td>21.0</td>\n",
              "      <td>11.0</td>\n",
              "      <td>13.0</td>\n",
              "      <td>telephony</td>\n",
              "    </tr>\n",
              "    <tr>\n",
              "      <th>19195</th>\n",
              "      <td>75d612dc15c03222d19962a082a6424e</td>\n",
              "      <td>beleza_saude</td>\n",
              "      <td>39.0</td>\n",
              "      <td>1259.0</td>\n",
              "      <td>1.0</td>\n",
              "      <td>115.0</td>\n",
              "      <td>16.0</td>\n",
              "      <td>12.0</td>\n",
              "      <td>13.0</td>\n",
              "      <td>health_beauty</td>\n",
              "    </tr>\n",
              "    <tr>\n",
              "      <th>8945</th>\n",
              "      <td>4744ba40fb4b128ffc1c6a753711f2f7</td>\n",
              "      <td>moveis_decoracao</td>\n",
              "      <td>50.0</td>\n",
              "      <td>2042.0</td>\n",
              "      <td>4.0</td>\n",
              "      <td>800.0</td>\n",
              "      <td>30.0</td>\n",
              "      <td>12.0</td>\n",
              "      <td>30.0</td>\n",
              "      <td>furniture_decor</td>\n",
              "    </tr>\n",
              "  </tbody>\n",
              "</table>\n",
              "</div>"
            ],
            "text/plain": [
              "                             product_id product_category_name  \\\n",
              "24553  e122fc0e32b49bd6dec4d37d5d90691d             telefonia   \n",
              "19195  75d612dc15c03222d19962a082a6424e          beleza_saude   \n",
              "8945   4744ba40fb4b128ffc1c6a753711f2f7      moveis_decoracao   \n",
              "\n",
              "       product_name_lenght  product_description_lenght  product_photos_qty  \\\n",
              "24553                 58.0                      1235.0                 2.0   \n",
              "19195                 39.0                      1259.0                 1.0   \n",
              "8945                  50.0                      2042.0                 4.0   \n",
              "\n",
              "       product_weight_g  product_length_cm  product_height_cm  \\\n",
              "24553             350.0               21.0               11.0   \n",
              "19195             115.0               16.0               12.0   \n",
              "8945              800.0               30.0               12.0   \n",
              "\n",
              "       product_width_cm product_category_name_english  \n",
              "24553              13.0                     telephony  \n",
              "19195              13.0                 health_beauty  \n",
              "8945               30.0               furniture_decor  "
            ]
          },
          "execution_count": 13,
          "metadata": {},
          "output_type": "execute_result"
        }
      ],
      "source": [
        "products_cat_name_translation = pd.merge(left=products, right=product_cat_name, on='product_category_name')\n",
        "print(products_cat_name_translation.shape)\n",
        "products_cat_name_translation.sample(3)"
      ]
    },
    {
      "cell_type": "markdown",
      "metadata": {},
      "source": [
        "#### Explore Seller"
      ]
    },
    {
      "cell_type": "code",
      "execution_count": 3,
      "metadata": {},
      "outputs": [
        {
          "data": {
            "text/html": [
              "<div>\n",
              "<style scoped>\n",
              "    .dataframe tbody tr th:only-of-type {\n",
              "        vertical-align: middle;\n",
              "    }\n",
              "\n",
              "    .dataframe tbody tr th {\n",
              "        vertical-align: top;\n",
              "    }\n",
              "\n",
              "    .dataframe thead th {\n",
              "        text-align: right;\n",
              "    }\n",
              "</style>\n",
              "<table border=\"1\" class=\"dataframe\">\n",
              "  <thead>\n",
              "    <tr style=\"text-align: right;\">\n",
              "      <th></th>\n",
              "      <th>seller_id</th>\n",
              "      <th>seller_zip_code_prefix</th>\n",
              "      <th>seller_city</th>\n",
              "      <th>seller_state</th>\n",
              "    </tr>\n",
              "  </thead>\n",
              "  <tbody>\n",
              "    <tr>\n",
              "      <th>0</th>\n",
              "      <td>3442f8959a84dea7ee197c632cb2df15</td>\n",
              "      <td>13023</td>\n",
              "      <td>campinas</td>\n",
              "      <td>SP</td>\n",
              "    </tr>\n",
              "    <tr>\n",
              "      <th>1</th>\n",
              "      <td>d1b65fc7debc3361ea86b5f14c68d2e2</td>\n",
              "      <td>13844</td>\n",
              "      <td>mogi guacu</td>\n",
              "      <td>SP</td>\n",
              "    </tr>\n",
              "    <tr>\n",
              "      <th>2</th>\n",
              "      <td>ce3ad9de960102d0677a81f5d0bb7b2d</td>\n",
              "      <td>20031</td>\n",
              "      <td>rio de janeiro</td>\n",
              "      <td>RJ</td>\n",
              "    </tr>\n",
              "    <tr>\n",
              "      <th>3</th>\n",
              "      <td>c0f3eea2e14555b6faeea3dd58c1b1c3</td>\n",
              "      <td>4195</td>\n",
              "      <td>sao paulo</td>\n",
              "      <td>SP</td>\n",
              "    </tr>\n",
              "    <tr>\n",
              "      <th>4</th>\n",
              "      <td>51a04a8a6bdcb23deccc82b0b80742cf</td>\n",
              "      <td>12914</td>\n",
              "      <td>braganca paulista</td>\n",
              "      <td>SP</td>\n",
              "    </tr>\n",
              "  </tbody>\n",
              "</table>\n",
              "</div>"
            ],
            "text/plain": [
              "                          seller_id  seller_zip_code_prefix  \\\n",
              "0  3442f8959a84dea7ee197c632cb2df15                   13023   \n",
              "1  d1b65fc7debc3361ea86b5f14c68d2e2                   13844   \n",
              "2  ce3ad9de960102d0677a81f5d0bb7b2d                   20031   \n",
              "3  c0f3eea2e14555b6faeea3dd58c1b1c3                    4195   \n",
              "4  51a04a8a6bdcb23deccc82b0b80742cf                   12914   \n",
              "\n",
              "         seller_city seller_state  \n",
              "0           campinas           SP  \n",
              "1         mogi guacu           SP  \n",
              "2     rio de janeiro           RJ  \n",
              "3          sao paulo           SP  \n",
              "4  braganca paulista           SP  "
            ]
          },
          "execution_count": 3,
          "metadata": {},
          "output_type": "execute_result"
        }
      ],
      "source": [
        "# sellers.seller_city.value_counts().head(10).to_frame().reset_index().rename(columns={'count':'jumlah'})\n",
        "sellers.head()"
      ]
    },
    {
      "cell_type": "code",
      "execution_count": null,
      "metadata": {},
      "outputs": [],
      "source": []
    },
    {
      "cell_type": "markdown",
      "metadata": {},
      "source": [
        "#### Merger customer, order and product"
      ]
    },
    {
      "cell_type": "code",
      "execution_count": 14,
      "metadata": {},
      "outputs": [
        {
          "name": "stdout",
          "output_type": "stream",
          "text": [
            "(115609, 42)\n"
          ]
        },
        {
          "data": {
            "text/html": [
              "<div>\n",
              "<style scoped>\n",
              "    .dataframe tbody tr th:only-of-type {\n",
              "        vertical-align: middle;\n",
              "    }\n",
              "\n",
              "    .dataframe tbody tr th {\n",
              "        vertical-align: top;\n",
              "    }\n",
              "\n",
              "    .dataframe thead th {\n",
              "        text-align: right;\n",
              "    }\n",
              "</style>\n",
              "<table border=\"1\" class=\"dataframe\">\n",
              "  <thead>\n",
              "    <tr style=\"text-align: right;\">\n",
              "      <th></th>\n",
              "      <th>order_id</th>\n",
              "      <th>customer_id</th>\n",
              "      <th>order_status</th>\n",
              "      <th>order_purchase_timestamp</th>\n",
              "      <th>order_approved_at</th>\n",
              "      <th>order_delivered_carrier_date</th>\n",
              "      <th>order_delivered_customer_date</th>\n",
              "      <th>order_estimated_delivery_date</th>\n",
              "      <th>order_item_id</th>\n",
              "      <th>product_id</th>\n",
              "      <th>...</th>\n",
              "      <th>seller_state</th>\n",
              "      <th>product_category_name</th>\n",
              "      <th>product_name_lenght</th>\n",
              "      <th>product_description_lenght</th>\n",
              "      <th>product_photos_qty</th>\n",
              "      <th>product_weight_g</th>\n",
              "      <th>product_length_cm</th>\n",
              "      <th>product_height_cm</th>\n",
              "      <th>product_width_cm</th>\n",
              "      <th>product_category_name_english</th>\n",
              "    </tr>\n",
              "  </thead>\n",
              "  <tbody>\n",
              "    <tr>\n",
              "      <th>734</th>\n",
              "      <td>e04d2191af862183e0ebda80377a6a32</td>\n",
              "      <td>fd21c14f33f4bcdf2ac9b4073583ca64</td>\n",
              "      <td>delivered</td>\n",
              "      <td>2017-12-14 17:09:40</td>\n",
              "      <td>2017-12-14 17:31:51</td>\n",
              "      <td>2017-12-18 17:04:53</td>\n",
              "      <td>2017-12-21 18:04:19</td>\n",
              "      <td>2018-01-10 00:00:00</td>\n",
              "      <td>1</td>\n",
              "      <td>e0d64dcfaa3b6db5c54ca298ae101d05</td>\n",
              "      <td>...</td>\n",
              "      <td>SP</td>\n",
              "      <td>relogios_presentes</td>\n",
              "      <td>35.0</td>\n",
              "      <td>514.0</td>\n",
              "      <td>2.0</td>\n",
              "      <td>4338.0</td>\n",
              "      <td>17.0</td>\n",
              "      <td>12.0</td>\n",
              "      <td>14.0</td>\n",
              "      <td>watches_gifts</td>\n",
              "    </tr>\n",
              "    <tr>\n",
              "      <th>49559</th>\n",
              "      <td>6a222dfac7d7cbc4463522eff76e870d</td>\n",
              "      <td>80e0e62eee969f07d409129a5b2908fb</td>\n",
              "      <td>delivered</td>\n",
              "      <td>2017-12-13 19:13:50</td>\n",
              "      <td>2017-12-13 19:30:26</td>\n",
              "      <td>2017-12-15 22:32:36</td>\n",
              "      <td>2017-12-21 20:19:00</td>\n",
              "      <td>2018-01-08 00:00:00</td>\n",
              "      <td>1</td>\n",
              "      <td>8aa6223e400af9c97b07c75993142721</td>\n",
              "      <td>...</td>\n",
              "      <td>SP</td>\n",
              "      <td>bebes</td>\n",
              "      <td>54.0</td>\n",
              "      <td>830.0</td>\n",
              "      <td>4.0</td>\n",
              "      <td>5000.0</td>\n",
              "      <td>40.0</td>\n",
              "      <td>10.0</td>\n",
              "      <td>40.0</td>\n",
              "      <td>baby</td>\n",
              "    </tr>\n",
              "    <tr>\n",
              "      <th>113602</th>\n",
              "      <td>aa7c35fd606f4275e267e859c6a84d0f</td>\n",
              "      <td>8978d77f12a2fc5b1890c49b39dd288a</td>\n",
              "      <td>delivered</td>\n",
              "      <td>2017-05-23 15:55:34</td>\n",
              "      <td>2017-05-23 16:40:05</td>\n",
              "      <td>2017-05-24 07:49:07</td>\n",
              "      <td>2017-05-25 15:43:27</td>\n",
              "      <td>2017-06-05 00:00:00</td>\n",
              "      <td>1</td>\n",
              "      <td>a42d0a44db77a6ed7945bb5c78da1398</td>\n",
              "      <td>...</td>\n",
              "      <td>SP</td>\n",
              "      <td>beleza_saude</td>\n",
              "      <td>42.0</td>\n",
              "      <td>418.0</td>\n",
              "      <td>1.0</td>\n",
              "      <td>200.0</td>\n",
              "      <td>20.0</td>\n",
              "      <td>10.0</td>\n",
              "      <td>15.0</td>\n",
              "      <td>health_beauty</td>\n",
              "    </tr>\n",
              "    <tr>\n",
              "      <th>105899</th>\n",
              "      <td>9a965cd710da5125076afbd641624600</td>\n",
              "      <td>f26dc4fb2f5373199f3430bda158626c</td>\n",
              "      <td>delivered</td>\n",
              "      <td>2017-05-15 22:53:50</td>\n",
              "      <td>2017-05-17 03:55:28</td>\n",
              "      <td>2017-05-18 08:00:00</td>\n",
              "      <td>2017-05-23 17:42:41</td>\n",
              "      <td>2017-05-26 00:00:00</td>\n",
              "      <td>1</td>\n",
              "      <td>0f66dd888ff5af9eba17aa59be9870d1</td>\n",
              "      <td>...</td>\n",
              "      <td>SP</td>\n",
              "      <td>pet_shop</td>\n",
              "      <td>53.0</td>\n",
              "      <td>856.0</td>\n",
              "      <td>1.0</td>\n",
              "      <td>6300.0</td>\n",
              "      <td>60.0</td>\n",
              "      <td>25.0</td>\n",
              "      <td>25.0</td>\n",
              "      <td>pet_shop</td>\n",
              "    </tr>\n",
              "    <tr>\n",
              "      <th>88492</th>\n",
              "      <td>4b0c92c783fce531bb5b76d0bb2636ac</td>\n",
              "      <td>fc3fe781283a400950dd7702b8a4dc28</td>\n",
              "      <td>delivered</td>\n",
              "      <td>2018-06-19 08:36:42</td>\n",
              "      <td>2018-06-19 09:18:27</td>\n",
              "      <td>2018-06-19 15:06:00</td>\n",
              "      <td>2018-06-28 15:03:04</td>\n",
              "      <td>2018-07-24 00:00:00</td>\n",
              "      <td>1</td>\n",
              "      <td>a59fb60fddcc72a9878b7ed5cb69d8e4</td>\n",
              "      <td>...</td>\n",
              "      <td>SP</td>\n",
              "      <td>audio</td>\n",
              "      <td>48.0</td>\n",
              "      <td>424.0</td>\n",
              "      <td>1.0</td>\n",
              "      <td>200.0</td>\n",
              "      <td>27.0</td>\n",
              "      <td>5.0</td>\n",
              "      <td>20.0</td>\n",
              "      <td>audio</td>\n",
              "    </tr>\n",
              "  </tbody>\n",
              "</table>\n",
              "<p>5 rows × 42 columns</p>\n",
              "</div>"
            ],
            "text/plain": [
              "                                order_id                       customer_id  \\\n",
              "734     e04d2191af862183e0ebda80377a6a32  fd21c14f33f4bcdf2ac9b4073583ca64   \n",
              "49559   6a222dfac7d7cbc4463522eff76e870d  80e0e62eee969f07d409129a5b2908fb   \n",
              "113602  aa7c35fd606f4275e267e859c6a84d0f  8978d77f12a2fc5b1890c49b39dd288a   \n",
              "105899  9a965cd710da5125076afbd641624600  f26dc4fb2f5373199f3430bda158626c   \n",
              "88492   4b0c92c783fce531bb5b76d0bb2636ac  fc3fe781283a400950dd7702b8a4dc28   \n",
              "\n",
              "       order_status order_purchase_timestamp    order_approved_at  \\\n",
              "734       delivered      2017-12-14 17:09:40  2017-12-14 17:31:51   \n",
              "49559     delivered      2017-12-13 19:13:50  2017-12-13 19:30:26   \n",
              "113602    delivered      2017-05-23 15:55:34  2017-05-23 16:40:05   \n",
              "105899    delivered      2017-05-15 22:53:50  2017-05-17 03:55:28   \n",
              "88492     delivered      2018-06-19 08:36:42  2018-06-19 09:18:27   \n",
              "\n",
              "       order_delivered_carrier_date order_delivered_customer_date  \\\n",
              "734             2017-12-18 17:04:53           2017-12-21 18:04:19   \n",
              "49559           2017-12-15 22:32:36           2017-12-21 20:19:00   \n",
              "113602          2017-05-24 07:49:07           2017-05-25 15:43:27   \n",
              "105899          2017-05-18 08:00:00           2017-05-23 17:42:41   \n",
              "88492           2018-06-19 15:06:00           2018-06-28 15:03:04   \n",
              "\n",
              "       order_estimated_delivery_date  order_item_id  \\\n",
              "734              2018-01-10 00:00:00              1   \n",
              "49559            2018-01-08 00:00:00              1   \n",
              "113602           2017-06-05 00:00:00              1   \n",
              "105899           2017-05-26 00:00:00              1   \n",
              "88492            2018-07-24 00:00:00              1   \n",
              "\n",
              "                              product_id  ... seller_state  \\\n",
              "734     e0d64dcfaa3b6db5c54ca298ae101d05  ...           SP   \n",
              "49559   8aa6223e400af9c97b07c75993142721  ...           SP   \n",
              "113602  a42d0a44db77a6ed7945bb5c78da1398  ...           SP   \n",
              "105899  0f66dd888ff5af9eba17aa59be9870d1  ...           SP   \n",
              "88492   a59fb60fddcc72a9878b7ed5cb69d8e4  ...           SP   \n",
              "\n",
              "       product_category_name  product_name_lenght  product_description_lenght  \\\n",
              "734       relogios_presentes                 35.0                       514.0   \n",
              "49559                  bebes                 54.0                       830.0   \n",
              "113602          beleza_saude                 42.0                       418.0   \n",
              "105899              pet_shop                 53.0                       856.0   \n",
              "88492                  audio                 48.0                       424.0   \n",
              "\n",
              "        product_photos_qty  product_weight_g product_length_cm  \\\n",
              "734                    2.0            4338.0              17.0   \n",
              "49559                  4.0            5000.0              40.0   \n",
              "113602                 1.0             200.0              20.0   \n",
              "105899                 1.0            6300.0              60.0   \n",
              "88492                  1.0             200.0              27.0   \n",
              "\n",
              "        product_height_cm  product_width_cm product_category_name_english  \n",
              "734                  12.0              14.0                 watches_gifts  \n",
              "49559                10.0              40.0                          baby  \n",
              "113602               10.0              15.0                 health_beauty  \n",
              "105899               25.0              25.0                      pet_shop  \n",
              "88492                 5.0              20.0                         audio  \n",
              "\n",
              "[5 rows x 42 columns]"
            ]
          },
          "execution_count": 14,
          "metadata": {},
          "output_type": "execute_result"
        }
      ],
      "source": [
        "order_cust = pd.merge(left=all_orders, right=customers, on='customer_id')\n",
        "order_seller = pd.merge(left=order_cust, right=sellers, on='seller_id')\n",
        "all_dataset = pd.merge(left=order_seller, right=products_cat_name_translation, on='product_id')\n",
        "print(all_dataset.shape)\n",
        "all_dataset.sample(5)\n",
        "# df = all_dataset[['order_id', 'order_status', 'order_item_id', 'price', 'product_id', 'total_price','product_category_name', 'product_category_name_english']]\n",
        "# df[df.product_category_name_english == 'bed_bath_table']"
      ]
    },
    {
      "cell_type": "code",
      "execution_count": null,
      "metadata": {},
      "outputs": [],
      "source": [
        "print(f'seller shape : {sellers.shape} & geolocation shpae : {geolocation.shape}')\n",
        "geolocation.geolocation_zip_code_prefix = geolocation.rename(columns={'geolocation_zip_code_prefix':'zip_code_prefix'})\n",
        "sellers.seller_zip_code_prefix = sellers.rename(columns={'seller_zip_code_prefix':'zip_code_prefix'})\n",
        "\n",
        "sellers.merge(geolocation, on='zip_code_prefix')"
      ]
    },
    {
      "cell_type": "code",
      "execution_count": 57,
      "metadata": {},
      "outputs": [
        {
          "data": {
            "text/html": [
              "<div>\n",
              "<style scoped>\n",
              "    .dataframe tbody tr th:only-of-type {\n",
              "        vertical-align: middle;\n",
              "    }\n",
              "\n",
              "    .dataframe tbody tr th {\n",
              "        vertical-align: top;\n",
              "    }\n",
              "\n",
              "    .dataframe thead th {\n",
              "        text-align: right;\n",
              "    }\n",
              "</style>\n",
              "<table border=\"1\" class=\"dataframe\">\n",
              "  <thead>\n",
              "    <tr style=\"text-align: right;\">\n",
              "      <th></th>\n",
              "      <th>product_category_name_english</th>\n",
              "      <th>order_id</th>\n",
              "      <th>order_item_id</th>\n",
              "      <th>total_price</th>\n",
              "    </tr>\n",
              "  </thead>\n",
              "  <tbody>\n",
              "    <tr>\n",
              "      <th>7</th>\n",
              "      <td>bed_bath_table</td>\n",
              "      <td>11847</td>\n",
              "      <td>14608</td>\n",
              "      <td>1301396.26</td>\n",
              "    </tr>\n",
              "    <tr>\n",
              "      <th>43</th>\n",
              "      <td>health_beauty</td>\n",
              "      <td>9944</td>\n",
              "      <td>11368</td>\n",
              "      <td>1384414.30</td>\n",
              "    </tr>\n",
              "    <tr>\n",
              "      <th>65</th>\n",
              "      <td>sports_leisure</td>\n",
              "      <td>8942</td>\n",
              "      <td>10273</td>\n",
              "      <td>1119662.44</td>\n",
              "    </tr>\n",
              "    <tr>\n",
              "      <th>39</th>\n",
              "      <td>furniture_decor</td>\n",
              "      <td>8743</td>\n",
              "      <td>12038</td>\n",
              "      <td>969488.82</td>\n",
              "    </tr>\n",
              "    <tr>\n",
              "      <th>15</th>\n",
              "      <td>computers_accessories</td>\n",
              "      <td>8105</td>\n",
              "      <td>10222</td>\n",
              "      <td>1171994.41</td>\n",
              "    </tr>\n",
              "    <tr>\n",
              "      <th>...</th>\n",
              "      <td>...</td>\n",
              "      <td>...</td>\n",
              "      <td>...</td>\n",
              "      <td>...</td>\n",
              "    </tr>\n",
              "    <tr>\n",
              "      <th>3</th>\n",
              "      <td>arts_and_craftmanship</td>\n",
              "      <td>24</td>\n",
              "      <td>26</td>\n",
              "      <td>1875.90</td>\n",
              "    </tr>\n",
              "    <tr>\n",
              "      <th>52</th>\n",
              "      <td>la_cuisine</td>\n",
              "      <td>15</td>\n",
              "      <td>17</td>\n",
              "      <td>2330.98</td>\n",
              "    </tr>\n",
              "    <tr>\n",
              "      <th>11</th>\n",
              "      <td>cds_dvds_musicals</td>\n",
              "      <td>14</td>\n",
              "      <td>16</td>\n",
              "      <td>820.00</td>\n",
              "    </tr>\n",
              "    <tr>\n",
              "      <th>29</th>\n",
              "      <td>fashion_childrens_clothes</td>\n",
              "      <td>8</td>\n",
              "      <td>8</td>\n",
              "      <td>569.85</td>\n",
              "    </tr>\n",
              "    <tr>\n",
              "      <th>61</th>\n",
              "      <td>security_and_services</td>\n",
              "      <td>2</td>\n",
              "      <td>2</td>\n",
              "      <td>283.29</td>\n",
              "    </tr>\n",
              "  </tbody>\n",
              "</table>\n",
              "<p>71 rows × 4 columns</p>\n",
              "</div>"
            ],
            "text/plain": [
              "   product_category_name_english  order_id  order_item_id  total_price\n",
              "7                 bed_bath_table     11847          14608   1301396.26\n",
              "43                 health_beauty      9944          11368   1384414.30\n",
              "65                sports_leisure      8942          10273   1119662.44\n",
              "39               furniture_decor      8743          12038    969488.82\n",
              "15         computers_accessories      8105          10222   1171994.41\n",
              "..                           ...       ...            ...          ...\n",
              "3          arts_and_craftmanship        24             26      1875.90\n",
              "52                    la_cuisine        15             17      2330.98\n",
              "11             cds_dvds_musicals        14             16       820.00\n",
              "29     fashion_childrens_clothes         8              8       569.85\n",
              "61         security_and_services         2              2       283.29\n",
              "\n",
              "[71 rows x 4 columns]"
            ]
          },
          "execution_count": 57,
          "metadata": {},
          "output_type": "execute_result"
        }
      ],
      "source": [
        "df.groupby(by='product_category_name_english').agg({\n",
        "    'order_id':'count',\n",
        "    'order_item_id':'sum',\n",
        "    'total_price':'sum'\n",
        "}).reset_index().sort_values(by='order_id', ascending=False)"
      ]
    },
    {
      "cell_type": "code",
      "execution_count": 58,
      "metadata": {},
      "outputs": [],
      "source": [
        "# cities with the most order \n",
        "order_in_cities = all_dataset.groupby(by='customer_city').agg({\n",
        "    'order_id':'nunique'\n",
        "    }).sort_values(by='order_id', ascending=False).reset_index().rename(columns={'order_id':'jml_order'})\n",
        "\n",
        "# states with the most order \n",
        "order_in_states = all_dataset.groupby(by='customer_state').agg({\n",
        "    'order_id':'nunique'\n",
        "    }).sort_values(by='order_id', ascending=False).reset_index().rename(columns={'order_id':'jml_order'})\n",
        "\n",
        "\n",
        "# order_in_cities.head()"
      ]
    },
    {
      "cell_type": "code",
      "execution_count": 17,
      "metadata": {},
      "outputs": [],
      "source": [
        "all_dataset.to_csv('dashboard/data/all_dataset.csv', index=False)"
      ]
    },
    {
      "cell_type": "markdown",
      "metadata": {
        "id": "SCNmtOLp9OKB"
      },
      "source": [
        "## Visualization & Explanatory Analysis"
      ]
    },
    {
      "cell_type": "markdown",
      "metadata": {
        "id": "SG59_Fbj9Qr6"
      },
      "source": [
        "### Pertanyaan 1: dimana saja kota tempat tinggal customer dan kota mana yang paling banyak, dari wilayah tsb dimana order paling banyak"
      ]
    },
    {
      "cell_type": "code",
      "execution_count": null,
      "metadata": {
        "id": "dtRoaxqd9PdU"
      },
      "outputs": [
        {
          "data": {
            "text/html": [
              "<div>\n",
              "<style scoped>\n",
              "    .dataframe tbody tr th:only-of-type {\n",
              "        vertical-align: middle;\n",
              "    }\n",
              "\n",
              "    .dataframe tbody tr th {\n",
              "        vertical-align: top;\n",
              "    }\n",
              "\n",
              "    .dataframe thead th {\n",
              "        text-align: right;\n",
              "    }\n",
              "</style>\n",
              "<table border=\"1\" class=\"dataframe\">\n",
              "  <thead>\n",
              "    <tr style=\"text-align: right;\">\n",
              "      <th></th>\n",
              "      <th>customer_state</th>\n",
              "      <th>jml_cust</th>\n",
              "      <th>%</th>\n",
              "    </tr>\n",
              "  </thead>\n",
              "  <tbody>\n",
              "    <tr>\n",
              "      <th>0</th>\n",
              "      <td>SP</td>\n",
              "      <td>41746</td>\n",
              "      <td>0.419807</td>\n",
              "    </tr>\n",
              "    <tr>\n",
              "      <th>1</th>\n",
              "      <td>RJ</td>\n",
              "      <td>12852</td>\n",
              "      <td>0.129242</td>\n",
              "    </tr>\n",
              "    <tr>\n",
              "      <th>2</th>\n",
              "      <td>MG</td>\n",
              "      <td>11635</td>\n",
              "      <td>0.117004</td>\n",
              "    </tr>\n",
              "    <tr>\n",
              "      <th>3</th>\n",
              "      <td>RS</td>\n",
              "      <td>5466</td>\n",
              "      <td>0.054967</td>\n",
              "    </tr>\n",
              "    <tr>\n",
              "      <th>4</th>\n",
              "      <td>PR</td>\n",
              "      <td>5045</td>\n",
              "      <td>0.050734</td>\n",
              "    </tr>\n",
              "  </tbody>\n",
              "</table>\n",
              "</div>"
            ],
            "text/plain": [
              "  customer_state  jml_cust         %\n",
              "0             SP     41746  0.419807\n",
              "1             RJ     12852  0.129242\n",
              "2             MG     11635  0.117004\n",
              "3             RS      5466  0.054967\n",
              "4             PR      5045  0.050734"
            ]
          },
          "execution_count": 61,
          "metadata": {},
          "output_type": "execute_result"
        }
      ],
      "source": [
        "custby_states['%'] = custby_states.jml_cust/custby_states.jml_cust.sum()\n",
        "custby_states.head()"
      ]
    },
    {
      "cell_type": "code",
      "execution_count": null,
      "metadata": {},
      "outputs": [
        {
          "data": {
            "text/html": [
              "<div>\n",
              "<style scoped>\n",
              "    .dataframe tbody tr th:only-of-type {\n",
              "        vertical-align: middle;\n",
              "    }\n",
              "\n",
              "    .dataframe tbody tr th {\n",
              "        vertical-align: top;\n",
              "    }\n",
              "\n",
              "    .dataframe thead th {\n",
              "        text-align: right;\n",
              "    }\n",
              "</style>\n",
              "<table border=\"1\" class=\"dataframe\">\n",
              "  <thead>\n",
              "    <tr style=\"text-align: right;\">\n",
              "      <th></th>\n",
              "      <th>customer_state</th>\n",
              "      <th>jml_cust</th>\n",
              "    </tr>\n",
              "  </thead>\n",
              "  <tbody>\n",
              "    <tr>\n",
              "      <th>0</th>\n",
              "      <td>SP</td>\n",
              "      <td>40536</td>\n",
              "    </tr>\n",
              "    <tr>\n",
              "      <th>1</th>\n",
              "      <td>RJ</td>\n",
              "      <td>12410</td>\n",
              "    </tr>\n",
              "    <tr>\n",
              "      <th>2</th>\n",
              "      <td>MG</td>\n",
              "      <td>11297</td>\n",
              "    </tr>\n",
              "    <tr>\n",
              "      <th>3</th>\n",
              "      <td>RS</td>\n",
              "      <td>5331</td>\n",
              "    </tr>\n",
              "    <tr>\n",
              "      <th>4</th>\n",
              "      <td>PR</td>\n",
              "      <td>4902</td>\n",
              "    </tr>\n",
              "  </tbody>\n",
              "</table>\n",
              "</div>"
            ],
            "text/plain": [
              "  customer_state  jml_cust\n",
              "0             SP     40536\n",
              "1             RJ     12410\n",
              "2             MG     11297\n",
              "3             RS      5331\n",
              "4             PR      4902"
            ]
          },
          "execution_count": 68,
          "metadata": {},
          "output_type": "execute_result"
        }
      ],
      "source": [
        "def cust_by_states(df):\n",
        "    return df.groupby(by=['customer_state']).customer_id.nunique().sort_values(\n",
        "                ascending=False).reset_index().rename(\n",
        "                    columns={'customer_id':'jml_cust'})\n",
        "\n",
        "cust_by_states(all_dataset).head()"
      ]
    },
    {
      "cell_type": "code",
      "execution_count": null,
      "metadata": {},
      "outputs": [
        {
          "data": {
            "application/vnd.plotly.v1+json": {
              "config": {
                "plotlyServerURL": "https://plot.ly"
              },
              "data": [
                {
                  "alignmentgroup": "True",
                  "hovertemplate": "customer_state=%{x}<br>jml_cust=%{y}<extra></extra>",
                  "legendgroup": "",
                  "marker": {
                    "color": "#636efa",
                    "pattern": {
                      "shape": ""
                    }
                  },
                  "name": "",
                  "offsetgroup": "",
                  "orientation": "v",
                  "showlegend": false,
                  "textposition": "auto",
                  "type": "bar",
                  "x": [
                    "SP",
                    "RJ",
                    "MG",
                    "RS",
                    "PR",
                    "SC",
                    "BA",
                    "DF",
                    "ES",
                    "GO",
                    "PE",
                    "CE",
                    "PA",
                    "MT",
                    "MA",
                    "MS",
                    "PB",
                    "PI",
                    "RN",
                    "AL",
                    "SE",
                    "TO",
                    "RO",
                    "AM",
                    "AC",
                    "AP",
                    "RR"
                  ],
                  "xaxis": "x",
                  "y": [
                    41746,
                    12852,
                    11635,
                    5466,
                    5045,
                    3637,
                    3380,
                    2140,
                    2033,
                    2020,
                    1652,
                    1336,
                    975,
                    907,
                    747,
                    715,
                    536,
                    495,
                    485,
                    413,
                    350,
                    280,
                    253,
                    148,
                    81,
                    68,
                    46
                  ],
                  "yaxis": "y"
                }
              ],
              "layout": {
                "barmode": "relative",
                "legend": {
                  "tracegroupgap": 0
                },
                "template": {
                  "data": {
                    "bar": [
                      {
                        "error_x": {
                          "color": "#2a3f5f"
                        },
                        "error_y": {
                          "color": "#2a3f5f"
                        },
                        "marker": {
                          "line": {
                            "color": "#E5ECF6",
                            "width": 0.5
                          },
                          "pattern": {
                            "fillmode": "overlay",
                            "size": 10,
                            "solidity": 0.2
                          }
                        },
                        "type": "bar"
                      }
                    ],
                    "barpolar": [
                      {
                        "marker": {
                          "line": {
                            "color": "#E5ECF6",
                            "width": 0.5
                          },
                          "pattern": {
                            "fillmode": "overlay",
                            "size": 10,
                            "solidity": 0.2
                          }
                        },
                        "type": "barpolar"
                      }
                    ],
                    "carpet": [
                      {
                        "aaxis": {
                          "endlinecolor": "#2a3f5f",
                          "gridcolor": "white",
                          "linecolor": "white",
                          "minorgridcolor": "white",
                          "startlinecolor": "#2a3f5f"
                        },
                        "baxis": {
                          "endlinecolor": "#2a3f5f",
                          "gridcolor": "white",
                          "linecolor": "white",
                          "minorgridcolor": "white",
                          "startlinecolor": "#2a3f5f"
                        },
                        "type": "carpet"
                      }
                    ],
                    "choropleth": [
                      {
                        "colorbar": {
                          "outlinewidth": 0,
                          "ticks": ""
                        },
                        "type": "choropleth"
                      }
                    ],
                    "contour": [
                      {
                        "colorbar": {
                          "outlinewidth": 0,
                          "ticks": ""
                        },
                        "colorscale": [
                          [
                            0,
                            "#0d0887"
                          ],
                          [
                            0.1111111111111111,
                            "#46039f"
                          ],
                          [
                            0.2222222222222222,
                            "#7201a8"
                          ],
                          [
                            0.3333333333333333,
                            "#9c179e"
                          ],
                          [
                            0.4444444444444444,
                            "#bd3786"
                          ],
                          [
                            0.5555555555555556,
                            "#d8576b"
                          ],
                          [
                            0.6666666666666666,
                            "#ed7953"
                          ],
                          [
                            0.7777777777777778,
                            "#fb9f3a"
                          ],
                          [
                            0.8888888888888888,
                            "#fdca26"
                          ],
                          [
                            1,
                            "#f0f921"
                          ]
                        ],
                        "type": "contour"
                      }
                    ],
                    "contourcarpet": [
                      {
                        "colorbar": {
                          "outlinewidth": 0,
                          "ticks": ""
                        },
                        "type": "contourcarpet"
                      }
                    ],
                    "heatmap": [
                      {
                        "colorbar": {
                          "outlinewidth": 0,
                          "ticks": ""
                        },
                        "colorscale": [
                          [
                            0,
                            "#0d0887"
                          ],
                          [
                            0.1111111111111111,
                            "#46039f"
                          ],
                          [
                            0.2222222222222222,
                            "#7201a8"
                          ],
                          [
                            0.3333333333333333,
                            "#9c179e"
                          ],
                          [
                            0.4444444444444444,
                            "#bd3786"
                          ],
                          [
                            0.5555555555555556,
                            "#d8576b"
                          ],
                          [
                            0.6666666666666666,
                            "#ed7953"
                          ],
                          [
                            0.7777777777777778,
                            "#fb9f3a"
                          ],
                          [
                            0.8888888888888888,
                            "#fdca26"
                          ],
                          [
                            1,
                            "#f0f921"
                          ]
                        ],
                        "type": "heatmap"
                      }
                    ],
                    "heatmapgl": [
                      {
                        "colorbar": {
                          "outlinewidth": 0,
                          "ticks": ""
                        },
                        "colorscale": [
                          [
                            0,
                            "#0d0887"
                          ],
                          [
                            0.1111111111111111,
                            "#46039f"
                          ],
                          [
                            0.2222222222222222,
                            "#7201a8"
                          ],
                          [
                            0.3333333333333333,
                            "#9c179e"
                          ],
                          [
                            0.4444444444444444,
                            "#bd3786"
                          ],
                          [
                            0.5555555555555556,
                            "#d8576b"
                          ],
                          [
                            0.6666666666666666,
                            "#ed7953"
                          ],
                          [
                            0.7777777777777778,
                            "#fb9f3a"
                          ],
                          [
                            0.8888888888888888,
                            "#fdca26"
                          ],
                          [
                            1,
                            "#f0f921"
                          ]
                        ],
                        "type": "heatmapgl"
                      }
                    ],
                    "histogram": [
                      {
                        "marker": {
                          "pattern": {
                            "fillmode": "overlay",
                            "size": 10,
                            "solidity": 0.2
                          }
                        },
                        "type": "histogram"
                      }
                    ],
                    "histogram2d": [
                      {
                        "colorbar": {
                          "outlinewidth": 0,
                          "ticks": ""
                        },
                        "colorscale": [
                          [
                            0,
                            "#0d0887"
                          ],
                          [
                            0.1111111111111111,
                            "#46039f"
                          ],
                          [
                            0.2222222222222222,
                            "#7201a8"
                          ],
                          [
                            0.3333333333333333,
                            "#9c179e"
                          ],
                          [
                            0.4444444444444444,
                            "#bd3786"
                          ],
                          [
                            0.5555555555555556,
                            "#d8576b"
                          ],
                          [
                            0.6666666666666666,
                            "#ed7953"
                          ],
                          [
                            0.7777777777777778,
                            "#fb9f3a"
                          ],
                          [
                            0.8888888888888888,
                            "#fdca26"
                          ],
                          [
                            1,
                            "#f0f921"
                          ]
                        ],
                        "type": "histogram2d"
                      }
                    ],
                    "histogram2dcontour": [
                      {
                        "colorbar": {
                          "outlinewidth": 0,
                          "ticks": ""
                        },
                        "colorscale": [
                          [
                            0,
                            "#0d0887"
                          ],
                          [
                            0.1111111111111111,
                            "#46039f"
                          ],
                          [
                            0.2222222222222222,
                            "#7201a8"
                          ],
                          [
                            0.3333333333333333,
                            "#9c179e"
                          ],
                          [
                            0.4444444444444444,
                            "#bd3786"
                          ],
                          [
                            0.5555555555555556,
                            "#d8576b"
                          ],
                          [
                            0.6666666666666666,
                            "#ed7953"
                          ],
                          [
                            0.7777777777777778,
                            "#fb9f3a"
                          ],
                          [
                            0.8888888888888888,
                            "#fdca26"
                          ],
                          [
                            1,
                            "#f0f921"
                          ]
                        ],
                        "type": "histogram2dcontour"
                      }
                    ],
                    "mesh3d": [
                      {
                        "colorbar": {
                          "outlinewidth": 0,
                          "ticks": ""
                        },
                        "type": "mesh3d"
                      }
                    ],
                    "parcoords": [
                      {
                        "line": {
                          "colorbar": {
                            "outlinewidth": 0,
                            "ticks": ""
                          }
                        },
                        "type": "parcoords"
                      }
                    ],
                    "pie": [
                      {
                        "automargin": true,
                        "type": "pie"
                      }
                    ],
                    "scatter": [
                      {
                        "fillpattern": {
                          "fillmode": "overlay",
                          "size": 10,
                          "solidity": 0.2
                        },
                        "type": "scatter"
                      }
                    ],
                    "scatter3d": [
                      {
                        "line": {
                          "colorbar": {
                            "outlinewidth": 0,
                            "ticks": ""
                          }
                        },
                        "marker": {
                          "colorbar": {
                            "outlinewidth": 0,
                            "ticks": ""
                          }
                        },
                        "type": "scatter3d"
                      }
                    ],
                    "scattercarpet": [
                      {
                        "marker": {
                          "colorbar": {
                            "outlinewidth": 0,
                            "ticks": ""
                          }
                        },
                        "type": "scattercarpet"
                      }
                    ],
                    "scattergeo": [
                      {
                        "marker": {
                          "colorbar": {
                            "outlinewidth": 0,
                            "ticks": ""
                          }
                        },
                        "type": "scattergeo"
                      }
                    ],
                    "scattergl": [
                      {
                        "marker": {
                          "colorbar": {
                            "outlinewidth": 0,
                            "ticks": ""
                          }
                        },
                        "type": "scattergl"
                      }
                    ],
                    "scattermapbox": [
                      {
                        "marker": {
                          "colorbar": {
                            "outlinewidth": 0,
                            "ticks": ""
                          }
                        },
                        "type": "scattermapbox"
                      }
                    ],
                    "scatterpolar": [
                      {
                        "marker": {
                          "colorbar": {
                            "outlinewidth": 0,
                            "ticks": ""
                          }
                        },
                        "type": "scatterpolar"
                      }
                    ],
                    "scatterpolargl": [
                      {
                        "marker": {
                          "colorbar": {
                            "outlinewidth": 0,
                            "ticks": ""
                          }
                        },
                        "type": "scatterpolargl"
                      }
                    ],
                    "scatterternary": [
                      {
                        "marker": {
                          "colorbar": {
                            "outlinewidth": 0,
                            "ticks": ""
                          }
                        },
                        "type": "scatterternary"
                      }
                    ],
                    "surface": [
                      {
                        "colorbar": {
                          "outlinewidth": 0,
                          "ticks": ""
                        },
                        "colorscale": [
                          [
                            0,
                            "#0d0887"
                          ],
                          [
                            0.1111111111111111,
                            "#46039f"
                          ],
                          [
                            0.2222222222222222,
                            "#7201a8"
                          ],
                          [
                            0.3333333333333333,
                            "#9c179e"
                          ],
                          [
                            0.4444444444444444,
                            "#bd3786"
                          ],
                          [
                            0.5555555555555556,
                            "#d8576b"
                          ],
                          [
                            0.6666666666666666,
                            "#ed7953"
                          ],
                          [
                            0.7777777777777778,
                            "#fb9f3a"
                          ],
                          [
                            0.8888888888888888,
                            "#fdca26"
                          ],
                          [
                            1,
                            "#f0f921"
                          ]
                        ],
                        "type": "surface"
                      }
                    ],
                    "table": [
                      {
                        "cells": {
                          "fill": {
                            "color": "#EBF0F8"
                          },
                          "line": {
                            "color": "white"
                          }
                        },
                        "header": {
                          "fill": {
                            "color": "#C8D4E3"
                          },
                          "line": {
                            "color": "white"
                          }
                        },
                        "type": "table"
                      }
                    ]
                  },
                  "layout": {
                    "annotationdefaults": {
                      "arrowcolor": "#2a3f5f",
                      "arrowhead": 0,
                      "arrowwidth": 1
                    },
                    "autotypenumbers": "strict",
                    "coloraxis": {
                      "colorbar": {
                        "outlinewidth": 0,
                        "ticks": ""
                      }
                    },
                    "colorscale": {
                      "diverging": [
                        [
                          0,
                          "#8e0152"
                        ],
                        [
                          0.1,
                          "#c51b7d"
                        ],
                        [
                          0.2,
                          "#de77ae"
                        ],
                        [
                          0.3,
                          "#f1b6da"
                        ],
                        [
                          0.4,
                          "#fde0ef"
                        ],
                        [
                          0.5,
                          "#f7f7f7"
                        ],
                        [
                          0.6,
                          "#e6f5d0"
                        ],
                        [
                          0.7,
                          "#b8e186"
                        ],
                        [
                          0.8,
                          "#7fbc41"
                        ],
                        [
                          0.9,
                          "#4d9221"
                        ],
                        [
                          1,
                          "#276419"
                        ]
                      ],
                      "sequential": [
                        [
                          0,
                          "#0d0887"
                        ],
                        [
                          0.1111111111111111,
                          "#46039f"
                        ],
                        [
                          0.2222222222222222,
                          "#7201a8"
                        ],
                        [
                          0.3333333333333333,
                          "#9c179e"
                        ],
                        [
                          0.4444444444444444,
                          "#bd3786"
                        ],
                        [
                          0.5555555555555556,
                          "#d8576b"
                        ],
                        [
                          0.6666666666666666,
                          "#ed7953"
                        ],
                        [
                          0.7777777777777778,
                          "#fb9f3a"
                        ],
                        [
                          0.8888888888888888,
                          "#fdca26"
                        ],
                        [
                          1,
                          "#f0f921"
                        ]
                      ],
                      "sequentialminus": [
                        [
                          0,
                          "#0d0887"
                        ],
                        [
                          0.1111111111111111,
                          "#46039f"
                        ],
                        [
                          0.2222222222222222,
                          "#7201a8"
                        ],
                        [
                          0.3333333333333333,
                          "#9c179e"
                        ],
                        [
                          0.4444444444444444,
                          "#bd3786"
                        ],
                        [
                          0.5555555555555556,
                          "#d8576b"
                        ],
                        [
                          0.6666666666666666,
                          "#ed7953"
                        ],
                        [
                          0.7777777777777778,
                          "#fb9f3a"
                        ],
                        [
                          0.8888888888888888,
                          "#fdca26"
                        ],
                        [
                          1,
                          "#f0f921"
                        ]
                      ]
                    },
                    "colorway": [
                      "#636efa",
                      "#EF553B",
                      "#00cc96",
                      "#ab63fa",
                      "#FFA15A",
                      "#19d3f3",
                      "#FF6692",
                      "#B6E880",
                      "#FF97FF",
                      "#FECB52"
                    ],
                    "font": {
                      "color": "#2a3f5f"
                    },
                    "geo": {
                      "bgcolor": "white",
                      "lakecolor": "white",
                      "landcolor": "#E5ECF6",
                      "showlakes": true,
                      "showland": true,
                      "subunitcolor": "white"
                    },
                    "hoverlabel": {
                      "align": "left"
                    },
                    "hovermode": "closest",
                    "mapbox": {
                      "style": "light"
                    },
                    "paper_bgcolor": "white",
                    "plot_bgcolor": "#E5ECF6",
                    "polar": {
                      "angularaxis": {
                        "gridcolor": "white",
                        "linecolor": "white",
                        "ticks": ""
                      },
                      "bgcolor": "#E5ECF6",
                      "radialaxis": {
                        "gridcolor": "white",
                        "linecolor": "white",
                        "ticks": ""
                      }
                    },
                    "scene": {
                      "xaxis": {
                        "backgroundcolor": "#E5ECF6",
                        "gridcolor": "white",
                        "gridwidth": 2,
                        "linecolor": "white",
                        "showbackground": true,
                        "ticks": "",
                        "zerolinecolor": "white"
                      },
                      "yaxis": {
                        "backgroundcolor": "#E5ECF6",
                        "gridcolor": "white",
                        "gridwidth": 2,
                        "linecolor": "white",
                        "showbackground": true,
                        "ticks": "",
                        "zerolinecolor": "white"
                      },
                      "zaxis": {
                        "backgroundcolor": "#E5ECF6",
                        "gridcolor": "white",
                        "gridwidth": 2,
                        "linecolor": "white",
                        "showbackground": true,
                        "ticks": "",
                        "zerolinecolor": "white"
                      }
                    },
                    "shapedefaults": {
                      "line": {
                        "color": "#2a3f5f"
                      }
                    },
                    "ternary": {
                      "aaxis": {
                        "gridcolor": "white",
                        "linecolor": "white",
                        "ticks": ""
                      },
                      "baxis": {
                        "gridcolor": "white",
                        "linecolor": "white",
                        "ticks": ""
                      },
                      "bgcolor": "#E5ECF6",
                      "caxis": {
                        "gridcolor": "white",
                        "linecolor": "white",
                        "ticks": ""
                      }
                    },
                    "title": {
                      "x": 0.05
                    },
                    "xaxis": {
                      "automargin": true,
                      "gridcolor": "white",
                      "linecolor": "white",
                      "ticks": "",
                      "title": {
                        "standoff": 15
                      },
                      "zerolinecolor": "white",
                      "zerolinewidth": 2
                    },
                    "yaxis": {
                      "automargin": true,
                      "gridcolor": "white",
                      "linecolor": "white",
                      "ticks": "",
                      "title": {
                        "standoff": 15
                      },
                      "zerolinecolor": "white",
                      "zerolinewidth": 2
                    }
                  }
                },
                "title": {
                  "text": "States With The Largest Customer"
                },
                "xaxis": {
                  "anchor": "y",
                  "domain": [
                    0,
                    1
                  ],
                  "title": {
                    "text": "customer_state"
                  }
                },
                "yaxis": {
                  "anchor": "x",
                  "domain": [
                    0,
                    1
                  ],
                  "title": {
                    "text": "jml_cust"
                  }
                }
              }
            }
          },
          "metadata": {},
          "output_type": "display_data"
        }
      ],
      "source": [
        "fig = px.bar(\n",
        "    custby_states, \n",
        "    x='customer_state', \n",
        "    y='jml_cust',\n",
        "    title='States With The Largest Customer' )\n",
        "fig.show()\n"
      ]
    },
    {
      "cell_type": "code",
      "execution_count": null,
      "metadata": {},
      "outputs": [
        {
          "data": {
            "text/html": [
              "<div>\n",
              "<style scoped>\n",
              "    .dataframe tbody tr th:only-of-type {\n",
              "        vertical-align: middle;\n",
              "    }\n",
              "\n",
              "    .dataframe tbody tr th {\n",
              "        vertical-align: top;\n",
              "    }\n",
              "\n",
              "    .dataframe thead th {\n",
              "        text-align: right;\n",
              "    }\n",
              "</style>\n",
              "<table border=\"1\" class=\"dataframe\">\n",
              "  <thead>\n",
              "    <tr style=\"text-align: right;\">\n",
              "      <th></th>\n",
              "      <th>customer_city</th>\n",
              "      <th>jml_cust</th>\n",
              "    </tr>\n",
              "  </thead>\n",
              "  <tbody>\n",
              "    <tr>\n",
              "      <th>0</th>\n",
              "      <td>sao paulo</td>\n",
              "      <td>18267</td>\n",
              "    </tr>\n",
              "    <tr>\n",
              "      <th>1</th>\n",
              "      <td>rio de janeiro</td>\n",
              "      <td>8022</td>\n",
              "    </tr>\n",
              "    <tr>\n",
              "      <th>2</th>\n",
              "      <td>belo horizonte</td>\n",
              "      <td>3196</td>\n",
              "    </tr>\n",
              "    <tr>\n",
              "      <th>3</th>\n",
              "      <td>brasilia</td>\n",
              "      <td>2434</td>\n",
              "    </tr>\n",
              "    <tr>\n",
              "      <th>4</th>\n",
              "      <td>curitiba</td>\n",
              "      <td>1790</td>\n",
              "    </tr>\n",
              "  </tbody>\n",
              "</table>\n",
              "</div>"
            ],
            "text/plain": [
              "    customer_city  jml_cust\n",
              "0       sao paulo     18267\n",
              "1  rio de janeiro      8022\n",
              "2  belo horizonte      3196\n",
              "3        brasilia      2434\n",
              "4        curitiba      1790"
            ]
          },
          "execution_count": 69,
          "metadata": {},
          "output_type": "execute_result"
        }
      ],
      "source": [
        "def cust_by_cities(df):\n",
        "    return df.loc[:,['customer_city','customer_id']].groupby(by=['customer_city']).agg({'customer_id':'count'}).sort_values(\n",
        "            by='customer_id', \n",
        "            ascending=False).reset_index().rename(columns={'customer_id':'jml_cust'})\n",
        "\n",
        "cust_by_cities(all_dataset).head()"
      ]
    },
    {
      "cell_type": "code",
      "execution_count": null,
      "metadata": {},
      "outputs": [
        {
          "data": {
            "application/vnd.plotly.v1+json": {
              "config": {
                "plotlyServerURL": "https://plot.ly"
              },
              "data": [
                {
                  "alignmentgroup": "True",
                  "hovertemplate": "jml_cust=%{x}<br>customer_city=%{y}<extra></extra>",
                  "legendgroup": "",
                  "marker": {
                    "color": "#636efa",
                    "pattern": {
                      "shape": ""
                    }
                  },
                  "name": "",
                  "offsetgroup": "",
                  "orientation": "h",
                  "showlegend": false,
                  "textposition": "auto",
                  "type": "bar",
                  "x": [
                    15540,
                    6882,
                    2773,
                    2131,
                    1521,
                    1444,
                    1379,
                    1245,
                    1189,
                    938
                  ],
                  "xaxis": "x",
                  "y": [
                    "sao paulo",
                    "rio de janeiro",
                    "belo horizonte",
                    "brasilia",
                    "curitiba",
                    "campinas",
                    "porto alegre",
                    "salvador",
                    "guarulhos",
                    "sao bernardo do campo"
                  ],
                  "yaxis": "y"
                }
              ],
              "layout": {
                "barmode": "relative",
                "legend": {
                  "tracegroupgap": 0
                },
                "template": {
                  "data": {
                    "bar": [
                      {
                        "error_x": {
                          "color": "#2a3f5f"
                        },
                        "error_y": {
                          "color": "#2a3f5f"
                        },
                        "marker": {
                          "line": {
                            "color": "#E5ECF6",
                            "width": 0.5
                          },
                          "pattern": {
                            "fillmode": "overlay",
                            "size": 10,
                            "solidity": 0.2
                          }
                        },
                        "type": "bar"
                      }
                    ],
                    "barpolar": [
                      {
                        "marker": {
                          "line": {
                            "color": "#E5ECF6",
                            "width": 0.5
                          },
                          "pattern": {
                            "fillmode": "overlay",
                            "size": 10,
                            "solidity": 0.2
                          }
                        },
                        "type": "barpolar"
                      }
                    ],
                    "carpet": [
                      {
                        "aaxis": {
                          "endlinecolor": "#2a3f5f",
                          "gridcolor": "white",
                          "linecolor": "white",
                          "minorgridcolor": "white",
                          "startlinecolor": "#2a3f5f"
                        },
                        "baxis": {
                          "endlinecolor": "#2a3f5f",
                          "gridcolor": "white",
                          "linecolor": "white",
                          "minorgridcolor": "white",
                          "startlinecolor": "#2a3f5f"
                        },
                        "type": "carpet"
                      }
                    ],
                    "choropleth": [
                      {
                        "colorbar": {
                          "outlinewidth": 0,
                          "ticks": ""
                        },
                        "type": "choropleth"
                      }
                    ],
                    "contour": [
                      {
                        "colorbar": {
                          "outlinewidth": 0,
                          "ticks": ""
                        },
                        "colorscale": [
                          [
                            0,
                            "#0d0887"
                          ],
                          [
                            0.1111111111111111,
                            "#46039f"
                          ],
                          [
                            0.2222222222222222,
                            "#7201a8"
                          ],
                          [
                            0.3333333333333333,
                            "#9c179e"
                          ],
                          [
                            0.4444444444444444,
                            "#bd3786"
                          ],
                          [
                            0.5555555555555556,
                            "#d8576b"
                          ],
                          [
                            0.6666666666666666,
                            "#ed7953"
                          ],
                          [
                            0.7777777777777778,
                            "#fb9f3a"
                          ],
                          [
                            0.8888888888888888,
                            "#fdca26"
                          ],
                          [
                            1,
                            "#f0f921"
                          ]
                        ],
                        "type": "contour"
                      }
                    ],
                    "contourcarpet": [
                      {
                        "colorbar": {
                          "outlinewidth": 0,
                          "ticks": ""
                        },
                        "type": "contourcarpet"
                      }
                    ],
                    "heatmap": [
                      {
                        "colorbar": {
                          "outlinewidth": 0,
                          "ticks": ""
                        },
                        "colorscale": [
                          [
                            0,
                            "#0d0887"
                          ],
                          [
                            0.1111111111111111,
                            "#46039f"
                          ],
                          [
                            0.2222222222222222,
                            "#7201a8"
                          ],
                          [
                            0.3333333333333333,
                            "#9c179e"
                          ],
                          [
                            0.4444444444444444,
                            "#bd3786"
                          ],
                          [
                            0.5555555555555556,
                            "#d8576b"
                          ],
                          [
                            0.6666666666666666,
                            "#ed7953"
                          ],
                          [
                            0.7777777777777778,
                            "#fb9f3a"
                          ],
                          [
                            0.8888888888888888,
                            "#fdca26"
                          ],
                          [
                            1,
                            "#f0f921"
                          ]
                        ],
                        "type": "heatmap"
                      }
                    ],
                    "heatmapgl": [
                      {
                        "colorbar": {
                          "outlinewidth": 0,
                          "ticks": ""
                        },
                        "colorscale": [
                          [
                            0,
                            "#0d0887"
                          ],
                          [
                            0.1111111111111111,
                            "#46039f"
                          ],
                          [
                            0.2222222222222222,
                            "#7201a8"
                          ],
                          [
                            0.3333333333333333,
                            "#9c179e"
                          ],
                          [
                            0.4444444444444444,
                            "#bd3786"
                          ],
                          [
                            0.5555555555555556,
                            "#d8576b"
                          ],
                          [
                            0.6666666666666666,
                            "#ed7953"
                          ],
                          [
                            0.7777777777777778,
                            "#fb9f3a"
                          ],
                          [
                            0.8888888888888888,
                            "#fdca26"
                          ],
                          [
                            1,
                            "#f0f921"
                          ]
                        ],
                        "type": "heatmapgl"
                      }
                    ],
                    "histogram": [
                      {
                        "marker": {
                          "pattern": {
                            "fillmode": "overlay",
                            "size": 10,
                            "solidity": 0.2
                          }
                        },
                        "type": "histogram"
                      }
                    ],
                    "histogram2d": [
                      {
                        "colorbar": {
                          "outlinewidth": 0,
                          "ticks": ""
                        },
                        "colorscale": [
                          [
                            0,
                            "#0d0887"
                          ],
                          [
                            0.1111111111111111,
                            "#46039f"
                          ],
                          [
                            0.2222222222222222,
                            "#7201a8"
                          ],
                          [
                            0.3333333333333333,
                            "#9c179e"
                          ],
                          [
                            0.4444444444444444,
                            "#bd3786"
                          ],
                          [
                            0.5555555555555556,
                            "#d8576b"
                          ],
                          [
                            0.6666666666666666,
                            "#ed7953"
                          ],
                          [
                            0.7777777777777778,
                            "#fb9f3a"
                          ],
                          [
                            0.8888888888888888,
                            "#fdca26"
                          ],
                          [
                            1,
                            "#f0f921"
                          ]
                        ],
                        "type": "histogram2d"
                      }
                    ],
                    "histogram2dcontour": [
                      {
                        "colorbar": {
                          "outlinewidth": 0,
                          "ticks": ""
                        },
                        "colorscale": [
                          [
                            0,
                            "#0d0887"
                          ],
                          [
                            0.1111111111111111,
                            "#46039f"
                          ],
                          [
                            0.2222222222222222,
                            "#7201a8"
                          ],
                          [
                            0.3333333333333333,
                            "#9c179e"
                          ],
                          [
                            0.4444444444444444,
                            "#bd3786"
                          ],
                          [
                            0.5555555555555556,
                            "#d8576b"
                          ],
                          [
                            0.6666666666666666,
                            "#ed7953"
                          ],
                          [
                            0.7777777777777778,
                            "#fb9f3a"
                          ],
                          [
                            0.8888888888888888,
                            "#fdca26"
                          ],
                          [
                            1,
                            "#f0f921"
                          ]
                        ],
                        "type": "histogram2dcontour"
                      }
                    ],
                    "mesh3d": [
                      {
                        "colorbar": {
                          "outlinewidth": 0,
                          "ticks": ""
                        },
                        "type": "mesh3d"
                      }
                    ],
                    "parcoords": [
                      {
                        "line": {
                          "colorbar": {
                            "outlinewidth": 0,
                            "ticks": ""
                          }
                        },
                        "type": "parcoords"
                      }
                    ],
                    "pie": [
                      {
                        "automargin": true,
                        "type": "pie"
                      }
                    ],
                    "scatter": [
                      {
                        "fillpattern": {
                          "fillmode": "overlay",
                          "size": 10,
                          "solidity": 0.2
                        },
                        "type": "scatter"
                      }
                    ],
                    "scatter3d": [
                      {
                        "line": {
                          "colorbar": {
                            "outlinewidth": 0,
                            "ticks": ""
                          }
                        },
                        "marker": {
                          "colorbar": {
                            "outlinewidth": 0,
                            "ticks": ""
                          }
                        },
                        "type": "scatter3d"
                      }
                    ],
                    "scattercarpet": [
                      {
                        "marker": {
                          "colorbar": {
                            "outlinewidth": 0,
                            "ticks": ""
                          }
                        },
                        "type": "scattercarpet"
                      }
                    ],
                    "scattergeo": [
                      {
                        "marker": {
                          "colorbar": {
                            "outlinewidth": 0,
                            "ticks": ""
                          }
                        },
                        "type": "scattergeo"
                      }
                    ],
                    "scattergl": [
                      {
                        "marker": {
                          "colorbar": {
                            "outlinewidth": 0,
                            "ticks": ""
                          }
                        },
                        "type": "scattergl"
                      }
                    ],
                    "scattermapbox": [
                      {
                        "marker": {
                          "colorbar": {
                            "outlinewidth": 0,
                            "ticks": ""
                          }
                        },
                        "type": "scattermapbox"
                      }
                    ],
                    "scatterpolar": [
                      {
                        "marker": {
                          "colorbar": {
                            "outlinewidth": 0,
                            "ticks": ""
                          }
                        },
                        "type": "scatterpolar"
                      }
                    ],
                    "scatterpolargl": [
                      {
                        "marker": {
                          "colorbar": {
                            "outlinewidth": 0,
                            "ticks": ""
                          }
                        },
                        "type": "scatterpolargl"
                      }
                    ],
                    "scatterternary": [
                      {
                        "marker": {
                          "colorbar": {
                            "outlinewidth": 0,
                            "ticks": ""
                          }
                        },
                        "type": "scatterternary"
                      }
                    ],
                    "surface": [
                      {
                        "colorbar": {
                          "outlinewidth": 0,
                          "ticks": ""
                        },
                        "colorscale": [
                          [
                            0,
                            "#0d0887"
                          ],
                          [
                            0.1111111111111111,
                            "#46039f"
                          ],
                          [
                            0.2222222222222222,
                            "#7201a8"
                          ],
                          [
                            0.3333333333333333,
                            "#9c179e"
                          ],
                          [
                            0.4444444444444444,
                            "#bd3786"
                          ],
                          [
                            0.5555555555555556,
                            "#d8576b"
                          ],
                          [
                            0.6666666666666666,
                            "#ed7953"
                          ],
                          [
                            0.7777777777777778,
                            "#fb9f3a"
                          ],
                          [
                            0.8888888888888888,
                            "#fdca26"
                          ],
                          [
                            1,
                            "#f0f921"
                          ]
                        ],
                        "type": "surface"
                      }
                    ],
                    "table": [
                      {
                        "cells": {
                          "fill": {
                            "color": "#EBF0F8"
                          },
                          "line": {
                            "color": "white"
                          }
                        },
                        "header": {
                          "fill": {
                            "color": "#C8D4E3"
                          },
                          "line": {
                            "color": "white"
                          }
                        },
                        "type": "table"
                      }
                    ]
                  },
                  "layout": {
                    "annotationdefaults": {
                      "arrowcolor": "#2a3f5f",
                      "arrowhead": 0,
                      "arrowwidth": 1
                    },
                    "autotypenumbers": "strict",
                    "coloraxis": {
                      "colorbar": {
                        "outlinewidth": 0,
                        "ticks": ""
                      }
                    },
                    "colorscale": {
                      "diverging": [
                        [
                          0,
                          "#8e0152"
                        ],
                        [
                          0.1,
                          "#c51b7d"
                        ],
                        [
                          0.2,
                          "#de77ae"
                        ],
                        [
                          0.3,
                          "#f1b6da"
                        ],
                        [
                          0.4,
                          "#fde0ef"
                        ],
                        [
                          0.5,
                          "#f7f7f7"
                        ],
                        [
                          0.6,
                          "#e6f5d0"
                        ],
                        [
                          0.7,
                          "#b8e186"
                        ],
                        [
                          0.8,
                          "#7fbc41"
                        ],
                        [
                          0.9,
                          "#4d9221"
                        ],
                        [
                          1,
                          "#276419"
                        ]
                      ],
                      "sequential": [
                        [
                          0,
                          "#0d0887"
                        ],
                        [
                          0.1111111111111111,
                          "#46039f"
                        ],
                        [
                          0.2222222222222222,
                          "#7201a8"
                        ],
                        [
                          0.3333333333333333,
                          "#9c179e"
                        ],
                        [
                          0.4444444444444444,
                          "#bd3786"
                        ],
                        [
                          0.5555555555555556,
                          "#d8576b"
                        ],
                        [
                          0.6666666666666666,
                          "#ed7953"
                        ],
                        [
                          0.7777777777777778,
                          "#fb9f3a"
                        ],
                        [
                          0.8888888888888888,
                          "#fdca26"
                        ],
                        [
                          1,
                          "#f0f921"
                        ]
                      ],
                      "sequentialminus": [
                        [
                          0,
                          "#0d0887"
                        ],
                        [
                          0.1111111111111111,
                          "#46039f"
                        ],
                        [
                          0.2222222222222222,
                          "#7201a8"
                        ],
                        [
                          0.3333333333333333,
                          "#9c179e"
                        ],
                        [
                          0.4444444444444444,
                          "#bd3786"
                        ],
                        [
                          0.5555555555555556,
                          "#d8576b"
                        ],
                        [
                          0.6666666666666666,
                          "#ed7953"
                        ],
                        [
                          0.7777777777777778,
                          "#fb9f3a"
                        ],
                        [
                          0.8888888888888888,
                          "#fdca26"
                        ],
                        [
                          1,
                          "#f0f921"
                        ]
                      ]
                    },
                    "colorway": [
                      "#636efa",
                      "#EF553B",
                      "#00cc96",
                      "#ab63fa",
                      "#FFA15A",
                      "#19d3f3",
                      "#FF6692",
                      "#B6E880",
                      "#FF97FF",
                      "#FECB52"
                    ],
                    "font": {
                      "color": "#2a3f5f"
                    },
                    "geo": {
                      "bgcolor": "white",
                      "lakecolor": "white",
                      "landcolor": "#E5ECF6",
                      "showlakes": true,
                      "showland": true,
                      "subunitcolor": "white"
                    },
                    "hoverlabel": {
                      "align": "left"
                    },
                    "hovermode": "closest",
                    "mapbox": {
                      "style": "light"
                    },
                    "paper_bgcolor": "white",
                    "plot_bgcolor": "#E5ECF6",
                    "polar": {
                      "angularaxis": {
                        "gridcolor": "white",
                        "linecolor": "white",
                        "ticks": ""
                      },
                      "bgcolor": "#E5ECF6",
                      "radialaxis": {
                        "gridcolor": "white",
                        "linecolor": "white",
                        "ticks": ""
                      }
                    },
                    "scene": {
                      "xaxis": {
                        "backgroundcolor": "#E5ECF6",
                        "gridcolor": "white",
                        "gridwidth": 2,
                        "linecolor": "white",
                        "showbackground": true,
                        "ticks": "",
                        "zerolinecolor": "white"
                      },
                      "yaxis": {
                        "backgroundcolor": "#E5ECF6",
                        "gridcolor": "white",
                        "gridwidth": 2,
                        "linecolor": "white",
                        "showbackground": true,
                        "ticks": "",
                        "zerolinecolor": "white"
                      },
                      "zaxis": {
                        "backgroundcolor": "#E5ECF6",
                        "gridcolor": "white",
                        "gridwidth": 2,
                        "linecolor": "white",
                        "showbackground": true,
                        "ticks": "",
                        "zerolinecolor": "white"
                      }
                    },
                    "shapedefaults": {
                      "line": {
                        "color": "#2a3f5f"
                      }
                    },
                    "ternary": {
                      "aaxis": {
                        "gridcolor": "white",
                        "linecolor": "white",
                        "ticks": ""
                      },
                      "baxis": {
                        "gridcolor": "white",
                        "linecolor": "white",
                        "ticks": ""
                      },
                      "bgcolor": "#E5ECF6",
                      "caxis": {
                        "gridcolor": "white",
                        "linecolor": "white",
                        "ticks": ""
                      }
                    },
                    "title": {
                      "x": 0.05
                    },
                    "xaxis": {
                      "automargin": true,
                      "gridcolor": "white",
                      "linecolor": "white",
                      "ticks": "",
                      "title": {
                        "standoff": 15
                      },
                      "zerolinecolor": "white",
                      "zerolinewidth": 2
                    },
                    "yaxis": {
                      "automargin": true,
                      "gridcolor": "white",
                      "linecolor": "white",
                      "ticks": "",
                      "title": {
                        "standoff": 15
                      },
                      "zerolinecolor": "white",
                      "zerolinewidth": 2
                    }
                  }
                },
                "title": {
                  "text": "Top 10 Cities With The Largest Customer"
                },
                "xaxis": {
                  "anchor": "y",
                  "domain": [
                    0,
                    1
                  ],
                  "title": {
                    "text": "jml_cust"
                  }
                },
                "yaxis": {
                  "anchor": "x",
                  "categoryorder": "total ascending",
                  "domain": [
                    0,
                    1
                  ],
                  "title": {
                    "text": "customer_city"
                  }
                }
              }
            }
          },
          "metadata": {},
          "output_type": "display_data"
        },
        {
          "data": {
            "text/plain": [
              "(           customer_city  jml_cust\n",
              " 0              sao paulo     15540\n",
              " 1         rio de janeiro      6882\n",
              " 2         belo horizonte      2773\n",
              " 3               brasilia      2131\n",
              " 4               curitiba      1521\n",
              " 5               campinas      1444\n",
              " 6           porto alegre      1379\n",
              " 7               salvador      1245\n",
              " 8              guarulhos      1189\n",
              " 9  sao bernardo do campo       938,)"
            ]
          },
          "execution_count": 65,
          "metadata": {},
          "output_type": "execute_result"
        }
      ],
      "source": [
        "fig = px.bar(\n",
        "    custby_city_states.head(10), \n",
        "    x='jml_cust',\n",
        "    y='customer_city',\n",
        "    title='Top 10 Cities With The Largest Customer',\n",
        "    orientation='h',\n",
        "    )\n",
        "fig.update_layout(yaxis={'categoryorder':'total ascending'})\n",
        "fig.show()\n",
        "custby_city_states.head(10),"
      ]
    },
    {
      "cell_type": "code",
      "execution_count": null,
      "metadata": {
        "id": "jkO5kTJq9S1Y"
      },
      "outputs": [
        {
          "data": {
            "text/html": [
              "<div>\n",
              "<style scoped>\n",
              "    .dataframe tbody tr th:only-of-type {\n",
              "        vertical-align: middle;\n",
              "    }\n",
              "\n",
              "    .dataframe tbody tr th {\n",
              "        vertical-align: top;\n",
              "    }\n",
              "\n",
              "    .dataframe thead th {\n",
              "        text-align: right;\n",
              "    }\n",
              "</style>\n",
              "<table border=\"1\" class=\"dataframe\">\n",
              "  <thead>\n",
              "    <tr style=\"text-align: right;\">\n",
              "      <th></th>\n",
              "      <th>product_category_name_english</th>\n",
              "      <th>count</th>\n",
              "    </tr>\n",
              "  </thead>\n",
              "  <tbody>\n",
              "    <tr>\n",
              "      <th>0</th>\n",
              "      <td>bed_bath_table</td>\n",
              "      <td>3029</td>\n",
              "    </tr>\n",
              "    <tr>\n",
              "      <th>1</th>\n",
              "      <td>sports_leisure</td>\n",
              "      <td>2867</td>\n",
              "    </tr>\n",
              "    <tr>\n",
              "      <th>2</th>\n",
              "      <td>furniture_decor</td>\n",
              "      <td>2657</td>\n",
              "    </tr>\n",
              "    <tr>\n",
              "      <th>3</th>\n",
              "      <td>health_beauty</td>\n",
              "      <td>2444</td>\n",
              "    </tr>\n",
              "    <tr>\n",
              "      <th>4</th>\n",
              "      <td>housewares</td>\n",
              "      <td>2335</td>\n",
              "    </tr>\n",
              "    <tr>\n",
              "      <th>...</th>\n",
              "      <td>...</td>\n",
              "      <td>...</td>\n",
              "    </tr>\n",
              "    <tr>\n",
              "      <th>66</th>\n",
              "      <td>tablets_printing_image</td>\n",
              "      <td>9</td>\n",
              "    </tr>\n",
              "    <tr>\n",
              "      <th>67</th>\n",
              "      <td>fashion_childrens_clothes</td>\n",
              "      <td>5</td>\n",
              "    </tr>\n",
              "    <tr>\n",
              "      <th>68</th>\n",
              "      <td>home_comfort_2</td>\n",
              "      <td>5</td>\n",
              "    </tr>\n",
              "    <tr>\n",
              "      <th>69</th>\n",
              "      <td>security_and_services</td>\n",
              "      <td>2</td>\n",
              "    </tr>\n",
              "    <tr>\n",
              "      <th>70</th>\n",
              "      <td>cds_dvds_musicals</td>\n",
              "      <td>1</td>\n",
              "    </tr>\n",
              "  </tbody>\n",
              "</table>\n",
              "<p>71 rows × 2 columns</p>\n",
              "</div>"
            ],
            "text/plain": [
              "   product_category_name_english  count\n",
              "0                 bed_bath_table   3029\n",
              "1                 sports_leisure   2867\n",
              "2                furniture_decor   2657\n",
              "3                  health_beauty   2444\n",
              "4                     housewares   2335\n",
              "..                           ...    ...\n",
              "66        tablets_printing_image      9\n",
              "67     fashion_childrens_clothes      5\n",
              "68                home_comfort_2      5\n",
              "69         security_and_services      2\n",
              "70             cds_dvds_musicals      1\n",
              "\n",
              "[71 rows x 2 columns]"
            ]
          },
          "execution_count": 66,
          "metadata": {},
          "output_type": "execute_result"
        }
      ],
      "source": [
        "products_cat_name_translation.product_category_name_english.value_counts().to_frame().reset_index()"
      ]
    },
    {
      "cell_type": "code",
      "execution_count": null,
      "metadata": {},
      "outputs": [
        {
          "data": {
            "text/html": [
              "<div>\n",
              "<style scoped>\n",
              "    .dataframe tbody tr th:only-of-type {\n",
              "        vertical-align: middle;\n",
              "    }\n",
              "\n",
              "    .dataframe tbody tr th {\n",
              "        vertical-align: top;\n",
              "    }\n",
              "\n",
              "    .dataframe thead th {\n",
              "        text-align: right;\n",
              "    }\n",
              "</style>\n",
              "<table border=\"1\" class=\"dataframe\">\n",
              "  <thead>\n",
              "    <tr style=\"text-align: right;\">\n",
              "      <th></th>\n",
              "      <th>product_category_name_english</th>\n",
              "      <th>jumlah</th>\n",
              "    </tr>\n",
              "  </thead>\n",
              "  <tbody>\n",
              "    <tr>\n",
              "      <th>11</th>\n",
              "      <td>cool_stuff</td>\n",
              "      <td>3964</td>\n",
              "    </tr>\n",
              "    <tr>\n",
              "      <th>12</th>\n",
              "      <td>perfumery</td>\n",
              "      <td>3575</td>\n",
              "    </tr>\n",
              "    <tr>\n",
              "      <th>13</th>\n",
              "      <td>baby</td>\n",
              "      <td>3178</td>\n",
              "    </tr>\n",
              "    <tr>\n",
              "      <th>14</th>\n",
              "      <td>electronics</td>\n",
              "      <td>2827</td>\n",
              "    </tr>\n",
              "    <tr>\n",
              "      <th>15</th>\n",
              "      <td>stationery</td>\n",
              "      <td>2607</td>\n",
              "    </tr>\n",
              "  </tbody>\n",
              "</table>\n",
              "</div>"
            ],
            "text/plain": [
              "   product_category_name_english  jumlah\n",
              "11                    cool_stuff    3964\n",
              "12                     perfumery    3575\n",
              "13                          baby    3178\n",
              "14                   electronics    2827\n",
              "15                    stationery    2607"
            ]
          },
          "execution_count": 67,
          "metadata": {},
          "output_type": "execute_result"
        }
      ],
      "source": [
        "top_product_cat = all_dataset.groupby(by='product_category_name_english').agg({\n",
        "    'order_id':'count'\n",
        "}).sort_values(\n",
        "    by='order_id', \n",
        "    ascending=False).reset_index().rename(columns={'order_id':'jumlah'})\n",
        "\n",
        "top_product_cat.iloc[11:,].head()"
      ]
    },
    {
      "cell_type": "code",
      "execution_count": null,
      "metadata": {},
      "outputs": [],
      "source": []
    },
    {
      "cell_type": "code",
      "execution_count": 26,
      "metadata": {},
      "outputs": [
        {
          "data": {
            "application/vnd.plotly.v1+json": {
              "config": {
                "plotlyServerURL": "https://plot.ly"
              },
              "data": [
                {
                  "alignmentgroup": "True",
                  "hovertemplate": "seller_state=%{x}<br>jumlah=%{y}<extra></extra>",
                  "legendgroup": "",
                  "marker": {
                    "color": "#636efa",
                    "pattern": {
                      "shape": ""
                    }
                  },
                  "name": "",
                  "offsetgroup": "",
                  "orientation": "v",
                  "showlegend": false,
                  "textposition": "auto",
                  "type": "bar",
                  "x": [
                    "SP",
                    "MG",
                    "PR",
                    "RJ",
                    "SC",
                    "RS",
                    "DF",
                    "BA",
                    "GO",
                    "PE"
                  ],
                  "xaxis": "x",
                  "y": [
                    82417,
                    9014,
                    8964,
                    4906,
                    4221,
                    2224,
                    937,
                    698,
                    537,
                    461
                  ],
                  "yaxis": "y"
                }
              ],
              "layout": {
                "barmode": "relative",
                "legend": {
                  "tracegroupgap": 0
                },
                "template": {
                  "data": {
                    "bar": [
                      {
                        "error_x": {
                          "color": "#2a3f5f"
                        },
                        "error_y": {
                          "color": "#2a3f5f"
                        },
                        "marker": {
                          "line": {
                            "color": "#E5ECF6",
                            "width": 0.5
                          },
                          "pattern": {
                            "fillmode": "overlay",
                            "size": 10,
                            "solidity": 0.2
                          }
                        },
                        "type": "bar"
                      }
                    ],
                    "barpolar": [
                      {
                        "marker": {
                          "line": {
                            "color": "#E5ECF6",
                            "width": 0.5
                          },
                          "pattern": {
                            "fillmode": "overlay",
                            "size": 10,
                            "solidity": 0.2
                          }
                        },
                        "type": "barpolar"
                      }
                    ],
                    "carpet": [
                      {
                        "aaxis": {
                          "endlinecolor": "#2a3f5f",
                          "gridcolor": "white",
                          "linecolor": "white",
                          "minorgridcolor": "white",
                          "startlinecolor": "#2a3f5f"
                        },
                        "baxis": {
                          "endlinecolor": "#2a3f5f",
                          "gridcolor": "white",
                          "linecolor": "white",
                          "minorgridcolor": "white",
                          "startlinecolor": "#2a3f5f"
                        },
                        "type": "carpet"
                      }
                    ],
                    "choropleth": [
                      {
                        "colorbar": {
                          "outlinewidth": 0,
                          "ticks": ""
                        },
                        "type": "choropleth"
                      }
                    ],
                    "contour": [
                      {
                        "colorbar": {
                          "outlinewidth": 0,
                          "ticks": ""
                        },
                        "colorscale": [
                          [
                            0,
                            "#0d0887"
                          ],
                          [
                            0.1111111111111111,
                            "#46039f"
                          ],
                          [
                            0.2222222222222222,
                            "#7201a8"
                          ],
                          [
                            0.3333333333333333,
                            "#9c179e"
                          ],
                          [
                            0.4444444444444444,
                            "#bd3786"
                          ],
                          [
                            0.5555555555555556,
                            "#d8576b"
                          ],
                          [
                            0.6666666666666666,
                            "#ed7953"
                          ],
                          [
                            0.7777777777777778,
                            "#fb9f3a"
                          ],
                          [
                            0.8888888888888888,
                            "#fdca26"
                          ],
                          [
                            1,
                            "#f0f921"
                          ]
                        ],
                        "type": "contour"
                      }
                    ],
                    "contourcarpet": [
                      {
                        "colorbar": {
                          "outlinewidth": 0,
                          "ticks": ""
                        },
                        "type": "contourcarpet"
                      }
                    ],
                    "heatmap": [
                      {
                        "colorbar": {
                          "outlinewidth": 0,
                          "ticks": ""
                        },
                        "colorscale": [
                          [
                            0,
                            "#0d0887"
                          ],
                          [
                            0.1111111111111111,
                            "#46039f"
                          ],
                          [
                            0.2222222222222222,
                            "#7201a8"
                          ],
                          [
                            0.3333333333333333,
                            "#9c179e"
                          ],
                          [
                            0.4444444444444444,
                            "#bd3786"
                          ],
                          [
                            0.5555555555555556,
                            "#d8576b"
                          ],
                          [
                            0.6666666666666666,
                            "#ed7953"
                          ],
                          [
                            0.7777777777777778,
                            "#fb9f3a"
                          ],
                          [
                            0.8888888888888888,
                            "#fdca26"
                          ],
                          [
                            1,
                            "#f0f921"
                          ]
                        ],
                        "type": "heatmap"
                      }
                    ],
                    "heatmapgl": [
                      {
                        "colorbar": {
                          "outlinewidth": 0,
                          "ticks": ""
                        },
                        "colorscale": [
                          [
                            0,
                            "#0d0887"
                          ],
                          [
                            0.1111111111111111,
                            "#46039f"
                          ],
                          [
                            0.2222222222222222,
                            "#7201a8"
                          ],
                          [
                            0.3333333333333333,
                            "#9c179e"
                          ],
                          [
                            0.4444444444444444,
                            "#bd3786"
                          ],
                          [
                            0.5555555555555556,
                            "#d8576b"
                          ],
                          [
                            0.6666666666666666,
                            "#ed7953"
                          ],
                          [
                            0.7777777777777778,
                            "#fb9f3a"
                          ],
                          [
                            0.8888888888888888,
                            "#fdca26"
                          ],
                          [
                            1,
                            "#f0f921"
                          ]
                        ],
                        "type": "heatmapgl"
                      }
                    ],
                    "histogram": [
                      {
                        "marker": {
                          "pattern": {
                            "fillmode": "overlay",
                            "size": 10,
                            "solidity": 0.2
                          }
                        },
                        "type": "histogram"
                      }
                    ],
                    "histogram2d": [
                      {
                        "colorbar": {
                          "outlinewidth": 0,
                          "ticks": ""
                        },
                        "colorscale": [
                          [
                            0,
                            "#0d0887"
                          ],
                          [
                            0.1111111111111111,
                            "#46039f"
                          ],
                          [
                            0.2222222222222222,
                            "#7201a8"
                          ],
                          [
                            0.3333333333333333,
                            "#9c179e"
                          ],
                          [
                            0.4444444444444444,
                            "#bd3786"
                          ],
                          [
                            0.5555555555555556,
                            "#d8576b"
                          ],
                          [
                            0.6666666666666666,
                            "#ed7953"
                          ],
                          [
                            0.7777777777777778,
                            "#fb9f3a"
                          ],
                          [
                            0.8888888888888888,
                            "#fdca26"
                          ],
                          [
                            1,
                            "#f0f921"
                          ]
                        ],
                        "type": "histogram2d"
                      }
                    ],
                    "histogram2dcontour": [
                      {
                        "colorbar": {
                          "outlinewidth": 0,
                          "ticks": ""
                        },
                        "colorscale": [
                          [
                            0,
                            "#0d0887"
                          ],
                          [
                            0.1111111111111111,
                            "#46039f"
                          ],
                          [
                            0.2222222222222222,
                            "#7201a8"
                          ],
                          [
                            0.3333333333333333,
                            "#9c179e"
                          ],
                          [
                            0.4444444444444444,
                            "#bd3786"
                          ],
                          [
                            0.5555555555555556,
                            "#d8576b"
                          ],
                          [
                            0.6666666666666666,
                            "#ed7953"
                          ],
                          [
                            0.7777777777777778,
                            "#fb9f3a"
                          ],
                          [
                            0.8888888888888888,
                            "#fdca26"
                          ],
                          [
                            1,
                            "#f0f921"
                          ]
                        ],
                        "type": "histogram2dcontour"
                      }
                    ],
                    "mesh3d": [
                      {
                        "colorbar": {
                          "outlinewidth": 0,
                          "ticks": ""
                        },
                        "type": "mesh3d"
                      }
                    ],
                    "parcoords": [
                      {
                        "line": {
                          "colorbar": {
                            "outlinewidth": 0,
                            "ticks": ""
                          }
                        },
                        "type": "parcoords"
                      }
                    ],
                    "pie": [
                      {
                        "automargin": true,
                        "type": "pie"
                      }
                    ],
                    "scatter": [
                      {
                        "fillpattern": {
                          "fillmode": "overlay",
                          "size": 10,
                          "solidity": 0.2
                        },
                        "type": "scatter"
                      }
                    ],
                    "scatter3d": [
                      {
                        "line": {
                          "colorbar": {
                            "outlinewidth": 0,
                            "ticks": ""
                          }
                        },
                        "marker": {
                          "colorbar": {
                            "outlinewidth": 0,
                            "ticks": ""
                          }
                        },
                        "type": "scatter3d"
                      }
                    ],
                    "scattercarpet": [
                      {
                        "marker": {
                          "colorbar": {
                            "outlinewidth": 0,
                            "ticks": ""
                          }
                        },
                        "type": "scattercarpet"
                      }
                    ],
                    "scattergeo": [
                      {
                        "marker": {
                          "colorbar": {
                            "outlinewidth": 0,
                            "ticks": ""
                          }
                        },
                        "type": "scattergeo"
                      }
                    ],
                    "scattergl": [
                      {
                        "marker": {
                          "colorbar": {
                            "outlinewidth": 0,
                            "ticks": ""
                          }
                        },
                        "type": "scattergl"
                      }
                    ],
                    "scattermapbox": [
                      {
                        "marker": {
                          "colorbar": {
                            "outlinewidth": 0,
                            "ticks": ""
                          }
                        },
                        "type": "scattermapbox"
                      }
                    ],
                    "scatterpolar": [
                      {
                        "marker": {
                          "colorbar": {
                            "outlinewidth": 0,
                            "ticks": ""
                          }
                        },
                        "type": "scatterpolar"
                      }
                    ],
                    "scatterpolargl": [
                      {
                        "marker": {
                          "colorbar": {
                            "outlinewidth": 0,
                            "ticks": ""
                          }
                        },
                        "type": "scatterpolargl"
                      }
                    ],
                    "scatterternary": [
                      {
                        "marker": {
                          "colorbar": {
                            "outlinewidth": 0,
                            "ticks": ""
                          }
                        },
                        "type": "scatterternary"
                      }
                    ],
                    "surface": [
                      {
                        "colorbar": {
                          "outlinewidth": 0,
                          "ticks": ""
                        },
                        "colorscale": [
                          [
                            0,
                            "#0d0887"
                          ],
                          [
                            0.1111111111111111,
                            "#46039f"
                          ],
                          [
                            0.2222222222222222,
                            "#7201a8"
                          ],
                          [
                            0.3333333333333333,
                            "#9c179e"
                          ],
                          [
                            0.4444444444444444,
                            "#bd3786"
                          ],
                          [
                            0.5555555555555556,
                            "#d8576b"
                          ],
                          [
                            0.6666666666666666,
                            "#ed7953"
                          ],
                          [
                            0.7777777777777778,
                            "#fb9f3a"
                          ],
                          [
                            0.8888888888888888,
                            "#fdca26"
                          ],
                          [
                            1,
                            "#f0f921"
                          ]
                        ],
                        "type": "surface"
                      }
                    ],
                    "table": [
                      {
                        "cells": {
                          "fill": {
                            "color": "#EBF0F8"
                          },
                          "line": {
                            "color": "white"
                          }
                        },
                        "header": {
                          "fill": {
                            "color": "#C8D4E3"
                          },
                          "line": {
                            "color": "white"
                          }
                        },
                        "type": "table"
                      }
                    ]
                  },
                  "layout": {
                    "annotationdefaults": {
                      "arrowcolor": "#2a3f5f",
                      "arrowhead": 0,
                      "arrowwidth": 1
                    },
                    "autotypenumbers": "strict",
                    "coloraxis": {
                      "colorbar": {
                        "outlinewidth": 0,
                        "ticks": ""
                      }
                    },
                    "colorscale": {
                      "diverging": [
                        [
                          0,
                          "#8e0152"
                        ],
                        [
                          0.1,
                          "#c51b7d"
                        ],
                        [
                          0.2,
                          "#de77ae"
                        ],
                        [
                          0.3,
                          "#f1b6da"
                        ],
                        [
                          0.4,
                          "#fde0ef"
                        ],
                        [
                          0.5,
                          "#f7f7f7"
                        ],
                        [
                          0.6,
                          "#e6f5d0"
                        ],
                        [
                          0.7,
                          "#b8e186"
                        ],
                        [
                          0.8,
                          "#7fbc41"
                        ],
                        [
                          0.9,
                          "#4d9221"
                        ],
                        [
                          1,
                          "#276419"
                        ]
                      ],
                      "sequential": [
                        [
                          0,
                          "#0d0887"
                        ],
                        [
                          0.1111111111111111,
                          "#46039f"
                        ],
                        [
                          0.2222222222222222,
                          "#7201a8"
                        ],
                        [
                          0.3333333333333333,
                          "#9c179e"
                        ],
                        [
                          0.4444444444444444,
                          "#bd3786"
                        ],
                        [
                          0.5555555555555556,
                          "#d8576b"
                        ],
                        [
                          0.6666666666666666,
                          "#ed7953"
                        ],
                        [
                          0.7777777777777778,
                          "#fb9f3a"
                        ],
                        [
                          0.8888888888888888,
                          "#fdca26"
                        ],
                        [
                          1,
                          "#f0f921"
                        ]
                      ],
                      "sequentialminus": [
                        [
                          0,
                          "#0d0887"
                        ],
                        [
                          0.1111111111111111,
                          "#46039f"
                        ],
                        [
                          0.2222222222222222,
                          "#7201a8"
                        ],
                        [
                          0.3333333333333333,
                          "#9c179e"
                        ],
                        [
                          0.4444444444444444,
                          "#bd3786"
                        ],
                        [
                          0.5555555555555556,
                          "#d8576b"
                        ],
                        [
                          0.6666666666666666,
                          "#ed7953"
                        ],
                        [
                          0.7777777777777778,
                          "#fb9f3a"
                        ],
                        [
                          0.8888888888888888,
                          "#fdca26"
                        ],
                        [
                          1,
                          "#f0f921"
                        ]
                      ]
                    },
                    "colorway": [
                      "#636efa",
                      "#EF553B",
                      "#00cc96",
                      "#ab63fa",
                      "#FFA15A",
                      "#19d3f3",
                      "#FF6692",
                      "#B6E880",
                      "#FF97FF",
                      "#FECB52"
                    ],
                    "font": {
                      "color": "#2a3f5f"
                    },
                    "geo": {
                      "bgcolor": "white",
                      "lakecolor": "white",
                      "landcolor": "#E5ECF6",
                      "showlakes": true,
                      "showland": true,
                      "subunitcolor": "white"
                    },
                    "hoverlabel": {
                      "align": "left"
                    },
                    "hovermode": "closest",
                    "mapbox": {
                      "style": "light"
                    },
                    "paper_bgcolor": "white",
                    "plot_bgcolor": "#E5ECF6",
                    "polar": {
                      "angularaxis": {
                        "gridcolor": "white",
                        "linecolor": "white",
                        "ticks": ""
                      },
                      "bgcolor": "#E5ECF6",
                      "radialaxis": {
                        "gridcolor": "white",
                        "linecolor": "white",
                        "ticks": ""
                      }
                    },
                    "scene": {
                      "xaxis": {
                        "backgroundcolor": "#E5ECF6",
                        "gridcolor": "white",
                        "gridwidth": 2,
                        "linecolor": "white",
                        "showbackground": true,
                        "ticks": "",
                        "zerolinecolor": "white"
                      },
                      "yaxis": {
                        "backgroundcolor": "#E5ECF6",
                        "gridcolor": "white",
                        "gridwidth": 2,
                        "linecolor": "white",
                        "showbackground": true,
                        "ticks": "",
                        "zerolinecolor": "white"
                      },
                      "zaxis": {
                        "backgroundcolor": "#E5ECF6",
                        "gridcolor": "white",
                        "gridwidth": 2,
                        "linecolor": "white",
                        "showbackground": true,
                        "ticks": "",
                        "zerolinecolor": "white"
                      }
                    },
                    "shapedefaults": {
                      "line": {
                        "color": "#2a3f5f"
                      }
                    },
                    "ternary": {
                      "aaxis": {
                        "gridcolor": "white",
                        "linecolor": "white",
                        "ticks": ""
                      },
                      "baxis": {
                        "gridcolor": "white",
                        "linecolor": "white",
                        "ticks": ""
                      },
                      "bgcolor": "#E5ECF6",
                      "caxis": {
                        "gridcolor": "white",
                        "linecolor": "white",
                        "ticks": ""
                      }
                    },
                    "title": {
                      "x": 0.05
                    },
                    "xaxis": {
                      "automargin": true,
                      "gridcolor": "white",
                      "linecolor": "white",
                      "ticks": "",
                      "title": {
                        "standoff": 15
                      },
                      "zerolinecolor": "white",
                      "zerolinewidth": 2
                    },
                    "yaxis": {
                      "automargin": true,
                      "gridcolor": "white",
                      "linecolor": "white",
                      "ticks": "",
                      "title": {
                        "standoff": 15
                      },
                      "zerolinecolor": "white",
                      "zerolinewidth": 2
                    }
                  }
                },
                "title": {
                  "text": "States With The Largest Sellers"
                },
                "xaxis": {
                  "anchor": "y",
                  "domain": [
                    0,
                    1
                  ],
                  "title": {
                    "text": "seller_state"
                  }
                },
                "yaxis": {
                  "anchor": "x",
                  "domain": [
                    0,
                    1
                  ],
                  "title": {
                    "text": "jumlah"
                  }
                }
              }
            }
          },
          "metadata": {},
          "output_type": "display_data"
        }
      ],
      "source": [
        "fig_seller_by_states = px.bar(\n",
        "            all_dataset.seller_state.value_counts().to_frame().reset_index().rename(columns={'count':'jumlah'}).head(10), \n",
        "            x='seller_state', \n",
        "            y='jumlah',\n",
        "            title='States With The Largest Sellers' )\n",
        "fig_seller_by_states.show()\n",
        "# st.plotly_chart(fig_seller_by_states, theme=\"streamlit\", use_container_width=True)"
      ]
    },
    {
      "cell_type": "markdown",
      "metadata": {},
      "source": [
        "### Pertanyaan 2 kategori produk apa saja yang memiliki skor review yang baik"
      ]
    },
    {
      "cell_type": "code",
      "execution_count": null,
      "metadata": {},
      "outputs": [
        {
          "data": {
            "text/plain": [
              "Index(['order_id', 'customer_id', 'order_status', 'order_purchase_timestamp',\n",
              "       'order_approved_at', 'order_delivered_carrier_date',\n",
              "       'order_delivered_customer_date', 'order_estimated_delivery_date',\n",
              "       'delivery_time', 'order_item_id', 'product_id', 'seller_id',\n",
              "       'shipping_limit_date', 'price', 'freight_value', 'total_price',\n",
              "       'payment_sequential', 'payment_type', 'payment_installments',\n",
              "       'payment_value', 'review_id', 'review_score', 'review_comment_title',\n",
              "       'review_comment_message', 'review_creation_date',\n",
              "       'review_answer_timestamp', 'customer_unique_id',\n",
              "       'customer_zip_code_prefix', 'customer_city', 'customer_state',\n",
              "       'cust_status', 'product_category_name', 'product_name_lenght',\n",
              "       'product_description_lenght', 'product_photos_qty', 'product_weight_g',\n",
              "       'product_length_cm', 'product_height_cm', 'product_width_cm',\n",
              "       'product_category_name_english'],\n",
              "      dtype='object')"
            ]
          },
          "execution_count": 68,
          "metadata": {},
          "output_type": "execute_result"
        }
      ],
      "source": [
        "all_dataset.columns"
      ]
    },
    {
      "cell_type": "code",
      "execution_count": null,
      "metadata": {},
      "outputs": [
        {
          "data": {
            "text/html": [
              "<div>\n",
              "<style scoped>\n",
              "    .dataframe tbody tr th:only-of-type {\n",
              "        vertical-align: middle;\n",
              "    }\n",
              "\n",
              "    .dataframe tbody tr th {\n",
              "        vertical-align: top;\n",
              "    }\n",
              "\n",
              "    .dataframe thead th {\n",
              "        text-align: right;\n",
              "    }\n",
              "</style>\n",
              "<table border=\"1\" class=\"dataframe\">\n",
              "  <thead>\n",
              "    <tr style=\"text-align: right;\">\n",
              "      <th></th>\n",
              "      <th>review_score</th>\n",
              "      <th>product_category_name_english</th>\n",
              "      <th>jumlah</th>\n",
              "    </tr>\n",
              "  </thead>\n",
              "  <tbody>\n",
              "    <tr>\n",
              "      <th>0</th>\n",
              "      <td>5</td>\n",
              "      <td>bed_bath_table</td>\n",
              "      <td>6166</td>\n",
              "    </tr>\n",
              "    <tr>\n",
              "      <th>1</th>\n",
              "      <td>5</td>\n",
              "      <td>health_beauty</td>\n",
              "      <td>6024</td>\n",
              "    </tr>\n",
              "    <tr>\n",
              "      <th>2</th>\n",
              "      <td>5</td>\n",
              "      <td>sports_leisure</td>\n",
              "      <td>5284</td>\n",
              "    </tr>\n",
              "    <tr>\n",
              "      <th>3</th>\n",
              "      <td>5</td>\n",
              "      <td>furniture_decor</td>\n",
              "      <td>4698</td>\n",
              "    </tr>\n",
              "    <tr>\n",
              "      <th>4</th>\n",
              "      <td>5</td>\n",
              "      <td>computers_accessories</td>\n",
              "      <td>4347</td>\n",
              "    </tr>\n",
              "  </tbody>\n",
              "</table>\n",
              "</div>"
            ],
            "text/plain": [
              "   review_score product_category_name_english  jumlah\n",
              "0             5                bed_bath_table    6166\n",
              "1             5                 health_beauty    6024\n",
              "2             5                sports_leisure    5284\n",
              "3             5               furniture_decor    4698\n",
              "4             5         computers_accessories    4347"
            ]
          },
          "execution_count": 72,
          "metadata": {},
          "output_type": "execute_result"
        }
      ],
      "source": [
        "def product_review(df):\n",
        "    return df.groupby(by=['review_score','product_category_name_english']).agg({'review_id':'count'}).sort_values(\n",
        "        by='review_id', \n",
        "        ascending=False).rename(columns={'review_id':'jumlah'}).reset_index()\n",
        "\n",
        "product_review(all_dataset).head()"
      ]
    },
    {
      "cell_type": "code",
      "execution_count": null,
      "metadata": {},
      "outputs": [
        {
          "data": {
            "application/vnd.plotly.v1+json": {
              "config": {
                "plotlyServerURL": "https://plot.ly"
              },
              "data": [
                {
                  "branchvalues": "total",
                  "domain": {
                    "x": [
                      0,
                      1
                    ],
                    "y": [
                      0,
                      1
                    ]
                  },
                  "hovertemplate": "labels=%{label}<br>jumlah=%{value}<br>parent=%{parent}<br>id=%{id}<extra></extra>",
                  "ids": [
                    "Product Score Review/1/agro_industry_and_commerce",
                    "Product Score Review/2/agro_industry_and_commerce",
                    "Product Score Review/3/agro_industry_and_commerce",
                    "Product Score Review/4/agro_industry_and_commerce",
                    "Product Score Review/5/agro_industry_and_commerce",
                    "Product Score Review/1/air_conditioning",
                    "Product Score Review/2/air_conditioning",
                    "Product Score Review/3/air_conditioning",
                    "Product Score Review/4/air_conditioning",
                    "Product Score Review/5/air_conditioning",
                    "Product Score Review/1/art",
                    "Product Score Review/2/art",
                    "Product Score Review/3/art",
                    "Product Score Review/4/art",
                    "Product Score Review/5/art",
                    "Product Score Review/1/arts_and_craftmanship",
                    "Product Score Review/3/arts_and_craftmanship",
                    "Product Score Review/4/arts_and_craftmanship",
                    "Product Score Review/5/arts_and_craftmanship",
                    "Product Score Review/1/audio",
                    "Product Score Review/2/audio",
                    "Product Score Review/3/audio",
                    "Product Score Review/4/audio",
                    "Product Score Review/5/audio",
                    "Product Score Review/1/auto",
                    "Product Score Review/2/auto",
                    "Product Score Review/3/auto",
                    "Product Score Review/4/auto",
                    "Product Score Review/5/auto",
                    "Product Score Review/1/baby",
                    "Product Score Review/2/baby",
                    "Product Score Review/3/baby",
                    "Product Score Review/4/baby",
                    "Product Score Review/5/baby",
                    "Product Score Review/1/bed_bath_table",
                    "Product Score Review/2/bed_bath_table",
                    "Product Score Review/3/bed_bath_table",
                    "Product Score Review/4/bed_bath_table",
                    "Product Score Review/5/bed_bath_table",
                    "Product Score Review/1/books_general_interest",
                    "Product Score Review/2/books_general_interest",
                    "Product Score Review/3/books_general_interest",
                    "Product Score Review/4/books_general_interest",
                    "Product Score Review/5/books_general_interest",
                    "Product Score Review/1/books_imported",
                    "Product Score Review/2/books_imported",
                    "Product Score Review/3/books_imported",
                    "Product Score Review/4/books_imported",
                    "Product Score Review/5/books_imported",
                    "Product Score Review/1/books_technical",
                    "Product Score Review/2/books_technical",
                    "Product Score Review/3/books_technical",
                    "Product Score Review/4/books_technical",
                    "Product Score Review/5/books_technical",
                    "Product Score Review/3/cds_dvds_musicals",
                    "Product Score Review/4/cds_dvds_musicals",
                    "Product Score Review/5/cds_dvds_musicals",
                    "Product Score Review/1/christmas_supplies",
                    "Product Score Review/2/christmas_supplies",
                    "Product Score Review/3/christmas_supplies",
                    "Product Score Review/4/christmas_supplies",
                    "Product Score Review/5/christmas_supplies",
                    "Product Score Review/1/cine_photo",
                    "Product Score Review/2/cine_photo",
                    "Product Score Review/3/cine_photo",
                    "Product Score Review/4/cine_photo",
                    "Product Score Review/5/cine_photo",
                    "Product Score Review/1/computers",
                    "Product Score Review/2/computers",
                    "Product Score Review/3/computers",
                    "Product Score Review/4/computers",
                    "Product Score Review/5/computers",
                    "Product Score Review/1/computers_accessories",
                    "Product Score Review/2/computers_accessories",
                    "Product Score Review/3/computers_accessories",
                    "Product Score Review/4/computers_accessories",
                    "Product Score Review/5/computers_accessories",
                    "Product Score Review/1/consoles_games",
                    "Product Score Review/2/consoles_games",
                    "Product Score Review/3/consoles_games",
                    "Product Score Review/4/consoles_games",
                    "Product Score Review/5/consoles_games",
                    "Product Score Review/1/construction_tools_construction",
                    "Product Score Review/2/construction_tools_construction",
                    "Product Score Review/3/construction_tools_construction",
                    "Product Score Review/4/construction_tools_construction",
                    "Product Score Review/5/construction_tools_construction",
                    "Product Score Review/1/construction_tools_lights",
                    "Product Score Review/2/construction_tools_lights",
                    "Product Score Review/3/construction_tools_lights",
                    "Product Score Review/4/construction_tools_lights",
                    "Product Score Review/5/construction_tools_lights",
                    "Product Score Review/1/construction_tools_safety",
                    "Product Score Review/2/construction_tools_safety",
                    "Product Score Review/3/construction_tools_safety",
                    "Product Score Review/4/construction_tools_safety",
                    "Product Score Review/5/construction_tools_safety",
                    "Product Score Review/1/cool_stuff",
                    "Product Score Review/2/cool_stuff",
                    "Product Score Review/3/cool_stuff",
                    "Product Score Review/4/cool_stuff",
                    "Product Score Review/5/cool_stuff",
                    "Product Score Review/1/costruction_tools_garden",
                    "Product Score Review/2/costruction_tools_garden",
                    "Product Score Review/3/costruction_tools_garden",
                    "Product Score Review/4/costruction_tools_garden",
                    "Product Score Review/5/costruction_tools_garden",
                    "Product Score Review/1/costruction_tools_tools",
                    "Product Score Review/3/costruction_tools_tools",
                    "Product Score Review/4/costruction_tools_tools",
                    "Product Score Review/5/costruction_tools_tools",
                    "Product Score Review/1/diapers_and_hygiene",
                    "Product Score Review/3/diapers_and_hygiene",
                    "Product Score Review/4/diapers_and_hygiene",
                    "Product Score Review/5/diapers_and_hygiene",
                    "Product Score Review/1/drinks",
                    "Product Score Review/2/drinks",
                    "Product Score Review/3/drinks",
                    "Product Score Review/4/drinks",
                    "Product Score Review/5/drinks",
                    "Product Score Review/1/dvds_blu_ray",
                    "Product Score Review/2/dvds_blu_ray",
                    "Product Score Review/3/dvds_blu_ray",
                    "Product Score Review/4/dvds_blu_ray",
                    "Product Score Review/5/dvds_blu_ray",
                    "Product Score Review/1/electronics",
                    "Product Score Review/2/electronics",
                    "Product Score Review/3/electronics",
                    "Product Score Review/4/electronics",
                    "Product Score Review/5/electronics",
                    "Product Score Review/1/fashio_female_clothing",
                    "Product Score Review/2/fashio_female_clothing",
                    "Product Score Review/3/fashio_female_clothing",
                    "Product Score Review/4/fashio_female_clothing",
                    "Product Score Review/5/fashio_female_clothing",
                    "Product Score Review/1/fashion_bags_accessories",
                    "Product Score Review/2/fashion_bags_accessories",
                    "Product Score Review/3/fashion_bags_accessories",
                    "Product Score Review/4/fashion_bags_accessories",
                    "Product Score Review/5/fashion_bags_accessories",
                    "Product Score Review/1/fashion_childrens_clothes",
                    "Product Score Review/5/fashion_childrens_clothes",
                    "Product Score Review/1/fashion_male_clothing",
                    "Product Score Review/2/fashion_male_clothing",
                    "Product Score Review/3/fashion_male_clothing",
                    "Product Score Review/4/fashion_male_clothing",
                    "Product Score Review/5/fashion_male_clothing",
                    "Product Score Review/1/fashion_shoes",
                    "Product Score Review/2/fashion_shoes",
                    "Product Score Review/3/fashion_shoes",
                    "Product Score Review/4/fashion_shoes",
                    "Product Score Review/5/fashion_shoes",
                    "Product Score Review/1/fashion_sport",
                    "Product Score Review/2/fashion_sport",
                    "Product Score Review/3/fashion_sport",
                    "Product Score Review/4/fashion_sport",
                    "Product Score Review/5/fashion_sport",
                    "Product Score Review/1/fashion_underwear_beach",
                    "Product Score Review/2/fashion_underwear_beach",
                    "Product Score Review/3/fashion_underwear_beach",
                    "Product Score Review/4/fashion_underwear_beach",
                    "Product Score Review/5/fashion_underwear_beach",
                    "Product Score Review/1/fixed_telephony",
                    "Product Score Review/2/fixed_telephony",
                    "Product Score Review/3/fixed_telephony",
                    "Product Score Review/4/fixed_telephony",
                    "Product Score Review/5/fixed_telephony",
                    "Product Score Review/1/flowers",
                    "Product Score Review/3/flowers",
                    "Product Score Review/4/flowers",
                    "Product Score Review/5/flowers",
                    "Product Score Review/1/food",
                    "Product Score Review/2/food",
                    "Product Score Review/3/food",
                    "Product Score Review/4/food",
                    "Product Score Review/5/food",
                    "Product Score Review/1/food_drink",
                    "Product Score Review/2/food_drink",
                    "Product Score Review/3/food_drink",
                    "Product Score Review/4/food_drink",
                    "Product Score Review/5/food_drink",
                    "Product Score Review/1/furniture_bedroom",
                    "Product Score Review/2/furniture_bedroom",
                    "Product Score Review/3/furniture_bedroom",
                    "Product Score Review/4/furniture_bedroom",
                    "Product Score Review/5/furniture_bedroom",
                    "Product Score Review/1/furniture_decor",
                    "Product Score Review/2/furniture_decor",
                    "Product Score Review/3/furniture_decor",
                    "Product Score Review/4/furniture_decor",
                    "Product Score Review/5/furniture_decor",
                    "Product Score Review/1/furniture_living_room",
                    "Product Score Review/2/furniture_living_room",
                    "Product Score Review/3/furniture_living_room",
                    "Product Score Review/4/furniture_living_room",
                    "Product Score Review/5/furniture_living_room",
                    "Product Score Review/1/furniture_mattress_and_upholstery",
                    "Product Score Review/2/furniture_mattress_and_upholstery",
                    "Product Score Review/3/furniture_mattress_and_upholstery",
                    "Product Score Review/4/furniture_mattress_and_upholstery",
                    "Product Score Review/5/furniture_mattress_and_upholstery",
                    "Product Score Review/1/garden_tools",
                    "Product Score Review/2/garden_tools",
                    "Product Score Review/3/garden_tools",
                    "Product Score Review/4/garden_tools",
                    "Product Score Review/5/garden_tools",
                    "Product Score Review/1/health_beauty",
                    "Product Score Review/2/health_beauty",
                    "Product Score Review/3/health_beauty",
                    "Product Score Review/4/health_beauty",
                    "Product Score Review/5/health_beauty",
                    "Product Score Review/1/home_appliances",
                    "Product Score Review/2/home_appliances",
                    "Product Score Review/3/home_appliances",
                    "Product Score Review/4/home_appliances",
                    "Product Score Review/5/home_appliances",
                    "Product Score Review/1/home_appliances_2",
                    "Product Score Review/2/home_appliances_2",
                    "Product Score Review/3/home_appliances_2",
                    "Product Score Review/4/home_appliances_2",
                    "Product Score Review/5/home_appliances_2",
                    "Product Score Review/1/home_comfort_2",
                    "Product Score Review/2/home_comfort_2",
                    "Product Score Review/3/home_comfort_2",
                    "Product Score Review/4/home_comfort_2",
                    "Product Score Review/5/home_comfort_2",
                    "Product Score Review/1/home_confort",
                    "Product Score Review/2/home_confort",
                    "Product Score Review/3/home_confort",
                    "Product Score Review/4/home_confort",
                    "Product Score Review/5/home_confort",
                    "Product Score Review/1/home_construction",
                    "Product Score Review/2/home_construction",
                    "Product Score Review/3/home_construction",
                    "Product Score Review/4/home_construction",
                    "Product Score Review/5/home_construction",
                    "Product Score Review/1/housewares",
                    "Product Score Review/2/housewares",
                    "Product Score Review/3/housewares",
                    "Product Score Review/4/housewares",
                    "Product Score Review/5/housewares",
                    "Product Score Review/1/industry_commerce_and_business",
                    "Product Score Review/2/industry_commerce_and_business",
                    "Product Score Review/3/industry_commerce_and_business",
                    "Product Score Review/4/industry_commerce_and_business",
                    "Product Score Review/5/industry_commerce_and_business",
                    "Product Score Review/1/kitchen_dining_laundry_garden_furniture",
                    "Product Score Review/2/kitchen_dining_laundry_garden_furniture",
                    "Product Score Review/3/kitchen_dining_laundry_garden_furniture",
                    "Product Score Review/4/kitchen_dining_laundry_garden_furniture",
                    "Product Score Review/5/kitchen_dining_laundry_garden_furniture",
                    "Product Score Review/1/la_cuisine",
                    "Product Score Review/4/la_cuisine",
                    "Product Score Review/5/la_cuisine",
                    "Product Score Review/1/luggage_accessories",
                    "Product Score Review/2/luggage_accessories",
                    "Product Score Review/3/luggage_accessories",
                    "Product Score Review/4/luggage_accessories",
                    "Product Score Review/5/luggage_accessories",
                    "Product Score Review/1/market_place",
                    "Product Score Review/2/market_place",
                    "Product Score Review/3/market_place",
                    "Product Score Review/4/market_place",
                    "Product Score Review/5/market_place",
                    "Product Score Review/1/music",
                    "Product Score Review/3/music",
                    "Product Score Review/4/music",
                    "Product Score Review/5/music",
                    "Product Score Review/1/musical_instruments",
                    "Product Score Review/2/musical_instruments",
                    "Product Score Review/3/musical_instruments",
                    "Product Score Review/4/musical_instruments",
                    "Product Score Review/5/musical_instruments",
                    "Product Score Review/1/office_furniture",
                    "Product Score Review/2/office_furniture",
                    "Product Score Review/3/office_furniture",
                    "Product Score Review/4/office_furniture",
                    "Product Score Review/5/office_furniture",
                    "Product Score Review/1/party_supplies",
                    "Product Score Review/2/party_supplies",
                    "Product Score Review/3/party_supplies",
                    "Product Score Review/4/party_supplies",
                    "Product Score Review/5/party_supplies",
                    "Product Score Review/1/perfumery",
                    "Product Score Review/2/perfumery",
                    "Product Score Review/3/perfumery",
                    "Product Score Review/4/perfumery",
                    "Product Score Review/5/perfumery",
                    "Product Score Review/1/pet_shop",
                    "Product Score Review/2/pet_shop",
                    "Product Score Review/3/pet_shop",
                    "Product Score Review/4/pet_shop",
                    "Product Score Review/5/pet_shop",
                    "Product Score Review/1/security_and_services",
                    "Product Score Review/4/security_and_services",
                    "Product Score Review/1/signaling_and_security",
                    "Product Score Review/2/signaling_and_security",
                    "Product Score Review/3/signaling_and_security",
                    "Product Score Review/4/signaling_and_security",
                    "Product Score Review/5/signaling_and_security",
                    "Product Score Review/1/small_appliances",
                    "Product Score Review/2/small_appliances",
                    "Product Score Review/3/small_appliances",
                    "Product Score Review/4/small_appliances",
                    "Product Score Review/5/small_appliances",
                    "Product Score Review/1/small_appliances_home_oven_and_coffee",
                    "Product Score Review/2/small_appliances_home_oven_and_coffee",
                    "Product Score Review/3/small_appliances_home_oven_and_coffee",
                    "Product Score Review/4/small_appliances_home_oven_and_coffee",
                    "Product Score Review/5/small_appliances_home_oven_and_coffee",
                    "Product Score Review/1/sports_leisure",
                    "Product Score Review/2/sports_leisure",
                    "Product Score Review/3/sports_leisure",
                    "Product Score Review/4/sports_leisure",
                    "Product Score Review/5/sports_leisure",
                    "Product Score Review/1/stationery",
                    "Product Score Review/2/stationery",
                    "Product Score Review/3/stationery",
                    "Product Score Review/4/stationery",
                    "Product Score Review/5/stationery",
                    "Product Score Review/1/tablets_printing_image",
                    "Product Score Review/2/tablets_printing_image",
                    "Product Score Review/3/tablets_printing_image",
                    "Product Score Review/4/tablets_printing_image",
                    "Product Score Review/5/tablets_printing_image",
                    "Product Score Review/1/telephony",
                    "Product Score Review/2/telephony",
                    "Product Score Review/3/telephony",
                    "Product Score Review/4/telephony",
                    "Product Score Review/5/telephony",
                    "Product Score Review/1/toys",
                    "Product Score Review/2/toys",
                    "Product Score Review/3/toys",
                    "Product Score Review/4/toys",
                    "Product Score Review/5/toys",
                    "Product Score Review/1/watches_gifts",
                    "Product Score Review/2/watches_gifts",
                    "Product Score Review/3/watches_gifts",
                    "Product Score Review/4/watches_gifts",
                    "Product Score Review/5/watches_gifts",
                    "Product Score Review/1",
                    "Product Score Review/2",
                    "Product Score Review/3",
                    "Product Score Review/4",
                    "Product Score Review/5",
                    "Product Score Review"
                  ],
                  "labels": [
                    "agro_industry_and_commerce",
                    "agro_industry_and_commerce",
                    "agro_industry_and_commerce",
                    "agro_industry_and_commerce",
                    "agro_industry_and_commerce",
                    "air_conditioning",
                    "air_conditioning",
                    "air_conditioning",
                    "air_conditioning",
                    "air_conditioning",
                    "art",
                    "art",
                    "art",
                    "art",
                    "art",
                    "arts_and_craftmanship",
                    "arts_and_craftmanship",
                    "arts_and_craftmanship",
                    "arts_and_craftmanship",
                    "audio",
                    "audio",
                    "audio",
                    "audio",
                    "audio",
                    "auto",
                    "auto",
                    "auto",
                    "auto",
                    "auto",
                    "baby",
                    "baby",
                    "baby",
                    "baby",
                    "baby",
                    "bed_bath_table",
                    "bed_bath_table",
                    "bed_bath_table",
                    "bed_bath_table",
                    "bed_bath_table",
                    "books_general_interest",
                    "books_general_interest",
                    "books_general_interest",
                    "books_general_interest",
                    "books_general_interest",
                    "books_imported",
                    "books_imported",
                    "books_imported",
                    "books_imported",
                    "books_imported",
                    "books_technical",
                    "books_technical",
                    "books_technical",
                    "books_technical",
                    "books_technical",
                    "cds_dvds_musicals",
                    "cds_dvds_musicals",
                    "cds_dvds_musicals",
                    "christmas_supplies",
                    "christmas_supplies",
                    "christmas_supplies",
                    "christmas_supplies",
                    "christmas_supplies",
                    "cine_photo",
                    "cine_photo",
                    "cine_photo",
                    "cine_photo",
                    "cine_photo",
                    "computers",
                    "computers",
                    "computers",
                    "computers",
                    "computers",
                    "computers_accessories",
                    "computers_accessories",
                    "computers_accessories",
                    "computers_accessories",
                    "computers_accessories",
                    "consoles_games",
                    "consoles_games",
                    "consoles_games",
                    "consoles_games",
                    "consoles_games",
                    "construction_tools_construction",
                    "construction_tools_construction",
                    "construction_tools_construction",
                    "construction_tools_construction",
                    "construction_tools_construction",
                    "construction_tools_lights",
                    "construction_tools_lights",
                    "construction_tools_lights",
                    "construction_tools_lights",
                    "construction_tools_lights",
                    "construction_tools_safety",
                    "construction_tools_safety",
                    "construction_tools_safety",
                    "construction_tools_safety",
                    "construction_tools_safety",
                    "cool_stuff",
                    "cool_stuff",
                    "cool_stuff",
                    "cool_stuff",
                    "cool_stuff",
                    "costruction_tools_garden",
                    "costruction_tools_garden",
                    "costruction_tools_garden",
                    "costruction_tools_garden",
                    "costruction_tools_garden",
                    "costruction_tools_tools",
                    "costruction_tools_tools",
                    "costruction_tools_tools",
                    "costruction_tools_tools",
                    "diapers_and_hygiene",
                    "diapers_and_hygiene",
                    "diapers_and_hygiene",
                    "diapers_and_hygiene",
                    "drinks",
                    "drinks",
                    "drinks",
                    "drinks",
                    "drinks",
                    "dvds_blu_ray",
                    "dvds_blu_ray",
                    "dvds_blu_ray",
                    "dvds_blu_ray",
                    "dvds_blu_ray",
                    "electronics",
                    "electronics",
                    "electronics",
                    "electronics",
                    "electronics",
                    "fashio_female_clothing",
                    "fashio_female_clothing",
                    "fashio_female_clothing",
                    "fashio_female_clothing",
                    "fashio_female_clothing",
                    "fashion_bags_accessories",
                    "fashion_bags_accessories",
                    "fashion_bags_accessories",
                    "fashion_bags_accessories",
                    "fashion_bags_accessories",
                    "fashion_childrens_clothes",
                    "fashion_childrens_clothes",
                    "fashion_male_clothing",
                    "fashion_male_clothing",
                    "fashion_male_clothing",
                    "fashion_male_clothing",
                    "fashion_male_clothing",
                    "fashion_shoes",
                    "fashion_shoes",
                    "fashion_shoes",
                    "fashion_shoes",
                    "fashion_shoes",
                    "fashion_sport",
                    "fashion_sport",
                    "fashion_sport",
                    "fashion_sport",
                    "fashion_sport",
                    "fashion_underwear_beach",
                    "fashion_underwear_beach",
                    "fashion_underwear_beach",
                    "fashion_underwear_beach",
                    "fashion_underwear_beach",
                    "fixed_telephony",
                    "fixed_telephony",
                    "fixed_telephony",
                    "fixed_telephony",
                    "fixed_telephony",
                    "flowers",
                    "flowers",
                    "flowers",
                    "flowers",
                    "food",
                    "food",
                    "food",
                    "food",
                    "food",
                    "food_drink",
                    "food_drink",
                    "food_drink",
                    "food_drink",
                    "food_drink",
                    "furniture_bedroom",
                    "furniture_bedroom",
                    "furniture_bedroom",
                    "furniture_bedroom",
                    "furniture_bedroom",
                    "furniture_decor",
                    "furniture_decor",
                    "furniture_decor",
                    "furniture_decor",
                    "furniture_decor",
                    "furniture_living_room",
                    "furniture_living_room",
                    "furniture_living_room",
                    "furniture_living_room",
                    "furniture_living_room",
                    "furniture_mattress_and_upholstery",
                    "furniture_mattress_and_upholstery",
                    "furniture_mattress_and_upholstery",
                    "furniture_mattress_and_upholstery",
                    "furniture_mattress_and_upholstery",
                    "garden_tools",
                    "garden_tools",
                    "garden_tools",
                    "garden_tools",
                    "garden_tools",
                    "health_beauty",
                    "health_beauty",
                    "health_beauty",
                    "health_beauty",
                    "health_beauty",
                    "home_appliances",
                    "home_appliances",
                    "home_appliances",
                    "home_appliances",
                    "home_appliances",
                    "home_appliances_2",
                    "home_appliances_2",
                    "home_appliances_2",
                    "home_appliances_2",
                    "home_appliances_2",
                    "home_comfort_2",
                    "home_comfort_2",
                    "home_comfort_2",
                    "home_comfort_2",
                    "home_comfort_2",
                    "home_confort",
                    "home_confort",
                    "home_confort",
                    "home_confort",
                    "home_confort",
                    "home_construction",
                    "home_construction",
                    "home_construction",
                    "home_construction",
                    "home_construction",
                    "housewares",
                    "housewares",
                    "housewares",
                    "housewares",
                    "housewares",
                    "industry_commerce_and_business",
                    "industry_commerce_and_business",
                    "industry_commerce_and_business",
                    "industry_commerce_and_business",
                    "industry_commerce_and_business",
                    "kitchen_dining_laundry_garden_furniture",
                    "kitchen_dining_laundry_garden_furniture",
                    "kitchen_dining_laundry_garden_furniture",
                    "kitchen_dining_laundry_garden_furniture",
                    "kitchen_dining_laundry_garden_furniture",
                    "la_cuisine",
                    "la_cuisine",
                    "la_cuisine",
                    "luggage_accessories",
                    "luggage_accessories",
                    "luggage_accessories",
                    "luggage_accessories",
                    "luggage_accessories",
                    "market_place",
                    "market_place",
                    "market_place",
                    "market_place",
                    "market_place",
                    "music",
                    "music",
                    "music",
                    "music",
                    "musical_instruments",
                    "musical_instruments",
                    "musical_instruments",
                    "musical_instruments",
                    "musical_instruments",
                    "office_furniture",
                    "office_furniture",
                    "office_furniture",
                    "office_furniture",
                    "office_furniture",
                    "party_supplies",
                    "party_supplies",
                    "party_supplies",
                    "party_supplies",
                    "party_supplies",
                    "perfumery",
                    "perfumery",
                    "perfumery",
                    "perfumery",
                    "perfumery",
                    "pet_shop",
                    "pet_shop",
                    "pet_shop",
                    "pet_shop",
                    "pet_shop",
                    "security_and_services",
                    "security_and_services",
                    "signaling_and_security",
                    "signaling_and_security",
                    "signaling_and_security",
                    "signaling_and_security",
                    "signaling_and_security",
                    "small_appliances",
                    "small_appliances",
                    "small_appliances",
                    "small_appliances",
                    "small_appliances",
                    "small_appliances_home_oven_and_coffee",
                    "small_appliances_home_oven_and_coffee",
                    "small_appliances_home_oven_and_coffee",
                    "small_appliances_home_oven_and_coffee",
                    "small_appliances_home_oven_and_coffee",
                    "sports_leisure",
                    "sports_leisure",
                    "sports_leisure",
                    "sports_leisure",
                    "sports_leisure",
                    "stationery",
                    "stationery",
                    "stationery",
                    "stationery",
                    "stationery",
                    "tablets_printing_image",
                    "tablets_printing_image",
                    "tablets_printing_image",
                    "tablets_printing_image",
                    "tablets_printing_image",
                    "telephony",
                    "telephony",
                    "telephony",
                    "telephony",
                    "telephony",
                    "toys",
                    "toys",
                    "toys",
                    "toys",
                    "toys",
                    "watches_gifts",
                    "watches_gifts",
                    "watches_gifts",
                    "watches_gifts",
                    "watches_gifts",
                    "1",
                    "2",
                    "3",
                    "4",
                    "5",
                    "Product Score Review"
                  ],
                  "name": "",
                  "parents": [
                    "Product Score Review/1",
                    "Product Score Review/2",
                    "Product Score Review/3",
                    "Product Score Review/4",
                    "Product Score Review/5",
                    "Product Score Review/1",
                    "Product Score Review/2",
                    "Product Score Review/3",
                    "Product Score Review/4",
                    "Product Score Review/5",
                    "Product Score Review/1",
                    "Product Score Review/2",
                    "Product Score Review/3",
                    "Product Score Review/4",
                    "Product Score Review/5",
                    "Product Score Review/1",
                    "Product Score Review/3",
                    "Product Score Review/4",
                    "Product Score Review/5",
                    "Product Score Review/1",
                    "Product Score Review/2",
                    "Product Score Review/3",
                    "Product Score Review/4",
                    "Product Score Review/5",
                    "Product Score Review/1",
                    "Product Score Review/2",
                    "Product Score Review/3",
                    "Product Score Review/4",
                    "Product Score Review/5",
                    "Product Score Review/1",
                    "Product Score Review/2",
                    "Product Score Review/3",
                    "Product Score Review/4",
                    "Product Score Review/5",
                    "Product Score Review/1",
                    "Product Score Review/2",
                    "Product Score Review/3",
                    "Product Score Review/4",
                    "Product Score Review/5",
                    "Product Score Review/1",
                    "Product Score Review/2",
                    "Product Score Review/3",
                    "Product Score Review/4",
                    "Product Score Review/5",
                    "Product Score Review/1",
                    "Product Score Review/2",
                    "Product Score Review/3",
                    "Product Score Review/4",
                    "Product Score Review/5",
                    "Product Score Review/1",
                    "Product Score Review/2",
                    "Product Score Review/3",
                    "Product Score Review/4",
                    "Product Score Review/5",
                    "Product Score Review/3",
                    "Product Score Review/4",
                    "Product Score Review/5",
                    "Product Score Review/1",
                    "Product Score Review/2",
                    "Product Score Review/3",
                    "Product Score Review/4",
                    "Product Score Review/5",
                    "Product Score Review/1",
                    "Product Score Review/2",
                    "Product Score Review/3",
                    "Product Score Review/4",
                    "Product Score Review/5",
                    "Product Score Review/1",
                    "Product Score Review/2",
                    "Product Score Review/3",
                    "Product Score Review/4",
                    "Product Score Review/5",
                    "Product Score Review/1",
                    "Product Score Review/2",
                    "Product Score Review/3",
                    "Product Score Review/4",
                    "Product Score Review/5",
                    "Product Score Review/1",
                    "Product Score Review/2",
                    "Product Score Review/3",
                    "Product Score Review/4",
                    "Product Score Review/5",
                    "Product Score Review/1",
                    "Product Score Review/2",
                    "Product Score Review/3",
                    "Product Score Review/4",
                    "Product Score Review/5",
                    "Product Score Review/1",
                    "Product Score Review/2",
                    "Product Score Review/3",
                    "Product Score Review/4",
                    "Product Score Review/5",
                    "Product Score Review/1",
                    "Product Score Review/2",
                    "Product Score Review/3",
                    "Product Score Review/4",
                    "Product Score Review/5",
                    "Product Score Review/1",
                    "Product Score Review/2",
                    "Product Score Review/3",
                    "Product Score Review/4",
                    "Product Score Review/5",
                    "Product Score Review/1",
                    "Product Score Review/2",
                    "Product Score Review/3",
                    "Product Score Review/4",
                    "Product Score Review/5",
                    "Product Score Review/1",
                    "Product Score Review/3",
                    "Product Score Review/4",
                    "Product Score Review/5",
                    "Product Score Review/1",
                    "Product Score Review/3",
                    "Product Score Review/4",
                    "Product Score Review/5",
                    "Product Score Review/1",
                    "Product Score Review/2",
                    "Product Score Review/3",
                    "Product Score Review/4",
                    "Product Score Review/5",
                    "Product Score Review/1",
                    "Product Score Review/2",
                    "Product Score Review/3",
                    "Product Score Review/4",
                    "Product Score Review/5",
                    "Product Score Review/1",
                    "Product Score Review/2",
                    "Product Score Review/3",
                    "Product Score Review/4",
                    "Product Score Review/5",
                    "Product Score Review/1",
                    "Product Score Review/2",
                    "Product Score Review/3",
                    "Product Score Review/4",
                    "Product Score Review/5",
                    "Product Score Review/1",
                    "Product Score Review/2",
                    "Product Score Review/3",
                    "Product Score Review/4",
                    "Product Score Review/5",
                    "Product Score Review/1",
                    "Product Score Review/5",
                    "Product Score Review/1",
                    "Product Score Review/2",
                    "Product Score Review/3",
                    "Product Score Review/4",
                    "Product Score Review/5",
                    "Product Score Review/1",
                    "Product Score Review/2",
                    "Product Score Review/3",
                    "Product Score Review/4",
                    "Product Score Review/5",
                    "Product Score Review/1",
                    "Product Score Review/2",
                    "Product Score Review/3",
                    "Product Score Review/4",
                    "Product Score Review/5",
                    "Product Score Review/1",
                    "Product Score Review/2",
                    "Product Score Review/3",
                    "Product Score Review/4",
                    "Product Score Review/5",
                    "Product Score Review/1",
                    "Product Score Review/2",
                    "Product Score Review/3",
                    "Product Score Review/4",
                    "Product Score Review/5",
                    "Product Score Review/1",
                    "Product Score Review/3",
                    "Product Score Review/4",
                    "Product Score Review/5",
                    "Product Score Review/1",
                    "Product Score Review/2",
                    "Product Score Review/3",
                    "Product Score Review/4",
                    "Product Score Review/5",
                    "Product Score Review/1",
                    "Product Score Review/2",
                    "Product Score Review/3",
                    "Product Score Review/4",
                    "Product Score Review/5",
                    "Product Score Review/1",
                    "Product Score Review/2",
                    "Product Score Review/3",
                    "Product Score Review/4",
                    "Product Score Review/5",
                    "Product Score Review/1",
                    "Product Score Review/2",
                    "Product Score Review/3",
                    "Product Score Review/4",
                    "Product Score Review/5",
                    "Product Score Review/1",
                    "Product Score Review/2",
                    "Product Score Review/3",
                    "Product Score Review/4",
                    "Product Score Review/5",
                    "Product Score Review/1",
                    "Product Score Review/2",
                    "Product Score Review/3",
                    "Product Score Review/4",
                    "Product Score Review/5",
                    "Product Score Review/1",
                    "Product Score Review/2",
                    "Product Score Review/3",
                    "Product Score Review/4",
                    "Product Score Review/5",
                    "Product Score Review/1",
                    "Product Score Review/2",
                    "Product Score Review/3",
                    "Product Score Review/4",
                    "Product Score Review/5",
                    "Product Score Review/1",
                    "Product Score Review/2",
                    "Product Score Review/3",
                    "Product Score Review/4",
                    "Product Score Review/5",
                    "Product Score Review/1",
                    "Product Score Review/2",
                    "Product Score Review/3",
                    "Product Score Review/4",
                    "Product Score Review/5",
                    "Product Score Review/1",
                    "Product Score Review/2",
                    "Product Score Review/3",
                    "Product Score Review/4",
                    "Product Score Review/5",
                    "Product Score Review/1",
                    "Product Score Review/2",
                    "Product Score Review/3",
                    "Product Score Review/4",
                    "Product Score Review/5",
                    "Product Score Review/1",
                    "Product Score Review/2",
                    "Product Score Review/3",
                    "Product Score Review/4",
                    "Product Score Review/5",
                    "Product Score Review/1",
                    "Product Score Review/2",
                    "Product Score Review/3",
                    "Product Score Review/4",
                    "Product Score Review/5",
                    "Product Score Review/1",
                    "Product Score Review/2",
                    "Product Score Review/3",
                    "Product Score Review/4",
                    "Product Score Review/5",
                    "Product Score Review/1",
                    "Product Score Review/2",
                    "Product Score Review/3",
                    "Product Score Review/4",
                    "Product Score Review/5",
                    "Product Score Review/1",
                    "Product Score Review/4",
                    "Product Score Review/5",
                    "Product Score Review/1",
                    "Product Score Review/2",
                    "Product Score Review/3",
                    "Product Score Review/4",
                    "Product Score Review/5",
                    "Product Score Review/1",
                    "Product Score Review/2",
                    "Product Score Review/3",
                    "Product Score Review/4",
                    "Product Score Review/5",
                    "Product Score Review/1",
                    "Product Score Review/3",
                    "Product Score Review/4",
                    "Product Score Review/5",
                    "Product Score Review/1",
                    "Product Score Review/2",
                    "Product Score Review/3",
                    "Product Score Review/4",
                    "Product Score Review/5",
                    "Product Score Review/1",
                    "Product Score Review/2",
                    "Product Score Review/3",
                    "Product Score Review/4",
                    "Product Score Review/5",
                    "Product Score Review/1",
                    "Product Score Review/2",
                    "Product Score Review/3",
                    "Product Score Review/4",
                    "Product Score Review/5",
                    "Product Score Review/1",
                    "Product Score Review/2",
                    "Product Score Review/3",
                    "Product Score Review/4",
                    "Product Score Review/5",
                    "Product Score Review/1",
                    "Product Score Review/2",
                    "Product Score Review/3",
                    "Product Score Review/4",
                    "Product Score Review/5",
                    "Product Score Review/1",
                    "Product Score Review/4",
                    "Product Score Review/1",
                    "Product Score Review/2",
                    "Product Score Review/3",
                    "Product Score Review/4",
                    "Product Score Review/5",
                    "Product Score Review/1",
                    "Product Score Review/2",
                    "Product Score Review/3",
                    "Product Score Review/4",
                    "Product Score Review/5",
                    "Product Score Review/1",
                    "Product Score Review/2",
                    "Product Score Review/3",
                    "Product Score Review/4",
                    "Product Score Review/5",
                    "Product Score Review/1",
                    "Product Score Review/2",
                    "Product Score Review/3",
                    "Product Score Review/4",
                    "Product Score Review/5",
                    "Product Score Review/1",
                    "Product Score Review/2",
                    "Product Score Review/3",
                    "Product Score Review/4",
                    "Product Score Review/5",
                    "Product Score Review/1",
                    "Product Score Review/2",
                    "Product Score Review/3",
                    "Product Score Review/4",
                    "Product Score Review/5",
                    "Product Score Review/1",
                    "Product Score Review/2",
                    "Product Score Review/3",
                    "Product Score Review/4",
                    "Product Score Review/5",
                    "Product Score Review/1",
                    "Product Score Review/2",
                    "Product Score Review/3",
                    "Product Score Review/4",
                    "Product Score Review/5",
                    "Product Score Review/1",
                    "Product Score Review/2",
                    "Product Score Review/3",
                    "Product Score Review/4",
                    "Product Score Review/5",
                    "Product Score Review",
                    "Product Score Review",
                    "Product Score Review",
                    "Product Score Review",
                    "Product Score Review",
                    ""
                  ],
                  "root": {
                    "color": "grey"
                  },
                  "type": "treemap",
                  "values": [
                    27,
                    7,
                    14,
                    57,
                    147,
                    44,
                    8,
                    26,
                    54,
                    165,
                    33,
                    7,
                    19,
                    40,
                    118,
                    3,
                    3,
                    3,
                    15,
                    62,
                    19,
                    37,
                    58,
                    201,
                    512,
                    152,
                    334,
                    904,
                    2454,
                    421,
                    110,
                    264,
                    599,
                    1784,
                    1724,
                    562,
                    1166,
                    2229,
                    6166,
                    41,
                    8,
                    21,
                    85,
                    406,
                    6,
                    1,
                    2,
                    5,
                    48,
                    22,
                    7,
                    10,
                    39,
                    191,
                    1,
                    3,
                    10,
                    19,
                    2,
                    13,
                    37,
                    77,
                    9,
                    2,
                    5,
                    6,
                    52,
                    25,
                    2,
                    12,
                    47,
                    131,
                    1199,
                    290,
                    688,
                    1581,
                    4347,
                    147,
                    38,
                    118,
                    227,
                    650,
                    110,
                    30,
                    89,
                    178,
                    543,
                    26,
                    17,
                    33,
                    64,
                    165,
                    35,
                    5,
                    17,
                    39,
                    102,
                    396,
                    126,
                    327,
                    790,
                    2325,
                    32,
                    10,
                    13,
                    43,
                    149,
                    9,
                    1,
                    21,
                    70,
                    10,
                    11,
                    6,
                    12,
                    49,
                    7,
                    33,
                    84,
                    211,
                    11,
                    1,
                    1,
                    13,
                    44,
                    332,
                    114,
                    220,
                    603,
                    1558,
                    6,
                    3,
                    7,
                    14,
                    20,
                    224,
                    57,
                    185,
                    440,
                    1253,
                    1,
                    7,
                    40,
                    5,
                    7,
                    20,
                    72,
                    26,
                    9,
                    18,
                    45,
                    175,
                    2,
                    1,
                    2,
                    8,
                    18,
                    16,
                    8,
                    10,
                    36,
                    73,
                    53,
                    17,
                    19,
                    56,
                    124,
                    2,
                    2,
                    6,
                    21,
                    52,
                    13,
                    26,
                    95,
                    325,
                    18,
                    5,
                    29,
                    51,
                    187,
                    26,
                    4,
                    5,
                    20,
                    71,
                    1303,
                    390,
                    777,
                    1575,
                    4698,
                    69,
                    25,
                    57,
                    102,
                    269,
                    7,
                    1,
                    5,
                    8,
                    20,
                    602,
                    143,
                    366,
                    880,
                    2567,
                    1128,
                    245,
                    778,
                    1769,
                    6024,
                    82,
                    15,
                    68,
                    170,
                    488,
                    21,
                    9,
                    20,
                    60,
                    158,
                    6,
                    1,
                    3,
                    5,
                    13,
                    72,
                    16,
                    60,
                    64,
                    264,
                    73,
                    37,
                    52,
                    152,
                    316,
                    869,
                    264,
                    625,
                    1370,
                    4203,
                    28,
                    9,
                    25,
                    56,
                    151,
                    39,
                    6,
                    31,
                    72,
                    149,
                    3,
                    1,
                    11,
                    93,
                    25,
                    76,
                    217,
                    748,
                    35,
                    10,
                    32,
                    85,
                    168,
                    4,
                    5,
                    6,
                    25,
                    71,
                    31,
                    45,
                    133,
                    432,
                    360,
                    90,
                    252,
                    398,
                    673,
                    8,
                    2,
                    5,
                    5,
                    26,
                    440,
                    111,
                    240,
                    544,
                    2240,
                    196,
                    59,
                    148,
                    365,
                    1252,
                    1,
                    1,
                    22,
                    3,
                    29,
                    33,
                    112,
                    76,
                    23,
                    41,
                    135,
                    424,
                    7,
                    1,
                    4,
                    14,
                    52,
                    1061,
                    238,
                    664,
                    1695,
                    5284,
                    252,
                    93,
                    162,
                    505,
                    1595,
                    5,
                    6,
                    8,
                    21,
                    45,
                    600,
                    186,
                    476,
                    1022,
                    2408,
                    463,
                    109,
                    325,
                    727,
                    2622,
                    780,
                    225,
                    551,
                    1155,
                    3450,
                    14546,
                    4020,
                    9718,
                    21951,
                    65374,
                    115609
                  ]
                }
              ],
              "layout": {
                "legend": {
                  "tracegroupgap": 0
                },
                "margin": {
                  "b": 25,
                  "l": 25,
                  "r": 25,
                  "t": 50
                },
                "template": {
                  "data": {
                    "bar": [
                      {
                        "error_x": {
                          "color": "#2a3f5f"
                        },
                        "error_y": {
                          "color": "#2a3f5f"
                        },
                        "marker": {
                          "line": {
                            "color": "#E5ECF6",
                            "width": 0.5
                          },
                          "pattern": {
                            "fillmode": "overlay",
                            "size": 10,
                            "solidity": 0.2
                          }
                        },
                        "type": "bar"
                      }
                    ],
                    "barpolar": [
                      {
                        "marker": {
                          "line": {
                            "color": "#E5ECF6",
                            "width": 0.5
                          },
                          "pattern": {
                            "fillmode": "overlay",
                            "size": 10,
                            "solidity": 0.2
                          }
                        },
                        "type": "barpolar"
                      }
                    ],
                    "carpet": [
                      {
                        "aaxis": {
                          "endlinecolor": "#2a3f5f",
                          "gridcolor": "white",
                          "linecolor": "white",
                          "minorgridcolor": "white",
                          "startlinecolor": "#2a3f5f"
                        },
                        "baxis": {
                          "endlinecolor": "#2a3f5f",
                          "gridcolor": "white",
                          "linecolor": "white",
                          "minorgridcolor": "white",
                          "startlinecolor": "#2a3f5f"
                        },
                        "type": "carpet"
                      }
                    ],
                    "choropleth": [
                      {
                        "colorbar": {
                          "outlinewidth": 0,
                          "ticks": ""
                        },
                        "type": "choropleth"
                      }
                    ],
                    "contour": [
                      {
                        "colorbar": {
                          "outlinewidth": 0,
                          "ticks": ""
                        },
                        "colorscale": [
                          [
                            0,
                            "#0d0887"
                          ],
                          [
                            0.1111111111111111,
                            "#46039f"
                          ],
                          [
                            0.2222222222222222,
                            "#7201a8"
                          ],
                          [
                            0.3333333333333333,
                            "#9c179e"
                          ],
                          [
                            0.4444444444444444,
                            "#bd3786"
                          ],
                          [
                            0.5555555555555556,
                            "#d8576b"
                          ],
                          [
                            0.6666666666666666,
                            "#ed7953"
                          ],
                          [
                            0.7777777777777778,
                            "#fb9f3a"
                          ],
                          [
                            0.8888888888888888,
                            "#fdca26"
                          ],
                          [
                            1,
                            "#f0f921"
                          ]
                        ],
                        "type": "contour"
                      }
                    ],
                    "contourcarpet": [
                      {
                        "colorbar": {
                          "outlinewidth": 0,
                          "ticks": ""
                        },
                        "type": "contourcarpet"
                      }
                    ],
                    "heatmap": [
                      {
                        "colorbar": {
                          "outlinewidth": 0,
                          "ticks": ""
                        },
                        "colorscale": [
                          [
                            0,
                            "#0d0887"
                          ],
                          [
                            0.1111111111111111,
                            "#46039f"
                          ],
                          [
                            0.2222222222222222,
                            "#7201a8"
                          ],
                          [
                            0.3333333333333333,
                            "#9c179e"
                          ],
                          [
                            0.4444444444444444,
                            "#bd3786"
                          ],
                          [
                            0.5555555555555556,
                            "#d8576b"
                          ],
                          [
                            0.6666666666666666,
                            "#ed7953"
                          ],
                          [
                            0.7777777777777778,
                            "#fb9f3a"
                          ],
                          [
                            0.8888888888888888,
                            "#fdca26"
                          ],
                          [
                            1,
                            "#f0f921"
                          ]
                        ],
                        "type": "heatmap"
                      }
                    ],
                    "heatmapgl": [
                      {
                        "colorbar": {
                          "outlinewidth": 0,
                          "ticks": ""
                        },
                        "colorscale": [
                          [
                            0,
                            "#0d0887"
                          ],
                          [
                            0.1111111111111111,
                            "#46039f"
                          ],
                          [
                            0.2222222222222222,
                            "#7201a8"
                          ],
                          [
                            0.3333333333333333,
                            "#9c179e"
                          ],
                          [
                            0.4444444444444444,
                            "#bd3786"
                          ],
                          [
                            0.5555555555555556,
                            "#d8576b"
                          ],
                          [
                            0.6666666666666666,
                            "#ed7953"
                          ],
                          [
                            0.7777777777777778,
                            "#fb9f3a"
                          ],
                          [
                            0.8888888888888888,
                            "#fdca26"
                          ],
                          [
                            1,
                            "#f0f921"
                          ]
                        ],
                        "type": "heatmapgl"
                      }
                    ],
                    "histogram": [
                      {
                        "marker": {
                          "pattern": {
                            "fillmode": "overlay",
                            "size": 10,
                            "solidity": 0.2
                          }
                        },
                        "type": "histogram"
                      }
                    ],
                    "histogram2d": [
                      {
                        "colorbar": {
                          "outlinewidth": 0,
                          "ticks": ""
                        },
                        "colorscale": [
                          [
                            0,
                            "#0d0887"
                          ],
                          [
                            0.1111111111111111,
                            "#46039f"
                          ],
                          [
                            0.2222222222222222,
                            "#7201a8"
                          ],
                          [
                            0.3333333333333333,
                            "#9c179e"
                          ],
                          [
                            0.4444444444444444,
                            "#bd3786"
                          ],
                          [
                            0.5555555555555556,
                            "#d8576b"
                          ],
                          [
                            0.6666666666666666,
                            "#ed7953"
                          ],
                          [
                            0.7777777777777778,
                            "#fb9f3a"
                          ],
                          [
                            0.8888888888888888,
                            "#fdca26"
                          ],
                          [
                            1,
                            "#f0f921"
                          ]
                        ],
                        "type": "histogram2d"
                      }
                    ],
                    "histogram2dcontour": [
                      {
                        "colorbar": {
                          "outlinewidth": 0,
                          "ticks": ""
                        },
                        "colorscale": [
                          [
                            0,
                            "#0d0887"
                          ],
                          [
                            0.1111111111111111,
                            "#46039f"
                          ],
                          [
                            0.2222222222222222,
                            "#7201a8"
                          ],
                          [
                            0.3333333333333333,
                            "#9c179e"
                          ],
                          [
                            0.4444444444444444,
                            "#bd3786"
                          ],
                          [
                            0.5555555555555556,
                            "#d8576b"
                          ],
                          [
                            0.6666666666666666,
                            "#ed7953"
                          ],
                          [
                            0.7777777777777778,
                            "#fb9f3a"
                          ],
                          [
                            0.8888888888888888,
                            "#fdca26"
                          ],
                          [
                            1,
                            "#f0f921"
                          ]
                        ],
                        "type": "histogram2dcontour"
                      }
                    ],
                    "mesh3d": [
                      {
                        "colorbar": {
                          "outlinewidth": 0,
                          "ticks": ""
                        },
                        "type": "mesh3d"
                      }
                    ],
                    "parcoords": [
                      {
                        "line": {
                          "colorbar": {
                            "outlinewidth": 0,
                            "ticks": ""
                          }
                        },
                        "type": "parcoords"
                      }
                    ],
                    "pie": [
                      {
                        "automargin": true,
                        "type": "pie"
                      }
                    ],
                    "scatter": [
                      {
                        "fillpattern": {
                          "fillmode": "overlay",
                          "size": 10,
                          "solidity": 0.2
                        },
                        "type": "scatter"
                      }
                    ],
                    "scatter3d": [
                      {
                        "line": {
                          "colorbar": {
                            "outlinewidth": 0,
                            "ticks": ""
                          }
                        },
                        "marker": {
                          "colorbar": {
                            "outlinewidth": 0,
                            "ticks": ""
                          }
                        },
                        "type": "scatter3d"
                      }
                    ],
                    "scattercarpet": [
                      {
                        "marker": {
                          "colorbar": {
                            "outlinewidth": 0,
                            "ticks": ""
                          }
                        },
                        "type": "scattercarpet"
                      }
                    ],
                    "scattergeo": [
                      {
                        "marker": {
                          "colorbar": {
                            "outlinewidth": 0,
                            "ticks": ""
                          }
                        },
                        "type": "scattergeo"
                      }
                    ],
                    "scattergl": [
                      {
                        "marker": {
                          "colorbar": {
                            "outlinewidth": 0,
                            "ticks": ""
                          }
                        },
                        "type": "scattergl"
                      }
                    ],
                    "scattermapbox": [
                      {
                        "marker": {
                          "colorbar": {
                            "outlinewidth": 0,
                            "ticks": ""
                          }
                        },
                        "type": "scattermapbox"
                      }
                    ],
                    "scatterpolar": [
                      {
                        "marker": {
                          "colorbar": {
                            "outlinewidth": 0,
                            "ticks": ""
                          }
                        },
                        "type": "scatterpolar"
                      }
                    ],
                    "scatterpolargl": [
                      {
                        "marker": {
                          "colorbar": {
                            "outlinewidth": 0,
                            "ticks": ""
                          }
                        },
                        "type": "scatterpolargl"
                      }
                    ],
                    "scatterternary": [
                      {
                        "marker": {
                          "colorbar": {
                            "outlinewidth": 0,
                            "ticks": ""
                          }
                        },
                        "type": "scatterternary"
                      }
                    ],
                    "surface": [
                      {
                        "colorbar": {
                          "outlinewidth": 0,
                          "ticks": ""
                        },
                        "colorscale": [
                          [
                            0,
                            "#0d0887"
                          ],
                          [
                            0.1111111111111111,
                            "#46039f"
                          ],
                          [
                            0.2222222222222222,
                            "#7201a8"
                          ],
                          [
                            0.3333333333333333,
                            "#9c179e"
                          ],
                          [
                            0.4444444444444444,
                            "#bd3786"
                          ],
                          [
                            0.5555555555555556,
                            "#d8576b"
                          ],
                          [
                            0.6666666666666666,
                            "#ed7953"
                          ],
                          [
                            0.7777777777777778,
                            "#fb9f3a"
                          ],
                          [
                            0.8888888888888888,
                            "#fdca26"
                          ],
                          [
                            1,
                            "#f0f921"
                          ]
                        ],
                        "type": "surface"
                      }
                    ],
                    "table": [
                      {
                        "cells": {
                          "fill": {
                            "color": "#EBF0F8"
                          },
                          "line": {
                            "color": "white"
                          }
                        },
                        "header": {
                          "fill": {
                            "color": "#C8D4E3"
                          },
                          "line": {
                            "color": "white"
                          }
                        },
                        "type": "table"
                      }
                    ]
                  },
                  "layout": {
                    "annotationdefaults": {
                      "arrowcolor": "#2a3f5f",
                      "arrowhead": 0,
                      "arrowwidth": 1
                    },
                    "autotypenumbers": "strict",
                    "coloraxis": {
                      "colorbar": {
                        "outlinewidth": 0,
                        "ticks": ""
                      }
                    },
                    "colorscale": {
                      "diverging": [
                        [
                          0,
                          "#8e0152"
                        ],
                        [
                          0.1,
                          "#c51b7d"
                        ],
                        [
                          0.2,
                          "#de77ae"
                        ],
                        [
                          0.3,
                          "#f1b6da"
                        ],
                        [
                          0.4,
                          "#fde0ef"
                        ],
                        [
                          0.5,
                          "#f7f7f7"
                        ],
                        [
                          0.6,
                          "#e6f5d0"
                        ],
                        [
                          0.7,
                          "#b8e186"
                        ],
                        [
                          0.8,
                          "#7fbc41"
                        ],
                        [
                          0.9,
                          "#4d9221"
                        ],
                        [
                          1,
                          "#276419"
                        ]
                      ],
                      "sequential": [
                        [
                          0,
                          "#0d0887"
                        ],
                        [
                          0.1111111111111111,
                          "#46039f"
                        ],
                        [
                          0.2222222222222222,
                          "#7201a8"
                        ],
                        [
                          0.3333333333333333,
                          "#9c179e"
                        ],
                        [
                          0.4444444444444444,
                          "#bd3786"
                        ],
                        [
                          0.5555555555555556,
                          "#d8576b"
                        ],
                        [
                          0.6666666666666666,
                          "#ed7953"
                        ],
                        [
                          0.7777777777777778,
                          "#fb9f3a"
                        ],
                        [
                          0.8888888888888888,
                          "#fdca26"
                        ],
                        [
                          1,
                          "#f0f921"
                        ]
                      ],
                      "sequentialminus": [
                        [
                          0,
                          "#0d0887"
                        ],
                        [
                          0.1111111111111111,
                          "#46039f"
                        ],
                        [
                          0.2222222222222222,
                          "#7201a8"
                        ],
                        [
                          0.3333333333333333,
                          "#9c179e"
                        ],
                        [
                          0.4444444444444444,
                          "#bd3786"
                        ],
                        [
                          0.5555555555555556,
                          "#d8576b"
                        ],
                        [
                          0.6666666666666666,
                          "#ed7953"
                        ],
                        [
                          0.7777777777777778,
                          "#fb9f3a"
                        ],
                        [
                          0.8888888888888888,
                          "#fdca26"
                        ],
                        [
                          1,
                          "#f0f921"
                        ]
                      ]
                    },
                    "colorway": [
                      "#636efa",
                      "#EF553B",
                      "#00cc96",
                      "#ab63fa",
                      "#FFA15A",
                      "#19d3f3",
                      "#FF6692",
                      "#B6E880",
                      "#FF97FF",
                      "#FECB52"
                    ],
                    "font": {
                      "color": "#2a3f5f"
                    },
                    "geo": {
                      "bgcolor": "white",
                      "lakecolor": "white",
                      "landcolor": "#E5ECF6",
                      "showlakes": true,
                      "showland": true,
                      "subunitcolor": "white"
                    },
                    "hoverlabel": {
                      "align": "left"
                    },
                    "hovermode": "closest",
                    "mapbox": {
                      "style": "light"
                    },
                    "paper_bgcolor": "white",
                    "plot_bgcolor": "#E5ECF6",
                    "polar": {
                      "angularaxis": {
                        "gridcolor": "white",
                        "linecolor": "white",
                        "ticks": ""
                      },
                      "bgcolor": "#E5ECF6",
                      "radialaxis": {
                        "gridcolor": "white",
                        "linecolor": "white",
                        "ticks": ""
                      }
                    },
                    "scene": {
                      "xaxis": {
                        "backgroundcolor": "#E5ECF6",
                        "gridcolor": "white",
                        "gridwidth": 2,
                        "linecolor": "white",
                        "showbackground": true,
                        "ticks": "",
                        "zerolinecolor": "white"
                      },
                      "yaxis": {
                        "backgroundcolor": "#E5ECF6",
                        "gridcolor": "white",
                        "gridwidth": 2,
                        "linecolor": "white",
                        "showbackground": true,
                        "ticks": "",
                        "zerolinecolor": "white"
                      },
                      "zaxis": {
                        "backgroundcolor": "#E5ECF6",
                        "gridcolor": "white",
                        "gridwidth": 2,
                        "linecolor": "white",
                        "showbackground": true,
                        "ticks": "",
                        "zerolinecolor": "white"
                      }
                    },
                    "shapedefaults": {
                      "line": {
                        "color": "#2a3f5f"
                      }
                    },
                    "ternary": {
                      "aaxis": {
                        "gridcolor": "white",
                        "linecolor": "white",
                        "ticks": ""
                      },
                      "baxis": {
                        "gridcolor": "white",
                        "linecolor": "white",
                        "ticks": ""
                      },
                      "bgcolor": "#E5ECF6",
                      "caxis": {
                        "gridcolor": "white",
                        "linecolor": "white",
                        "ticks": ""
                      }
                    },
                    "title": {
                      "x": 0.05
                    },
                    "xaxis": {
                      "automargin": true,
                      "gridcolor": "white",
                      "linecolor": "white",
                      "ticks": "",
                      "title": {
                        "standoff": 15
                      },
                      "zerolinecolor": "white",
                      "zerolinewidth": 2
                    },
                    "yaxis": {
                      "automargin": true,
                      "gridcolor": "white",
                      "linecolor": "white",
                      "ticks": "",
                      "title": {
                        "standoff": 15
                      },
                      "zerolinecolor": "white",
                      "zerolinewidth": 2
                    }
                  }
                }
              }
            }
          },
          "metadata": {},
          "output_type": "display_data"
        }
      ],
      "source": [
        "# df = px.data.tips()\n",
        "# px.Constant(\"all\")\n",
        "fig = px.treemap(product_review, path=[px.Constant(\"Product Score Review\"), 'review_score', 'product_category_name_english'], values='jumlah')\n",
        "fig.update_traces(root_color=\"grey\")\n",
        "fig.update_layout(margin = dict(t=50, l=25, r=25, b=25))\n",
        "fig.show()"
      ]
    },
    {
      "cell_type": "markdown",
      "metadata": {},
      "source": [
        "### Pertanyaan 3: bagaimana presentase status order"
      ]
    },
    {
      "cell_type": "code",
      "execution_count": null,
      "metadata": {},
      "outputs": [
        {
          "data": {
            "text/html": [
              "<div>\n",
              "<style scoped>\n",
              "    .dataframe tbody tr th:only-of-type {\n",
              "        vertical-align: middle;\n",
              "    }\n",
              "\n",
              "    .dataframe tbody tr th {\n",
              "        vertical-align: top;\n",
              "    }\n",
              "\n",
              "    .dataframe thead th {\n",
              "        text-align: right;\n",
              "    }\n",
              "</style>\n",
              "<table border=\"1\" class=\"dataframe\">\n",
              "  <thead>\n",
              "    <tr style=\"text-align: right;\">\n",
              "      <th></th>\n",
              "      <th>order_status</th>\n",
              "      <th>jml</th>\n",
              "    </tr>\n",
              "  </thead>\n",
              "  <tbody>\n",
              "    <tr>\n",
              "      <th>0</th>\n",
              "      <td>delivered</td>\n",
              "      <td>113210</td>\n",
              "    </tr>\n",
              "    <tr>\n",
              "      <th>1</th>\n",
              "      <td>shipped</td>\n",
              "      <td>1138</td>\n",
              "    </tr>\n",
              "    <tr>\n",
              "      <th>2</th>\n",
              "      <td>canceled</td>\n",
              "      <td>536</td>\n",
              "    </tr>\n",
              "    <tr>\n",
              "      <th>3</th>\n",
              "      <td>invoiced</td>\n",
              "      <td>358</td>\n",
              "    </tr>\n",
              "    <tr>\n",
              "      <th>4</th>\n",
              "      <td>processing</td>\n",
              "      <td>357</td>\n",
              "    </tr>\n",
              "  </tbody>\n",
              "</table>\n",
              "</div>"
            ],
            "text/plain": [
              "  order_status     jml\n",
              "0    delivered  113210\n",
              "1      shipped    1138\n",
              "2     canceled     536\n",
              "3     invoiced     358\n",
              "4   processing     357"
            ]
          },
          "execution_count": 71,
          "metadata": {},
          "output_type": "execute_result"
        }
      ],
      "source": [
        "order = all_dataset[['order_id', 'customer_id', 'order_status']]\n",
        "status_order = order.groupby(by='order_status').agg({'order_id':'count'}).sort_values(by='order_id', ascending=False).rename(columns={'order_id':'jml'}).reset_index()\n",
        "status_order.head()"
      ]
    },
    {
      "cell_type": "code",
      "execution_count": null,
      "metadata": {},
      "outputs": [
        {
          "data": {
            "application/vnd.plotly.v1+json": {
              "config": {
                "plotlyServerURL": "https://plot.ly"
              },
              "data": [
                {
                  "domain": {
                    "x": [
                      0,
                      1
                    ],
                    "y": [
                      0,
                      1
                    ]
                  },
                  "hovertemplate": "order_status=%{label}<br>jml=%{value}<extra></extra>",
                  "labels": [
                    "delivered",
                    "shipped",
                    "canceled",
                    "invoiced",
                    "processing",
                    "unavailable",
                    "approved"
                  ],
                  "legendgroup": "",
                  "name": "",
                  "showlegend": true,
                  "type": "pie",
                  "values": [
                    113210,
                    1138,
                    536,
                    358,
                    357,
                    7,
                    3
                  ]
                }
              ],
              "layout": {
                "legend": {
                  "tracegroupgap": 0
                },
                "margin": {
                  "t": 60
                },
                "piecolorway": [
                  "rgb(103,0,31)",
                  "rgb(178,24,43)",
                  "rgb(214,96,77)",
                  "rgb(244,165,130)",
                  "rgb(253,219,199)",
                  "rgb(247,247,247)",
                  "rgb(209,229,240)",
                  "rgb(146,197,222)",
                  "rgb(67,147,195)",
                  "rgb(33,102,172)",
                  "rgb(5,48,97)"
                ],
                "template": {
                  "data": {
                    "bar": [
                      {
                        "error_x": {
                          "color": "#2a3f5f"
                        },
                        "error_y": {
                          "color": "#2a3f5f"
                        },
                        "marker": {
                          "line": {
                            "color": "#E5ECF6",
                            "width": 0.5
                          },
                          "pattern": {
                            "fillmode": "overlay",
                            "size": 10,
                            "solidity": 0.2
                          }
                        },
                        "type": "bar"
                      }
                    ],
                    "barpolar": [
                      {
                        "marker": {
                          "line": {
                            "color": "#E5ECF6",
                            "width": 0.5
                          },
                          "pattern": {
                            "fillmode": "overlay",
                            "size": 10,
                            "solidity": 0.2
                          }
                        },
                        "type": "barpolar"
                      }
                    ],
                    "carpet": [
                      {
                        "aaxis": {
                          "endlinecolor": "#2a3f5f",
                          "gridcolor": "white",
                          "linecolor": "white",
                          "minorgridcolor": "white",
                          "startlinecolor": "#2a3f5f"
                        },
                        "baxis": {
                          "endlinecolor": "#2a3f5f",
                          "gridcolor": "white",
                          "linecolor": "white",
                          "minorgridcolor": "white",
                          "startlinecolor": "#2a3f5f"
                        },
                        "type": "carpet"
                      }
                    ],
                    "choropleth": [
                      {
                        "colorbar": {
                          "outlinewidth": 0,
                          "ticks": ""
                        },
                        "type": "choropleth"
                      }
                    ],
                    "contour": [
                      {
                        "colorbar": {
                          "outlinewidth": 0,
                          "ticks": ""
                        },
                        "colorscale": [
                          [
                            0,
                            "#0d0887"
                          ],
                          [
                            0.1111111111111111,
                            "#46039f"
                          ],
                          [
                            0.2222222222222222,
                            "#7201a8"
                          ],
                          [
                            0.3333333333333333,
                            "#9c179e"
                          ],
                          [
                            0.4444444444444444,
                            "#bd3786"
                          ],
                          [
                            0.5555555555555556,
                            "#d8576b"
                          ],
                          [
                            0.6666666666666666,
                            "#ed7953"
                          ],
                          [
                            0.7777777777777778,
                            "#fb9f3a"
                          ],
                          [
                            0.8888888888888888,
                            "#fdca26"
                          ],
                          [
                            1,
                            "#f0f921"
                          ]
                        ],
                        "type": "contour"
                      }
                    ],
                    "contourcarpet": [
                      {
                        "colorbar": {
                          "outlinewidth": 0,
                          "ticks": ""
                        },
                        "type": "contourcarpet"
                      }
                    ],
                    "heatmap": [
                      {
                        "colorbar": {
                          "outlinewidth": 0,
                          "ticks": ""
                        },
                        "colorscale": [
                          [
                            0,
                            "#0d0887"
                          ],
                          [
                            0.1111111111111111,
                            "#46039f"
                          ],
                          [
                            0.2222222222222222,
                            "#7201a8"
                          ],
                          [
                            0.3333333333333333,
                            "#9c179e"
                          ],
                          [
                            0.4444444444444444,
                            "#bd3786"
                          ],
                          [
                            0.5555555555555556,
                            "#d8576b"
                          ],
                          [
                            0.6666666666666666,
                            "#ed7953"
                          ],
                          [
                            0.7777777777777778,
                            "#fb9f3a"
                          ],
                          [
                            0.8888888888888888,
                            "#fdca26"
                          ],
                          [
                            1,
                            "#f0f921"
                          ]
                        ],
                        "type": "heatmap"
                      }
                    ],
                    "heatmapgl": [
                      {
                        "colorbar": {
                          "outlinewidth": 0,
                          "ticks": ""
                        },
                        "colorscale": [
                          [
                            0,
                            "#0d0887"
                          ],
                          [
                            0.1111111111111111,
                            "#46039f"
                          ],
                          [
                            0.2222222222222222,
                            "#7201a8"
                          ],
                          [
                            0.3333333333333333,
                            "#9c179e"
                          ],
                          [
                            0.4444444444444444,
                            "#bd3786"
                          ],
                          [
                            0.5555555555555556,
                            "#d8576b"
                          ],
                          [
                            0.6666666666666666,
                            "#ed7953"
                          ],
                          [
                            0.7777777777777778,
                            "#fb9f3a"
                          ],
                          [
                            0.8888888888888888,
                            "#fdca26"
                          ],
                          [
                            1,
                            "#f0f921"
                          ]
                        ],
                        "type": "heatmapgl"
                      }
                    ],
                    "histogram": [
                      {
                        "marker": {
                          "pattern": {
                            "fillmode": "overlay",
                            "size": 10,
                            "solidity": 0.2
                          }
                        },
                        "type": "histogram"
                      }
                    ],
                    "histogram2d": [
                      {
                        "colorbar": {
                          "outlinewidth": 0,
                          "ticks": ""
                        },
                        "colorscale": [
                          [
                            0,
                            "#0d0887"
                          ],
                          [
                            0.1111111111111111,
                            "#46039f"
                          ],
                          [
                            0.2222222222222222,
                            "#7201a8"
                          ],
                          [
                            0.3333333333333333,
                            "#9c179e"
                          ],
                          [
                            0.4444444444444444,
                            "#bd3786"
                          ],
                          [
                            0.5555555555555556,
                            "#d8576b"
                          ],
                          [
                            0.6666666666666666,
                            "#ed7953"
                          ],
                          [
                            0.7777777777777778,
                            "#fb9f3a"
                          ],
                          [
                            0.8888888888888888,
                            "#fdca26"
                          ],
                          [
                            1,
                            "#f0f921"
                          ]
                        ],
                        "type": "histogram2d"
                      }
                    ],
                    "histogram2dcontour": [
                      {
                        "colorbar": {
                          "outlinewidth": 0,
                          "ticks": ""
                        },
                        "colorscale": [
                          [
                            0,
                            "#0d0887"
                          ],
                          [
                            0.1111111111111111,
                            "#46039f"
                          ],
                          [
                            0.2222222222222222,
                            "#7201a8"
                          ],
                          [
                            0.3333333333333333,
                            "#9c179e"
                          ],
                          [
                            0.4444444444444444,
                            "#bd3786"
                          ],
                          [
                            0.5555555555555556,
                            "#d8576b"
                          ],
                          [
                            0.6666666666666666,
                            "#ed7953"
                          ],
                          [
                            0.7777777777777778,
                            "#fb9f3a"
                          ],
                          [
                            0.8888888888888888,
                            "#fdca26"
                          ],
                          [
                            1,
                            "#f0f921"
                          ]
                        ],
                        "type": "histogram2dcontour"
                      }
                    ],
                    "mesh3d": [
                      {
                        "colorbar": {
                          "outlinewidth": 0,
                          "ticks": ""
                        },
                        "type": "mesh3d"
                      }
                    ],
                    "parcoords": [
                      {
                        "line": {
                          "colorbar": {
                            "outlinewidth": 0,
                            "ticks": ""
                          }
                        },
                        "type": "parcoords"
                      }
                    ],
                    "pie": [
                      {
                        "automargin": true,
                        "type": "pie"
                      }
                    ],
                    "scatter": [
                      {
                        "fillpattern": {
                          "fillmode": "overlay",
                          "size": 10,
                          "solidity": 0.2
                        },
                        "type": "scatter"
                      }
                    ],
                    "scatter3d": [
                      {
                        "line": {
                          "colorbar": {
                            "outlinewidth": 0,
                            "ticks": ""
                          }
                        },
                        "marker": {
                          "colorbar": {
                            "outlinewidth": 0,
                            "ticks": ""
                          }
                        },
                        "type": "scatter3d"
                      }
                    ],
                    "scattercarpet": [
                      {
                        "marker": {
                          "colorbar": {
                            "outlinewidth": 0,
                            "ticks": ""
                          }
                        },
                        "type": "scattercarpet"
                      }
                    ],
                    "scattergeo": [
                      {
                        "marker": {
                          "colorbar": {
                            "outlinewidth": 0,
                            "ticks": ""
                          }
                        },
                        "type": "scattergeo"
                      }
                    ],
                    "scattergl": [
                      {
                        "marker": {
                          "colorbar": {
                            "outlinewidth": 0,
                            "ticks": ""
                          }
                        },
                        "type": "scattergl"
                      }
                    ],
                    "scattermapbox": [
                      {
                        "marker": {
                          "colorbar": {
                            "outlinewidth": 0,
                            "ticks": ""
                          }
                        },
                        "type": "scattermapbox"
                      }
                    ],
                    "scatterpolar": [
                      {
                        "marker": {
                          "colorbar": {
                            "outlinewidth": 0,
                            "ticks": ""
                          }
                        },
                        "type": "scatterpolar"
                      }
                    ],
                    "scatterpolargl": [
                      {
                        "marker": {
                          "colorbar": {
                            "outlinewidth": 0,
                            "ticks": ""
                          }
                        },
                        "type": "scatterpolargl"
                      }
                    ],
                    "scatterternary": [
                      {
                        "marker": {
                          "colorbar": {
                            "outlinewidth": 0,
                            "ticks": ""
                          }
                        },
                        "type": "scatterternary"
                      }
                    ],
                    "surface": [
                      {
                        "colorbar": {
                          "outlinewidth": 0,
                          "ticks": ""
                        },
                        "colorscale": [
                          [
                            0,
                            "#0d0887"
                          ],
                          [
                            0.1111111111111111,
                            "#46039f"
                          ],
                          [
                            0.2222222222222222,
                            "#7201a8"
                          ],
                          [
                            0.3333333333333333,
                            "#9c179e"
                          ],
                          [
                            0.4444444444444444,
                            "#bd3786"
                          ],
                          [
                            0.5555555555555556,
                            "#d8576b"
                          ],
                          [
                            0.6666666666666666,
                            "#ed7953"
                          ],
                          [
                            0.7777777777777778,
                            "#fb9f3a"
                          ],
                          [
                            0.8888888888888888,
                            "#fdca26"
                          ],
                          [
                            1,
                            "#f0f921"
                          ]
                        ],
                        "type": "surface"
                      }
                    ],
                    "table": [
                      {
                        "cells": {
                          "fill": {
                            "color": "#EBF0F8"
                          },
                          "line": {
                            "color": "white"
                          }
                        },
                        "header": {
                          "fill": {
                            "color": "#C8D4E3"
                          },
                          "line": {
                            "color": "white"
                          }
                        },
                        "type": "table"
                      }
                    ]
                  },
                  "layout": {
                    "annotationdefaults": {
                      "arrowcolor": "#2a3f5f",
                      "arrowhead": 0,
                      "arrowwidth": 1
                    },
                    "autotypenumbers": "strict",
                    "coloraxis": {
                      "colorbar": {
                        "outlinewidth": 0,
                        "ticks": ""
                      }
                    },
                    "colorscale": {
                      "diverging": [
                        [
                          0,
                          "#8e0152"
                        ],
                        [
                          0.1,
                          "#c51b7d"
                        ],
                        [
                          0.2,
                          "#de77ae"
                        ],
                        [
                          0.3,
                          "#f1b6da"
                        ],
                        [
                          0.4,
                          "#fde0ef"
                        ],
                        [
                          0.5,
                          "#f7f7f7"
                        ],
                        [
                          0.6,
                          "#e6f5d0"
                        ],
                        [
                          0.7,
                          "#b8e186"
                        ],
                        [
                          0.8,
                          "#7fbc41"
                        ],
                        [
                          0.9,
                          "#4d9221"
                        ],
                        [
                          1,
                          "#276419"
                        ]
                      ],
                      "sequential": [
                        [
                          0,
                          "#0d0887"
                        ],
                        [
                          0.1111111111111111,
                          "#46039f"
                        ],
                        [
                          0.2222222222222222,
                          "#7201a8"
                        ],
                        [
                          0.3333333333333333,
                          "#9c179e"
                        ],
                        [
                          0.4444444444444444,
                          "#bd3786"
                        ],
                        [
                          0.5555555555555556,
                          "#d8576b"
                        ],
                        [
                          0.6666666666666666,
                          "#ed7953"
                        ],
                        [
                          0.7777777777777778,
                          "#fb9f3a"
                        ],
                        [
                          0.8888888888888888,
                          "#fdca26"
                        ],
                        [
                          1,
                          "#f0f921"
                        ]
                      ],
                      "sequentialminus": [
                        [
                          0,
                          "#0d0887"
                        ],
                        [
                          0.1111111111111111,
                          "#46039f"
                        ],
                        [
                          0.2222222222222222,
                          "#7201a8"
                        ],
                        [
                          0.3333333333333333,
                          "#9c179e"
                        ],
                        [
                          0.4444444444444444,
                          "#bd3786"
                        ],
                        [
                          0.5555555555555556,
                          "#d8576b"
                        ],
                        [
                          0.6666666666666666,
                          "#ed7953"
                        ],
                        [
                          0.7777777777777778,
                          "#fb9f3a"
                        ],
                        [
                          0.8888888888888888,
                          "#fdca26"
                        ],
                        [
                          1,
                          "#f0f921"
                        ]
                      ]
                    },
                    "colorway": [
                      "#636efa",
                      "#EF553B",
                      "#00cc96",
                      "#ab63fa",
                      "#FFA15A",
                      "#19d3f3",
                      "#FF6692",
                      "#B6E880",
                      "#FF97FF",
                      "#FECB52"
                    ],
                    "font": {
                      "color": "#2a3f5f"
                    },
                    "geo": {
                      "bgcolor": "white",
                      "lakecolor": "white",
                      "landcolor": "#E5ECF6",
                      "showlakes": true,
                      "showland": true,
                      "subunitcolor": "white"
                    },
                    "hoverlabel": {
                      "align": "left"
                    },
                    "hovermode": "closest",
                    "mapbox": {
                      "style": "light"
                    },
                    "paper_bgcolor": "white",
                    "plot_bgcolor": "#E5ECF6",
                    "polar": {
                      "angularaxis": {
                        "gridcolor": "white",
                        "linecolor": "white",
                        "ticks": ""
                      },
                      "bgcolor": "#E5ECF6",
                      "radialaxis": {
                        "gridcolor": "white",
                        "linecolor": "white",
                        "ticks": ""
                      }
                    },
                    "scene": {
                      "xaxis": {
                        "backgroundcolor": "#E5ECF6",
                        "gridcolor": "white",
                        "gridwidth": 2,
                        "linecolor": "white",
                        "showbackground": true,
                        "ticks": "",
                        "zerolinecolor": "white"
                      },
                      "yaxis": {
                        "backgroundcolor": "#E5ECF6",
                        "gridcolor": "white",
                        "gridwidth": 2,
                        "linecolor": "white",
                        "showbackground": true,
                        "ticks": "",
                        "zerolinecolor": "white"
                      },
                      "zaxis": {
                        "backgroundcolor": "#E5ECF6",
                        "gridcolor": "white",
                        "gridwidth": 2,
                        "linecolor": "white",
                        "showbackground": true,
                        "ticks": "",
                        "zerolinecolor": "white"
                      }
                    },
                    "shapedefaults": {
                      "line": {
                        "color": "#2a3f5f"
                      }
                    },
                    "ternary": {
                      "aaxis": {
                        "gridcolor": "white",
                        "linecolor": "white",
                        "ticks": ""
                      },
                      "baxis": {
                        "gridcolor": "white",
                        "linecolor": "white",
                        "ticks": ""
                      },
                      "bgcolor": "#E5ECF6",
                      "caxis": {
                        "gridcolor": "white",
                        "linecolor": "white",
                        "ticks": ""
                      }
                    },
                    "title": {
                      "x": 0.05
                    },
                    "xaxis": {
                      "automargin": true,
                      "gridcolor": "white",
                      "linecolor": "white",
                      "ticks": "",
                      "title": {
                        "standoff": 15
                      },
                      "zerolinecolor": "white",
                      "zerolinewidth": 2
                    },
                    "yaxis": {
                      "automargin": true,
                      "gridcolor": "white",
                      "linecolor": "white",
                      "ticks": "",
                      "title": {
                        "standoff": 15
                      },
                      "zerolinecolor": "white",
                      "zerolinewidth": 2
                    }
                  }
                }
              }
            }
          },
          "metadata": {},
          "output_type": "display_data"
        }
      ],
      "source": [
        "fig = px.pie(status_order, values='jml', names='order_status', color_discrete_sequence=px.colors.sequential.RdBu)\n",
        "fig.show()"
      ]
    },
    {
      "cell_type": "markdown",
      "metadata": {},
      "source": [
        "### Pertanyaan 4: kategori produk yang paling banyak terjual"
      ]
    },
    {
      "cell_type": "code",
      "execution_count": null,
      "metadata": {},
      "outputs": [
        {
          "name": "stdout",
          "output_type": "stream",
          "text": [
            "(115609, 14)\n"
          ]
        },
        {
          "data": {
            "text/html": [
              "<div>\n",
              "<style scoped>\n",
              "    .dataframe tbody tr th:only-of-type {\n",
              "        vertical-align: middle;\n",
              "    }\n",
              "\n",
              "    .dataframe tbody tr th {\n",
              "        vertical-align: top;\n",
              "    }\n",
              "\n",
              "    .dataframe thead th {\n",
              "        text-align: right;\n",
              "    }\n",
              "</style>\n",
              "<table border=\"1\" class=\"dataframe\">\n",
              "  <thead>\n",
              "    <tr style=\"text-align: right;\">\n",
              "      <th></th>\n",
              "      <th>product_category_name_english</th>\n",
              "      <th>count</th>\n",
              "    </tr>\n",
              "  </thead>\n",
              "  <tbody>\n",
              "    <tr>\n",
              "      <th>0</th>\n",
              "      <td>bed_bath_table</td>\n",
              "      <td>11847</td>\n",
              "    </tr>\n",
              "    <tr>\n",
              "      <th>1</th>\n",
              "      <td>health_beauty</td>\n",
              "      <td>9944</td>\n",
              "    </tr>\n",
              "    <tr>\n",
              "      <th>2</th>\n",
              "      <td>sports_leisure</td>\n",
              "      <td>8942</td>\n",
              "    </tr>\n",
              "    <tr>\n",
              "      <th>3</th>\n",
              "      <td>furniture_decor</td>\n",
              "      <td>8743</td>\n",
              "    </tr>\n",
              "    <tr>\n",
              "      <th>4</th>\n",
              "      <td>computers_accessories</td>\n",
              "      <td>8105</td>\n",
              "    </tr>\n",
              "  </tbody>\n",
              "</table>\n",
              "</div>"
            ],
            "text/plain": [
              "  product_category_name_english  count\n",
              "0                bed_bath_table  11847\n",
              "1                 health_beauty   9944\n",
              "2                sports_leisure   8942\n",
              "3               furniture_decor   8743\n",
              "4         computers_accessories   8105"
            ]
          },
          "execution_count": 73,
          "metadata": {},
          "output_type": "execute_result"
        }
      ],
      "source": [
        "data = all_dataset[['order_id', 'order_status', 'order_item_id', 'product_id', 'shipping_limit_date',\n",
        "                                      'price', 'freight_value', 'total_price', 'payment_sequential','payment_type', \n",
        "                                      'order_item_id','payment_installments', 'payment_value','product_category_name_english']]\n",
        "print(data.shape)\n",
        "data[data.order_status.isin(['delivered','shipped','invoiced'])]\n",
        "\n",
        "rate_product = data.groupby(by=['product_category_name_english']).agg(\n",
        "    {'order_id':'count'}\n",
        "     ).sort_values(\n",
        "         by='order_id', \n",
        "         ascending=False\n",
        "         ).rename(columns={'order_id':'count'}).reset_index()\n",
        "\n",
        "rate_product.head(5)\n",
        "\n",
        "# sns.scatterplot(data=rate_product, x=\"order_id\", y=\"price\")"
      ]
    },
    {
      "cell_type": "code",
      "execution_count": null,
      "metadata": {},
      "outputs": [
        {
          "data": {
            "text/html": [
              "<div>\n",
              "<style scoped>\n",
              "    .dataframe tbody tr th:only-of-type {\n",
              "        vertical-align: middle;\n",
              "    }\n",
              "\n",
              "    .dataframe tbody tr th {\n",
              "        vertical-align: top;\n",
              "    }\n",
              "\n",
              "    .dataframe thead th {\n",
              "        text-align: right;\n",
              "    }\n",
              "</style>\n",
              "<table border=\"1\" class=\"dataframe\">\n",
              "  <thead>\n",
              "    <tr style=\"text-align: right;\">\n",
              "      <th></th>\n",
              "      <th>product_category_name_english</th>\n",
              "      <th>jumlah</th>\n",
              "    </tr>\n",
              "  </thead>\n",
              "  <tbody>\n",
              "    <tr>\n",
              "      <th>0</th>\n",
              "      <td>bed_bath_table</td>\n",
              "      <td>11847</td>\n",
              "    </tr>\n",
              "    <tr>\n",
              "      <th>1</th>\n",
              "      <td>health_beauty</td>\n",
              "      <td>9944</td>\n",
              "    </tr>\n",
              "    <tr>\n",
              "      <th>2</th>\n",
              "      <td>sports_leisure</td>\n",
              "      <td>8942</td>\n",
              "    </tr>\n",
              "    <tr>\n",
              "      <th>3</th>\n",
              "      <td>furniture_decor</td>\n",
              "      <td>8743</td>\n",
              "    </tr>\n",
              "    <tr>\n",
              "      <th>4</th>\n",
              "      <td>computers_accessories</td>\n",
              "      <td>8105</td>\n",
              "    </tr>\n",
              "  </tbody>\n",
              "</table>\n",
              "</div>"
            ],
            "text/plain": [
              "  product_category_name_english  jumlah\n",
              "0                bed_bath_table   11847\n",
              "1                 health_beauty    9944\n",
              "2                sports_leisure    8942\n",
              "3               furniture_decor    8743\n",
              "4         computers_accessories    8105"
            ]
          },
          "execution_count": 71,
          "metadata": {},
          "output_type": "execute_result"
        }
      ],
      "source": [
        "def top_product_cat(df):\n",
        "    return df.groupby(by='product_category_name_english').agg({'order_id':'count'}).sort_values(by='order_id',ascending=False).reset_index().rename(columns={'order_id':'jumlah'})\n",
        "\n",
        "top_product_cat(all_dataset).head()                                                                                                "
      ]
    },
    {
      "cell_type": "code",
      "execution_count": null,
      "metadata": {},
      "outputs": [
        {
          "data": {
            "application/vnd.plotly.v1+json": {
              "config": {
                "plotlyServerURL": "https://plot.ly"
              },
              "data": [
                {
                  "branchvalues": "total",
                  "domain": {
                    "x": [
                      0,
                      1
                    ],
                    "y": [
                      0,
                      1
                    ]
                  },
                  "hovertemplate": "labels=%{label}<br>count=%{value}<br>parent=%{parent}<br>id=%{id}<extra></extra>",
                  "ids": [
                    "Product Sold/agro_industry_and_commerce",
                    "Product Sold/air_conditioning",
                    "Product Sold/art",
                    "Product Sold/arts_and_craftmanship",
                    "Product Sold/audio",
                    "Product Sold/auto",
                    "Product Sold/baby",
                    "Product Sold/bed_bath_table",
                    "Product Sold/books_general_interest",
                    "Product Sold/books_imported",
                    "Product Sold/books_technical",
                    "Product Sold/cds_dvds_musicals",
                    "Product Sold/christmas_supplies",
                    "Product Sold/cine_photo",
                    "Product Sold/computers",
                    "Product Sold/computers_accessories",
                    "Product Sold/consoles_games",
                    "Product Sold/construction_tools_construction",
                    "Product Sold/construction_tools_lights",
                    "Product Sold/construction_tools_safety",
                    "Product Sold/cool_stuff",
                    "Product Sold/costruction_tools_garden",
                    "Product Sold/costruction_tools_tools",
                    "Product Sold/diapers_and_hygiene",
                    "Product Sold/drinks",
                    "Product Sold/dvds_blu_ray",
                    "Product Sold/electronics",
                    "Product Sold/fashio_female_clothing",
                    "Product Sold/fashion_bags_accessories",
                    "Product Sold/fashion_childrens_clothes",
                    "Product Sold/fashion_male_clothing",
                    "Product Sold/fashion_shoes",
                    "Product Sold/fashion_sport",
                    "Product Sold/fashion_underwear_beach",
                    "Product Sold/fixed_telephony",
                    "Product Sold/flowers",
                    "Product Sold/food",
                    "Product Sold/food_drink",
                    "Product Sold/furniture_bedroom",
                    "Product Sold/furniture_decor",
                    "Product Sold/furniture_living_room",
                    "Product Sold/furniture_mattress_and_upholstery",
                    "Product Sold/garden_tools",
                    "Product Sold/health_beauty",
                    "Product Sold/home_appliances",
                    "Product Sold/home_appliances_2",
                    "Product Sold/home_comfort_2",
                    "Product Sold/home_confort",
                    "Product Sold/home_construction",
                    "Product Sold/housewares",
                    "Product Sold/industry_commerce_and_business",
                    "Product Sold/kitchen_dining_laundry_garden_furniture",
                    "Product Sold/la_cuisine",
                    "Product Sold/luggage_accessories",
                    "Product Sold/market_place",
                    "Product Sold/music",
                    "Product Sold/musical_instruments",
                    "Product Sold/office_furniture",
                    "Product Sold/party_supplies",
                    "Product Sold/perfumery",
                    "Product Sold/pet_shop",
                    "Product Sold/security_and_services",
                    "Product Sold/signaling_and_security",
                    "Product Sold/small_appliances",
                    "Product Sold/small_appliances_home_oven_and_coffee",
                    "Product Sold/sports_leisure",
                    "Product Sold/stationery",
                    "Product Sold/tablets_printing_image",
                    "Product Sold/telephony",
                    "Product Sold/toys",
                    "Product Sold/watches_gifts",
                    "Product Sold"
                  ],
                  "labels": [
                    "agro_industry_and_commerce",
                    "air_conditioning",
                    "art",
                    "arts_and_craftmanship",
                    "audio",
                    "auto",
                    "baby",
                    "bed_bath_table",
                    "books_general_interest",
                    "books_imported",
                    "books_technical",
                    "cds_dvds_musicals",
                    "christmas_supplies",
                    "cine_photo",
                    "computers",
                    "computers_accessories",
                    "consoles_games",
                    "construction_tools_construction",
                    "construction_tools_lights",
                    "construction_tools_safety",
                    "cool_stuff",
                    "costruction_tools_garden",
                    "costruction_tools_tools",
                    "diapers_and_hygiene",
                    "drinks",
                    "dvds_blu_ray",
                    "electronics",
                    "fashio_female_clothing",
                    "fashion_bags_accessories",
                    "fashion_childrens_clothes",
                    "fashion_male_clothing",
                    "fashion_shoes",
                    "fashion_sport",
                    "fashion_underwear_beach",
                    "fixed_telephony",
                    "flowers",
                    "food",
                    "food_drink",
                    "furniture_bedroom",
                    "furniture_decor",
                    "furniture_living_room",
                    "furniture_mattress_and_upholstery",
                    "garden_tools",
                    "health_beauty",
                    "home_appliances",
                    "home_appliances_2",
                    "home_comfort_2",
                    "home_confort",
                    "home_construction",
                    "housewares",
                    "industry_commerce_and_business",
                    "kitchen_dining_laundry_garden_furniture",
                    "la_cuisine",
                    "luggage_accessories",
                    "market_place",
                    "music",
                    "musical_instruments",
                    "office_furniture",
                    "party_supplies",
                    "perfumery",
                    "pet_shop",
                    "security_and_services",
                    "signaling_and_security",
                    "small_appliances",
                    "small_appliances_home_oven_and_coffee",
                    "sports_leisure",
                    "stationery",
                    "tablets_printing_image",
                    "telephony",
                    "toys",
                    "watches_gifts",
                    "Product Sold"
                  ],
                  "name": "",
                  "parents": [
                    "Product Sold",
                    "Product Sold",
                    "Product Sold",
                    "Product Sold",
                    "Product Sold",
                    "Product Sold",
                    "Product Sold",
                    "Product Sold",
                    "Product Sold",
                    "Product Sold",
                    "Product Sold",
                    "Product Sold",
                    "Product Sold",
                    "Product Sold",
                    "Product Sold",
                    "Product Sold",
                    "Product Sold",
                    "Product Sold",
                    "Product Sold",
                    "Product Sold",
                    "Product Sold",
                    "Product Sold",
                    "Product Sold",
                    "Product Sold",
                    "Product Sold",
                    "Product Sold",
                    "Product Sold",
                    "Product Sold",
                    "Product Sold",
                    "Product Sold",
                    "Product Sold",
                    "Product Sold",
                    "Product Sold",
                    "Product Sold",
                    "Product Sold",
                    "Product Sold",
                    "Product Sold",
                    "Product Sold",
                    "Product Sold",
                    "Product Sold",
                    "Product Sold",
                    "Product Sold",
                    "Product Sold",
                    "Product Sold",
                    "Product Sold",
                    "Product Sold",
                    "Product Sold",
                    "Product Sold",
                    "Product Sold",
                    "Product Sold",
                    "Product Sold",
                    "Product Sold",
                    "Product Sold",
                    "Product Sold",
                    "Product Sold",
                    "Product Sold",
                    "Product Sold",
                    "Product Sold",
                    "Product Sold",
                    "Product Sold",
                    "Product Sold",
                    "Product Sold",
                    "Product Sold",
                    "Product Sold",
                    "Product Sold",
                    "Product Sold",
                    "Product Sold",
                    "Product Sold",
                    "Product Sold",
                    "Product Sold",
                    "Product Sold",
                    ""
                  ],
                  "root": {
                    "color": "lightgrey"
                  },
                  "type": "treemap",
                  "values": [
                    252,
                    297,
                    217,
                    24,
                    377,
                    4356,
                    3178,
                    11847,
                    561,
                    62,
                    269,
                    14,
                    148,
                    74,
                    217,
                    8105,
                    1180,
                    950,
                    305,
                    198,
                    3964,
                    247,
                    101,
                    39,
                    384,
                    70,
                    2827,
                    50,
                    2159,
                    8,
                    144,
                    273,
                    31,
                    143,
                    269,
                    31,
                    511,
                    290,
                    126,
                    8743,
                    522,
                    41,
                    4558,
                    9944,
                    823,
                    268,
                    28,
                    476,
                    630,
                    7331,
                    269,
                    297,
                    15,
                    1159,
                    330,
                    40,
                    712,
                    1773,
                    46,
                    3575,
                    2020,
                    2,
                    199,
                    699,
                    78,
                    8942,
                    2607,
                    85,
                    4692,
                    4246,
                    6161,
                    115609
                  ]
                }
              ],
              "layout": {
                "legend": {
                  "tracegroupgap": 0
                },
                "margin": {
                  "b": 25,
                  "l": 25,
                  "r": 25,
                  "t": 50
                },
                "template": {
                  "data": {
                    "bar": [
                      {
                        "error_x": {
                          "color": "#2a3f5f"
                        },
                        "error_y": {
                          "color": "#2a3f5f"
                        },
                        "marker": {
                          "line": {
                            "color": "#E5ECF6",
                            "width": 0.5
                          },
                          "pattern": {
                            "fillmode": "overlay",
                            "size": 10,
                            "solidity": 0.2
                          }
                        },
                        "type": "bar"
                      }
                    ],
                    "barpolar": [
                      {
                        "marker": {
                          "line": {
                            "color": "#E5ECF6",
                            "width": 0.5
                          },
                          "pattern": {
                            "fillmode": "overlay",
                            "size": 10,
                            "solidity": 0.2
                          }
                        },
                        "type": "barpolar"
                      }
                    ],
                    "carpet": [
                      {
                        "aaxis": {
                          "endlinecolor": "#2a3f5f",
                          "gridcolor": "white",
                          "linecolor": "white",
                          "minorgridcolor": "white",
                          "startlinecolor": "#2a3f5f"
                        },
                        "baxis": {
                          "endlinecolor": "#2a3f5f",
                          "gridcolor": "white",
                          "linecolor": "white",
                          "minorgridcolor": "white",
                          "startlinecolor": "#2a3f5f"
                        },
                        "type": "carpet"
                      }
                    ],
                    "choropleth": [
                      {
                        "colorbar": {
                          "outlinewidth": 0,
                          "ticks": ""
                        },
                        "type": "choropleth"
                      }
                    ],
                    "contour": [
                      {
                        "colorbar": {
                          "outlinewidth": 0,
                          "ticks": ""
                        },
                        "colorscale": [
                          [
                            0,
                            "#0d0887"
                          ],
                          [
                            0.1111111111111111,
                            "#46039f"
                          ],
                          [
                            0.2222222222222222,
                            "#7201a8"
                          ],
                          [
                            0.3333333333333333,
                            "#9c179e"
                          ],
                          [
                            0.4444444444444444,
                            "#bd3786"
                          ],
                          [
                            0.5555555555555556,
                            "#d8576b"
                          ],
                          [
                            0.6666666666666666,
                            "#ed7953"
                          ],
                          [
                            0.7777777777777778,
                            "#fb9f3a"
                          ],
                          [
                            0.8888888888888888,
                            "#fdca26"
                          ],
                          [
                            1,
                            "#f0f921"
                          ]
                        ],
                        "type": "contour"
                      }
                    ],
                    "contourcarpet": [
                      {
                        "colorbar": {
                          "outlinewidth": 0,
                          "ticks": ""
                        },
                        "type": "contourcarpet"
                      }
                    ],
                    "heatmap": [
                      {
                        "colorbar": {
                          "outlinewidth": 0,
                          "ticks": ""
                        },
                        "colorscale": [
                          [
                            0,
                            "#0d0887"
                          ],
                          [
                            0.1111111111111111,
                            "#46039f"
                          ],
                          [
                            0.2222222222222222,
                            "#7201a8"
                          ],
                          [
                            0.3333333333333333,
                            "#9c179e"
                          ],
                          [
                            0.4444444444444444,
                            "#bd3786"
                          ],
                          [
                            0.5555555555555556,
                            "#d8576b"
                          ],
                          [
                            0.6666666666666666,
                            "#ed7953"
                          ],
                          [
                            0.7777777777777778,
                            "#fb9f3a"
                          ],
                          [
                            0.8888888888888888,
                            "#fdca26"
                          ],
                          [
                            1,
                            "#f0f921"
                          ]
                        ],
                        "type": "heatmap"
                      }
                    ],
                    "heatmapgl": [
                      {
                        "colorbar": {
                          "outlinewidth": 0,
                          "ticks": ""
                        },
                        "colorscale": [
                          [
                            0,
                            "#0d0887"
                          ],
                          [
                            0.1111111111111111,
                            "#46039f"
                          ],
                          [
                            0.2222222222222222,
                            "#7201a8"
                          ],
                          [
                            0.3333333333333333,
                            "#9c179e"
                          ],
                          [
                            0.4444444444444444,
                            "#bd3786"
                          ],
                          [
                            0.5555555555555556,
                            "#d8576b"
                          ],
                          [
                            0.6666666666666666,
                            "#ed7953"
                          ],
                          [
                            0.7777777777777778,
                            "#fb9f3a"
                          ],
                          [
                            0.8888888888888888,
                            "#fdca26"
                          ],
                          [
                            1,
                            "#f0f921"
                          ]
                        ],
                        "type": "heatmapgl"
                      }
                    ],
                    "histogram": [
                      {
                        "marker": {
                          "pattern": {
                            "fillmode": "overlay",
                            "size": 10,
                            "solidity": 0.2
                          }
                        },
                        "type": "histogram"
                      }
                    ],
                    "histogram2d": [
                      {
                        "colorbar": {
                          "outlinewidth": 0,
                          "ticks": ""
                        },
                        "colorscale": [
                          [
                            0,
                            "#0d0887"
                          ],
                          [
                            0.1111111111111111,
                            "#46039f"
                          ],
                          [
                            0.2222222222222222,
                            "#7201a8"
                          ],
                          [
                            0.3333333333333333,
                            "#9c179e"
                          ],
                          [
                            0.4444444444444444,
                            "#bd3786"
                          ],
                          [
                            0.5555555555555556,
                            "#d8576b"
                          ],
                          [
                            0.6666666666666666,
                            "#ed7953"
                          ],
                          [
                            0.7777777777777778,
                            "#fb9f3a"
                          ],
                          [
                            0.8888888888888888,
                            "#fdca26"
                          ],
                          [
                            1,
                            "#f0f921"
                          ]
                        ],
                        "type": "histogram2d"
                      }
                    ],
                    "histogram2dcontour": [
                      {
                        "colorbar": {
                          "outlinewidth": 0,
                          "ticks": ""
                        },
                        "colorscale": [
                          [
                            0,
                            "#0d0887"
                          ],
                          [
                            0.1111111111111111,
                            "#46039f"
                          ],
                          [
                            0.2222222222222222,
                            "#7201a8"
                          ],
                          [
                            0.3333333333333333,
                            "#9c179e"
                          ],
                          [
                            0.4444444444444444,
                            "#bd3786"
                          ],
                          [
                            0.5555555555555556,
                            "#d8576b"
                          ],
                          [
                            0.6666666666666666,
                            "#ed7953"
                          ],
                          [
                            0.7777777777777778,
                            "#fb9f3a"
                          ],
                          [
                            0.8888888888888888,
                            "#fdca26"
                          ],
                          [
                            1,
                            "#f0f921"
                          ]
                        ],
                        "type": "histogram2dcontour"
                      }
                    ],
                    "mesh3d": [
                      {
                        "colorbar": {
                          "outlinewidth": 0,
                          "ticks": ""
                        },
                        "type": "mesh3d"
                      }
                    ],
                    "parcoords": [
                      {
                        "line": {
                          "colorbar": {
                            "outlinewidth": 0,
                            "ticks": ""
                          }
                        },
                        "type": "parcoords"
                      }
                    ],
                    "pie": [
                      {
                        "automargin": true,
                        "type": "pie"
                      }
                    ],
                    "scatter": [
                      {
                        "fillpattern": {
                          "fillmode": "overlay",
                          "size": 10,
                          "solidity": 0.2
                        },
                        "type": "scatter"
                      }
                    ],
                    "scatter3d": [
                      {
                        "line": {
                          "colorbar": {
                            "outlinewidth": 0,
                            "ticks": ""
                          }
                        },
                        "marker": {
                          "colorbar": {
                            "outlinewidth": 0,
                            "ticks": ""
                          }
                        },
                        "type": "scatter3d"
                      }
                    ],
                    "scattercarpet": [
                      {
                        "marker": {
                          "colorbar": {
                            "outlinewidth": 0,
                            "ticks": ""
                          }
                        },
                        "type": "scattercarpet"
                      }
                    ],
                    "scattergeo": [
                      {
                        "marker": {
                          "colorbar": {
                            "outlinewidth": 0,
                            "ticks": ""
                          }
                        },
                        "type": "scattergeo"
                      }
                    ],
                    "scattergl": [
                      {
                        "marker": {
                          "colorbar": {
                            "outlinewidth": 0,
                            "ticks": ""
                          }
                        },
                        "type": "scattergl"
                      }
                    ],
                    "scattermapbox": [
                      {
                        "marker": {
                          "colorbar": {
                            "outlinewidth": 0,
                            "ticks": ""
                          }
                        },
                        "type": "scattermapbox"
                      }
                    ],
                    "scatterpolar": [
                      {
                        "marker": {
                          "colorbar": {
                            "outlinewidth": 0,
                            "ticks": ""
                          }
                        },
                        "type": "scatterpolar"
                      }
                    ],
                    "scatterpolargl": [
                      {
                        "marker": {
                          "colorbar": {
                            "outlinewidth": 0,
                            "ticks": ""
                          }
                        },
                        "type": "scatterpolargl"
                      }
                    ],
                    "scatterternary": [
                      {
                        "marker": {
                          "colorbar": {
                            "outlinewidth": 0,
                            "ticks": ""
                          }
                        },
                        "type": "scatterternary"
                      }
                    ],
                    "surface": [
                      {
                        "colorbar": {
                          "outlinewidth": 0,
                          "ticks": ""
                        },
                        "colorscale": [
                          [
                            0,
                            "#0d0887"
                          ],
                          [
                            0.1111111111111111,
                            "#46039f"
                          ],
                          [
                            0.2222222222222222,
                            "#7201a8"
                          ],
                          [
                            0.3333333333333333,
                            "#9c179e"
                          ],
                          [
                            0.4444444444444444,
                            "#bd3786"
                          ],
                          [
                            0.5555555555555556,
                            "#d8576b"
                          ],
                          [
                            0.6666666666666666,
                            "#ed7953"
                          ],
                          [
                            0.7777777777777778,
                            "#fb9f3a"
                          ],
                          [
                            0.8888888888888888,
                            "#fdca26"
                          ],
                          [
                            1,
                            "#f0f921"
                          ]
                        ],
                        "type": "surface"
                      }
                    ],
                    "table": [
                      {
                        "cells": {
                          "fill": {
                            "color": "#EBF0F8"
                          },
                          "line": {
                            "color": "white"
                          }
                        },
                        "header": {
                          "fill": {
                            "color": "#C8D4E3"
                          },
                          "line": {
                            "color": "white"
                          }
                        },
                        "type": "table"
                      }
                    ]
                  },
                  "layout": {
                    "annotationdefaults": {
                      "arrowcolor": "#2a3f5f",
                      "arrowhead": 0,
                      "arrowwidth": 1
                    },
                    "autotypenumbers": "strict",
                    "coloraxis": {
                      "colorbar": {
                        "outlinewidth": 0,
                        "ticks": ""
                      }
                    },
                    "colorscale": {
                      "diverging": [
                        [
                          0,
                          "#8e0152"
                        ],
                        [
                          0.1,
                          "#c51b7d"
                        ],
                        [
                          0.2,
                          "#de77ae"
                        ],
                        [
                          0.3,
                          "#f1b6da"
                        ],
                        [
                          0.4,
                          "#fde0ef"
                        ],
                        [
                          0.5,
                          "#f7f7f7"
                        ],
                        [
                          0.6,
                          "#e6f5d0"
                        ],
                        [
                          0.7,
                          "#b8e186"
                        ],
                        [
                          0.8,
                          "#7fbc41"
                        ],
                        [
                          0.9,
                          "#4d9221"
                        ],
                        [
                          1,
                          "#276419"
                        ]
                      ],
                      "sequential": [
                        [
                          0,
                          "#0d0887"
                        ],
                        [
                          0.1111111111111111,
                          "#46039f"
                        ],
                        [
                          0.2222222222222222,
                          "#7201a8"
                        ],
                        [
                          0.3333333333333333,
                          "#9c179e"
                        ],
                        [
                          0.4444444444444444,
                          "#bd3786"
                        ],
                        [
                          0.5555555555555556,
                          "#d8576b"
                        ],
                        [
                          0.6666666666666666,
                          "#ed7953"
                        ],
                        [
                          0.7777777777777778,
                          "#fb9f3a"
                        ],
                        [
                          0.8888888888888888,
                          "#fdca26"
                        ],
                        [
                          1,
                          "#f0f921"
                        ]
                      ],
                      "sequentialminus": [
                        [
                          0,
                          "#0d0887"
                        ],
                        [
                          0.1111111111111111,
                          "#46039f"
                        ],
                        [
                          0.2222222222222222,
                          "#7201a8"
                        ],
                        [
                          0.3333333333333333,
                          "#9c179e"
                        ],
                        [
                          0.4444444444444444,
                          "#bd3786"
                        ],
                        [
                          0.5555555555555556,
                          "#d8576b"
                        ],
                        [
                          0.6666666666666666,
                          "#ed7953"
                        ],
                        [
                          0.7777777777777778,
                          "#fb9f3a"
                        ],
                        [
                          0.8888888888888888,
                          "#fdca26"
                        ],
                        [
                          1,
                          "#f0f921"
                        ]
                      ]
                    },
                    "colorway": [
                      "#636efa",
                      "#EF553B",
                      "#00cc96",
                      "#ab63fa",
                      "#FFA15A",
                      "#19d3f3",
                      "#FF6692",
                      "#B6E880",
                      "#FF97FF",
                      "#FECB52"
                    ],
                    "font": {
                      "color": "#2a3f5f"
                    },
                    "geo": {
                      "bgcolor": "white",
                      "lakecolor": "white",
                      "landcolor": "#E5ECF6",
                      "showlakes": true,
                      "showland": true,
                      "subunitcolor": "white"
                    },
                    "hoverlabel": {
                      "align": "left"
                    },
                    "hovermode": "closest",
                    "mapbox": {
                      "style": "light"
                    },
                    "paper_bgcolor": "white",
                    "plot_bgcolor": "#E5ECF6",
                    "polar": {
                      "angularaxis": {
                        "gridcolor": "white",
                        "linecolor": "white",
                        "ticks": ""
                      },
                      "bgcolor": "#E5ECF6",
                      "radialaxis": {
                        "gridcolor": "white",
                        "linecolor": "white",
                        "ticks": ""
                      }
                    },
                    "scene": {
                      "xaxis": {
                        "backgroundcolor": "#E5ECF6",
                        "gridcolor": "white",
                        "gridwidth": 2,
                        "linecolor": "white",
                        "showbackground": true,
                        "ticks": "",
                        "zerolinecolor": "white"
                      },
                      "yaxis": {
                        "backgroundcolor": "#E5ECF6",
                        "gridcolor": "white",
                        "gridwidth": 2,
                        "linecolor": "white",
                        "showbackground": true,
                        "ticks": "",
                        "zerolinecolor": "white"
                      },
                      "zaxis": {
                        "backgroundcolor": "#E5ECF6",
                        "gridcolor": "white",
                        "gridwidth": 2,
                        "linecolor": "white",
                        "showbackground": true,
                        "ticks": "",
                        "zerolinecolor": "white"
                      }
                    },
                    "shapedefaults": {
                      "line": {
                        "color": "#2a3f5f"
                      }
                    },
                    "ternary": {
                      "aaxis": {
                        "gridcolor": "white",
                        "linecolor": "white",
                        "ticks": ""
                      },
                      "baxis": {
                        "gridcolor": "white",
                        "linecolor": "white",
                        "ticks": ""
                      },
                      "bgcolor": "#E5ECF6",
                      "caxis": {
                        "gridcolor": "white",
                        "linecolor": "white",
                        "ticks": ""
                      }
                    },
                    "title": {
                      "x": 0.05
                    },
                    "xaxis": {
                      "automargin": true,
                      "gridcolor": "white",
                      "linecolor": "white",
                      "ticks": "",
                      "title": {
                        "standoff": 15
                      },
                      "zerolinecolor": "white",
                      "zerolinewidth": 2
                    },
                    "yaxis": {
                      "automargin": true,
                      "gridcolor": "white",
                      "linecolor": "white",
                      "ticks": "",
                      "title": {
                        "standoff": 15
                      },
                      "zerolinecolor": "white",
                      "zerolinewidth": 2
                    }
                  }
                }
              }
            }
          },
          "metadata": {},
          "output_type": "display_data"
        }
      ],
      "source": [
        "fig = px.treemap(rate_product, path=[px.Constant(\"Product Sold\"), 'product_category_name_english'], values='count')\n",
        "fig.update_traces(root_color=\"lightgrey\")\n",
        "fig.update_layout(margin = dict(t=50, l=25, r=25, b=25))\n",
        "fig.show()"
      ]
    },
    {
      "cell_type": "markdown",
      "metadata": {},
      "source": [
        "### Pertanyaan 5: bagaimana analisis RFMnya"
      ]
    },
    {
      "cell_type": "code",
      "execution_count": null,
      "metadata": {},
      "outputs": [
        {
          "name": "stdout",
          "output_type": "stream",
          "text": [
            "<class 'pandas.core.frame.DataFrame'>\n",
            "RangeIndex: 115609 entries, 0 to 115608\n",
            "Data columns (total 3 columns):\n",
            " #   Column                    Non-Null Count   Dtype         \n",
            "---  ------                    --------------   -----         \n",
            " 0   order_purchase_timestamp  115609 non-null  datetime64[ns]\n",
            " 1   order_id                  115609 non-null  object        \n",
            " 2   total_price               115609 non-null  float64       \n",
            "dtypes: datetime64[ns](1), float64(1), object(1)\n",
            "memory usage: 2.6+ MB\n"
          ]
        }
      ],
      "source": [
        "all_data = pd.read_csv('dashboard/data/all_dataset.csv', \n",
        "                       sep=',',\n",
        "                       parse_dates=['order_purchase_timestamp'])\n",
        "\n",
        "data = all_data[['order_purchase_timestamp','order_id','total_price']]\n",
        "data.info()"
      ]
    },
    {
      "cell_type": "code",
      "execution_count": null,
      "metadata": {},
      "outputs": [
        {
          "data": {
            "text/html": [
              "<div>\n",
              "<style scoped>\n",
              "    .dataframe tbody tr th:only-of-type {\n",
              "        vertical-align: middle;\n",
              "    }\n",
              "\n",
              "    .dataframe tbody tr th {\n",
              "        vertical-align: top;\n",
              "    }\n",
              "\n",
              "    .dataframe thead th {\n",
              "        text-align: right;\n",
              "    }\n",
              "</style>\n",
              "<table border=\"1\" class=\"dataframe\">\n",
              "  <thead>\n",
              "    <tr style=\"text-align: right;\">\n",
              "      <th></th>\n",
              "      <th>customer_id</th>\n",
              "      <th>frequency</th>\n",
              "      <th>monetary</th>\n",
              "      <th>recency</th>\n",
              "      <th>cust_id_short</th>\n",
              "    </tr>\n",
              "  </thead>\n",
              "  <tbody>\n",
              "    <tr>\n",
              "      <th>28446</th>\n",
              "      <td>4b7decb9b58e2569548b8b4c8e20e8d7</td>\n",
              "      <td>1</td>\n",
              "      <td>145.00</td>\n",
              "      <td>0</td>\n",
              "      <td>e20e8d7</td>\n",
              "    </tr>\n",
              "    <tr>\n",
              "      <th>6235</th>\n",
              "      <td>10a79ef2783cae3d8d678e85fde235ac</td>\n",
              "      <td>1</td>\n",
              "      <td>6.90</td>\n",
              "      <td>5</td>\n",
              "      <td>de235ac</td>\n",
              "    </tr>\n",
              "    <tr>\n",
              "      <th>51800</th>\n",
              "      <td>898b7fee99c4e42170ab69ba59be0a8b</td>\n",
              "      <td>1</td>\n",
              "      <td>84.99</td>\n",
              "      <td>5</td>\n",
              "      <td>9be0a8b</td>\n",
              "    </tr>\n",
              "    <tr>\n",
              "      <th>86225</th>\n",
              "      <td>e450a297a7bc6839ceb0cf1a2377fa02</td>\n",
              "      <td>1</td>\n",
              "      <td>63.90</td>\n",
              "      <td>5</td>\n",
              "      <td>377fa02</td>\n",
              "    </tr>\n",
              "    <tr>\n",
              "      <th>69923</th>\n",
              "      <td>b8c19e70d00f6927388e4f31c923d785</td>\n",
              "      <td>1</td>\n",
              "      <td>169.80</td>\n",
              "      <td>5</td>\n",
              "      <td>923d785</td>\n",
              "    </tr>\n",
              "  </tbody>\n",
              "</table>\n",
              "</div>"
            ],
            "text/plain": [
              "                            customer_id  frequency  monetary  recency  \\\n",
              "28446  4b7decb9b58e2569548b8b4c8e20e8d7          1    145.00        0   \n",
              "6235   10a79ef2783cae3d8d678e85fde235ac          1      6.90        5   \n",
              "51800  898b7fee99c4e42170ab69ba59be0a8b          1     84.99        5   \n",
              "86225  e450a297a7bc6839ceb0cf1a2377fa02          1     63.90        5   \n",
              "69923  b8c19e70d00f6927388e4f31c923d785          1    169.80        5   \n",
              "\n",
              "      cust_id_short  \n",
              "28446       e20e8d7  \n",
              "6235        de235ac  \n",
              "51800       9be0a8b  \n",
              "86225       377fa02  \n",
              "69923       923d785  "
            ]
          },
          "execution_count": 73,
          "metadata": {},
          "output_type": "execute_result"
        }
      ],
      "source": [
        "def rfm_analysis(df):\n",
        "    df1 = df.groupby(by='customer_id', as_index=False).agg({\n",
        "            'order_purchase_timestamp':'max',\n",
        "            'order_id':'count',\n",
        "            'total_price':'sum'\n",
        "        })\n",
        "        \n",
        "    df1.columns = [\"customer_id\", \"max_order_timestamp\", \"frequency\", \"monetary\"]\n",
        "    # - df1.max_order_timestamp.dt.date\n",
        "    df1[\"max_order_timestamp\"] = df1.max_order_timestamp.dt.date\n",
        "    rcnt_date = df.order_purchase_timestamp.dt.date.max()\n",
        "    df1[\"recency\"] = df1[\"max_order_timestamp\"].apply(lambda x: (rcnt_date - x).days)\n",
        "    df1['cust_id_short'] = df1.customer_id.str.slice(start=25)\n",
        "\n",
        "    df1.drop(\"max_order_timestamp\", axis=1, inplace=True)\n",
        "\n",
        "    return df1\n",
        "\n",
        "    \n",
        "rfm_analysis(all_data).sort_values(by=\"recency\", ascending=True).head()"
      ]
    },
    {
      "cell_type": "code",
      "execution_count": null,
      "metadata": {},
      "outputs": [
        {
          "data": {
            "text/html": [
              "<div>\n",
              "<style scoped>\n",
              "    .dataframe tbody tr th:only-of-type {\n",
              "        vertical-align: middle;\n",
              "    }\n",
              "\n",
              "    .dataframe tbody tr th {\n",
              "        vertical-align: top;\n",
              "    }\n",
              "\n",
              "    .dataframe thead th {\n",
              "        text-align: right;\n",
              "    }\n",
              "</style>\n",
              "<table border=\"1\" class=\"dataframe\">\n",
              "  <thead>\n",
              "    <tr style=\"text-align: right;\">\n",
              "      <th></th>\n",
              "      <th>customer_id</th>\n",
              "      <th>frequency</th>\n",
              "      <th>monetary</th>\n",
              "      <th>recency</th>\n",
              "      <th>cust_id_short</th>\n",
              "    </tr>\n",
              "  </thead>\n",
              "  <tbody>\n",
              "    <tr>\n",
              "      <th>28446</th>\n",
              "      <td>4b7decb9b58e2569548b8b4c8e20e8d7</td>\n",
              "      <td>1</td>\n",
              "      <td>145.00</td>\n",
              "      <td>0</td>\n",
              "      <td>e20e8d7</td>\n",
              "    </tr>\n",
              "    <tr>\n",
              "      <th>6235</th>\n",
              "      <td>10a79ef2783cae3d8d678e85fde235ac</td>\n",
              "      <td>1</td>\n",
              "      <td>6.90</td>\n",
              "      <td>5</td>\n",
              "      <td>de235ac</td>\n",
              "    </tr>\n",
              "    <tr>\n",
              "      <th>51800</th>\n",
              "      <td>898b7fee99c4e42170ab69ba59be0a8b</td>\n",
              "      <td>1</td>\n",
              "      <td>84.99</td>\n",
              "      <td>5</td>\n",
              "      <td>9be0a8b</td>\n",
              "    </tr>\n",
              "    <tr>\n",
              "      <th>86225</th>\n",
              "      <td>e450a297a7bc6839ceb0cf1a2377fa02</td>\n",
              "      <td>1</td>\n",
              "      <td>63.90</td>\n",
              "      <td>5</td>\n",
              "      <td>377fa02</td>\n",
              "    </tr>\n",
              "    <tr>\n",
              "      <th>69923</th>\n",
              "      <td>b8c19e70d00f6927388e4f31c923d785</td>\n",
              "      <td>1</td>\n",
              "      <td>169.80</td>\n",
              "      <td>5</td>\n",
              "      <td>923d785</td>\n",
              "    </tr>\n",
              "  </tbody>\n",
              "</table>\n",
              "</div>"
            ],
            "text/plain": [
              "                            customer_id  frequency  monetary  recency  \\\n",
              "28446  4b7decb9b58e2569548b8b4c8e20e8d7          1    145.00        0   \n",
              "6235   10a79ef2783cae3d8d678e85fde235ac          1      6.90        5   \n",
              "51800  898b7fee99c4e42170ab69ba59be0a8b          1     84.99        5   \n",
              "86225  e450a297a7bc6839ceb0cf1a2377fa02          1     63.90        5   \n",
              "69923  b8c19e70d00f6927388e4f31c923d785          1    169.80        5   \n",
              "\n",
              "      cust_id_short  \n",
              "28446       e20e8d7  \n",
              "6235        de235ac  \n",
              "51800       9be0a8b  \n",
              "86225       377fa02  \n",
              "69923       923d785  "
            ]
          },
          "execution_count": 74,
          "metadata": {},
          "output_type": "execute_result"
        }
      ],
      "source": [
        "rfm_analysis(all_data).sort_values(by=\"recency\", ascending=True).head()\n"
      ]
    },
    {
      "cell_type": "code",
      "execution_count": null,
      "metadata": {},
      "outputs": [
        {
          "data": {
            "text/html": [
              "<div>\n",
              "<style scoped>\n",
              "    .dataframe tbody tr th:only-of-type {\n",
              "        vertical-align: middle;\n",
              "    }\n",
              "\n",
              "    .dataframe tbody tr th {\n",
              "        vertical-align: top;\n",
              "    }\n",
              "\n",
              "    .dataframe thead th {\n",
              "        text-align: right;\n",
              "    }\n",
              "</style>\n",
              "<table border=\"1\" class=\"dataframe\">\n",
              "  <thead>\n",
              "    <tr style=\"text-align: right;\">\n",
              "      <th></th>\n",
              "      <th>frequency</th>\n",
              "      <th>monetary</th>\n",
              "      <th>recency</th>\n",
              "    </tr>\n",
              "  </thead>\n",
              "  <tbody>\n",
              "    <tr>\n",
              "      <th>count</th>\n",
              "      <td>96516.000000</td>\n",
              "      <td>96516.000000</td>\n",
              "      <td>96516.000000</td>\n",
              "    </tr>\n",
              "    <tr>\n",
              "      <th>mean</th>\n",
              "      <td>1.197822</td>\n",
              "      <td>163.435774</td>\n",
              "      <td>244.835188</td>\n",
              "    </tr>\n",
              "    <tr>\n",
              "      <th>std</th>\n",
              "      <td>0.748938</td>\n",
              "      <td>381.980069</td>\n",
              "      <td>153.416102</td>\n",
              "    </tr>\n",
              "    <tr>\n",
              "      <th>min</th>\n",
              "      <td>1.000000</td>\n",
              "      <td>0.850000</td>\n",
              "      <td>0.000000</td>\n",
              "    </tr>\n",
              "    <tr>\n",
              "      <th>25%</th>\n",
              "      <td>1.000000</td>\n",
              "      <td>48.900000</td>\n",
              "      <td>120.000000</td>\n",
              "    </tr>\n",
              "    <tr>\n",
              "      <th>50%</th>\n",
              "      <td>1.000000</td>\n",
              "      <td>89.900000</td>\n",
              "      <td>225.000000</td>\n",
              "    </tr>\n",
              "    <tr>\n",
              "      <th>75%</th>\n",
              "      <td>1.000000</td>\n",
              "      <td>168.900000</td>\n",
              "      <td>355.000000</td>\n",
              "    </tr>\n",
              "    <tr>\n",
              "      <th>max</th>\n",
              "      <td>63.000000</td>\n",
              "      <td>60480.000000</td>\n",
              "      <td>729.000000</td>\n",
              "    </tr>\n",
              "  </tbody>\n",
              "</table>\n",
              "</div>"
            ],
            "text/plain": [
              "          frequency      monetary       recency\n",
              "count  96516.000000  96516.000000  96516.000000\n",
              "mean       1.197822    163.435774    244.835188\n",
              "std        0.748938    381.980069    153.416102\n",
              "min        1.000000      0.850000      0.000000\n",
              "25%        1.000000     48.900000    120.000000\n",
              "50%        1.000000     89.900000    225.000000\n",
              "75%        1.000000    168.900000    355.000000\n",
              "max       63.000000  60480.000000    729.000000"
            ]
          },
          "execution_count": 102,
          "metadata": {},
          "output_type": "execute_result"
        }
      ],
      "source": [
        "df.describe()"
      ]
    },
    {
      "cell_type": "code",
      "execution_count": null,
      "metadata": {},
      "outputs": [
        {
          "name": "stderr",
          "output_type": "stream",
          "text": [
            "C:\\Users\\Lenovo\\AppData\\Local\\Temp\\ipykernel_10360\\1419600741.py:5: FutureWarning:\n",
            "\n",
            "\n",
            "\n",
            "Passing `palette` without assigning `hue` is deprecated and will be removed in v0.14.0. Assign the `x` variable to `hue` and set `legend=False` for the same effect.\n",
            "\n",
            "\n",
            "C:\\Users\\Lenovo\\AppData\\Local\\Temp\\ipykernel_10360\\1419600741.py:5: UserWarning:\n",
            "\n",
            "\n",
            "The palette list has fewer values (5) than needed (10) and will cycle, which may produce an uninterpretable plot.\n",
            "\n",
            "C:\\Users\\Lenovo\\AppData\\Local\\Temp\\ipykernel_10360\\1419600741.py:11: FutureWarning:\n",
            "\n",
            "\n",
            "\n",
            "Passing `palette` without assigning `hue` is deprecated and will be removed in v0.14.0. Assign the `x` variable to `hue` and set `legend=False` for the same effect.\n",
            "\n",
            "\n",
            "C:\\Users\\Lenovo\\AppData\\Local\\Temp\\ipykernel_10360\\1419600741.py:11: UserWarning:\n",
            "\n",
            "\n",
            "The palette list has fewer values (5) than needed (10) and will cycle, which may produce an uninterpretable plot.\n",
            "\n",
            "C:\\Users\\Lenovo\\AppData\\Local\\Temp\\ipykernel_10360\\1419600741.py:17: FutureWarning:\n",
            "\n",
            "\n",
            "\n",
            "Passing `palette` without assigning `hue` is deprecated and will be removed in v0.14.0. Assign the `x` variable to `hue` and set `legend=False` for the same effect.\n",
            "\n",
            "\n",
            "C:\\Users\\Lenovo\\AppData\\Local\\Temp\\ipykernel_10360\\1419600741.py:17: UserWarning:\n",
            "\n",
            "\n",
            "The palette list has fewer values (5) than needed (10) and will cycle, which may produce an uninterpretable plot.\n",
            "\n"
          ]
        },
        {
          "data": {
            "image/png": "[encoded data removed]",
            "text/plain": [
              "<Figure size 3000x600 with 3 Axes>"
            ]
          },
          "metadata": {},
          "output_type": "display_data"
        }
      ],
      "source": [
        "fig, ax = plt.subplots(nrows=1, ncols=3, figsize=(30, 6))\n",
        " \n",
        "colors = [\"#72BCD4\", \"#72BCD4\", \"#72BCD4\", \"#72BCD4\", \"#72BCD4\"]\n",
        " \n",
        "sns.barplot(y=\"recency\", x=\"cust_id_short\", data=df.sort_values(by=\"recency\", ascending=True).head(10), palette=colors, ax=ax[0])\n",
        "ax[0].set_ylabel(None)\n",
        "ax[0].set_xlabel(None)\n",
        "ax[0].set_title(\"By Recency (days)\", loc=\"center\", fontsize=18)\n",
        "ax[0].tick_params(axis ='x', labelsize=15)\n",
        " \n",
        "sns.barplot(y=\"frequency\", x=\"cust_id_short\", data=df.sort_values(by=\"frequency\", ascending=False).head(10), palette=colors, ax=ax[1])\n",
        "ax[1].set_ylabel(None)\n",
        "ax[1].set_xlabel(None)\n",
        "ax[1].set_title(\"By Frequency\", loc=\"center\", fontsize=18)\n",
        "ax[1].tick_params(axis='x', labelsize=15)\n",
        " \n",
        "sns.barplot(y=\"monetary\", x=\"cust_id_short\", data=df.sort_values(by=\"monetary\", ascending=False).head(10), palette=colors, ax=ax[2])\n",
        "ax[2].set_ylabel(None)\n",
        "ax[2].set_xlabel(None)\n",
        "ax[2].set_title(\"By Monetary\", loc=\"center\", fontsize=18)\n",
        "ax[2].tick_params(axis='x', labelsize=15)\n",
        " \n",
        "plt.suptitle(\"Best Customer Based on RFM Parameters (customer_id)\", fontsize=20)\n",
        "plt.show()"
      ]
    },
    {
      "cell_type": "code",
      "execution_count": null,
      "metadata": {},
      "outputs": [
        {
          "data": {
            "text/plain": [
              "<Axes: xlabel='monetary'>"
            ]
          },
          "execution_count": 103,
          "metadata": {},
          "output_type": "execute_result"
        },
        {
          "data": {
            "image/png": "[encoded data removed]",
            "text/plain": [
              "<Figure size 1500x300 with 3 Axes>"
            ]
          },
          "metadata": {},
          "output_type": "display_data"
        }
      ],
      "source": [
        "fig, ax = plt.subplots(1,3, figsize=(15,3))\n",
        "\n",
        "sns.boxplot(x=df.recency, ax=ax[0])\n",
        "sns.boxplot(x=df.frequency, ax=ax[1])\n",
        "sns.boxplot(x=df.monetary, ax=ax[2])"
      ]
    },
    {
      "cell_type": "markdown",
      "metadata": {
        "id": "J2CnXYGT9Tc2"
      },
      "source": [
        "## Conclusion"
      ]
    },
    {
      "cell_type": "markdown",
      "metadata": {
        "id": "f73FBkLw9V8C"
      },
      "source": [
        "- Conclution pertanyaan 1\n",
        "Berdasarkan visualisasi 1 dapat di simpulkan bahwa order yang paling banyak ada di state SP dan order paling banyak ada di kota sau paulo di susul rio jenario\n",
        "- conclution pertanyaan 2\n",
        "Berdasarkan visualisasi 2 dapat disimpulkan bahwa produk yang memiliki score review yang baik adalah bed_bath_table dan health_beauty\n",
        "- conclution pertanyaan 3\n",
        "Berdasarkan visualisasi 3 dapat disimpulkan bahwa 97% lebih produk terdeliver dengan baik\n",
        "- conclution pertanyaan 4\n",
        "Berdasarkan visualisasi 4 dapat disimpulkan bahwa kategori produk yang paling banyak terjual adalah bed_bath_table dan health_beauty\n",
        "- conclution pertanyaan 5\n",
        "Berdasarkan visualisasi 4 dapat disimpulkan bahwa dengan RFM analisis kita dapat mengelompokan customer berdasarkan kapan terakhir melakukan transaksi, berdasrkan seberapa sering customer melakukan transaksi dan berdasarkan revenue yang di hasilkan dari setiap customer\n",
        "\n"
      ]
    },
    {
      "cell_type": "code",
      "execution_count": null,
      "metadata": {
        "id": "b32P72p99VN9"
      },
      "outputs": [],
      "source": []
    }
  ],
  "metadata": {
    "colab": {
      "provenance": []
    },
    "kernelspec": {
      "display_name": "Python 3",
      "name": "python3"
    },
    "language_info": {
      "codemirror_mode": {
        "name": "ipython",
        "version": 3
      },
      "file_extension": ".py",
      "mimetype": "text/x-python",
      "name": "python",
      "nbconvert_exporter": "python",
      "pygments_lexer": "ipython3",
      "version": "3.10.0"
    }
  },
  "nbformat": 4,
  "nbformat_minor": 0
}
