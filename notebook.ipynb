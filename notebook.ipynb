{
  "cells": [
    {
      "cell_type": "markdown",
      "metadata": {
        "id": "cP5zh7Ww85Fm"
      },
      "source": [
        "# Proyek Analisis Data: Nama dataset\n",
        "- Nama: Muhamad Insan Rahmatuloh\n",
        "- Email: muhamad.insan.r@gmail.com\n",
        "- Id Dicoding:"
      ]
    },
    {
      "cell_type": "markdown",
      "metadata": {
        "id": "ggwOFmpI88dG"
      },
      "source": [
        "## Menentukan Pertanyaan Bisnis"
      ]
    },
    {
      "cell_type": "markdown",
      "metadata": {
        "id": "6irqmTtg8-IC"
      },
      "source": [
        "- dimana saja kota tempat tinggal customer dan kota mana yang paling banyak\n",
        "- dari wilayah tsb dimana order paling banyak\n",
        "- produk apa saja yang paling banyak diorder\n",
        "- apa saja produk dengan skor review yang baik\n",
        "- bagaimana presentase status order\n",
        "- produk yang paling mahal \n",
        "- bagaimana analisis RFMnya\n",
        "- bagaimana geoanalisis antara order, customer dan seller"
      ]
    },
    {
      "cell_type": "markdown",
      "metadata": {
        "id": "EueHsNk89AsY"
      },
      "source": [
        "## Menyaipkan semua library yang dibuthkan"
      ]
    },
    {
      "cell_type": "code",
      "execution_count": 1,
      "metadata": {
        "id": "4cmWv4qc8xWu"
      },
      "outputs": [],
      "source": [
        "import pandas as pd\n",
        "import geopandas as gpd\n",
        "import numpy as np\n",
        "import matplotlib.pyplot as plt\n",
        "import seaborn as sns\n",
        "import os"
      ]
    },
    {
      "cell_type": "markdown",
      "metadata": {
        "id": "7DwSpkkZ9BqV"
      },
      "source": [
        "## Data Wrangling"
      ]
    },
    {
      "cell_type": "markdown",
      "metadata": {
        "id": "ZuJuLGxe9D9O"
      },
      "source": [
        "### Gathering Data "
      ]
    },
    {
      "cell_type": "code",
      "execution_count": 2,
      "metadata": {
        "id": "Rg3wtvOr9DUm"
      },
      "outputs": [
        {
          "name": "stderr",
          "output_type": "stream",
          "text": [
            "d:\\insan\\Project-portfolio\\docoding\\latihan-wrangling\\env-dico\\lib\\site-packages\\pyproj\\crs\\crs.py:141: FutureWarning: '+init=<authority>:<code>' syntax is deprecated. '<authority>:<code>' is the preferred initialization method. When making the change, be mindful of axis order changes: https://pyproj4.github.io/pyproj/stable/gotchas.html#axis-order-changes-in-proj-6\n",
            "  in_crs_string = _prepare_from_proj_string(in_crs_string)\n"
          ]
        }
      ],
      "source": [
        "customers = pd.read_csv('data/E-Commerce Public Dataset/customers_dataset.csv')\n",
        "geolocation = gpd.read_file('data/E-Commerce Public Dataset/geolocation_dataset.csv')\n",
        "geo_location = gpd.GeoDataFrame(geolocation, geometry=gpd.points_from_xy(geolocation['geolocation_lng'], geolocation['geolocation_lat']))\n",
        "geo_location.crs = {'init':'epsg:4326'}\n",
        "order_items = pd.read_csv('data/E-Commerce Public Dataset/order_items_dataset.csv')\n",
        "order_payments = pd.read_csv('data/E-Commerce Public Dataset/order_payments_dataset.csv')\n",
        "order_reviews = pd.read_csv('data/E-Commerce Public Dataset/order_reviews_dataset.csv')\n",
        "orders = pd.read_csv('data/E-Commerce Public Dataset/orders_dataset.csv')\n",
        "product_cat_name = pd.read_csv('data/E-Commerce Public Dataset/product_category_name_translation.csv')\n",
        "products = pd.read_csv('data/E-Commerce Public Dataset/products_dataset.csv')\n",
        "sellers = pd.read_csv('data/E-Commerce Public Dataset/sellers_dataset.csv')\n"
      ]
    },
    {
      "cell_type": "markdown",
      "metadata": {
        "id": "BvZAfrSH9F2U"
      },
      "source": [
        "### Assessing Data"
      ]
    },
    {
      "cell_type": "markdown",
      "metadata": {},
      "source": [
        "#### Customers"
      ]
    },
    {
      "cell_type": "code",
      "execution_count": 3,
      "metadata": {
        "id": "fx7PaLsV9G8M"
      },
      "outputs": [
        {
          "data": {
            "text/html": [
              "<div>\n",
              "<style scoped>\n",
              "    .dataframe tbody tr th:only-of-type {\n",
              "        vertical-align: middle;\n",
              "    }\n",
              "\n",
              "    .dataframe tbody tr th {\n",
              "        vertical-align: top;\n",
              "    }\n",
              "\n",
              "    .dataframe thead th {\n",
              "        text-align: right;\n",
              "    }\n",
              "</style>\n",
              "<table border=\"1\" class=\"dataframe\">\n",
              "  <thead>\n",
              "    <tr style=\"text-align: right;\">\n",
              "      <th></th>\n",
              "      <th>customer_id</th>\n",
              "      <th>customer_unique_id</th>\n",
              "      <th>customer_zip_code_prefix</th>\n",
              "      <th>customer_city</th>\n",
              "      <th>customer_state</th>\n",
              "    </tr>\n",
              "  </thead>\n",
              "  <tbody>\n",
              "    <tr>\n",
              "      <th>11072</th>\n",
              "      <td>4a652b352b855e5e22de8d83490f14e7</td>\n",
              "      <td>17da2889e3f35318e13404eb3db8df4c</td>\n",
              "      <td>3470</td>\n",
              "      <td>sao paulo</td>\n",
              "      <td>SP</td>\n",
              "    </tr>\n",
              "    <tr>\n",
              "      <th>56168</th>\n",
              "      <td>428c9b0270df86e9cf60837fd129aa55</td>\n",
              "      <td>e57eb0d2ebc257996397e5ca8bec6572</td>\n",
              "      <td>83221</td>\n",
              "      <td>paranagua</td>\n",
              "      <td>PR</td>\n",
              "    </tr>\n",
              "    <tr>\n",
              "      <th>37372</th>\n",
              "      <td>97a0e2c05d5882609289a1816e234ba0</td>\n",
              "      <td>e983d6a5d6a92e29fcc48d7b42a6031e</td>\n",
              "      <td>13190</td>\n",
              "      <td>monte mor</td>\n",
              "      <td>SP</td>\n",
              "    </tr>\n",
              "    <tr>\n",
              "      <th>53297</th>\n",
              "      <td>c7041f9f3e88d79bf3c9f3bd1d9e6786</td>\n",
              "      <td>dfbf50eeb9fe8d91e69b973266cd8063</td>\n",
              "      <td>4937</td>\n",
              "      <td>sao paulo</td>\n",
              "      <td>SP</td>\n",
              "    </tr>\n",
              "    <tr>\n",
              "      <th>50926</th>\n",
              "      <td>92e9bc030ae552be2a2602a7a72e999b</td>\n",
              "      <td>883ce6de316525ee6c45bdc335c0494f</td>\n",
              "      <td>29101</td>\n",
              "      <td>vila velha</td>\n",
              "      <td>ES</td>\n",
              "    </tr>\n",
              "    <tr>\n",
              "      <th>99071</th>\n",
              "      <td>1612f32963e9825da1018976d1c9e8fc</td>\n",
              "      <td>0e2cdea5b5c9dc617ad5a66dea978812</td>\n",
              "      <td>40375</td>\n",
              "      <td>salvador</td>\n",
              "      <td>BA</td>\n",
              "    </tr>\n",
              "    <tr>\n",
              "      <th>85078</th>\n",
              "      <td>6231b6e4d05e6ab8e30b6fca4afff42b</td>\n",
              "      <td>bab25785bc0b036a7065bb1c5c5710de</td>\n",
              "      <td>71699</td>\n",
              "      <td>brasilia</td>\n",
              "      <td>DF</td>\n",
              "    </tr>\n",
              "    <tr>\n",
              "      <th>50291</th>\n",
              "      <td>18a0ae9ef526e6c02b8d1c384524e70e</td>\n",
              "      <td>f96fb3a4a96c2252110e0dd0240af56f</td>\n",
              "      <td>90245</td>\n",
              "      <td>porto alegre</td>\n",
              "      <td>RS</td>\n",
              "    </tr>\n",
              "    <tr>\n",
              "      <th>98860</th>\n",
              "      <td>75c12b4d4f984ae51c153fed33e1b4eb</td>\n",
              "      <td>966972c5fb82afe633c9e3d374cb9dbd</td>\n",
              "      <td>31720</td>\n",
              "      <td>belo horizonte</td>\n",
              "      <td>MG</td>\n",
              "    </tr>\n",
              "    <tr>\n",
              "      <th>50767</th>\n",
              "      <td>6a96055b35d60d2c4862552eaaa7dbb9</td>\n",
              "      <td>73d8f02720dd6554fd731b3db7973717</td>\n",
              "      <td>31160</td>\n",
              "      <td>belo horizonte</td>\n",
              "      <td>MG</td>\n",
              "    </tr>\n",
              "  </tbody>\n",
              "</table>\n",
              "</div>"
            ],
            "text/plain": [
              "                            customer_id                customer_unique_id  \\\n",
              "11072  4a652b352b855e5e22de8d83490f14e7  17da2889e3f35318e13404eb3db8df4c   \n",
              "56168  428c9b0270df86e9cf60837fd129aa55  e57eb0d2ebc257996397e5ca8bec6572   \n",
              "37372  97a0e2c05d5882609289a1816e234ba0  e983d6a5d6a92e29fcc48d7b42a6031e   \n",
              "53297  c7041f9f3e88d79bf3c9f3bd1d9e6786  dfbf50eeb9fe8d91e69b973266cd8063   \n",
              "50926  92e9bc030ae552be2a2602a7a72e999b  883ce6de316525ee6c45bdc335c0494f   \n",
              "99071  1612f32963e9825da1018976d1c9e8fc  0e2cdea5b5c9dc617ad5a66dea978812   \n",
              "85078  6231b6e4d05e6ab8e30b6fca4afff42b  bab25785bc0b036a7065bb1c5c5710de   \n",
              "50291  18a0ae9ef526e6c02b8d1c384524e70e  f96fb3a4a96c2252110e0dd0240af56f   \n",
              "98860  75c12b4d4f984ae51c153fed33e1b4eb  966972c5fb82afe633c9e3d374cb9dbd   \n",
              "50767  6a96055b35d60d2c4862552eaaa7dbb9  73d8f02720dd6554fd731b3db7973717   \n",
              "\n",
              "       customer_zip_code_prefix   customer_city customer_state  \n",
              "11072                      3470       sao paulo             SP  \n",
              "56168                     83221       paranagua             PR  \n",
              "37372                     13190       monte mor             SP  \n",
              "53297                      4937       sao paulo             SP  \n",
              "50926                     29101      vila velha             ES  \n",
              "99071                     40375        salvador             BA  \n",
              "85078                     71699        brasilia             DF  \n",
              "50291                     90245    porto alegre             RS  \n",
              "98860                     31720  belo horizonte             MG  \n",
              "50767                     31160  belo horizonte             MG  "
            ]
          },
          "execution_count": 3,
          "metadata": {},
          "output_type": "execute_result"
        }
      ],
      "source": [
        "customers.sample(10)"
      ]
    },
    {
      "cell_type": "code",
      "execution_count": 4,
      "metadata": {},
      "outputs": [
        {
          "data": {
            "text/plain": [
              "(99441, 5)"
            ]
          },
          "execution_count": 4,
          "metadata": {},
          "output_type": "execute_result"
        }
      ],
      "source": [
        "customers.shape"
      ]
    },
    {
      "cell_type": "code",
      "execution_count": 5,
      "metadata": {},
      "outputs": [
        {
          "name": "stdout",
          "output_type": "stream",
          "text": [
            "<class 'pandas.core.frame.DataFrame'>\n",
            "RangeIndex: 99441 entries, 0 to 99440\n",
            "Data columns (total 5 columns):\n",
            " #   Column                    Non-Null Count  Dtype \n",
            "---  ------                    --------------  ----- \n",
            " 0   customer_id               99441 non-null  object\n",
            " 1   customer_unique_id        99441 non-null  object\n",
            " 2   customer_zip_code_prefix  99441 non-null  int64 \n",
            " 3   customer_city             99441 non-null  object\n",
            " 4   customer_state            99441 non-null  object\n",
            "dtypes: int64(1), object(4)\n",
            "memory usage: 3.8+ MB\n"
          ]
        }
      ],
      "source": [
        "customers.info()"
      ]
    },
    {
      "cell_type": "markdown",
      "metadata": {},
      "source": [
        "#### Geolocation"
      ]
    },
    {
      "cell_type": "code",
      "execution_count": 6,
      "metadata": {},
      "outputs": [
        {
          "data": {
            "text/html": [
              "<div>\n",
              "<style scoped>\n",
              "    .dataframe tbody tr th:only-of-type {\n",
              "        vertical-align: middle;\n",
              "    }\n",
              "\n",
              "    .dataframe tbody tr th {\n",
              "        vertical-align: top;\n",
              "    }\n",
              "\n",
              "    .dataframe thead th {\n",
              "        text-align: right;\n",
              "    }\n",
              "</style>\n",
              "<table border=\"1\" class=\"dataframe\">\n",
              "  <thead>\n",
              "    <tr style=\"text-align: right;\">\n",
              "      <th></th>\n",
              "      <th>geolocation_zip_code_prefix</th>\n",
              "      <th>geolocation_lat</th>\n",
              "      <th>geolocation_lng</th>\n",
              "      <th>geolocation_city</th>\n",
              "      <th>geolocation_state</th>\n",
              "      <th>geometry</th>\n",
              "    </tr>\n",
              "  </thead>\n",
              "  <tbody>\n",
              "    <tr>\n",
              "      <th>37939</th>\n",
              "      <td>02865</td>\n",
              "      <td>-23.47676219401001</td>\n",
              "      <td>-46.67655711587511</td>\n",
              "      <td>sÃ£o paulo</td>\n",
              "      <td>SP</td>\n",
              "      <td>None</td>\n",
              "    </tr>\n",
              "    <tr>\n",
              "      <th>289525</th>\n",
              "      <td>13092</td>\n",
              "      <td>-22.892327093265806</td>\n",
              "      <td>-47.03560414524019</td>\n",
              "      <td>campinas</td>\n",
              "      <td>SP</td>\n",
              "      <td>None</td>\n",
              "    </tr>\n",
              "    <tr>\n",
              "      <th>573149</th>\n",
              "      <td>32210</td>\n",
              "      <td>-19.96305718649694</td>\n",
              "      <td>-44.0408842524263</td>\n",
              "      <td>contagem</td>\n",
              "      <td>MG</td>\n",
              "      <td>None</td>\n",
              "    </tr>\n",
              "    <tr>\n",
              "      <th>824636</th>\n",
              "      <td>78390</td>\n",
              "      <td>-15.069164244119936</td>\n",
              "      <td>-57.17361371772006</td>\n",
              "      <td>barra do bugres</td>\n",
              "      <td>MT</td>\n",
              "      <td>None</td>\n",
              "    </tr>\n",
              "    <tr>\n",
              "      <th>980411</th>\n",
              "      <td>96495</td>\n",
              "      <td>-31.45073006128839</td>\n",
              "      <td>-53.74481646169475</td>\n",
              "      <td>candiota</td>\n",
              "      <td>RS</td>\n",
              "      <td>None</td>\n",
              "    </tr>\n",
              "  </tbody>\n",
              "</table>\n",
              "</div>"
            ],
            "text/plain": [
              "       geolocation_zip_code_prefix      geolocation_lat     geolocation_lng  \\\n",
              "37939                        02865   -23.47676219401001  -46.67655711587511   \n",
              "289525                       13092  -22.892327093265806  -47.03560414524019   \n",
              "573149                       32210   -19.96305718649694   -44.0408842524263   \n",
              "824636                       78390  -15.069164244119936  -57.17361371772006   \n",
              "980411                       96495   -31.45073006128839  -53.74481646169475   \n",
              "\n",
              "       geolocation_city geolocation_state geometry  \n",
              "37939        sÃ£o paulo                SP     None  \n",
              "289525         campinas                SP     None  \n",
              "573149         contagem                MG     None  \n",
              "824636  barra do bugres                MT     None  \n",
              "980411         candiota                RS     None  "
            ]
          },
          "execution_count": 6,
          "metadata": {},
          "output_type": "execute_result"
        }
      ],
      "source": [
        "geolocation.sample(5)"
      ]
    },
    {
      "cell_type": "code",
      "execution_count": 7,
      "metadata": {},
      "outputs": [
        {
          "data": {
            "text/plain": [
              "(1000163, 6)"
            ]
          },
          "execution_count": 7,
          "metadata": {},
          "output_type": "execute_result"
        }
      ],
      "source": [
        "geolocation.shape"
      ]
    },
    {
      "cell_type": "code",
      "execution_count": 8,
      "metadata": {},
      "outputs": [
        {
          "name": "stdout",
          "output_type": "stream",
          "text": [
            "<class 'geopandas.geodataframe.GeoDataFrame'>\n",
            "RangeIndex: 1000163 entries, 0 to 1000162\n",
            "Data columns (total 6 columns):\n",
            " #   Column                       Non-Null Count    Dtype   \n",
            "---  ------                       --------------    -----   \n",
            " 0   geolocation_zip_code_prefix  1000163 non-null  object  \n",
            " 1   geolocation_lat              1000163 non-null  object  \n",
            " 2   geolocation_lng              1000163 non-null  object  \n",
            " 3   geolocation_city             1000163 non-null  object  \n",
            " 4   geolocation_state            1000163 non-null  object  \n",
            " 5   geometry                     0 non-null        geometry\n",
            "dtypes: geometry(1), object(5)\n",
            "memory usage: 45.8+ MB\n"
          ]
        }
      ],
      "source": [
        "geolocation.info()"
      ]
    },
    {
      "cell_type": "code",
      "execution_count": 9,
      "metadata": {},
      "outputs": [
        {
          "data": {
            "text/plain": [
              "geolocation_state\n",
              "SP    404268\n",
              "MG    126336\n",
              "RJ    121169\n",
              "RS     61851\n",
              "PR     57859\n",
              "SC     38328\n",
              "BA     36045\n",
              "GO     20139\n",
              "ES     16748\n",
              "PE     16432\n",
              "DF     12986\n",
              "MT     12031\n",
              "CE     11674\n",
              "PA     10853\n",
              "MS     10431\n",
              "MA      7853\n",
              "PB      5538\n",
              "RN      5041\n",
              "PI      4549\n",
              "AL      4183\n",
              "TO      3576\n",
              "SE      3563\n",
              "RO      3478\n",
              "AM      2432\n",
              "AC      1301\n",
              "AP       853\n",
              "RR       646\n",
              "Name: count, dtype: int64"
            ]
          },
          "execution_count": 9,
          "metadata": {},
          "output_type": "execute_result"
        }
      ],
      "source": [
        "geolocation.geolocation_state.value_counts()"
      ]
    },
    {
      "cell_type": "markdown",
      "metadata": {},
      "source": [
        "#### Order Items"
      ]
    },
    {
      "cell_type": "code",
      "execution_count": 10,
      "metadata": {},
      "outputs": [
        {
          "data": {
            "text/html": [
              "<div>\n",
              "<style scoped>\n",
              "    .dataframe tbody tr th:only-of-type {\n",
              "        vertical-align: middle;\n",
              "    }\n",
              "\n",
              "    .dataframe tbody tr th {\n",
              "        vertical-align: top;\n",
              "    }\n",
              "\n",
              "    .dataframe thead th {\n",
              "        text-align: right;\n",
              "    }\n",
              "</style>\n",
              "<table border=\"1\" class=\"dataframe\">\n",
              "  <thead>\n",
              "    <tr style=\"text-align: right;\">\n",
              "      <th></th>\n",
              "      <th>order_id</th>\n",
              "      <th>order_item_id</th>\n",
              "      <th>product_id</th>\n",
              "      <th>seller_id</th>\n",
              "      <th>shipping_limit_date</th>\n",
              "      <th>price</th>\n",
              "      <th>freight_value</th>\n",
              "    </tr>\n",
              "  </thead>\n",
              "  <tbody>\n",
              "    <tr>\n",
              "      <th>45721</th>\n",
              "      <td>67d413d255c5eb97d120a90d68e2c3d9</td>\n",
              "      <td>1</td>\n",
              "      <td>076e4ce53c8914382e7ff3732511b17e</td>\n",
              "      <td>59fb871bf6f4522a87ba567b42dafecf</td>\n",
              "      <td>2017-06-21 04:05:13</td>\n",
              "      <td>99.99</td>\n",
              "      <td>8.89</td>\n",
              "    </tr>\n",
              "    <tr>\n",
              "      <th>84705</th>\n",
              "      <td>c071755e071e5e8819f78265639b102e</td>\n",
              "      <td>1</td>\n",
              "      <td>5a848e4ab52fd5445cdc07aab1c40e48</td>\n",
              "      <td>c826c40d7b19f62a09e2d7c5e7295ee2</td>\n",
              "      <td>2018-01-22 20:57:20</td>\n",
              "      <td>122.99</td>\n",
              "      <td>15.61</td>\n",
              "    </tr>\n",
              "    <tr>\n",
              "      <th>96866</th>\n",
              "      <td>dbcb89699a4736bcef1373eb9d8ae5d1</td>\n",
              "      <td>1</td>\n",
              "      <td>cc5447118c174dcc6456c84ccb29e6f7</td>\n",
              "      <td>ef0ace09169ac090589d85746e3e036f</td>\n",
              "      <td>2018-08-07 23:30:11</td>\n",
              "      <td>117.40</td>\n",
              "      <td>18.92</td>\n",
              "    </tr>\n",
              "    <tr>\n",
              "      <th>87896</th>\n",
              "      <td>c78b306b7a03ebdabf44e1d351f83427</td>\n",
              "      <td>1</td>\n",
              "      <td>ace2ee0158ebad178e6616ad39507b8d</td>\n",
              "      <td>eed78ac17f7f795a19a709745f00cd4e</td>\n",
              "      <td>2018-01-23 12:30:03</td>\n",
              "      <td>59.90</td>\n",
              "      <td>12.76</td>\n",
              "    </tr>\n",
              "    <tr>\n",
              "      <th>8514</th>\n",
              "      <td>13707439a728b23bd3033dfab70b9840</td>\n",
              "      <td>1</td>\n",
              "      <td>e13f46cf68d356e0ac0f32058af20911</td>\n",
              "      <td>0ea22c1cfbdc755f86b9b54b39c16043</td>\n",
              "      <td>2018-02-06 02:55:30</td>\n",
              "      <td>24.90</td>\n",
              "      <td>21.15</td>\n",
              "    </tr>\n",
              "  </tbody>\n",
              "</table>\n",
              "</div>"
            ],
            "text/plain": [
              "                               order_id  order_item_id  \\\n",
              "45721  67d413d255c5eb97d120a90d68e2c3d9              1   \n",
              "84705  c071755e071e5e8819f78265639b102e              1   \n",
              "96866  dbcb89699a4736bcef1373eb9d8ae5d1              1   \n",
              "87896  c78b306b7a03ebdabf44e1d351f83427              1   \n",
              "8514   13707439a728b23bd3033dfab70b9840              1   \n",
              "\n",
              "                             product_id                         seller_id  \\\n",
              "45721  076e4ce53c8914382e7ff3732511b17e  59fb871bf6f4522a87ba567b42dafecf   \n",
              "84705  5a848e4ab52fd5445cdc07aab1c40e48  c826c40d7b19f62a09e2d7c5e7295ee2   \n",
              "96866  cc5447118c174dcc6456c84ccb29e6f7  ef0ace09169ac090589d85746e3e036f   \n",
              "87896  ace2ee0158ebad178e6616ad39507b8d  eed78ac17f7f795a19a709745f00cd4e   \n",
              "8514   e13f46cf68d356e0ac0f32058af20911  0ea22c1cfbdc755f86b9b54b39c16043   \n",
              "\n",
              "       shipping_limit_date   price  freight_value  \n",
              "45721  2017-06-21 04:05:13   99.99           8.89  \n",
              "84705  2018-01-22 20:57:20  122.99          15.61  \n",
              "96866  2018-08-07 23:30:11  117.40          18.92  \n",
              "87896  2018-01-23 12:30:03   59.90          12.76  \n",
              "8514   2018-02-06 02:55:30   24.90          21.15  "
            ]
          },
          "execution_count": 10,
          "metadata": {},
          "output_type": "execute_result"
        }
      ],
      "source": [
        "order_items.sample(5)"
      ]
    },
    {
      "cell_type": "code",
      "execution_count": 11,
      "metadata": {},
      "outputs": [
        {
          "data": {
            "text/plain": [
              "(112650, 7)"
            ]
          },
          "execution_count": 11,
          "metadata": {},
          "output_type": "execute_result"
        }
      ],
      "source": [
        "order_items.shape"
      ]
    },
    {
      "cell_type": "code",
      "execution_count": 12,
      "metadata": {},
      "outputs": [
        {
          "name": "stdout",
          "output_type": "stream",
          "text": [
            "<class 'pandas.core.frame.DataFrame'>\n",
            "RangeIndex: 112650 entries, 0 to 112649\n",
            "Data columns (total 7 columns):\n",
            " #   Column               Non-Null Count   Dtype  \n",
            "---  ------               --------------   -----  \n",
            " 0   order_id             112650 non-null  object \n",
            " 1   order_item_id        112650 non-null  int64  \n",
            " 2   product_id           112650 non-null  object \n",
            " 3   seller_id            112650 non-null  object \n",
            " 4   shipping_limit_date  112650 non-null  object \n",
            " 5   price                112650 non-null  float64\n",
            " 6   freight_value        112650 non-null  float64\n",
            "dtypes: float64(2), int64(1), object(4)\n",
            "memory usage: 6.0+ MB\n"
          ]
        }
      ],
      "source": [
        "order_items.info()"
      ]
    },
    {
      "cell_type": "code",
      "execution_count": 13,
      "metadata": {},
      "outputs": [
        {
          "data": {
            "text/html": [
              "<div>\n",
              "<style scoped>\n",
              "    .dataframe tbody tr th:only-of-type {\n",
              "        vertical-align: middle;\n",
              "    }\n",
              "\n",
              "    .dataframe tbody tr th {\n",
              "        vertical-align: top;\n",
              "    }\n",
              "\n",
              "    .dataframe thead th {\n",
              "        text-align: right;\n",
              "    }\n",
              "</style>\n",
              "<table border=\"1\" class=\"dataframe\">\n",
              "  <thead>\n",
              "    <tr style=\"text-align: right;\">\n",
              "      <th></th>\n",
              "      <th>order_item_id</th>\n",
              "      <th>price</th>\n",
              "      <th>freight_value</th>\n",
              "    </tr>\n",
              "  </thead>\n",
              "  <tbody>\n",
              "    <tr>\n",
              "      <th>count</th>\n",
              "      <td>112650.000000</td>\n",
              "      <td>112650.000000</td>\n",
              "      <td>112650.000000</td>\n",
              "    </tr>\n",
              "    <tr>\n",
              "      <th>mean</th>\n",
              "      <td>1.197834</td>\n",
              "      <td>120.653739</td>\n",
              "      <td>19.990320</td>\n",
              "    </tr>\n",
              "    <tr>\n",
              "      <th>std</th>\n",
              "      <td>0.705124</td>\n",
              "      <td>183.633928</td>\n",
              "      <td>15.806405</td>\n",
              "    </tr>\n",
              "    <tr>\n",
              "      <th>min</th>\n",
              "      <td>1.000000</td>\n",
              "      <td>0.850000</td>\n",
              "      <td>0.000000</td>\n",
              "    </tr>\n",
              "    <tr>\n",
              "      <th>25%</th>\n",
              "      <td>1.000000</td>\n",
              "      <td>39.900000</td>\n",
              "      <td>13.080000</td>\n",
              "    </tr>\n",
              "    <tr>\n",
              "      <th>50%</th>\n",
              "      <td>1.000000</td>\n",
              "      <td>74.990000</td>\n",
              "      <td>16.260000</td>\n",
              "    </tr>\n",
              "    <tr>\n",
              "      <th>75%</th>\n",
              "      <td>1.000000</td>\n",
              "      <td>134.900000</td>\n",
              "      <td>21.150000</td>\n",
              "    </tr>\n",
              "    <tr>\n",
              "      <th>max</th>\n",
              "      <td>21.000000</td>\n",
              "      <td>6735.000000</td>\n",
              "      <td>409.680000</td>\n",
              "    </tr>\n",
              "  </tbody>\n",
              "</table>\n",
              "</div>"
            ],
            "text/plain": [
              "       order_item_id          price  freight_value\n",
              "count  112650.000000  112650.000000  112650.000000\n",
              "mean        1.197834     120.653739      19.990320\n",
              "std         0.705124     183.633928      15.806405\n",
              "min         1.000000       0.850000       0.000000\n",
              "25%         1.000000      39.900000      13.080000\n",
              "50%         1.000000      74.990000      16.260000\n",
              "75%         1.000000     134.900000      21.150000\n",
              "max        21.000000    6735.000000     409.680000"
            ]
          },
          "execution_count": 13,
          "metadata": {},
          "output_type": "execute_result"
        }
      ],
      "source": [
        "order_items.describe()"
      ]
    },
    {
      "cell_type": "markdown",
      "metadata": {},
      "source": [
        "#### Order Payments"
      ]
    },
    {
      "cell_type": "code",
      "execution_count": 14,
      "metadata": {},
      "outputs": [
        {
          "data": {
            "text/html": [
              "<div>\n",
              "<style scoped>\n",
              "    .dataframe tbody tr th:only-of-type {\n",
              "        vertical-align: middle;\n",
              "    }\n",
              "\n",
              "    .dataframe tbody tr th {\n",
              "        vertical-align: top;\n",
              "    }\n",
              "\n",
              "    .dataframe thead th {\n",
              "        text-align: right;\n",
              "    }\n",
              "</style>\n",
              "<table border=\"1\" class=\"dataframe\">\n",
              "  <thead>\n",
              "    <tr style=\"text-align: right;\">\n",
              "      <th></th>\n",
              "      <th>order_id</th>\n",
              "      <th>payment_sequential</th>\n",
              "      <th>payment_type</th>\n",
              "      <th>payment_installments</th>\n",
              "      <th>payment_value</th>\n",
              "    </tr>\n",
              "  </thead>\n",
              "  <tbody>\n",
              "    <tr>\n",
              "      <th>81220</th>\n",
              "      <td>28603c1c1a61da3897ea97a1846b1d22</td>\n",
              "      <td>1</td>\n",
              "      <td>debit_card</td>\n",
              "      <td>1</td>\n",
              "      <td>60.60</td>\n",
              "    </tr>\n",
              "    <tr>\n",
              "      <th>77539</th>\n",
              "      <td>b3ada39a1e9a71ee3b5dc5d61b32f0ca</td>\n",
              "      <td>1</td>\n",
              "      <td>credit_card</td>\n",
              "      <td>2</td>\n",
              "      <td>195.92</td>\n",
              "    </tr>\n",
              "    <tr>\n",
              "      <th>97844</th>\n",
              "      <td>20e7a21a233fcb32bbbb2d3613b03426</td>\n",
              "      <td>1</td>\n",
              "      <td>credit_card</td>\n",
              "      <td>7</td>\n",
              "      <td>176.99</td>\n",
              "    </tr>\n",
              "    <tr>\n",
              "      <th>101428</th>\n",
              "      <td>8ccf9f0aa61387140e1e58cff856f9e3</td>\n",
              "      <td>1</td>\n",
              "      <td>credit_card</td>\n",
              "      <td>2</td>\n",
              "      <td>270.85</td>\n",
              "    </tr>\n",
              "    <tr>\n",
              "      <th>5055</th>\n",
              "      <td>4d018030375b4b3ff3510d0c869c7b9e</td>\n",
              "      <td>1</td>\n",
              "      <td>credit_card</td>\n",
              "      <td>1</td>\n",
              "      <td>86.85</td>\n",
              "    </tr>\n",
              "  </tbody>\n",
              "</table>\n",
              "</div>"
            ],
            "text/plain": [
              "                                order_id  payment_sequential payment_type  \\\n",
              "81220   28603c1c1a61da3897ea97a1846b1d22                   1   debit_card   \n",
              "77539   b3ada39a1e9a71ee3b5dc5d61b32f0ca                   1  credit_card   \n",
              "97844   20e7a21a233fcb32bbbb2d3613b03426                   1  credit_card   \n",
              "101428  8ccf9f0aa61387140e1e58cff856f9e3                   1  credit_card   \n",
              "5055    4d018030375b4b3ff3510d0c869c7b9e                   1  credit_card   \n",
              "\n",
              "        payment_installments  payment_value  \n",
              "81220                      1          60.60  \n",
              "77539                      2         195.92  \n",
              "97844                      7         176.99  \n",
              "101428                     2         270.85  \n",
              "5055                       1          86.85  "
            ]
          },
          "execution_count": 14,
          "metadata": {},
          "output_type": "execute_result"
        }
      ],
      "source": [
        "order_payments.sample(5)"
      ]
    },
    {
      "cell_type": "code",
      "execution_count": 15,
      "metadata": {},
      "outputs": [
        {
          "data": {
            "text/plain": [
              "(103886, 5)"
            ]
          },
          "execution_count": 15,
          "metadata": {},
          "output_type": "execute_result"
        }
      ],
      "source": [
        "order_payments.shape"
      ]
    },
    {
      "cell_type": "code",
      "execution_count": 16,
      "metadata": {},
      "outputs": [
        {
          "name": "stdout",
          "output_type": "stream",
          "text": [
            "<class 'pandas.core.frame.DataFrame'>\n",
            "RangeIndex: 103886 entries, 0 to 103885\n",
            "Data columns (total 5 columns):\n",
            " #   Column                Non-Null Count   Dtype  \n",
            "---  ------                --------------   -----  \n",
            " 0   order_id              103886 non-null  object \n",
            " 1   payment_sequential    103886 non-null  int64  \n",
            " 2   payment_type          103886 non-null  object \n",
            " 3   payment_installments  103886 non-null  int64  \n",
            " 4   payment_value         103886 non-null  float64\n",
            "dtypes: float64(1), int64(2), object(2)\n",
            "memory usage: 4.0+ MB\n"
          ]
        }
      ],
      "source": [
        "order_payments.info()"
      ]
    },
    {
      "cell_type": "code",
      "execution_count": 17,
      "metadata": {},
      "outputs": [
        {
          "data": {
            "text/html": [
              "<div>\n",
              "<style scoped>\n",
              "    .dataframe tbody tr th:only-of-type {\n",
              "        vertical-align: middle;\n",
              "    }\n",
              "\n",
              "    .dataframe tbody tr th {\n",
              "        vertical-align: top;\n",
              "    }\n",
              "\n",
              "    .dataframe thead th {\n",
              "        text-align: right;\n",
              "    }\n",
              "</style>\n",
              "<table border=\"1\" class=\"dataframe\">\n",
              "  <thead>\n",
              "    <tr style=\"text-align: right;\">\n",
              "      <th></th>\n",
              "      <th>payment_sequential</th>\n",
              "      <th>payment_installments</th>\n",
              "      <th>payment_value</th>\n",
              "    </tr>\n",
              "  </thead>\n",
              "  <tbody>\n",
              "    <tr>\n",
              "      <th>count</th>\n",
              "      <td>103886.000000</td>\n",
              "      <td>103886.000000</td>\n",
              "      <td>103886.000000</td>\n",
              "    </tr>\n",
              "    <tr>\n",
              "      <th>mean</th>\n",
              "      <td>1.092679</td>\n",
              "      <td>2.853349</td>\n",
              "      <td>154.100380</td>\n",
              "    </tr>\n",
              "    <tr>\n",
              "      <th>std</th>\n",
              "      <td>0.706584</td>\n",
              "      <td>2.687051</td>\n",
              "      <td>217.494064</td>\n",
              "    </tr>\n",
              "    <tr>\n",
              "      <th>min</th>\n",
              "      <td>1.000000</td>\n",
              "      <td>0.000000</td>\n",
              "      <td>0.000000</td>\n",
              "    </tr>\n",
              "    <tr>\n",
              "      <th>25%</th>\n",
              "      <td>1.000000</td>\n",
              "      <td>1.000000</td>\n",
              "      <td>56.790000</td>\n",
              "    </tr>\n",
              "    <tr>\n",
              "      <th>50%</th>\n",
              "      <td>1.000000</td>\n",
              "      <td>1.000000</td>\n",
              "      <td>100.000000</td>\n",
              "    </tr>\n",
              "    <tr>\n",
              "      <th>75%</th>\n",
              "      <td>1.000000</td>\n",
              "      <td>4.000000</td>\n",
              "      <td>171.837500</td>\n",
              "    </tr>\n",
              "    <tr>\n",
              "      <th>max</th>\n",
              "      <td>29.000000</td>\n",
              "      <td>24.000000</td>\n",
              "      <td>13664.080000</td>\n",
              "    </tr>\n",
              "  </tbody>\n",
              "</table>\n",
              "</div>"
            ],
            "text/plain": [
              "       payment_sequential  payment_installments  payment_value\n",
              "count       103886.000000         103886.000000  103886.000000\n",
              "mean             1.092679              2.853349     154.100380\n",
              "std              0.706584              2.687051     217.494064\n",
              "min              1.000000              0.000000       0.000000\n",
              "25%              1.000000              1.000000      56.790000\n",
              "50%              1.000000              1.000000     100.000000\n",
              "75%              1.000000              4.000000     171.837500\n",
              "max             29.000000             24.000000   13664.080000"
            ]
          },
          "execution_count": 17,
          "metadata": {},
          "output_type": "execute_result"
        }
      ],
      "source": [
        "order_payments.describe()"
      ]
    },
    {
      "cell_type": "markdown",
      "metadata": {},
      "source": [
        "#### Orders Reviews"
      ]
    },
    {
      "cell_type": "code",
      "execution_count": 18,
      "metadata": {},
      "outputs": [
        {
          "data": {
            "text/html": [
              "<div>\n",
              "<style scoped>\n",
              "    .dataframe tbody tr th:only-of-type {\n",
              "        vertical-align: middle;\n",
              "    }\n",
              "\n",
              "    .dataframe tbody tr th {\n",
              "        vertical-align: top;\n",
              "    }\n",
              "\n",
              "    .dataframe thead th {\n",
              "        text-align: right;\n",
              "    }\n",
              "</style>\n",
              "<table border=\"1\" class=\"dataframe\">\n",
              "  <thead>\n",
              "    <tr style=\"text-align: right;\">\n",
              "      <th></th>\n",
              "      <th>review_id</th>\n",
              "      <th>order_id</th>\n",
              "      <th>review_score</th>\n",
              "      <th>review_comment_title</th>\n",
              "      <th>review_comment_message</th>\n",
              "      <th>review_creation_date</th>\n",
              "      <th>review_answer_timestamp</th>\n",
              "    </tr>\n",
              "  </thead>\n",
              "  <tbody>\n",
              "    <tr>\n",
              "      <th>79648</th>\n",
              "      <td>3e98d8e2fdf450bfbe94b7a08b8fde44</td>\n",
              "      <td>d8e4f17201e35b0341b90bf7b8be215c</td>\n",
              "      <td>3</td>\n",
              "      <td>NaN</td>\n",
              "      <td>NaN</td>\n",
              "      <td>2018-08-31 00:00:00</td>\n",
              "      <td>2018-09-03 12:30:17</td>\n",
              "    </tr>\n",
              "    <tr>\n",
              "      <th>74546</th>\n",
              "      <td>86c310ae4f7d8fea55914c81a4b02113</td>\n",
              "      <td>1cbf88b2aa2bdeff779e6afe29620c25</td>\n",
              "      <td>5</td>\n",
              "      <td>NaN</td>\n",
              "      <td>Muito bom</td>\n",
              "      <td>2018-02-27 00:00:00</td>\n",
              "      <td>2018-03-05 13:01:23</td>\n",
              "    </tr>\n",
              "    <tr>\n",
              "      <th>91908</th>\n",
              "      <td>171ab9025f2887a6650df6e1c0bd26b0</td>\n",
              "      <td>52fe284b8a7ca9585835524dbd80515b</td>\n",
              "      <td>5</td>\n",
              "      <td>NaN</td>\n",
              "      <td>NaN</td>\n",
              "      <td>2017-03-24 00:00:00</td>\n",
              "      <td>2017-03-25 17:40:44</td>\n",
              "    </tr>\n",
              "    <tr>\n",
              "      <th>6749</th>\n",
              "      <td>a38d355f8ea88f70ab7136b41afb04b5</td>\n",
              "      <td>666eb76141bb728bad22631162332455</td>\n",
              "      <td>5</td>\n",
              "      <td>NaN</td>\n",
              "      <td>NaN</td>\n",
              "      <td>2017-08-18 00:00:00</td>\n",
              "      <td>2017-08-19 19:01:17</td>\n",
              "    </tr>\n",
              "    <tr>\n",
              "      <th>41223</th>\n",
              "      <td>06eb17fd3e1c11929f0fdf971880193a</td>\n",
              "      <td>b9e60cfd587e2b40cf959a04023247a8</td>\n",
              "      <td>5</td>\n",
              "      <td>NaN</td>\n",
              "      <td>NaN</td>\n",
              "      <td>2018-02-10 00:00:00</td>\n",
              "      <td>2018-02-12 21:52:55</td>\n",
              "    </tr>\n",
              "  </tbody>\n",
              "</table>\n",
              "</div>"
            ],
            "text/plain": [
              "                              review_id                          order_id  \\\n",
              "79648  3e98d8e2fdf450bfbe94b7a08b8fde44  d8e4f17201e35b0341b90bf7b8be215c   \n",
              "74546  86c310ae4f7d8fea55914c81a4b02113  1cbf88b2aa2bdeff779e6afe29620c25   \n",
              "91908  171ab9025f2887a6650df6e1c0bd26b0  52fe284b8a7ca9585835524dbd80515b   \n",
              "6749   a38d355f8ea88f70ab7136b41afb04b5  666eb76141bb728bad22631162332455   \n",
              "41223  06eb17fd3e1c11929f0fdf971880193a  b9e60cfd587e2b40cf959a04023247a8   \n",
              "\n",
              "       review_score review_comment_title review_comment_message  \\\n",
              "79648             3                  NaN                    NaN   \n",
              "74546             5                  NaN              Muito bom   \n",
              "91908             5                  NaN                    NaN   \n",
              "6749              5                  NaN                    NaN   \n",
              "41223             5                  NaN                    NaN   \n",
              "\n",
              "      review_creation_date review_answer_timestamp  \n",
              "79648  2018-08-31 00:00:00     2018-09-03 12:30:17  \n",
              "74546  2018-02-27 00:00:00     2018-03-05 13:01:23  \n",
              "91908  2017-03-24 00:00:00     2017-03-25 17:40:44  \n",
              "6749   2017-08-18 00:00:00     2017-08-19 19:01:17  \n",
              "41223  2018-02-10 00:00:00     2018-02-12 21:52:55  "
            ]
          },
          "execution_count": 18,
          "metadata": {},
          "output_type": "execute_result"
        }
      ],
      "source": [
        "order_reviews.sample(5)"
      ]
    },
    {
      "cell_type": "code",
      "execution_count": 19,
      "metadata": {},
      "outputs": [
        {
          "data": {
            "text/plain": [
              "(99224, 7)"
            ]
          },
          "execution_count": 19,
          "metadata": {},
          "output_type": "execute_result"
        }
      ],
      "source": [
        "order_reviews.shape"
      ]
    },
    {
      "cell_type": "code",
      "execution_count": 20,
      "metadata": {},
      "outputs": [
        {
          "name": "stdout",
          "output_type": "stream",
          "text": [
            "<class 'pandas.core.frame.DataFrame'>\n",
            "RangeIndex: 99224 entries, 0 to 99223\n",
            "Data columns (total 7 columns):\n",
            " #   Column                   Non-Null Count  Dtype \n",
            "---  ------                   --------------  ----- \n",
            " 0   review_id                99224 non-null  object\n",
            " 1   order_id                 99224 non-null  object\n",
            " 2   review_score             99224 non-null  int64 \n",
            " 3   review_comment_title     11568 non-null  object\n",
            " 4   review_comment_message   40977 non-null  object\n",
            " 5   review_creation_date     99224 non-null  object\n",
            " 6   review_answer_timestamp  99224 non-null  object\n",
            "dtypes: int64(1), object(6)\n",
            "memory usage: 5.3+ MB\n"
          ]
        }
      ],
      "source": [
        "order_reviews.info()"
      ]
    },
    {
      "cell_type": "code",
      "execution_count": 21,
      "metadata": {},
      "outputs": [
        {
          "data": {
            "text/html": [
              "<div>\n",
              "<style scoped>\n",
              "    .dataframe tbody tr th:only-of-type {\n",
              "        vertical-align: middle;\n",
              "    }\n",
              "\n",
              "    .dataframe tbody tr th {\n",
              "        vertical-align: top;\n",
              "    }\n",
              "\n",
              "    .dataframe thead th {\n",
              "        text-align: right;\n",
              "    }\n",
              "</style>\n",
              "<table border=\"1\" class=\"dataframe\">\n",
              "  <thead>\n",
              "    <tr style=\"text-align: right;\">\n",
              "      <th></th>\n",
              "      <th>review_score</th>\n",
              "    </tr>\n",
              "  </thead>\n",
              "  <tbody>\n",
              "    <tr>\n",
              "      <th>count</th>\n",
              "      <td>99224.000000</td>\n",
              "    </tr>\n",
              "    <tr>\n",
              "      <th>mean</th>\n",
              "      <td>4.086421</td>\n",
              "    </tr>\n",
              "    <tr>\n",
              "      <th>std</th>\n",
              "      <td>1.347579</td>\n",
              "    </tr>\n",
              "    <tr>\n",
              "      <th>min</th>\n",
              "      <td>1.000000</td>\n",
              "    </tr>\n",
              "    <tr>\n",
              "      <th>25%</th>\n",
              "      <td>4.000000</td>\n",
              "    </tr>\n",
              "    <tr>\n",
              "      <th>50%</th>\n",
              "      <td>5.000000</td>\n",
              "    </tr>\n",
              "    <tr>\n",
              "      <th>75%</th>\n",
              "      <td>5.000000</td>\n",
              "    </tr>\n",
              "    <tr>\n",
              "      <th>max</th>\n",
              "      <td>5.000000</td>\n",
              "    </tr>\n",
              "  </tbody>\n",
              "</table>\n",
              "</div>"
            ],
            "text/plain": [
              "       review_score\n",
              "count  99224.000000\n",
              "mean       4.086421\n",
              "std        1.347579\n",
              "min        1.000000\n",
              "25%        4.000000\n",
              "50%        5.000000\n",
              "75%        5.000000\n",
              "max        5.000000"
            ]
          },
          "execution_count": 21,
          "metadata": {},
          "output_type": "execute_result"
        }
      ],
      "source": [
        "order_reviews.describe()"
      ]
    },
    {
      "cell_type": "markdown",
      "metadata": {},
      "source": [
        "#### Orders"
      ]
    },
    {
      "cell_type": "code",
      "execution_count": 22,
      "metadata": {},
      "outputs": [
        {
          "data": {
            "text/html": [
              "<div>\n",
              "<style scoped>\n",
              "    .dataframe tbody tr th:only-of-type {\n",
              "        vertical-align: middle;\n",
              "    }\n",
              "\n",
              "    .dataframe tbody tr th {\n",
              "        vertical-align: top;\n",
              "    }\n",
              "\n",
              "    .dataframe thead th {\n",
              "        text-align: right;\n",
              "    }\n",
              "</style>\n",
              "<table border=\"1\" class=\"dataframe\">\n",
              "  <thead>\n",
              "    <tr style=\"text-align: right;\">\n",
              "      <th></th>\n",
              "      <th>order_id</th>\n",
              "      <th>customer_id</th>\n",
              "      <th>order_status</th>\n",
              "      <th>order_purchase_timestamp</th>\n",
              "      <th>order_approved_at</th>\n",
              "      <th>order_delivered_carrier_date</th>\n",
              "      <th>order_delivered_customer_date</th>\n",
              "      <th>order_estimated_delivery_date</th>\n",
              "    </tr>\n",
              "  </thead>\n",
              "  <tbody>\n",
              "    <tr>\n",
              "      <th>28050</th>\n",
              "      <td>49c95c693647934576c041ce758a0310</td>\n",
              "      <td>34e9ab7101f384c10e91e5af8111bb3d</td>\n",
              "      <td>delivered</td>\n",
              "      <td>2017-08-17 16:09:34</td>\n",
              "      <td>2017-08-17 16:45:14</td>\n",
              "      <td>2017-08-18 15:25:45</td>\n",
              "      <td>2017-08-28 19:36:36</td>\n",
              "      <td>2017-09-06 00:00:00</td>\n",
              "    </tr>\n",
              "    <tr>\n",
              "      <th>36642</th>\n",
              "      <td>e1320973675a5fc37fab54cb22c582ab</td>\n",
              "      <td>b37ea7f1b8461e3bd4e534a81f126f5a</td>\n",
              "      <td>delivered</td>\n",
              "      <td>2018-07-16 16:56:04</td>\n",
              "      <td>2018-07-16 17:10:12</td>\n",
              "      <td>2018-08-01 12:00:00</td>\n",
              "      <td>2018-08-17 11:54:59</td>\n",
              "      <td>2018-08-07 00:00:00</td>\n",
              "    </tr>\n",
              "    <tr>\n",
              "      <th>69361</th>\n",
              "      <td>6f55fe858c5557f14d4b6ee5255d793b</td>\n",
              "      <td>55a736fdef3f978c92f0477297b92973</td>\n",
              "      <td>delivered</td>\n",
              "      <td>2017-04-12 20:56:03</td>\n",
              "      <td>2017-04-12 21:10:12</td>\n",
              "      <td>2017-04-24 10:35:41</td>\n",
              "      <td>2017-04-28 14:33:31</td>\n",
              "      <td>2017-05-08 00:00:00</td>\n",
              "    </tr>\n",
              "    <tr>\n",
              "      <th>86882</th>\n",
              "      <td>d0b446af99e79a960dd8c63777fc65df</td>\n",
              "      <td>9e63980f2ac755983af98be7a236a234</td>\n",
              "      <td>delivered</td>\n",
              "      <td>2017-10-21 20:21:29</td>\n",
              "      <td>2017-10-21 20:35:20</td>\n",
              "      <td>2017-10-24 21:04:18</td>\n",
              "      <td>2017-11-04 13:33:35</td>\n",
              "      <td>2017-11-03 00:00:00</td>\n",
              "    </tr>\n",
              "    <tr>\n",
              "      <th>55346</th>\n",
              "      <td>b22d306e18b3b665d49f2ce7d060742e</td>\n",
              "      <td>2abf58739c3d54ee365a1e45045d593e</td>\n",
              "      <td>delivered</td>\n",
              "      <td>2017-03-22 17:33:15</td>\n",
              "      <td>2017-03-22 17:33:15</td>\n",
              "      <td>2017-03-27 12:07:47</td>\n",
              "      <td>2017-03-31 12:27:17</td>\n",
              "      <td>2017-04-19 00:00:00</td>\n",
              "    </tr>\n",
              "  </tbody>\n",
              "</table>\n",
              "</div>"
            ],
            "text/plain": [
              "                               order_id                       customer_id  \\\n",
              "28050  49c95c693647934576c041ce758a0310  34e9ab7101f384c10e91e5af8111bb3d   \n",
              "36642  e1320973675a5fc37fab54cb22c582ab  b37ea7f1b8461e3bd4e534a81f126f5a   \n",
              "69361  6f55fe858c5557f14d4b6ee5255d793b  55a736fdef3f978c92f0477297b92973   \n",
              "86882  d0b446af99e79a960dd8c63777fc65df  9e63980f2ac755983af98be7a236a234   \n",
              "55346  b22d306e18b3b665d49f2ce7d060742e  2abf58739c3d54ee365a1e45045d593e   \n",
              "\n",
              "      order_status order_purchase_timestamp    order_approved_at  \\\n",
              "28050    delivered      2017-08-17 16:09:34  2017-08-17 16:45:14   \n",
              "36642    delivered      2018-07-16 16:56:04  2018-07-16 17:10:12   \n",
              "69361    delivered      2017-04-12 20:56:03  2017-04-12 21:10:12   \n",
              "86882    delivered      2017-10-21 20:21:29  2017-10-21 20:35:20   \n",
              "55346    delivered      2017-03-22 17:33:15  2017-03-22 17:33:15   \n",
              "\n",
              "      order_delivered_carrier_date order_delivered_customer_date  \\\n",
              "28050          2017-08-18 15:25:45           2017-08-28 19:36:36   \n",
              "36642          2018-08-01 12:00:00           2018-08-17 11:54:59   \n",
              "69361          2017-04-24 10:35:41           2017-04-28 14:33:31   \n",
              "86882          2017-10-24 21:04:18           2017-11-04 13:33:35   \n",
              "55346          2017-03-27 12:07:47           2017-03-31 12:27:17   \n",
              "\n",
              "      order_estimated_delivery_date  \n",
              "28050           2017-09-06 00:00:00  \n",
              "36642           2018-08-07 00:00:00  \n",
              "69361           2017-05-08 00:00:00  \n",
              "86882           2017-11-03 00:00:00  \n",
              "55346           2017-04-19 00:00:00  "
            ]
          },
          "execution_count": 22,
          "metadata": {},
          "output_type": "execute_result"
        }
      ],
      "source": [
        "orders.sample(5)"
      ]
    },
    {
      "cell_type": "code",
      "execution_count": 23,
      "metadata": {},
      "outputs": [
        {
          "data": {
            "text/plain": [
              "(99441, 8)"
            ]
          },
          "execution_count": 23,
          "metadata": {},
          "output_type": "execute_result"
        }
      ],
      "source": [
        "orders.shape"
      ]
    },
    {
      "cell_type": "code",
      "execution_count": 24,
      "metadata": {},
      "outputs": [
        {
          "name": "stdout",
          "output_type": "stream",
          "text": [
            "<class 'pandas.core.frame.DataFrame'>\n",
            "RangeIndex: 99441 entries, 0 to 99440\n",
            "Data columns (total 8 columns):\n",
            " #   Column                         Non-Null Count  Dtype \n",
            "---  ------                         --------------  ----- \n",
            " 0   order_id                       99441 non-null  object\n",
            " 1   customer_id                    99441 non-null  object\n",
            " 2   order_status                   99441 non-null  object\n",
            " 3   order_purchase_timestamp       99441 non-null  object\n",
            " 4   order_approved_at              99281 non-null  object\n",
            " 5   order_delivered_carrier_date   97658 non-null  object\n",
            " 6   order_delivered_customer_date  96476 non-null  object\n",
            " 7   order_estimated_delivery_date  99441 non-null  object\n",
            "dtypes: object(8)\n",
            "memory usage: 6.1+ MB\n"
          ]
        }
      ],
      "source": [
        "orders.info()"
      ]
    },
    {
      "cell_type": "code",
      "execution_count": 25,
      "metadata": {},
      "outputs": [
        {
          "data": {
            "text/plain": [
              "order_id                            0\n",
              "customer_id                         0\n",
              "order_status                        0\n",
              "order_purchase_timestamp            0\n",
              "order_approved_at                 160\n",
              "order_delivered_carrier_date     1783\n",
              "order_delivered_customer_date    2965\n",
              "order_estimated_delivery_date       0\n",
              "dtype: int64"
            ]
          },
          "execution_count": 25,
          "metadata": {},
          "output_type": "execute_result"
        }
      ],
      "source": [
        "orders.isnull().sum()"
      ]
    },
    {
      "cell_type": "markdown",
      "metadata": {},
      "source": [
        "#### Product Category Name Translation"
      ]
    },
    {
      "cell_type": "code",
      "execution_count": 26,
      "metadata": {},
      "outputs": [
        {
          "data": {
            "text/html": [
              "<div>\n",
              "<style scoped>\n",
              "    .dataframe tbody tr th:only-of-type {\n",
              "        vertical-align: middle;\n",
              "    }\n",
              "\n",
              "    .dataframe tbody tr th {\n",
              "        vertical-align: top;\n",
              "    }\n",
              "\n",
              "    .dataframe thead th {\n",
              "        text-align: right;\n",
              "    }\n",
              "</style>\n",
              "<table border=\"1\" class=\"dataframe\">\n",
              "  <thead>\n",
              "    <tr style=\"text-align: right;\">\n",
              "      <th></th>\n",
              "      <th>product_category_name</th>\n",
              "      <th>product_category_name_english</th>\n",
              "    </tr>\n",
              "  </thead>\n",
              "  <tbody>\n",
              "    <tr>\n",
              "      <th>40</th>\n",
              "      <td>casa_construcao</td>\n",
              "      <td>home_construction</td>\n",
              "    </tr>\n",
              "    <tr>\n",
              "      <th>29</th>\n",
              "      <td>pet_shop</td>\n",
              "      <td>pet_shop</td>\n",
              "    </tr>\n",
              "    <tr>\n",
              "      <th>6</th>\n",
              "      <td>perfumaria</td>\n",
              "      <td>perfumery</td>\n",
              "    </tr>\n",
              "    <tr>\n",
              "      <th>1</th>\n",
              "      <td>informatica_acessorios</td>\n",
              "      <td>computers_accessories</td>\n",
              "    </tr>\n",
              "    <tr>\n",
              "      <th>28</th>\n",
              "      <td>fashion_roupa_masculina</td>\n",
              "      <td>fashion_male_clothing</td>\n",
              "    </tr>\n",
              "  </tbody>\n",
              "</table>\n",
              "</div>"
            ],
            "text/plain": [
              "      product_category_name product_category_name_english\n",
              "40          casa_construcao             home_construction\n",
              "29                 pet_shop                      pet_shop\n",
              "6                perfumaria                     perfumery\n",
              "1    informatica_acessorios         computers_accessories\n",
              "28  fashion_roupa_masculina         fashion_male_clothing"
            ]
          },
          "execution_count": 26,
          "metadata": {},
          "output_type": "execute_result"
        }
      ],
      "source": [
        "product_cat_name.sample(5)"
      ]
    },
    {
      "cell_type": "code",
      "execution_count": 27,
      "metadata": {},
      "outputs": [
        {
          "data": {
            "text/plain": [
              "(71, 2)"
            ]
          },
          "execution_count": 27,
          "metadata": {},
          "output_type": "execute_result"
        }
      ],
      "source": [
        "product_cat_name.shape"
      ]
    },
    {
      "cell_type": "code",
      "execution_count": 28,
      "metadata": {},
      "outputs": [
        {
          "name": "stdout",
          "output_type": "stream",
          "text": [
            "<class 'pandas.core.frame.DataFrame'>\n",
            "RangeIndex: 71 entries, 0 to 70\n",
            "Data columns (total 2 columns):\n",
            " #   Column                         Non-Null Count  Dtype \n",
            "---  ------                         --------------  ----- \n",
            " 0   product_category_name          71 non-null     object\n",
            " 1   product_category_name_english  71 non-null     object\n",
            "dtypes: object(2)\n",
            "memory usage: 1.2+ KB\n"
          ]
        }
      ],
      "source": [
        "product_cat_name.info()"
      ]
    },
    {
      "cell_type": "markdown",
      "metadata": {},
      "source": [
        "#### Products"
      ]
    },
    {
      "cell_type": "code",
      "execution_count": 29,
      "metadata": {},
      "outputs": [
        {
          "data": {
            "text/html": [
              "<div>\n",
              "<style scoped>\n",
              "    .dataframe tbody tr th:only-of-type {\n",
              "        vertical-align: middle;\n",
              "    }\n",
              "\n",
              "    .dataframe tbody tr th {\n",
              "        vertical-align: top;\n",
              "    }\n",
              "\n",
              "    .dataframe thead th {\n",
              "        text-align: right;\n",
              "    }\n",
              "</style>\n",
              "<table border=\"1\" class=\"dataframe\">\n",
              "  <thead>\n",
              "    <tr style=\"text-align: right;\">\n",
              "      <th></th>\n",
              "      <th>product_id</th>\n",
              "      <th>product_category_name</th>\n",
              "      <th>product_name_lenght</th>\n",
              "      <th>product_description_lenght</th>\n",
              "      <th>product_photos_qty</th>\n",
              "      <th>product_weight_g</th>\n",
              "      <th>product_length_cm</th>\n",
              "      <th>product_height_cm</th>\n",
              "      <th>product_width_cm</th>\n",
              "    </tr>\n",
              "  </thead>\n",
              "  <tbody>\n",
              "    <tr>\n",
              "      <th>14230</th>\n",
              "      <td>779de9dd06ff30d5097a959a1e9dacdc</td>\n",
              "      <td>automotivo</td>\n",
              "      <td>59.0</td>\n",
              "      <td>1031.0</td>\n",
              "      <td>2.0</td>\n",
              "      <td>2250.0</td>\n",
              "      <td>61.0</td>\n",
              "      <td>22.0</td>\n",
              "      <td>22.0</td>\n",
              "    </tr>\n",
              "    <tr>\n",
              "      <th>3205</th>\n",
              "      <td>05216a143a65ab59fc48fb996e7c12d7</td>\n",
              "      <td>fashion_bolsas_e_acessorios</td>\n",
              "      <td>53.0</td>\n",
              "      <td>353.0</td>\n",
              "      <td>1.0</td>\n",
              "      <td>200.0</td>\n",
              "      <td>16.0</td>\n",
              "      <td>2.0</td>\n",
              "      <td>11.0</td>\n",
              "    </tr>\n",
              "    <tr>\n",
              "      <th>12238</th>\n",
              "      <td>488445f08d5b536d6aaa8dfe5c06a3db</td>\n",
              "      <td>beleza_saude</td>\n",
              "      <td>53.0</td>\n",
              "      <td>821.0</td>\n",
              "      <td>1.0</td>\n",
              "      <td>3500.0</td>\n",
              "      <td>35.0</td>\n",
              "      <td>15.0</td>\n",
              "      <td>15.0</td>\n",
              "    </tr>\n",
              "    <tr>\n",
              "      <th>11434</th>\n",
              "      <td>708281087dc97b0e50baa8891e741d8f</td>\n",
              "      <td>utilidades_domesticas</td>\n",
              "      <td>42.0</td>\n",
              "      <td>333.0</td>\n",
              "      <td>1.0</td>\n",
              "      <td>1000.0</td>\n",
              "      <td>21.0</td>\n",
              "      <td>23.0</td>\n",
              "      <td>20.0</td>\n",
              "    </tr>\n",
              "    <tr>\n",
              "      <th>21466</th>\n",
              "      <td>3e6d98f0757ce033a71509cf730ab7d6</td>\n",
              "      <td>ferramentas_jardim</td>\n",
              "      <td>41.0</td>\n",
              "      <td>442.0</td>\n",
              "      <td>6.0</td>\n",
              "      <td>200.0</td>\n",
              "      <td>16.0</td>\n",
              "      <td>6.0</td>\n",
              "      <td>11.0</td>\n",
              "    </tr>\n",
              "  </tbody>\n",
              "</table>\n",
              "</div>"
            ],
            "text/plain": [
              "                             product_id        product_category_name  \\\n",
              "14230  779de9dd06ff30d5097a959a1e9dacdc                   automotivo   \n",
              "3205   05216a143a65ab59fc48fb996e7c12d7  fashion_bolsas_e_acessorios   \n",
              "12238  488445f08d5b536d6aaa8dfe5c06a3db                 beleza_saude   \n",
              "11434  708281087dc97b0e50baa8891e741d8f        utilidades_domesticas   \n",
              "21466  3e6d98f0757ce033a71509cf730ab7d6           ferramentas_jardim   \n",
              "\n",
              "       product_name_lenght  product_description_lenght  product_photos_qty  \\\n",
              "14230                 59.0                      1031.0                 2.0   \n",
              "3205                  53.0                       353.0                 1.0   \n",
              "12238                 53.0                       821.0                 1.0   \n",
              "11434                 42.0                       333.0                 1.0   \n",
              "21466                 41.0                       442.0                 6.0   \n",
              "\n",
              "       product_weight_g  product_length_cm  product_height_cm  \\\n",
              "14230            2250.0               61.0               22.0   \n",
              "3205              200.0               16.0                2.0   \n",
              "12238            3500.0               35.0               15.0   \n",
              "11434            1000.0               21.0               23.0   \n",
              "21466             200.0               16.0                6.0   \n",
              "\n",
              "       product_width_cm  \n",
              "14230              22.0  \n",
              "3205               11.0  \n",
              "12238              15.0  \n",
              "11434              20.0  \n",
              "21466              11.0  "
            ]
          },
          "execution_count": 29,
          "metadata": {},
          "output_type": "execute_result"
        }
      ],
      "source": [
        "products.sample(5)"
      ]
    },
    {
      "cell_type": "code",
      "execution_count": 30,
      "metadata": {},
      "outputs": [
        {
          "data": {
            "text/plain": [
              "(32951, 9)"
            ]
          },
          "execution_count": 30,
          "metadata": {},
          "output_type": "execute_result"
        }
      ],
      "source": [
        "products.shape"
      ]
    },
    {
      "cell_type": "code",
      "execution_count": 31,
      "metadata": {},
      "outputs": [
        {
          "name": "stdout",
          "output_type": "stream",
          "text": [
            "<class 'pandas.core.frame.DataFrame'>\n",
            "RangeIndex: 32951 entries, 0 to 32950\n",
            "Data columns (total 9 columns):\n",
            " #   Column                      Non-Null Count  Dtype  \n",
            "---  ------                      --------------  -----  \n",
            " 0   product_id                  32951 non-null  object \n",
            " 1   product_category_name       32341 non-null  object \n",
            " 2   product_name_lenght         32341 non-null  float64\n",
            " 3   product_description_lenght  32341 non-null  float64\n",
            " 4   product_photos_qty          32341 non-null  float64\n",
            " 5   product_weight_g            32949 non-null  float64\n",
            " 6   product_length_cm           32949 non-null  float64\n",
            " 7   product_height_cm           32949 non-null  float64\n",
            " 8   product_width_cm            32949 non-null  float64\n",
            "dtypes: float64(7), object(2)\n",
            "memory usage: 2.3+ MB\n"
          ]
        }
      ],
      "source": [
        "products.info()"
      ]
    },
    {
      "cell_type": "code",
      "execution_count": 32,
      "metadata": {},
      "outputs": [
        {
          "data": {
            "text/plain": [
              "product_id                      0\n",
              "product_category_name         610\n",
              "product_name_lenght           610\n",
              "product_description_lenght    610\n",
              "product_photos_qty            610\n",
              "product_weight_g                2\n",
              "product_length_cm               2\n",
              "product_height_cm               2\n",
              "product_width_cm                2\n",
              "dtype: int64"
            ]
          },
          "execution_count": 32,
          "metadata": {},
          "output_type": "execute_result"
        }
      ],
      "source": [
        "products.isnull().sum()"
      ]
    },
    {
      "cell_type": "code",
      "execution_count": 33,
      "metadata": {},
      "outputs": [
        {
          "data": {
            "text/html": [
              "<div>\n",
              "<style scoped>\n",
              "    .dataframe tbody tr th:only-of-type {\n",
              "        vertical-align: middle;\n",
              "    }\n",
              "\n",
              "    .dataframe tbody tr th {\n",
              "        vertical-align: top;\n",
              "    }\n",
              "\n",
              "    .dataframe thead th {\n",
              "        text-align: right;\n",
              "    }\n",
              "</style>\n",
              "<table border=\"1\" class=\"dataframe\">\n",
              "  <thead>\n",
              "    <tr style=\"text-align: right;\">\n",
              "      <th></th>\n",
              "      <th>product_name_lenght</th>\n",
              "      <th>product_description_lenght</th>\n",
              "      <th>product_photos_qty</th>\n",
              "      <th>product_weight_g</th>\n",
              "      <th>product_length_cm</th>\n",
              "      <th>product_height_cm</th>\n",
              "      <th>product_width_cm</th>\n",
              "    </tr>\n",
              "  </thead>\n",
              "  <tbody>\n",
              "    <tr>\n",
              "      <th>count</th>\n",
              "      <td>32341.000000</td>\n",
              "      <td>32341.000000</td>\n",
              "      <td>32341.000000</td>\n",
              "      <td>32949.000000</td>\n",
              "      <td>32949.000000</td>\n",
              "      <td>32949.000000</td>\n",
              "      <td>32949.000000</td>\n",
              "    </tr>\n",
              "    <tr>\n",
              "      <th>mean</th>\n",
              "      <td>48.476949</td>\n",
              "      <td>771.495285</td>\n",
              "      <td>2.188986</td>\n",
              "      <td>2276.472488</td>\n",
              "      <td>30.815078</td>\n",
              "      <td>16.937661</td>\n",
              "      <td>23.196728</td>\n",
              "    </tr>\n",
              "    <tr>\n",
              "      <th>std</th>\n",
              "      <td>10.245741</td>\n",
              "      <td>635.115225</td>\n",
              "      <td>1.736766</td>\n",
              "      <td>4282.038731</td>\n",
              "      <td>16.914458</td>\n",
              "      <td>13.637554</td>\n",
              "      <td>12.079047</td>\n",
              "    </tr>\n",
              "    <tr>\n",
              "      <th>min</th>\n",
              "      <td>5.000000</td>\n",
              "      <td>4.000000</td>\n",
              "      <td>1.000000</td>\n",
              "      <td>0.000000</td>\n",
              "      <td>7.000000</td>\n",
              "      <td>2.000000</td>\n",
              "      <td>6.000000</td>\n",
              "    </tr>\n",
              "    <tr>\n",
              "      <th>25%</th>\n",
              "      <td>42.000000</td>\n",
              "      <td>339.000000</td>\n",
              "      <td>1.000000</td>\n",
              "      <td>300.000000</td>\n",
              "      <td>18.000000</td>\n",
              "      <td>8.000000</td>\n",
              "      <td>15.000000</td>\n",
              "    </tr>\n",
              "    <tr>\n",
              "      <th>50%</th>\n",
              "      <td>51.000000</td>\n",
              "      <td>595.000000</td>\n",
              "      <td>1.000000</td>\n",
              "      <td>700.000000</td>\n",
              "      <td>25.000000</td>\n",
              "      <td>13.000000</td>\n",
              "      <td>20.000000</td>\n",
              "    </tr>\n",
              "    <tr>\n",
              "      <th>75%</th>\n",
              "      <td>57.000000</td>\n",
              "      <td>972.000000</td>\n",
              "      <td>3.000000</td>\n",
              "      <td>1900.000000</td>\n",
              "      <td>38.000000</td>\n",
              "      <td>21.000000</td>\n",
              "      <td>30.000000</td>\n",
              "    </tr>\n",
              "    <tr>\n",
              "      <th>max</th>\n",
              "      <td>76.000000</td>\n",
              "      <td>3992.000000</td>\n",
              "      <td>20.000000</td>\n",
              "      <td>40425.000000</td>\n",
              "      <td>105.000000</td>\n",
              "      <td>105.000000</td>\n",
              "      <td>118.000000</td>\n",
              "    </tr>\n",
              "  </tbody>\n",
              "</table>\n",
              "</div>"
            ],
            "text/plain": [
              "       product_name_lenght  product_description_lenght  product_photos_qty  \\\n",
              "count         32341.000000                32341.000000        32341.000000   \n",
              "mean             48.476949                  771.495285            2.188986   \n",
              "std              10.245741                  635.115225            1.736766   \n",
              "min               5.000000                    4.000000            1.000000   \n",
              "25%              42.000000                  339.000000            1.000000   \n",
              "50%              51.000000                  595.000000            1.000000   \n",
              "75%              57.000000                  972.000000            3.000000   \n",
              "max              76.000000                 3992.000000           20.000000   \n",
              "\n",
              "       product_weight_g  product_length_cm  product_height_cm  \\\n",
              "count      32949.000000       32949.000000       32949.000000   \n",
              "mean        2276.472488          30.815078          16.937661   \n",
              "std         4282.038731          16.914458          13.637554   \n",
              "min            0.000000           7.000000           2.000000   \n",
              "25%          300.000000          18.000000           8.000000   \n",
              "50%          700.000000          25.000000          13.000000   \n",
              "75%         1900.000000          38.000000          21.000000   \n",
              "max        40425.000000         105.000000         105.000000   \n",
              "\n",
              "       product_width_cm  \n",
              "count      32949.000000  \n",
              "mean          23.196728  \n",
              "std           12.079047  \n",
              "min            6.000000  \n",
              "25%           15.000000  \n",
              "50%           20.000000  \n",
              "75%           30.000000  \n",
              "max          118.000000  "
            ]
          },
          "execution_count": 33,
          "metadata": {},
          "output_type": "execute_result"
        }
      ],
      "source": [
        "products.describe()"
      ]
    },
    {
      "cell_type": "markdown",
      "metadata": {},
      "source": [
        "#### Sellers"
      ]
    },
    {
      "cell_type": "code",
      "execution_count": 34,
      "metadata": {},
      "outputs": [
        {
          "data": {
            "text/html": [
              "<div>\n",
              "<style scoped>\n",
              "    .dataframe tbody tr th:only-of-type {\n",
              "        vertical-align: middle;\n",
              "    }\n",
              "\n",
              "    .dataframe tbody tr th {\n",
              "        vertical-align: top;\n",
              "    }\n",
              "\n",
              "    .dataframe thead th {\n",
              "        text-align: right;\n",
              "    }\n",
              "</style>\n",
              "<table border=\"1\" class=\"dataframe\">\n",
              "  <thead>\n",
              "    <tr style=\"text-align: right;\">\n",
              "      <th></th>\n",
              "      <th>seller_id</th>\n",
              "      <th>seller_zip_code_prefix</th>\n",
              "      <th>seller_city</th>\n",
              "      <th>seller_state</th>\n",
              "    </tr>\n",
              "  </thead>\n",
              "  <tbody>\n",
              "    <tr>\n",
              "      <th>1014</th>\n",
              "      <td>e3d3b3efac954a60d61be70b7e05b49b</td>\n",
              "      <td>3370</td>\n",
              "      <td>sao paulo</td>\n",
              "      <td>SP</td>\n",
              "    </tr>\n",
              "    <tr>\n",
              "      <th>261</th>\n",
              "      <td>f9903dd0f812c7e771fcad47b6fff231</td>\n",
              "      <td>89070</td>\n",
              "      <td>blumenau</td>\n",
              "      <td>SC</td>\n",
              "    </tr>\n",
              "    <tr>\n",
              "      <th>390</th>\n",
              "      <td>955fee9216a65b617aa5c0531780ce60</td>\n",
              "      <td>4782</td>\n",
              "      <td>sao paulo</td>\n",
              "      <td>SP</td>\n",
              "    </tr>\n",
              "    <tr>\n",
              "      <th>350</th>\n",
              "      <td>c42fd8e4d47dfb18ce5222f2dd7752f9</td>\n",
              "      <td>6246</td>\n",
              "      <td>osasco</td>\n",
              "      <td>SP</td>\n",
              "    </tr>\n",
              "    <tr>\n",
              "      <th>2833</th>\n",
              "      <td>4559697a8f7e637227c2eeaed843baff</td>\n",
              "      <td>19029</td>\n",
              "      <td>presidente prudente</td>\n",
              "      <td>SP</td>\n",
              "    </tr>\n",
              "  </tbody>\n",
              "</table>\n",
              "</div>"
            ],
            "text/plain": [
              "                             seller_id  seller_zip_code_prefix  \\\n",
              "1014  e3d3b3efac954a60d61be70b7e05b49b                    3370   \n",
              "261   f9903dd0f812c7e771fcad47b6fff231                   89070   \n",
              "390   955fee9216a65b617aa5c0531780ce60                    4782   \n",
              "350   c42fd8e4d47dfb18ce5222f2dd7752f9                    6246   \n",
              "2833  4559697a8f7e637227c2eeaed843baff                   19029   \n",
              "\n",
              "              seller_city seller_state  \n",
              "1014            sao paulo           SP  \n",
              "261              blumenau           SC  \n",
              "390             sao paulo           SP  \n",
              "350                osasco           SP  \n",
              "2833  presidente prudente           SP  "
            ]
          },
          "execution_count": 34,
          "metadata": {},
          "output_type": "execute_result"
        }
      ],
      "source": [
        "sellers.sample(5)"
      ]
    },
    {
      "cell_type": "code",
      "execution_count": 35,
      "metadata": {},
      "outputs": [
        {
          "data": {
            "text/plain": [
              "(3095, 4)"
            ]
          },
          "execution_count": 35,
          "metadata": {},
          "output_type": "execute_result"
        }
      ],
      "source": [
        "sellers.shape"
      ]
    },
    {
      "cell_type": "code",
      "execution_count": 36,
      "metadata": {},
      "outputs": [
        {
          "name": "stdout",
          "output_type": "stream",
          "text": [
            "<class 'pandas.core.frame.DataFrame'>\n",
            "RangeIndex: 3095 entries, 0 to 3094\n",
            "Data columns (total 4 columns):\n",
            " #   Column                  Non-Null Count  Dtype \n",
            "---  ------                  --------------  ----- \n",
            " 0   seller_id               3095 non-null   object\n",
            " 1   seller_zip_code_prefix  3095 non-null   int64 \n",
            " 2   seller_city             3095 non-null   object\n",
            " 3   seller_state            3095 non-null   object\n",
            "dtypes: int64(1), object(3)\n",
            "memory usage: 96.8+ KB\n"
          ]
        }
      ],
      "source": [
        "sellers.info()"
      ]
    },
    {
      "cell_type": "markdown",
      "metadata": {
        "id": "Uz5dgcJm9HW5"
      },
      "source": [
        "### Cleaning Data"
      ]
    },
    {
      "cell_type": "code",
      "execution_count": 37,
      "metadata": {
        "id": "CCszTdXD9Ivf"
      },
      "outputs": [],
      "source": [
        "# change data type on Order Items of shipping_limit_date to date\n",
        "order_items.shipping_limit_date = pd.to_datetime(order_items['shipping_limit_date'].str.strip())\n",
        "\n",
        "# change data type on order review of the review_creation_date and review_answer_timestamp to date \n",
        "order_reviews.review_creation_date = pd.to_datetime(order_reviews.review_creation_date.str.strip())\n",
        "order_reviews.review_answer_timestamp = pd.to_datetime(order_reviews.review_answer_timestamp.str.strip())\n",
        "\n",
        "# change data type on Orders of the order_purchase_timestamp, order_approved_at, order_delivered_carrier_date, \n",
        "# order_delivered_customer_date, order_estimated_delivery_date to date \n",
        "orders.order_purchase_timestamp = pd.to_datetime(orders.order_purchase_timestamp.str.strip())\n",
        "orders.order_approved_at = pd.to_datetime(orders.order_approved_at.str.strip())\n",
        "orders.order_delivered_carrier_date = pd.to_datetime(orders.order_delivered_carrier_date.str.strip())\n",
        "orders.order_delivered_customer_date = pd.to_datetime(orders.order_delivered_customer_date.str.strip())\n",
        "orders.order_estimated_delivery_date = pd.to_datetime(orders.order_estimated_delivery_date.str.strip())\n"
      ]
    },
    {
      "cell_type": "code",
      "execution_count": 38,
      "metadata": {},
      "outputs": [],
      "source": [
        "# cleaning null value on Orders dataset (99441, 8)\n",
        "# orders.isnull().sum()\n",
        "# orders.dropna(subset=['order_approved_at','order_delivered_carrier_date','order_delivered_customer_date'], inplace=True)\n",
        "\n",
        "# cleaning null value on Products dataset (32951, 9)\n",
        "# products.isnull().sum()\n",
        "# products.dropna(inplace=True)"
      ]
    },
    {
      "cell_type": "code",
      "execution_count": 39,
      "metadata": {},
      "outputs": [
        {
          "name": "stdout",
          "output_type": "stream",
          "text": [
            "order (99441, 8) & products (32951, 9)\n"
          ]
        }
      ],
      "source": [
        "print(f'order {orders.shape} & products {products.shape}')"
      ]
    },
    {
      "cell_type": "markdown",
      "metadata": {
        "id": "EyPJaCDm9KFb"
      },
      "source": [
        "## Exploratory Data Analysis (EDA)"
      ]
    },
    {
      "cell_type": "markdown",
      "metadata": {
        "id": "hxgJ6qd69Mce"
      },
      "source": [
        "### Explore ..."
      ]
    },
    {
      "cell_type": "code",
      "execution_count": 63,
      "metadata": {
        "id": "Xo68yguo9LTl"
      },
      "outputs": [
        {
          "data": {
            "text/html": [
              "<div>\n",
              "<style scoped>\n",
              "    .dataframe tbody tr th:only-of-type {\n",
              "        vertical-align: middle;\n",
              "    }\n",
              "\n",
              "    .dataframe tbody tr th {\n",
              "        vertical-align: top;\n",
              "    }\n",
              "\n",
              "    .dataframe thead th {\n",
              "        text-align: right;\n",
              "    }\n",
              "</style>\n",
              "<table border=\"1\" class=\"dataframe\">\n",
              "  <thead>\n",
              "    <tr style=\"text-align: right;\">\n",
              "      <th></th>\n",
              "      <th>customer_id</th>\n",
              "      <th>customer_unique_id</th>\n",
              "      <th>customer_zip_code_prefix</th>\n",
              "      <th>customer_city</th>\n",
              "      <th>customer_state</th>\n",
              "    </tr>\n",
              "  </thead>\n",
              "  <tbody>\n",
              "    <tr>\n",
              "      <th>59</th>\n",
              "      <td>a905baa530258422594f1b05615bd225</td>\n",
              "      <td>c80da60feddb7cf8325bd104032e314a</td>\n",
              "      <td>60140</td>\n",
              "      <td>fortaleza</td>\n",
              "      <td>CE</td>\n",
              "    </tr>\n",
              "    <tr>\n",
              "      <th>70</th>\n",
              "      <td>4c7241af24b5344cb01fe687643de4fe</td>\n",
              "      <td>b157c176c3fe04914fde33f2dc8b878a</td>\n",
              "      <td>60336</td>\n",
              "      <td>fortaleza</td>\n",
              "      <td>CE</td>\n",
              "    </tr>\n",
              "    <tr>\n",
              "      <th>103</th>\n",
              "      <td>126cf4e9fd189d2d64bc9b112fd6a5e8</td>\n",
              "      <td>90d479448b39ad9586d05da64cfb695b</td>\n",
              "      <td>62016</td>\n",
              "      <td>sobral</td>\n",
              "      <td>CE</td>\n",
              "    </tr>\n",
              "    <tr>\n",
              "      <th>303</th>\n",
              "      <td>3aec4688b93d6061ec5061721ad493a7</td>\n",
              "      <td>7b0cae22ae2b6cf88163a50600da4ee2</td>\n",
              "      <td>60181</td>\n",
              "      <td>fortaleza</td>\n",
              "      <td>CE</td>\n",
              "    </tr>\n",
              "    <tr>\n",
              "      <th>422</th>\n",
              "      <td>522a6e7c1f1f992ac81be6abefa46294</td>\n",
              "      <td>282ebddb3e85120b1652204758fc332b</td>\n",
              "      <td>60055</td>\n",
              "      <td>fortaleza</td>\n",
              "      <td>CE</td>\n",
              "    </tr>\n",
              "    <tr>\n",
              "      <th>...</th>\n",
              "      <td>...</td>\n",
              "      <td>...</td>\n",
              "      <td>...</td>\n",
              "      <td>...</td>\n",
              "      <td>...</td>\n",
              "    </tr>\n",
              "    <tr>\n",
              "      <th>99072</th>\n",
              "      <td>18e56af97c2f24afcfaf7aa97ad2b969</td>\n",
              "      <td>d9ff7e37d7bf448abb783a6e56462d93</td>\n",
              "      <td>63765</td>\n",
              "      <td>sucesso</td>\n",
              "      <td>CE</td>\n",
              "    </tr>\n",
              "    <tr>\n",
              "      <th>99171</th>\n",
              "      <td>3218724bc18c442e58bd39608b0f100a</td>\n",
              "      <td>d9151698fc7193669598995a4c6f494f</td>\n",
              "      <td>62800</td>\n",
              "      <td>aracati</td>\n",
              "      <td>CE</td>\n",
              "    </tr>\n",
              "    <tr>\n",
              "      <th>99328</th>\n",
              "      <td>1e03a2aa5714007700c8e727849cf123</td>\n",
              "      <td>54a2d9cbeb08a11268085529cfe2524f</td>\n",
              "      <td>60440</td>\n",
              "      <td>fortaleza</td>\n",
              "      <td>CE</td>\n",
              "    </tr>\n",
              "    <tr>\n",
              "      <th>99343</th>\n",
              "      <td>9289d8bcd95805bc1ac27c949a99da98</td>\n",
              "      <td>ec8aaeb3869352e348097f26f4c49ee3</td>\n",
              "      <td>60864</td>\n",
              "      <td>fortaleza</td>\n",
              "      <td>CE</td>\n",
              "    </tr>\n",
              "    <tr>\n",
              "      <th>99438</th>\n",
              "      <td>5e28dfe12db7fb50a4b2f691faecea5e</td>\n",
              "      <td>e9f50caf99f032f0bf3c55141f019d99</td>\n",
              "      <td>60115</td>\n",
              "      <td>fortaleza</td>\n",
              "      <td>CE</td>\n",
              "    </tr>\n",
              "  </tbody>\n",
              "</table>\n",
              "<p>1336 rows × 5 columns</p>\n",
              "</div>"
            ],
            "text/plain": [
              "                            customer_id                customer_unique_id  \\\n",
              "59     a905baa530258422594f1b05615bd225  c80da60feddb7cf8325bd104032e314a   \n",
              "70     4c7241af24b5344cb01fe687643de4fe  b157c176c3fe04914fde33f2dc8b878a   \n",
              "103    126cf4e9fd189d2d64bc9b112fd6a5e8  90d479448b39ad9586d05da64cfb695b   \n",
              "303    3aec4688b93d6061ec5061721ad493a7  7b0cae22ae2b6cf88163a50600da4ee2   \n",
              "422    522a6e7c1f1f992ac81be6abefa46294  282ebddb3e85120b1652204758fc332b   \n",
              "...                                 ...                               ...   \n",
              "99072  18e56af97c2f24afcfaf7aa97ad2b969  d9ff7e37d7bf448abb783a6e56462d93   \n",
              "99171  3218724bc18c442e58bd39608b0f100a  d9151698fc7193669598995a4c6f494f   \n",
              "99328  1e03a2aa5714007700c8e727849cf123  54a2d9cbeb08a11268085529cfe2524f   \n",
              "99343  9289d8bcd95805bc1ac27c949a99da98  ec8aaeb3869352e348097f26f4c49ee3   \n",
              "99438  5e28dfe12db7fb50a4b2f691faecea5e  e9f50caf99f032f0bf3c55141f019d99   \n",
              "\n",
              "       customer_zip_code_prefix customer_city customer_state  \n",
              "59                        60140     fortaleza             CE  \n",
              "70                        60336     fortaleza             CE  \n",
              "103                       62016        sobral             CE  \n",
              "303                       60181     fortaleza             CE  \n",
              "422                       60055     fortaleza             CE  \n",
              "...                         ...           ...            ...  \n",
              "99072                     63765       sucesso             CE  \n",
              "99171                     62800       aracati             CE  \n",
              "99328                     60440     fortaleza             CE  \n",
              "99343                     60864     fortaleza             CE  \n",
              "99438                     60115     fortaleza             CE  \n",
              "\n",
              "[1336 rows x 5 columns]"
            ]
          },
          "execution_count": 63,
          "metadata": {},
          "output_type": "execute_result"
        }
      ],
      "source": [
        "customers[customers.customer_state == 'CE']"
      ]
    },
    {
      "cell_type": "code",
      "execution_count": 72,
      "metadata": {},
      "outputs": [
        {
          "data": {
            "text/html": [
              "<div>\n",
              "<style scoped>\n",
              "    .dataframe tbody tr th:only-of-type {\n",
              "        vertical-align: middle;\n",
              "    }\n",
              "\n",
              "    .dataframe tbody tr th {\n",
              "        vertical-align: top;\n",
              "    }\n",
              "\n",
              "    .dataframe thead th {\n",
              "        text-align: right;\n",
              "    }\n",
              "</style>\n",
              "<table border=\"1\" class=\"dataframe\">\n",
              "  <thead>\n",
              "    <tr style=\"text-align: right;\">\n",
              "      <th></th>\n",
              "      <th>customer_state</th>\n",
              "      <th>customer_city</th>\n",
              "      <th>customer_id</th>\n",
              "    </tr>\n",
              "  </thead>\n",
              "  <tbody>\n",
              "    <tr>\n",
              "      <th>799</th>\n",
              "      <td>SP</td>\n",
              "      <td>pinhalzinho</td>\n",
              "      <td>12</td>\n",
              "    </tr>\n",
              "    <tr>\n",
              "      <th>880</th>\n",
              "      <td>SP</td>\n",
              "      <td>charqueada</td>\n",
              "      <td>10</td>\n",
              "    </tr>\n",
              "    <tr>\n",
              "      <th>2247</th>\n",
              "      <td>MG</td>\n",
              "      <td>sao sebastiao do maranhao</td>\n",
              "      <td>3</td>\n",
              "    </tr>\n",
              "  </tbody>\n",
              "</table>\n",
              "</div>"
            ],
            "text/plain": [
              "     customer_state              customer_city  customer_id\n",
              "799              SP                pinhalzinho           12\n",
              "880              SP                 charqueada           10\n",
              "2247             MG  sao sebastiao do maranhao            3"
            ]
          },
          "execution_count": 72,
          "metadata": {},
          "output_type": "execute_result"
        }
      ],
      "source": [
        "custby_city_states = customers.groupby(by=['customer_state','customer_city']).customer_id.nunique().sort_values(ascending=False).to_frame().reset_index()\n",
        "custby_city_states.sample(3)"
      ]
    },
    {
      "cell_type": "code",
      "execution_count": 73,
      "metadata": {},
      "outputs": [
        {
          "data": {
            "text/html": [
              "<div>\n",
              "<style scoped>\n",
              "    .dataframe tbody tr th:only-of-type {\n",
              "        vertical-align: middle;\n",
              "    }\n",
              "\n",
              "    .dataframe tbody tr th {\n",
              "        vertical-align: top;\n",
              "    }\n",
              "\n",
              "    .dataframe thead th {\n",
              "        text-align: right;\n",
              "    }\n",
              "</style>\n",
              "<table border=\"1\" class=\"dataframe\">\n",
              "  <thead>\n",
              "    <tr style=\"text-align: right;\">\n",
              "      <th></th>\n",
              "      <th>order_id</th>\n",
              "      <th>order_item_id</th>\n",
              "      <th>product_id</th>\n",
              "      <th>seller_id</th>\n",
              "      <th>shipping_limit_date</th>\n",
              "      <th>price</th>\n",
              "      <th>freight_value</th>\n",
              "    </tr>\n",
              "  </thead>\n",
              "  <tbody>\n",
              "    <tr>\n",
              "      <th>110271</th>\n",
              "      <td>fa8b91d8aacb92e77cd50059ac39c474</td>\n",
              "      <td>1</td>\n",
              "      <td>c4baedd846ed09b85f78a781b522f126</td>\n",
              "      <td>a1043bafd471dff536d0c462352beb48</td>\n",
              "      <td>2017-12-04 12:52:28</td>\n",
              "      <td>89.99</td>\n",
              "      <td>50.50</td>\n",
              "    </tr>\n",
              "    <tr>\n",
              "      <th>44029</th>\n",
              "      <td>6413a8cd79f9720426fd12968b388228</td>\n",
              "      <td>3</td>\n",
              "      <td>d016a1a4d0898c213be8443b0c99c784</td>\n",
              "      <td>30829ded4523ab9224b93bc49a62c95f</td>\n",
              "      <td>2018-07-05 10:53:51</td>\n",
              "      <td>199.00</td>\n",
              "      <td>23.32</td>\n",
              "    </tr>\n",
              "    <tr>\n",
              "      <th>102878</th>\n",
              "      <td>e9a1f1bac2a48afae0dbe612a3aa684b</td>\n",
              "      <td>1</td>\n",
              "      <td>ace5d86cf1ac63cdb76f49e5cd23d2f8</td>\n",
              "      <td>cca3071e3e9bb7d12640c9fbe2301306</td>\n",
              "      <td>2017-03-17 15:10:18</td>\n",
              "      <td>50.90</td>\n",
              "      <td>17.20</td>\n",
              "    </tr>\n",
              "  </tbody>\n",
              "</table>\n",
              "</div>"
            ],
            "text/plain": [
              "                                order_id  order_item_id  \\\n",
              "110271  fa8b91d8aacb92e77cd50059ac39c474              1   \n",
              "44029   6413a8cd79f9720426fd12968b388228              3   \n",
              "102878  e9a1f1bac2a48afae0dbe612a3aa684b              1   \n",
              "\n",
              "                              product_id                         seller_id  \\\n",
              "110271  c4baedd846ed09b85f78a781b522f126  a1043bafd471dff536d0c462352beb48   \n",
              "44029   d016a1a4d0898c213be8443b0c99c784  30829ded4523ab9224b93bc49a62c95f   \n",
              "102878  ace5d86cf1ac63cdb76f49e5cd23d2f8  cca3071e3e9bb7d12640c9fbe2301306   \n",
              "\n",
              "       shipping_limit_date   price  freight_value  \n",
              "110271 2017-12-04 12:52:28   89.99          50.50  \n",
              "44029  2018-07-05 10:53:51  199.00          23.32  \n",
              "102878 2017-03-17 15:10:18   50.90          17.20  "
            ]
          },
          "execution_count": 73,
          "metadata": {},
          "output_type": "execute_result"
        }
      ],
      "source": [
        "order_items.sample(3)"
      ]
    },
    {
      "cell_type": "code",
      "execution_count": null,
      "metadata": {},
      "outputs": [
        {
          "data": {
            "text/html": [
              "<div>\n",
              "<style scoped>\n",
              "    .dataframe tbody tr th:only-of-type {\n",
              "        vertical-align: middle;\n",
              "    }\n",
              "\n",
              "    .dataframe tbody tr th {\n",
              "        vertical-align: top;\n",
              "    }\n",
              "\n",
              "    .dataframe thead th {\n",
              "        text-align: right;\n",
              "    }\n",
              "</style>\n",
              "<table border=\"1\" class=\"dataframe\">\n",
              "  <thead>\n",
              "    <tr style=\"text-align: right;\">\n",
              "      <th></th>\n",
              "      <th>order_id</th>\n",
              "      <th>customer_id</th>\n",
              "      <th>order_status</th>\n",
              "      <th>order_purchase_timestamp</th>\n",
              "      <th>order_approved_at</th>\n",
              "      <th>order_delivered_carrier_date</th>\n",
              "      <th>order_delivered_customer_date</th>\n",
              "      <th>order_estimated_delivery_date</th>\n",
              "    </tr>\n",
              "  </thead>\n",
              "  <tbody>\n",
              "    <tr>\n",
              "      <th>20336</th>\n",
              "      <td>c2411b9c7822d227e3e48018405a0594</td>\n",
              "      <td>464ad1fa19f2a649e39193e5c98b8300</td>\n",
              "      <td>delivered</td>\n",
              "      <td>2018-01-25 23:24:56</td>\n",
              "      <td>2018-01-25 23:35:37</td>\n",
              "      <td>2018-01-26 20:19:09</td>\n",
              "      <td>2018-02-02 21:19:12</td>\n",
              "      <td>2018-02-09</td>\n",
              "    </tr>\n",
              "    <tr>\n",
              "      <th>17791</th>\n",
              "      <td>ad829c3ec314b40679b5cf05f1f27025</td>\n",
              "      <td>d0186eb06aa53361d8406e9f209a11b9</td>\n",
              "      <td>delivered</td>\n",
              "      <td>2018-01-09 11:21:48</td>\n",
              "      <td>2018-01-09 11:33:04</td>\n",
              "      <td>2018-01-16 00:57:00</td>\n",
              "      <td>2018-02-17 13:09:09</td>\n",
              "      <td>2018-02-08</td>\n",
              "    </tr>\n",
              "  </tbody>\n",
              "</table>\n",
              "</div>"
            ],
            "text/plain": [
              "                               order_id                       customer_id  \\\n",
              "20336  c2411b9c7822d227e3e48018405a0594  464ad1fa19f2a649e39193e5c98b8300   \n",
              "17791  ad829c3ec314b40679b5cf05f1f27025  d0186eb06aa53361d8406e9f209a11b9   \n",
              "\n",
              "      order_status order_purchase_timestamp   order_approved_at  \\\n",
              "20336    delivered      2018-01-25 23:24:56 2018-01-25 23:35:37   \n",
              "17791    delivered      2018-01-09 11:21:48 2018-01-09 11:33:04   \n",
              "\n",
              "      order_delivered_carrier_date order_delivered_customer_date  \\\n",
              "20336          2018-01-26 20:19:09           2018-02-02 21:19:12   \n",
              "17791          2018-01-16 00:57:00           2018-02-17 13:09:09   \n",
              "\n",
              "      order_estimated_delivery_date  \n",
              "20336                    2018-02-09  \n",
              "17791                    2018-02-08  "
            ]
          },
          "execution_count": 41,
          "metadata": {},
          "output_type": "execute_result"
        }
      ],
      "source": [
        "orders.sample(2)"
      ]
    },
    {
      "cell_type": "code",
      "execution_count": 78,
      "metadata": {},
      "outputs": [
        {
          "data": {
            "text/html": [
              "<div>\n",
              "<style scoped>\n",
              "    .dataframe tbody tr th:only-of-type {\n",
              "        vertical-align: middle;\n",
              "    }\n",
              "\n",
              "    .dataframe tbody tr th {\n",
              "        vertical-align: top;\n",
              "    }\n",
              "\n",
              "    .dataframe thead th {\n",
              "        text-align: right;\n",
              "    }\n",
              "</style>\n",
              "<table border=\"1\" class=\"dataframe\">\n",
              "  <thead>\n",
              "    <tr style=\"text-align: right;\">\n",
              "      <th></th>\n",
              "      <th>order_id</th>\n",
              "      <th>customer_id</th>\n",
              "      <th>order_status</th>\n",
              "      <th>order_purchase_timestamp</th>\n",
              "      <th>order_approved_at</th>\n",
              "      <th>order_delivered_carrier_date</th>\n",
              "      <th>order_delivered_customer_date</th>\n",
              "      <th>order_estimated_delivery_date</th>\n",
              "      <th>order_item_id</th>\n",
              "      <th>product_id</th>\n",
              "      <th>seller_id</th>\n",
              "      <th>shipping_limit_date</th>\n",
              "      <th>price</th>\n",
              "      <th>freight_value</th>\n",
              "      <th>total_price</th>\n",
              "    </tr>\n",
              "  </thead>\n",
              "  <tbody>\n",
              "    <tr>\n",
              "      <th>88146</th>\n",
              "      <td>ee8f5d7599c575d8f8eb1a2ea7d66686</td>\n",
              "      <td>ce86321953a0e590bef64f5823dac5fd</td>\n",
              "      <td>delivered</td>\n",
              "      <td>2017-09-05 08:40:16</td>\n",
              "      <td>2017-09-05 08:50:21</td>\n",
              "      <td>2017-09-11 21:33:21</td>\n",
              "      <td>2017-09-21 15:22:28</td>\n",
              "      <td>2017-09-25</td>\n",
              "      <td>1</td>\n",
              "      <td>82c3ea364e5480f335f6743ee725a921</td>\n",
              "      <td>70a12e78e608ac31179aea7f8422044b</td>\n",
              "      <td>2017-09-13 08:50:21</td>\n",
              "      <td>25.00</td>\n",
              "      <td>15.10</td>\n",
              "      <td>25.00</td>\n",
              "    </tr>\n",
              "    <tr>\n",
              "      <th>30610</th>\n",
              "      <td>69499ad287db14f2ca4ccf16a67536b0</td>\n",
              "      <td>a8abfe715d37e28718e35fc36acdb5d6</td>\n",
              "      <td>delivered</td>\n",
              "      <td>2018-06-19 12:05:40</td>\n",
              "      <td>2018-06-19 17:45:43</td>\n",
              "      <td>2018-06-20 14:43:00</td>\n",
              "      <td>2018-06-22 18:06:33</td>\n",
              "      <td>2018-07-04</td>\n",
              "      <td>1</td>\n",
              "      <td>bef82b9c3489736794c29f6d4a686ca6</td>\n",
              "      <td>9646c3513289980f17226a2fc4720dbd</td>\n",
              "      <td>2018-06-25 17:45:43</td>\n",
              "      <td>28.00</td>\n",
              "      <td>8.89</td>\n",
              "      <td>28.00</td>\n",
              "    </tr>\n",
              "    <tr>\n",
              "      <th>45503</th>\n",
              "      <td>7ef259be178f9f06c72a57add85b71cd</td>\n",
              "      <td>a16a13abd16a9d85e4b382ecdc192d33</td>\n",
              "      <td>delivered</td>\n",
              "      <td>2018-06-06 16:55:17</td>\n",
              "      <td>2018-06-06 17:13:19</td>\n",
              "      <td>2018-06-29 15:22:00</td>\n",
              "      <td>2018-07-12 20:03:51</td>\n",
              "      <td>2018-08-09</td>\n",
              "      <td>1</td>\n",
              "      <td>f4f4debbcfcafe6858d1e37a1f6e436e</td>\n",
              "      <td>5058e8c1e82653974541e83690655b4a</td>\n",
              "      <td>2018-06-28 17:13:19</td>\n",
              "      <td>139.98</td>\n",
              "      <td>232.69</td>\n",
              "      <td>139.98</td>\n",
              "    </tr>\n",
              "    <tr>\n",
              "      <th>104006</th>\n",
              "      <td>fecda210da4a36546b91948ee43af90d</td>\n",
              "      <td>66af94f0d6175f030731ae8ae7ed580c</td>\n",
              "      <td>delivered</td>\n",
              "      <td>2018-03-29 16:42:35</td>\n",
              "      <td>2018-03-29 16:55:28</td>\n",
              "      <td>2018-04-04 02:20:57</td>\n",
              "      <td>2018-05-02 20:36:49</td>\n",
              "      <td>2018-04-23</td>\n",
              "      <td>1</td>\n",
              "      <td>be4d4aacf88585bba5689cbc3393e0cc</td>\n",
              "      <td>50c9975695009e5e6473912e83a6d1da</td>\n",
              "      <td>2018-04-04 16:55:28</td>\n",
              "      <td>17.50</td>\n",
              "      <td>27.08</td>\n",
              "      <td>17.50</td>\n",
              "    </tr>\n",
              "    <tr>\n",
              "      <th>76319</th>\n",
              "      <td>452045e853d5fa6f87a6ebed979b3134</td>\n",
              "      <td>37ffb68c39bd78aec200de254446972f</td>\n",
              "      <td>delivered</td>\n",
              "      <td>2017-10-07 17:14:13</td>\n",
              "      <td>2017-10-07 17:28:18</td>\n",
              "      <td>2017-10-09 22:12:47</td>\n",
              "      <td>2017-10-18 18:19:59</td>\n",
              "      <td>2017-11-08</td>\n",
              "      <td>3</td>\n",
              "      <td>422879e10f46682990de24d770e7f83d</td>\n",
              "      <td>1f50f920176fa81dab994f9023523100</td>\n",
              "      <td>2017-10-13 17:28:18</td>\n",
              "      <td>59.90</td>\n",
              "      <td>17.67</td>\n",
              "      <td>179.70</td>\n",
              "    </tr>\n",
              "  </tbody>\n",
              "</table>\n",
              "</div>"
            ],
            "text/plain": [
              "                                order_id                       customer_id  \\\n",
              "88146   ee8f5d7599c575d8f8eb1a2ea7d66686  ce86321953a0e590bef64f5823dac5fd   \n",
              "30610   69499ad287db14f2ca4ccf16a67536b0  a8abfe715d37e28718e35fc36acdb5d6   \n",
              "45503   7ef259be178f9f06c72a57add85b71cd  a16a13abd16a9d85e4b382ecdc192d33   \n",
              "104006  fecda210da4a36546b91948ee43af90d  66af94f0d6175f030731ae8ae7ed580c   \n",
              "76319   452045e853d5fa6f87a6ebed979b3134  37ffb68c39bd78aec200de254446972f   \n",
              "\n",
              "       order_status order_purchase_timestamp   order_approved_at  \\\n",
              "88146     delivered      2017-09-05 08:40:16 2017-09-05 08:50:21   \n",
              "30610     delivered      2018-06-19 12:05:40 2018-06-19 17:45:43   \n",
              "45503     delivered      2018-06-06 16:55:17 2018-06-06 17:13:19   \n",
              "104006    delivered      2018-03-29 16:42:35 2018-03-29 16:55:28   \n",
              "76319     delivered      2017-10-07 17:14:13 2017-10-07 17:28:18   \n",
              "\n",
              "       order_delivered_carrier_date order_delivered_customer_date  \\\n",
              "88146           2017-09-11 21:33:21           2017-09-21 15:22:28   \n",
              "30610           2018-06-20 14:43:00           2018-06-22 18:06:33   \n",
              "45503           2018-06-29 15:22:00           2018-07-12 20:03:51   \n",
              "104006          2018-04-04 02:20:57           2018-05-02 20:36:49   \n",
              "76319           2017-10-09 22:12:47           2017-10-18 18:19:59   \n",
              "\n",
              "       order_estimated_delivery_date  order_item_id  \\\n",
              "88146                     2017-09-25              1   \n",
              "30610                     2018-07-04              1   \n",
              "45503                     2018-08-09              1   \n",
              "104006                    2018-04-23              1   \n",
              "76319                     2017-11-08              3   \n",
              "\n",
              "                              product_id                         seller_id  \\\n",
              "88146   82c3ea364e5480f335f6743ee725a921  70a12e78e608ac31179aea7f8422044b   \n",
              "30610   bef82b9c3489736794c29f6d4a686ca6  9646c3513289980f17226a2fc4720dbd   \n",
              "45503   f4f4debbcfcafe6858d1e37a1f6e436e  5058e8c1e82653974541e83690655b4a   \n",
              "104006  be4d4aacf88585bba5689cbc3393e0cc  50c9975695009e5e6473912e83a6d1da   \n",
              "76319   422879e10f46682990de24d770e7f83d  1f50f920176fa81dab994f9023523100   \n",
              "\n",
              "       shipping_limit_date   price  freight_value  total_price  \n",
              "88146  2017-09-13 08:50:21   25.00          15.10        25.00  \n",
              "30610  2018-06-25 17:45:43   28.00           8.89        28.00  \n",
              "45503  2018-06-28 17:13:19  139.98         232.69       139.98  \n",
              "104006 2018-04-04 16:55:28   17.50          27.08        17.50  \n",
              "76319  2017-10-13 17:28:18   59.90          17.67       179.70  "
            ]
          },
          "execution_count": 78,
          "metadata": {},
          "output_type": "execute_result"
        }
      ],
      "source": [
        "orders_items = pd.merge(left=orders, right=order_items, on='order_id', how='inner')\n",
        "orders_items['total_price'] = orders_items.order_item_id * orders_items.price\n",
        "orders_items.sample(5)"
      ]
    },
    {
      "cell_type": "code",
      "execution_count": 86,
      "metadata": {},
      "outputs": [
        {
          "name": "stdout",
          "output_type": "stream",
          "text": [
            "(117601, 19)\n"
          ]
        },
        {
          "data": {
            "text/html": [
              "<div>\n",
              "<style scoped>\n",
              "    .dataframe tbody tr th:only-of-type {\n",
              "        vertical-align: middle;\n",
              "    }\n",
              "\n",
              "    .dataframe tbody tr th {\n",
              "        vertical-align: top;\n",
              "    }\n",
              "\n",
              "    .dataframe thead th {\n",
              "        text-align: right;\n",
              "    }\n",
              "</style>\n",
              "<table border=\"1\" class=\"dataframe\">\n",
              "  <thead>\n",
              "    <tr style=\"text-align: right;\">\n",
              "      <th></th>\n",
              "      <th>order_id</th>\n",
              "      <th>customer_id</th>\n",
              "      <th>order_status</th>\n",
              "      <th>order_purchase_timestamp</th>\n",
              "      <th>order_approved_at</th>\n",
              "      <th>order_delivered_carrier_date</th>\n",
              "      <th>order_delivered_customer_date</th>\n",
              "      <th>order_estimated_delivery_date</th>\n",
              "      <th>order_item_id</th>\n",
              "      <th>product_id</th>\n",
              "      <th>seller_id</th>\n",
              "      <th>shipping_limit_date</th>\n",
              "      <th>price</th>\n",
              "      <th>freight_value</th>\n",
              "      <th>total_price</th>\n",
              "      <th>payment_sequential</th>\n",
              "      <th>payment_type</th>\n",
              "      <th>payment_installments</th>\n",
              "      <th>payment_value</th>\n",
              "    </tr>\n",
              "  </thead>\n",
              "  <tbody>\n",
              "    <tr>\n",
              "      <th>79537</th>\n",
              "      <td>61fc33807aeed929a157ce216496e6d1</td>\n",
              "      <td>418df4354874776f10838d1b905a3f65</td>\n",
              "      <td>delivered</td>\n",
              "      <td>2017-05-07 14:31:46</td>\n",
              "      <td>2017-05-07 14:41:58</td>\n",
              "      <td>2017-05-09 10:39:33</td>\n",
              "      <td>2017-05-15 09:49:59</td>\n",
              "      <td>2017-06-05</td>\n",
              "      <td>1</td>\n",
              "      <td>ef30fdd053284aaffa42dfd5612b66d8</td>\n",
              "      <td>066a6914e1ebf3ea95a216c73a986b91</td>\n",
              "      <td>2017-05-16 14:41:58</td>\n",
              "      <td>379.00</td>\n",
              "      <td>17.40</td>\n",
              "      <td>379.00</td>\n",
              "      <td>1</td>\n",
              "      <td>credit_card</td>\n",
              "      <td>10</td>\n",
              "      <td>396.40</td>\n",
              "    </tr>\n",
              "    <tr>\n",
              "      <th>58691</th>\n",
              "      <td>6b8a860cec63279fe49b5649ca6bab42</td>\n",
              "      <td>81d7e215787f9556b381145e2ac7d9f2</td>\n",
              "      <td>delivered</td>\n",
              "      <td>2017-09-10 12:11:43</td>\n",
              "      <td>2017-09-12 04:23:54</td>\n",
              "      <td>2017-09-15 21:39:56</td>\n",
              "      <td>2017-09-26 16:29:13</td>\n",
              "      <td>2017-10-02</td>\n",
              "      <td>1</td>\n",
              "      <td>b1287ed5e48382f6d6e5e1c561ac3738</td>\n",
              "      <td>d354c38a7182125a748cb10474fe963b</td>\n",
              "      <td>2017-09-18 04:23:54</td>\n",
              "      <td>69.99</td>\n",
              "      <td>15.24</td>\n",
              "      <td>69.99</td>\n",
              "      <td>1</td>\n",
              "      <td>boleto</td>\n",
              "      <td>1</td>\n",
              "      <td>85.23</td>\n",
              "    </tr>\n",
              "    <tr>\n",
              "      <th>29967</th>\n",
              "      <td>4d9f516707478b41c5932a3a3fcfb733</td>\n",
              "      <td>a9d950ed5c897a58ed2214e0d90b0356</td>\n",
              "      <td>delivered</td>\n",
              "      <td>2017-03-14 11:05:20</td>\n",
              "      <td>2017-03-14 11:05:20</td>\n",
              "      <td>2017-03-16 06:43:33</td>\n",
              "      <td>2017-03-23 09:52:35</td>\n",
              "      <td>2017-04-11</td>\n",
              "      <td>1</td>\n",
              "      <td>7c1bd920dbdf22470b68bde975dd3ccf</td>\n",
              "      <td>cc419e0650a3c5ba77189a1882b7556a</td>\n",
              "      <td>2017-03-23 11:05:20</td>\n",
              "      <td>64.99</td>\n",
              "      <td>16.15</td>\n",
              "      <td>64.99</td>\n",
              "      <td>1</td>\n",
              "      <td>boleto</td>\n",
              "      <td>1</td>\n",
              "      <td>81.14</td>\n",
              "    </tr>\n",
              "  </tbody>\n",
              "</table>\n",
              "</div>"
            ],
            "text/plain": [
              "                               order_id                       customer_id  \\\n",
              "79537  61fc33807aeed929a157ce216496e6d1  418df4354874776f10838d1b905a3f65   \n",
              "58691  6b8a860cec63279fe49b5649ca6bab42  81d7e215787f9556b381145e2ac7d9f2   \n",
              "29967  4d9f516707478b41c5932a3a3fcfb733  a9d950ed5c897a58ed2214e0d90b0356   \n",
              "\n",
              "      order_status order_purchase_timestamp   order_approved_at  \\\n",
              "79537    delivered      2017-05-07 14:31:46 2017-05-07 14:41:58   \n",
              "58691    delivered      2017-09-10 12:11:43 2017-09-12 04:23:54   \n",
              "29967    delivered      2017-03-14 11:05:20 2017-03-14 11:05:20   \n",
              "\n",
              "      order_delivered_carrier_date order_delivered_customer_date  \\\n",
              "79537          2017-05-09 10:39:33           2017-05-15 09:49:59   \n",
              "58691          2017-09-15 21:39:56           2017-09-26 16:29:13   \n",
              "29967          2017-03-16 06:43:33           2017-03-23 09:52:35   \n",
              "\n",
              "      order_estimated_delivery_date  order_item_id  \\\n",
              "79537                    2017-06-05              1   \n",
              "58691                    2017-10-02              1   \n",
              "29967                    2017-04-11              1   \n",
              "\n",
              "                             product_id                         seller_id  \\\n",
              "79537  ef30fdd053284aaffa42dfd5612b66d8  066a6914e1ebf3ea95a216c73a986b91   \n",
              "58691  b1287ed5e48382f6d6e5e1c561ac3738  d354c38a7182125a748cb10474fe963b   \n",
              "29967  7c1bd920dbdf22470b68bde975dd3ccf  cc419e0650a3c5ba77189a1882b7556a   \n",
              "\n",
              "      shipping_limit_date   price  freight_value  total_price  \\\n",
              "79537 2017-05-16 14:41:58  379.00          17.40       379.00   \n",
              "58691 2017-09-18 04:23:54   69.99          15.24        69.99   \n",
              "29967 2017-03-23 11:05:20   64.99          16.15        64.99   \n",
              "\n",
              "       payment_sequential payment_type  payment_installments  payment_value  \n",
              "79537                   1  credit_card                    10         396.40  \n",
              "58691                   1       boleto                     1          85.23  \n",
              "29967                   1       boleto                     1          81.14  "
            ]
          },
          "execution_count": 86,
          "metadata": {},
          "output_type": "execute_result"
        }
      ],
      "source": [
        "orders_items_payments = pd.merge(left=orders_items, right=order_payments, on='order_id')\n",
        "print(orders_items_payments.shape)\n",
        "orders_items_payments.sample(3)\n",
        "# world.continent.value_counts()"
      ]
    },
    {
      "cell_type": "code",
      "execution_count": 92,
      "metadata": {},
      "outputs": [
        {
          "data": {
            "text/html": [
              "<div>\n",
              "<style scoped>\n",
              "    .dataframe tbody tr th:only-of-type {\n",
              "        vertical-align: middle;\n",
              "    }\n",
              "\n",
              "    .dataframe tbody tr th {\n",
              "        vertical-align: top;\n",
              "    }\n",
              "\n",
              "    .dataframe thead th {\n",
              "        text-align: right;\n",
              "    }\n",
              "</style>\n",
              "<table border=\"1\" class=\"dataframe\">\n",
              "  <thead>\n",
              "    <tr style=\"text-align: right;\">\n",
              "      <th></th>\n",
              "      <th>order_id</th>\n",
              "      <th>customer_id</th>\n",
              "      <th>order_status</th>\n",
              "      <th>order_purchase_timestamp</th>\n",
              "      <th>order_approved_at</th>\n",
              "      <th>order_delivered_carrier_date</th>\n",
              "      <th>order_delivered_customer_date</th>\n",
              "      <th>order_estimated_delivery_date</th>\n",
              "      <th>order_item_id</th>\n",
              "      <th>product_id</th>\n",
              "      <th>...</th>\n",
              "      <th>payment_sequential</th>\n",
              "      <th>payment_type</th>\n",
              "      <th>payment_installments</th>\n",
              "      <th>payment_value</th>\n",
              "      <th>review_id</th>\n",
              "      <th>review_score</th>\n",
              "      <th>review_comment_title</th>\n",
              "      <th>review_comment_message</th>\n",
              "      <th>review_creation_date</th>\n",
              "      <th>review_answer_timestamp</th>\n",
              "    </tr>\n",
              "  </thead>\n",
              "  <tbody>\n",
              "    <tr>\n",
              "      <th>59904</th>\n",
              "      <td>c2ebe69807422446d5e8edb2060da5e9</td>\n",
              "      <td>63f9f01b26b742afbd95beb988883c52</td>\n",
              "      <td>delivered</td>\n",
              "      <td>2018-03-05 03:46:04</td>\n",
              "      <td>2018-03-06 03:50:56</td>\n",
              "      <td>2018-03-08 22:18:31</td>\n",
              "      <td>2018-04-04 19:47:59</td>\n",
              "      <td>2018-04-17</td>\n",
              "      <td>1</td>\n",
              "      <td>0a04ebe637717bf7f0a9290adb51971f</td>\n",
              "      <td>...</td>\n",
              "      <td>1</td>\n",
              "      <td>boleto</td>\n",
              "      <td>1</td>\n",
              "      <td>200.05</td>\n",
              "      <td>ef68cb63e9831882c77c30cc0de9858d</td>\n",
              "      <td>2</td>\n",
              "      <td>NaN</td>\n",
              "      <td>NaN</td>\n",
              "      <td>2018-04-05</td>\n",
              "      <td>2018-04-18 14:39:23</td>\n",
              "    </tr>\n",
              "    <tr>\n",
              "      <th>21656</th>\n",
              "      <td>861d85972797c770a5139774b13efc48</td>\n",
              "      <td>4bd28e750151e0fcc738533e973a01b8</td>\n",
              "      <td>delivered</td>\n",
              "      <td>2017-07-26 16:44:38</td>\n",
              "      <td>2017-07-27 11:43:26</td>\n",
              "      <td>2017-07-27 18:51:54</td>\n",
              "      <td>2017-08-04 20:22:34</td>\n",
              "      <td>2017-08-21</td>\n",
              "      <td>1</td>\n",
              "      <td>4520766ec412348b8d4caa5e8a18c464</td>\n",
              "      <td>...</td>\n",
              "      <td>1</td>\n",
              "      <td>boleto</td>\n",
              "      <td>1</td>\n",
              "      <td>55.10</td>\n",
              "      <td>8ff95067fcb029ce2cea8a57a93f5f77</td>\n",
              "      <td>4</td>\n",
              "      <td>NaN</td>\n",
              "      <td>Entrega rápida e produto perfeito.</td>\n",
              "      <td>2017-08-05</td>\n",
              "      <td>2017-08-08 13:52:42</td>\n",
              "    </tr>\n",
              "    <tr>\n",
              "      <th>84594</th>\n",
              "      <td>ddaacb72e21c68c2863a84aa4b3e281d</td>\n",
              "      <td>0a00fd16d3a68e73856892a6a30201f8</td>\n",
              "      <td>delivered</td>\n",
              "      <td>2017-10-20 15:37:43</td>\n",
              "      <td>2017-10-20 17:28:31</td>\n",
              "      <td>2017-10-23 17:27:39</td>\n",
              "      <td>2017-10-24 20:28:56</td>\n",
              "      <td>2017-11-01</td>\n",
              "      <td>2</td>\n",
              "      <td>56eb39314ca59c39efa1e28beb073abe</td>\n",
              "      <td>...</td>\n",
              "      <td>1</td>\n",
              "      <td>credit_card</td>\n",
              "      <td>2</td>\n",
              "      <td>60.36</td>\n",
              "      <td>b558dc55f741b1a5ed3c2b47b67e8049</td>\n",
              "      <td>5</td>\n",
              "      <td>NaN</td>\n",
              "      <td>Lindas, amei, veio certinho o meu produtos.</td>\n",
              "      <td>2017-10-25</td>\n",
              "      <td>2017-10-25 17:24:32</td>\n",
              "    </tr>\n",
              "  </tbody>\n",
              "</table>\n",
              "<p>3 rows × 25 columns</p>\n",
              "</div>"
            ],
            "text/plain": [
              "                               order_id                       customer_id  \\\n",
              "59904  c2ebe69807422446d5e8edb2060da5e9  63f9f01b26b742afbd95beb988883c52   \n",
              "21656  861d85972797c770a5139774b13efc48  4bd28e750151e0fcc738533e973a01b8   \n",
              "84594  ddaacb72e21c68c2863a84aa4b3e281d  0a00fd16d3a68e73856892a6a30201f8   \n",
              "\n",
              "      order_status order_purchase_timestamp   order_approved_at  \\\n",
              "59904    delivered      2018-03-05 03:46:04 2018-03-06 03:50:56   \n",
              "21656    delivered      2017-07-26 16:44:38 2017-07-27 11:43:26   \n",
              "84594    delivered      2017-10-20 15:37:43 2017-10-20 17:28:31   \n",
              "\n",
              "      order_delivered_carrier_date order_delivered_customer_date  \\\n",
              "59904          2018-03-08 22:18:31           2018-04-04 19:47:59   \n",
              "21656          2017-07-27 18:51:54           2017-08-04 20:22:34   \n",
              "84594          2017-10-23 17:27:39           2017-10-24 20:28:56   \n",
              "\n",
              "      order_estimated_delivery_date  order_item_id  \\\n",
              "59904                    2018-04-17              1   \n",
              "21656                    2017-08-21              1   \n",
              "84594                    2017-11-01              2   \n",
              "\n",
              "                             product_id  ... payment_sequential payment_type  \\\n",
              "59904  0a04ebe637717bf7f0a9290adb51971f  ...                  1       boleto   \n",
              "21656  4520766ec412348b8d4caa5e8a18c464  ...                  1       boleto   \n",
              "84594  56eb39314ca59c39efa1e28beb073abe  ...                  1  credit_card   \n",
              "\n",
              "       payment_installments  payment_value                         review_id  \\\n",
              "59904                     1         200.05  ef68cb63e9831882c77c30cc0de9858d   \n",
              "21656                     1          55.10  8ff95067fcb029ce2cea8a57a93f5f77   \n",
              "84594                     2          60.36  b558dc55f741b1a5ed3c2b47b67e8049   \n",
              "\n",
              "       review_score review_comment_title  \\\n",
              "59904             2                  NaN   \n",
              "21656             4                  NaN   \n",
              "84594             5                  NaN   \n",
              "\n",
              "                            review_comment_message  review_creation_date  \\\n",
              "59904                                          NaN            2018-04-05   \n",
              "21656           Entrega rápida e produto perfeito.            2017-08-05   \n",
              "84594  Lindas, amei, veio certinho o meu produtos.            2017-10-25   \n",
              "\n",
              "      review_answer_timestamp  \n",
              "59904     2018-04-18 14:39:23  \n",
              "21656     2017-08-08 13:52:42  \n",
              "84594     2017-10-25 17:24:32  \n",
              "\n",
              "[3 rows x 25 columns]"
            ]
          },
          "execution_count": 92,
          "metadata": {},
          "output_type": "execute_result"
        }
      ],
      "source": [
        "all_orders = pd.merge(left=orders_items_payments, right=order_reviews, on='order_id')\n",
        "all_orders.sample(3)"
      ]
    },
    {
      "cell_type": "code",
      "execution_count": 94,
      "metadata": {},
      "outputs": [
        {
          "name": "stdout",
          "output_type": "stream",
          "text": [
            "(32951, 9)\n"
          ]
        },
        {
          "data": {
            "text/html": [
              "<div>\n",
              "<style scoped>\n",
              "    .dataframe tbody tr th:only-of-type {\n",
              "        vertical-align: middle;\n",
              "    }\n",
              "\n",
              "    .dataframe tbody tr th {\n",
              "        vertical-align: top;\n",
              "    }\n",
              "\n",
              "    .dataframe thead th {\n",
              "        text-align: right;\n",
              "    }\n",
              "</style>\n",
              "<table border=\"1\" class=\"dataframe\">\n",
              "  <thead>\n",
              "    <tr style=\"text-align: right;\">\n",
              "      <th></th>\n",
              "      <th>product_id</th>\n",
              "      <th>product_category_name</th>\n",
              "      <th>product_name_lenght</th>\n",
              "      <th>product_description_lenght</th>\n",
              "      <th>product_photos_qty</th>\n",
              "      <th>product_weight_g</th>\n",
              "      <th>product_length_cm</th>\n",
              "      <th>product_height_cm</th>\n",
              "      <th>product_width_cm</th>\n",
              "    </tr>\n",
              "  </thead>\n",
              "  <tbody>\n",
              "    <tr>\n",
              "      <th>24353</th>\n",
              "      <td>9545d45c37449ccbc376de3a04c66e71</td>\n",
              "      <td>beleza_saude</td>\n",
              "      <td>39.0</td>\n",
              "      <td>1749.0</td>\n",
              "      <td>1.0</td>\n",
              "      <td>1350.0</td>\n",
              "      <td>27.0</td>\n",
              "      <td>9.0</td>\n",
              "      <td>18.0</td>\n",
              "    </tr>\n",
              "    <tr>\n",
              "      <th>10906</th>\n",
              "      <td>dea0538113c6e4b96b4d34f5ad453075</td>\n",
              "      <td>informatica_acessorios</td>\n",
              "      <td>59.0</td>\n",
              "      <td>569.0</td>\n",
              "      <td>1.0</td>\n",
              "      <td>5275.0</td>\n",
              "      <td>45.0</td>\n",
              "      <td>27.0</td>\n",
              "      <td>31.0</td>\n",
              "    </tr>\n",
              "    <tr>\n",
              "      <th>26015</th>\n",
              "      <td>a177ae30ef17394975b58f6d5883a56f</td>\n",
              "      <td>pet_shop</td>\n",
              "      <td>47.0</td>\n",
              "      <td>725.0</td>\n",
              "      <td>6.0</td>\n",
              "      <td>14150.0</td>\n",
              "      <td>45.0</td>\n",
              "      <td>20.0</td>\n",
              "      <td>35.0</td>\n",
              "    </tr>\n",
              "  </tbody>\n",
              "</table>\n",
              "</div>"
            ],
            "text/plain": [
              "                             product_id   product_category_name  \\\n",
              "24353  9545d45c37449ccbc376de3a04c66e71            beleza_saude   \n",
              "10906  dea0538113c6e4b96b4d34f5ad453075  informatica_acessorios   \n",
              "26015  a177ae30ef17394975b58f6d5883a56f                pet_shop   \n",
              "\n",
              "       product_name_lenght  product_description_lenght  product_photos_qty  \\\n",
              "24353                 39.0                      1749.0                 1.0   \n",
              "10906                 59.0                       569.0                 1.0   \n",
              "26015                 47.0                       725.0                 6.0   \n",
              "\n",
              "       product_weight_g  product_length_cm  product_height_cm  \\\n",
              "24353            1350.0               27.0                9.0   \n",
              "10906            5275.0               45.0               27.0   \n",
              "26015           14150.0               45.0               20.0   \n",
              "\n",
              "       product_width_cm  \n",
              "24353              18.0  \n",
              "10906              31.0  \n",
              "26015              35.0  "
            ]
          },
          "execution_count": 94,
          "metadata": {},
          "output_type": "execute_result"
        }
      ],
      "source": [
        "print(products.shape)\n",
        "products.sample(3)"
      ]
    },
    {
      "cell_type": "code",
      "execution_count": 95,
      "metadata": {},
      "outputs": [
        {
          "name": "stdout",
          "output_type": "stream",
          "text": [
            "(71, 2)\n"
          ]
        },
        {
          "data": {
            "text/html": [
              "<div>\n",
              "<style scoped>\n",
              "    .dataframe tbody tr th:only-of-type {\n",
              "        vertical-align: middle;\n",
              "    }\n",
              "\n",
              "    .dataframe tbody tr th {\n",
              "        vertical-align: top;\n",
              "    }\n",
              "\n",
              "    .dataframe thead th {\n",
              "        text-align: right;\n",
              "    }\n",
              "</style>\n",
              "<table border=\"1\" class=\"dataframe\">\n",
              "  <thead>\n",
              "    <tr style=\"text-align: right;\">\n",
              "      <th></th>\n",
              "      <th>product_category_name</th>\n",
              "      <th>product_category_name_english</th>\n",
              "    </tr>\n",
              "  </thead>\n",
              "  <tbody>\n",
              "    <tr>\n",
              "      <th>20</th>\n",
              "      <td>audio</td>\n",
              "      <td>audio</td>\n",
              "    </tr>\n",
              "    <tr>\n",
              "      <th>14</th>\n",
              "      <td>brinquedos</td>\n",
              "      <td>toys</td>\n",
              "    </tr>\n",
              "    <tr>\n",
              "      <th>64</th>\n",
              "      <td>cds_dvds_musicais</td>\n",
              "      <td>cds_dvds_musicals</td>\n",
              "    </tr>\n",
              "  </tbody>\n",
              "</table>\n",
              "</div>"
            ],
            "text/plain": [
              "   product_category_name product_category_name_english\n",
              "20                 audio                         audio\n",
              "14            brinquedos                          toys\n",
              "64     cds_dvds_musicais             cds_dvds_musicals"
            ]
          },
          "execution_count": 95,
          "metadata": {},
          "output_type": "execute_result"
        }
      ],
      "source": [
        "print(product_cat_name.shape)\n",
        "product_cat_name.sample(3)"
      ]
    },
    {
      "cell_type": "code",
      "execution_count": 97,
      "metadata": {},
      "outputs": [
        {
          "name": "stdout",
          "output_type": "stream",
          "text": [
            "(32328, 10)\n"
          ]
        },
        {
          "data": {
            "text/html": [
              "<div>\n",
              "<style scoped>\n",
              "    .dataframe tbody tr th:only-of-type {\n",
              "        vertical-align: middle;\n",
              "    }\n",
              "\n",
              "    .dataframe tbody tr th {\n",
              "        vertical-align: top;\n",
              "    }\n",
              "\n",
              "    .dataframe thead th {\n",
              "        text-align: right;\n",
              "    }\n",
              "</style>\n",
              "<table border=\"1\" class=\"dataframe\">\n",
              "  <thead>\n",
              "    <tr style=\"text-align: right;\">\n",
              "      <th></th>\n",
              "      <th>product_id</th>\n",
              "      <th>product_category_name</th>\n",
              "      <th>product_name_lenght</th>\n",
              "      <th>product_description_lenght</th>\n",
              "      <th>product_photos_qty</th>\n",
              "      <th>product_weight_g</th>\n",
              "      <th>product_length_cm</th>\n",
              "      <th>product_height_cm</th>\n",
              "      <th>product_width_cm</th>\n",
              "      <th>product_category_name_english</th>\n",
              "    </tr>\n",
              "  </thead>\n",
              "  <tbody>\n",
              "    <tr>\n",
              "      <th>2630</th>\n",
              "      <td>3e67af30c5e3eae465fbf496aa88fc8b</td>\n",
              "      <td>esporte_lazer</td>\n",
              "      <td>46.0</td>\n",
              "      <td>1352.0</td>\n",
              "      <td>3.0</td>\n",
              "      <td>450.0</td>\n",
              "      <td>28.0</td>\n",
              "      <td>13.0</td>\n",
              "      <td>24.0</td>\n",
              "      <td>sports_leisure</td>\n",
              "    </tr>\n",
              "    <tr>\n",
              "      <th>9469</th>\n",
              "      <td>c7d729c7966df13084efeade5576dfef</td>\n",
              "      <td>moveis_decoracao</td>\n",
              "      <td>58.0</td>\n",
              "      <td>779.0</td>\n",
              "      <td>3.0</td>\n",
              "      <td>9450.0</td>\n",
              "      <td>16.0</td>\n",
              "      <td>80.0</td>\n",
              "      <td>50.0</td>\n",
              "      <td>furniture_decor</td>\n",
              "    </tr>\n",
              "    <tr>\n",
              "      <th>24788</th>\n",
              "      <td>b1ffef38f0db9fb4e1a6f91b47ec63d4</td>\n",
              "      <td>telefonia</td>\n",
              "      <td>45.0</td>\n",
              "      <td>636.0</td>\n",
              "      <td>2.0</td>\n",
              "      <td>100.0</td>\n",
              "      <td>20.0</td>\n",
              "      <td>20.0</td>\n",
              "      <td>20.0</td>\n",
              "      <td>telephony</td>\n",
              "    </tr>\n",
              "  </tbody>\n",
              "</table>\n",
              "</div>"
            ],
            "text/plain": [
              "                             product_id product_category_name  \\\n",
              "2630   3e67af30c5e3eae465fbf496aa88fc8b         esporte_lazer   \n",
              "9469   c7d729c7966df13084efeade5576dfef      moveis_decoracao   \n",
              "24788  b1ffef38f0db9fb4e1a6f91b47ec63d4             telefonia   \n",
              "\n",
              "       product_name_lenght  product_description_lenght  product_photos_qty  \\\n",
              "2630                  46.0                      1352.0                 3.0   \n",
              "9469                  58.0                       779.0                 3.0   \n",
              "24788                 45.0                       636.0                 2.0   \n",
              "\n",
              "       product_weight_g  product_length_cm  product_height_cm  \\\n",
              "2630              450.0               28.0               13.0   \n",
              "9469             9450.0               16.0               80.0   \n",
              "24788             100.0               20.0               20.0   \n",
              "\n",
              "       product_width_cm product_category_name_english  \n",
              "2630               24.0                sports_leisure  \n",
              "9469               50.0               furniture_decor  \n",
              "24788              20.0                     telephony  "
            ]
          },
          "execution_count": 97,
          "metadata": {},
          "output_type": "execute_result"
        }
      ],
      "source": [
        "products_cat_name_translation = pd.merge(left=products, right=product_cat_name, on='product_category_name')\n",
        "print(products_cat_name_translation.shape)\n",
        "products_cat_name_translation.sample(3)"
      ]
    },
    {
      "cell_type": "markdown",
      "metadata": {},
      "source": [
        "#### Merger customer, order and product"
      ]
    },
    {
      "cell_type": "code",
      "execution_count": 100,
      "metadata": {},
      "outputs": [
        {
          "name": "stdout",
          "output_type": "stream",
          "text": [
            "(115609, 38)\n"
          ]
        },
        {
          "data": {
            "text/html": [
              "<div>\n",
              "<style scoped>\n",
              "    .dataframe tbody tr th:only-of-type {\n",
              "        vertical-align: middle;\n",
              "    }\n",
              "\n",
              "    .dataframe tbody tr th {\n",
              "        vertical-align: top;\n",
              "    }\n",
              "\n",
              "    .dataframe thead th {\n",
              "        text-align: right;\n",
              "    }\n",
              "</style>\n",
              "<table border=\"1\" class=\"dataframe\">\n",
              "  <thead>\n",
              "    <tr style=\"text-align: right;\">\n",
              "      <th></th>\n",
              "      <th>order_id</th>\n",
              "      <th>customer_id</th>\n",
              "      <th>order_status</th>\n",
              "      <th>order_purchase_timestamp</th>\n",
              "      <th>order_approved_at</th>\n",
              "      <th>order_delivered_carrier_date</th>\n",
              "      <th>order_delivered_customer_date</th>\n",
              "      <th>order_estimated_delivery_date</th>\n",
              "      <th>order_item_id</th>\n",
              "      <th>product_id</th>\n",
              "      <th>...</th>\n",
              "      <th>customer_state</th>\n",
              "      <th>product_category_name</th>\n",
              "      <th>product_name_lenght</th>\n",
              "      <th>product_description_lenght</th>\n",
              "      <th>product_photos_qty</th>\n",
              "      <th>product_weight_g</th>\n",
              "      <th>product_length_cm</th>\n",
              "      <th>product_height_cm</th>\n",
              "      <th>product_width_cm</th>\n",
              "      <th>product_category_name_english</th>\n",
              "    </tr>\n",
              "  </thead>\n",
              "  <tbody>\n",
              "    <tr>\n",
              "      <th>109531</th>\n",
              "      <td>59c0ed646a3b30d4054298988188486f</td>\n",
              "      <td>8ba643878d111b600a1a781ae8ec0983</td>\n",
              "      <td>delivered</td>\n",
              "      <td>2017-11-20 20:41:26</td>\n",
              "      <td>2017-11-20 20:56:22</td>\n",
              "      <td>2017-11-21 19:51:40</td>\n",
              "      <td>2017-11-30 19:53:08</td>\n",
              "      <td>2017-12-11</td>\n",
              "      <td>2</td>\n",
              "      <td>99c88c191bbed92f5be4ca3b00eb1a42</td>\n",
              "      <td>...</td>\n",
              "      <td>RJ</td>\n",
              "      <td>cama_mesa_banho</td>\n",
              "      <td>55.0</td>\n",
              "      <td>615.0</td>\n",
              "      <td>1.0</td>\n",
              "      <td>450.0</td>\n",
              "      <td>16.0</td>\n",
              "      <td>10.0</td>\n",
              "      <td>16.0</td>\n",
              "      <td>bed_bath_table</td>\n",
              "    </tr>\n",
              "    <tr>\n",
              "      <th>43136</th>\n",
              "      <td>366fb8cd92296c6541132ab4cbb28bac</td>\n",
              "      <td>841841043bf76dbb83f79c7a36dcf24b</td>\n",
              "      <td>delivered</td>\n",
              "      <td>2017-08-25 10:04:15</td>\n",
              "      <td>2017-08-25 10:15:19</td>\n",
              "      <td>2017-08-28 16:13:18</td>\n",
              "      <td>2017-08-30 16:03:37</td>\n",
              "      <td>2017-09-18</td>\n",
              "      <td>1</td>\n",
              "      <td>bdef57e26e989447aaf5ae0f7ccadf23</td>\n",
              "      <td>...</td>\n",
              "      <td>SP</td>\n",
              "      <td>esporte_lazer</td>\n",
              "      <td>34.0</td>\n",
              "      <td>733.0</td>\n",
              "      <td>1.0</td>\n",
              "      <td>233.0</td>\n",
              "      <td>17.0</td>\n",
              "      <td>15.0</td>\n",
              "      <td>16.0</td>\n",
              "      <td>sports_leisure</td>\n",
              "    </tr>\n",
              "    <tr>\n",
              "      <th>58344</th>\n",
              "      <td>f12388e0e8c7694fc38c8de19261054c</td>\n",
              "      <td>de481cb60487d1171ef850f3d818467c</td>\n",
              "      <td>delivered</td>\n",
              "      <td>2018-02-24 18:03:19</td>\n",
              "      <td>2018-02-26 17:30:05</td>\n",
              "      <td>2018-02-28 13:05:51</td>\n",
              "      <td>2018-04-18 13:08:46</td>\n",
              "      <td>2018-03-23</td>\n",
              "      <td>1</td>\n",
              "      <td>afc6bc70dc56fcf15c7f9f1e4bc67dda</td>\n",
              "      <td>...</td>\n",
              "      <td>RJ</td>\n",
              "      <td>utilidades_domesticas</td>\n",
              "      <td>59.0</td>\n",
              "      <td>303.0</td>\n",
              "      <td>1.0</td>\n",
              "      <td>9900.0</td>\n",
              "      <td>61.0</td>\n",
              "      <td>31.0</td>\n",
              "      <td>31.0</td>\n",
              "      <td>housewares</td>\n",
              "    </tr>\n",
              "    <tr>\n",
              "      <th>86857</th>\n",
              "      <td>08869d221628341d81a9dd18a07f625a</td>\n",
              "      <td>a48d8fbdbed3a8b9840c3f6bb5215a86</td>\n",
              "      <td>delivered</td>\n",
              "      <td>2018-05-06 22:31:38</td>\n",
              "      <td>2018-05-08 19:35:27</td>\n",
              "      <td>2018-05-10 15:09:00</td>\n",
              "      <td>2018-05-18 20:12:41</td>\n",
              "      <td>2018-05-23</td>\n",
              "      <td>1</td>\n",
              "      <td>0983cd4a5cabf1099659ce461511963c</td>\n",
              "      <td>...</td>\n",
              "      <td>MG</td>\n",
              "      <td>beleza_saude</td>\n",
              "      <td>58.0</td>\n",
              "      <td>1307.0</td>\n",
              "      <td>1.0</td>\n",
              "      <td>350.0</td>\n",
              "      <td>35.0</td>\n",
              "      <td>16.0</td>\n",
              "      <td>20.0</td>\n",
              "      <td>health_beauty</td>\n",
              "    </tr>\n",
              "    <tr>\n",
              "      <th>6815</th>\n",
              "      <td>d486475824974ef6fb73375f5a50e465</td>\n",
              "      <td>2dbc6c19eaeb265c5bed88607eb98f21</td>\n",
              "      <td>delivered</td>\n",
              "      <td>2017-06-23 22:04:36</td>\n",
              "      <td>2017-06-23 22:15:19</td>\n",
              "      <td>2017-06-28 12:15:28</td>\n",
              "      <td>2017-07-04 07:34:35</td>\n",
              "      <td>2017-07-19</td>\n",
              "      <td>1</td>\n",
              "      <td>283dc451ad3918badb976d56ff887289</td>\n",
              "      <td>...</td>\n",
              "      <td>ES</td>\n",
              "      <td>cama_mesa_banho</td>\n",
              "      <td>58.0</td>\n",
              "      <td>188.0</td>\n",
              "      <td>1.0</td>\n",
              "      <td>1650.0</td>\n",
              "      <td>44.0</td>\n",
              "      <td>2.0</td>\n",
              "      <td>35.0</td>\n",
              "      <td>bed_bath_table</td>\n",
              "    </tr>\n",
              "  </tbody>\n",
              "</table>\n",
              "<p>5 rows × 38 columns</p>\n",
              "</div>"
            ],
            "text/plain": [
              "                                order_id                       customer_id  \\\n",
              "109531  59c0ed646a3b30d4054298988188486f  8ba643878d111b600a1a781ae8ec0983   \n",
              "43136   366fb8cd92296c6541132ab4cbb28bac  841841043bf76dbb83f79c7a36dcf24b   \n",
              "58344   f12388e0e8c7694fc38c8de19261054c  de481cb60487d1171ef850f3d818467c   \n",
              "86857   08869d221628341d81a9dd18a07f625a  a48d8fbdbed3a8b9840c3f6bb5215a86   \n",
              "6815    d486475824974ef6fb73375f5a50e465  2dbc6c19eaeb265c5bed88607eb98f21   \n",
              "\n",
              "       order_status order_purchase_timestamp   order_approved_at  \\\n",
              "109531    delivered      2017-11-20 20:41:26 2017-11-20 20:56:22   \n",
              "43136     delivered      2017-08-25 10:04:15 2017-08-25 10:15:19   \n",
              "58344     delivered      2018-02-24 18:03:19 2018-02-26 17:30:05   \n",
              "86857     delivered      2018-05-06 22:31:38 2018-05-08 19:35:27   \n",
              "6815      delivered      2017-06-23 22:04:36 2017-06-23 22:15:19   \n",
              "\n",
              "       order_delivered_carrier_date order_delivered_customer_date  \\\n",
              "109531          2017-11-21 19:51:40           2017-11-30 19:53:08   \n",
              "43136           2017-08-28 16:13:18           2017-08-30 16:03:37   \n",
              "58344           2018-02-28 13:05:51           2018-04-18 13:08:46   \n",
              "86857           2018-05-10 15:09:00           2018-05-18 20:12:41   \n",
              "6815            2017-06-28 12:15:28           2017-07-04 07:34:35   \n",
              "\n",
              "       order_estimated_delivery_date  order_item_id  \\\n",
              "109531                    2017-12-11              2   \n",
              "43136                     2017-09-18              1   \n",
              "58344                     2018-03-23              1   \n",
              "86857                     2018-05-23              1   \n",
              "6815                      2017-07-19              1   \n",
              "\n",
              "                              product_id  ... customer_state  \\\n",
              "109531  99c88c191bbed92f5be4ca3b00eb1a42  ...             RJ   \n",
              "43136   bdef57e26e989447aaf5ae0f7ccadf23  ...             SP   \n",
              "58344   afc6bc70dc56fcf15c7f9f1e4bc67dda  ...             RJ   \n",
              "86857   0983cd4a5cabf1099659ce461511963c  ...             MG   \n",
              "6815    283dc451ad3918badb976d56ff887289  ...             ES   \n",
              "\n",
              "        product_category_name  product_name_lenght  \\\n",
              "109531        cama_mesa_banho                 55.0   \n",
              "43136           esporte_lazer                 34.0   \n",
              "58344   utilidades_domesticas                 59.0   \n",
              "86857            beleza_saude                 58.0   \n",
              "6815          cama_mesa_banho                 58.0   \n",
              "\n",
              "        product_description_lenght  product_photos_qty  product_weight_g  \\\n",
              "109531                       615.0                 1.0             450.0   \n",
              "43136                        733.0                 1.0             233.0   \n",
              "58344                        303.0                 1.0            9900.0   \n",
              "86857                       1307.0                 1.0             350.0   \n",
              "6815                         188.0                 1.0            1650.0   \n",
              "\n",
              "       product_length_cm  product_height_cm  product_width_cm  \\\n",
              "109531              16.0               10.0              16.0   \n",
              "43136               17.0               15.0              16.0   \n",
              "58344               61.0               31.0              31.0   \n",
              "86857               35.0               16.0              20.0   \n",
              "6815                44.0                2.0              35.0   \n",
              "\n",
              "       product_category_name_english  \n",
              "109531                bed_bath_table  \n",
              "43136                 sports_leisure  \n",
              "58344                     housewares  \n",
              "86857                  health_beauty  \n",
              "6815                  bed_bath_table  \n",
              "\n",
              "[5 rows x 38 columns]"
            ]
          },
          "execution_count": 100,
          "metadata": {},
          "output_type": "execute_result"
        }
      ],
      "source": [
        "order_cust = pd.merge(left=all_orders, right=customers, on='customer_id')\n",
        "all_dataset = pd.merge(left=order_cust, right=products_cat_name_translation, on='product_id')\n",
        "print(all_dataset.shape)\n",
        "all_dataset.sample(5)"
      ]
    },
    {
      "cell_type": "markdown",
      "metadata": {
        "id": "SCNmtOLp9OKB"
      },
      "source": [
        "## Visualization & Explanatory Analysis"
      ]
    },
    {
      "cell_type": "markdown",
      "metadata": {
        "id": "SG59_Fbj9Qr6"
      },
      "source": [
        "### Pertanyaan 1: dimana saja kota tempat tinggal customer dan kota mana yang paling banyak, dari wilayah tsb dimana order paling banyak"
      ]
    },
    {
      "cell_type": "code",
      "execution_count": null,
      "metadata": {
        "id": "dtRoaxqd9PdU"
      },
      "outputs": [],
      "source": []
    },
    {
      "cell_type": "markdown",
      "metadata": {
        "id": "F2Bo_ypQ9RfH"
      },
      "source": [
        "### Pertanyaan 2: produk apa saja yang paling banyak diorder"
      ]
    },
    {
      "cell_type": "code",
      "execution_count": null,
      "metadata": {
        "id": "jkO5kTJq9S1Y"
      },
      "outputs": [],
      "source": []
    },
    {
      "cell_type": "markdown",
      "metadata": {},
      "source": [
        "### Pertanyaan 3: apa saja produk dengan skor review yang baik"
      ]
    },
    {
      "cell_type": "code",
      "execution_count": null,
      "metadata": {},
      "outputs": [],
      "source": []
    },
    {
      "cell_type": "markdown",
      "metadata": {},
      "source": [
        "### Pertanyaan 4: bagaimana presentase status order"
      ]
    },
    {
      "cell_type": "markdown",
      "metadata": {},
      "source": [
        "### Pertanyaan 5: produk yang paling mahal"
      ]
    },
    {
      "cell_type": "markdown",
      "metadata": {},
      "source": [
        "### Pertanyaan 6: bagaimana analisis RFMnya"
      ]
    },
    {
      "cell_type": "markdown",
      "metadata": {},
      "source": [
        "### Pertanyaan 7: bagaimana geoanalisis antara order, customer dan seller"
      ]
    },
    {
      "cell_type": "code",
      "execution_count": null,
      "metadata": {},
      "outputs": [],
      "source": []
    },
    {
      "cell_type": "markdown",
      "metadata": {
        "id": "J2CnXYGT9Tc2"
      },
      "source": [
        "## Conclusion"
      ]
    },
    {
      "cell_type": "markdown",
      "metadata": {
        "id": "f73FBkLw9V8C"
      },
      "source": [
        "- Conclution pertanyaan 1\n",
        "- conclution pertanyaan 2"
      ]
    },
    {
      "cell_type": "code",
      "execution_count": null,
      "metadata": {
        "id": "b32P72p99VN9"
      },
      "outputs": [],
      "source": []
    }
  ],
  "metadata": {
    "colab": {
      "provenance": []
    },
    "kernelspec": {
      "display_name": "Python 3",
      "name": "python3"
    },
    "language_info": {
      "codemirror_mode": {
        "name": "ipython",
        "version": 3
      },
      "file_extension": ".py",
      "mimetype": "text/x-python",
      "name": "python",
      "nbconvert_exporter": "python",
      "pygments_lexer": "ipython3",
      "version": "3.10.0"
    }
  },
  "nbformat": 4,
  "nbformat_minor": 0
}
