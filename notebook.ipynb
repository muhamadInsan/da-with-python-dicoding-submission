{
  "cells": [
    {
      "cell_type": "markdown",
      "metadata": {
        "id": "cP5zh7Ww85Fm"
      },
      "source": [
        "# Proyek Analisis Data: Nama dataset\n",
        "- Nama: Muhamad Insan Rahmatuloh\n",
        "- Email: muhamad.insan.r@gmail.com\n",
        "- Id Dicoding:"
      ]
    },
    {
      "cell_type": "markdown",
      "metadata": {
        "id": "ggwOFmpI88dG"
      },
      "source": [
        "## Menentukan Pertanyaan Bisnis"
      ]
    },
    {
      "cell_type": "markdown",
      "metadata": {
        "id": "6irqmTtg8-IC"
      },
      "source": [
        "- dimana saja kota tempat tinggal customer dan kota mana yang paling banyak\n",
        "- dari wilayah tsb dimana order paling banyak\n",
        "- produk apa saja yang paling banyak diorder\n",
        "- apa saja produk dengan skor review yang baik\n",
        "- bagaimana presentase status order\n",
        "- produk yang paling mahal \n",
        "- bagaimana analisis RFMnya\n",
        "- bagaimana geoanalisis antara order, customer dan seller"
      ]
    },
    {
      "cell_type": "markdown",
      "metadata": {
        "id": "EueHsNk89AsY"
      },
      "source": [
        "## Menyaipkan semua library yang dibuthkan"
      ]
    },
    {
      "cell_type": "code",
      "execution_count": 1,
      "metadata": {
        "id": "4cmWv4qc8xWu"
      },
      "outputs": [],
      "source": [
        "import pandas as pd\n",
        "import geopandas as gpd\n",
        "import numpy as np\n",
        "import matplotlib.pyplot as plt\n",
        "import plotly.express as px\n",
        "import seaborn as sns\n",
        "from scipy import stats"
      ]
    },
    {
      "cell_type": "markdown",
      "metadata": {
        "id": "7DwSpkkZ9BqV"
      },
      "source": [
        "## Data Wrangling"
      ]
    },
    {
      "cell_type": "markdown",
      "metadata": {
        "id": "ZuJuLGxe9D9O"
      },
      "source": [
        "### Gathering Data "
      ]
    },
    {
      "cell_type": "code",
      "execution_count": 2,
      "metadata": {
        "id": "Rg3wtvOr9DUm"
      },
      "outputs": [],
      "source": [
        "customers = pd.read_csv('data/E-Commerce Public Dataset/customers_dataset.csv')\n",
        "geolocation = gpd.read_file('data/E-Commerce Public Dataset/geolocation_dataset.csv')\n",
        "# geo_location = gpd.GeoDataFrame(geolocation, geometry=gpd.points_from_xy(geolocation['geolocation_lng'], geolocation['geolocation_lat']))\n",
        "# geo_location.crs = {'init':'epsg:4326'}\n",
        "order_items = pd.read_csv('data/E-Commerce Public Dataset/order_items_dataset.csv')\n",
        "order_payments = pd.read_csv('data/E-Commerce Public Dataset/order_payments_dataset.csv')\n",
        "order_reviews = pd.read_csv('data/E-Commerce Public Dataset/order_reviews_dataset.csv')\n",
        "orders = pd.read_csv('data/E-Commerce Public Dataset/orders_dataset.csv')\n",
        "product_cat_name = pd.read_csv('data/E-Commerce Public Dataset/product_category_name_translation.csv')\n",
        "products = pd.read_csv('data/E-Commerce Public Dataset/products_dataset.csv')\n",
        "sellers = pd.read_csv('data/E-Commerce Public Dataset/sellers_dataset.csv')\n"
      ]
    },
    {
      "cell_type": "markdown",
      "metadata": {
        "id": "BvZAfrSH9F2U"
      },
      "source": [
        "### Assessing Data"
      ]
    },
    {
      "cell_type": "markdown",
      "metadata": {},
      "source": [
        "#### Customers"
      ]
    },
    {
      "cell_type": "code",
      "execution_count": 3,
      "metadata": {
        "id": "fx7PaLsV9G8M"
      },
      "outputs": [
        {
          "data": {
            "text/html": [
              "<div>\n",
              "<style scoped>\n",
              "    .dataframe tbody tr th:only-of-type {\n",
              "        vertical-align: middle;\n",
              "    }\n",
              "\n",
              "    .dataframe tbody tr th {\n",
              "        vertical-align: top;\n",
              "    }\n",
              "\n",
              "    .dataframe thead th {\n",
              "        text-align: right;\n",
              "    }\n",
              "</style>\n",
              "<table border=\"1\" class=\"dataframe\">\n",
              "  <thead>\n",
              "    <tr style=\"text-align: right;\">\n",
              "      <th></th>\n",
              "      <th>customer_id</th>\n",
              "      <th>customer_unique_id</th>\n",
              "      <th>customer_zip_code_prefix</th>\n",
              "      <th>customer_city</th>\n",
              "      <th>customer_state</th>\n",
              "    </tr>\n",
              "  </thead>\n",
              "  <tbody>\n",
              "    <tr>\n",
              "      <th>33685</th>\n",
              "      <td>8b395f74a33054bc1e054c5b9348df51</td>\n",
              "      <td>8b843efe35f8a54b66f7abf3e460e84d</td>\n",
              "      <td>14750</td>\n",
              "      <td>pitangueiras</td>\n",
              "      <td>SP</td>\n",
              "    </tr>\n",
              "    <tr>\n",
              "      <th>29286</th>\n",
              "      <td>1b85ef7130ec3eedf81c37b98cfd9b40</td>\n",
              "      <td>4ffc8b4c0b31be69c7faa74d49b76858</td>\n",
              "      <td>30770</td>\n",
              "      <td>belo horizonte</td>\n",
              "      <td>MG</td>\n",
              "    </tr>\n",
              "    <tr>\n",
              "      <th>3472</th>\n",
              "      <td>ab7c123c62153f2fd23fd5d2a89cf967</td>\n",
              "      <td>854db8619db888f8301fe3aac4e3a7e3</td>\n",
              "      <td>33030</td>\n",
              "      <td>santa luzia</td>\n",
              "      <td>MG</td>\n",
              "    </tr>\n",
              "    <tr>\n",
              "      <th>84255</th>\n",
              "      <td>442a8d84f052ca755b763932022a8bdf</td>\n",
              "      <td>b179fc545496f717862f81b86b2525fa</td>\n",
              "      <td>7081</td>\n",
              "      <td>guarulhos</td>\n",
              "      <td>SP</td>\n",
              "    </tr>\n",
              "    <tr>\n",
              "      <th>18464</th>\n",
              "      <td>00ca4dec2a491c4c1a9081a3c5a1e8b1</td>\n",
              "      <td>a296cb7b16ea56f1ffe6c09fa429ede2</td>\n",
              "      <td>72920</td>\n",
              "      <td>aguas lindas de goias</td>\n",
              "      <td>GO</td>\n",
              "    </tr>\n",
              "    <tr>\n",
              "      <th>43627</th>\n",
              "      <td>22a330de6f63a8d1631ce94b17a4fafe</td>\n",
              "      <td>d2dbd5be475f37efe006c1de35e5db92</td>\n",
              "      <td>29360</td>\n",
              "      <td>castelo</td>\n",
              "      <td>ES</td>\n",
              "    </tr>\n",
              "    <tr>\n",
              "      <th>61290</th>\n",
              "      <td>dcf31fde264db06111ff12f30253f3aa</td>\n",
              "      <td>56c73ec350b2f12203423892fdc32d14</td>\n",
              "      <td>13635</td>\n",
              "      <td>pirassununga</td>\n",
              "      <td>SP</td>\n",
              "    </tr>\n",
              "    <tr>\n",
              "      <th>67431</th>\n",
              "      <td>d8377b6daad072b33c9ceb27d1331c56</td>\n",
              "      <td>141f1b86e17cb7921456186ece44c70e</td>\n",
              "      <td>13972</td>\n",
              "      <td>itapira</td>\n",
              "      <td>SP</td>\n",
              "    </tr>\n",
              "    <tr>\n",
              "      <th>66967</th>\n",
              "      <td>99a5a40178ddd41b526250426a60f363</td>\n",
              "      <td>8816ea7c1592bcab312eae9352996067</td>\n",
              "      <td>38060</td>\n",
              "      <td>uberaba</td>\n",
              "      <td>MG</td>\n",
              "    </tr>\n",
              "    <tr>\n",
              "      <th>71475</th>\n",
              "      <td>9c9383c705961b79ab63c2626c0ee484</td>\n",
              "      <td>8a7432d16aec9c2e4e40cdcbca613710</td>\n",
              "      <td>14405</td>\n",
              "      <td>franca</td>\n",
              "      <td>SP</td>\n",
              "    </tr>\n",
              "  </tbody>\n",
              "</table>\n",
              "</div>"
            ],
            "text/plain": [
              "                            customer_id                customer_unique_id  \\\n",
              "33685  8b395f74a33054bc1e054c5b9348df51  8b843efe35f8a54b66f7abf3e460e84d   \n",
              "29286  1b85ef7130ec3eedf81c37b98cfd9b40  4ffc8b4c0b31be69c7faa74d49b76858   \n",
              "3472   ab7c123c62153f2fd23fd5d2a89cf967  854db8619db888f8301fe3aac4e3a7e3   \n",
              "84255  442a8d84f052ca755b763932022a8bdf  b179fc545496f717862f81b86b2525fa   \n",
              "18464  00ca4dec2a491c4c1a9081a3c5a1e8b1  a296cb7b16ea56f1ffe6c09fa429ede2   \n",
              "43627  22a330de6f63a8d1631ce94b17a4fafe  d2dbd5be475f37efe006c1de35e5db92   \n",
              "61290  dcf31fde264db06111ff12f30253f3aa  56c73ec350b2f12203423892fdc32d14   \n",
              "67431  d8377b6daad072b33c9ceb27d1331c56  141f1b86e17cb7921456186ece44c70e   \n",
              "66967  99a5a40178ddd41b526250426a60f363  8816ea7c1592bcab312eae9352996067   \n",
              "71475  9c9383c705961b79ab63c2626c0ee484  8a7432d16aec9c2e4e40cdcbca613710   \n",
              "\n",
              "       customer_zip_code_prefix          customer_city customer_state  \n",
              "33685                     14750           pitangueiras             SP  \n",
              "29286                     30770         belo horizonte             MG  \n",
              "3472                      33030            santa luzia             MG  \n",
              "84255                      7081              guarulhos             SP  \n",
              "18464                     72920  aguas lindas de goias             GO  \n",
              "43627                     29360                castelo             ES  \n",
              "61290                     13635           pirassununga             SP  \n",
              "67431                     13972                itapira             SP  \n",
              "66967                     38060                uberaba             MG  \n",
              "71475                     14405                 franca             SP  "
            ]
          },
          "execution_count": 3,
          "metadata": {},
          "output_type": "execute_result"
        }
      ],
      "source": [
        "customers.sample(10)"
      ]
    },
    {
      "cell_type": "code",
      "execution_count": 4,
      "metadata": {},
      "outputs": [
        {
          "data": {
            "text/plain": [
              "(99441, 5)"
            ]
          },
          "execution_count": 4,
          "metadata": {},
          "output_type": "execute_result"
        }
      ],
      "source": [
        "customers.shape"
      ]
    },
    {
      "cell_type": "code",
      "execution_count": 5,
      "metadata": {},
      "outputs": [
        {
          "name": "stdout",
          "output_type": "stream",
          "text": [
            "<class 'pandas.core.frame.DataFrame'>\n",
            "RangeIndex: 99441 entries, 0 to 99440\n",
            "Data columns (total 5 columns):\n",
            " #   Column                    Non-Null Count  Dtype \n",
            "---  ------                    --------------  ----- \n",
            " 0   customer_id               99441 non-null  object\n",
            " 1   customer_unique_id        99441 non-null  object\n",
            " 2   customer_zip_code_prefix  99441 non-null  int64 \n",
            " 3   customer_city             99441 non-null  object\n",
            " 4   customer_state            99441 non-null  object\n",
            "dtypes: int64(1), object(4)\n",
            "memory usage: 3.8+ MB\n"
          ]
        }
      ],
      "source": [
        "customers.info()"
      ]
    },
    {
      "cell_type": "markdown",
      "metadata": {},
      "source": [
        "#### Geolocation"
      ]
    },
    {
      "cell_type": "code",
      "execution_count": 6,
      "metadata": {},
      "outputs": [
        {
          "data": {
            "text/html": [
              "<div>\n",
              "<style scoped>\n",
              "    .dataframe tbody tr th:only-of-type {\n",
              "        vertical-align: middle;\n",
              "    }\n",
              "\n",
              "    .dataframe tbody tr th {\n",
              "        vertical-align: top;\n",
              "    }\n",
              "\n",
              "    .dataframe thead th {\n",
              "        text-align: right;\n",
              "    }\n",
              "</style>\n",
              "<table border=\"1\" class=\"dataframe\">\n",
              "  <thead>\n",
              "    <tr style=\"text-align: right;\">\n",
              "      <th></th>\n",
              "      <th>geolocation_zip_code_prefix</th>\n",
              "      <th>geolocation_lat</th>\n",
              "      <th>geolocation_lng</th>\n",
              "      <th>geolocation_city</th>\n",
              "      <th>geolocation_state</th>\n",
              "      <th>geometry</th>\n",
              "    </tr>\n",
              "  </thead>\n",
              "  <tbody>\n",
              "    <tr>\n",
              "      <th>290013</th>\n",
              "      <td>13069</td>\n",
              "      <td>-22.83980681848347</td>\n",
              "      <td>-47.153912537191985</td>\n",
              "      <td>campinas</td>\n",
              "      <td>SP</td>\n",
              "      <td>None</td>\n",
              "    </tr>\n",
              "    <tr>\n",
              "      <th>977904</th>\n",
              "      <td>96170</td>\n",
              "      <td>-31.364009273801184</td>\n",
              "      <td>-51.98014679238661</td>\n",
              "      <td>sao lourenco do sul</td>\n",
              "      <td>RS</td>\n",
              "      <td>None</td>\n",
              "    </tr>\n",
              "    <tr>\n",
              "      <th>433506</th>\n",
              "      <td>21746</td>\n",
              "      <td>-22.88165100360668</td>\n",
              "      <td>-43.40406456994057</td>\n",
              "      <td>rio de janeiro</td>\n",
              "      <td>RJ</td>\n",
              "      <td>None</td>\n",
              "    </tr>\n",
              "    <tr>\n",
              "      <th>579957</th>\n",
              "      <td>33600</td>\n",
              "      <td>-19.56724090895775</td>\n",
              "      <td>-44.038438179275936</td>\n",
              "      <td>pedro leopoldo</td>\n",
              "      <td>MG</td>\n",
              "      <td>None</td>\n",
              "    </tr>\n",
              "    <tr>\n",
              "      <th>937330</th>\n",
              "      <td>89887</td>\n",
              "      <td>-27.07645513819596</td>\n",
              "      <td>-53.159268080786326</td>\n",
              "      <td>palmitos</td>\n",
              "      <td>SC</td>\n",
              "      <td>None</td>\n",
              "    </tr>\n",
              "  </tbody>\n",
              "</table>\n",
              "</div>"
            ],
            "text/plain": [
              "       geolocation_zip_code_prefix      geolocation_lat      geolocation_lng  \\\n",
              "290013                       13069   -22.83980681848347  -47.153912537191985   \n",
              "977904                       96170  -31.364009273801184   -51.98014679238661   \n",
              "433506                       21746   -22.88165100360668   -43.40406456994057   \n",
              "579957                       33600   -19.56724090895775  -44.038438179275936   \n",
              "937330                       89887   -27.07645513819596  -53.159268080786326   \n",
              "\n",
              "           geolocation_city geolocation_state geometry  \n",
              "290013             campinas                SP     None  \n",
              "977904  sao lourenco do sul                RS     None  \n",
              "433506       rio de janeiro                RJ     None  \n",
              "579957       pedro leopoldo                MG     None  \n",
              "937330             palmitos                SC     None  "
            ]
          },
          "execution_count": 6,
          "metadata": {},
          "output_type": "execute_result"
        }
      ],
      "source": [
        "geolocation.sample(5)"
      ]
    },
    {
      "cell_type": "code",
      "execution_count": 7,
      "metadata": {},
      "outputs": [
        {
          "data": {
            "text/plain": [
              "(1000163, 6)"
            ]
          },
          "execution_count": 7,
          "metadata": {},
          "output_type": "execute_result"
        }
      ],
      "source": [
        "geolocation.shape"
      ]
    },
    {
      "cell_type": "code",
      "execution_count": 8,
      "metadata": {},
      "outputs": [
        {
          "name": "stdout",
          "output_type": "stream",
          "text": [
            "<class 'geopandas.geodataframe.GeoDataFrame'>\n",
            "RangeIndex: 1000163 entries, 0 to 1000162\n",
            "Data columns (total 6 columns):\n",
            " #   Column                       Non-Null Count    Dtype   \n",
            "---  ------                       --------------    -----   \n",
            " 0   geolocation_zip_code_prefix  1000163 non-null  object  \n",
            " 1   geolocation_lat              1000163 non-null  object  \n",
            " 2   geolocation_lng              1000163 non-null  object  \n",
            " 3   geolocation_city             1000163 non-null  object  \n",
            " 4   geolocation_state            1000163 non-null  object  \n",
            " 5   geometry                     0 non-null        geometry\n",
            "dtypes: geometry(1), object(5)\n",
            "memory usage: 45.8+ MB\n"
          ]
        }
      ],
      "source": [
        "geolocation.info()"
      ]
    },
    {
      "cell_type": "code",
      "execution_count": 9,
      "metadata": {},
      "outputs": [
        {
          "data": {
            "text/plain": [
              "geolocation_state\n",
              "SP    404268\n",
              "MG    126336\n",
              "RJ    121169\n",
              "RS     61851\n",
              "PR     57859\n",
              "SC     38328\n",
              "BA     36045\n",
              "GO     20139\n",
              "ES     16748\n",
              "PE     16432\n",
              "DF     12986\n",
              "MT     12031\n",
              "CE     11674\n",
              "PA     10853\n",
              "MS     10431\n",
              "MA      7853\n",
              "PB      5538\n",
              "RN      5041\n",
              "PI      4549\n",
              "AL      4183\n",
              "TO      3576\n",
              "SE      3563\n",
              "RO      3478\n",
              "AM      2432\n",
              "AC      1301\n",
              "AP       853\n",
              "RR       646\n",
              "Name: count, dtype: int64"
            ]
          },
          "execution_count": 9,
          "metadata": {},
          "output_type": "execute_result"
        }
      ],
      "source": [
        "geolocation.geolocation_state.value_counts()"
      ]
    },
    {
      "cell_type": "markdown",
      "metadata": {},
      "source": [
        "#### Order Items"
      ]
    },
    {
      "cell_type": "code",
      "execution_count": 10,
      "metadata": {},
      "outputs": [
        {
          "data": {
            "text/html": [
              "<div>\n",
              "<style scoped>\n",
              "    .dataframe tbody tr th:only-of-type {\n",
              "        vertical-align: middle;\n",
              "    }\n",
              "\n",
              "    .dataframe tbody tr th {\n",
              "        vertical-align: top;\n",
              "    }\n",
              "\n",
              "    .dataframe thead th {\n",
              "        text-align: right;\n",
              "    }\n",
              "</style>\n",
              "<table border=\"1\" class=\"dataframe\">\n",
              "  <thead>\n",
              "    <tr style=\"text-align: right;\">\n",
              "      <th></th>\n",
              "      <th>order_id</th>\n",
              "      <th>order_item_id</th>\n",
              "      <th>product_id</th>\n",
              "      <th>seller_id</th>\n",
              "      <th>shipping_limit_date</th>\n",
              "      <th>price</th>\n",
              "      <th>freight_value</th>\n",
              "    </tr>\n",
              "  </thead>\n",
              "  <tbody>\n",
              "    <tr>\n",
              "      <th>3436</th>\n",
              "      <td>07c09839b4951ac37863cf9f0f79dedf</td>\n",
              "      <td>1</td>\n",
              "      <td>5be51b87d3f543e942bb8299c5bd4423</td>\n",
              "      <td>6b243f80ed07b10f0e8aa0f21a205f3c</td>\n",
              "      <td>2018-05-14 04:32:20</td>\n",
              "      <td>54.90</td>\n",
              "      <td>15.26</td>\n",
              "    </tr>\n",
              "    <tr>\n",
              "      <th>50369</th>\n",
              "      <td>7277412b4dabb3b15f3511cc78e81125</td>\n",
              "      <td>1</td>\n",
              "      <td>aca2eb7d00ea1a7b8ebd4e68314663af</td>\n",
              "      <td>955fee9216a65b617aa5c0531780ce60</td>\n",
              "      <td>2018-03-30 02:28:34</td>\n",
              "      <td>69.90</td>\n",
              "      <td>12.43</td>\n",
              "    </tr>\n",
              "    <tr>\n",
              "      <th>47972</th>\n",
              "      <td>6d08b9609c4e0cb107497f8307539077</td>\n",
              "      <td>1</td>\n",
              "      <td>a59fb60fddcc72a9878b7ed5cb69d8e4</td>\n",
              "      <td>7040e82f899a04d1b434b795a43b4617</td>\n",
              "      <td>2018-05-17 22:10:23</td>\n",
              "      <td>14.90</td>\n",
              "      <td>15.23</td>\n",
              "    </tr>\n",
              "    <tr>\n",
              "      <th>78439</th>\n",
              "      <td>b275756d48e9c633331d56a9caedf3ab</td>\n",
              "      <td>1</td>\n",
              "      <td>21b8d4953c15b92f2f965c89dc35f5ad</td>\n",
              "      <td>c714262700f93defc16bf17a51a4cb23</td>\n",
              "      <td>2018-05-21 01:16:14</td>\n",
              "      <td>79.99</td>\n",
              "      <td>27.00</td>\n",
              "    </tr>\n",
              "    <tr>\n",
              "      <th>32442</th>\n",
              "      <td>498964d3c3eddfc0d670e6be2ea2d5b2</td>\n",
              "      <td>1</td>\n",
              "      <td>3fbc0ef745950c7932d5f2a446189725</td>\n",
              "      <td>06a2c3af7b3aee5d69171b0e14f0ee87</td>\n",
              "      <td>2018-05-16 11:55:21</td>\n",
              "      <td>64.99</td>\n",
              "      <td>13.02</td>\n",
              "    </tr>\n",
              "  </tbody>\n",
              "</table>\n",
              "</div>"
            ],
            "text/plain": [
              "                               order_id  order_item_id  \\\n",
              "3436   07c09839b4951ac37863cf9f0f79dedf              1   \n",
              "50369  7277412b4dabb3b15f3511cc78e81125              1   \n",
              "47972  6d08b9609c4e0cb107497f8307539077              1   \n",
              "78439  b275756d48e9c633331d56a9caedf3ab              1   \n",
              "32442  498964d3c3eddfc0d670e6be2ea2d5b2              1   \n",
              "\n",
              "                             product_id                         seller_id  \\\n",
              "3436   5be51b87d3f543e942bb8299c5bd4423  6b243f80ed07b10f0e8aa0f21a205f3c   \n",
              "50369  aca2eb7d00ea1a7b8ebd4e68314663af  955fee9216a65b617aa5c0531780ce60   \n",
              "47972  a59fb60fddcc72a9878b7ed5cb69d8e4  7040e82f899a04d1b434b795a43b4617   \n",
              "78439  21b8d4953c15b92f2f965c89dc35f5ad  c714262700f93defc16bf17a51a4cb23   \n",
              "32442  3fbc0ef745950c7932d5f2a446189725  06a2c3af7b3aee5d69171b0e14f0ee87   \n",
              "\n",
              "       shipping_limit_date  price  freight_value  \n",
              "3436   2018-05-14 04:32:20  54.90          15.26  \n",
              "50369  2018-03-30 02:28:34  69.90          12.43  \n",
              "47972  2018-05-17 22:10:23  14.90          15.23  \n",
              "78439  2018-05-21 01:16:14  79.99          27.00  \n",
              "32442  2018-05-16 11:55:21  64.99          13.02  "
            ]
          },
          "execution_count": 10,
          "metadata": {},
          "output_type": "execute_result"
        }
      ],
      "source": [
        "order_items.sample(5)"
      ]
    },
    {
      "cell_type": "code",
      "execution_count": 11,
      "metadata": {},
      "outputs": [
        {
          "data": {
            "text/plain": [
              "(112650, 7)"
            ]
          },
          "execution_count": 11,
          "metadata": {},
          "output_type": "execute_result"
        }
      ],
      "source": [
        "order_items.shape"
      ]
    },
    {
      "cell_type": "code",
      "execution_count": 12,
      "metadata": {},
      "outputs": [
        {
          "name": "stdout",
          "output_type": "stream",
          "text": [
            "<class 'pandas.core.frame.DataFrame'>\n",
            "RangeIndex: 112650 entries, 0 to 112649\n",
            "Data columns (total 7 columns):\n",
            " #   Column               Non-Null Count   Dtype  \n",
            "---  ------               --------------   -----  \n",
            " 0   order_id             112650 non-null  object \n",
            " 1   order_item_id        112650 non-null  int64  \n",
            " 2   product_id           112650 non-null  object \n",
            " 3   seller_id            112650 non-null  object \n",
            " 4   shipping_limit_date  112650 non-null  object \n",
            " 5   price                112650 non-null  float64\n",
            " 6   freight_value        112650 non-null  float64\n",
            "dtypes: float64(2), int64(1), object(4)\n",
            "memory usage: 6.0+ MB\n"
          ]
        }
      ],
      "source": [
        "order_items.info()"
      ]
    },
    {
      "cell_type": "code",
      "execution_count": 13,
      "metadata": {},
      "outputs": [
        {
          "data": {
            "text/html": [
              "<div>\n",
              "<style scoped>\n",
              "    .dataframe tbody tr th:only-of-type {\n",
              "        vertical-align: middle;\n",
              "    }\n",
              "\n",
              "    .dataframe tbody tr th {\n",
              "        vertical-align: top;\n",
              "    }\n",
              "\n",
              "    .dataframe thead th {\n",
              "        text-align: right;\n",
              "    }\n",
              "</style>\n",
              "<table border=\"1\" class=\"dataframe\">\n",
              "  <thead>\n",
              "    <tr style=\"text-align: right;\">\n",
              "      <th></th>\n",
              "      <th>order_item_id</th>\n",
              "      <th>price</th>\n",
              "      <th>freight_value</th>\n",
              "    </tr>\n",
              "  </thead>\n",
              "  <tbody>\n",
              "    <tr>\n",
              "      <th>count</th>\n",
              "      <td>112650.000000</td>\n",
              "      <td>112650.000000</td>\n",
              "      <td>112650.000000</td>\n",
              "    </tr>\n",
              "    <tr>\n",
              "      <th>mean</th>\n",
              "      <td>1.197834</td>\n",
              "      <td>120.653739</td>\n",
              "      <td>19.990320</td>\n",
              "    </tr>\n",
              "    <tr>\n",
              "      <th>std</th>\n",
              "      <td>0.705124</td>\n",
              "      <td>183.633928</td>\n",
              "      <td>15.806405</td>\n",
              "    </tr>\n",
              "    <tr>\n",
              "      <th>min</th>\n",
              "      <td>1.000000</td>\n",
              "      <td>0.850000</td>\n",
              "      <td>0.000000</td>\n",
              "    </tr>\n",
              "    <tr>\n",
              "      <th>25%</th>\n",
              "      <td>1.000000</td>\n",
              "      <td>39.900000</td>\n",
              "      <td>13.080000</td>\n",
              "    </tr>\n",
              "    <tr>\n",
              "      <th>50%</th>\n",
              "      <td>1.000000</td>\n",
              "      <td>74.990000</td>\n",
              "      <td>16.260000</td>\n",
              "    </tr>\n",
              "    <tr>\n",
              "      <th>75%</th>\n",
              "      <td>1.000000</td>\n",
              "      <td>134.900000</td>\n",
              "      <td>21.150000</td>\n",
              "    </tr>\n",
              "    <tr>\n",
              "      <th>max</th>\n",
              "      <td>21.000000</td>\n",
              "      <td>6735.000000</td>\n",
              "      <td>409.680000</td>\n",
              "    </tr>\n",
              "  </tbody>\n",
              "</table>\n",
              "</div>"
            ],
            "text/plain": [
              "       order_item_id          price  freight_value\n",
              "count  112650.000000  112650.000000  112650.000000\n",
              "mean        1.197834     120.653739      19.990320\n",
              "std         0.705124     183.633928      15.806405\n",
              "min         1.000000       0.850000       0.000000\n",
              "25%         1.000000      39.900000      13.080000\n",
              "50%         1.000000      74.990000      16.260000\n",
              "75%         1.000000     134.900000      21.150000\n",
              "max        21.000000    6735.000000     409.680000"
            ]
          },
          "execution_count": 13,
          "metadata": {},
          "output_type": "execute_result"
        }
      ],
      "source": [
        "order_items.describe()"
      ]
    },
    {
      "cell_type": "code",
      "execution_count": 14,
      "metadata": {},
      "outputs": [
        {
          "data": {
            "text/plain": [
              "<Axes: ylabel='Count'>"
            ]
          },
          "execution_count": 14,
          "metadata": {},
          "output_type": "execute_result"
        },
        {
          "data": {
            "image/png": "[encoded data removed]",
            "text/plain": [
              "<Figure size 640x480 with 1 Axes>"
            ]
          },
          "metadata": {},
          "output_type": "display_data"
        }
      ],
      "source": [
        "normal_price = stats.boxcox(order_items.price)\n",
        "sns.histplot(normal_price[0],  kde=True)"
      ]
    },
    {
      "cell_type": "markdown",
      "metadata": {},
      "source": [
        "#### Order Payments"
      ]
    },
    {
      "cell_type": "code",
      "execution_count": 15,
      "metadata": {},
      "outputs": [
        {
          "data": {
            "text/html": [
              "<div>\n",
              "<style scoped>\n",
              "    .dataframe tbody tr th:only-of-type {\n",
              "        vertical-align: middle;\n",
              "    }\n",
              "\n",
              "    .dataframe tbody tr th {\n",
              "        vertical-align: top;\n",
              "    }\n",
              "\n",
              "    .dataframe thead th {\n",
              "        text-align: right;\n",
              "    }\n",
              "</style>\n",
              "<table border=\"1\" class=\"dataframe\">\n",
              "  <thead>\n",
              "    <tr style=\"text-align: right;\">\n",
              "      <th></th>\n",
              "      <th>order_id</th>\n",
              "      <th>payment_sequential</th>\n",
              "      <th>payment_type</th>\n",
              "      <th>payment_installments</th>\n",
              "      <th>payment_value</th>\n",
              "    </tr>\n",
              "  </thead>\n",
              "  <tbody>\n",
              "    <tr>\n",
              "      <th>79865</th>\n",
              "      <td>d9f44a4c9cc80a15b120c0d93b195105</td>\n",
              "      <td>1</td>\n",
              "      <td>credit_card</td>\n",
              "      <td>3</td>\n",
              "      <td>144.21</td>\n",
              "    </tr>\n",
              "    <tr>\n",
              "      <th>92789</th>\n",
              "      <td>88ce73cc24548143016810f81a9e53d4</td>\n",
              "      <td>1</td>\n",
              "      <td>credit_card</td>\n",
              "      <td>10</td>\n",
              "      <td>2026.54</td>\n",
              "    </tr>\n",
              "    <tr>\n",
              "      <th>69465</th>\n",
              "      <td>31eb0eeda57ce4e970ba7b68d98ece39</td>\n",
              "      <td>1</td>\n",
              "      <td>credit_card</td>\n",
              "      <td>3</td>\n",
              "      <td>106.87</td>\n",
              "    </tr>\n",
              "    <tr>\n",
              "      <th>27866</th>\n",
              "      <td>366b94daa22781675a0ffffbcbd517a9</td>\n",
              "      <td>1</td>\n",
              "      <td>credit_card</td>\n",
              "      <td>4</td>\n",
              "      <td>296.28</td>\n",
              "    </tr>\n",
              "    <tr>\n",
              "      <th>8003</th>\n",
              "      <td>a9b67aa415d798b812b40a140b942486</td>\n",
              "      <td>2</td>\n",
              "      <td>voucher</td>\n",
              "      <td>1</td>\n",
              "      <td>100.00</td>\n",
              "    </tr>\n",
              "  </tbody>\n",
              "</table>\n",
              "</div>"
            ],
            "text/plain": [
              "                               order_id  payment_sequential payment_type  \\\n",
              "79865  d9f44a4c9cc80a15b120c0d93b195105                   1  credit_card   \n",
              "92789  88ce73cc24548143016810f81a9e53d4                   1  credit_card   \n",
              "69465  31eb0eeda57ce4e970ba7b68d98ece39                   1  credit_card   \n",
              "27866  366b94daa22781675a0ffffbcbd517a9                   1  credit_card   \n",
              "8003   a9b67aa415d798b812b40a140b942486                   2      voucher   \n",
              "\n",
              "       payment_installments  payment_value  \n",
              "79865                     3         144.21  \n",
              "92789                    10        2026.54  \n",
              "69465                     3         106.87  \n",
              "27866                     4         296.28  \n",
              "8003                      1         100.00  "
            ]
          },
          "execution_count": 15,
          "metadata": {},
          "output_type": "execute_result"
        }
      ],
      "source": [
        "order_payments.sample(5)"
      ]
    },
    {
      "cell_type": "code",
      "execution_count": 16,
      "metadata": {},
      "outputs": [
        {
          "data": {
            "text/plain": [
              "(103886, 5)"
            ]
          },
          "execution_count": 16,
          "metadata": {},
          "output_type": "execute_result"
        }
      ],
      "source": [
        "order_payments.shape"
      ]
    },
    {
      "cell_type": "code",
      "execution_count": 17,
      "metadata": {},
      "outputs": [
        {
          "name": "stdout",
          "output_type": "stream",
          "text": [
            "<class 'pandas.core.frame.DataFrame'>\n",
            "RangeIndex: 103886 entries, 0 to 103885\n",
            "Data columns (total 5 columns):\n",
            " #   Column                Non-Null Count   Dtype  \n",
            "---  ------                --------------   -----  \n",
            " 0   order_id              103886 non-null  object \n",
            " 1   payment_sequential    103886 non-null  int64  \n",
            " 2   payment_type          103886 non-null  object \n",
            " 3   payment_installments  103886 non-null  int64  \n",
            " 4   payment_value         103886 non-null  float64\n",
            "dtypes: float64(1), int64(2), object(2)\n",
            "memory usage: 4.0+ MB\n"
          ]
        }
      ],
      "source": [
        "order_payments.info()"
      ]
    },
    {
      "cell_type": "code",
      "execution_count": 18,
      "metadata": {},
      "outputs": [
        {
          "data": {
            "text/html": [
              "<div>\n",
              "<style scoped>\n",
              "    .dataframe tbody tr th:only-of-type {\n",
              "        vertical-align: middle;\n",
              "    }\n",
              "\n",
              "    .dataframe tbody tr th {\n",
              "        vertical-align: top;\n",
              "    }\n",
              "\n",
              "    .dataframe thead th {\n",
              "        text-align: right;\n",
              "    }\n",
              "</style>\n",
              "<table border=\"1\" class=\"dataframe\">\n",
              "  <thead>\n",
              "    <tr style=\"text-align: right;\">\n",
              "      <th></th>\n",
              "      <th>payment_sequential</th>\n",
              "      <th>payment_installments</th>\n",
              "      <th>payment_value</th>\n",
              "    </tr>\n",
              "  </thead>\n",
              "  <tbody>\n",
              "    <tr>\n",
              "      <th>count</th>\n",
              "      <td>103886.000000</td>\n",
              "      <td>103886.000000</td>\n",
              "      <td>103886.000000</td>\n",
              "    </tr>\n",
              "    <tr>\n",
              "      <th>mean</th>\n",
              "      <td>1.092679</td>\n",
              "      <td>2.853349</td>\n",
              "      <td>154.100380</td>\n",
              "    </tr>\n",
              "    <tr>\n",
              "      <th>std</th>\n",
              "      <td>0.706584</td>\n",
              "      <td>2.687051</td>\n",
              "      <td>217.494064</td>\n",
              "    </tr>\n",
              "    <tr>\n",
              "      <th>min</th>\n",
              "      <td>1.000000</td>\n",
              "      <td>0.000000</td>\n",
              "      <td>0.000000</td>\n",
              "    </tr>\n",
              "    <tr>\n",
              "      <th>25%</th>\n",
              "      <td>1.000000</td>\n",
              "      <td>1.000000</td>\n",
              "      <td>56.790000</td>\n",
              "    </tr>\n",
              "    <tr>\n",
              "      <th>50%</th>\n",
              "      <td>1.000000</td>\n",
              "      <td>1.000000</td>\n",
              "      <td>100.000000</td>\n",
              "    </tr>\n",
              "    <tr>\n",
              "      <th>75%</th>\n",
              "      <td>1.000000</td>\n",
              "      <td>4.000000</td>\n",
              "      <td>171.837500</td>\n",
              "    </tr>\n",
              "    <tr>\n",
              "      <th>max</th>\n",
              "      <td>29.000000</td>\n",
              "      <td>24.000000</td>\n",
              "      <td>13664.080000</td>\n",
              "    </tr>\n",
              "  </tbody>\n",
              "</table>\n",
              "</div>"
            ],
            "text/plain": [
              "       payment_sequential  payment_installments  payment_value\n",
              "count       103886.000000         103886.000000  103886.000000\n",
              "mean             1.092679              2.853349     154.100380\n",
              "std              0.706584              2.687051     217.494064\n",
              "min              1.000000              0.000000       0.000000\n",
              "25%              1.000000              1.000000      56.790000\n",
              "50%              1.000000              1.000000     100.000000\n",
              "75%              1.000000              4.000000     171.837500\n",
              "max             29.000000             24.000000   13664.080000"
            ]
          },
          "execution_count": 18,
          "metadata": {},
          "output_type": "execute_result"
        }
      ],
      "source": [
        "order_payments.describe()"
      ]
    },
    {
      "cell_type": "markdown",
      "metadata": {},
      "source": [
        "#### Orders Reviews"
      ]
    },
    {
      "cell_type": "code",
      "execution_count": 19,
      "metadata": {},
      "outputs": [
        {
          "data": {
            "text/html": [
              "<div>\n",
              "<style scoped>\n",
              "    .dataframe tbody tr th:only-of-type {\n",
              "        vertical-align: middle;\n",
              "    }\n",
              "\n",
              "    .dataframe tbody tr th {\n",
              "        vertical-align: top;\n",
              "    }\n",
              "\n",
              "    .dataframe thead th {\n",
              "        text-align: right;\n",
              "    }\n",
              "</style>\n",
              "<table border=\"1\" class=\"dataframe\">\n",
              "  <thead>\n",
              "    <tr style=\"text-align: right;\">\n",
              "      <th></th>\n",
              "      <th>review_id</th>\n",
              "      <th>order_id</th>\n",
              "      <th>review_score</th>\n",
              "      <th>review_comment_title</th>\n",
              "      <th>review_comment_message</th>\n",
              "      <th>review_creation_date</th>\n",
              "      <th>review_answer_timestamp</th>\n",
              "    </tr>\n",
              "  </thead>\n",
              "  <tbody>\n",
              "    <tr>\n",
              "      <th>4892</th>\n",
              "      <td>c4a038d20fb356e5e73266e7a87176d5</td>\n",
              "      <td>260da592a3c3072f2c3b9ddc840f8a63</td>\n",
              "      <td>5</td>\n",
              "      <td>NaN</td>\n",
              "      <td>NaN</td>\n",
              "      <td>2017-05-06 00:00:00</td>\n",
              "      <td>2017-05-09 03:38:17</td>\n",
              "    </tr>\n",
              "    <tr>\n",
              "      <th>19673</th>\n",
              "      <td>7ba96f95841f5317463f8a4bba91a879</td>\n",
              "      <td>9695692d040abab63df40b68c2905278</td>\n",
              "      <td>2</td>\n",
              "      <td>Demora na entrega</td>\n",
              "      <td>Demora na entrega</td>\n",
              "      <td>2018-05-02 00:00:00</td>\n",
              "      <td>2018-05-04 10:06:06</td>\n",
              "    </tr>\n",
              "    <tr>\n",
              "      <th>28864</th>\n",
              "      <td>08c1f078dbcffa9b6ef86ee298dd9d58</td>\n",
              "      <td>49e548b7ec1f515816b62230c96e8f74</td>\n",
              "      <td>4</td>\n",
              "      <td>NaN</td>\n",
              "      <td>NaN</td>\n",
              "      <td>2017-12-09 00:00:00</td>\n",
              "      <td>2017-12-12 04:14:01</td>\n",
              "    </tr>\n",
              "    <tr>\n",
              "      <th>11995</th>\n",
              "      <td>c5ddedbec432bbd43f61de785a4b3732</td>\n",
              "      <td>f7b6b85f6fd2cf9aac15731dca998844</td>\n",
              "      <td>4</td>\n",
              "      <td>NaN</td>\n",
              "      <td>NaN</td>\n",
              "      <td>2017-04-05 00:00:00</td>\n",
              "      <td>2017-04-07 21:03:09</td>\n",
              "    </tr>\n",
              "    <tr>\n",
              "      <th>56486</th>\n",
              "      <td>c6d31c1c2a718e630a32ee931962aa06</td>\n",
              "      <td>5d84402a7baf6ad1743c1b3ad713a615</td>\n",
              "      <td>3</td>\n",
              "      <td>NaN</td>\n",
              "      <td>NaN</td>\n",
              "      <td>2018-03-08 00:00:00</td>\n",
              "      <td>2018-03-12 12:00:02</td>\n",
              "    </tr>\n",
              "  </tbody>\n",
              "</table>\n",
              "</div>"
            ],
            "text/plain": [
              "                              review_id                          order_id  \\\n",
              "4892   c4a038d20fb356e5e73266e7a87176d5  260da592a3c3072f2c3b9ddc840f8a63   \n",
              "19673  7ba96f95841f5317463f8a4bba91a879  9695692d040abab63df40b68c2905278   \n",
              "28864  08c1f078dbcffa9b6ef86ee298dd9d58  49e548b7ec1f515816b62230c96e8f74   \n",
              "11995  c5ddedbec432bbd43f61de785a4b3732  f7b6b85f6fd2cf9aac15731dca998844   \n",
              "56486  c6d31c1c2a718e630a32ee931962aa06  5d84402a7baf6ad1743c1b3ad713a615   \n",
              "\n",
              "       review_score review_comment_title review_comment_message  \\\n",
              "4892              5                  NaN                    NaN   \n",
              "19673             2    Demora na entrega      Demora na entrega   \n",
              "28864             4                  NaN                    NaN   \n",
              "11995             4                  NaN                    NaN   \n",
              "56486             3                  NaN                    NaN   \n",
              "\n",
              "      review_creation_date review_answer_timestamp  \n",
              "4892   2017-05-06 00:00:00     2017-05-09 03:38:17  \n",
              "19673  2018-05-02 00:00:00     2018-05-04 10:06:06  \n",
              "28864  2017-12-09 00:00:00     2017-12-12 04:14:01  \n",
              "11995  2017-04-05 00:00:00     2017-04-07 21:03:09  \n",
              "56486  2018-03-08 00:00:00     2018-03-12 12:00:02  "
            ]
          },
          "execution_count": 19,
          "metadata": {},
          "output_type": "execute_result"
        }
      ],
      "source": [
        "order_reviews.sample(5)"
      ]
    },
    {
      "cell_type": "code",
      "execution_count": 20,
      "metadata": {},
      "outputs": [
        {
          "data": {
            "text/plain": [
              "(99224, 7)"
            ]
          },
          "execution_count": 20,
          "metadata": {},
          "output_type": "execute_result"
        }
      ],
      "source": [
        "order_reviews.shape"
      ]
    },
    {
      "cell_type": "code",
      "execution_count": 21,
      "metadata": {},
      "outputs": [
        {
          "name": "stdout",
          "output_type": "stream",
          "text": [
            "<class 'pandas.core.frame.DataFrame'>\n",
            "RangeIndex: 99224 entries, 0 to 99223\n",
            "Data columns (total 7 columns):\n",
            " #   Column                   Non-Null Count  Dtype \n",
            "---  ------                   --------------  ----- \n",
            " 0   review_id                99224 non-null  object\n",
            " 1   order_id                 99224 non-null  object\n",
            " 2   review_score             99224 non-null  int64 \n",
            " 3   review_comment_title     11568 non-null  object\n",
            " 4   review_comment_message   40977 non-null  object\n",
            " 5   review_creation_date     99224 non-null  object\n",
            " 6   review_answer_timestamp  99224 non-null  object\n",
            "dtypes: int64(1), object(6)\n",
            "memory usage: 5.3+ MB\n"
          ]
        }
      ],
      "source": [
        "order_reviews.info()"
      ]
    },
    {
      "cell_type": "code",
      "execution_count": 22,
      "metadata": {},
      "outputs": [
        {
          "data": {
            "text/html": [
              "<div>\n",
              "<style scoped>\n",
              "    .dataframe tbody tr th:only-of-type {\n",
              "        vertical-align: middle;\n",
              "    }\n",
              "\n",
              "    .dataframe tbody tr th {\n",
              "        vertical-align: top;\n",
              "    }\n",
              "\n",
              "    .dataframe thead th {\n",
              "        text-align: right;\n",
              "    }\n",
              "</style>\n",
              "<table border=\"1\" class=\"dataframe\">\n",
              "  <thead>\n",
              "    <tr style=\"text-align: right;\">\n",
              "      <th></th>\n",
              "      <th>review_score</th>\n",
              "    </tr>\n",
              "  </thead>\n",
              "  <tbody>\n",
              "    <tr>\n",
              "      <th>count</th>\n",
              "      <td>99224.000000</td>\n",
              "    </tr>\n",
              "    <tr>\n",
              "      <th>mean</th>\n",
              "      <td>4.086421</td>\n",
              "    </tr>\n",
              "    <tr>\n",
              "      <th>std</th>\n",
              "      <td>1.347579</td>\n",
              "    </tr>\n",
              "    <tr>\n",
              "      <th>min</th>\n",
              "      <td>1.000000</td>\n",
              "    </tr>\n",
              "    <tr>\n",
              "      <th>25%</th>\n",
              "      <td>4.000000</td>\n",
              "    </tr>\n",
              "    <tr>\n",
              "      <th>50%</th>\n",
              "      <td>5.000000</td>\n",
              "    </tr>\n",
              "    <tr>\n",
              "      <th>75%</th>\n",
              "      <td>5.000000</td>\n",
              "    </tr>\n",
              "    <tr>\n",
              "      <th>max</th>\n",
              "      <td>5.000000</td>\n",
              "    </tr>\n",
              "  </tbody>\n",
              "</table>\n",
              "</div>"
            ],
            "text/plain": [
              "       review_score\n",
              "count  99224.000000\n",
              "mean       4.086421\n",
              "std        1.347579\n",
              "min        1.000000\n",
              "25%        4.000000\n",
              "50%        5.000000\n",
              "75%        5.000000\n",
              "max        5.000000"
            ]
          },
          "execution_count": 22,
          "metadata": {},
          "output_type": "execute_result"
        }
      ],
      "source": [
        "order_reviews.describe()"
      ]
    },
    {
      "cell_type": "markdown",
      "metadata": {},
      "source": [
        "#### Orders"
      ]
    },
    {
      "cell_type": "code",
      "execution_count": 23,
      "metadata": {},
      "outputs": [
        {
          "data": {
            "text/html": [
              "<div>\n",
              "<style scoped>\n",
              "    .dataframe tbody tr th:only-of-type {\n",
              "        vertical-align: middle;\n",
              "    }\n",
              "\n",
              "    .dataframe tbody tr th {\n",
              "        vertical-align: top;\n",
              "    }\n",
              "\n",
              "    .dataframe thead th {\n",
              "        text-align: right;\n",
              "    }\n",
              "</style>\n",
              "<table border=\"1\" class=\"dataframe\">\n",
              "  <thead>\n",
              "    <tr style=\"text-align: right;\">\n",
              "      <th></th>\n",
              "      <th>order_id</th>\n",
              "      <th>customer_id</th>\n",
              "      <th>order_status</th>\n",
              "      <th>order_purchase_timestamp</th>\n",
              "      <th>order_approved_at</th>\n",
              "      <th>order_delivered_carrier_date</th>\n",
              "      <th>order_delivered_customer_date</th>\n",
              "      <th>order_estimated_delivery_date</th>\n",
              "    </tr>\n",
              "  </thead>\n",
              "  <tbody>\n",
              "    <tr>\n",
              "      <th>48702</th>\n",
              "      <td>372daad5a03ca30d47a650aa8b0194e3</td>\n",
              "      <td>18318296c91a6f9911c3aedaee70d707</td>\n",
              "      <td>delivered</td>\n",
              "      <td>2018-03-09 09:49:25</td>\n",
              "      <td>2018-03-09 10:55:23</td>\n",
              "      <td>2018-03-09 22:06:43</td>\n",
              "      <td>2018-03-10 13:21:23</td>\n",
              "      <td>2018-03-21 00:00:00</td>\n",
              "    </tr>\n",
              "    <tr>\n",
              "      <th>20755</th>\n",
              "      <td>e6af93ea6ff2947b8760af3dc581f50b</td>\n",
              "      <td>ad9b81cad36cbef93c59cad18606eb37</td>\n",
              "      <td>delivered</td>\n",
              "      <td>2018-05-12 00:20:18</td>\n",
              "      <td>2018-05-12 00:32:04</td>\n",
              "      <td>2018-05-15 08:22:00</td>\n",
              "      <td>2018-06-08 20:15:40</td>\n",
              "      <td>2018-06-04 00:00:00</td>\n",
              "    </tr>\n",
              "    <tr>\n",
              "      <th>39271</th>\n",
              "      <td>7588fbb6c9001d45b0f2bafb4be7ef56</td>\n",
              "      <td>a1c991feff10a10e9c9e4d0bad6fe1e9</td>\n",
              "      <td>delivered</td>\n",
              "      <td>2017-10-15 17:15:38</td>\n",
              "      <td>2017-10-15 17:56:25</td>\n",
              "      <td>2017-10-18 16:22:43</td>\n",
              "      <td>2017-10-25 22:02:56</td>\n",
              "      <td>2017-11-01 00:00:00</td>\n",
              "    </tr>\n",
              "    <tr>\n",
              "      <th>27950</th>\n",
              "      <td>9eba5a32e40d897f480d2404946b99e1</td>\n",
              "      <td>dc076f27547879d56468224b3055c89c</td>\n",
              "      <td>delivered</td>\n",
              "      <td>2018-01-11 18:22:07</td>\n",
              "      <td>2018-01-11 18:29:31</td>\n",
              "      <td>2018-01-13 02:45:08</td>\n",
              "      <td>2018-01-17 16:38:52</td>\n",
              "      <td>2018-02-08 00:00:00</td>\n",
              "    </tr>\n",
              "    <tr>\n",
              "      <th>78024</th>\n",
              "      <td>4de2ebda8d694076106f0a5a3ebaab1b</td>\n",
              "      <td>25b1a4dce6e22c03b3f25ea737690e7f</td>\n",
              "      <td>delivered</td>\n",
              "      <td>2017-11-30 08:33:11</td>\n",
              "      <td>2017-11-30 08:53:15</td>\n",
              "      <td>2017-11-30 19:56:10</td>\n",
              "      <td>2017-12-11 11:51:37</td>\n",
              "      <td>2017-12-28 00:00:00</td>\n",
              "    </tr>\n",
              "  </tbody>\n",
              "</table>\n",
              "</div>"
            ],
            "text/plain": [
              "                               order_id                       customer_id  \\\n",
              "48702  372daad5a03ca30d47a650aa8b0194e3  18318296c91a6f9911c3aedaee70d707   \n",
              "20755  e6af93ea6ff2947b8760af3dc581f50b  ad9b81cad36cbef93c59cad18606eb37   \n",
              "39271  7588fbb6c9001d45b0f2bafb4be7ef56  a1c991feff10a10e9c9e4d0bad6fe1e9   \n",
              "27950  9eba5a32e40d897f480d2404946b99e1  dc076f27547879d56468224b3055c89c   \n",
              "78024  4de2ebda8d694076106f0a5a3ebaab1b  25b1a4dce6e22c03b3f25ea737690e7f   \n",
              "\n",
              "      order_status order_purchase_timestamp    order_approved_at  \\\n",
              "48702    delivered      2018-03-09 09:49:25  2018-03-09 10:55:23   \n",
              "20755    delivered      2018-05-12 00:20:18  2018-05-12 00:32:04   \n",
              "39271    delivered      2017-10-15 17:15:38  2017-10-15 17:56:25   \n",
              "27950    delivered      2018-01-11 18:22:07  2018-01-11 18:29:31   \n",
              "78024    delivered      2017-11-30 08:33:11  2017-11-30 08:53:15   \n",
              "\n",
              "      order_delivered_carrier_date order_delivered_customer_date  \\\n",
              "48702          2018-03-09 22:06:43           2018-03-10 13:21:23   \n",
              "20755          2018-05-15 08:22:00           2018-06-08 20:15:40   \n",
              "39271          2017-10-18 16:22:43           2017-10-25 22:02:56   \n",
              "27950          2018-01-13 02:45:08           2018-01-17 16:38:52   \n",
              "78024          2017-11-30 19:56:10           2017-12-11 11:51:37   \n",
              "\n",
              "      order_estimated_delivery_date  \n",
              "48702           2018-03-21 00:00:00  \n",
              "20755           2018-06-04 00:00:00  \n",
              "39271           2017-11-01 00:00:00  \n",
              "27950           2018-02-08 00:00:00  \n",
              "78024           2017-12-28 00:00:00  "
            ]
          },
          "execution_count": 23,
          "metadata": {},
          "output_type": "execute_result"
        }
      ],
      "source": [
        "orders.sample(5)"
      ]
    },
    {
      "cell_type": "code",
      "execution_count": 24,
      "metadata": {},
      "outputs": [
        {
          "data": {
            "text/plain": [
              "(99441, 8)"
            ]
          },
          "execution_count": 24,
          "metadata": {},
          "output_type": "execute_result"
        }
      ],
      "source": [
        "orders.shape"
      ]
    },
    {
      "cell_type": "code",
      "execution_count": 25,
      "metadata": {},
      "outputs": [
        {
          "name": "stdout",
          "output_type": "stream",
          "text": [
            "<class 'pandas.core.frame.DataFrame'>\n",
            "RangeIndex: 99441 entries, 0 to 99440\n",
            "Data columns (total 8 columns):\n",
            " #   Column                         Non-Null Count  Dtype \n",
            "---  ------                         --------------  ----- \n",
            " 0   order_id                       99441 non-null  object\n",
            " 1   customer_id                    99441 non-null  object\n",
            " 2   order_status                   99441 non-null  object\n",
            " 3   order_purchase_timestamp       99441 non-null  object\n",
            " 4   order_approved_at              99281 non-null  object\n",
            " 5   order_delivered_carrier_date   97658 non-null  object\n",
            " 6   order_delivered_customer_date  96476 non-null  object\n",
            " 7   order_estimated_delivery_date  99441 non-null  object\n",
            "dtypes: object(8)\n",
            "memory usage: 6.1+ MB\n"
          ]
        }
      ],
      "source": [
        "orders.info()"
      ]
    },
    {
      "cell_type": "code",
      "execution_count": 26,
      "metadata": {},
      "outputs": [
        {
          "name": "stdout",
          "output_type": "stream",
          "text": [
            "<class 'pandas.core.frame.DataFrame'>\n",
            "RangeIndex: 99441 entries, 0 to 99440\n",
            "Data columns (total 8 columns):\n",
            " #   Column                         Non-Null Count  Dtype         \n",
            "---  ------                         --------------  -----         \n",
            " 0   order_id                       99441 non-null  object        \n",
            " 1   customer_id                    99441 non-null  object        \n",
            " 2   order_status                   99441 non-null  object        \n",
            " 3   order_purchase_timestamp       99441 non-null  datetime64[ns]\n",
            " 4   order_approved_at              99281 non-null  datetime64[ns]\n",
            " 5   order_delivered_carrier_date   97658 non-null  datetime64[ns]\n",
            " 6   order_delivered_customer_date  96476 non-null  datetime64[ns]\n",
            " 7   order_estimated_delivery_date  99441 non-null  datetime64[ns]\n",
            "dtypes: datetime64[ns](5), object(3)\n",
            "memory usage: 6.1+ MB\n"
          ]
        }
      ],
      "source": [
        "cols = ['order_purchase_timestamp','order_delivered_carrier_date','order_approved_at','order_delivered_customer_date','order_estimated_delivery_date']\n",
        "\n",
        "for c in cols:\n",
        "    orders[c] = pd.to_datetime(orders[c])\n",
        "\n",
        "orders.info()"
      ]
    },
    {
      "cell_type": "code",
      "execution_count": 27,
      "metadata": {},
      "outputs": [
        {
          "data": {
            "text/plain": [
              "order_id                            0\n",
              "customer_id                         0\n",
              "order_status                        0\n",
              "order_purchase_timestamp            0\n",
              "order_approved_at                 160\n",
              "order_delivered_carrier_date     1783\n",
              "order_delivered_customer_date    2965\n",
              "order_estimated_delivery_date       0\n",
              "dtype: int64"
            ]
          },
          "execution_count": 27,
          "metadata": {},
          "output_type": "execute_result"
        }
      ],
      "source": [
        "orders.isnull().sum()"
      ]
    },
    {
      "cell_type": "markdown",
      "metadata": {},
      "source": [
        "#### Product Category Name Translation"
      ]
    },
    {
      "cell_type": "code",
      "execution_count": 28,
      "metadata": {},
      "outputs": [
        {
          "data": {
            "text/html": [
              "<div>\n",
              "<style scoped>\n",
              "    .dataframe tbody tr th:only-of-type {\n",
              "        vertical-align: middle;\n",
              "    }\n",
              "\n",
              "    .dataframe tbody tr th {\n",
              "        vertical-align: top;\n",
              "    }\n",
              "\n",
              "    .dataframe thead th {\n",
              "        text-align: right;\n",
              "    }\n",
              "</style>\n",
              "<table border=\"1\" class=\"dataframe\">\n",
              "  <thead>\n",
              "    <tr style=\"text-align: right;\">\n",
              "      <th></th>\n",
              "      <th>product_category_name</th>\n",
              "      <th>product_category_name_english</th>\n",
              "    </tr>\n",
              "  </thead>\n",
              "  <tbody>\n",
              "    <tr>\n",
              "      <th>27</th>\n",
              "      <td>construcao_ferramentas_jardim</td>\n",
              "      <td>costruction_tools_garden</td>\n",
              "    </tr>\n",
              "    <tr>\n",
              "      <th>45</th>\n",
              "      <td>alimentos</td>\n",
              "      <td>food</td>\n",
              "    </tr>\n",
              "    <tr>\n",
              "      <th>25</th>\n",
              "      <td>construcao_ferramentas_construcao</td>\n",
              "      <td>construction_tools_construction</td>\n",
              "    </tr>\n",
              "    <tr>\n",
              "      <th>60</th>\n",
              "      <td>la_cuisine</td>\n",
              "      <td>la_cuisine</td>\n",
              "    </tr>\n",
              "    <tr>\n",
              "      <th>67</th>\n",
              "      <td>artes_e_artesanato</td>\n",
              "      <td>arts_and_craftmanship</td>\n",
              "    </tr>\n",
              "  </tbody>\n",
              "</table>\n",
              "</div>"
            ],
            "text/plain": [
              "                product_category_name    product_category_name_english\n",
              "27      construcao_ferramentas_jardim         costruction_tools_garden\n",
              "45                          alimentos                             food\n",
              "25  construcao_ferramentas_construcao  construction_tools_construction\n",
              "60                         la_cuisine                       la_cuisine\n",
              "67                 artes_e_artesanato            arts_and_craftmanship"
            ]
          },
          "execution_count": 28,
          "metadata": {},
          "output_type": "execute_result"
        }
      ],
      "source": [
        "product_cat_name.sample(5)"
      ]
    },
    {
      "cell_type": "code",
      "execution_count": 29,
      "metadata": {},
      "outputs": [
        {
          "data": {
            "text/plain": [
              "(71, 2)"
            ]
          },
          "execution_count": 29,
          "metadata": {},
          "output_type": "execute_result"
        }
      ],
      "source": [
        "product_cat_name.shape"
      ]
    },
    {
      "cell_type": "code",
      "execution_count": 30,
      "metadata": {},
      "outputs": [
        {
          "name": "stdout",
          "output_type": "stream",
          "text": [
            "<class 'pandas.core.frame.DataFrame'>\n",
            "RangeIndex: 71 entries, 0 to 70\n",
            "Data columns (total 2 columns):\n",
            " #   Column                         Non-Null Count  Dtype \n",
            "---  ------                         --------------  ----- \n",
            " 0   product_category_name          71 non-null     object\n",
            " 1   product_category_name_english  71 non-null     object\n",
            "dtypes: object(2)\n",
            "memory usage: 1.2+ KB\n"
          ]
        }
      ],
      "source": [
        "product_cat_name.info()"
      ]
    },
    {
      "cell_type": "markdown",
      "metadata": {},
      "source": [
        "#### Products"
      ]
    },
    {
      "cell_type": "code",
      "execution_count": 31,
      "metadata": {},
      "outputs": [
        {
          "data": {
            "text/html": [
              "<div>\n",
              "<style scoped>\n",
              "    .dataframe tbody tr th:only-of-type {\n",
              "        vertical-align: middle;\n",
              "    }\n",
              "\n",
              "    .dataframe tbody tr th {\n",
              "        vertical-align: top;\n",
              "    }\n",
              "\n",
              "    .dataframe thead th {\n",
              "        text-align: right;\n",
              "    }\n",
              "</style>\n",
              "<table border=\"1\" class=\"dataframe\">\n",
              "  <thead>\n",
              "    <tr style=\"text-align: right;\">\n",
              "      <th></th>\n",
              "      <th>product_id</th>\n",
              "      <th>product_category_name</th>\n",
              "      <th>product_name_lenght</th>\n",
              "      <th>product_description_lenght</th>\n",
              "      <th>product_photos_qty</th>\n",
              "      <th>product_weight_g</th>\n",
              "      <th>product_length_cm</th>\n",
              "      <th>product_height_cm</th>\n",
              "      <th>product_width_cm</th>\n",
              "    </tr>\n",
              "  </thead>\n",
              "  <tbody>\n",
              "    <tr>\n",
              "      <th>31723</th>\n",
              "      <td>8365b258a7ca21a31b8c972495efd2f7</td>\n",
              "      <td>construcao_ferramentas_iluminacao</td>\n",
              "      <td>58.0</td>\n",
              "      <td>1892.0</td>\n",
              "      <td>1.0</td>\n",
              "      <td>4100.0</td>\n",
              "      <td>36.0</td>\n",
              "      <td>23.0</td>\n",
              "      <td>11.0</td>\n",
              "    </tr>\n",
              "    <tr>\n",
              "      <th>21340</th>\n",
              "      <td>df19ace5e7649826fec2d69991a7996b</td>\n",
              "      <td>moveis_decoracao</td>\n",
              "      <td>58.0</td>\n",
              "      <td>1750.0</td>\n",
              "      <td>3.0</td>\n",
              "      <td>2550.0</td>\n",
              "      <td>105.0</td>\n",
              "      <td>3.0</td>\n",
              "      <td>70.0</td>\n",
              "    </tr>\n",
              "    <tr>\n",
              "      <th>16723</th>\n",
              "      <td>a7bcd880d9580e8b2ab78868836ceb4e</td>\n",
              "      <td>informatica_acessorios</td>\n",
              "      <td>41.0</td>\n",
              "      <td>570.0</td>\n",
              "      <td>1.0</td>\n",
              "      <td>400.0</td>\n",
              "      <td>16.0</td>\n",
              "      <td>6.0</td>\n",
              "      <td>12.0</td>\n",
              "    </tr>\n",
              "    <tr>\n",
              "      <th>13335</th>\n",
              "      <td>406e74c47b79bafda070b3b2d20ddf01</td>\n",
              "      <td>beleza_saude</td>\n",
              "      <td>34.0</td>\n",
              "      <td>933.0</td>\n",
              "      <td>3.0</td>\n",
              "      <td>745.0</td>\n",
              "      <td>27.0</td>\n",
              "      <td>12.0</td>\n",
              "      <td>16.0</td>\n",
              "    </tr>\n",
              "    <tr>\n",
              "      <th>20745</th>\n",
              "      <td>1d828db422e61ea21702baf9eda8732d</td>\n",
              "      <td>telefonia_fixa</td>\n",
              "      <td>49.0</td>\n",
              "      <td>210.0</td>\n",
              "      <td>3.0</td>\n",
              "      <td>100.0</td>\n",
              "      <td>16.0</td>\n",
              "      <td>4.0</td>\n",
              "      <td>13.0</td>\n",
              "    </tr>\n",
              "  </tbody>\n",
              "</table>\n",
              "</div>"
            ],
            "text/plain": [
              "                             product_id              product_category_name  \\\n",
              "31723  8365b258a7ca21a31b8c972495efd2f7  construcao_ferramentas_iluminacao   \n",
              "21340  df19ace5e7649826fec2d69991a7996b                   moveis_decoracao   \n",
              "16723  a7bcd880d9580e8b2ab78868836ceb4e             informatica_acessorios   \n",
              "13335  406e74c47b79bafda070b3b2d20ddf01                       beleza_saude   \n",
              "20745  1d828db422e61ea21702baf9eda8732d                     telefonia_fixa   \n",
              "\n",
              "       product_name_lenght  product_description_lenght  product_photos_qty  \\\n",
              "31723                 58.0                      1892.0                 1.0   \n",
              "21340                 58.0                      1750.0                 3.0   \n",
              "16723                 41.0                       570.0                 1.0   \n",
              "13335                 34.0                       933.0                 3.0   \n",
              "20745                 49.0                       210.0                 3.0   \n",
              "\n",
              "       product_weight_g  product_length_cm  product_height_cm  \\\n",
              "31723            4100.0               36.0               23.0   \n",
              "21340            2550.0              105.0                3.0   \n",
              "16723             400.0               16.0                6.0   \n",
              "13335             745.0               27.0               12.0   \n",
              "20745             100.0               16.0                4.0   \n",
              "\n",
              "       product_width_cm  \n",
              "31723              11.0  \n",
              "21340              70.0  \n",
              "16723              12.0  \n",
              "13335              16.0  \n",
              "20745              13.0  "
            ]
          },
          "execution_count": 31,
          "metadata": {},
          "output_type": "execute_result"
        }
      ],
      "source": [
        "products.sample(5)"
      ]
    },
    {
      "cell_type": "code",
      "execution_count": 32,
      "metadata": {},
      "outputs": [
        {
          "data": {
            "text/plain": [
              "(32951, 9)"
            ]
          },
          "execution_count": 32,
          "metadata": {},
          "output_type": "execute_result"
        }
      ],
      "source": [
        "products.shape"
      ]
    },
    {
      "cell_type": "code",
      "execution_count": 33,
      "metadata": {},
      "outputs": [
        {
          "name": "stdout",
          "output_type": "stream",
          "text": [
            "<class 'pandas.core.frame.DataFrame'>\n",
            "RangeIndex: 32951 entries, 0 to 32950\n",
            "Data columns (total 9 columns):\n",
            " #   Column                      Non-Null Count  Dtype  \n",
            "---  ------                      --------------  -----  \n",
            " 0   product_id                  32951 non-null  object \n",
            " 1   product_category_name       32341 non-null  object \n",
            " 2   product_name_lenght         32341 non-null  float64\n",
            " 3   product_description_lenght  32341 non-null  float64\n",
            " 4   product_photos_qty          32341 non-null  float64\n",
            " 5   product_weight_g            32949 non-null  float64\n",
            " 6   product_length_cm           32949 non-null  float64\n",
            " 7   product_height_cm           32949 non-null  float64\n",
            " 8   product_width_cm            32949 non-null  float64\n",
            "dtypes: float64(7), object(2)\n",
            "memory usage: 2.3+ MB\n"
          ]
        }
      ],
      "source": [
        "products.info()"
      ]
    },
    {
      "cell_type": "code",
      "execution_count": 34,
      "metadata": {},
      "outputs": [
        {
          "data": {
            "text/plain": [
              "product_id                      0\n",
              "product_category_name         610\n",
              "product_name_lenght           610\n",
              "product_description_lenght    610\n",
              "product_photos_qty            610\n",
              "product_weight_g                2\n",
              "product_length_cm               2\n",
              "product_height_cm               2\n",
              "product_width_cm                2\n",
              "dtype: int64"
            ]
          },
          "execution_count": 34,
          "metadata": {},
          "output_type": "execute_result"
        }
      ],
      "source": [
        "products.isnull().sum()"
      ]
    },
    {
      "cell_type": "code",
      "execution_count": 35,
      "metadata": {},
      "outputs": [
        {
          "data": {
            "text/html": [
              "<div>\n",
              "<style scoped>\n",
              "    .dataframe tbody tr th:only-of-type {\n",
              "        vertical-align: middle;\n",
              "    }\n",
              "\n",
              "    .dataframe tbody tr th {\n",
              "        vertical-align: top;\n",
              "    }\n",
              "\n",
              "    .dataframe thead th {\n",
              "        text-align: right;\n",
              "    }\n",
              "</style>\n",
              "<table border=\"1\" class=\"dataframe\">\n",
              "  <thead>\n",
              "    <tr style=\"text-align: right;\">\n",
              "      <th></th>\n",
              "      <th>product_name_lenght</th>\n",
              "      <th>product_description_lenght</th>\n",
              "      <th>product_photos_qty</th>\n",
              "      <th>product_weight_g</th>\n",
              "      <th>product_length_cm</th>\n",
              "      <th>product_height_cm</th>\n",
              "      <th>product_width_cm</th>\n",
              "    </tr>\n",
              "  </thead>\n",
              "  <tbody>\n",
              "    <tr>\n",
              "      <th>count</th>\n",
              "      <td>32341.000000</td>\n",
              "      <td>32341.000000</td>\n",
              "      <td>32341.000000</td>\n",
              "      <td>32949.000000</td>\n",
              "      <td>32949.000000</td>\n",
              "      <td>32949.000000</td>\n",
              "      <td>32949.000000</td>\n",
              "    </tr>\n",
              "    <tr>\n",
              "      <th>mean</th>\n",
              "      <td>48.476949</td>\n",
              "      <td>771.495285</td>\n",
              "      <td>2.188986</td>\n",
              "      <td>2276.472488</td>\n",
              "      <td>30.815078</td>\n",
              "      <td>16.937661</td>\n",
              "      <td>23.196728</td>\n",
              "    </tr>\n",
              "    <tr>\n",
              "      <th>std</th>\n",
              "      <td>10.245741</td>\n",
              "      <td>635.115225</td>\n",
              "      <td>1.736766</td>\n",
              "      <td>4282.038731</td>\n",
              "      <td>16.914458</td>\n",
              "      <td>13.637554</td>\n",
              "      <td>12.079047</td>\n",
              "    </tr>\n",
              "    <tr>\n",
              "      <th>min</th>\n",
              "      <td>5.000000</td>\n",
              "      <td>4.000000</td>\n",
              "      <td>1.000000</td>\n",
              "      <td>0.000000</td>\n",
              "      <td>7.000000</td>\n",
              "      <td>2.000000</td>\n",
              "      <td>6.000000</td>\n",
              "    </tr>\n",
              "    <tr>\n",
              "      <th>25%</th>\n",
              "      <td>42.000000</td>\n",
              "      <td>339.000000</td>\n",
              "      <td>1.000000</td>\n",
              "      <td>300.000000</td>\n",
              "      <td>18.000000</td>\n",
              "      <td>8.000000</td>\n",
              "      <td>15.000000</td>\n",
              "    </tr>\n",
              "    <tr>\n",
              "      <th>50%</th>\n",
              "      <td>51.000000</td>\n",
              "      <td>595.000000</td>\n",
              "      <td>1.000000</td>\n",
              "      <td>700.000000</td>\n",
              "      <td>25.000000</td>\n",
              "      <td>13.000000</td>\n",
              "      <td>20.000000</td>\n",
              "    </tr>\n",
              "    <tr>\n",
              "      <th>75%</th>\n",
              "      <td>57.000000</td>\n",
              "      <td>972.000000</td>\n",
              "      <td>3.000000</td>\n",
              "      <td>1900.000000</td>\n",
              "      <td>38.000000</td>\n",
              "      <td>21.000000</td>\n",
              "      <td>30.000000</td>\n",
              "    </tr>\n",
              "    <tr>\n",
              "      <th>max</th>\n",
              "      <td>76.000000</td>\n",
              "      <td>3992.000000</td>\n",
              "      <td>20.000000</td>\n",
              "      <td>40425.000000</td>\n",
              "      <td>105.000000</td>\n",
              "      <td>105.000000</td>\n",
              "      <td>118.000000</td>\n",
              "    </tr>\n",
              "  </tbody>\n",
              "</table>\n",
              "</div>"
            ],
            "text/plain": [
              "       product_name_lenght  product_description_lenght  product_photos_qty  \\\n",
              "count         32341.000000                32341.000000        32341.000000   \n",
              "mean             48.476949                  771.495285            2.188986   \n",
              "std              10.245741                  635.115225            1.736766   \n",
              "min               5.000000                    4.000000            1.000000   \n",
              "25%              42.000000                  339.000000            1.000000   \n",
              "50%              51.000000                  595.000000            1.000000   \n",
              "75%              57.000000                  972.000000            3.000000   \n",
              "max              76.000000                 3992.000000           20.000000   \n",
              "\n",
              "       product_weight_g  product_length_cm  product_height_cm  \\\n",
              "count      32949.000000       32949.000000       32949.000000   \n",
              "mean        2276.472488          30.815078          16.937661   \n",
              "std         4282.038731          16.914458          13.637554   \n",
              "min            0.000000           7.000000           2.000000   \n",
              "25%          300.000000          18.000000           8.000000   \n",
              "50%          700.000000          25.000000          13.000000   \n",
              "75%         1900.000000          38.000000          21.000000   \n",
              "max        40425.000000         105.000000         105.000000   \n",
              "\n",
              "       product_width_cm  \n",
              "count      32949.000000  \n",
              "mean          23.196728  \n",
              "std           12.079047  \n",
              "min            6.000000  \n",
              "25%           15.000000  \n",
              "50%           20.000000  \n",
              "75%           30.000000  \n",
              "max          118.000000  "
            ]
          },
          "execution_count": 35,
          "metadata": {},
          "output_type": "execute_result"
        }
      ],
      "source": [
        "products.describe()"
      ]
    },
    {
      "cell_type": "code",
      "execution_count": 36,
      "metadata": {},
      "outputs": [
        {
          "data": {
            "text/html": [
              "<div>\n",
              "<style scoped>\n",
              "    .dataframe tbody tr th:only-of-type {\n",
              "        vertical-align: middle;\n",
              "    }\n",
              "\n",
              "    .dataframe tbody tr th {\n",
              "        vertical-align: top;\n",
              "    }\n",
              "\n",
              "    .dataframe thead th {\n",
              "        text-align: right;\n",
              "    }\n",
              "</style>\n",
              "<table border=\"1\" class=\"dataframe\">\n",
              "  <thead>\n",
              "    <tr style=\"text-align: right;\">\n",
              "      <th></th>\n",
              "      <th>product_id</th>\n",
              "      <th>product_category_name</th>\n",
              "      <th>product_name_lenght</th>\n",
              "      <th>product_description_lenght</th>\n",
              "      <th>product_photos_qty</th>\n",
              "      <th>product_weight_g</th>\n",
              "      <th>product_length_cm</th>\n",
              "      <th>product_height_cm</th>\n",
              "      <th>product_width_cm</th>\n",
              "    </tr>\n",
              "  </thead>\n",
              "  <tbody>\n",
              "    <tr>\n",
              "      <th>11975</th>\n",
              "      <td>1fbeaaa01377d3f600de52f455ef578c</td>\n",
              "      <td>cama_mesa_banho</td>\n",
              "      <td>55.0</td>\n",
              "      <td>664.0</td>\n",
              "      <td>1.0</td>\n",
              "      <td>2800.0</td>\n",
              "      <td>44.0</td>\n",
              "      <td>10.0</td>\n",
              "      <td>34.0</td>\n",
              "    </tr>\n",
              "  </tbody>\n",
              "</table>\n",
              "</div>"
            ],
            "text/plain": [
              "                             product_id product_category_name  \\\n",
              "11975  1fbeaaa01377d3f600de52f455ef578c       cama_mesa_banho   \n",
              "\n",
              "       product_name_lenght  product_description_lenght  product_photos_qty  \\\n",
              "11975                 55.0                       664.0                 1.0   \n",
              "\n",
              "       product_weight_g  product_length_cm  product_height_cm  \\\n",
              "11975            2800.0               44.0               10.0   \n",
              "\n",
              "       product_width_cm  \n",
              "11975              34.0  "
            ]
          },
          "execution_count": 36,
          "metadata": {},
          "output_type": "execute_result"
        }
      ],
      "source": [
        "products[products.product_id == '1fbeaaa01377d3f600de52f455ef578c']"
      ]
    },
    {
      "cell_type": "markdown",
      "metadata": {},
      "source": [
        "#### Sellers"
      ]
    },
    {
      "cell_type": "code",
      "execution_count": 37,
      "metadata": {},
      "outputs": [
        {
          "data": {
            "text/html": [
              "<div>\n",
              "<style scoped>\n",
              "    .dataframe tbody tr th:only-of-type {\n",
              "        vertical-align: middle;\n",
              "    }\n",
              "\n",
              "    .dataframe tbody tr th {\n",
              "        vertical-align: top;\n",
              "    }\n",
              "\n",
              "    .dataframe thead th {\n",
              "        text-align: right;\n",
              "    }\n",
              "</style>\n",
              "<table border=\"1\" class=\"dataframe\">\n",
              "  <thead>\n",
              "    <tr style=\"text-align: right;\">\n",
              "      <th></th>\n",
              "      <th>seller_id</th>\n",
              "      <th>seller_zip_code_prefix</th>\n",
              "      <th>seller_city</th>\n",
              "      <th>seller_state</th>\n",
              "    </tr>\n",
              "  </thead>\n",
              "  <tbody>\n",
              "    <tr>\n",
              "      <th>201</th>\n",
              "      <td>8132b9bd16876e1b0f8808d43825dd48</td>\n",
              "      <td>88058</td>\n",
              "      <td>florianopolis</td>\n",
              "      <td>SC</td>\n",
              "    </tr>\n",
              "    <tr>\n",
              "      <th>2817</th>\n",
              "      <td>f09b760d23495ac9a7e00d29b769007c</td>\n",
              "      <td>15802</td>\n",
              "      <td>catanduva</td>\n",
              "      <td>SP</td>\n",
              "    </tr>\n",
              "    <tr>\n",
              "      <th>2079</th>\n",
              "      <td>00d8b143d12632bad99c0ad66ad52825</td>\n",
              "      <td>30170</td>\n",
              "      <td>belo horizonte</td>\n",
              "      <td>MG</td>\n",
              "    </tr>\n",
              "    <tr>\n",
              "      <th>973</th>\n",
              "      <td>6e13dd869aa7185f601c941423abcc8f</td>\n",
              "      <td>5311</td>\n",
              "      <td>sao paulo</td>\n",
              "      <td>SP</td>\n",
              "    </tr>\n",
              "    <tr>\n",
              "      <th>124</th>\n",
              "      <td>75745ef7bc7d4f3ea3380f6f5303f514</td>\n",
              "      <td>70384</td>\n",
              "      <td>brasilia</td>\n",
              "      <td>DF</td>\n",
              "    </tr>\n",
              "  </tbody>\n",
              "</table>\n",
              "</div>"
            ],
            "text/plain": [
              "                             seller_id  seller_zip_code_prefix  \\\n",
              "201   8132b9bd16876e1b0f8808d43825dd48                   88058   \n",
              "2817  f09b760d23495ac9a7e00d29b769007c                   15802   \n",
              "2079  00d8b143d12632bad99c0ad66ad52825                   30170   \n",
              "973   6e13dd869aa7185f601c941423abcc8f                    5311   \n",
              "124   75745ef7bc7d4f3ea3380f6f5303f514                   70384   \n",
              "\n",
              "         seller_city seller_state  \n",
              "201    florianopolis           SC  \n",
              "2817       catanduva           SP  \n",
              "2079  belo horizonte           MG  \n",
              "973        sao paulo           SP  \n",
              "124         brasilia           DF  "
            ]
          },
          "execution_count": 37,
          "metadata": {},
          "output_type": "execute_result"
        }
      ],
      "source": [
        "sellers.sample(5)"
      ]
    },
    {
      "cell_type": "code",
      "execution_count": 38,
      "metadata": {},
      "outputs": [
        {
          "data": {
            "text/plain": [
              "(3095, 4)"
            ]
          },
          "execution_count": 38,
          "metadata": {},
          "output_type": "execute_result"
        }
      ],
      "source": [
        "sellers.shape"
      ]
    },
    {
      "cell_type": "code",
      "execution_count": 39,
      "metadata": {},
      "outputs": [
        {
          "name": "stdout",
          "output_type": "stream",
          "text": [
            "<class 'pandas.core.frame.DataFrame'>\n",
            "RangeIndex: 3095 entries, 0 to 3094\n",
            "Data columns (total 4 columns):\n",
            " #   Column                  Non-Null Count  Dtype \n",
            "---  ------                  --------------  ----- \n",
            " 0   seller_id               3095 non-null   object\n",
            " 1   seller_zip_code_prefix  3095 non-null   int64 \n",
            " 2   seller_city             3095 non-null   object\n",
            " 3   seller_state            3095 non-null   object\n",
            "dtypes: int64(1), object(3)\n",
            "memory usage: 96.8+ KB\n"
          ]
        }
      ],
      "source": [
        "sellers.info()"
      ]
    },
    {
      "cell_type": "markdown",
      "metadata": {
        "id": "Uz5dgcJm9HW5"
      },
      "source": [
        "### Cleaning Data"
      ]
    },
    {
      "cell_type": "code",
      "execution_count": 40,
      "metadata": {
        "id": "CCszTdXD9Ivf"
      },
      "outputs": [],
      "source": [
        "# change data type on Order Items of shipping_limit_date to date\n",
        "order_items.shipping_limit_date = pd.to_datetime(order_items['shipping_limit_date'])\n",
        "\n",
        "# change data type on order review of the review_creation_date and review_answer_timestamp to date \n",
        "order_reviews.review_creation_date = pd.to_datetime(order_reviews.review_creation_date)\n",
        "order_reviews.review_answer_timestamp = pd.to_datetime(order_reviews.review_answer_timestamp)\n",
        "\n",
        "# change data type on Orders of the order_purchase_timestamp, order_approved_at, order_delivered_carrier_date, \n",
        "# order_delivered_customer_date, order_estimated_delivery_date to date \n",
        "# orders.order_purchase_timestamp = pd.to_datetime(orders.order_purchase_timestamp.str.strip())\n",
        "# orders.order_approved_at = pd.to_datetime(orders.order_approved_at.str.strip())\n",
        "# orders.order_delivered_carrier_date = pd.to_datetime(orders.order_delivered_carrier_date.str.strip())\n",
        "# orders.order_delivered_customer_date = pd.to_datetime(orders.order_delivered_customer_date.str.strip())\n",
        "# orders.order_estimated_delivery_date = pd.to_datetime(orders.order_estimated_delivery_date.str.strip())\n"
      ]
    },
    {
      "cell_type": "code",
      "execution_count": 41,
      "metadata": {},
      "outputs": [],
      "source": [
        "# cleaning null value on Orders dataset (99441, 8)\n",
        "# orders.isnull().sum()\n",
        "# orders.dropna(subset=['order_approved_at','order_delivered_carrier_date','order_delivered_customer_date'], inplace=True)\n",
        "\n",
        "# cleaning null value on Products dataset (32951, 9)\n",
        "# products.isnull().sum()\n",
        "# products.dropna(inplace=True)"
      ]
    },
    {
      "cell_type": "code",
      "execution_count": 42,
      "metadata": {},
      "outputs": [
        {
          "name": "stdout",
          "output_type": "stream",
          "text": [
            "order (99441, 8) & products (32951, 9)\n"
          ]
        }
      ],
      "source": [
        "print(f'order {orders.shape} & products {products.shape}')"
      ]
    },
    {
      "cell_type": "markdown",
      "metadata": {
        "id": "EyPJaCDm9KFb"
      },
      "source": [
        "## Exploratory Data Analysis (EDA)"
      ]
    },
    {
      "cell_type": "markdown",
      "metadata": {
        "id": "hxgJ6qd69Mce"
      },
      "source": [
        "#### Explore Customer"
      ]
    },
    {
      "cell_type": "code",
      "execution_count": 43,
      "metadata": {
        "id": "Xo68yguo9LTl"
      },
      "outputs": [
        {
          "data": {
            "text/html": [
              "<div>\n",
              "<style scoped>\n",
              "    .dataframe tbody tr th:only-of-type {\n",
              "        vertical-align: middle;\n",
              "    }\n",
              "\n",
              "    .dataframe tbody tr th {\n",
              "        vertical-align: top;\n",
              "    }\n",
              "\n",
              "    .dataframe thead th {\n",
              "        text-align: right;\n",
              "    }\n",
              "</style>\n",
              "<table border=\"1\" class=\"dataframe\">\n",
              "  <thead>\n",
              "    <tr style=\"text-align: right;\">\n",
              "      <th></th>\n",
              "      <th>customer_id</th>\n",
              "      <th>customer_unique_id</th>\n",
              "      <th>customer_zip_code_prefix</th>\n",
              "      <th>customer_city</th>\n",
              "      <th>customer_state</th>\n",
              "    </tr>\n",
              "  </thead>\n",
              "  <tbody>\n",
              "    <tr>\n",
              "      <th>59</th>\n",
              "      <td>a905baa530258422594f1b05615bd225</td>\n",
              "      <td>c80da60feddb7cf8325bd104032e314a</td>\n",
              "      <td>60140</td>\n",
              "      <td>fortaleza</td>\n",
              "      <td>CE</td>\n",
              "    </tr>\n",
              "    <tr>\n",
              "      <th>70</th>\n",
              "      <td>4c7241af24b5344cb01fe687643de4fe</td>\n",
              "      <td>b157c176c3fe04914fde33f2dc8b878a</td>\n",
              "      <td>60336</td>\n",
              "      <td>fortaleza</td>\n",
              "      <td>CE</td>\n",
              "    </tr>\n",
              "    <tr>\n",
              "      <th>103</th>\n",
              "      <td>126cf4e9fd189d2d64bc9b112fd6a5e8</td>\n",
              "      <td>90d479448b39ad9586d05da64cfb695b</td>\n",
              "      <td>62016</td>\n",
              "      <td>sobral</td>\n",
              "      <td>CE</td>\n",
              "    </tr>\n",
              "    <tr>\n",
              "      <th>303</th>\n",
              "      <td>3aec4688b93d6061ec5061721ad493a7</td>\n",
              "      <td>7b0cae22ae2b6cf88163a50600da4ee2</td>\n",
              "      <td>60181</td>\n",
              "      <td>fortaleza</td>\n",
              "      <td>CE</td>\n",
              "    </tr>\n",
              "    <tr>\n",
              "      <th>422</th>\n",
              "      <td>522a6e7c1f1f992ac81be6abefa46294</td>\n",
              "      <td>282ebddb3e85120b1652204758fc332b</td>\n",
              "      <td>60055</td>\n",
              "      <td>fortaleza</td>\n",
              "      <td>CE</td>\n",
              "    </tr>\n",
              "    <tr>\n",
              "      <th>...</th>\n",
              "      <td>...</td>\n",
              "      <td>...</td>\n",
              "      <td>...</td>\n",
              "      <td>...</td>\n",
              "      <td>...</td>\n",
              "    </tr>\n",
              "    <tr>\n",
              "      <th>99072</th>\n",
              "      <td>18e56af97c2f24afcfaf7aa97ad2b969</td>\n",
              "      <td>d9ff7e37d7bf448abb783a6e56462d93</td>\n",
              "      <td>63765</td>\n",
              "      <td>sucesso</td>\n",
              "      <td>CE</td>\n",
              "    </tr>\n",
              "    <tr>\n",
              "      <th>99171</th>\n",
              "      <td>3218724bc18c442e58bd39608b0f100a</td>\n",
              "      <td>d9151698fc7193669598995a4c6f494f</td>\n",
              "      <td>62800</td>\n",
              "      <td>aracati</td>\n",
              "      <td>CE</td>\n",
              "    </tr>\n",
              "    <tr>\n",
              "      <th>99328</th>\n",
              "      <td>1e03a2aa5714007700c8e727849cf123</td>\n",
              "      <td>54a2d9cbeb08a11268085529cfe2524f</td>\n",
              "      <td>60440</td>\n",
              "      <td>fortaleza</td>\n",
              "      <td>CE</td>\n",
              "    </tr>\n",
              "    <tr>\n",
              "      <th>99343</th>\n",
              "      <td>9289d8bcd95805bc1ac27c949a99da98</td>\n",
              "      <td>ec8aaeb3869352e348097f26f4c49ee3</td>\n",
              "      <td>60864</td>\n",
              "      <td>fortaleza</td>\n",
              "      <td>CE</td>\n",
              "    </tr>\n",
              "    <tr>\n",
              "      <th>99438</th>\n",
              "      <td>5e28dfe12db7fb50a4b2f691faecea5e</td>\n",
              "      <td>e9f50caf99f032f0bf3c55141f019d99</td>\n",
              "      <td>60115</td>\n",
              "      <td>fortaleza</td>\n",
              "      <td>CE</td>\n",
              "    </tr>\n",
              "  </tbody>\n",
              "</table>\n",
              "<p>1336 rows × 5 columns</p>\n",
              "</div>"
            ],
            "text/plain": [
              "                            customer_id                customer_unique_id  \\\n",
              "59     a905baa530258422594f1b05615bd225  c80da60feddb7cf8325bd104032e314a   \n",
              "70     4c7241af24b5344cb01fe687643de4fe  b157c176c3fe04914fde33f2dc8b878a   \n",
              "103    126cf4e9fd189d2d64bc9b112fd6a5e8  90d479448b39ad9586d05da64cfb695b   \n",
              "303    3aec4688b93d6061ec5061721ad493a7  7b0cae22ae2b6cf88163a50600da4ee2   \n",
              "422    522a6e7c1f1f992ac81be6abefa46294  282ebddb3e85120b1652204758fc332b   \n",
              "...                                 ...                               ...   \n",
              "99072  18e56af97c2f24afcfaf7aa97ad2b969  d9ff7e37d7bf448abb783a6e56462d93   \n",
              "99171  3218724bc18c442e58bd39608b0f100a  d9151698fc7193669598995a4c6f494f   \n",
              "99328  1e03a2aa5714007700c8e727849cf123  54a2d9cbeb08a11268085529cfe2524f   \n",
              "99343  9289d8bcd95805bc1ac27c949a99da98  ec8aaeb3869352e348097f26f4c49ee3   \n",
              "99438  5e28dfe12db7fb50a4b2f691faecea5e  e9f50caf99f032f0bf3c55141f019d99   \n",
              "\n",
              "       customer_zip_code_prefix customer_city customer_state  \n",
              "59                        60140     fortaleza             CE  \n",
              "70                        60336     fortaleza             CE  \n",
              "103                       62016        sobral             CE  \n",
              "303                       60181     fortaleza             CE  \n",
              "422                       60055     fortaleza             CE  \n",
              "...                         ...           ...            ...  \n",
              "99072                     63765       sucesso             CE  \n",
              "99171                     62800       aracati             CE  \n",
              "99328                     60440     fortaleza             CE  \n",
              "99343                     60864     fortaleza             CE  \n",
              "99438                     60115     fortaleza             CE  \n",
              "\n",
              "[1336 rows x 5 columns]"
            ]
          },
          "execution_count": 43,
          "metadata": {},
          "output_type": "execute_result"
        }
      ],
      "source": [
        "customers[customers.customer_state == 'CE']"
      ]
    },
    {
      "cell_type": "code",
      "execution_count": 44,
      "metadata": {},
      "outputs": [
        {
          "data": {
            "text/html": [
              "<div>\n",
              "<style scoped>\n",
              "    .dataframe tbody tr th:only-of-type {\n",
              "        vertical-align: middle;\n",
              "    }\n",
              "\n",
              "    .dataframe tbody tr th {\n",
              "        vertical-align: top;\n",
              "    }\n",
              "\n",
              "    .dataframe thead th {\n",
              "        text-align: right;\n",
              "    }\n",
              "</style>\n",
              "<table border=\"1\" class=\"dataframe\">\n",
              "  <thead>\n",
              "    <tr style=\"text-align: right;\">\n",
              "      <th></th>\n",
              "      <th>customer_city</th>\n",
              "      <th>jml_cust</th>\n",
              "    </tr>\n",
              "  </thead>\n",
              "  <tbody>\n",
              "    <tr>\n",
              "      <th>0</th>\n",
              "      <td>sao paulo</td>\n",
              "      <td>15540</td>\n",
              "    </tr>\n",
              "    <tr>\n",
              "      <th>1</th>\n",
              "      <td>rio de janeiro</td>\n",
              "      <td>6882</td>\n",
              "    </tr>\n",
              "    <tr>\n",
              "      <th>2</th>\n",
              "      <td>belo horizonte</td>\n",
              "      <td>2773</td>\n",
              "    </tr>\n",
              "    <tr>\n",
              "      <th>3</th>\n",
              "      <td>brasilia</td>\n",
              "      <td>2131</td>\n",
              "    </tr>\n",
              "    <tr>\n",
              "      <th>4</th>\n",
              "      <td>curitiba</td>\n",
              "      <td>1521</td>\n",
              "    </tr>\n",
              "  </tbody>\n",
              "</table>\n",
              "</div>"
            ],
            "text/plain": [
              "    customer_city  jml_cust\n",
              "0       sao paulo     15540\n",
              "1  rio de janeiro      6882\n",
              "2  belo horizonte      2773\n",
              "3        brasilia      2131\n",
              "4        curitiba      1521"
            ]
          },
          "execution_count": 44,
          "metadata": {},
          "output_type": "execute_result"
        }
      ],
      "source": [
        "custby_city_states = customers.groupby(by=['customer_city']).agg({'customer_id':'count'}).sort_values(by='customer_id', ascending=False).reset_index().rename(columns={'customer_id':'jml_cust'})\n",
        "custby_city_states.head()"
      ]
    },
    {
      "cell_type": "code",
      "execution_count": 45,
      "metadata": {},
      "outputs": [
        {
          "data": {
            "text/html": [
              "<div>\n",
              "<style scoped>\n",
              "    .dataframe tbody tr th:only-of-type {\n",
              "        vertical-align: middle;\n",
              "    }\n",
              "\n",
              "    .dataframe tbody tr th {\n",
              "        vertical-align: top;\n",
              "    }\n",
              "\n",
              "    .dataframe thead th {\n",
              "        text-align: right;\n",
              "    }\n",
              "</style>\n",
              "<table border=\"1\" class=\"dataframe\">\n",
              "  <thead>\n",
              "    <tr style=\"text-align: right;\">\n",
              "      <th></th>\n",
              "      <th>customer_state</th>\n",
              "      <th>jml_cust</th>\n",
              "    </tr>\n",
              "  </thead>\n",
              "  <tbody>\n",
              "    <tr>\n",
              "      <th>15</th>\n",
              "      <td>MS</td>\n",
              "      <td>715</td>\n",
              "    </tr>\n",
              "    <tr>\n",
              "      <th>18</th>\n",
              "      <td>RN</td>\n",
              "      <td>485</td>\n",
              "    </tr>\n",
              "    <tr>\n",
              "      <th>0</th>\n",
              "      <td>SP</td>\n",
              "      <td>41746</td>\n",
              "    </tr>\n",
              "  </tbody>\n",
              "</table>\n",
              "</div>"
            ],
            "text/plain": [
              "   customer_state  jml_cust\n",
              "15             MS       715\n",
              "18             RN       485\n",
              "0              SP     41746"
            ]
          },
          "execution_count": 45,
          "metadata": {},
          "output_type": "execute_result"
        }
      ],
      "source": [
        "custby_states = customers.groupby(by=['customer_state']).customer_id.nunique().sort_values(ascending=False).to_frame().reset_index().rename(columns={'customer_id':'jml_cust'})\n",
        "custby_states.sample(3)"
      ]
    },
    {
      "cell_type": "markdown",
      "metadata": {},
      "source": [
        "#### Explore Order"
      ]
    },
    {
      "cell_type": "code",
      "execution_count": 46,
      "metadata": {},
      "outputs": [
        {
          "data": {
            "text/html": [
              "<div>\n",
              "<style scoped>\n",
              "    .dataframe tbody tr th:only-of-type {\n",
              "        vertical-align: middle;\n",
              "    }\n",
              "\n",
              "    .dataframe tbody tr th {\n",
              "        vertical-align: top;\n",
              "    }\n",
              "\n",
              "    .dataframe thead th {\n",
              "        text-align: right;\n",
              "    }\n",
              "</style>\n",
              "<table border=\"1\" class=\"dataframe\">\n",
              "  <thead>\n",
              "    <tr style=\"text-align: right;\">\n",
              "      <th></th>\n",
              "      <th>order_id</th>\n",
              "      <th>order_item_id</th>\n",
              "      <th>product_id</th>\n",
              "      <th>seller_id</th>\n",
              "      <th>shipping_limit_date</th>\n",
              "      <th>price</th>\n",
              "      <th>freight_value</th>\n",
              "    </tr>\n",
              "  </thead>\n",
              "  <tbody>\n",
              "    <tr>\n",
              "      <th>38394</th>\n",
              "      <td>5730dad6ecb4f73d55da69d127c2bb6b</td>\n",
              "      <td>1</td>\n",
              "      <td>983b5668afc4aa8777599206fcc8964f</td>\n",
              "      <td>3d871de0142ce09b7081e2b9d1733cb1</td>\n",
              "      <td>2017-12-18 03:50:04</td>\n",
              "      <td>79.00</td>\n",
              "      <td>13.57</td>\n",
              "    </tr>\n",
              "    <tr>\n",
              "      <th>57198</th>\n",
              "      <td>82387464df585a62e081b551cf2992bc</td>\n",
              "      <td>1</td>\n",
              "      <td>955129b53464486f9f93074c64b2bd88</td>\n",
              "      <td>499ec63c58e51296c9cf57edcfe1c8a8</td>\n",
              "      <td>2018-05-09 16:30:42</td>\n",
              "      <td>70.00</td>\n",
              "      <td>7.39</td>\n",
              "    </tr>\n",
              "    <tr>\n",
              "      <th>29799</th>\n",
              "      <td>43c564b825003473af9a68138631d388</td>\n",
              "      <td>1</td>\n",
              "      <td>a4fe640db0a85c68b24bf813604c6b78</td>\n",
              "      <td>6e0908ef4d4efadbc3cc2b74ea477cb0</td>\n",
              "      <td>2017-08-14 13:03:44</td>\n",
              "      <td>75.35</td>\n",
              "      <td>12.53</td>\n",
              "    </tr>\n",
              "  </tbody>\n",
              "</table>\n",
              "</div>"
            ],
            "text/plain": [
              "                               order_id  order_item_id  \\\n",
              "38394  5730dad6ecb4f73d55da69d127c2bb6b              1   \n",
              "57198  82387464df585a62e081b551cf2992bc              1   \n",
              "29799  43c564b825003473af9a68138631d388              1   \n",
              "\n",
              "                             product_id                         seller_id  \\\n",
              "38394  983b5668afc4aa8777599206fcc8964f  3d871de0142ce09b7081e2b9d1733cb1   \n",
              "57198  955129b53464486f9f93074c64b2bd88  499ec63c58e51296c9cf57edcfe1c8a8   \n",
              "29799  a4fe640db0a85c68b24bf813604c6b78  6e0908ef4d4efadbc3cc2b74ea477cb0   \n",
              "\n",
              "      shipping_limit_date  price  freight_value  \n",
              "38394 2017-12-18 03:50:04  79.00          13.57  \n",
              "57198 2018-05-09 16:30:42  70.00           7.39  \n",
              "29799 2017-08-14 13:03:44  75.35          12.53  "
            ]
          },
          "execution_count": 46,
          "metadata": {},
          "output_type": "execute_result"
        }
      ],
      "source": [
        "order_items.sample(3)"
      ]
    },
    {
      "cell_type": "code",
      "execution_count": 47,
      "metadata": {},
      "outputs": [
        {
          "data": {
            "text/html": [
              "<div>\n",
              "<style scoped>\n",
              "    .dataframe tbody tr th:only-of-type {\n",
              "        vertical-align: middle;\n",
              "    }\n",
              "\n",
              "    .dataframe tbody tr th {\n",
              "        vertical-align: top;\n",
              "    }\n",
              "\n",
              "    .dataframe thead th {\n",
              "        text-align: right;\n",
              "    }\n",
              "</style>\n",
              "<table border=\"1\" class=\"dataframe\">\n",
              "  <thead>\n",
              "    <tr style=\"text-align: right;\">\n",
              "      <th></th>\n",
              "      <th>order_id</th>\n",
              "      <th>customer_id</th>\n",
              "      <th>order_status</th>\n",
              "      <th>order_purchase_timestamp</th>\n",
              "      <th>order_approved_at</th>\n",
              "      <th>order_delivered_carrier_date</th>\n",
              "      <th>order_delivered_customer_date</th>\n",
              "      <th>order_estimated_delivery_date</th>\n",
              "    </tr>\n",
              "  </thead>\n",
              "  <tbody>\n",
              "    <tr>\n",
              "      <th>89231</th>\n",
              "      <td>fddb99cde66af279ab48d2dd5d987dd9</td>\n",
              "      <td>7d77fe37de9a0a12e451fc568a3462bf</td>\n",
              "      <td>delivered</td>\n",
              "      <td>2018-02-13 21:12:13</td>\n",
              "      <td>2018-02-16 07:55:48</td>\n",
              "      <td>2018-02-17 15:14:50</td>\n",
              "      <td>2018-02-20 21:12:11</td>\n",
              "      <td>2018-03-01</td>\n",
              "    </tr>\n",
              "    <tr>\n",
              "      <th>413</th>\n",
              "      <td>21f4a37ec131158f1615d0f186f190af</td>\n",
              "      <td>84b100e334843870e95ff29421ab66bd</td>\n",
              "      <td>delivered</td>\n",
              "      <td>2017-12-21 20:11:07</td>\n",
              "      <td>2017-12-21 20:30:28</td>\n",
              "      <td>2017-12-26 21:09:19</td>\n",
              "      <td>2018-01-10 14:26:57</td>\n",
              "      <td>2018-01-17</td>\n",
              "    </tr>\n",
              "  </tbody>\n",
              "</table>\n",
              "</div>"
            ],
            "text/plain": [
              "                               order_id                       customer_id  \\\n",
              "89231  fddb99cde66af279ab48d2dd5d987dd9  7d77fe37de9a0a12e451fc568a3462bf   \n",
              "413    21f4a37ec131158f1615d0f186f190af  84b100e334843870e95ff29421ab66bd   \n",
              "\n",
              "      order_status order_purchase_timestamp   order_approved_at  \\\n",
              "89231    delivered      2018-02-13 21:12:13 2018-02-16 07:55:48   \n",
              "413      delivered      2017-12-21 20:11:07 2017-12-21 20:30:28   \n",
              "\n",
              "      order_delivered_carrier_date order_delivered_customer_date  \\\n",
              "89231          2018-02-17 15:14:50           2018-02-20 21:12:11   \n",
              "413            2017-12-26 21:09:19           2018-01-10 14:26:57   \n",
              "\n",
              "      order_estimated_delivery_date  \n",
              "89231                    2018-03-01  \n",
              "413                      2018-01-17  "
            ]
          },
          "execution_count": 47,
          "metadata": {},
          "output_type": "execute_result"
        }
      ],
      "source": [
        "orders.sample(2)"
      ]
    },
    {
      "cell_type": "code",
      "execution_count": 48,
      "metadata": {},
      "outputs": [
        {
          "data": {
            "text/html": [
              "<div>\n",
              "<style scoped>\n",
              "    .dataframe tbody tr th:only-of-type {\n",
              "        vertical-align: middle;\n",
              "    }\n",
              "\n",
              "    .dataframe tbody tr th {\n",
              "        vertical-align: top;\n",
              "    }\n",
              "\n",
              "    .dataframe thead th {\n",
              "        text-align: right;\n",
              "    }\n",
              "</style>\n",
              "<table border=\"1\" class=\"dataframe\">\n",
              "  <thead>\n",
              "    <tr style=\"text-align: right;\">\n",
              "      <th></th>\n",
              "      <th>order_purchase_timestamp</th>\n",
              "      <th>order_approved_at</th>\n",
              "      <th>order_delivered_carrier_date</th>\n",
              "      <th>order_delivered_customer_date</th>\n",
              "      <th>order_estimated_delivery_date</th>\n",
              "      <th>delivery_time</th>\n",
              "    </tr>\n",
              "  </thead>\n",
              "  <tbody>\n",
              "    <tr>\n",
              "      <th>count</th>\n",
              "      <td>99441</td>\n",
              "      <td>99281</td>\n",
              "      <td>97658</td>\n",
              "      <td>96476</td>\n",
              "      <td>99441</td>\n",
              "      <td>96462.000000</td>\n",
              "    </tr>\n",
              "    <tr>\n",
              "      <th>mean</th>\n",
              "      <td>2017-12-31 08:43:12.776581120</td>\n",
              "      <td>2017-12-31 18:35:24.098800128</td>\n",
              "      <td>2018-01-04 21:49:48.138278656</td>\n",
              "      <td>2018-01-14 12:09:19.035542272</td>\n",
              "      <td>2018-01-24 03:08:37.730111232</td>\n",
              "      <td>11.642968</td>\n",
              "    </tr>\n",
              "    <tr>\n",
              "      <th>min</th>\n",
              "      <td>2016-09-04 21:15:19</td>\n",
              "      <td>2016-09-15 12:16:38</td>\n",
              "      <td>2016-10-08 10:34:01</td>\n",
              "      <td>2016-10-11 13:46:32</td>\n",
              "      <td>2016-09-30 00:00:00</td>\n",
              "      <td>-7.000000</td>\n",
              "    </tr>\n",
              "    <tr>\n",
              "      <th>25%</th>\n",
              "      <td>2017-09-12 14:46:19</td>\n",
              "      <td>2017-09-12 23:24:16</td>\n",
              "      <td>2017-09-15 22:28:50.249999872</td>\n",
              "      <td>2017-09-25 22:07:22.249999872</td>\n",
              "      <td>2017-10-03 00:00:00</td>\n",
              "      <td>6.000000</td>\n",
              "    </tr>\n",
              "    <tr>\n",
              "      <th>50%</th>\n",
              "      <td>2018-01-18 23:04:36</td>\n",
              "      <td>2018-01-19 11:36:13</td>\n",
              "      <td>2018-01-24 16:10:58</td>\n",
              "      <td>2018-02-02 19:28:10.500000</td>\n",
              "      <td>2018-02-15 00:00:00</td>\n",
              "      <td>9.000000</td>\n",
              "    </tr>\n",
              "    <tr>\n",
              "      <th>75%</th>\n",
              "      <td>2018-05-04 15:42:16</td>\n",
              "      <td>2018-05-04 20:35:10</td>\n",
              "      <td>2018-05-08 13:37:45</td>\n",
              "      <td>2018-05-15 22:48:52.249999872</td>\n",
              "      <td>2018-05-25 00:00:00</td>\n",
              "      <td>15.000000</td>\n",
              "    </tr>\n",
              "    <tr>\n",
              "      <th>max</th>\n",
              "      <td>2018-10-17 17:30:18</td>\n",
              "      <td>2018-09-03 17:40:06</td>\n",
              "      <td>2018-09-11 19:48:28</td>\n",
              "      <td>2018-10-17 13:22:46</td>\n",
              "      <td>2018-11-12 00:00:00</td>\n",
              "      <td>208.000000</td>\n",
              "    </tr>\n",
              "    <tr>\n",
              "      <th>std</th>\n",
              "      <td>NaN</td>\n",
              "      <td>NaN</td>\n",
              "      <td>NaN</td>\n",
              "      <td>NaN</td>\n",
              "      <td>NaN</td>\n",
              "      <td>9.520747</td>\n",
              "    </tr>\n",
              "  </tbody>\n",
              "</table>\n",
              "</div>"
            ],
            "text/plain": [
              "            order_purchase_timestamp              order_approved_at  \\\n",
              "count                          99441                          99281   \n",
              "mean   2017-12-31 08:43:12.776581120  2017-12-31 18:35:24.098800128   \n",
              "min              2016-09-04 21:15:19            2016-09-15 12:16:38   \n",
              "25%              2017-09-12 14:46:19            2017-09-12 23:24:16   \n",
              "50%              2018-01-18 23:04:36            2018-01-19 11:36:13   \n",
              "75%              2018-05-04 15:42:16            2018-05-04 20:35:10   \n",
              "max              2018-10-17 17:30:18            2018-09-03 17:40:06   \n",
              "std                              NaN                            NaN   \n",
              "\n",
              "        order_delivered_carrier_date  order_delivered_customer_date  \\\n",
              "count                          97658                          96476   \n",
              "mean   2018-01-04 21:49:48.138278656  2018-01-14 12:09:19.035542272   \n",
              "min              2016-10-08 10:34:01            2016-10-11 13:46:32   \n",
              "25%    2017-09-15 22:28:50.249999872  2017-09-25 22:07:22.249999872   \n",
              "50%              2018-01-24 16:10:58     2018-02-02 19:28:10.500000   \n",
              "75%              2018-05-08 13:37:45  2018-05-15 22:48:52.249999872   \n",
              "max              2018-09-11 19:48:28            2018-10-17 13:22:46   \n",
              "std                              NaN                            NaN   \n",
              "\n",
              "       order_estimated_delivery_date  delivery_time  \n",
              "count                          99441   96462.000000  \n",
              "mean   2018-01-24 03:08:37.730111232      11.642968  \n",
              "min              2016-09-30 00:00:00      -7.000000  \n",
              "25%              2017-10-03 00:00:00       6.000000  \n",
              "50%              2018-02-15 00:00:00       9.000000  \n",
              "75%              2018-05-25 00:00:00      15.000000  \n",
              "max              2018-11-12 00:00:00     208.000000  \n",
              "std                              NaN       9.520747  "
            ]
          },
          "execution_count": 48,
          "metadata": {},
          "output_type": "execute_result"
        }
      ],
      "source": [
        "orders['delivery_time'] = (orders.order_delivered_customer_date - orders.order_approved_at).dt.days\n",
        "# del_time.apply(lambda x: x.total_seconds())/86400\n",
        "orders.describe()"
      ]
    },
    {
      "cell_type": "code",
      "execution_count": 49,
      "metadata": {},
      "outputs": [
        {
          "data": {
            "text/html": [
              "<div>\n",
              "<style scoped>\n",
              "    .dataframe tbody tr th:only-of-type {\n",
              "        vertical-align: middle;\n",
              "    }\n",
              "\n",
              "    .dataframe tbody tr th {\n",
              "        vertical-align: top;\n",
              "    }\n",
              "\n",
              "    .dataframe thead th {\n",
              "        text-align: right;\n",
              "    }\n",
              "</style>\n",
              "<table border=\"1\" class=\"dataframe\">\n",
              "  <thead>\n",
              "    <tr style=\"text-align: right;\">\n",
              "      <th></th>\n",
              "      <th>order_id</th>\n",
              "      <th>customer_id</th>\n",
              "      <th>order_status</th>\n",
              "      <th>order_purchase_timestamp</th>\n",
              "      <th>order_approved_at</th>\n",
              "      <th>order_delivered_carrier_date</th>\n",
              "      <th>order_delivered_customer_date</th>\n",
              "      <th>order_estimated_delivery_date</th>\n",
              "      <th>delivery_time</th>\n",
              "      <th>order_item_id</th>\n",
              "      <th>product_id</th>\n",
              "      <th>seller_id</th>\n",
              "      <th>shipping_limit_date</th>\n",
              "      <th>price</th>\n",
              "      <th>freight_value</th>\n",
              "      <th>total_price</th>\n",
              "    </tr>\n",
              "  </thead>\n",
              "  <tbody>\n",
              "    <tr>\n",
              "      <th>106248</th>\n",
              "      <td>82b3e56e64b216d06b20bb4ca4a0d84e</td>\n",
              "      <td>0335ba5113b08cc91e56660c92b370bd</td>\n",
              "      <td>delivered</td>\n",
              "      <td>2017-12-19 19:09:35</td>\n",
              "      <td>2017-12-19 20:11:27</td>\n",
              "      <td>2017-12-20 16:52:07</td>\n",
              "      <td>2017-12-21 14:28:49</td>\n",
              "      <td>2018-01-08</td>\n",
              "      <td>1.0</td>\n",
              "      <td>2</td>\n",
              "      <td>e03102efbc2229024c89be731f0aedcb</td>\n",
              "      <td>2c9e548be18521d1c43cde1c582c6de8</td>\n",
              "      <td>2017-12-26 20:11:27</td>\n",
              "      <td>39.90</td>\n",
              "      <td>9.34</td>\n",
              "      <td>79.80</td>\n",
              "    </tr>\n",
              "    <tr>\n",
              "      <th>75133</th>\n",
              "      <td>a5e045a63fbea3842f888a42153c61e3</td>\n",
              "      <td>ef6160b152a7df62401e31c5d3f548c2</td>\n",
              "      <td>delivered</td>\n",
              "      <td>2018-06-12 21:58:58</td>\n",
              "      <td>2018-06-12 23:22:26</td>\n",
              "      <td>2018-06-18 15:03:00</td>\n",
              "      <td>2018-06-21 12:41:21</td>\n",
              "      <td>2018-06-26</td>\n",
              "      <td>8.0</td>\n",
              "      <td>1</td>\n",
              "      <td>500870614ddcf5bd84f7d26861026c8a</td>\n",
              "      <td>ef506c96320abeedfb894c34db06f478</td>\n",
              "      <td>2018-06-18 23:22:26</td>\n",
              "      <td>14.00</td>\n",
              "      <td>7.39</td>\n",
              "      <td>14.00</td>\n",
              "    </tr>\n",
              "    <tr>\n",
              "      <th>27693</th>\n",
              "      <td>83b109feea07a54cdd034845cccd53b3</td>\n",
              "      <td>3e0b7768b5fca0be48e2981fb71823b7</td>\n",
              "      <td>delivered</td>\n",
              "      <td>2018-01-29 15:37:19</td>\n",
              "      <td>2018-01-29 16:10:43</td>\n",
              "      <td>2018-01-31 16:41:57</td>\n",
              "      <td>2018-02-05 17:13:05</td>\n",
              "      <td>2018-02-14</td>\n",
              "      <td>7.0</td>\n",
              "      <td>1</td>\n",
              "      <td>1f5b481884bcb937cc06892b7419eaf8</td>\n",
              "      <td>5f1dc28029d2c244352a68107ec2b542</td>\n",
              "      <td>2018-02-02 16:10:43</td>\n",
              "      <td>26.50</td>\n",
              "      <td>8.72</td>\n",
              "      <td>26.50</td>\n",
              "    </tr>\n",
              "    <tr>\n",
              "      <th>98028</th>\n",
              "      <td>2b816c3dd6289435f8cbb71f22f4061f</td>\n",
              "      <td>4382a843aa3bf7571f81732d6262bc41</td>\n",
              "      <td>delivered</td>\n",
              "      <td>2017-08-20 18:59:55</td>\n",
              "      <td>2017-08-20 19:10:18</td>\n",
              "      <td>2017-08-21 18:44:35</td>\n",
              "      <td>2017-08-24 20:47:41</td>\n",
              "      <td>2017-09-20</td>\n",
              "      <td>4.0</td>\n",
              "      <td>2</td>\n",
              "      <td>99a4788cb24856965c36a24e339b6058</td>\n",
              "      <td>4a3ca9315b744ce9f8e9374361493884</td>\n",
              "      <td>2017-08-24 19:10:18</td>\n",
              "      <td>89.90</td>\n",
              "      <td>4.71</td>\n",
              "      <td>179.80</td>\n",
              "    </tr>\n",
              "    <tr>\n",
              "      <th>67558</th>\n",
              "      <td>f9acbb9c41a974fa5fdd57e6bf85846a</td>\n",
              "      <td>fdcdab30bfa02a13cba1adeef408d4b5</td>\n",
              "      <td>delivered</td>\n",
              "      <td>2018-07-03 09:03:34</td>\n",
              "      <td>2018-07-05 16:40:33</td>\n",
              "      <td>2018-07-04 11:28:00</td>\n",
              "      <td>2018-07-10 17:07:33</td>\n",
              "      <td>2018-08-07</td>\n",
              "      <td>5.0</td>\n",
              "      <td>1</td>\n",
              "      <td>19c91ef95d509ea33eda93495c4d3481</td>\n",
              "      <td>06a2c3af7b3aee5d69171b0e14f0ee87</td>\n",
              "      <td>2018-07-09 09:31:52</td>\n",
              "      <td>122.99</td>\n",
              "      <td>20.05</td>\n",
              "      <td>122.99</td>\n",
              "    </tr>\n",
              "  </tbody>\n",
              "</table>\n",
              "</div>"
            ],
            "text/plain": [
              "                                order_id                       customer_id  \\\n",
              "106248  82b3e56e64b216d06b20bb4ca4a0d84e  0335ba5113b08cc91e56660c92b370bd   \n",
              "75133   a5e045a63fbea3842f888a42153c61e3  ef6160b152a7df62401e31c5d3f548c2   \n",
              "27693   83b109feea07a54cdd034845cccd53b3  3e0b7768b5fca0be48e2981fb71823b7   \n",
              "98028   2b816c3dd6289435f8cbb71f22f4061f  4382a843aa3bf7571f81732d6262bc41   \n",
              "67558   f9acbb9c41a974fa5fdd57e6bf85846a  fdcdab30bfa02a13cba1adeef408d4b5   \n",
              "\n",
              "       order_status order_purchase_timestamp   order_approved_at  \\\n",
              "106248    delivered      2017-12-19 19:09:35 2017-12-19 20:11:27   \n",
              "75133     delivered      2018-06-12 21:58:58 2018-06-12 23:22:26   \n",
              "27693     delivered      2018-01-29 15:37:19 2018-01-29 16:10:43   \n",
              "98028     delivered      2017-08-20 18:59:55 2017-08-20 19:10:18   \n",
              "67558     delivered      2018-07-03 09:03:34 2018-07-05 16:40:33   \n",
              "\n",
              "       order_delivered_carrier_date order_delivered_customer_date  \\\n",
              "106248          2017-12-20 16:52:07           2017-12-21 14:28:49   \n",
              "75133           2018-06-18 15:03:00           2018-06-21 12:41:21   \n",
              "27693           2018-01-31 16:41:57           2018-02-05 17:13:05   \n",
              "98028           2017-08-21 18:44:35           2017-08-24 20:47:41   \n",
              "67558           2018-07-04 11:28:00           2018-07-10 17:07:33   \n",
              "\n",
              "       order_estimated_delivery_date  delivery_time  order_item_id  \\\n",
              "106248                    2018-01-08            1.0              2   \n",
              "75133                     2018-06-26            8.0              1   \n",
              "27693                     2018-02-14            7.0              1   \n",
              "98028                     2017-09-20            4.0              2   \n",
              "67558                     2018-08-07            5.0              1   \n",
              "\n",
              "                              product_id                         seller_id  \\\n",
              "106248  e03102efbc2229024c89be731f0aedcb  2c9e548be18521d1c43cde1c582c6de8   \n",
              "75133   500870614ddcf5bd84f7d26861026c8a  ef506c96320abeedfb894c34db06f478   \n",
              "27693   1f5b481884bcb937cc06892b7419eaf8  5f1dc28029d2c244352a68107ec2b542   \n",
              "98028   99a4788cb24856965c36a24e339b6058  4a3ca9315b744ce9f8e9374361493884   \n",
              "67558   19c91ef95d509ea33eda93495c4d3481  06a2c3af7b3aee5d69171b0e14f0ee87   \n",
              "\n",
              "       shipping_limit_date   price  freight_value  total_price  \n",
              "106248 2017-12-26 20:11:27   39.90           9.34        79.80  \n",
              "75133  2018-06-18 23:22:26   14.00           7.39        14.00  \n",
              "27693  2018-02-02 16:10:43   26.50           8.72        26.50  \n",
              "98028  2017-08-24 19:10:18   89.90           4.71       179.80  \n",
              "67558  2018-07-09 09:31:52  122.99          20.05       122.99  "
            ]
          },
          "execution_count": 49,
          "metadata": {},
          "output_type": "execute_result"
        }
      ],
      "source": [
        "orders_items = pd.merge(left=orders, right=order_items, on='order_id', how='inner')\n",
        "orders_items['total_price'] = orders_items.order_item_id * orders_items.price\n",
        "orders_items.sample(5)"
      ]
    },
    {
      "cell_type": "code",
      "execution_count": 50,
      "metadata": {},
      "outputs": [
        {
          "name": "stdout",
          "output_type": "stream",
          "text": [
            "(117601, 20)\n"
          ]
        },
        {
          "data": {
            "text/html": [
              "<div>\n",
              "<style scoped>\n",
              "    .dataframe tbody tr th:only-of-type {\n",
              "        vertical-align: middle;\n",
              "    }\n",
              "\n",
              "    .dataframe tbody tr th {\n",
              "        vertical-align: top;\n",
              "    }\n",
              "\n",
              "    .dataframe thead th {\n",
              "        text-align: right;\n",
              "    }\n",
              "</style>\n",
              "<table border=\"1\" class=\"dataframe\">\n",
              "  <thead>\n",
              "    <tr style=\"text-align: right;\">\n",
              "      <th></th>\n",
              "      <th>order_id</th>\n",
              "      <th>customer_id</th>\n",
              "      <th>order_status</th>\n",
              "      <th>order_purchase_timestamp</th>\n",
              "      <th>order_approved_at</th>\n",
              "      <th>order_delivered_carrier_date</th>\n",
              "      <th>order_delivered_customer_date</th>\n",
              "      <th>order_estimated_delivery_date</th>\n",
              "      <th>delivery_time</th>\n",
              "      <th>order_item_id</th>\n",
              "      <th>product_id</th>\n",
              "      <th>seller_id</th>\n",
              "      <th>shipping_limit_date</th>\n",
              "      <th>price</th>\n",
              "      <th>freight_value</th>\n",
              "      <th>total_price</th>\n",
              "      <th>payment_sequential</th>\n",
              "      <th>payment_type</th>\n",
              "      <th>payment_installments</th>\n",
              "      <th>payment_value</th>\n",
              "    </tr>\n",
              "  </thead>\n",
              "  <tbody>\n",
              "    <tr>\n",
              "      <th>68989</th>\n",
              "      <td>78cf50046b61f1f374ab7dc4a12bd20d</td>\n",
              "      <td>52dec57d26ea560ce974dc4afdfd21eb</td>\n",
              "      <td>delivered</td>\n",
              "      <td>2017-08-10 11:31:45</td>\n",
              "      <td>2017-08-12 02:51:10</td>\n",
              "      <td>2017-08-14 20:53:49</td>\n",
              "      <td>2017-08-22 09:49:53</td>\n",
              "      <td>2017-09-01</td>\n",
              "      <td>10.0</td>\n",
              "      <td>1</td>\n",
              "      <td>601a360bd2a916ecef0e88de72a6531a</td>\n",
              "      <td>7a67c85e85bb2ce8582c35f2203ad736</td>\n",
              "      <td>2017-08-17 02:51:10</td>\n",
              "      <td>118.99</td>\n",
              "      <td>18.08</td>\n",
              "      <td>118.99</td>\n",
              "      <td>1</td>\n",
              "      <td>boleto</td>\n",
              "      <td>1</td>\n",
              "      <td>137.07</td>\n",
              "    </tr>\n",
              "    <tr>\n",
              "      <th>30960</th>\n",
              "      <td>2f8fcfe0b82ecb5bf95a056e04b3181f</td>\n",
              "      <td>de63777364ce7bd557a7bbf2972b5c8f</td>\n",
              "      <td>delivered</td>\n",
              "      <td>2017-10-24 19:42:00</td>\n",
              "      <td>2017-10-24 19:56:20</td>\n",
              "      <td>2017-11-08 21:48:02</td>\n",
              "      <td>2017-11-17 23:08:49</td>\n",
              "      <td>2017-11-29</td>\n",
              "      <td>24.0</td>\n",
              "      <td>1</td>\n",
              "      <td>500870614ddcf5bd84f7d26861026c8a</td>\n",
              "      <td>ef506c96320abeedfb894c34db06f478</td>\n",
              "      <td>2017-11-14 19:56:20</td>\n",
              "      <td>29.99</td>\n",
              "      <td>14.10</td>\n",
              "      <td>29.99</td>\n",
              "      <td>1</td>\n",
              "      <td>credit_card</td>\n",
              "      <td>1</td>\n",
              "      <td>44.09</td>\n",
              "    </tr>\n",
              "    <tr>\n",
              "      <th>28998</th>\n",
              "      <td>186c43c492d0813457a0da8ee78ef748</td>\n",
              "      <td>c78afbf707e4446398d86ac463c3fd4c</td>\n",
              "      <td>delivered</td>\n",
              "      <td>2017-11-13 11:44:54</td>\n",
              "      <td>2017-11-13 12:06:39</td>\n",
              "      <td>2017-11-16 13:13:52</td>\n",
              "      <td>2017-11-29 20:51:45</td>\n",
              "      <td>2017-12-13</td>\n",
              "      <td>16.0</td>\n",
              "      <td>3</td>\n",
              "      <td>7d681d24b9bad757fb34b0d464c350e4</td>\n",
              "      <td>7178f9f4dd81dcef02f62acdf8151e01</td>\n",
              "      <td>2017-11-23 12:06:39</td>\n",
              "      <td>39.90</td>\n",
              "      <td>34.15</td>\n",
              "      <td>119.70</td>\n",
              "      <td>1</td>\n",
              "      <td>credit_card</td>\n",
              "      <td>5</td>\n",
              "      <td>222.15</td>\n",
              "    </tr>\n",
              "  </tbody>\n",
              "</table>\n",
              "</div>"
            ],
            "text/plain": [
              "                               order_id                       customer_id  \\\n",
              "68989  78cf50046b61f1f374ab7dc4a12bd20d  52dec57d26ea560ce974dc4afdfd21eb   \n",
              "30960  2f8fcfe0b82ecb5bf95a056e04b3181f  de63777364ce7bd557a7bbf2972b5c8f   \n",
              "28998  186c43c492d0813457a0da8ee78ef748  c78afbf707e4446398d86ac463c3fd4c   \n",
              "\n",
              "      order_status order_purchase_timestamp   order_approved_at  \\\n",
              "68989    delivered      2017-08-10 11:31:45 2017-08-12 02:51:10   \n",
              "30960    delivered      2017-10-24 19:42:00 2017-10-24 19:56:20   \n",
              "28998    delivered      2017-11-13 11:44:54 2017-11-13 12:06:39   \n",
              "\n",
              "      order_delivered_carrier_date order_delivered_customer_date  \\\n",
              "68989          2017-08-14 20:53:49           2017-08-22 09:49:53   \n",
              "30960          2017-11-08 21:48:02           2017-11-17 23:08:49   \n",
              "28998          2017-11-16 13:13:52           2017-11-29 20:51:45   \n",
              "\n",
              "      order_estimated_delivery_date  delivery_time  order_item_id  \\\n",
              "68989                    2017-09-01           10.0              1   \n",
              "30960                    2017-11-29           24.0              1   \n",
              "28998                    2017-12-13           16.0              3   \n",
              "\n",
              "                             product_id                         seller_id  \\\n",
              "68989  601a360bd2a916ecef0e88de72a6531a  7a67c85e85bb2ce8582c35f2203ad736   \n",
              "30960  500870614ddcf5bd84f7d26861026c8a  ef506c96320abeedfb894c34db06f478   \n",
              "28998  7d681d24b9bad757fb34b0d464c350e4  7178f9f4dd81dcef02f62acdf8151e01   \n",
              "\n",
              "      shipping_limit_date   price  freight_value  total_price  \\\n",
              "68989 2017-08-17 02:51:10  118.99          18.08       118.99   \n",
              "30960 2017-11-14 19:56:20   29.99          14.10        29.99   \n",
              "28998 2017-11-23 12:06:39   39.90          34.15       119.70   \n",
              "\n",
              "       payment_sequential payment_type  payment_installments  payment_value  \n",
              "68989                   1       boleto                     1         137.07  \n",
              "30960                   1  credit_card                     1          44.09  \n",
              "28998                   1  credit_card                     5         222.15  "
            ]
          },
          "execution_count": 50,
          "metadata": {},
          "output_type": "execute_result"
        }
      ],
      "source": [
        "orders_items_payments = pd.merge(left=orders_items, right=order_payments, on='order_id')\n",
        "print(orders_items_payments.shape)\n",
        "orders_items_payments.sample(3)\n",
        "# world.continent.value_counts()"
      ]
    },
    {
      "cell_type": "code",
      "execution_count": 51,
      "metadata": {},
      "outputs": [
        {
          "data": {
            "text/html": [
              "<div>\n",
              "<style scoped>\n",
              "    .dataframe tbody tr th:only-of-type {\n",
              "        vertical-align: middle;\n",
              "    }\n",
              "\n",
              "    .dataframe tbody tr th {\n",
              "        vertical-align: top;\n",
              "    }\n",
              "\n",
              "    .dataframe thead th {\n",
              "        text-align: right;\n",
              "    }\n",
              "</style>\n",
              "<table border=\"1\" class=\"dataframe\">\n",
              "  <thead>\n",
              "    <tr style=\"text-align: right;\">\n",
              "      <th></th>\n",
              "      <th>order_id</th>\n",
              "      <th>customer_id</th>\n",
              "      <th>order_status</th>\n",
              "      <th>order_purchase_timestamp</th>\n",
              "      <th>order_approved_at</th>\n",
              "      <th>order_delivered_carrier_date</th>\n",
              "      <th>order_delivered_customer_date</th>\n",
              "      <th>order_estimated_delivery_date</th>\n",
              "      <th>delivery_time</th>\n",
              "      <th>order_item_id</th>\n",
              "      <th>...</th>\n",
              "      <th>payment_sequential</th>\n",
              "      <th>payment_type</th>\n",
              "      <th>payment_installments</th>\n",
              "      <th>payment_value</th>\n",
              "      <th>review_id</th>\n",
              "      <th>review_score</th>\n",
              "      <th>review_comment_title</th>\n",
              "      <th>review_comment_message</th>\n",
              "      <th>review_creation_date</th>\n",
              "      <th>review_answer_timestamp</th>\n",
              "    </tr>\n",
              "  </thead>\n",
              "  <tbody>\n",
              "    <tr>\n",
              "      <th>37782</th>\n",
              "      <td>3dc960d5915983c12f6dc9277ad14b29</td>\n",
              "      <td>0e690432c515db8755f64ec9bc8f28f1</td>\n",
              "      <td>delivered</td>\n",
              "      <td>2017-12-20 12:46:59</td>\n",
              "      <td>2017-12-22 02:38:55</td>\n",
              "      <td>2017-12-22 19:25:05</td>\n",
              "      <td>2018-01-03 18:46:05</td>\n",
              "      <td>2018-01-22</td>\n",
              "      <td>12.0</td>\n",
              "      <td>1</td>\n",
              "      <td>...</td>\n",
              "      <td>1</td>\n",
              "      <td>boleto</td>\n",
              "      <td>1</td>\n",
              "      <td>104.28</td>\n",
              "      <td>da8396eec9be879af33176f64f5ec3ee</td>\n",
              "      <td>4</td>\n",
              "      <td>NaN</td>\n",
              "      <td>NaN</td>\n",
              "      <td>2018-01-04</td>\n",
              "      <td>2018-01-07 11:15:16</td>\n",
              "    </tr>\n",
              "    <tr>\n",
              "      <th>52635</th>\n",
              "      <td>c9501c00fae501ebb1ac842b94bbf192</td>\n",
              "      <td>32f739c8fd212a33fe7598777b9cd503</td>\n",
              "      <td>delivered</td>\n",
              "      <td>2018-04-25 14:31:11</td>\n",
              "      <td>2018-04-26 03:51:39</td>\n",
              "      <td>2018-04-27 11:30:00</td>\n",
              "      <td>2018-05-12 13:17:26</td>\n",
              "      <td>2018-05-28</td>\n",
              "      <td>16.0</td>\n",
              "      <td>1</td>\n",
              "      <td>...</td>\n",
              "      <td>1</td>\n",
              "      <td>boleto</td>\n",
              "      <td>1</td>\n",
              "      <td>122.99</td>\n",
              "      <td>9a7cd8f8cd89e7e4878798c9ee6e2413</td>\n",
              "      <td>5</td>\n",
              "      <td>NaN</td>\n",
              "      <td>NaN</td>\n",
              "      <td>2018-05-13</td>\n",
              "      <td>2018-05-16 20:53:30</td>\n",
              "    </tr>\n",
              "    <tr>\n",
              "      <th>38454</th>\n",
              "      <td>7e40398e4b930885edc608594647816d</td>\n",
              "      <td>c185833d462da144099384d6ac6a1ea2</td>\n",
              "      <td>delivered</td>\n",
              "      <td>2017-12-05 20:29:02</td>\n",
              "      <td>2017-12-08 15:13:18</td>\n",
              "      <td>2017-12-09 13:32:36</td>\n",
              "      <td>2017-12-29 19:25:21</td>\n",
              "      <td>2018-01-02</td>\n",
              "      <td>21.0</td>\n",
              "      <td>2</td>\n",
              "      <td>...</td>\n",
              "      <td>1</td>\n",
              "      <td>voucher</td>\n",
              "      <td>1</td>\n",
              "      <td>87.10</td>\n",
              "      <td>2376f556b8d5c24003acef73ab11f636</td>\n",
              "      <td>3</td>\n",
              "      <td>NaN</td>\n",
              "      <td>Foi entregue apenas parte do pedido</td>\n",
              "      <td>2017-12-30</td>\n",
              "      <td>2018-01-03 12:55:30</td>\n",
              "    </tr>\n",
              "  </tbody>\n",
              "</table>\n",
              "<p>3 rows × 26 columns</p>\n",
              "</div>"
            ],
            "text/plain": [
              "                               order_id                       customer_id  \\\n",
              "37782  3dc960d5915983c12f6dc9277ad14b29  0e690432c515db8755f64ec9bc8f28f1   \n",
              "52635  c9501c00fae501ebb1ac842b94bbf192  32f739c8fd212a33fe7598777b9cd503   \n",
              "38454  7e40398e4b930885edc608594647816d  c185833d462da144099384d6ac6a1ea2   \n",
              "\n",
              "      order_status order_purchase_timestamp   order_approved_at  \\\n",
              "37782    delivered      2017-12-20 12:46:59 2017-12-22 02:38:55   \n",
              "52635    delivered      2018-04-25 14:31:11 2018-04-26 03:51:39   \n",
              "38454    delivered      2017-12-05 20:29:02 2017-12-08 15:13:18   \n",
              "\n",
              "      order_delivered_carrier_date order_delivered_customer_date  \\\n",
              "37782          2017-12-22 19:25:05           2018-01-03 18:46:05   \n",
              "52635          2018-04-27 11:30:00           2018-05-12 13:17:26   \n",
              "38454          2017-12-09 13:32:36           2017-12-29 19:25:21   \n",
              "\n",
              "      order_estimated_delivery_date  delivery_time  order_item_id  ...  \\\n",
              "37782                    2018-01-22           12.0              1  ...   \n",
              "52635                    2018-05-28           16.0              1  ...   \n",
              "38454                    2018-01-02           21.0              2  ...   \n",
              "\n",
              "      payment_sequential payment_type payment_installments  payment_value  \\\n",
              "37782                  1       boleto                    1         104.28   \n",
              "52635                  1       boleto                    1         122.99   \n",
              "38454                  1      voucher                    1          87.10   \n",
              "\n",
              "                              review_id  review_score  review_comment_title  \\\n",
              "37782  da8396eec9be879af33176f64f5ec3ee             4                   NaN   \n",
              "52635  9a7cd8f8cd89e7e4878798c9ee6e2413             5                   NaN   \n",
              "38454  2376f556b8d5c24003acef73ab11f636             3                   NaN   \n",
              "\n",
              "                    review_comment_message  review_creation_date  \\\n",
              "37782                                  NaN            2018-01-04   \n",
              "52635                                  NaN            2018-05-13   \n",
              "38454  Foi entregue apenas parte do pedido            2017-12-30   \n",
              "\n",
              "       review_answer_timestamp  \n",
              "37782      2018-01-07 11:15:16  \n",
              "52635      2018-05-16 20:53:30  \n",
              "38454      2018-01-03 12:55:30  \n",
              "\n",
              "[3 rows x 26 columns]"
            ]
          },
          "execution_count": 51,
          "metadata": {},
          "output_type": "execute_result"
        }
      ],
      "source": [
        "all_orders = pd.merge(left=orders_items_payments, right=order_reviews, on='order_id')\n",
        "all_orders.sample(3)"
      ]
    },
    {
      "cell_type": "code",
      "execution_count": 52,
      "metadata": {},
      "outputs": [
        {
          "data": {
            "text/plain": [
              "cust_status\n",
              "Active    99441\n",
              "Name: count, dtype: int64"
            ]
          },
          "execution_count": 52,
          "metadata": {},
          "output_type": "execute_result"
        }
      ],
      "source": [
        "cust_list = customers.customer_id.to_list()\n",
        "customers['cust_status'] = orders.customer_id.apply(lambda x: \"Active\" if x in cust_list else \"In-Active\")\n",
        "\n",
        "customers.cust_status.value_counts()"
      ]
    },
    {
      "cell_type": "markdown",
      "metadata": {},
      "source": [
        "#### Explore Products"
      ]
    },
    {
      "cell_type": "code",
      "execution_count": 53,
      "metadata": {},
      "outputs": [
        {
          "name": "stdout",
          "output_type": "stream",
          "text": [
            "(32951, 9)\n"
          ]
        },
        {
          "data": {
            "text/html": [
              "<div>\n",
              "<style scoped>\n",
              "    .dataframe tbody tr th:only-of-type {\n",
              "        vertical-align: middle;\n",
              "    }\n",
              "\n",
              "    .dataframe tbody tr th {\n",
              "        vertical-align: top;\n",
              "    }\n",
              "\n",
              "    .dataframe thead th {\n",
              "        text-align: right;\n",
              "    }\n",
              "</style>\n",
              "<table border=\"1\" class=\"dataframe\">\n",
              "  <thead>\n",
              "    <tr style=\"text-align: right;\">\n",
              "      <th></th>\n",
              "      <th>product_id</th>\n",
              "      <th>product_category_name</th>\n",
              "      <th>product_name_lenght</th>\n",
              "      <th>product_description_lenght</th>\n",
              "      <th>product_photos_qty</th>\n",
              "      <th>product_weight_g</th>\n",
              "      <th>product_length_cm</th>\n",
              "      <th>product_height_cm</th>\n",
              "      <th>product_width_cm</th>\n",
              "    </tr>\n",
              "  </thead>\n",
              "  <tbody>\n",
              "    <tr>\n",
              "      <th>15472</th>\n",
              "      <td>b3bce4552b02817249347cc257c9e61a</td>\n",
              "      <td>relogios_presentes</td>\n",
              "      <td>59.0</td>\n",
              "      <td>374.0</td>\n",
              "      <td>7.0</td>\n",
              "      <td>200.0</td>\n",
              "      <td>16.0</td>\n",
              "      <td>2.0</td>\n",
              "      <td>11.0</td>\n",
              "    </tr>\n",
              "    <tr>\n",
              "      <th>18307</th>\n",
              "      <td>02a1edfc6f788c8329299c7244acf2e8</td>\n",
              "      <td>esporte_lazer</td>\n",
              "      <td>30.0</td>\n",
              "      <td>489.0</td>\n",
              "      <td>1.0</td>\n",
              "      <td>800.0</td>\n",
              "      <td>21.0</td>\n",
              "      <td>25.0</td>\n",
              "      <td>21.0</td>\n",
              "    </tr>\n",
              "    <tr>\n",
              "      <th>1012</th>\n",
              "      <td>4834f24983a4f056e5ae64265f723aaf</td>\n",
              "      <td>eletronicos</td>\n",
              "      <td>52.0</td>\n",
              "      <td>468.0</td>\n",
              "      <td>3.0</td>\n",
              "      <td>230.0</td>\n",
              "      <td>16.0</td>\n",
              "      <td>14.0</td>\n",
              "      <td>15.0</td>\n",
              "    </tr>\n",
              "  </tbody>\n",
              "</table>\n",
              "</div>"
            ],
            "text/plain": [
              "                             product_id product_category_name  \\\n",
              "15472  b3bce4552b02817249347cc257c9e61a    relogios_presentes   \n",
              "18307  02a1edfc6f788c8329299c7244acf2e8         esporte_lazer   \n",
              "1012   4834f24983a4f056e5ae64265f723aaf           eletronicos   \n",
              "\n",
              "       product_name_lenght  product_description_lenght  product_photos_qty  \\\n",
              "15472                 59.0                       374.0                 7.0   \n",
              "18307                 30.0                       489.0                 1.0   \n",
              "1012                  52.0                       468.0                 3.0   \n",
              "\n",
              "       product_weight_g  product_length_cm  product_height_cm  \\\n",
              "15472             200.0               16.0                2.0   \n",
              "18307             800.0               21.0               25.0   \n",
              "1012              230.0               16.0               14.0   \n",
              "\n",
              "       product_width_cm  \n",
              "15472              11.0  \n",
              "18307              21.0  \n",
              "1012               15.0  "
            ]
          },
          "execution_count": 53,
          "metadata": {},
          "output_type": "execute_result"
        }
      ],
      "source": [
        "print(products.shape)\n",
        "products.sample(3)"
      ]
    },
    {
      "cell_type": "code",
      "execution_count": 54,
      "metadata": {},
      "outputs": [
        {
          "name": "stdout",
          "output_type": "stream",
          "text": [
            "(71, 2)\n"
          ]
        },
        {
          "data": {
            "text/html": [
              "<div>\n",
              "<style scoped>\n",
              "    .dataframe tbody tr th:only-of-type {\n",
              "        vertical-align: middle;\n",
              "    }\n",
              "\n",
              "    .dataframe tbody tr th {\n",
              "        vertical-align: top;\n",
              "    }\n",
              "\n",
              "    .dataframe thead th {\n",
              "        text-align: right;\n",
              "    }\n",
              "</style>\n",
              "<table border=\"1\" class=\"dataframe\">\n",
              "  <thead>\n",
              "    <tr style=\"text-align: right;\">\n",
              "      <th></th>\n",
              "      <th>product_category_name</th>\n",
              "      <th>product_category_name_english</th>\n",
              "    </tr>\n",
              "  </thead>\n",
              "  <tbody>\n",
              "    <tr>\n",
              "      <th>33</th>\n",
              "      <td>eletrodomesticos</td>\n",
              "      <td>home_appliances</td>\n",
              "    </tr>\n",
              "    <tr>\n",
              "      <th>40</th>\n",
              "      <td>casa_construcao</td>\n",
              "      <td>home_construction</td>\n",
              "    </tr>\n",
              "    <tr>\n",
              "      <th>48</th>\n",
              "      <td>livros_interesse_geral</td>\n",
              "      <td>books_general_interest</td>\n",
              "    </tr>\n",
              "  </tbody>\n",
              "</table>\n",
              "</div>"
            ],
            "text/plain": [
              "     product_category_name product_category_name_english\n",
              "33        eletrodomesticos               home_appliances\n",
              "40         casa_construcao             home_construction\n",
              "48  livros_interesse_geral        books_general_interest"
            ]
          },
          "execution_count": 54,
          "metadata": {},
          "output_type": "execute_result"
        }
      ],
      "source": [
        "print(product_cat_name.shape)\n",
        "product_cat_name.sample(3)"
      ]
    },
    {
      "cell_type": "code",
      "execution_count": 55,
      "metadata": {},
      "outputs": [
        {
          "name": "stdout",
          "output_type": "stream",
          "text": [
            "(32328, 10)\n"
          ]
        },
        {
          "data": {
            "text/html": [
              "<div>\n",
              "<style scoped>\n",
              "    .dataframe tbody tr th:only-of-type {\n",
              "        vertical-align: middle;\n",
              "    }\n",
              "\n",
              "    .dataframe tbody tr th {\n",
              "        vertical-align: top;\n",
              "    }\n",
              "\n",
              "    .dataframe thead th {\n",
              "        text-align: right;\n",
              "    }\n",
              "</style>\n",
              "<table border=\"1\" class=\"dataframe\">\n",
              "  <thead>\n",
              "    <tr style=\"text-align: right;\">\n",
              "      <th></th>\n",
              "      <th>product_id</th>\n",
              "      <th>product_category_name</th>\n",
              "      <th>product_name_lenght</th>\n",
              "      <th>product_description_lenght</th>\n",
              "      <th>product_photos_qty</th>\n",
              "      <th>product_weight_g</th>\n",
              "      <th>product_length_cm</th>\n",
              "      <th>product_height_cm</th>\n",
              "      <th>product_width_cm</th>\n",
              "      <th>product_category_name_english</th>\n",
              "    </tr>\n",
              "  </thead>\n",
              "  <tbody>\n",
              "    <tr>\n",
              "      <th>9154</th>\n",
              "      <td>ea3da91e6ba865972f9344cb9265296b</td>\n",
              "      <td>moveis_decoracao</td>\n",
              "      <td>19.0</td>\n",
              "      <td>262.0</td>\n",
              "      <td>1.0</td>\n",
              "      <td>10500.0</td>\n",
              "      <td>36.0</td>\n",
              "      <td>47.0</td>\n",
              "      <td>36.0</td>\n",
              "      <td>furniture_decor</td>\n",
              "    </tr>\n",
              "    <tr>\n",
              "      <th>31306</th>\n",
              "      <td>211293b50935ced8d4370f552c482d74</td>\n",
              "      <td>bebidas</td>\n",
              "      <td>55.0</td>\n",
              "      <td>1736.0</td>\n",
              "      <td>3.0</td>\n",
              "      <td>226.0</td>\n",
              "      <td>18.0</td>\n",
              "      <td>16.0</td>\n",
              "      <td>16.0</td>\n",
              "      <td>drinks</td>\n",
              "    </tr>\n",
              "    <tr>\n",
              "      <th>19713</th>\n",
              "      <td>c710d4f0236009b5f3091aa6ccdc4760</td>\n",
              "      <td>beleza_saude</td>\n",
              "      <td>48.0</td>\n",
              "      <td>1061.0</td>\n",
              "      <td>1.0</td>\n",
              "      <td>1425.0</td>\n",
              "      <td>22.0</td>\n",
              "      <td>13.0</td>\n",
              "      <td>20.0</td>\n",
              "      <td>health_beauty</td>\n",
              "    </tr>\n",
              "  </tbody>\n",
              "</table>\n",
              "</div>"
            ],
            "text/plain": [
              "                             product_id product_category_name  \\\n",
              "9154   ea3da91e6ba865972f9344cb9265296b      moveis_decoracao   \n",
              "31306  211293b50935ced8d4370f552c482d74               bebidas   \n",
              "19713  c710d4f0236009b5f3091aa6ccdc4760          beleza_saude   \n",
              "\n",
              "       product_name_lenght  product_description_lenght  product_photos_qty  \\\n",
              "9154                  19.0                       262.0                 1.0   \n",
              "31306                 55.0                      1736.0                 3.0   \n",
              "19713                 48.0                      1061.0                 1.0   \n",
              "\n",
              "       product_weight_g  product_length_cm  product_height_cm  \\\n",
              "9154            10500.0               36.0               47.0   \n",
              "31306             226.0               18.0               16.0   \n",
              "19713            1425.0               22.0               13.0   \n",
              "\n",
              "       product_width_cm product_category_name_english  \n",
              "9154               36.0               furniture_decor  \n",
              "31306              16.0                        drinks  \n",
              "19713              20.0                 health_beauty  "
            ]
          },
          "execution_count": 55,
          "metadata": {},
          "output_type": "execute_result"
        }
      ],
      "source": [
        "products_cat_name_translation = pd.merge(left=products, right=product_cat_name, on='product_category_name')\n",
        "print(products_cat_name_translation.shape)\n",
        "products_cat_name_translation.sample(3)"
      ]
    },
    {
      "cell_type": "markdown",
      "metadata": {},
      "source": [
        "#### Merger customer, order and product"
      ]
    },
    {
      "cell_type": "code",
      "execution_count": 56,
      "metadata": {},
      "outputs": [
        {
          "name": "stdout",
          "output_type": "stream",
          "text": [
            "(115609, 40)\n"
          ]
        },
        {
          "data": {
            "text/html": [
              "<div>\n",
              "<style scoped>\n",
              "    .dataframe tbody tr th:only-of-type {\n",
              "        vertical-align: middle;\n",
              "    }\n",
              "\n",
              "    .dataframe tbody tr th {\n",
              "        vertical-align: top;\n",
              "    }\n",
              "\n",
              "    .dataframe thead th {\n",
              "        text-align: right;\n",
              "    }\n",
              "</style>\n",
              "<table border=\"1\" class=\"dataframe\">\n",
              "  <thead>\n",
              "    <tr style=\"text-align: right;\">\n",
              "      <th></th>\n",
              "      <th>order_id</th>\n",
              "      <th>order_status</th>\n",
              "      <th>order_item_id</th>\n",
              "      <th>price</th>\n",
              "      <th>product_id</th>\n",
              "      <th>total_price</th>\n",
              "      <th>product_category_name</th>\n",
              "      <th>product_category_name_english</th>\n",
              "    </tr>\n",
              "  </thead>\n",
              "  <tbody>\n",
              "    <tr>\n",
              "      <th>387</th>\n",
              "      <td>5ff96c15d0b717ac6ad1f3d77225a350</td>\n",
              "      <td>delivered</td>\n",
              "      <td>1</td>\n",
              "      <td>19.90</td>\n",
              "      <td>10adb53d8faa890ca7c2f0cbcb68d777</td>\n",
              "      <td>19.90</td>\n",
              "      <td>cama_mesa_banho</td>\n",
              "      <td>bed_bath_table</td>\n",
              "    </tr>\n",
              "    <tr>\n",
              "      <th>388</th>\n",
              "      <td>270cd1874ca5310906e251407490d66c</td>\n",
              "      <td>delivered</td>\n",
              "      <td>1</td>\n",
              "      <td>19.90</td>\n",
              "      <td>10adb53d8faa890ca7c2f0cbcb68d777</td>\n",
              "      <td>19.90</td>\n",
              "      <td>cama_mesa_banho</td>\n",
              "      <td>bed_bath_table</td>\n",
              "    </tr>\n",
              "    <tr>\n",
              "      <th>389</th>\n",
              "      <td>3dcab1487bcd1dbcc6c968fdfe0511fb</td>\n",
              "      <td>delivered</td>\n",
              "      <td>2</td>\n",
              "      <td>19.90</td>\n",
              "      <td>10adb53d8faa890ca7c2f0cbcb68d777</td>\n",
              "      <td>39.80</td>\n",
              "      <td>cama_mesa_banho</td>\n",
              "      <td>bed_bath_table</td>\n",
              "    </tr>\n",
              "    <tr>\n",
              "      <th>390</th>\n",
              "      <td>224bad763c3bcc7aea8ca8f87fce6608</td>\n",
              "      <td>delivered</td>\n",
              "      <td>1</td>\n",
              "      <td>19.90</td>\n",
              "      <td>10adb53d8faa890ca7c2f0cbcb68d777</td>\n",
              "      <td>19.90</td>\n",
              "      <td>cama_mesa_banho</td>\n",
              "      <td>bed_bath_table</td>\n",
              "    </tr>\n",
              "    <tr>\n",
              "      <th>391</th>\n",
              "      <td>e0e3cde1bd7f993b460771481843727f</td>\n",
              "      <td>delivered</td>\n",
              "      <td>3</td>\n",
              "      <td>19.90</td>\n",
              "      <td>10adb53d8faa890ca7c2f0cbcb68d777</td>\n",
              "      <td>59.70</td>\n",
              "      <td>cama_mesa_banho</td>\n",
              "      <td>bed_bath_table</td>\n",
              "    </tr>\n",
              "    <tr>\n",
              "      <th>...</th>\n",
              "      <td>...</td>\n",
              "      <td>...</td>\n",
              "      <td>...</td>\n",
              "      <td>...</td>\n",
              "      <td>...</td>\n",
              "      <td>...</td>\n",
              "      <td>...</td>\n",
              "      <td>...</td>\n",
              "    </tr>\n",
              "    <tr>\n",
              "      <th>115553</th>\n",
              "      <td>3b506802b619f7a3d43a4180ae13698f</td>\n",
              "      <td>delivered</td>\n",
              "      <td>1</td>\n",
              "      <td>170.00</td>\n",
              "      <td>1fbeaaa01377d3f600de52f455ef578c</td>\n",
              "      <td>170.00</td>\n",
              "      <td>cama_mesa_banho</td>\n",
              "      <td>bed_bath_table</td>\n",
              "    </tr>\n",
              "    <tr>\n",
              "      <th>115562</th>\n",
              "      <td>2583b27eb8957bea688a9cd41b7c0f47</td>\n",
              "      <td>delivered</td>\n",
              "      <td>1</td>\n",
              "      <td>249.99</td>\n",
              "      <td>914997fa7aef743334b7c0da8580fd5e</td>\n",
              "      <td>249.99</td>\n",
              "      <td>cama_mesa_banho</td>\n",
              "      <td>bed_bath_table</td>\n",
              "    </tr>\n",
              "    <tr>\n",
              "      <th>115563</th>\n",
              "      <td>08b46ab06eaf71cf043929ebf277e280</td>\n",
              "      <td>delivered</td>\n",
              "      <td>2</td>\n",
              "      <td>40.00</td>\n",
              "      <td>93dd9d8291fad4757cf910f1a80eb0ac</td>\n",
              "      <td>80.00</td>\n",
              "      <td>cama_mesa_banho</td>\n",
              "      <td>bed_bath_table</td>\n",
              "    </tr>\n",
              "    <tr>\n",
              "      <th>115573</th>\n",
              "      <td>17ff863d51f7f8ee2c9dc76413c43b54</td>\n",
              "      <td>delivered</td>\n",
              "      <td>1</td>\n",
              "      <td>119.90</td>\n",
              "      <td>29353bc591cb0f1a7cfa75382a0c6170</td>\n",
              "      <td>119.90</td>\n",
              "      <td>cama_mesa_banho</td>\n",
              "      <td>bed_bath_table</td>\n",
              "    </tr>\n",
              "    <tr>\n",
              "      <th>115595</th>\n",
              "      <td>432b94fc93fa7876de3b78bd99ddc053</td>\n",
              "      <td>delivered</td>\n",
              "      <td>1</td>\n",
              "      <td>146.99</td>\n",
              "      <td>d275bb0f793c1f80031e1f6ae7e1ab00</td>\n",
              "      <td>146.99</td>\n",
              "      <td>cama_mesa_banho</td>\n",
              "      <td>bed_bath_table</td>\n",
              "    </tr>\n",
              "  </tbody>\n",
              "</table>\n",
              "<p>11847 rows × 8 columns</p>\n",
              "</div>"
            ],
            "text/plain": [
              "                                order_id order_status  order_item_id   price  \\\n",
              "387     5ff96c15d0b717ac6ad1f3d77225a350    delivered              1   19.90   \n",
              "388     270cd1874ca5310906e251407490d66c    delivered              1   19.90   \n",
              "389     3dcab1487bcd1dbcc6c968fdfe0511fb    delivered              2   19.90   \n",
              "390     224bad763c3bcc7aea8ca8f87fce6608    delivered              1   19.90   \n",
              "391     e0e3cde1bd7f993b460771481843727f    delivered              3   19.90   \n",
              "...                                  ...          ...            ...     ...   \n",
              "115553  3b506802b619f7a3d43a4180ae13698f    delivered              1  170.00   \n",
              "115562  2583b27eb8957bea688a9cd41b7c0f47    delivered              1  249.99   \n",
              "115563  08b46ab06eaf71cf043929ebf277e280    delivered              2   40.00   \n",
              "115573  17ff863d51f7f8ee2c9dc76413c43b54    delivered              1  119.90   \n",
              "115595  432b94fc93fa7876de3b78bd99ddc053    delivered              1  146.99   \n",
              "\n",
              "                              product_id  total_price product_category_name  \\\n",
              "387     10adb53d8faa890ca7c2f0cbcb68d777        19.90       cama_mesa_banho   \n",
              "388     10adb53d8faa890ca7c2f0cbcb68d777        19.90       cama_mesa_banho   \n",
              "389     10adb53d8faa890ca7c2f0cbcb68d777        39.80       cama_mesa_banho   \n",
              "390     10adb53d8faa890ca7c2f0cbcb68d777        19.90       cama_mesa_banho   \n",
              "391     10adb53d8faa890ca7c2f0cbcb68d777        59.70       cama_mesa_banho   \n",
              "...                                  ...          ...                   ...   \n",
              "115553  1fbeaaa01377d3f600de52f455ef578c       170.00       cama_mesa_banho   \n",
              "115562  914997fa7aef743334b7c0da8580fd5e       249.99       cama_mesa_banho   \n",
              "115563  93dd9d8291fad4757cf910f1a80eb0ac        80.00       cama_mesa_banho   \n",
              "115573  29353bc591cb0f1a7cfa75382a0c6170       119.90       cama_mesa_banho   \n",
              "115595  d275bb0f793c1f80031e1f6ae7e1ab00       146.99       cama_mesa_banho   \n",
              "\n",
              "       product_category_name_english  \n",
              "387                   bed_bath_table  \n",
              "388                   bed_bath_table  \n",
              "389                   bed_bath_table  \n",
              "390                   bed_bath_table  \n",
              "391                   bed_bath_table  \n",
              "...                              ...  \n",
              "115553                bed_bath_table  \n",
              "115562                bed_bath_table  \n",
              "115563                bed_bath_table  \n",
              "115573                bed_bath_table  \n",
              "115595                bed_bath_table  \n",
              "\n",
              "[11847 rows x 8 columns]"
            ]
          },
          "execution_count": 56,
          "metadata": {},
          "output_type": "execute_result"
        }
      ],
      "source": [
        "order_cust = pd.merge(left=all_orders, right=customers, on='customer_id')\n",
        "all_dataset = pd.merge(left=order_cust, right=products_cat_name_translation, on='product_id')\n",
        "print(all_dataset.shape)\n",
        "\n",
        "df = all_dataset[['order_id', 'order_status', 'order_item_id', 'price', 'product_id', 'total_price','product_category_name', 'product_category_name_english']]\n",
        "df[df.product_category_name_english == 'bed_bath_table']"
      ]
    },
    {
      "cell_type": "code",
      "execution_count": 57,
      "metadata": {},
      "outputs": [
        {
          "data": {
            "text/html": [
              "<div>\n",
              "<style scoped>\n",
              "    .dataframe tbody tr th:only-of-type {\n",
              "        vertical-align: middle;\n",
              "    }\n",
              "\n",
              "    .dataframe tbody tr th {\n",
              "        vertical-align: top;\n",
              "    }\n",
              "\n",
              "    .dataframe thead th {\n",
              "        text-align: right;\n",
              "    }\n",
              "</style>\n",
              "<table border=\"1\" class=\"dataframe\">\n",
              "  <thead>\n",
              "    <tr style=\"text-align: right;\">\n",
              "      <th></th>\n",
              "      <th>product_category_name_english</th>\n",
              "      <th>order_id</th>\n",
              "      <th>order_item_id</th>\n",
              "      <th>total_price</th>\n",
              "    </tr>\n",
              "  </thead>\n",
              "  <tbody>\n",
              "    <tr>\n",
              "      <th>7</th>\n",
              "      <td>bed_bath_table</td>\n",
              "      <td>11847</td>\n",
              "      <td>14608</td>\n",
              "      <td>1301396.26</td>\n",
              "    </tr>\n",
              "    <tr>\n",
              "      <th>43</th>\n",
              "      <td>health_beauty</td>\n",
              "      <td>9944</td>\n",
              "      <td>11368</td>\n",
              "      <td>1384414.30</td>\n",
              "    </tr>\n",
              "    <tr>\n",
              "      <th>65</th>\n",
              "      <td>sports_leisure</td>\n",
              "      <td>8942</td>\n",
              "      <td>10273</td>\n",
              "      <td>1119662.44</td>\n",
              "    </tr>\n",
              "    <tr>\n",
              "      <th>39</th>\n",
              "      <td>furniture_decor</td>\n",
              "      <td>8743</td>\n",
              "      <td>12038</td>\n",
              "      <td>969488.82</td>\n",
              "    </tr>\n",
              "    <tr>\n",
              "      <th>15</th>\n",
              "      <td>computers_accessories</td>\n",
              "      <td>8105</td>\n",
              "      <td>10222</td>\n",
              "      <td>1171994.41</td>\n",
              "    </tr>\n",
              "    <tr>\n",
              "      <th>...</th>\n",
              "      <td>...</td>\n",
              "      <td>...</td>\n",
              "      <td>...</td>\n",
              "      <td>...</td>\n",
              "    </tr>\n",
              "    <tr>\n",
              "      <th>3</th>\n",
              "      <td>arts_and_craftmanship</td>\n",
              "      <td>24</td>\n",
              "      <td>26</td>\n",
              "      <td>1875.90</td>\n",
              "    </tr>\n",
              "    <tr>\n",
              "      <th>52</th>\n",
              "      <td>la_cuisine</td>\n",
              "      <td>15</td>\n",
              "      <td>17</td>\n",
              "      <td>2330.98</td>\n",
              "    </tr>\n",
              "    <tr>\n",
              "      <th>11</th>\n",
              "      <td>cds_dvds_musicals</td>\n",
              "      <td>14</td>\n",
              "      <td>16</td>\n",
              "      <td>820.00</td>\n",
              "    </tr>\n",
              "    <tr>\n",
              "      <th>29</th>\n",
              "      <td>fashion_childrens_clothes</td>\n",
              "      <td>8</td>\n",
              "      <td>8</td>\n",
              "      <td>569.85</td>\n",
              "    </tr>\n",
              "    <tr>\n",
              "      <th>61</th>\n",
              "      <td>security_and_services</td>\n",
              "      <td>2</td>\n",
              "      <td>2</td>\n",
              "      <td>283.29</td>\n",
              "    </tr>\n",
              "  </tbody>\n",
              "</table>\n",
              "<p>71 rows × 4 columns</p>\n",
              "</div>"
            ],
            "text/plain": [
              "   product_category_name_english  order_id  order_item_id  total_price\n",
              "7                 bed_bath_table     11847          14608   1301396.26\n",
              "43                 health_beauty      9944          11368   1384414.30\n",
              "65                sports_leisure      8942          10273   1119662.44\n",
              "39               furniture_decor      8743          12038    969488.82\n",
              "15         computers_accessories      8105          10222   1171994.41\n",
              "..                           ...       ...            ...          ...\n",
              "3          arts_and_craftmanship        24             26      1875.90\n",
              "52                    la_cuisine        15             17      2330.98\n",
              "11             cds_dvds_musicals        14             16       820.00\n",
              "29     fashion_childrens_clothes         8              8       569.85\n",
              "61         security_and_services         2              2       283.29\n",
              "\n",
              "[71 rows x 4 columns]"
            ]
          },
          "execution_count": 57,
          "metadata": {},
          "output_type": "execute_result"
        }
      ],
      "source": [
        "df.groupby(by='product_category_name_english').agg({\n",
        "    'order_id':'count',\n",
        "    'order_item_id':'sum',\n",
        "    'total_price':'sum'\n",
        "}).reset_index().sort_values(by='order_id', ascending=False)"
      ]
    },
    {
      "cell_type": "code",
      "execution_count": 58,
      "metadata": {},
      "outputs": [],
      "source": [
        "# cities with the most order \n",
        "order_in_cities = all_dataset.groupby(by='customer_city').agg({\n",
        "    'order_id':'nunique'\n",
        "    }).sort_values(by='order_id', ascending=False).reset_index().rename(columns={'order_id':'jml_order'})\n",
        "\n",
        "# states with the most order \n",
        "order_in_states = all_dataset.groupby(by='customer_state').agg({\n",
        "    'order_id':'nunique'\n",
        "    }).sort_values(by='order_id', ascending=False).reset_index().rename(columns={'order_id':'jml_order'})\n",
        "\n",
        "\n",
        "# order_in_cities.head()"
      ]
    },
    {
      "cell_type": "code",
      "execution_count": 59,
      "metadata": {},
      "outputs": [
        {
          "name": "stdout",
          "output_type": "stream",
          "text": [
            "<class 'pandas.core.frame.DataFrame'>\n",
            "RangeIndex: 115609 entries, 0 to 115608\n",
            "Data columns (total 40 columns):\n",
            " #   Column                         Non-Null Count   Dtype         \n",
            "---  ------                         --------------   -----         \n",
            " 0   order_id                       115609 non-null  object        \n",
            " 1   customer_id                    115609 non-null  object        \n",
            " 2   order_status                   115609 non-null  object        \n",
            " 3   order_purchase_timestamp       115609 non-null  datetime64[ns]\n",
            " 4   order_approved_at              115595 non-null  datetime64[ns]\n",
            " 5   order_delivered_carrier_date   114414 non-null  datetime64[ns]\n",
            " 6   order_delivered_customer_date  113209 non-null  datetime64[ns]\n",
            " 7   order_estimated_delivery_date  115609 non-null  datetime64[ns]\n",
            " 8   delivery_time                  113195 non-null  float64       \n",
            " 9   order_item_id                  115609 non-null  int64         \n",
            " 10  product_id                     115609 non-null  object        \n",
            " 11  seller_id                      115609 non-null  object        \n",
            " 12  shipping_limit_date            115609 non-null  datetime64[ns]\n",
            " 13  price                          115609 non-null  float64       \n",
            " 14  freight_value                  115609 non-null  float64       \n",
            " 15  total_price                    115609 non-null  float64       \n",
            " 16  payment_sequential             115609 non-null  int64         \n",
            " 17  payment_type                   115609 non-null  object        \n",
            " 18  payment_installments           115609 non-null  int64         \n",
            " 19  payment_value                  115609 non-null  float64       \n",
            " 20  review_id                      115609 non-null  object        \n",
            " 21  review_score                   115609 non-null  int64         \n",
            " 22  review_comment_title           13801 non-null   object        \n",
            " 23  review_comment_message         48906 non-null   object        \n",
            " 24  review_creation_date           115609 non-null  datetime64[ns]\n",
            " 25  review_answer_timestamp        115609 non-null  datetime64[ns]\n",
            " 26  customer_unique_id             115609 non-null  object        \n",
            " 27  customer_zip_code_prefix       115609 non-null  int64         \n",
            " 28  customer_city                  115609 non-null  object        \n",
            " 29  customer_state                 115609 non-null  object        \n",
            " 30  cust_status                    115609 non-null  object        \n",
            " 31  product_category_name          115609 non-null  object        \n",
            " 32  product_name_lenght            115609 non-null  float64       \n",
            " 33  product_description_lenght     115609 non-null  float64       \n",
            " 34  product_photos_qty             115609 non-null  float64       \n",
            " 35  product_weight_g               115608 non-null  float64       \n",
            " 36  product_length_cm              115608 non-null  float64       \n",
            " 37  product_height_cm              115608 non-null  float64       \n",
            " 38  product_width_cm               115608 non-null  float64       \n",
            " 39  product_category_name_english  115609 non-null  object        \n",
            "dtypes: datetime64[ns](8), float64(12), int64(5), object(15)\n",
            "memory usage: 35.3+ MB\n"
          ]
        }
      ],
      "source": [
        "all_dataset.info()"
      ]
    },
    {
      "cell_type": "code",
      "execution_count": 60,
      "metadata": {},
      "outputs": [],
      "source": [
        "all_dataset.to_csv('data/all_dataset.csv', index=False)"
      ]
    },
    {
      "cell_type": "markdown",
      "metadata": {
        "id": "SCNmtOLp9OKB"
      },
      "source": [
        "## Visualization & Explanatory Analysis"
      ]
    },
    {
      "cell_type": "markdown",
      "metadata": {
        "id": "SG59_Fbj9Qr6"
      },
      "source": [
        "### Pertanyaan 1: dimana saja kota tempat tinggal customer dan kota mana yang paling banyak, dari wilayah tsb dimana order paling banyak"
      ]
    },
    {
      "cell_type": "code",
      "execution_count": 61,
      "metadata": {
        "id": "dtRoaxqd9PdU"
      },
      "outputs": [
        {
          "data": {
            "text/html": [
              "<div>\n",
              "<style scoped>\n",
              "    .dataframe tbody tr th:only-of-type {\n",
              "        vertical-align: middle;\n",
              "    }\n",
              "\n",
              "    .dataframe tbody tr th {\n",
              "        vertical-align: top;\n",
              "    }\n",
              "\n",
              "    .dataframe thead th {\n",
              "        text-align: right;\n",
              "    }\n",
              "</style>\n",
              "<table border=\"1\" class=\"dataframe\">\n",
              "  <thead>\n",
              "    <tr style=\"text-align: right;\">\n",
              "      <th></th>\n",
              "      <th>customer_state</th>\n",
              "      <th>jml_cust</th>\n",
              "      <th>%</th>\n",
              "    </tr>\n",
              "  </thead>\n",
              "  <tbody>\n",
              "    <tr>\n",
              "      <th>0</th>\n",
              "      <td>SP</td>\n",
              "      <td>41746</td>\n",
              "      <td>0.419807</td>\n",
              "    </tr>\n",
              "    <tr>\n",
              "      <th>1</th>\n",
              "      <td>RJ</td>\n",
              "      <td>12852</td>\n",
              "      <td>0.129242</td>\n",
              "    </tr>\n",
              "    <tr>\n",
              "      <th>2</th>\n",
              "      <td>MG</td>\n",
              "      <td>11635</td>\n",
              "      <td>0.117004</td>\n",
              "    </tr>\n",
              "    <tr>\n",
              "      <th>3</th>\n",
              "      <td>RS</td>\n",
              "      <td>5466</td>\n",
              "      <td>0.054967</td>\n",
              "    </tr>\n",
              "    <tr>\n",
              "      <th>4</th>\n",
              "      <td>PR</td>\n",
              "      <td>5045</td>\n",
              "      <td>0.050734</td>\n",
              "    </tr>\n",
              "  </tbody>\n",
              "</table>\n",
              "</div>"
            ],
            "text/plain": [
              "  customer_state  jml_cust         %\n",
              "0             SP     41746  0.419807\n",
              "1             RJ     12852  0.129242\n",
              "2             MG     11635  0.117004\n",
              "3             RS      5466  0.054967\n",
              "4             PR      5045  0.050734"
            ]
          },
          "execution_count": 61,
          "metadata": {},
          "output_type": "execute_result"
        }
      ],
      "source": [
        "custby_states['%'] = custby_states.jml_cust/custby_states.jml_cust.sum()\n",
        "custby_states.head()"
      ]
    },
    {
      "cell_type": "code",
      "execution_count": 62,
      "metadata": {},
      "outputs": [
        {
          "data": {
            "text/html": [
              "<div>\n",
              "<style scoped>\n",
              "    .dataframe tbody tr th:only-of-type {\n",
              "        vertical-align: middle;\n",
              "    }\n",
              "\n",
              "    .dataframe tbody tr th {\n",
              "        vertical-align: top;\n",
              "    }\n",
              "\n",
              "    .dataframe thead th {\n",
              "        text-align: right;\n",
              "    }\n",
              "</style>\n",
              "<table border=\"1\" class=\"dataframe\">\n",
              "  <thead>\n",
              "    <tr style=\"text-align: right;\">\n",
              "      <th></th>\n",
              "      <th>customer_state</th>\n",
              "      <th>jml_cust</th>\n",
              "    </tr>\n",
              "  </thead>\n",
              "  <tbody>\n",
              "    <tr>\n",
              "      <th>0</th>\n",
              "      <td>SP</td>\n",
              "      <td>40536</td>\n",
              "    </tr>\n",
              "    <tr>\n",
              "      <th>1</th>\n",
              "      <td>RJ</td>\n",
              "      <td>12410</td>\n",
              "    </tr>\n",
              "    <tr>\n",
              "      <th>2</th>\n",
              "      <td>MG</td>\n",
              "      <td>11297</td>\n",
              "    </tr>\n",
              "    <tr>\n",
              "      <th>3</th>\n",
              "      <td>RS</td>\n",
              "      <td>5331</td>\n",
              "    </tr>\n",
              "    <tr>\n",
              "      <th>4</th>\n",
              "      <td>PR</td>\n",
              "      <td>4902</td>\n",
              "    </tr>\n",
              "    <tr>\n",
              "      <th>5</th>\n",
              "      <td>SC</td>\n",
              "      <td>3526</td>\n",
              "    </tr>\n",
              "    <tr>\n",
              "      <th>6</th>\n",
              "      <td>BA</td>\n",
              "      <td>3277</td>\n",
              "    </tr>\n",
              "    <tr>\n",
              "      <th>7</th>\n",
              "      <td>DF</td>\n",
              "      <td>2084</td>\n",
              "    </tr>\n",
              "    <tr>\n",
              "      <th>8</th>\n",
              "      <td>ES</td>\n",
              "      <td>1981</td>\n",
              "    </tr>\n",
              "    <tr>\n",
              "      <th>9</th>\n",
              "      <td>GO</td>\n",
              "      <td>1946</td>\n",
              "    </tr>\n",
              "    <tr>\n",
              "      <th>10</th>\n",
              "      <td>PE</td>\n",
              "      <td>1613</td>\n",
              "    </tr>\n",
              "    <tr>\n",
              "      <th>11</th>\n",
              "      <td>CE</td>\n",
              "      <td>1302</td>\n",
              "    </tr>\n",
              "    <tr>\n",
              "      <th>12</th>\n",
              "      <td>PA</td>\n",
              "      <td>938</td>\n",
              "    </tr>\n",
              "    <tr>\n",
              "      <th>13</th>\n",
              "      <td>MT</td>\n",
              "      <td>885</td>\n",
              "    </tr>\n",
              "    <tr>\n",
              "      <th>14</th>\n",
              "      <td>MA</td>\n",
              "      <td>725</td>\n",
              "    </tr>\n",
              "    <tr>\n",
              "      <th>15</th>\n",
              "      <td>MS</td>\n",
              "      <td>698</td>\n",
              "    </tr>\n",
              "    <tr>\n",
              "      <th>16</th>\n",
              "      <td>PB</td>\n",
              "      <td>517</td>\n",
              "    </tr>\n",
              "    <tr>\n",
              "      <th>17</th>\n",
              "      <td>PI</td>\n",
              "      <td>481</td>\n",
              "    </tr>\n",
              "    <tr>\n",
              "      <th>18</th>\n",
              "      <td>RN</td>\n",
              "      <td>472</td>\n",
              "    </tr>\n",
              "    <tr>\n",
              "      <th>19</th>\n",
              "      <td>AL</td>\n",
              "      <td>404</td>\n",
              "    </tr>\n",
              "    <tr>\n",
              "      <th>20</th>\n",
              "      <td>SE</td>\n",
              "      <td>342</td>\n",
              "    </tr>\n",
              "    <tr>\n",
              "      <th>21</th>\n",
              "      <td>TO</td>\n",
              "      <td>274</td>\n",
              "    </tr>\n",
              "    <tr>\n",
              "      <th>22</th>\n",
              "      <td>RO</td>\n",
              "      <td>241</td>\n",
              "    </tr>\n",
              "    <tr>\n",
              "      <th>23</th>\n",
              "      <td>AM</td>\n",
              "      <td>144</td>\n",
              "    </tr>\n",
              "    <tr>\n",
              "      <th>24</th>\n",
              "      <td>AC</td>\n",
              "      <td>79</td>\n",
              "    </tr>\n",
              "    <tr>\n",
              "      <th>25</th>\n",
              "      <td>AP</td>\n",
              "      <td>67</td>\n",
              "    </tr>\n",
              "    <tr>\n",
              "      <th>26</th>\n",
              "      <td>RR</td>\n",
              "      <td>44</td>\n",
              "    </tr>\n",
              "  </tbody>\n",
              "</table>\n",
              "</div>"
            ],
            "text/plain": [
              "   customer_state  jml_cust\n",
              "0              SP     40536\n",
              "1              RJ     12410\n",
              "2              MG     11297\n",
              "3              RS      5331\n",
              "4              PR      4902\n",
              "5              SC      3526\n",
              "6              BA      3277\n",
              "7              DF      2084\n",
              "8              ES      1981\n",
              "9              GO      1946\n",
              "10             PE      1613\n",
              "11             CE      1302\n",
              "12             PA       938\n",
              "13             MT       885\n",
              "14             MA       725\n",
              "15             MS       698\n",
              "16             PB       517\n",
              "17             PI       481\n",
              "18             RN       472\n",
              "19             AL       404\n",
              "20             SE       342\n",
              "21             TO       274\n",
              "22             RO       241\n",
              "23             AM       144\n",
              "24             AC        79\n",
              "25             AP        67\n",
              "26             RR        44"
            ]
          },
          "execution_count": 62,
          "metadata": {},
          "output_type": "execute_result"
        }
      ],
      "source": [
        "all_dataset.groupby(by=['customer_state']).customer_id.nunique().sort_values(ascending=False).reset_index().rename(columns={'customer_id':'jml_cust'})"
      ]
    },
    {
      "cell_type": "code",
      "execution_count": 63,
      "metadata": {},
      "outputs": [
        {
          "data": {
            "application/vnd.plotly.v1+json": {
              "config": {
                "plotlyServerURL": "https://plot.ly"
              },
              "data": [
                {
                  "alignmentgroup": "True",
                  "hovertemplate": "customer_state=%{x}<br>jml_cust=%{y}<extra></extra>",
                  "legendgroup": "",
                  "marker": {
                    "color": "#636efa",
                    "pattern": {
                      "shape": ""
                    }
                  },
                  "name": "",
                  "offsetgroup": "",
                  "orientation": "v",
                  "showlegend": false,
                  "textposition": "auto",
                  "type": "bar",
                  "x": [
                    "SP",
                    "RJ",
                    "MG",
                    "RS",
                    "PR",
                    "SC",
                    "BA",
                    "DF",
                    "ES",
                    "GO",
                    "PE",
                    "CE",
                    "PA",
                    "MT",
                    "MA",
                    "MS",
                    "PB",
                    "PI",
                    "RN",
                    "AL",
                    "SE",
                    "TO",
                    "RO",
                    "AM",
                    "AC",
                    "AP",
                    "RR"
                  ],
                  "xaxis": "x",
                  "y": [
                    41746,
                    12852,
                    11635,
                    5466,
                    5045,
                    3637,
                    3380,
                    2140,
                    2033,
                    2020,
                    1652,
                    1336,
                    975,
                    907,
                    747,
                    715,
                    536,
                    495,
                    485,
                    413,
                    350,
                    280,
                    253,
                    148,
                    81,
                    68,
                    46
                  ],
                  "yaxis": "y"
                }
              ],
              "layout": {
                "barmode": "relative",
                "legend": {
                  "tracegroupgap": 0
                },
                "template": {
                  "data": {
                    "bar": [
                      {
                        "error_x": {
                          "color": "#2a3f5f"
                        },
                        "error_y": {
                          "color": "#2a3f5f"
                        },
                        "marker": {
                          "line": {
                            "color": "#E5ECF6",
                            "width": 0.5
                          },
                          "pattern": {
                            "fillmode": "overlay",
                            "size": 10,
                            "solidity": 0.2
                          }
                        },
                        "type": "bar"
                      }
                    ],
                    "barpolar": [
                      {
                        "marker": {
                          "line": {
                            "color": "#E5ECF6",
                            "width": 0.5
                          },
                          "pattern": {
                            "fillmode": "overlay",
                            "size": 10,
                            "solidity": 0.2
                          }
                        },
                        "type": "barpolar"
                      }
                    ],
                    "carpet": [
                      {
                        "aaxis": {
                          "endlinecolor": "#2a3f5f",
                          "gridcolor": "white",
                          "linecolor": "white",
                          "minorgridcolor": "white",
                          "startlinecolor": "#2a3f5f"
                        },
                        "baxis": {
                          "endlinecolor": "#2a3f5f",
                          "gridcolor": "white",
                          "linecolor": "white",
                          "minorgridcolor": "white",
                          "startlinecolor": "#2a3f5f"
                        },
                        "type": "carpet"
                      }
                    ],
                    "choropleth": [
                      {
                        "colorbar": {
                          "outlinewidth": 0,
                          "ticks": ""
                        },
                        "type": "choropleth"
                      }
                    ],
                    "contour": [
                      {
                        "colorbar": {
                          "outlinewidth": 0,
                          "ticks": ""
                        },
                        "colorscale": [
                          [
                            0,
                            "#0d0887"
                          ],
                          [
                            0.1111111111111111,
                            "#46039f"
                          ],
                          [
                            0.2222222222222222,
                            "#7201a8"
                          ],
                          [
                            0.3333333333333333,
                            "#9c179e"
                          ],
                          [
                            0.4444444444444444,
                            "#bd3786"
                          ],
                          [
                            0.5555555555555556,
                            "#d8576b"
                          ],
                          [
                            0.6666666666666666,
                            "#ed7953"
                          ],
                          [
                            0.7777777777777778,
                            "#fb9f3a"
                          ],
                          [
                            0.8888888888888888,
                            "#fdca26"
                          ],
                          [
                            1,
                            "#f0f921"
                          ]
                        ],
                        "type": "contour"
                      }
                    ],
                    "contourcarpet": [
                      {
                        "colorbar": {
                          "outlinewidth": 0,
                          "ticks": ""
                        },
                        "type": "contourcarpet"
                      }
                    ],
                    "heatmap": [
                      {
                        "colorbar": {
                          "outlinewidth": 0,
                          "ticks": ""
                        },
                        "colorscale": [
                          [
                            0,
                            "#0d0887"
                          ],
                          [
                            0.1111111111111111,
                            "#46039f"
                          ],
                          [
                            0.2222222222222222,
                            "#7201a8"
                          ],
                          [
                            0.3333333333333333,
                            "#9c179e"
                          ],
                          [
                            0.4444444444444444,
                            "#bd3786"
                          ],
                          [
                            0.5555555555555556,
                            "#d8576b"
                          ],
                          [
                            0.6666666666666666,
                            "#ed7953"
                          ],
                          [
                            0.7777777777777778,
                            "#fb9f3a"
                          ],
                          [
                            0.8888888888888888,
                            "#fdca26"
                          ],
                          [
                            1,
                            "#f0f921"
                          ]
                        ],
                        "type": "heatmap"
                      }
                    ],
                    "heatmapgl": [
                      {
                        "colorbar": {
                          "outlinewidth": 0,
                          "ticks": ""
                        },
                        "colorscale": [
                          [
                            0,
                            "#0d0887"
                          ],
                          [
                            0.1111111111111111,
                            "#46039f"
                          ],
                          [
                            0.2222222222222222,
                            "#7201a8"
                          ],
                          [
                            0.3333333333333333,
                            "#9c179e"
                          ],
                          [
                            0.4444444444444444,
                            "#bd3786"
                          ],
                          [
                            0.5555555555555556,
                            "#d8576b"
                          ],
                          [
                            0.6666666666666666,
                            "#ed7953"
                          ],
                          [
                            0.7777777777777778,
                            "#fb9f3a"
                          ],
                          [
                            0.8888888888888888,
                            "#fdca26"
                          ],
                          [
                            1,
                            "#f0f921"
                          ]
                        ],
                        "type": "heatmapgl"
                      }
                    ],
                    "histogram": [
                      {
                        "marker": {
                          "pattern": {
                            "fillmode": "overlay",
                            "size": 10,
                            "solidity": 0.2
                          }
                        },
                        "type": "histogram"
                      }
                    ],
                    "histogram2d": [
                      {
                        "colorbar": {
                          "outlinewidth": 0,
                          "ticks": ""
                        },
                        "colorscale": [
                          [
                            0,
                            "#0d0887"
                          ],
                          [
                            0.1111111111111111,
                            "#46039f"
                          ],
                          [
                            0.2222222222222222,
                            "#7201a8"
                          ],
                          [
                            0.3333333333333333,
                            "#9c179e"
                          ],
                          [
                            0.4444444444444444,
                            "#bd3786"
                          ],
                          [
                            0.5555555555555556,
                            "#d8576b"
                          ],
                          [
                            0.6666666666666666,
                            "#ed7953"
                          ],
                          [
                            0.7777777777777778,
                            "#fb9f3a"
                          ],
                          [
                            0.8888888888888888,
                            "#fdca26"
                          ],
                          [
                            1,
                            "#f0f921"
                          ]
                        ],
                        "type": "histogram2d"
                      }
                    ],
                    "histogram2dcontour": [
                      {
                        "colorbar": {
                          "outlinewidth": 0,
                          "ticks": ""
                        },
                        "colorscale": [
                          [
                            0,
                            "#0d0887"
                          ],
                          [
                            0.1111111111111111,
                            "#46039f"
                          ],
                          [
                            0.2222222222222222,
                            "#7201a8"
                          ],
                          [
                            0.3333333333333333,
                            "#9c179e"
                          ],
                          [
                            0.4444444444444444,
                            "#bd3786"
                          ],
                          [
                            0.5555555555555556,
                            "#d8576b"
                          ],
                          [
                            0.6666666666666666,
                            "#ed7953"
                          ],
                          [
                            0.7777777777777778,
                            "#fb9f3a"
                          ],
                          [
                            0.8888888888888888,
                            "#fdca26"
                          ],
                          [
                            1,
                            "#f0f921"
                          ]
                        ],
                        "type": "histogram2dcontour"
                      }
                    ],
                    "mesh3d": [
                      {
                        "colorbar": {
                          "outlinewidth": 0,
                          "ticks": ""
                        },
                        "type": "mesh3d"
                      }
                    ],
                    "parcoords": [
                      {
                        "line": {
                          "colorbar": {
                            "outlinewidth": 0,
                            "ticks": ""
                          }
                        },
                        "type": "parcoords"
                      }
                    ],
                    "pie": [
                      {
                        "automargin": true,
                        "type": "pie"
                      }
                    ],
                    "scatter": [
                      {
                        "fillpattern": {
                          "fillmode": "overlay",
                          "size": 10,
                          "solidity": 0.2
                        },
                        "type": "scatter"
                      }
                    ],
                    "scatter3d": [
                      {
                        "line": {
                          "colorbar": {
                            "outlinewidth": 0,
                            "ticks": ""
                          }
                        },
                        "marker": {
                          "colorbar": {
                            "outlinewidth": 0,
                            "ticks": ""
                          }
                        },
                        "type": "scatter3d"
                      }
                    ],
                    "scattercarpet": [
                      {
                        "marker": {
                          "colorbar": {
                            "outlinewidth": 0,
                            "ticks": ""
                          }
                        },
                        "type": "scattercarpet"
                      }
                    ],
                    "scattergeo": [
                      {
                        "marker": {
                          "colorbar": {
                            "outlinewidth": 0,
                            "ticks": ""
                          }
                        },
                        "type": "scattergeo"
                      }
                    ],
                    "scattergl": [
                      {
                        "marker": {
                          "colorbar": {
                            "outlinewidth": 0,
                            "ticks": ""
                          }
                        },
                        "type": "scattergl"
                      }
                    ],
                    "scattermapbox": [
                      {
                        "marker": {
                          "colorbar": {
                            "outlinewidth": 0,
                            "ticks": ""
                          }
                        },
                        "type": "scattermapbox"
                      }
                    ],
                    "scatterpolar": [
                      {
                        "marker": {
                          "colorbar": {
                            "outlinewidth": 0,
                            "ticks": ""
                          }
                        },
                        "type": "scatterpolar"
                      }
                    ],
                    "scatterpolargl": [
                      {
                        "marker": {
                          "colorbar": {
                            "outlinewidth": 0,
                            "ticks": ""
                          }
                        },
                        "type": "scatterpolargl"
                      }
                    ],
                    "scatterternary": [
                      {
                        "marker": {
                          "colorbar": {
                            "outlinewidth": 0,
                            "ticks": ""
                          }
                        },
                        "type": "scatterternary"
                      }
                    ],
                    "surface": [
                      {
                        "colorbar": {
                          "outlinewidth": 0,
                          "ticks": ""
                        },
                        "colorscale": [
                          [
                            0,
                            "#0d0887"
                          ],
                          [
                            0.1111111111111111,
                            "#46039f"
                          ],
                          [
                            0.2222222222222222,
                            "#7201a8"
                          ],
                          [
                            0.3333333333333333,
                            "#9c179e"
                          ],
                          [
                            0.4444444444444444,
                            "#bd3786"
                          ],
                          [
                            0.5555555555555556,
                            "#d8576b"
                          ],
                          [
                            0.6666666666666666,
                            "#ed7953"
                          ],
                          [
                            0.7777777777777778,
                            "#fb9f3a"
                          ],
                          [
                            0.8888888888888888,
                            "#fdca26"
                          ],
                          [
                            1,
                            "#f0f921"
                          ]
                        ],
                        "type": "surface"
                      }
                    ],
                    "table": [
                      {
                        "cells": {
                          "fill": {
                            "color": "#EBF0F8"
                          },
                          "line": {
                            "color": "white"
                          }
                        },
                        "header": {
                          "fill": {
                            "color": "#C8D4E3"
                          },
                          "line": {
                            "color": "white"
                          }
                        },
                        "type": "table"
                      }
                    ]
                  },
                  "layout": {
                    "annotationdefaults": {
                      "arrowcolor": "#2a3f5f",
                      "arrowhead": 0,
                      "arrowwidth": 1
                    },
                    "autotypenumbers": "strict",
                    "coloraxis": {
                      "colorbar": {
                        "outlinewidth": 0,
                        "ticks": ""
                      }
                    },
                    "colorscale": {
                      "diverging": [
                        [
                          0,
                          "#8e0152"
                        ],
                        [
                          0.1,
                          "#c51b7d"
                        ],
                        [
                          0.2,
                          "#de77ae"
                        ],
                        [
                          0.3,
                          "#f1b6da"
                        ],
                        [
                          0.4,
                          "#fde0ef"
                        ],
                        [
                          0.5,
                          "#f7f7f7"
                        ],
                        [
                          0.6,
                          "#e6f5d0"
                        ],
                        [
                          0.7,
                          "#b8e186"
                        ],
                        [
                          0.8,
                          "#7fbc41"
                        ],
                        [
                          0.9,
                          "#4d9221"
                        ],
                        [
                          1,
                          "#276419"
                        ]
                      ],
                      "sequential": [
                        [
                          0,
                          "#0d0887"
                        ],
                        [
                          0.1111111111111111,
                          "#46039f"
                        ],
                        [
                          0.2222222222222222,
                          "#7201a8"
                        ],
                        [
                          0.3333333333333333,
                          "#9c179e"
                        ],
                        [
                          0.4444444444444444,
                          "#bd3786"
                        ],
                        [
                          0.5555555555555556,
                          "#d8576b"
                        ],
                        [
                          0.6666666666666666,
                          "#ed7953"
                        ],
                        [
                          0.7777777777777778,
                          "#fb9f3a"
                        ],
                        [
                          0.8888888888888888,
                          "#fdca26"
                        ],
                        [
                          1,
                          "#f0f921"
                        ]
                      ],
                      "sequentialminus": [
                        [
                          0,
                          "#0d0887"
                        ],
                        [
                          0.1111111111111111,
                          "#46039f"
                        ],
                        [
                          0.2222222222222222,
                          "#7201a8"
                        ],
                        [
                          0.3333333333333333,
                          "#9c179e"
                        ],
                        [
                          0.4444444444444444,
                          "#bd3786"
                        ],
                        [
                          0.5555555555555556,
                          "#d8576b"
                        ],
                        [
                          0.6666666666666666,
                          "#ed7953"
                        ],
                        [
                          0.7777777777777778,
                          "#fb9f3a"
                        ],
                        [
                          0.8888888888888888,
                          "#fdca26"
                        ],
                        [
                          1,
                          "#f0f921"
                        ]
                      ]
                    },
                    "colorway": [
                      "#636efa",
                      "#EF553B",
                      "#00cc96",
                      "#ab63fa",
                      "#FFA15A",
                      "#19d3f3",
                      "#FF6692",
                      "#B6E880",
                      "#FF97FF",
                      "#FECB52"
                    ],
                    "font": {
                      "color": "#2a3f5f"
                    },
                    "geo": {
                      "bgcolor": "white",
                      "lakecolor": "white",
                      "landcolor": "#E5ECF6",
                      "showlakes": true,
                      "showland": true,
                      "subunitcolor": "white"
                    },
                    "hoverlabel": {
                      "align": "left"
                    },
                    "hovermode": "closest",
                    "mapbox": {
                      "style": "light"
                    },
                    "paper_bgcolor": "white",
                    "plot_bgcolor": "#E5ECF6",
                    "polar": {
                      "angularaxis": {
                        "gridcolor": "white",
                        "linecolor": "white",
                        "ticks": ""
                      },
                      "bgcolor": "#E5ECF6",
                      "radialaxis": {
                        "gridcolor": "white",
                        "linecolor": "white",
                        "ticks": ""
                      }
                    },
                    "scene": {
                      "xaxis": {
                        "backgroundcolor": "#E5ECF6",
                        "gridcolor": "white",
                        "gridwidth": 2,
                        "linecolor": "white",
                        "showbackground": true,
                        "ticks": "",
                        "zerolinecolor": "white"
                      },
                      "yaxis": {
                        "backgroundcolor": "#E5ECF6",
                        "gridcolor": "white",
                        "gridwidth": 2,
                        "linecolor": "white",
                        "showbackground": true,
                        "ticks": "",
                        "zerolinecolor": "white"
                      },
                      "zaxis": {
                        "backgroundcolor": "#E5ECF6",
                        "gridcolor": "white",
                        "gridwidth": 2,
                        "linecolor": "white",
                        "showbackground": true,
                        "ticks": "",
                        "zerolinecolor": "white"
                      }
                    },
                    "shapedefaults": {
                      "line": {
                        "color": "#2a3f5f"
                      }
                    },
                    "ternary": {
                      "aaxis": {
                        "gridcolor": "white",
                        "linecolor": "white",
                        "ticks": ""
                      },
                      "baxis": {
                        "gridcolor": "white",
                        "linecolor": "white",
                        "ticks": ""
                      },
                      "bgcolor": "#E5ECF6",
                      "caxis": {
                        "gridcolor": "white",
                        "linecolor": "white",
                        "ticks": ""
                      }
                    },
                    "title": {
                      "x": 0.05
                    },
                    "xaxis": {
                      "automargin": true,
                      "gridcolor": "white",
                      "linecolor": "white",
                      "ticks": "",
                      "title": {
                        "standoff": 15
                      },
                      "zerolinecolor": "white",
                      "zerolinewidth": 2
                    },
                    "yaxis": {
                      "automargin": true,
                      "gridcolor": "white",
                      "linecolor": "white",
                      "ticks": "",
                      "title": {
                        "standoff": 15
                      },
                      "zerolinecolor": "white",
                      "zerolinewidth": 2
                    }
                  }
                },
                "title": {
                  "text": "States With The Largest Customer"
                },
                "xaxis": {
                  "anchor": "y",
                  "domain": [
                    0,
                    1
                  ],
                  "title": {
                    "text": "customer_state"
                  }
                },
                "yaxis": {
                  "anchor": "x",
                  "domain": [
                    0,
                    1
                  ],
                  "title": {
                    "text": "jml_cust"
                  }
                }
              }
            }
          },
          "metadata": {},
          "output_type": "display_data"
        }
      ],
      "source": [
        "fig = px.bar(\n",
        "    custby_states, \n",
        "    x='customer_state', \n",
        "    y='jml_cust',\n",
        "    title='States With The Largest Customer' )\n",
        "fig.show()\n"
      ]
    },
    {
      "cell_type": "code",
      "execution_count": 64,
      "metadata": {},
      "outputs": [
        {
          "data": {
            "text/html": [
              "<div>\n",
              "<style scoped>\n",
              "    .dataframe tbody tr th:only-of-type {\n",
              "        vertical-align: middle;\n",
              "    }\n",
              "\n",
              "    .dataframe tbody tr th {\n",
              "        vertical-align: top;\n",
              "    }\n",
              "\n",
              "    .dataframe thead th {\n",
              "        text-align: right;\n",
              "    }\n",
              "</style>\n",
              "<table border=\"1\" class=\"dataframe\">\n",
              "  <thead>\n",
              "    <tr style=\"text-align: right;\">\n",
              "      <th></th>\n",
              "      <th>customer_city</th>\n",
              "      <th>jml_cust</th>\n",
              "    </tr>\n",
              "  </thead>\n",
              "  <tbody>\n",
              "    <tr>\n",
              "      <th>0</th>\n",
              "      <td>sao paulo</td>\n",
              "      <td>18267</td>\n",
              "    </tr>\n",
              "    <tr>\n",
              "      <th>1</th>\n",
              "      <td>rio de janeiro</td>\n",
              "      <td>8022</td>\n",
              "    </tr>\n",
              "    <tr>\n",
              "      <th>2</th>\n",
              "      <td>belo horizonte</td>\n",
              "      <td>3196</td>\n",
              "    </tr>\n",
              "    <tr>\n",
              "      <th>3</th>\n",
              "      <td>brasilia</td>\n",
              "      <td>2434</td>\n",
              "    </tr>\n",
              "    <tr>\n",
              "      <th>4</th>\n",
              "      <td>curitiba</td>\n",
              "      <td>1790</td>\n",
              "    </tr>\n",
              "    <tr>\n",
              "      <th>...</th>\n",
              "      <td>...</td>\n",
              "      <td>...</td>\n",
              "    </tr>\n",
              "    <tr>\n",
              "      <th>4088</th>\n",
              "      <td>mamonas</td>\n",
              "      <td>1</td>\n",
              "    </tr>\n",
              "    <tr>\n",
              "      <th>4089</th>\n",
              "      <td>malhador</td>\n",
              "      <td>1</td>\n",
              "    </tr>\n",
              "    <tr>\n",
              "      <th>4090</th>\n",
              "      <td>major porto</td>\n",
              "      <td>1</td>\n",
              "    </tr>\n",
              "    <tr>\n",
              "      <th>4091</th>\n",
              "      <td>maiquinique</td>\n",
              "      <td>1</td>\n",
              "    </tr>\n",
              "    <tr>\n",
              "      <th>4092</th>\n",
              "      <td>zortea</td>\n",
              "      <td>1</td>\n",
              "    </tr>\n",
              "  </tbody>\n",
              "</table>\n",
              "<p>4093 rows × 2 columns</p>\n",
              "</div>"
            ],
            "text/plain": [
              "       customer_city  jml_cust\n",
              "0          sao paulo     18267\n",
              "1     rio de janeiro      8022\n",
              "2     belo horizonte      3196\n",
              "3           brasilia      2434\n",
              "4           curitiba      1790\n",
              "...              ...       ...\n",
              "4088         mamonas         1\n",
              "4089        malhador         1\n",
              "4090     major porto         1\n",
              "4091     maiquinique         1\n",
              "4092          zortea         1\n",
              "\n",
              "[4093 rows x 2 columns]"
            ]
          },
          "execution_count": 64,
          "metadata": {},
          "output_type": "execute_result"
        }
      ],
      "source": [
        "# all_dataset.groupb(by=['customer_city']).agg({'customer_id':'count'}).sort_values(\n",
        "#     by='customer_id', \n",
        "#     ascending=False).resyet_index().rename(columns={'customer_id':'jml_cust'})\n",
        "\n",
        "all_dataset.loc[:,['customer_city','customer_id']].groupby(by=['customer_city']).agg({'customer_id':'count'}).sort_values(\n",
        "    by='customer_id', \n",
        "    ascending=False).reset_index().rename(columns={'customer_id':'jml_cust'})"
      ]
    },
    {
      "cell_type": "code",
      "execution_count": 65,
      "metadata": {},
      "outputs": [
        {
          "data": {
            "application/vnd.plotly.v1+json": {
              "config": {
                "plotlyServerURL": "https://plot.ly"
              },
              "data": [
                {
                  "alignmentgroup": "True",
                  "hovertemplate": "jml_cust=%{x}<br>customer_city=%{y}<extra></extra>",
                  "legendgroup": "",
                  "marker": {
                    "color": "#636efa",
                    "pattern": {
                      "shape": ""
                    }
                  },
                  "name": "",
                  "offsetgroup": "",
                  "orientation": "h",
                  "showlegend": false,
                  "textposition": "auto",
                  "type": "bar",
                  "x": [
                    15540,
                    6882,
                    2773,
                    2131,
                    1521,
                    1444,
                    1379,
                    1245,
                    1189,
                    938
                  ],
                  "xaxis": "x",
                  "y": [
                    "sao paulo",
                    "rio de janeiro",
                    "belo horizonte",
                    "brasilia",
                    "curitiba",
                    "campinas",
                    "porto alegre",
                    "salvador",
                    "guarulhos",
                    "sao bernardo do campo"
                  ],
                  "yaxis": "y"
                }
              ],
              "layout": {
                "barmode": "relative",
                "legend": {
                  "tracegroupgap": 0
                },
                "template": {
                  "data": {
                    "bar": [
                      {
                        "error_x": {
                          "color": "#2a3f5f"
                        },
                        "error_y": {
                          "color": "#2a3f5f"
                        },
                        "marker": {
                          "line": {
                            "color": "#E5ECF6",
                            "width": 0.5
                          },
                          "pattern": {
                            "fillmode": "overlay",
                            "size": 10,
                            "solidity": 0.2
                          }
                        },
                        "type": "bar"
                      }
                    ],
                    "barpolar": [
                      {
                        "marker": {
                          "line": {
                            "color": "#E5ECF6",
                            "width": 0.5
                          },
                          "pattern": {
                            "fillmode": "overlay",
                            "size": 10,
                            "solidity": 0.2
                          }
                        },
                        "type": "barpolar"
                      }
                    ],
                    "carpet": [
                      {
                        "aaxis": {
                          "endlinecolor": "#2a3f5f",
                          "gridcolor": "white",
                          "linecolor": "white",
                          "minorgridcolor": "white",
                          "startlinecolor": "#2a3f5f"
                        },
                        "baxis": {
                          "endlinecolor": "#2a3f5f",
                          "gridcolor": "white",
                          "linecolor": "white",
                          "minorgridcolor": "white",
                          "startlinecolor": "#2a3f5f"
                        },
                        "type": "carpet"
                      }
                    ],
                    "choropleth": [
                      {
                        "colorbar": {
                          "outlinewidth": 0,
                          "ticks": ""
                        },
                        "type": "choropleth"
                      }
                    ],
                    "contour": [
                      {
                        "colorbar": {
                          "outlinewidth": 0,
                          "ticks": ""
                        },
                        "colorscale": [
                          [
                            0,
                            "#0d0887"
                          ],
                          [
                            0.1111111111111111,
                            "#46039f"
                          ],
                          [
                            0.2222222222222222,
                            "#7201a8"
                          ],
                          [
                            0.3333333333333333,
                            "#9c179e"
                          ],
                          [
                            0.4444444444444444,
                            "#bd3786"
                          ],
                          [
                            0.5555555555555556,
                            "#d8576b"
                          ],
                          [
                            0.6666666666666666,
                            "#ed7953"
                          ],
                          [
                            0.7777777777777778,
                            "#fb9f3a"
                          ],
                          [
                            0.8888888888888888,
                            "#fdca26"
                          ],
                          [
                            1,
                            "#f0f921"
                          ]
                        ],
                        "type": "contour"
                      }
                    ],
                    "contourcarpet": [
                      {
                        "colorbar": {
                          "outlinewidth": 0,
                          "ticks": ""
                        },
                        "type": "contourcarpet"
                      }
                    ],
                    "heatmap": [
                      {
                        "colorbar": {
                          "outlinewidth": 0,
                          "ticks": ""
                        },
                        "colorscale": [
                          [
                            0,
                            "#0d0887"
                          ],
                          [
                            0.1111111111111111,
                            "#46039f"
                          ],
                          [
                            0.2222222222222222,
                            "#7201a8"
                          ],
                          [
                            0.3333333333333333,
                            "#9c179e"
                          ],
                          [
                            0.4444444444444444,
                            "#bd3786"
                          ],
                          [
                            0.5555555555555556,
                            "#d8576b"
                          ],
                          [
                            0.6666666666666666,
                            "#ed7953"
                          ],
                          [
                            0.7777777777777778,
                            "#fb9f3a"
                          ],
                          [
                            0.8888888888888888,
                            "#fdca26"
                          ],
                          [
                            1,
                            "#f0f921"
                          ]
                        ],
                        "type": "heatmap"
                      }
                    ],
                    "heatmapgl": [
                      {
                        "colorbar": {
                          "outlinewidth": 0,
                          "ticks": ""
                        },
                        "colorscale": [
                          [
                            0,
                            "#0d0887"
                          ],
                          [
                            0.1111111111111111,
                            "#46039f"
                          ],
                          [
                            0.2222222222222222,
                            "#7201a8"
                          ],
                          [
                            0.3333333333333333,
                            "#9c179e"
                          ],
                          [
                            0.4444444444444444,
                            "#bd3786"
                          ],
                          [
                            0.5555555555555556,
                            "#d8576b"
                          ],
                          [
                            0.6666666666666666,
                            "#ed7953"
                          ],
                          [
                            0.7777777777777778,
                            "#fb9f3a"
                          ],
                          [
                            0.8888888888888888,
                            "#fdca26"
                          ],
                          [
                            1,
                            "#f0f921"
                          ]
                        ],
                        "type": "heatmapgl"
                      }
                    ],
                    "histogram": [
                      {
                        "marker": {
                          "pattern": {
                            "fillmode": "overlay",
                            "size": 10,
                            "solidity": 0.2
                          }
                        },
                        "type": "histogram"
                      }
                    ],
                    "histogram2d": [
                      {
                        "colorbar": {
                          "outlinewidth": 0,
                          "ticks": ""
                        },
                        "colorscale": [
                          [
                            0,
                            "#0d0887"
                          ],
                          [
                            0.1111111111111111,
                            "#46039f"
                          ],
                          [
                            0.2222222222222222,
                            "#7201a8"
                          ],
                          [
                            0.3333333333333333,
                            "#9c179e"
                          ],
                          [
                            0.4444444444444444,
                            "#bd3786"
                          ],
                          [
                            0.5555555555555556,
                            "#d8576b"
                          ],
                          [
                            0.6666666666666666,
                            "#ed7953"
                          ],
                          [
                            0.7777777777777778,
                            "#fb9f3a"
                          ],
                          [
                            0.8888888888888888,
                            "#fdca26"
                          ],
                          [
                            1,
                            "#f0f921"
                          ]
                        ],
                        "type": "histogram2d"
                      }
                    ],
                    "histogram2dcontour": [
                      {
                        "colorbar": {
                          "outlinewidth": 0,
                          "ticks": ""
                        },
                        "colorscale": [
                          [
                            0,
                            "#0d0887"
                          ],
                          [
                            0.1111111111111111,
                            "#46039f"
                          ],
                          [
                            0.2222222222222222,
                            "#7201a8"
                          ],
                          [
                            0.3333333333333333,
                            "#9c179e"
                          ],
                          [
                            0.4444444444444444,
                            "#bd3786"
                          ],
                          [
                            0.5555555555555556,
                            "#d8576b"
                          ],
                          [
                            0.6666666666666666,
                            "#ed7953"
                          ],
                          [
                            0.7777777777777778,
                            "#fb9f3a"
                          ],
                          [
                            0.8888888888888888,
                            "#fdca26"
                          ],
                          [
                            1,
                            "#f0f921"
                          ]
                        ],
                        "type": "histogram2dcontour"
                      }
                    ],
                    "mesh3d": [
                      {
                        "colorbar": {
                          "outlinewidth": 0,
                          "ticks": ""
                        },
                        "type": "mesh3d"
                      }
                    ],
                    "parcoords": [
                      {
                        "line": {
                          "colorbar": {
                            "outlinewidth": 0,
                            "ticks": ""
                          }
                        },
                        "type": "parcoords"
                      }
                    ],
                    "pie": [
                      {
                        "automargin": true,
                        "type": "pie"
                      }
                    ],
                    "scatter": [
                      {
                        "fillpattern": {
                          "fillmode": "overlay",
                          "size": 10,
                          "solidity": 0.2
                        },
                        "type": "scatter"
                      }
                    ],
                    "scatter3d": [
                      {
                        "line": {
                          "colorbar": {
                            "outlinewidth": 0,
                            "ticks": ""
                          }
                        },
                        "marker": {
                          "colorbar": {
                            "outlinewidth": 0,
                            "ticks": ""
                          }
                        },
                        "type": "scatter3d"
                      }
                    ],
                    "scattercarpet": [
                      {
                        "marker": {
                          "colorbar": {
                            "outlinewidth": 0,
                            "ticks": ""
                          }
                        },
                        "type": "scattercarpet"
                      }
                    ],
                    "scattergeo": [
                      {
                        "marker": {
                          "colorbar": {
                            "outlinewidth": 0,
                            "ticks": ""
                          }
                        },
                        "type": "scattergeo"
                      }
                    ],
                    "scattergl": [
                      {
                        "marker": {
                          "colorbar": {
                            "outlinewidth": 0,
                            "ticks": ""
                          }
                        },
                        "type": "scattergl"
                      }
                    ],
                    "scattermapbox": [
                      {
                        "marker": {
                          "colorbar": {
                            "outlinewidth": 0,
                            "ticks": ""
                          }
                        },
                        "type": "scattermapbox"
                      }
                    ],
                    "scatterpolar": [
                      {
                        "marker": {
                          "colorbar": {
                            "outlinewidth": 0,
                            "ticks": ""
                          }
                        },
                        "type": "scatterpolar"
                      }
                    ],
                    "scatterpolargl": [
                      {
                        "marker": {
                          "colorbar": {
                            "outlinewidth": 0,
                            "ticks": ""
                          }
                        },
                        "type": "scatterpolargl"
                      }
                    ],
                    "scatterternary": [
                      {
                        "marker": {
                          "colorbar": {
                            "outlinewidth": 0,
                            "ticks": ""
                          }
                        },
                        "type": "scatterternary"
                      }
                    ],
                    "surface": [
                      {
                        "colorbar": {
                          "outlinewidth": 0,
                          "ticks": ""
                        },
                        "colorscale": [
                          [
                            0,
                            "#0d0887"
                          ],
                          [
                            0.1111111111111111,
                            "#46039f"
                          ],
                          [
                            0.2222222222222222,
                            "#7201a8"
                          ],
                          [
                            0.3333333333333333,
                            "#9c179e"
                          ],
                          [
                            0.4444444444444444,
                            "#bd3786"
                          ],
                          [
                            0.5555555555555556,
                            "#d8576b"
                          ],
                          [
                            0.6666666666666666,
                            "#ed7953"
                          ],
                          [
                            0.7777777777777778,
                            "#fb9f3a"
                          ],
                          [
                            0.8888888888888888,
                            "#fdca26"
                          ],
                          [
                            1,
                            "#f0f921"
                          ]
                        ],
                        "type": "surface"
                      }
                    ],
                    "table": [
                      {
                        "cells": {
                          "fill": {
                            "color": "#EBF0F8"
                          },
                          "line": {
                            "color": "white"
                          }
                        },
                        "header": {
                          "fill": {
                            "color": "#C8D4E3"
                          },
                          "line": {
                            "color": "white"
                          }
                        },
                        "type": "table"
                      }
                    ]
                  },
                  "layout": {
                    "annotationdefaults": {
                      "arrowcolor": "#2a3f5f",
                      "arrowhead": 0,
                      "arrowwidth": 1
                    },
                    "autotypenumbers": "strict",
                    "coloraxis": {
                      "colorbar": {
                        "outlinewidth": 0,
                        "ticks": ""
                      }
                    },
                    "colorscale": {
                      "diverging": [
                        [
                          0,
                          "#8e0152"
                        ],
                        [
                          0.1,
                          "#c51b7d"
                        ],
                        [
                          0.2,
                          "#de77ae"
                        ],
                        [
                          0.3,
                          "#f1b6da"
                        ],
                        [
                          0.4,
                          "#fde0ef"
                        ],
                        [
                          0.5,
                          "#f7f7f7"
                        ],
                        [
                          0.6,
                          "#e6f5d0"
                        ],
                        [
                          0.7,
                          "#b8e186"
                        ],
                        [
                          0.8,
                          "#7fbc41"
                        ],
                        [
                          0.9,
                          "#4d9221"
                        ],
                        [
                          1,
                          "#276419"
                        ]
                      ],
                      "sequential": [
                        [
                          0,
                          "#0d0887"
                        ],
                        [
                          0.1111111111111111,
                          "#46039f"
                        ],
                        [
                          0.2222222222222222,
                          "#7201a8"
                        ],
                        [
                          0.3333333333333333,
                          "#9c179e"
                        ],
                        [
                          0.4444444444444444,
                          "#bd3786"
                        ],
                        [
                          0.5555555555555556,
                          "#d8576b"
                        ],
                        [
                          0.6666666666666666,
                          "#ed7953"
                        ],
                        [
                          0.7777777777777778,
                          "#fb9f3a"
                        ],
                        [
                          0.8888888888888888,
                          "#fdca26"
                        ],
                        [
                          1,
                          "#f0f921"
                        ]
                      ],
                      "sequentialminus": [
                        [
                          0,
                          "#0d0887"
                        ],
                        [
                          0.1111111111111111,
                          "#46039f"
                        ],
                        [
                          0.2222222222222222,
                          "#7201a8"
                        ],
                        [
                          0.3333333333333333,
                          "#9c179e"
                        ],
                        [
                          0.4444444444444444,
                          "#bd3786"
                        ],
                        [
                          0.5555555555555556,
                          "#d8576b"
                        ],
                        [
                          0.6666666666666666,
                          "#ed7953"
                        ],
                        [
                          0.7777777777777778,
                          "#fb9f3a"
                        ],
                        [
                          0.8888888888888888,
                          "#fdca26"
                        ],
                        [
                          1,
                          "#f0f921"
                        ]
                      ]
                    },
                    "colorway": [
                      "#636efa",
                      "#EF553B",
                      "#00cc96",
                      "#ab63fa",
                      "#FFA15A",
                      "#19d3f3",
                      "#FF6692",
                      "#B6E880",
                      "#FF97FF",
                      "#FECB52"
                    ],
                    "font": {
                      "color": "#2a3f5f"
                    },
                    "geo": {
                      "bgcolor": "white",
                      "lakecolor": "white",
                      "landcolor": "#E5ECF6",
                      "showlakes": true,
                      "showland": true,
                      "subunitcolor": "white"
                    },
                    "hoverlabel": {
                      "align": "left"
                    },
                    "hovermode": "closest",
                    "mapbox": {
                      "style": "light"
                    },
                    "paper_bgcolor": "white",
                    "plot_bgcolor": "#E5ECF6",
                    "polar": {
                      "angularaxis": {
                        "gridcolor": "white",
                        "linecolor": "white",
                        "ticks": ""
                      },
                      "bgcolor": "#E5ECF6",
                      "radialaxis": {
                        "gridcolor": "white",
                        "linecolor": "white",
                        "ticks": ""
                      }
                    },
                    "scene": {
                      "xaxis": {
                        "backgroundcolor": "#E5ECF6",
                        "gridcolor": "white",
                        "gridwidth": 2,
                        "linecolor": "white",
                        "showbackground": true,
                        "ticks": "",
                        "zerolinecolor": "white"
                      },
                      "yaxis": {
                        "backgroundcolor": "#E5ECF6",
                        "gridcolor": "white",
                        "gridwidth": 2,
                        "linecolor": "white",
                        "showbackground": true,
                        "ticks": "",
                        "zerolinecolor": "white"
                      },
                      "zaxis": {
                        "backgroundcolor": "#E5ECF6",
                        "gridcolor": "white",
                        "gridwidth": 2,
                        "linecolor": "white",
                        "showbackground": true,
                        "ticks": "",
                        "zerolinecolor": "white"
                      }
                    },
                    "shapedefaults": {
                      "line": {
                        "color": "#2a3f5f"
                      }
                    },
                    "ternary": {
                      "aaxis": {
                        "gridcolor": "white",
                        "linecolor": "white",
                        "ticks": ""
                      },
                      "baxis": {
                        "gridcolor": "white",
                        "linecolor": "white",
                        "ticks": ""
                      },
                      "bgcolor": "#E5ECF6",
                      "caxis": {
                        "gridcolor": "white",
                        "linecolor": "white",
                        "ticks": ""
                      }
                    },
                    "title": {
                      "x": 0.05
                    },
                    "xaxis": {
                      "automargin": true,
                      "gridcolor": "white",
                      "linecolor": "white",
                      "ticks": "",
                      "title": {
                        "standoff": 15
                      },
                      "zerolinecolor": "white",
                      "zerolinewidth": 2
                    },
                    "yaxis": {
                      "automargin": true,
                      "gridcolor": "white",
                      "linecolor": "white",
                      "ticks": "",
                      "title": {
                        "standoff": 15
                      },
                      "zerolinecolor": "white",
                      "zerolinewidth": 2
                    }
                  }
                },
                "title": {
                  "text": "Top 10 Cities With The Largest Customer"
                },
                "xaxis": {
                  "anchor": "y",
                  "domain": [
                    0,
                    1
                  ],
                  "title": {
                    "text": "jml_cust"
                  }
                },
                "yaxis": {
                  "anchor": "x",
                  "categoryorder": "total ascending",
                  "domain": [
                    0,
                    1
                  ],
                  "title": {
                    "text": "customer_city"
                  }
                }
              }
            }
          },
          "metadata": {},
          "output_type": "display_data"
        },
        {
          "data": {
            "text/plain": [
              "(           customer_city  jml_cust\n",
              " 0              sao paulo     15540\n",
              " 1         rio de janeiro      6882\n",
              " 2         belo horizonte      2773\n",
              " 3               brasilia      2131\n",
              " 4               curitiba      1521\n",
              " 5               campinas      1444\n",
              " 6           porto alegre      1379\n",
              " 7               salvador      1245\n",
              " 8              guarulhos      1189\n",
              " 9  sao bernardo do campo       938,)"
            ]
          },
          "execution_count": 65,
          "metadata": {},
          "output_type": "execute_result"
        }
      ],
      "source": [
        "fig = px.bar(\n",
        "    custby_city_states.head(10), \n",
        "    x='jml_cust',\n",
        "    y='customer_city',\n",
        "    title='Top 10 Cities With The Largest Customer',\n",
        "    orientation='h',\n",
        "    )\n",
        "fig.update_layout(yaxis={'categoryorder':'total ascending'})\n",
        "fig.show()\n",
        "custby_city_states.head(10),"
      ]
    },
    {
      "cell_type": "markdown",
      "metadata": {
        "id": "F2Bo_ypQ9RfH"
      },
      "source": [
        "### Pertanyaan 2: produk apa saja yang paling banyak diorder"
      ]
    },
    {
      "cell_type": "code",
      "execution_count": 66,
      "metadata": {
        "id": "jkO5kTJq9S1Y"
      },
      "outputs": [
        {
          "data": {
            "text/html": [
              "<div>\n",
              "<style scoped>\n",
              "    .dataframe tbody tr th:only-of-type {\n",
              "        vertical-align: middle;\n",
              "    }\n",
              "\n",
              "    .dataframe tbody tr th {\n",
              "        vertical-align: top;\n",
              "    }\n",
              "\n",
              "    .dataframe thead th {\n",
              "        text-align: right;\n",
              "    }\n",
              "</style>\n",
              "<table border=\"1\" class=\"dataframe\">\n",
              "  <thead>\n",
              "    <tr style=\"text-align: right;\">\n",
              "      <th></th>\n",
              "      <th>product_category_name_english</th>\n",
              "      <th>count</th>\n",
              "    </tr>\n",
              "  </thead>\n",
              "  <tbody>\n",
              "    <tr>\n",
              "      <th>0</th>\n",
              "      <td>bed_bath_table</td>\n",
              "      <td>3029</td>\n",
              "    </tr>\n",
              "    <tr>\n",
              "      <th>1</th>\n",
              "      <td>sports_leisure</td>\n",
              "      <td>2867</td>\n",
              "    </tr>\n",
              "    <tr>\n",
              "      <th>2</th>\n",
              "      <td>furniture_decor</td>\n",
              "      <td>2657</td>\n",
              "    </tr>\n",
              "    <tr>\n",
              "      <th>3</th>\n",
              "      <td>health_beauty</td>\n",
              "      <td>2444</td>\n",
              "    </tr>\n",
              "    <tr>\n",
              "      <th>4</th>\n",
              "      <td>housewares</td>\n",
              "      <td>2335</td>\n",
              "    </tr>\n",
              "    <tr>\n",
              "      <th>...</th>\n",
              "      <td>...</td>\n",
              "      <td>...</td>\n",
              "    </tr>\n",
              "    <tr>\n",
              "      <th>66</th>\n",
              "      <td>tablets_printing_image</td>\n",
              "      <td>9</td>\n",
              "    </tr>\n",
              "    <tr>\n",
              "      <th>67</th>\n",
              "      <td>fashion_childrens_clothes</td>\n",
              "      <td>5</td>\n",
              "    </tr>\n",
              "    <tr>\n",
              "      <th>68</th>\n",
              "      <td>home_comfort_2</td>\n",
              "      <td>5</td>\n",
              "    </tr>\n",
              "    <tr>\n",
              "      <th>69</th>\n",
              "      <td>security_and_services</td>\n",
              "      <td>2</td>\n",
              "    </tr>\n",
              "    <tr>\n",
              "      <th>70</th>\n",
              "      <td>cds_dvds_musicals</td>\n",
              "      <td>1</td>\n",
              "    </tr>\n",
              "  </tbody>\n",
              "</table>\n",
              "<p>71 rows × 2 columns</p>\n",
              "</div>"
            ],
            "text/plain": [
              "   product_category_name_english  count\n",
              "0                 bed_bath_table   3029\n",
              "1                 sports_leisure   2867\n",
              "2                furniture_decor   2657\n",
              "3                  health_beauty   2444\n",
              "4                     housewares   2335\n",
              "..                           ...    ...\n",
              "66        tablets_printing_image      9\n",
              "67     fashion_childrens_clothes      5\n",
              "68                home_comfort_2      5\n",
              "69         security_and_services      2\n",
              "70             cds_dvds_musicals      1\n",
              "\n",
              "[71 rows x 2 columns]"
            ]
          },
          "execution_count": 66,
          "metadata": {},
          "output_type": "execute_result"
        }
      ],
      "source": [
        "products_cat_name_translation.product_category_name_english.value_counts().to_frame().reset_index()"
      ]
    },
    {
      "cell_type": "code",
      "execution_count": 67,
      "metadata": {},
      "outputs": [
        {
          "data": {
            "text/html": [
              "<div>\n",
              "<style scoped>\n",
              "    .dataframe tbody tr th:only-of-type {\n",
              "        vertical-align: middle;\n",
              "    }\n",
              "\n",
              "    .dataframe tbody tr th {\n",
              "        vertical-align: top;\n",
              "    }\n",
              "\n",
              "    .dataframe thead th {\n",
              "        text-align: right;\n",
              "    }\n",
              "</style>\n",
              "<table border=\"1\" class=\"dataframe\">\n",
              "  <thead>\n",
              "    <tr style=\"text-align: right;\">\n",
              "      <th></th>\n",
              "      <th>product_category_name_english</th>\n",
              "      <th>jumlah</th>\n",
              "    </tr>\n",
              "  </thead>\n",
              "  <tbody>\n",
              "    <tr>\n",
              "      <th>11</th>\n",
              "      <td>cool_stuff</td>\n",
              "      <td>3964</td>\n",
              "    </tr>\n",
              "    <tr>\n",
              "      <th>12</th>\n",
              "      <td>perfumery</td>\n",
              "      <td>3575</td>\n",
              "    </tr>\n",
              "    <tr>\n",
              "      <th>13</th>\n",
              "      <td>baby</td>\n",
              "      <td>3178</td>\n",
              "    </tr>\n",
              "    <tr>\n",
              "      <th>14</th>\n",
              "      <td>electronics</td>\n",
              "      <td>2827</td>\n",
              "    </tr>\n",
              "    <tr>\n",
              "      <th>15</th>\n",
              "      <td>stationery</td>\n",
              "      <td>2607</td>\n",
              "    </tr>\n",
              "  </tbody>\n",
              "</table>\n",
              "</div>"
            ],
            "text/plain": [
              "   product_category_name_english  jumlah\n",
              "11                    cool_stuff    3964\n",
              "12                     perfumery    3575\n",
              "13                          baby    3178\n",
              "14                   electronics    2827\n",
              "15                    stationery    2607"
            ]
          },
          "execution_count": 67,
          "metadata": {},
          "output_type": "execute_result"
        }
      ],
      "source": [
        "top_product_cat = all_dataset.groupby(by='product_category_name_english').agg({\n",
        "    'order_id':'count'\n",
        "}).sort_values(\n",
        "    by='order_id', \n",
        "    ascending=False).reset_index().rename(columns={'order_id':'jumlah'})\n",
        "\n",
        "top_product_cat.iloc[11:,].head()"
      ]
    },
    {
      "cell_type": "markdown",
      "metadata": {},
      "source": [
        "### Pertanyaan 3: kategori produk apa saja yang memiliki skor review yang baik"
      ]
    },
    {
      "cell_type": "code",
      "execution_count": 68,
      "metadata": {},
      "outputs": [
        {
          "data": {
            "text/plain": [
              "Index(['order_id', 'customer_id', 'order_status', 'order_purchase_timestamp',\n",
              "       'order_approved_at', 'order_delivered_carrier_date',\n",
              "       'order_delivered_customer_date', 'order_estimated_delivery_date',\n",
              "       'delivery_time', 'order_item_id', 'product_id', 'seller_id',\n",
              "       'shipping_limit_date', 'price', 'freight_value', 'total_price',\n",
              "       'payment_sequential', 'payment_type', 'payment_installments',\n",
              "       'payment_value', 'review_id', 'review_score', 'review_comment_title',\n",
              "       'review_comment_message', 'review_creation_date',\n",
              "       'review_answer_timestamp', 'customer_unique_id',\n",
              "       'customer_zip_code_prefix', 'customer_city', 'customer_state',\n",
              "       'cust_status', 'product_category_name', 'product_name_lenght',\n",
              "       'product_description_lenght', 'product_photos_qty', 'product_weight_g',\n",
              "       'product_length_cm', 'product_height_cm', 'product_width_cm',\n",
              "       'product_category_name_english'],\n",
              "      dtype='object')"
            ]
          },
          "execution_count": 68,
          "metadata": {},
          "output_type": "execute_result"
        }
      ],
      "source": [
        "all_dataset.columns"
      ]
    },
    {
      "cell_type": "code",
      "execution_count": 69,
      "metadata": {},
      "outputs": [
        {
          "data": {
            "text/html": [
              "<div>\n",
              "<style scoped>\n",
              "    .dataframe tbody tr th:only-of-type {\n",
              "        vertical-align: middle;\n",
              "    }\n",
              "\n",
              "    .dataframe tbody tr th {\n",
              "        vertical-align: top;\n",
              "    }\n",
              "\n",
              "    .dataframe thead th {\n",
              "        text-align: right;\n",
              "    }\n",
              "</style>\n",
              "<table border=\"1\" class=\"dataframe\">\n",
              "  <thead>\n",
              "    <tr style=\"text-align: right;\">\n",
              "      <th></th>\n",
              "      <th>review_score</th>\n",
              "      <th>product_category_name_english</th>\n",
              "      <th>jumlah</th>\n",
              "    </tr>\n",
              "  </thead>\n",
              "  <tbody>\n",
              "    <tr>\n",
              "      <th>0</th>\n",
              "      <td>5</td>\n",
              "      <td>bed_bath_table</td>\n",
              "      <td>6166</td>\n",
              "    </tr>\n",
              "    <tr>\n",
              "      <th>1</th>\n",
              "      <td>5</td>\n",
              "      <td>health_beauty</td>\n",
              "      <td>6024</td>\n",
              "    </tr>\n",
              "    <tr>\n",
              "      <th>2</th>\n",
              "      <td>5</td>\n",
              "      <td>sports_leisure</td>\n",
              "      <td>5284</td>\n",
              "    </tr>\n",
              "    <tr>\n",
              "      <th>3</th>\n",
              "      <td>5</td>\n",
              "      <td>furniture_decor</td>\n",
              "      <td>4698</td>\n",
              "    </tr>\n",
              "    <tr>\n",
              "      <th>4</th>\n",
              "      <td>5</td>\n",
              "      <td>computers_accessories</td>\n",
              "      <td>4347</td>\n",
              "    </tr>\n",
              "  </tbody>\n",
              "</table>\n",
              "</div>"
            ],
            "text/plain": [
              "   review_score product_category_name_english  jumlah\n",
              "0             5                bed_bath_table    6166\n",
              "1             5                 health_beauty    6024\n",
              "2             5                sports_leisure    5284\n",
              "3             5               furniture_decor    4698\n",
              "4             5         computers_accessories    4347"
            ]
          },
          "execution_count": 69,
          "metadata": {},
          "output_type": "execute_result"
        }
      ],
      "source": [
        "product = all_dataset[[\n",
        "    'review_id','review_score', \n",
        "    'review_comment_title', \n",
        "    'review_comment_message',\n",
        "    'review_creation_date',\n",
        "    'product_category_name_english']]\n",
        "\n",
        "product_review = product.groupby(by=['review_score','product_category_name_english']).agg({'review_id':'count'}).sort_values(\n",
        "    by='review_id', \n",
        "    ascending=False).rename(columns={'review_id':'jumlah'}).reset_index()\n",
        "product_review.head()"
      ]
    },
    {
      "cell_type": "code",
      "execution_count": 70,
      "metadata": {},
      "outputs": [
        {
          "data": {
            "application/vnd.plotly.v1+json": {
              "config": {
                "plotlyServerURL": "https://plot.ly"
              },
              "data": [
                {
                  "branchvalues": "total",
                  "domain": {
                    "x": [
                      0,
                      1
                    ],
                    "y": [
                      0,
                      1
                    ]
                  },
                  "hovertemplate": "labels=%{label}<br>jumlah=%{value}<br>parent=%{parent}<br>id=%{id}<extra></extra>",
                  "ids": [
                    "Product Score Review/1/agro_industry_and_commerce",
                    "Product Score Review/2/agro_industry_and_commerce",
                    "Product Score Review/3/agro_industry_and_commerce",
                    "Product Score Review/4/agro_industry_and_commerce",
                    "Product Score Review/5/agro_industry_and_commerce",
                    "Product Score Review/1/air_conditioning",
                    "Product Score Review/2/air_conditioning",
                    "Product Score Review/3/air_conditioning",
                    "Product Score Review/4/air_conditioning",
                    "Product Score Review/5/air_conditioning",
                    "Product Score Review/1/art",
                    "Product Score Review/2/art",
                    "Product Score Review/3/art",
                    "Product Score Review/4/art",
                    "Product Score Review/5/art",
                    "Product Score Review/1/arts_and_craftmanship",
                    "Product Score Review/3/arts_and_craftmanship",
                    "Product Score Review/4/arts_and_craftmanship",
                    "Product Score Review/5/arts_and_craftmanship",
                    "Product Score Review/1/audio",
                    "Product Score Review/2/audio",
                    "Product Score Review/3/audio",
                    "Product Score Review/4/audio",
                    "Product Score Review/5/audio",
                    "Product Score Review/1/auto",
                    "Product Score Review/2/auto",
                    "Product Score Review/3/auto",
                    "Product Score Review/4/auto",
                    "Product Score Review/5/auto",
                    "Product Score Review/1/baby",
                    "Product Score Review/2/baby",
                    "Product Score Review/3/baby",
                    "Product Score Review/4/baby",
                    "Product Score Review/5/baby",
                    "Product Score Review/1/bed_bath_table",
                    "Product Score Review/2/bed_bath_table",
                    "Product Score Review/3/bed_bath_table",
                    "Product Score Review/4/bed_bath_table",
                    "Product Score Review/5/bed_bath_table",
                    "Product Score Review/1/books_general_interest",
                    "Product Score Review/2/books_general_interest",
                    "Product Score Review/3/books_general_interest",
                    "Product Score Review/4/books_general_interest",
                    "Product Score Review/5/books_general_interest",
                    "Product Score Review/1/books_imported",
                    "Product Score Review/2/books_imported",
                    "Product Score Review/3/books_imported",
                    "Product Score Review/4/books_imported",
                    "Product Score Review/5/books_imported",
                    "Product Score Review/1/books_technical",
                    "Product Score Review/2/books_technical",
                    "Product Score Review/3/books_technical",
                    "Product Score Review/4/books_technical",
                    "Product Score Review/5/books_technical",
                    "Product Score Review/3/cds_dvds_musicals",
                    "Product Score Review/4/cds_dvds_musicals",
                    "Product Score Review/5/cds_dvds_musicals",
                    "Product Score Review/1/christmas_supplies",
                    "Product Score Review/2/christmas_supplies",
                    "Product Score Review/3/christmas_supplies",
                    "Product Score Review/4/christmas_supplies",
                    "Product Score Review/5/christmas_supplies",
                    "Product Score Review/1/cine_photo",
                    "Product Score Review/2/cine_photo",
                    "Product Score Review/3/cine_photo",
                    "Product Score Review/4/cine_photo",
                    "Product Score Review/5/cine_photo",
                    "Product Score Review/1/computers",
                    "Product Score Review/2/computers",
                    "Product Score Review/3/computers",
                    "Product Score Review/4/computers",
                    "Product Score Review/5/computers",
                    "Product Score Review/1/computers_accessories",
                    "Product Score Review/2/computers_accessories",
                    "Product Score Review/3/computers_accessories",
                    "Product Score Review/4/computers_accessories",
                    "Product Score Review/5/computers_accessories",
                    "Product Score Review/1/consoles_games",
                    "Product Score Review/2/consoles_games",
                    "Product Score Review/3/consoles_games",
                    "Product Score Review/4/consoles_games",
                    "Product Score Review/5/consoles_games",
                    "Product Score Review/1/construction_tools_construction",
                    "Product Score Review/2/construction_tools_construction",
                    "Product Score Review/3/construction_tools_construction",
                    "Product Score Review/4/construction_tools_construction",
                    "Product Score Review/5/construction_tools_construction",
                    "Product Score Review/1/construction_tools_lights",
                    "Product Score Review/2/construction_tools_lights",
                    "Product Score Review/3/construction_tools_lights",
                    "Product Score Review/4/construction_tools_lights",
                    "Product Score Review/5/construction_tools_lights",
                    "Product Score Review/1/construction_tools_safety",
                    "Product Score Review/2/construction_tools_safety",
                    "Product Score Review/3/construction_tools_safety",
                    "Product Score Review/4/construction_tools_safety",
                    "Product Score Review/5/construction_tools_safety",
                    "Product Score Review/1/cool_stuff",
                    "Product Score Review/2/cool_stuff",
                    "Product Score Review/3/cool_stuff",
                    "Product Score Review/4/cool_stuff",
                    "Product Score Review/5/cool_stuff",
                    "Product Score Review/1/costruction_tools_garden",
                    "Product Score Review/2/costruction_tools_garden",
                    "Product Score Review/3/costruction_tools_garden",
                    "Product Score Review/4/costruction_tools_garden",
                    "Product Score Review/5/costruction_tools_garden",
                    "Product Score Review/1/costruction_tools_tools",
                    "Product Score Review/3/costruction_tools_tools",
                    "Product Score Review/4/costruction_tools_tools",
                    "Product Score Review/5/costruction_tools_tools",
                    "Product Score Review/1/diapers_and_hygiene",
                    "Product Score Review/3/diapers_and_hygiene",
                    "Product Score Review/4/diapers_and_hygiene",
                    "Product Score Review/5/diapers_and_hygiene",
                    "Product Score Review/1/drinks",
                    "Product Score Review/2/drinks",
                    "Product Score Review/3/drinks",
                    "Product Score Review/4/drinks",
                    "Product Score Review/5/drinks",
                    "Product Score Review/1/dvds_blu_ray",
                    "Product Score Review/2/dvds_blu_ray",
                    "Product Score Review/3/dvds_blu_ray",
                    "Product Score Review/4/dvds_blu_ray",
                    "Product Score Review/5/dvds_blu_ray",
                    "Product Score Review/1/electronics",
                    "Product Score Review/2/electronics",
                    "Product Score Review/3/electronics",
                    "Product Score Review/4/electronics",
                    "Product Score Review/5/electronics",
                    "Product Score Review/1/fashio_female_clothing",
                    "Product Score Review/2/fashio_female_clothing",
                    "Product Score Review/3/fashio_female_clothing",
                    "Product Score Review/4/fashio_female_clothing",
                    "Product Score Review/5/fashio_female_clothing",
                    "Product Score Review/1/fashion_bags_accessories",
                    "Product Score Review/2/fashion_bags_accessories",
                    "Product Score Review/3/fashion_bags_accessories",
                    "Product Score Review/4/fashion_bags_accessories",
                    "Product Score Review/5/fashion_bags_accessories",
                    "Product Score Review/1/fashion_childrens_clothes",
                    "Product Score Review/5/fashion_childrens_clothes",
                    "Product Score Review/1/fashion_male_clothing",
                    "Product Score Review/2/fashion_male_clothing",
                    "Product Score Review/3/fashion_male_clothing",
                    "Product Score Review/4/fashion_male_clothing",
                    "Product Score Review/5/fashion_male_clothing",
                    "Product Score Review/1/fashion_shoes",
                    "Product Score Review/2/fashion_shoes",
                    "Product Score Review/3/fashion_shoes",
                    "Product Score Review/4/fashion_shoes",
                    "Product Score Review/5/fashion_shoes",
                    "Product Score Review/1/fashion_sport",
                    "Product Score Review/2/fashion_sport",
                    "Product Score Review/3/fashion_sport",
                    "Product Score Review/4/fashion_sport",
                    "Product Score Review/5/fashion_sport",
                    "Product Score Review/1/fashion_underwear_beach",
                    "Product Score Review/2/fashion_underwear_beach",
                    "Product Score Review/3/fashion_underwear_beach",
                    "Product Score Review/4/fashion_underwear_beach",
                    "Product Score Review/5/fashion_underwear_beach",
                    "Product Score Review/1/fixed_telephony",
                    "Product Score Review/2/fixed_telephony",
                    "Product Score Review/3/fixed_telephony",
                    "Product Score Review/4/fixed_telephony",
                    "Product Score Review/5/fixed_telephony",
                    "Product Score Review/1/flowers",
                    "Product Score Review/3/flowers",
                    "Product Score Review/4/flowers",
                    "Product Score Review/5/flowers",
                    "Product Score Review/1/food",
                    "Product Score Review/2/food",
                    "Product Score Review/3/food",
                    "Product Score Review/4/food",
                    "Product Score Review/5/food",
                    "Product Score Review/1/food_drink",
                    "Product Score Review/2/food_drink",
                    "Product Score Review/3/food_drink",
                    "Product Score Review/4/food_drink",
                    "Product Score Review/5/food_drink",
                    "Product Score Review/1/furniture_bedroom",
                    "Product Score Review/2/furniture_bedroom",
                    "Product Score Review/3/furniture_bedroom",
                    "Product Score Review/4/furniture_bedroom",
                    "Product Score Review/5/furniture_bedroom",
                    "Product Score Review/1/furniture_decor",
                    "Product Score Review/2/furniture_decor",
                    "Product Score Review/3/furniture_decor",
                    "Product Score Review/4/furniture_decor",
                    "Product Score Review/5/furniture_decor",
                    "Product Score Review/1/furniture_living_room",
                    "Product Score Review/2/furniture_living_room",
                    "Product Score Review/3/furniture_living_room",
                    "Product Score Review/4/furniture_living_room",
                    "Product Score Review/5/furniture_living_room",
                    "Product Score Review/1/furniture_mattress_and_upholstery",
                    "Product Score Review/2/furniture_mattress_and_upholstery",
                    "Product Score Review/3/furniture_mattress_and_upholstery",
                    "Product Score Review/4/furniture_mattress_and_upholstery",
                    "Product Score Review/5/furniture_mattress_and_upholstery",
                    "Product Score Review/1/garden_tools",
                    "Product Score Review/2/garden_tools",
                    "Product Score Review/3/garden_tools",
                    "Product Score Review/4/garden_tools",
                    "Product Score Review/5/garden_tools",
                    "Product Score Review/1/health_beauty",
                    "Product Score Review/2/health_beauty",
                    "Product Score Review/3/health_beauty",
                    "Product Score Review/4/health_beauty",
                    "Product Score Review/5/health_beauty",
                    "Product Score Review/1/home_appliances",
                    "Product Score Review/2/home_appliances",
                    "Product Score Review/3/home_appliances",
                    "Product Score Review/4/home_appliances",
                    "Product Score Review/5/home_appliances",
                    "Product Score Review/1/home_appliances_2",
                    "Product Score Review/2/home_appliances_2",
                    "Product Score Review/3/home_appliances_2",
                    "Product Score Review/4/home_appliances_2",
                    "Product Score Review/5/home_appliances_2",
                    "Product Score Review/1/home_comfort_2",
                    "Product Score Review/2/home_comfort_2",
                    "Product Score Review/3/home_comfort_2",
                    "Product Score Review/4/home_comfort_2",
                    "Product Score Review/5/home_comfort_2",
                    "Product Score Review/1/home_confort",
                    "Product Score Review/2/home_confort",
                    "Product Score Review/3/home_confort",
                    "Product Score Review/4/home_confort",
                    "Product Score Review/5/home_confort",
                    "Product Score Review/1/home_construction",
                    "Product Score Review/2/home_construction",
                    "Product Score Review/3/home_construction",
                    "Product Score Review/4/home_construction",
                    "Product Score Review/5/home_construction",
                    "Product Score Review/1/housewares",
                    "Product Score Review/2/housewares",
                    "Product Score Review/3/housewares",
                    "Product Score Review/4/housewares",
                    "Product Score Review/5/housewares",
                    "Product Score Review/1/industry_commerce_and_business",
                    "Product Score Review/2/industry_commerce_and_business",
                    "Product Score Review/3/industry_commerce_and_business",
                    "Product Score Review/4/industry_commerce_and_business",
                    "Product Score Review/5/industry_commerce_and_business",
                    "Product Score Review/1/kitchen_dining_laundry_garden_furniture",
                    "Product Score Review/2/kitchen_dining_laundry_garden_furniture",
                    "Product Score Review/3/kitchen_dining_laundry_garden_furniture",
                    "Product Score Review/4/kitchen_dining_laundry_garden_furniture",
                    "Product Score Review/5/kitchen_dining_laundry_garden_furniture",
                    "Product Score Review/1/la_cuisine",
                    "Product Score Review/4/la_cuisine",
                    "Product Score Review/5/la_cuisine",
                    "Product Score Review/1/luggage_accessories",
                    "Product Score Review/2/luggage_accessories",
                    "Product Score Review/3/luggage_accessories",
                    "Product Score Review/4/luggage_accessories",
                    "Product Score Review/5/luggage_accessories",
                    "Product Score Review/1/market_place",
                    "Product Score Review/2/market_place",
                    "Product Score Review/3/market_place",
                    "Product Score Review/4/market_place",
                    "Product Score Review/5/market_place",
                    "Product Score Review/1/music",
                    "Product Score Review/3/music",
                    "Product Score Review/4/music",
                    "Product Score Review/5/music",
                    "Product Score Review/1/musical_instruments",
                    "Product Score Review/2/musical_instruments",
                    "Product Score Review/3/musical_instruments",
                    "Product Score Review/4/musical_instruments",
                    "Product Score Review/5/musical_instruments",
                    "Product Score Review/1/office_furniture",
                    "Product Score Review/2/office_furniture",
                    "Product Score Review/3/office_furniture",
                    "Product Score Review/4/office_furniture",
                    "Product Score Review/5/office_furniture",
                    "Product Score Review/1/party_supplies",
                    "Product Score Review/2/party_supplies",
                    "Product Score Review/3/party_supplies",
                    "Product Score Review/4/party_supplies",
                    "Product Score Review/5/party_supplies",
                    "Product Score Review/1/perfumery",
                    "Product Score Review/2/perfumery",
                    "Product Score Review/3/perfumery",
                    "Product Score Review/4/perfumery",
                    "Product Score Review/5/perfumery",
                    "Product Score Review/1/pet_shop",
                    "Product Score Review/2/pet_shop",
                    "Product Score Review/3/pet_shop",
                    "Product Score Review/4/pet_shop",
                    "Product Score Review/5/pet_shop",
                    "Product Score Review/1/security_and_services",
                    "Product Score Review/4/security_and_services",
                    "Product Score Review/1/signaling_and_security",
                    "Product Score Review/2/signaling_and_security",
                    "Product Score Review/3/signaling_and_security",
                    "Product Score Review/4/signaling_and_security",
                    "Product Score Review/5/signaling_and_security",
                    "Product Score Review/1/small_appliances",
                    "Product Score Review/2/small_appliances",
                    "Product Score Review/3/small_appliances",
                    "Product Score Review/4/small_appliances",
                    "Product Score Review/5/small_appliances",
                    "Product Score Review/1/small_appliances_home_oven_and_coffee",
                    "Product Score Review/2/small_appliances_home_oven_and_coffee",
                    "Product Score Review/3/small_appliances_home_oven_and_coffee",
                    "Product Score Review/4/small_appliances_home_oven_and_coffee",
                    "Product Score Review/5/small_appliances_home_oven_and_coffee",
                    "Product Score Review/1/sports_leisure",
                    "Product Score Review/2/sports_leisure",
                    "Product Score Review/3/sports_leisure",
                    "Product Score Review/4/sports_leisure",
                    "Product Score Review/5/sports_leisure",
                    "Product Score Review/1/stationery",
                    "Product Score Review/2/stationery",
                    "Product Score Review/3/stationery",
                    "Product Score Review/4/stationery",
                    "Product Score Review/5/stationery",
                    "Product Score Review/1/tablets_printing_image",
                    "Product Score Review/2/tablets_printing_image",
                    "Product Score Review/3/tablets_printing_image",
                    "Product Score Review/4/tablets_printing_image",
                    "Product Score Review/5/tablets_printing_image",
                    "Product Score Review/1/telephony",
                    "Product Score Review/2/telephony",
                    "Product Score Review/3/telephony",
                    "Product Score Review/4/telephony",
                    "Product Score Review/5/telephony",
                    "Product Score Review/1/toys",
                    "Product Score Review/2/toys",
                    "Product Score Review/3/toys",
                    "Product Score Review/4/toys",
                    "Product Score Review/5/toys",
                    "Product Score Review/1/watches_gifts",
                    "Product Score Review/2/watches_gifts",
                    "Product Score Review/3/watches_gifts",
                    "Product Score Review/4/watches_gifts",
                    "Product Score Review/5/watches_gifts",
                    "Product Score Review/1",
                    "Product Score Review/2",
                    "Product Score Review/3",
                    "Product Score Review/4",
                    "Product Score Review/5",
                    "Product Score Review"
                  ],
                  "labels": [
                    "agro_industry_and_commerce",
                    "agro_industry_and_commerce",
                    "agro_industry_and_commerce",
                    "agro_industry_and_commerce",
                    "agro_industry_and_commerce",
                    "air_conditioning",
                    "air_conditioning",
                    "air_conditioning",
                    "air_conditioning",
                    "air_conditioning",
                    "art",
                    "art",
                    "art",
                    "art",
                    "art",
                    "arts_and_craftmanship",
                    "arts_and_craftmanship",
                    "arts_and_craftmanship",
                    "arts_and_craftmanship",
                    "audio",
                    "audio",
                    "audio",
                    "audio",
                    "audio",
                    "auto",
                    "auto",
                    "auto",
                    "auto",
                    "auto",
                    "baby",
                    "baby",
                    "baby",
                    "baby",
                    "baby",
                    "bed_bath_table",
                    "bed_bath_table",
                    "bed_bath_table",
                    "bed_bath_table",
                    "bed_bath_table",
                    "books_general_interest",
                    "books_general_interest",
                    "books_general_interest",
                    "books_general_interest",
                    "books_general_interest",
                    "books_imported",
                    "books_imported",
                    "books_imported",
                    "books_imported",
                    "books_imported",
                    "books_technical",
                    "books_technical",
                    "books_technical",
                    "books_technical",
                    "books_technical",
                    "cds_dvds_musicals",
                    "cds_dvds_musicals",
                    "cds_dvds_musicals",
                    "christmas_supplies",
                    "christmas_supplies",
                    "christmas_supplies",
                    "christmas_supplies",
                    "christmas_supplies",
                    "cine_photo",
                    "cine_photo",
                    "cine_photo",
                    "cine_photo",
                    "cine_photo",
                    "computers",
                    "computers",
                    "computers",
                    "computers",
                    "computers",
                    "computers_accessories",
                    "computers_accessories",
                    "computers_accessories",
                    "computers_accessories",
                    "computers_accessories",
                    "consoles_games",
                    "consoles_games",
                    "consoles_games",
                    "consoles_games",
                    "consoles_games",
                    "construction_tools_construction",
                    "construction_tools_construction",
                    "construction_tools_construction",
                    "construction_tools_construction",
                    "construction_tools_construction",
                    "construction_tools_lights",
                    "construction_tools_lights",
                    "construction_tools_lights",
                    "construction_tools_lights",
                    "construction_tools_lights",
                    "construction_tools_safety",
                    "construction_tools_safety",
                    "construction_tools_safety",
                    "construction_tools_safety",
                    "construction_tools_safety",
                    "cool_stuff",
                    "cool_stuff",
                    "cool_stuff",
                    "cool_stuff",
                    "cool_stuff",
                    "costruction_tools_garden",
                    "costruction_tools_garden",
                    "costruction_tools_garden",
                    "costruction_tools_garden",
                    "costruction_tools_garden",
                    "costruction_tools_tools",
                    "costruction_tools_tools",
                    "costruction_tools_tools",
                    "costruction_tools_tools",
                    "diapers_and_hygiene",
                    "diapers_and_hygiene",
                    "diapers_and_hygiene",
                    "diapers_and_hygiene",
                    "drinks",
                    "drinks",
                    "drinks",
                    "drinks",
                    "drinks",
                    "dvds_blu_ray",
                    "dvds_blu_ray",
                    "dvds_blu_ray",
                    "dvds_blu_ray",
                    "dvds_blu_ray",
                    "electronics",
                    "electronics",
                    "electronics",
                    "electronics",
                    "electronics",
                    "fashio_female_clothing",
                    "fashio_female_clothing",
                    "fashio_female_clothing",
                    "fashio_female_clothing",
                    "fashio_female_clothing",
                    "fashion_bags_accessories",
                    "fashion_bags_accessories",
                    "fashion_bags_accessories",
                    "fashion_bags_accessories",
                    "fashion_bags_accessories",
                    "fashion_childrens_clothes",
                    "fashion_childrens_clothes",
                    "fashion_male_clothing",
                    "fashion_male_clothing",
                    "fashion_male_clothing",
                    "fashion_male_clothing",
                    "fashion_male_clothing",
                    "fashion_shoes",
                    "fashion_shoes",
                    "fashion_shoes",
                    "fashion_shoes",
                    "fashion_shoes",
                    "fashion_sport",
                    "fashion_sport",
                    "fashion_sport",
                    "fashion_sport",
                    "fashion_sport",
                    "fashion_underwear_beach",
                    "fashion_underwear_beach",
                    "fashion_underwear_beach",
                    "fashion_underwear_beach",
                    "fashion_underwear_beach",
                    "fixed_telephony",
                    "fixed_telephony",
                    "fixed_telephony",
                    "fixed_telephony",
                    "fixed_telephony",
                    "flowers",
                    "flowers",
                    "flowers",
                    "flowers",
                    "food",
                    "food",
                    "food",
                    "food",
                    "food",
                    "food_drink",
                    "food_drink",
                    "food_drink",
                    "food_drink",
                    "food_drink",
                    "furniture_bedroom",
                    "furniture_bedroom",
                    "furniture_bedroom",
                    "furniture_bedroom",
                    "furniture_bedroom",
                    "furniture_decor",
                    "furniture_decor",
                    "furniture_decor",
                    "furniture_decor",
                    "furniture_decor",
                    "furniture_living_room",
                    "furniture_living_room",
                    "furniture_living_room",
                    "furniture_living_room",
                    "furniture_living_room",
                    "furniture_mattress_and_upholstery",
                    "furniture_mattress_and_upholstery",
                    "furniture_mattress_and_upholstery",
                    "furniture_mattress_and_upholstery",
                    "furniture_mattress_and_upholstery",
                    "garden_tools",
                    "garden_tools",
                    "garden_tools",
                    "garden_tools",
                    "garden_tools",
                    "health_beauty",
                    "health_beauty",
                    "health_beauty",
                    "health_beauty",
                    "health_beauty",
                    "home_appliances",
                    "home_appliances",
                    "home_appliances",
                    "home_appliances",
                    "home_appliances",
                    "home_appliances_2",
                    "home_appliances_2",
                    "home_appliances_2",
                    "home_appliances_2",
                    "home_appliances_2",
                    "home_comfort_2",
                    "home_comfort_2",
                    "home_comfort_2",
                    "home_comfort_2",
                    "home_comfort_2",
                    "home_confort",
                    "home_confort",
                    "home_confort",
                    "home_confort",
                    "home_confort",
                    "home_construction",
                    "home_construction",
                    "home_construction",
                    "home_construction",
                    "home_construction",
                    "housewares",
                    "housewares",
                    "housewares",
                    "housewares",
                    "housewares",
                    "industry_commerce_and_business",
                    "industry_commerce_and_business",
                    "industry_commerce_and_business",
                    "industry_commerce_and_business",
                    "industry_commerce_and_business",
                    "kitchen_dining_laundry_garden_furniture",
                    "kitchen_dining_laundry_garden_furniture",
                    "kitchen_dining_laundry_garden_furniture",
                    "kitchen_dining_laundry_garden_furniture",
                    "kitchen_dining_laundry_garden_furniture",
                    "la_cuisine",
                    "la_cuisine",
                    "la_cuisine",
                    "luggage_accessories",
                    "luggage_accessories",
                    "luggage_accessories",
                    "luggage_accessories",
                    "luggage_accessories",
                    "market_place",
                    "market_place",
                    "market_place",
                    "market_place",
                    "market_place",
                    "music",
                    "music",
                    "music",
                    "music",
                    "musical_instruments",
                    "musical_instruments",
                    "musical_instruments",
                    "musical_instruments",
                    "musical_instruments",
                    "office_furniture",
                    "office_furniture",
                    "office_furniture",
                    "office_furniture",
                    "office_furniture",
                    "party_supplies",
                    "party_supplies",
                    "party_supplies",
                    "party_supplies",
                    "party_supplies",
                    "perfumery",
                    "perfumery",
                    "perfumery",
                    "perfumery",
                    "perfumery",
                    "pet_shop",
                    "pet_shop",
                    "pet_shop",
                    "pet_shop",
                    "pet_shop",
                    "security_and_services",
                    "security_and_services",
                    "signaling_and_security",
                    "signaling_and_security",
                    "signaling_and_security",
                    "signaling_and_security",
                    "signaling_and_security",
                    "small_appliances",
                    "small_appliances",
                    "small_appliances",
                    "small_appliances",
                    "small_appliances",
                    "small_appliances_home_oven_and_coffee",
                    "small_appliances_home_oven_and_coffee",
                    "small_appliances_home_oven_and_coffee",
                    "small_appliances_home_oven_and_coffee",
                    "small_appliances_home_oven_and_coffee",
                    "sports_leisure",
                    "sports_leisure",
                    "sports_leisure",
                    "sports_leisure",
                    "sports_leisure",
                    "stationery",
                    "stationery",
                    "stationery",
                    "stationery",
                    "stationery",
                    "tablets_printing_image",
                    "tablets_printing_image",
                    "tablets_printing_image",
                    "tablets_printing_image",
                    "tablets_printing_image",
                    "telephony",
                    "telephony",
                    "telephony",
                    "telephony",
                    "telephony",
                    "toys",
                    "toys",
                    "toys",
                    "toys",
                    "toys",
                    "watches_gifts",
                    "watches_gifts",
                    "watches_gifts",
                    "watches_gifts",
                    "watches_gifts",
                    "1",
                    "2",
                    "3",
                    "4",
                    "5",
                    "Product Score Review"
                  ],
                  "name": "",
                  "parents": [
                    "Product Score Review/1",
                    "Product Score Review/2",
                    "Product Score Review/3",
                    "Product Score Review/4",
                    "Product Score Review/5",
                    "Product Score Review/1",
                    "Product Score Review/2",
                    "Product Score Review/3",
                    "Product Score Review/4",
                    "Product Score Review/5",
                    "Product Score Review/1",
                    "Product Score Review/2",
                    "Product Score Review/3",
                    "Product Score Review/4",
                    "Product Score Review/5",
                    "Product Score Review/1",
                    "Product Score Review/3",
                    "Product Score Review/4",
                    "Product Score Review/5",
                    "Product Score Review/1",
                    "Product Score Review/2",
                    "Product Score Review/3",
                    "Product Score Review/4",
                    "Product Score Review/5",
                    "Product Score Review/1",
                    "Product Score Review/2",
                    "Product Score Review/3",
                    "Product Score Review/4",
                    "Product Score Review/5",
                    "Product Score Review/1",
                    "Product Score Review/2",
                    "Product Score Review/3",
                    "Product Score Review/4",
                    "Product Score Review/5",
                    "Product Score Review/1",
                    "Product Score Review/2",
                    "Product Score Review/3",
                    "Product Score Review/4",
                    "Product Score Review/5",
                    "Product Score Review/1",
                    "Product Score Review/2",
                    "Product Score Review/3",
                    "Product Score Review/4",
                    "Product Score Review/5",
                    "Product Score Review/1",
                    "Product Score Review/2",
                    "Product Score Review/3",
                    "Product Score Review/4",
                    "Product Score Review/5",
                    "Product Score Review/1",
                    "Product Score Review/2",
                    "Product Score Review/3",
                    "Product Score Review/4",
                    "Product Score Review/5",
                    "Product Score Review/3",
                    "Product Score Review/4",
                    "Product Score Review/5",
                    "Product Score Review/1",
                    "Product Score Review/2",
                    "Product Score Review/3",
                    "Product Score Review/4",
                    "Product Score Review/5",
                    "Product Score Review/1",
                    "Product Score Review/2",
                    "Product Score Review/3",
                    "Product Score Review/4",
                    "Product Score Review/5",
                    "Product Score Review/1",
                    "Product Score Review/2",
                    "Product Score Review/3",
                    "Product Score Review/4",
                    "Product Score Review/5",
                    "Product Score Review/1",
                    "Product Score Review/2",
                    "Product Score Review/3",
                    "Product Score Review/4",
                    "Product Score Review/5",
                    "Product Score Review/1",
                    "Product Score Review/2",
                    "Product Score Review/3",
                    "Product Score Review/4",
                    "Product Score Review/5",
                    "Product Score Review/1",
                    "Product Score Review/2",
                    "Product Score Review/3",
                    "Product Score Review/4",
                    "Product Score Review/5",
                    "Product Score Review/1",
                    "Product Score Review/2",
                    "Product Score Review/3",
                    "Product Score Review/4",
                    "Product Score Review/5",
                    "Product Score Review/1",
                    "Product Score Review/2",
                    "Product Score Review/3",
                    "Product Score Review/4",
                    "Product Score Review/5",
                    "Product Score Review/1",
                    "Product Score Review/2",
                    "Product Score Review/3",
                    "Product Score Review/4",
                    "Product Score Review/5",
                    "Product Score Review/1",
                    "Product Score Review/2",
                    "Product Score Review/3",
                    "Product Score Review/4",
                    "Product Score Review/5",
                    "Product Score Review/1",
                    "Product Score Review/3",
                    "Product Score Review/4",
                    "Product Score Review/5",
                    "Product Score Review/1",
                    "Product Score Review/3",
                    "Product Score Review/4",
                    "Product Score Review/5",
                    "Product Score Review/1",
                    "Product Score Review/2",
                    "Product Score Review/3",
                    "Product Score Review/4",
                    "Product Score Review/5",
                    "Product Score Review/1",
                    "Product Score Review/2",
                    "Product Score Review/3",
                    "Product Score Review/4",
                    "Product Score Review/5",
                    "Product Score Review/1",
                    "Product Score Review/2",
                    "Product Score Review/3",
                    "Product Score Review/4",
                    "Product Score Review/5",
                    "Product Score Review/1",
                    "Product Score Review/2",
                    "Product Score Review/3",
                    "Product Score Review/4",
                    "Product Score Review/5",
                    "Product Score Review/1",
                    "Product Score Review/2",
                    "Product Score Review/3",
                    "Product Score Review/4",
                    "Product Score Review/5",
                    "Product Score Review/1",
                    "Product Score Review/5",
                    "Product Score Review/1",
                    "Product Score Review/2",
                    "Product Score Review/3",
                    "Product Score Review/4",
                    "Product Score Review/5",
                    "Product Score Review/1",
                    "Product Score Review/2",
                    "Product Score Review/3",
                    "Product Score Review/4",
                    "Product Score Review/5",
                    "Product Score Review/1",
                    "Product Score Review/2",
                    "Product Score Review/3",
                    "Product Score Review/4",
                    "Product Score Review/5",
                    "Product Score Review/1",
                    "Product Score Review/2",
                    "Product Score Review/3",
                    "Product Score Review/4",
                    "Product Score Review/5",
                    "Product Score Review/1",
                    "Product Score Review/2",
                    "Product Score Review/3",
                    "Product Score Review/4",
                    "Product Score Review/5",
                    "Product Score Review/1",
                    "Product Score Review/3",
                    "Product Score Review/4",
                    "Product Score Review/5",
                    "Product Score Review/1",
                    "Product Score Review/2",
                    "Product Score Review/3",
                    "Product Score Review/4",
                    "Product Score Review/5",
                    "Product Score Review/1",
                    "Product Score Review/2",
                    "Product Score Review/3",
                    "Product Score Review/4",
                    "Product Score Review/5",
                    "Product Score Review/1",
                    "Product Score Review/2",
                    "Product Score Review/3",
                    "Product Score Review/4",
                    "Product Score Review/5",
                    "Product Score Review/1",
                    "Product Score Review/2",
                    "Product Score Review/3",
                    "Product Score Review/4",
                    "Product Score Review/5",
                    "Product Score Review/1",
                    "Product Score Review/2",
                    "Product Score Review/3",
                    "Product Score Review/4",
                    "Product Score Review/5",
                    "Product Score Review/1",
                    "Product Score Review/2",
                    "Product Score Review/3",
                    "Product Score Review/4",
                    "Product Score Review/5",
                    "Product Score Review/1",
                    "Product Score Review/2",
                    "Product Score Review/3",
                    "Product Score Review/4",
                    "Product Score Review/5",
                    "Product Score Review/1",
                    "Product Score Review/2",
                    "Product Score Review/3",
                    "Product Score Review/4",
                    "Product Score Review/5",
                    "Product Score Review/1",
                    "Product Score Review/2",
                    "Product Score Review/3",
                    "Product Score Review/4",
                    "Product Score Review/5",
                    "Product Score Review/1",
                    "Product Score Review/2",
                    "Product Score Review/3",
                    "Product Score Review/4",
                    "Product Score Review/5",
                    "Product Score Review/1",
                    "Product Score Review/2",
                    "Product Score Review/3",
                    "Product Score Review/4",
                    "Product Score Review/5",
                    "Product Score Review/1",
                    "Product Score Review/2",
                    "Product Score Review/3",
                    "Product Score Review/4",
                    "Product Score Review/5",
                    "Product Score Review/1",
                    "Product Score Review/2",
                    "Product Score Review/3",
                    "Product Score Review/4",
                    "Product Score Review/5",
                    "Product Score Review/1",
                    "Product Score Review/2",
                    "Product Score Review/3",
                    "Product Score Review/4",
                    "Product Score Review/5",
                    "Product Score Review/1",
                    "Product Score Review/2",
                    "Product Score Review/3",
                    "Product Score Review/4",
                    "Product Score Review/5",
                    "Product Score Review/1",
                    "Product Score Review/2",
                    "Product Score Review/3",
                    "Product Score Review/4",
                    "Product Score Review/5",
                    "Product Score Review/1",
                    "Product Score Review/4",
                    "Product Score Review/5",
                    "Product Score Review/1",
                    "Product Score Review/2",
                    "Product Score Review/3",
                    "Product Score Review/4",
                    "Product Score Review/5",
                    "Product Score Review/1",
                    "Product Score Review/2",
                    "Product Score Review/3",
                    "Product Score Review/4",
                    "Product Score Review/5",
                    "Product Score Review/1",
                    "Product Score Review/3",
                    "Product Score Review/4",
                    "Product Score Review/5",
                    "Product Score Review/1",
                    "Product Score Review/2",
                    "Product Score Review/3",
                    "Product Score Review/4",
                    "Product Score Review/5",
                    "Product Score Review/1",
                    "Product Score Review/2",
                    "Product Score Review/3",
                    "Product Score Review/4",
                    "Product Score Review/5",
                    "Product Score Review/1",
                    "Product Score Review/2",
                    "Product Score Review/3",
                    "Product Score Review/4",
                    "Product Score Review/5",
                    "Product Score Review/1",
                    "Product Score Review/2",
                    "Product Score Review/3",
                    "Product Score Review/4",
                    "Product Score Review/5",
                    "Product Score Review/1",
                    "Product Score Review/2",
                    "Product Score Review/3",
                    "Product Score Review/4",
                    "Product Score Review/5",
                    "Product Score Review/1",
                    "Product Score Review/4",
                    "Product Score Review/1",
                    "Product Score Review/2",
                    "Product Score Review/3",
                    "Product Score Review/4",
                    "Product Score Review/5",
                    "Product Score Review/1",
                    "Product Score Review/2",
                    "Product Score Review/3",
                    "Product Score Review/4",
                    "Product Score Review/5",
                    "Product Score Review/1",
                    "Product Score Review/2",
                    "Product Score Review/3",
                    "Product Score Review/4",
                    "Product Score Review/5",
                    "Product Score Review/1",
                    "Product Score Review/2",
                    "Product Score Review/3",
                    "Product Score Review/4",
                    "Product Score Review/5",
                    "Product Score Review/1",
                    "Product Score Review/2",
                    "Product Score Review/3",
                    "Product Score Review/4",
                    "Product Score Review/5",
                    "Product Score Review/1",
                    "Product Score Review/2",
                    "Product Score Review/3",
                    "Product Score Review/4",
                    "Product Score Review/5",
                    "Product Score Review/1",
                    "Product Score Review/2",
                    "Product Score Review/3",
                    "Product Score Review/4",
                    "Product Score Review/5",
                    "Product Score Review/1",
                    "Product Score Review/2",
                    "Product Score Review/3",
                    "Product Score Review/4",
                    "Product Score Review/5",
                    "Product Score Review/1",
                    "Product Score Review/2",
                    "Product Score Review/3",
                    "Product Score Review/4",
                    "Product Score Review/5",
                    "Product Score Review",
                    "Product Score Review",
                    "Product Score Review",
                    "Product Score Review",
                    "Product Score Review",
                    ""
                  ],
                  "root": {
                    "color": "grey"
                  },
                  "type": "treemap",
                  "values": [
                    27,
                    7,
                    14,
                    57,
                    147,
                    44,
                    8,
                    26,
                    54,
                    165,
                    33,
                    7,
                    19,
                    40,
                    118,
                    3,
                    3,
                    3,
                    15,
                    62,
                    19,
                    37,
                    58,
                    201,
                    512,
                    152,
                    334,
                    904,
                    2454,
                    421,
                    110,
                    264,
                    599,
                    1784,
                    1724,
                    562,
                    1166,
                    2229,
                    6166,
                    41,
                    8,
                    21,
                    85,
                    406,
                    6,
                    1,
                    2,
                    5,
                    48,
                    22,
                    7,
                    10,
                    39,
                    191,
                    1,
                    3,
                    10,
                    19,
                    2,
                    13,
                    37,
                    77,
                    9,
                    2,
                    5,
                    6,
                    52,
                    25,
                    2,
                    12,
                    47,
                    131,
                    1199,
                    290,
                    688,
                    1581,
                    4347,
                    147,
                    38,
                    118,
                    227,
                    650,
                    110,
                    30,
                    89,
                    178,
                    543,
                    26,
                    17,
                    33,
                    64,
                    165,
                    35,
                    5,
                    17,
                    39,
                    102,
                    396,
                    126,
                    327,
                    790,
                    2325,
                    32,
                    10,
                    13,
                    43,
                    149,
                    9,
                    1,
                    21,
                    70,
                    10,
                    11,
                    6,
                    12,
                    49,
                    7,
                    33,
                    84,
                    211,
                    11,
                    1,
                    1,
                    13,
                    44,
                    332,
                    114,
                    220,
                    603,
                    1558,
                    6,
                    3,
                    7,
                    14,
                    20,
                    224,
                    57,
                    185,
                    440,
                    1253,
                    1,
                    7,
                    40,
                    5,
                    7,
                    20,
                    72,
                    26,
                    9,
                    18,
                    45,
                    175,
                    2,
                    1,
                    2,
                    8,
                    18,
                    16,
                    8,
                    10,
                    36,
                    73,
                    53,
                    17,
                    19,
                    56,
                    124,
                    2,
                    2,
                    6,
                    21,
                    52,
                    13,
                    26,
                    95,
                    325,
                    18,
                    5,
                    29,
                    51,
                    187,
                    26,
                    4,
                    5,
                    20,
                    71,
                    1303,
                    390,
                    777,
                    1575,
                    4698,
                    69,
                    25,
                    57,
                    102,
                    269,
                    7,
                    1,
                    5,
                    8,
                    20,
                    602,
                    143,
                    366,
                    880,
                    2567,
                    1128,
                    245,
                    778,
                    1769,
                    6024,
                    82,
                    15,
                    68,
                    170,
                    488,
                    21,
                    9,
                    20,
                    60,
                    158,
                    6,
                    1,
                    3,
                    5,
                    13,
                    72,
                    16,
                    60,
                    64,
                    264,
                    73,
                    37,
                    52,
                    152,
                    316,
                    869,
                    264,
                    625,
                    1370,
                    4203,
                    28,
                    9,
                    25,
                    56,
                    151,
                    39,
                    6,
                    31,
                    72,
                    149,
                    3,
                    1,
                    11,
                    93,
                    25,
                    76,
                    217,
                    748,
                    35,
                    10,
                    32,
                    85,
                    168,
                    4,
                    5,
                    6,
                    25,
                    71,
                    31,
                    45,
                    133,
                    432,
                    360,
                    90,
                    252,
                    398,
                    673,
                    8,
                    2,
                    5,
                    5,
                    26,
                    440,
                    111,
                    240,
                    544,
                    2240,
                    196,
                    59,
                    148,
                    365,
                    1252,
                    1,
                    1,
                    22,
                    3,
                    29,
                    33,
                    112,
                    76,
                    23,
                    41,
                    135,
                    424,
                    7,
                    1,
                    4,
                    14,
                    52,
                    1061,
                    238,
                    664,
                    1695,
                    5284,
                    252,
                    93,
                    162,
                    505,
                    1595,
                    5,
                    6,
                    8,
                    21,
                    45,
                    600,
                    186,
                    476,
                    1022,
                    2408,
                    463,
                    109,
                    325,
                    727,
                    2622,
                    780,
                    225,
                    551,
                    1155,
                    3450,
                    14546,
                    4020,
                    9718,
                    21951,
                    65374,
                    115609
                  ]
                }
              ],
              "layout": {
                "legend": {
                  "tracegroupgap": 0
                },
                "margin": {
                  "b": 25,
                  "l": 25,
                  "r": 25,
                  "t": 50
                },
                "template": {
                  "data": {
                    "bar": [
                      {
                        "error_x": {
                          "color": "#2a3f5f"
                        },
                        "error_y": {
                          "color": "#2a3f5f"
                        },
                        "marker": {
                          "line": {
                            "color": "#E5ECF6",
                            "width": 0.5
                          },
                          "pattern": {
                            "fillmode": "overlay",
                            "size": 10,
                            "solidity": 0.2
                          }
                        },
                        "type": "bar"
                      }
                    ],
                    "barpolar": [
                      {
                        "marker": {
                          "line": {
                            "color": "#E5ECF6",
                            "width": 0.5
                          },
                          "pattern": {
                            "fillmode": "overlay",
                            "size": 10,
                            "solidity": 0.2
                          }
                        },
                        "type": "barpolar"
                      }
                    ],
                    "carpet": [
                      {
                        "aaxis": {
                          "endlinecolor": "#2a3f5f",
                          "gridcolor": "white",
                          "linecolor": "white",
                          "minorgridcolor": "white",
                          "startlinecolor": "#2a3f5f"
                        },
                        "baxis": {
                          "endlinecolor": "#2a3f5f",
                          "gridcolor": "white",
                          "linecolor": "white",
                          "minorgridcolor": "white",
                          "startlinecolor": "#2a3f5f"
                        },
                        "type": "carpet"
                      }
                    ],
                    "choropleth": [
                      {
                        "colorbar": {
                          "outlinewidth": 0,
                          "ticks": ""
                        },
                        "type": "choropleth"
                      }
                    ],
                    "contour": [
                      {
                        "colorbar": {
                          "outlinewidth": 0,
                          "ticks": ""
                        },
                        "colorscale": [
                          [
                            0,
                            "#0d0887"
                          ],
                          [
                            0.1111111111111111,
                            "#46039f"
                          ],
                          [
                            0.2222222222222222,
                            "#7201a8"
                          ],
                          [
                            0.3333333333333333,
                            "#9c179e"
                          ],
                          [
                            0.4444444444444444,
                            "#bd3786"
                          ],
                          [
                            0.5555555555555556,
                            "#d8576b"
                          ],
                          [
                            0.6666666666666666,
                            "#ed7953"
                          ],
                          [
                            0.7777777777777778,
                            "#fb9f3a"
                          ],
                          [
                            0.8888888888888888,
                            "#fdca26"
                          ],
                          [
                            1,
                            "#f0f921"
                          ]
                        ],
                        "type": "contour"
                      }
                    ],
                    "contourcarpet": [
                      {
                        "colorbar": {
                          "outlinewidth": 0,
                          "ticks": ""
                        },
                        "type": "contourcarpet"
                      }
                    ],
                    "heatmap": [
                      {
                        "colorbar": {
                          "outlinewidth": 0,
                          "ticks": ""
                        },
                        "colorscale": [
                          [
                            0,
                            "#0d0887"
                          ],
                          [
                            0.1111111111111111,
                            "#46039f"
                          ],
                          [
                            0.2222222222222222,
                            "#7201a8"
                          ],
                          [
                            0.3333333333333333,
                            "#9c179e"
                          ],
                          [
                            0.4444444444444444,
                            "#bd3786"
                          ],
                          [
                            0.5555555555555556,
                            "#d8576b"
                          ],
                          [
                            0.6666666666666666,
                            "#ed7953"
                          ],
                          [
                            0.7777777777777778,
                            "#fb9f3a"
                          ],
                          [
                            0.8888888888888888,
                            "#fdca26"
                          ],
                          [
                            1,
                            "#f0f921"
                          ]
                        ],
                        "type": "heatmap"
                      }
                    ],
                    "heatmapgl": [
                      {
                        "colorbar": {
                          "outlinewidth": 0,
                          "ticks": ""
                        },
                        "colorscale": [
                          [
                            0,
                            "#0d0887"
                          ],
                          [
                            0.1111111111111111,
                            "#46039f"
                          ],
                          [
                            0.2222222222222222,
                            "#7201a8"
                          ],
                          [
                            0.3333333333333333,
                            "#9c179e"
                          ],
                          [
                            0.4444444444444444,
                            "#bd3786"
                          ],
                          [
                            0.5555555555555556,
                            "#d8576b"
                          ],
                          [
                            0.6666666666666666,
                            "#ed7953"
                          ],
                          [
                            0.7777777777777778,
                            "#fb9f3a"
                          ],
                          [
                            0.8888888888888888,
                            "#fdca26"
                          ],
                          [
                            1,
                            "#f0f921"
                          ]
                        ],
                        "type": "heatmapgl"
                      }
                    ],
                    "histogram": [
                      {
                        "marker": {
                          "pattern": {
                            "fillmode": "overlay",
                            "size": 10,
                            "solidity": 0.2
                          }
                        },
                        "type": "histogram"
                      }
                    ],
                    "histogram2d": [
                      {
                        "colorbar": {
                          "outlinewidth": 0,
                          "ticks": ""
                        },
                        "colorscale": [
                          [
                            0,
                            "#0d0887"
                          ],
                          [
                            0.1111111111111111,
                            "#46039f"
                          ],
                          [
                            0.2222222222222222,
                            "#7201a8"
                          ],
                          [
                            0.3333333333333333,
                            "#9c179e"
                          ],
                          [
                            0.4444444444444444,
                            "#bd3786"
                          ],
                          [
                            0.5555555555555556,
                            "#d8576b"
                          ],
                          [
                            0.6666666666666666,
                            "#ed7953"
                          ],
                          [
                            0.7777777777777778,
                            "#fb9f3a"
                          ],
                          [
                            0.8888888888888888,
                            "#fdca26"
                          ],
                          [
                            1,
                            "#f0f921"
                          ]
                        ],
                        "type": "histogram2d"
                      }
                    ],
                    "histogram2dcontour": [
                      {
                        "colorbar": {
                          "outlinewidth": 0,
                          "ticks": ""
                        },
                        "colorscale": [
                          [
                            0,
                            "#0d0887"
                          ],
                          [
                            0.1111111111111111,
                            "#46039f"
                          ],
                          [
                            0.2222222222222222,
                            "#7201a8"
                          ],
                          [
                            0.3333333333333333,
                            "#9c179e"
                          ],
                          [
                            0.4444444444444444,
                            "#bd3786"
                          ],
                          [
                            0.5555555555555556,
                            "#d8576b"
                          ],
                          [
                            0.6666666666666666,
                            "#ed7953"
                          ],
                          [
                            0.7777777777777778,
                            "#fb9f3a"
                          ],
                          [
                            0.8888888888888888,
                            "#fdca26"
                          ],
                          [
                            1,
                            "#f0f921"
                          ]
                        ],
                        "type": "histogram2dcontour"
                      }
                    ],
                    "mesh3d": [
                      {
                        "colorbar": {
                          "outlinewidth": 0,
                          "ticks": ""
                        },
                        "type": "mesh3d"
                      }
                    ],
                    "parcoords": [
                      {
                        "line": {
                          "colorbar": {
                            "outlinewidth": 0,
                            "ticks": ""
                          }
                        },
                        "type": "parcoords"
                      }
                    ],
                    "pie": [
                      {
                        "automargin": true,
                        "type": "pie"
                      }
                    ],
                    "scatter": [
                      {
                        "fillpattern": {
                          "fillmode": "overlay",
                          "size": 10,
                          "solidity": 0.2
                        },
                        "type": "scatter"
                      }
                    ],
                    "scatter3d": [
                      {
                        "line": {
                          "colorbar": {
                            "outlinewidth": 0,
                            "ticks": ""
                          }
                        },
                        "marker": {
                          "colorbar": {
                            "outlinewidth": 0,
                            "ticks": ""
                          }
                        },
                        "type": "scatter3d"
                      }
                    ],
                    "scattercarpet": [
                      {
                        "marker": {
                          "colorbar": {
                            "outlinewidth": 0,
                            "ticks": ""
                          }
                        },
                        "type": "scattercarpet"
                      }
                    ],
                    "scattergeo": [
                      {
                        "marker": {
                          "colorbar": {
                            "outlinewidth": 0,
                            "ticks": ""
                          }
                        },
                        "type": "scattergeo"
                      }
                    ],
                    "scattergl": [
                      {
                        "marker": {
                          "colorbar": {
                            "outlinewidth": 0,
                            "ticks": ""
                          }
                        },
                        "type": "scattergl"
                      }
                    ],
                    "scattermapbox": [
                      {
                        "marker": {
                          "colorbar": {
                            "outlinewidth": 0,
                            "ticks": ""
                          }
                        },
                        "type": "scattermapbox"
                      }
                    ],
                    "scatterpolar": [
                      {
                        "marker": {
                          "colorbar": {
                            "outlinewidth": 0,
                            "ticks": ""
                          }
                        },
                        "type": "scatterpolar"
                      }
                    ],
                    "scatterpolargl": [
                      {
                        "marker": {
                          "colorbar": {
                            "outlinewidth": 0,
                            "ticks": ""
                          }
                        },
                        "type": "scatterpolargl"
                      }
                    ],
                    "scatterternary": [
                      {
                        "marker": {
                          "colorbar": {
                            "outlinewidth": 0,
                            "ticks": ""
                          }
                        },
                        "type": "scatterternary"
                      }
                    ],
                    "surface": [
                      {
                        "colorbar": {
                          "outlinewidth": 0,
                          "ticks": ""
                        },
                        "colorscale": [
                          [
                            0,
                            "#0d0887"
                          ],
                          [
                            0.1111111111111111,
                            "#46039f"
                          ],
                          [
                            0.2222222222222222,
                            "#7201a8"
                          ],
                          [
                            0.3333333333333333,
                            "#9c179e"
                          ],
                          [
                            0.4444444444444444,
                            "#bd3786"
                          ],
                          [
                            0.5555555555555556,
                            "#d8576b"
                          ],
                          [
                            0.6666666666666666,
                            "#ed7953"
                          ],
                          [
                            0.7777777777777778,
                            "#fb9f3a"
                          ],
                          [
                            0.8888888888888888,
                            "#fdca26"
                          ],
                          [
                            1,
                            "#f0f921"
                          ]
                        ],
                        "type": "surface"
                      }
                    ],
                    "table": [
                      {
                        "cells": {
                          "fill": {
                            "color": "#EBF0F8"
                          },
                          "line": {
                            "color": "white"
                          }
                        },
                        "header": {
                          "fill": {
                            "color": "#C8D4E3"
                          },
                          "line": {
                            "color": "white"
                          }
                        },
                        "type": "table"
                      }
                    ]
                  },
                  "layout": {
                    "annotationdefaults": {
                      "arrowcolor": "#2a3f5f",
                      "arrowhead": 0,
                      "arrowwidth": 1
                    },
                    "autotypenumbers": "strict",
                    "coloraxis": {
                      "colorbar": {
                        "outlinewidth": 0,
                        "ticks": ""
                      }
                    },
                    "colorscale": {
                      "diverging": [
                        [
                          0,
                          "#8e0152"
                        ],
                        [
                          0.1,
                          "#c51b7d"
                        ],
                        [
                          0.2,
                          "#de77ae"
                        ],
                        [
                          0.3,
                          "#f1b6da"
                        ],
                        [
                          0.4,
                          "#fde0ef"
                        ],
                        [
                          0.5,
                          "#f7f7f7"
                        ],
                        [
                          0.6,
                          "#e6f5d0"
                        ],
                        [
                          0.7,
                          "#b8e186"
                        ],
                        [
                          0.8,
                          "#7fbc41"
                        ],
                        [
                          0.9,
                          "#4d9221"
                        ],
                        [
                          1,
                          "#276419"
                        ]
                      ],
                      "sequential": [
                        [
                          0,
                          "#0d0887"
                        ],
                        [
                          0.1111111111111111,
                          "#46039f"
                        ],
                        [
                          0.2222222222222222,
                          "#7201a8"
                        ],
                        [
                          0.3333333333333333,
                          "#9c179e"
                        ],
                        [
                          0.4444444444444444,
                          "#bd3786"
                        ],
                        [
                          0.5555555555555556,
                          "#d8576b"
                        ],
                        [
                          0.6666666666666666,
                          "#ed7953"
                        ],
                        [
                          0.7777777777777778,
                          "#fb9f3a"
                        ],
                        [
                          0.8888888888888888,
                          "#fdca26"
                        ],
                        [
                          1,
                          "#f0f921"
                        ]
                      ],
                      "sequentialminus": [
                        [
                          0,
                          "#0d0887"
                        ],
                        [
                          0.1111111111111111,
                          "#46039f"
                        ],
                        [
                          0.2222222222222222,
                          "#7201a8"
                        ],
                        [
                          0.3333333333333333,
                          "#9c179e"
                        ],
                        [
                          0.4444444444444444,
                          "#bd3786"
                        ],
                        [
                          0.5555555555555556,
                          "#d8576b"
                        ],
                        [
                          0.6666666666666666,
                          "#ed7953"
                        ],
                        [
                          0.7777777777777778,
                          "#fb9f3a"
                        ],
                        [
                          0.8888888888888888,
                          "#fdca26"
                        ],
                        [
                          1,
                          "#f0f921"
                        ]
                      ]
                    },
                    "colorway": [
                      "#636efa",
                      "#EF553B",
                      "#00cc96",
                      "#ab63fa",
                      "#FFA15A",
                      "#19d3f3",
                      "#FF6692",
                      "#B6E880",
                      "#FF97FF",
                      "#FECB52"
                    ],
                    "font": {
                      "color": "#2a3f5f"
                    },
                    "geo": {
                      "bgcolor": "white",
                      "lakecolor": "white",
                      "landcolor": "#E5ECF6",
                      "showlakes": true,
                      "showland": true,
                      "subunitcolor": "white"
                    },
                    "hoverlabel": {
                      "align": "left"
                    },
                    "hovermode": "closest",
                    "mapbox": {
                      "style": "light"
                    },
                    "paper_bgcolor": "white",
                    "plot_bgcolor": "#E5ECF6",
                    "polar": {
                      "angularaxis": {
                        "gridcolor": "white",
                        "linecolor": "white",
                        "ticks": ""
                      },
                      "bgcolor": "#E5ECF6",
                      "radialaxis": {
                        "gridcolor": "white",
                        "linecolor": "white",
                        "ticks": ""
                      }
                    },
                    "scene": {
                      "xaxis": {
                        "backgroundcolor": "#E5ECF6",
                        "gridcolor": "white",
                        "gridwidth": 2,
                        "linecolor": "white",
                        "showbackground": true,
                        "ticks": "",
                        "zerolinecolor": "white"
                      },
                      "yaxis": {
                        "backgroundcolor": "#E5ECF6",
                        "gridcolor": "white",
                        "gridwidth": 2,
                        "linecolor": "white",
                        "showbackground": true,
                        "ticks": "",
                        "zerolinecolor": "white"
                      },
                      "zaxis": {
                        "backgroundcolor": "#E5ECF6",
                        "gridcolor": "white",
                        "gridwidth": 2,
                        "linecolor": "white",
                        "showbackground": true,
                        "ticks": "",
                        "zerolinecolor": "white"
                      }
                    },
                    "shapedefaults": {
                      "line": {
                        "color": "#2a3f5f"
                      }
                    },
                    "ternary": {
                      "aaxis": {
                        "gridcolor": "white",
                        "linecolor": "white",
                        "ticks": ""
                      },
                      "baxis": {
                        "gridcolor": "white",
                        "linecolor": "white",
                        "ticks": ""
                      },
                      "bgcolor": "#E5ECF6",
                      "caxis": {
                        "gridcolor": "white",
                        "linecolor": "white",
                        "ticks": ""
                      }
                    },
                    "title": {
                      "x": 0.05
                    },
                    "xaxis": {
                      "automargin": true,
                      "gridcolor": "white",
                      "linecolor": "white",
                      "ticks": "",
                      "title": {
                        "standoff": 15
                      },
                      "zerolinecolor": "white",
                      "zerolinewidth": 2
                    },
                    "yaxis": {
                      "automargin": true,
                      "gridcolor": "white",
                      "linecolor": "white",
                      "ticks": "",
                      "title": {
                        "standoff": 15
                      },
                      "zerolinecolor": "white",
                      "zerolinewidth": 2
                    }
                  }
                }
              }
            }
          },
          "metadata": {},
          "output_type": "display_data"
        }
      ],
      "source": [
        "# df = px.data.tips()\n",
        "# px.Constant(\"all\")\n",
        "fig = px.treemap(product_review, path=[px.Constant(\"Product Score Review\"), 'review_score', 'product_category_name_english'], values='jumlah')\n",
        "fig.update_traces(root_color=\"grey\")\n",
        "fig.update_layout(margin = dict(t=50, l=25, r=25, b=25))\n",
        "fig.show()"
      ]
    },
    {
      "cell_type": "markdown",
      "metadata": {},
      "source": [
        "### Pertanyaan 4: bagaimana presentase status order"
      ]
    },
    {
      "cell_type": "code",
      "execution_count": 71,
      "metadata": {},
      "outputs": [
        {
          "data": {
            "text/html": [
              "<div>\n",
              "<style scoped>\n",
              "    .dataframe tbody tr th:only-of-type {\n",
              "        vertical-align: middle;\n",
              "    }\n",
              "\n",
              "    .dataframe tbody tr th {\n",
              "        vertical-align: top;\n",
              "    }\n",
              "\n",
              "    .dataframe thead th {\n",
              "        text-align: right;\n",
              "    }\n",
              "</style>\n",
              "<table border=\"1\" class=\"dataframe\">\n",
              "  <thead>\n",
              "    <tr style=\"text-align: right;\">\n",
              "      <th></th>\n",
              "      <th>order_status</th>\n",
              "      <th>jml</th>\n",
              "    </tr>\n",
              "  </thead>\n",
              "  <tbody>\n",
              "    <tr>\n",
              "      <th>0</th>\n",
              "      <td>delivered</td>\n",
              "      <td>113210</td>\n",
              "    </tr>\n",
              "    <tr>\n",
              "      <th>1</th>\n",
              "      <td>shipped</td>\n",
              "      <td>1138</td>\n",
              "    </tr>\n",
              "    <tr>\n",
              "      <th>2</th>\n",
              "      <td>canceled</td>\n",
              "      <td>536</td>\n",
              "    </tr>\n",
              "    <tr>\n",
              "      <th>3</th>\n",
              "      <td>invoiced</td>\n",
              "      <td>358</td>\n",
              "    </tr>\n",
              "    <tr>\n",
              "      <th>4</th>\n",
              "      <td>processing</td>\n",
              "      <td>357</td>\n",
              "    </tr>\n",
              "  </tbody>\n",
              "</table>\n",
              "</div>"
            ],
            "text/plain": [
              "  order_status     jml\n",
              "0    delivered  113210\n",
              "1      shipped    1138\n",
              "2     canceled     536\n",
              "3     invoiced     358\n",
              "4   processing     357"
            ]
          },
          "execution_count": 71,
          "metadata": {},
          "output_type": "execute_result"
        }
      ],
      "source": [
        "order = all_dataset[['order_id', 'customer_id', 'order_status']]\n",
        "status_order = order.groupby(by='order_status').agg({'order_id':'count'}).sort_values(by='order_id', ascending=False).rename(columns={'order_id':'jml'}).reset_index()\n",
        "status_order.head()"
      ]
    },
    {
      "cell_type": "code",
      "execution_count": 72,
      "metadata": {},
      "outputs": [
        {
          "data": {
            "application/vnd.plotly.v1+json": {
              "config": {
                "plotlyServerURL": "https://plot.ly"
              },
              "data": [
                {
                  "domain": {
                    "x": [
                      0,
                      1
                    ],
                    "y": [
                      0,
                      1
                    ]
                  },
                  "hovertemplate": "order_status=%{label}<br>jml=%{value}<extra></extra>",
                  "labels": [
                    "delivered",
                    "shipped",
                    "canceled",
                    "invoiced",
                    "processing",
                    "unavailable",
                    "approved"
                  ],
                  "legendgroup": "",
                  "name": "",
                  "showlegend": true,
                  "type": "pie",
                  "values": [
                    113210,
                    1138,
                    536,
                    358,
                    357,
                    7,
                    3
                  ]
                }
              ],
              "layout": {
                "legend": {
                  "tracegroupgap": 0
                },
                "margin": {
                  "t": 60
                },
                "piecolorway": [
                  "rgb(103,0,31)",
                  "rgb(178,24,43)",
                  "rgb(214,96,77)",
                  "rgb(244,165,130)",
                  "rgb(253,219,199)",
                  "rgb(247,247,247)",
                  "rgb(209,229,240)",
                  "rgb(146,197,222)",
                  "rgb(67,147,195)",
                  "rgb(33,102,172)",
                  "rgb(5,48,97)"
                ],
                "template": {
                  "data": {
                    "bar": [
                      {
                        "error_x": {
                          "color": "#2a3f5f"
                        },
                        "error_y": {
                          "color": "#2a3f5f"
                        },
                        "marker": {
                          "line": {
                            "color": "#E5ECF6",
                            "width": 0.5
                          },
                          "pattern": {
                            "fillmode": "overlay",
                            "size": 10,
                            "solidity": 0.2
                          }
                        },
                        "type": "bar"
                      }
                    ],
                    "barpolar": [
                      {
                        "marker": {
                          "line": {
                            "color": "#E5ECF6",
                            "width": 0.5
                          },
                          "pattern": {
                            "fillmode": "overlay",
                            "size": 10,
                            "solidity": 0.2
                          }
                        },
                        "type": "barpolar"
                      }
                    ],
                    "carpet": [
                      {
                        "aaxis": {
                          "endlinecolor": "#2a3f5f",
                          "gridcolor": "white",
                          "linecolor": "white",
                          "minorgridcolor": "white",
                          "startlinecolor": "#2a3f5f"
                        },
                        "baxis": {
                          "endlinecolor": "#2a3f5f",
                          "gridcolor": "white",
                          "linecolor": "white",
                          "minorgridcolor": "white",
                          "startlinecolor": "#2a3f5f"
                        },
                        "type": "carpet"
                      }
                    ],
                    "choropleth": [
                      {
                        "colorbar": {
                          "outlinewidth": 0,
                          "ticks": ""
                        },
                        "type": "choropleth"
                      }
                    ],
                    "contour": [
                      {
                        "colorbar": {
                          "outlinewidth": 0,
                          "ticks": ""
                        },
                        "colorscale": [
                          [
                            0,
                            "#0d0887"
                          ],
                          [
                            0.1111111111111111,
                            "#46039f"
                          ],
                          [
                            0.2222222222222222,
                            "#7201a8"
                          ],
                          [
                            0.3333333333333333,
                            "#9c179e"
                          ],
                          [
                            0.4444444444444444,
                            "#bd3786"
                          ],
                          [
                            0.5555555555555556,
                            "#d8576b"
                          ],
                          [
                            0.6666666666666666,
                            "#ed7953"
                          ],
                          [
                            0.7777777777777778,
                            "#fb9f3a"
                          ],
                          [
                            0.8888888888888888,
                            "#fdca26"
                          ],
                          [
                            1,
                            "#f0f921"
                          ]
                        ],
                        "type": "contour"
                      }
                    ],
                    "contourcarpet": [
                      {
                        "colorbar": {
                          "outlinewidth": 0,
                          "ticks": ""
                        },
                        "type": "contourcarpet"
                      }
                    ],
                    "heatmap": [
                      {
                        "colorbar": {
                          "outlinewidth": 0,
                          "ticks": ""
                        },
                        "colorscale": [
                          [
                            0,
                            "#0d0887"
                          ],
                          [
                            0.1111111111111111,
                            "#46039f"
                          ],
                          [
                            0.2222222222222222,
                            "#7201a8"
                          ],
                          [
                            0.3333333333333333,
                            "#9c179e"
                          ],
                          [
                            0.4444444444444444,
                            "#bd3786"
                          ],
                          [
                            0.5555555555555556,
                            "#d8576b"
                          ],
                          [
                            0.6666666666666666,
                            "#ed7953"
                          ],
                          [
                            0.7777777777777778,
                            "#fb9f3a"
                          ],
                          [
                            0.8888888888888888,
                            "#fdca26"
                          ],
                          [
                            1,
                            "#f0f921"
                          ]
                        ],
                        "type": "heatmap"
                      }
                    ],
                    "heatmapgl": [
                      {
                        "colorbar": {
                          "outlinewidth": 0,
                          "ticks": ""
                        },
                        "colorscale": [
                          [
                            0,
                            "#0d0887"
                          ],
                          [
                            0.1111111111111111,
                            "#46039f"
                          ],
                          [
                            0.2222222222222222,
                            "#7201a8"
                          ],
                          [
                            0.3333333333333333,
                            "#9c179e"
                          ],
                          [
                            0.4444444444444444,
                            "#bd3786"
                          ],
                          [
                            0.5555555555555556,
                            "#d8576b"
                          ],
                          [
                            0.6666666666666666,
                            "#ed7953"
                          ],
                          [
                            0.7777777777777778,
                            "#fb9f3a"
                          ],
                          [
                            0.8888888888888888,
                            "#fdca26"
                          ],
                          [
                            1,
                            "#f0f921"
                          ]
                        ],
                        "type": "heatmapgl"
                      }
                    ],
                    "histogram": [
                      {
                        "marker": {
                          "pattern": {
                            "fillmode": "overlay",
                            "size": 10,
                            "solidity": 0.2
                          }
                        },
                        "type": "histogram"
                      }
                    ],
                    "histogram2d": [
                      {
                        "colorbar": {
                          "outlinewidth": 0,
                          "ticks": ""
                        },
                        "colorscale": [
                          [
                            0,
                            "#0d0887"
                          ],
                          [
                            0.1111111111111111,
                            "#46039f"
                          ],
                          [
                            0.2222222222222222,
                            "#7201a8"
                          ],
                          [
                            0.3333333333333333,
                            "#9c179e"
                          ],
                          [
                            0.4444444444444444,
                            "#bd3786"
                          ],
                          [
                            0.5555555555555556,
                            "#d8576b"
                          ],
                          [
                            0.6666666666666666,
                            "#ed7953"
                          ],
                          [
                            0.7777777777777778,
                            "#fb9f3a"
                          ],
                          [
                            0.8888888888888888,
                            "#fdca26"
                          ],
                          [
                            1,
                            "#f0f921"
                          ]
                        ],
                        "type": "histogram2d"
                      }
                    ],
                    "histogram2dcontour": [
                      {
                        "colorbar": {
                          "outlinewidth": 0,
                          "ticks": ""
                        },
                        "colorscale": [
                          [
                            0,
                            "#0d0887"
                          ],
                          [
                            0.1111111111111111,
                            "#46039f"
                          ],
                          [
                            0.2222222222222222,
                            "#7201a8"
                          ],
                          [
                            0.3333333333333333,
                            "#9c179e"
                          ],
                          [
                            0.4444444444444444,
                            "#bd3786"
                          ],
                          [
                            0.5555555555555556,
                            "#d8576b"
                          ],
                          [
                            0.6666666666666666,
                            "#ed7953"
                          ],
                          [
                            0.7777777777777778,
                            "#fb9f3a"
                          ],
                          [
                            0.8888888888888888,
                            "#fdca26"
                          ],
                          [
                            1,
                            "#f0f921"
                          ]
                        ],
                        "type": "histogram2dcontour"
                      }
                    ],
                    "mesh3d": [
                      {
                        "colorbar": {
                          "outlinewidth": 0,
                          "ticks": ""
                        },
                        "type": "mesh3d"
                      }
                    ],
                    "parcoords": [
                      {
                        "line": {
                          "colorbar": {
                            "outlinewidth": 0,
                            "ticks": ""
                          }
                        },
                        "type": "parcoords"
                      }
                    ],
                    "pie": [
                      {
                        "automargin": true,
                        "type": "pie"
                      }
                    ],
                    "scatter": [
                      {
                        "fillpattern": {
                          "fillmode": "overlay",
                          "size": 10,
                          "solidity": 0.2
                        },
                        "type": "scatter"
                      }
                    ],
                    "scatter3d": [
                      {
                        "line": {
                          "colorbar": {
                            "outlinewidth": 0,
                            "ticks": ""
                          }
                        },
                        "marker": {
                          "colorbar": {
                            "outlinewidth": 0,
                            "ticks": ""
                          }
                        },
                        "type": "scatter3d"
                      }
                    ],
                    "scattercarpet": [
                      {
                        "marker": {
                          "colorbar": {
                            "outlinewidth": 0,
                            "ticks": ""
                          }
                        },
                        "type": "scattercarpet"
                      }
                    ],
                    "scattergeo": [
                      {
                        "marker": {
                          "colorbar": {
                            "outlinewidth": 0,
                            "ticks": ""
                          }
                        },
                        "type": "scattergeo"
                      }
                    ],
                    "scattergl": [
                      {
                        "marker": {
                          "colorbar": {
                            "outlinewidth": 0,
                            "ticks": ""
                          }
                        },
                        "type": "scattergl"
                      }
                    ],
                    "scattermapbox": [
                      {
                        "marker": {
                          "colorbar": {
                            "outlinewidth": 0,
                            "ticks": ""
                          }
                        },
                        "type": "scattermapbox"
                      }
                    ],
                    "scatterpolar": [
                      {
                        "marker": {
                          "colorbar": {
                            "outlinewidth": 0,
                            "ticks": ""
                          }
                        },
                        "type": "scatterpolar"
                      }
                    ],
                    "scatterpolargl": [
                      {
                        "marker": {
                          "colorbar": {
                            "outlinewidth": 0,
                            "ticks": ""
                          }
                        },
                        "type": "scatterpolargl"
                      }
                    ],
                    "scatterternary": [
                      {
                        "marker": {
                          "colorbar": {
                            "outlinewidth": 0,
                            "ticks": ""
                          }
                        },
                        "type": "scatterternary"
                      }
                    ],
                    "surface": [
                      {
                        "colorbar": {
                          "outlinewidth": 0,
                          "ticks": ""
                        },
                        "colorscale": [
                          [
                            0,
                            "#0d0887"
                          ],
                          [
                            0.1111111111111111,
                            "#46039f"
                          ],
                          [
                            0.2222222222222222,
                            "#7201a8"
                          ],
                          [
                            0.3333333333333333,
                            "#9c179e"
                          ],
                          [
                            0.4444444444444444,
                            "#bd3786"
                          ],
                          [
                            0.5555555555555556,
                            "#d8576b"
                          ],
                          [
                            0.6666666666666666,
                            "#ed7953"
                          ],
                          [
                            0.7777777777777778,
                            "#fb9f3a"
                          ],
                          [
                            0.8888888888888888,
                            "#fdca26"
                          ],
                          [
                            1,
                            "#f0f921"
                          ]
                        ],
                        "type": "surface"
                      }
                    ],
                    "table": [
                      {
                        "cells": {
                          "fill": {
                            "color": "#EBF0F8"
                          },
                          "line": {
                            "color": "white"
                          }
                        },
                        "header": {
                          "fill": {
                            "color": "#C8D4E3"
                          },
                          "line": {
                            "color": "white"
                          }
                        },
                        "type": "table"
                      }
                    ]
                  },
                  "layout": {
                    "annotationdefaults": {
                      "arrowcolor": "#2a3f5f",
                      "arrowhead": 0,
                      "arrowwidth": 1
                    },
                    "autotypenumbers": "strict",
                    "coloraxis": {
                      "colorbar": {
                        "outlinewidth": 0,
                        "ticks": ""
                      }
                    },
                    "colorscale": {
                      "diverging": [
                        [
                          0,
                          "#8e0152"
                        ],
                        [
                          0.1,
                          "#c51b7d"
                        ],
                        [
                          0.2,
                          "#de77ae"
                        ],
                        [
                          0.3,
                          "#f1b6da"
                        ],
                        [
                          0.4,
                          "#fde0ef"
                        ],
                        [
                          0.5,
                          "#f7f7f7"
                        ],
                        [
                          0.6,
                          "#e6f5d0"
                        ],
                        [
                          0.7,
                          "#b8e186"
                        ],
                        [
                          0.8,
                          "#7fbc41"
                        ],
                        [
                          0.9,
                          "#4d9221"
                        ],
                        [
                          1,
                          "#276419"
                        ]
                      ],
                      "sequential": [
                        [
                          0,
                          "#0d0887"
                        ],
                        [
                          0.1111111111111111,
                          "#46039f"
                        ],
                        [
                          0.2222222222222222,
                          "#7201a8"
                        ],
                        [
                          0.3333333333333333,
                          "#9c179e"
                        ],
                        [
                          0.4444444444444444,
                          "#bd3786"
                        ],
                        [
                          0.5555555555555556,
                          "#d8576b"
                        ],
                        [
                          0.6666666666666666,
                          "#ed7953"
                        ],
                        [
                          0.7777777777777778,
                          "#fb9f3a"
                        ],
                        [
                          0.8888888888888888,
                          "#fdca26"
                        ],
                        [
                          1,
                          "#f0f921"
                        ]
                      ],
                      "sequentialminus": [
                        [
                          0,
                          "#0d0887"
                        ],
                        [
                          0.1111111111111111,
                          "#46039f"
                        ],
                        [
                          0.2222222222222222,
                          "#7201a8"
                        ],
                        [
                          0.3333333333333333,
                          "#9c179e"
                        ],
                        [
                          0.4444444444444444,
                          "#bd3786"
                        ],
                        [
                          0.5555555555555556,
                          "#d8576b"
                        ],
                        [
                          0.6666666666666666,
                          "#ed7953"
                        ],
                        [
                          0.7777777777777778,
                          "#fb9f3a"
                        ],
                        [
                          0.8888888888888888,
                          "#fdca26"
                        ],
                        [
                          1,
                          "#f0f921"
                        ]
                      ]
                    },
                    "colorway": [
                      "#636efa",
                      "#EF553B",
                      "#00cc96",
                      "#ab63fa",
                      "#FFA15A",
                      "#19d3f3",
                      "#FF6692",
                      "#B6E880",
                      "#FF97FF",
                      "#FECB52"
                    ],
                    "font": {
                      "color": "#2a3f5f"
                    },
                    "geo": {
                      "bgcolor": "white",
                      "lakecolor": "white",
                      "landcolor": "#E5ECF6",
                      "showlakes": true,
                      "showland": true,
                      "subunitcolor": "white"
                    },
                    "hoverlabel": {
                      "align": "left"
                    },
                    "hovermode": "closest",
                    "mapbox": {
                      "style": "light"
                    },
                    "paper_bgcolor": "white",
                    "plot_bgcolor": "#E5ECF6",
                    "polar": {
                      "angularaxis": {
                        "gridcolor": "white",
                        "linecolor": "white",
                        "ticks": ""
                      },
                      "bgcolor": "#E5ECF6",
                      "radialaxis": {
                        "gridcolor": "white",
                        "linecolor": "white",
                        "ticks": ""
                      }
                    },
                    "scene": {
                      "xaxis": {
                        "backgroundcolor": "#E5ECF6",
                        "gridcolor": "white",
                        "gridwidth": 2,
                        "linecolor": "white",
                        "showbackground": true,
                        "ticks": "",
                        "zerolinecolor": "white"
                      },
                      "yaxis": {
                        "backgroundcolor": "#E5ECF6",
                        "gridcolor": "white",
                        "gridwidth": 2,
                        "linecolor": "white",
                        "showbackground": true,
                        "ticks": "",
                        "zerolinecolor": "white"
                      },
                      "zaxis": {
                        "backgroundcolor": "#E5ECF6",
                        "gridcolor": "white",
                        "gridwidth": 2,
                        "linecolor": "white",
                        "showbackground": true,
                        "ticks": "",
                        "zerolinecolor": "white"
                      }
                    },
                    "shapedefaults": {
                      "line": {
                        "color": "#2a3f5f"
                      }
                    },
                    "ternary": {
                      "aaxis": {
                        "gridcolor": "white",
                        "linecolor": "white",
                        "ticks": ""
                      },
                      "baxis": {
                        "gridcolor": "white",
                        "linecolor": "white",
                        "ticks": ""
                      },
                      "bgcolor": "#E5ECF6",
                      "caxis": {
                        "gridcolor": "white",
                        "linecolor": "white",
                        "ticks": ""
                      }
                    },
                    "title": {
                      "x": 0.05
                    },
                    "xaxis": {
                      "automargin": true,
                      "gridcolor": "white",
                      "linecolor": "white",
                      "ticks": "",
                      "title": {
                        "standoff": 15
                      },
                      "zerolinecolor": "white",
                      "zerolinewidth": 2
                    },
                    "yaxis": {
                      "automargin": true,
                      "gridcolor": "white",
                      "linecolor": "white",
                      "ticks": "",
                      "title": {
                        "standoff": 15
                      },
                      "zerolinecolor": "white",
                      "zerolinewidth": 2
                    }
                  }
                }
              }
            }
          },
          "metadata": {},
          "output_type": "display_data"
        }
      ],
      "source": [
        "fig = px.pie(status_order, values='jml', names='order_status', color_discrete_sequence=px.colors.sequential.RdBu)\n",
        "fig.show()"
      ]
    },
    {
      "cell_type": "markdown",
      "metadata": {},
      "source": [
        "### Pertanyaan 5: kategori produk yang paling banyak terjual"
      ]
    },
    {
      "cell_type": "code",
      "execution_count": 73,
      "metadata": {},
      "outputs": [
        {
          "name": "stdout",
          "output_type": "stream",
          "text": [
            "(115609, 14)\n"
          ]
        },
        {
          "data": {
            "text/html": [
              "<div>\n",
              "<style scoped>\n",
              "    .dataframe tbody tr th:only-of-type {\n",
              "        vertical-align: middle;\n",
              "    }\n",
              "\n",
              "    .dataframe tbody tr th {\n",
              "        vertical-align: top;\n",
              "    }\n",
              "\n",
              "    .dataframe thead th {\n",
              "        text-align: right;\n",
              "    }\n",
              "</style>\n",
              "<table border=\"1\" class=\"dataframe\">\n",
              "  <thead>\n",
              "    <tr style=\"text-align: right;\">\n",
              "      <th></th>\n",
              "      <th>product_category_name_english</th>\n",
              "      <th>count</th>\n",
              "    </tr>\n",
              "  </thead>\n",
              "  <tbody>\n",
              "    <tr>\n",
              "      <th>0</th>\n",
              "      <td>bed_bath_table</td>\n",
              "      <td>11847</td>\n",
              "    </tr>\n",
              "    <tr>\n",
              "      <th>1</th>\n",
              "      <td>health_beauty</td>\n",
              "      <td>9944</td>\n",
              "    </tr>\n",
              "    <tr>\n",
              "      <th>2</th>\n",
              "      <td>sports_leisure</td>\n",
              "      <td>8942</td>\n",
              "    </tr>\n",
              "    <tr>\n",
              "      <th>3</th>\n",
              "      <td>furniture_decor</td>\n",
              "      <td>8743</td>\n",
              "    </tr>\n",
              "    <tr>\n",
              "      <th>4</th>\n",
              "      <td>computers_accessories</td>\n",
              "      <td>8105</td>\n",
              "    </tr>\n",
              "  </tbody>\n",
              "</table>\n",
              "</div>"
            ],
            "text/plain": [
              "  product_category_name_english  count\n",
              "0                bed_bath_table  11847\n",
              "1                 health_beauty   9944\n",
              "2                sports_leisure   8942\n",
              "3               furniture_decor   8743\n",
              "4         computers_accessories   8105"
            ]
          },
          "execution_count": 73,
          "metadata": {},
          "output_type": "execute_result"
        }
      ],
      "source": [
        "data = all_dataset[['order_id', 'order_status', 'order_item_id', 'product_id', 'shipping_limit_date',\n",
        "                                      'price', 'freight_value', 'total_price', 'payment_sequential','payment_type', \n",
        "                                      'order_item_id','payment_installments', 'payment_value','product_category_name_english']]\n",
        "print(data.shape)\n",
        "data[data.order_status.isin(['delivered','shipped','invoiced'])]\n",
        "\n",
        "rate_product = data.groupby(by=['product_category_name_english']).agg(\n",
        "    {'order_id':'count'}\n",
        "     ).sort_values(\n",
        "         by='order_id', \n",
        "         ascending=False\n",
        "         ).rename(columns={'order_id':'count'}).reset_index()\n",
        "\n",
        "rate_product.head(5)\n",
        "\n",
        "# sns.scatterplot(data=rate_product, x=\"order_id\", y=\"price\")"
      ]
    },
    {
      "cell_type": "code",
      "execution_count": 74,
      "metadata": {},
      "outputs": [
        {
          "name": "stdout",
          "output_type": "stream",
          "text": [
            "(71, 2)\n"
          ]
        },
        {
          "data": {
            "text/html": [
              "<div>\n",
              "<style scoped>\n",
              "    .dataframe tbody tr th:only-of-type {\n",
              "        vertical-align: middle;\n",
              "    }\n",
              "\n",
              "    .dataframe tbody tr th {\n",
              "        vertical-align: top;\n",
              "    }\n",
              "\n",
              "    .dataframe thead th {\n",
              "        text-align: right;\n",
              "    }\n",
              "</style>\n",
              "<table border=\"1\" class=\"dataframe\">\n",
              "  <thead>\n",
              "    <tr style=\"text-align: right;\">\n",
              "      <th></th>\n",
              "      <th>product_category_name_english</th>\n",
              "      <th>count</th>\n",
              "    </tr>\n",
              "  </thead>\n",
              "  <tbody>\n",
              "    <tr>\n",
              "      <th>24</th>\n",
              "      <td>small_appliances</td>\n",
              "      <td>699</td>\n",
              "    </tr>\n",
              "    <tr>\n",
              "      <th>51</th>\n",
              "      <td>furniture_bedroom</td>\n",
              "      <td>126</td>\n",
              "    </tr>\n",
              "    <tr>\n",
              "      <th>22</th>\n",
              "      <td>home_appliances</td>\n",
              "      <td>823</td>\n",
              "    </tr>\n",
              "    <tr>\n",
              "      <th>45</th>\n",
              "      <td>art</td>\n",
              "      <td>217</td>\n",
              "    </tr>\n",
              "    <tr>\n",
              "      <th>42</th>\n",
              "      <td>agro_industry_and_commerce</td>\n",
              "      <td>252</td>\n",
              "    </tr>\n",
              "    <tr>\n",
              "      <th>21</th>\n",
              "      <td>construction_tools_construction</td>\n",
              "      <td>950</td>\n",
              "    </tr>\n",
              "    <tr>\n",
              "      <th>35</th>\n",
              "      <td>air_conditioning</td>\n",
              "      <td>297</td>\n",
              "    </tr>\n",
              "    <tr>\n",
              "      <th>26</th>\n",
              "      <td>books_general_interest</td>\n",
              "      <td>561</td>\n",
              "    </tr>\n",
              "    <tr>\n",
              "      <th>6</th>\n",
              "      <td>watches_gifts</td>\n",
              "      <td>6161</td>\n",
              "    </tr>\n",
              "    <tr>\n",
              "      <th>49</th>\n",
              "      <td>fashion_male_clothing</td>\n",
              "      <td>144</td>\n",
              "    </tr>\n",
              "  </tbody>\n",
              "</table>\n",
              "</div>"
            ],
            "text/plain": [
              "      product_category_name_english  count\n",
              "24                 small_appliances    699\n",
              "51                furniture_bedroom    126\n",
              "22                  home_appliances    823\n",
              "45                              art    217\n",
              "42       agro_industry_and_commerce    252\n",
              "21  construction_tools_construction    950\n",
              "35                 air_conditioning    297\n",
              "26           books_general_interest    561\n",
              "6                     watches_gifts   6161\n",
              "49            fashion_male_clothing    144"
            ]
          },
          "execution_count": 74,
          "metadata": {},
          "output_type": "execute_result"
        }
      ],
      "source": [
        "# z_scores = stats.zscore(rate_product[['price','order_id']])\n",
        "# print(z_scores)\n",
        "print(rate_product.shape)\n",
        "rate_product.sample(10)"
      ]
    },
    {
      "cell_type": "code",
      "execution_count": 75,
      "metadata": {},
      "outputs": [
        {
          "data": {
            "application/vnd.plotly.v1+json": {
              "config": {
                "plotlyServerURL": "https://plot.ly"
              },
              "data": [
                {
                  "branchvalues": "total",
                  "domain": {
                    "x": [
                      0,
                      1
                    ],
                    "y": [
                      0,
                      1
                    ]
                  },
                  "hovertemplate": "labels=%{label}<br>count=%{value}<br>parent=%{parent}<br>id=%{id}<extra></extra>",
                  "ids": [
                    "Product Sold/agro_industry_and_commerce",
                    "Product Sold/air_conditioning",
                    "Product Sold/art",
                    "Product Sold/arts_and_craftmanship",
                    "Product Sold/audio",
                    "Product Sold/auto",
                    "Product Sold/baby",
                    "Product Sold/bed_bath_table",
                    "Product Sold/books_general_interest",
                    "Product Sold/books_imported",
                    "Product Sold/books_technical",
                    "Product Sold/cds_dvds_musicals",
                    "Product Sold/christmas_supplies",
                    "Product Sold/cine_photo",
                    "Product Sold/computers",
                    "Product Sold/computers_accessories",
                    "Product Sold/consoles_games",
                    "Product Sold/construction_tools_construction",
                    "Product Sold/construction_tools_lights",
                    "Product Sold/construction_tools_safety",
                    "Product Sold/cool_stuff",
                    "Product Sold/costruction_tools_garden",
                    "Product Sold/costruction_tools_tools",
                    "Product Sold/diapers_and_hygiene",
                    "Product Sold/drinks",
                    "Product Sold/dvds_blu_ray",
                    "Product Sold/electronics",
                    "Product Sold/fashio_female_clothing",
                    "Product Sold/fashion_bags_accessories",
                    "Product Sold/fashion_childrens_clothes",
                    "Product Sold/fashion_male_clothing",
                    "Product Sold/fashion_shoes",
                    "Product Sold/fashion_sport",
                    "Product Sold/fashion_underwear_beach",
                    "Product Sold/fixed_telephony",
                    "Product Sold/flowers",
                    "Product Sold/food",
                    "Product Sold/food_drink",
                    "Product Sold/furniture_bedroom",
                    "Product Sold/furniture_decor",
                    "Product Sold/furniture_living_room",
                    "Product Sold/furniture_mattress_and_upholstery",
                    "Product Sold/garden_tools",
                    "Product Sold/health_beauty",
                    "Product Sold/home_appliances",
                    "Product Sold/home_appliances_2",
                    "Product Sold/home_comfort_2",
                    "Product Sold/home_confort",
                    "Product Sold/home_construction",
                    "Product Sold/housewares",
                    "Product Sold/industry_commerce_and_business",
                    "Product Sold/kitchen_dining_laundry_garden_furniture",
                    "Product Sold/la_cuisine",
                    "Product Sold/luggage_accessories",
                    "Product Sold/market_place",
                    "Product Sold/music",
                    "Product Sold/musical_instruments",
                    "Product Sold/office_furniture",
                    "Product Sold/party_supplies",
                    "Product Sold/perfumery",
                    "Product Sold/pet_shop",
                    "Product Sold/security_and_services",
                    "Product Sold/signaling_and_security",
                    "Product Sold/small_appliances",
                    "Product Sold/small_appliances_home_oven_and_coffee",
                    "Product Sold/sports_leisure",
                    "Product Sold/stationery",
                    "Product Sold/tablets_printing_image",
                    "Product Sold/telephony",
                    "Product Sold/toys",
                    "Product Sold/watches_gifts",
                    "Product Sold"
                  ],
                  "labels": [
                    "agro_industry_and_commerce",
                    "air_conditioning",
                    "art",
                    "arts_and_craftmanship",
                    "audio",
                    "auto",
                    "baby",
                    "bed_bath_table",
                    "books_general_interest",
                    "books_imported",
                    "books_technical",
                    "cds_dvds_musicals",
                    "christmas_supplies",
                    "cine_photo",
                    "computers",
                    "computers_accessories",
                    "consoles_games",
                    "construction_tools_construction",
                    "construction_tools_lights",
                    "construction_tools_safety",
                    "cool_stuff",
                    "costruction_tools_garden",
                    "costruction_tools_tools",
                    "diapers_and_hygiene",
                    "drinks",
                    "dvds_blu_ray",
                    "electronics",
                    "fashio_female_clothing",
                    "fashion_bags_accessories",
                    "fashion_childrens_clothes",
                    "fashion_male_clothing",
                    "fashion_shoes",
                    "fashion_sport",
                    "fashion_underwear_beach",
                    "fixed_telephony",
                    "flowers",
                    "food",
                    "food_drink",
                    "furniture_bedroom",
                    "furniture_decor",
                    "furniture_living_room",
                    "furniture_mattress_and_upholstery",
                    "garden_tools",
                    "health_beauty",
                    "home_appliances",
                    "home_appliances_2",
                    "home_comfort_2",
                    "home_confort",
                    "home_construction",
                    "housewares",
                    "industry_commerce_and_business",
                    "kitchen_dining_laundry_garden_furniture",
                    "la_cuisine",
                    "luggage_accessories",
                    "market_place",
                    "music",
                    "musical_instruments",
                    "office_furniture",
                    "party_supplies",
                    "perfumery",
                    "pet_shop",
                    "security_and_services",
                    "signaling_and_security",
                    "small_appliances",
                    "small_appliances_home_oven_and_coffee",
                    "sports_leisure",
                    "stationery",
                    "tablets_printing_image",
                    "telephony",
                    "toys",
                    "watches_gifts",
                    "Product Sold"
                  ],
                  "name": "",
                  "parents": [
                    "Product Sold",
                    "Product Sold",
                    "Product Sold",
                    "Product Sold",
                    "Product Sold",
                    "Product Sold",
                    "Product Sold",
                    "Product Sold",
                    "Product Sold",
                    "Product Sold",
                    "Product Sold",
                    "Product Sold",
                    "Product Sold",
                    "Product Sold",
                    "Product Sold",
                    "Product Sold",
                    "Product Sold",
                    "Product Sold",
                    "Product Sold",
                    "Product Sold",
                    "Product Sold",
                    "Product Sold",
                    "Product Sold",
                    "Product Sold",
                    "Product Sold",
                    "Product Sold",
                    "Product Sold",
                    "Product Sold",
                    "Product Sold",
                    "Product Sold",
                    "Product Sold",
                    "Product Sold",
                    "Product Sold",
                    "Product Sold",
                    "Product Sold",
                    "Product Sold",
                    "Product Sold",
                    "Product Sold",
                    "Product Sold",
                    "Product Sold",
                    "Product Sold",
                    "Product Sold",
                    "Product Sold",
                    "Product Sold",
                    "Product Sold",
                    "Product Sold",
                    "Product Sold",
                    "Product Sold",
                    "Product Sold",
                    "Product Sold",
                    "Product Sold",
                    "Product Sold",
                    "Product Sold",
                    "Product Sold",
                    "Product Sold",
                    "Product Sold",
                    "Product Sold",
                    "Product Sold",
                    "Product Sold",
                    "Product Sold",
                    "Product Sold",
                    "Product Sold",
                    "Product Sold",
                    "Product Sold",
                    "Product Sold",
                    "Product Sold",
                    "Product Sold",
                    "Product Sold",
                    "Product Sold",
                    "Product Sold",
                    "Product Sold",
                    ""
                  ],
                  "root": {
                    "color": "lightgrey"
                  },
                  "type": "treemap",
                  "values": [
                    252,
                    297,
                    217,
                    24,
                    377,
                    4356,
                    3178,
                    11847,
                    561,
                    62,
                    269,
                    14,
                    148,
                    74,
                    217,
                    8105,
                    1180,
                    950,
                    305,
                    198,
                    3964,
                    247,
                    101,
                    39,
                    384,
                    70,
                    2827,
                    50,
                    2159,
                    8,
                    144,
                    273,
                    31,
                    143,
                    269,
                    31,
                    511,
                    290,
                    126,
                    8743,
                    522,
                    41,
                    4558,
                    9944,
                    823,
                    268,
                    28,
                    476,
                    630,
                    7331,
                    269,
                    297,
                    15,
                    1159,
                    330,
                    40,
                    712,
                    1773,
                    46,
                    3575,
                    2020,
                    2,
                    199,
                    699,
                    78,
                    8942,
                    2607,
                    85,
                    4692,
                    4246,
                    6161,
                    115609
                  ]
                }
              ],
              "layout": {
                "legend": {
                  "tracegroupgap": 0
                },
                "margin": {
                  "b": 25,
                  "l": 25,
                  "r": 25,
                  "t": 50
                },
                "template": {
                  "data": {
                    "bar": [
                      {
                        "error_x": {
                          "color": "#2a3f5f"
                        },
                        "error_y": {
                          "color": "#2a3f5f"
                        },
                        "marker": {
                          "line": {
                            "color": "#E5ECF6",
                            "width": 0.5
                          },
                          "pattern": {
                            "fillmode": "overlay",
                            "size": 10,
                            "solidity": 0.2
                          }
                        },
                        "type": "bar"
                      }
                    ],
                    "barpolar": [
                      {
                        "marker": {
                          "line": {
                            "color": "#E5ECF6",
                            "width": 0.5
                          },
                          "pattern": {
                            "fillmode": "overlay",
                            "size": 10,
                            "solidity": 0.2
                          }
                        },
                        "type": "barpolar"
                      }
                    ],
                    "carpet": [
                      {
                        "aaxis": {
                          "endlinecolor": "#2a3f5f",
                          "gridcolor": "white",
                          "linecolor": "white",
                          "minorgridcolor": "white",
                          "startlinecolor": "#2a3f5f"
                        },
                        "baxis": {
                          "endlinecolor": "#2a3f5f",
                          "gridcolor": "white",
                          "linecolor": "white",
                          "minorgridcolor": "white",
                          "startlinecolor": "#2a3f5f"
                        },
                        "type": "carpet"
                      }
                    ],
                    "choropleth": [
                      {
                        "colorbar": {
                          "outlinewidth": 0,
                          "ticks": ""
                        },
                        "type": "choropleth"
                      }
                    ],
                    "contour": [
                      {
                        "colorbar": {
                          "outlinewidth": 0,
                          "ticks": ""
                        },
                        "colorscale": [
                          [
                            0,
                            "#0d0887"
                          ],
                          [
                            0.1111111111111111,
                            "#46039f"
                          ],
                          [
                            0.2222222222222222,
                            "#7201a8"
                          ],
                          [
                            0.3333333333333333,
                            "#9c179e"
                          ],
                          [
                            0.4444444444444444,
                            "#bd3786"
                          ],
                          [
                            0.5555555555555556,
                            "#d8576b"
                          ],
                          [
                            0.6666666666666666,
                            "#ed7953"
                          ],
                          [
                            0.7777777777777778,
                            "#fb9f3a"
                          ],
                          [
                            0.8888888888888888,
                            "#fdca26"
                          ],
                          [
                            1,
                            "#f0f921"
                          ]
                        ],
                        "type": "contour"
                      }
                    ],
                    "contourcarpet": [
                      {
                        "colorbar": {
                          "outlinewidth": 0,
                          "ticks": ""
                        },
                        "type": "contourcarpet"
                      }
                    ],
                    "heatmap": [
                      {
                        "colorbar": {
                          "outlinewidth": 0,
                          "ticks": ""
                        },
                        "colorscale": [
                          [
                            0,
                            "#0d0887"
                          ],
                          [
                            0.1111111111111111,
                            "#46039f"
                          ],
                          [
                            0.2222222222222222,
                            "#7201a8"
                          ],
                          [
                            0.3333333333333333,
                            "#9c179e"
                          ],
                          [
                            0.4444444444444444,
                            "#bd3786"
                          ],
                          [
                            0.5555555555555556,
                            "#d8576b"
                          ],
                          [
                            0.6666666666666666,
                            "#ed7953"
                          ],
                          [
                            0.7777777777777778,
                            "#fb9f3a"
                          ],
                          [
                            0.8888888888888888,
                            "#fdca26"
                          ],
                          [
                            1,
                            "#f0f921"
                          ]
                        ],
                        "type": "heatmap"
                      }
                    ],
                    "heatmapgl": [
                      {
                        "colorbar": {
                          "outlinewidth": 0,
                          "ticks": ""
                        },
                        "colorscale": [
                          [
                            0,
                            "#0d0887"
                          ],
                          [
                            0.1111111111111111,
                            "#46039f"
                          ],
                          [
                            0.2222222222222222,
                            "#7201a8"
                          ],
                          [
                            0.3333333333333333,
                            "#9c179e"
                          ],
                          [
                            0.4444444444444444,
                            "#bd3786"
                          ],
                          [
                            0.5555555555555556,
                            "#d8576b"
                          ],
                          [
                            0.6666666666666666,
                            "#ed7953"
                          ],
                          [
                            0.7777777777777778,
                            "#fb9f3a"
                          ],
                          [
                            0.8888888888888888,
                            "#fdca26"
                          ],
                          [
                            1,
                            "#f0f921"
                          ]
                        ],
                        "type": "heatmapgl"
                      }
                    ],
                    "histogram": [
                      {
                        "marker": {
                          "pattern": {
                            "fillmode": "overlay",
                            "size": 10,
                            "solidity": 0.2
                          }
                        },
                        "type": "histogram"
                      }
                    ],
                    "histogram2d": [
                      {
                        "colorbar": {
                          "outlinewidth": 0,
                          "ticks": ""
                        },
                        "colorscale": [
                          [
                            0,
                            "#0d0887"
                          ],
                          [
                            0.1111111111111111,
                            "#46039f"
                          ],
                          [
                            0.2222222222222222,
                            "#7201a8"
                          ],
                          [
                            0.3333333333333333,
                            "#9c179e"
                          ],
                          [
                            0.4444444444444444,
                            "#bd3786"
                          ],
                          [
                            0.5555555555555556,
                            "#d8576b"
                          ],
                          [
                            0.6666666666666666,
                            "#ed7953"
                          ],
                          [
                            0.7777777777777778,
                            "#fb9f3a"
                          ],
                          [
                            0.8888888888888888,
                            "#fdca26"
                          ],
                          [
                            1,
                            "#f0f921"
                          ]
                        ],
                        "type": "histogram2d"
                      }
                    ],
                    "histogram2dcontour": [
                      {
                        "colorbar": {
                          "outlinewidth": 0,
                          "ticks": ""
                        },
                        "colorscale": [
                          [
                            0,
                            "#0d0887"
                          ],
                          [
                            0.1111111111111111,
                            "#46039f"
                          ],
                          [
                            0.2222222222222222,
                            "#7201a8"
                          ],
                          [
                            0.3333333333333333,
                            "#9c179e"
                          ],
                          [
                            0.4444444444444444,
                            "#bd3786"
                          ],
                          [
                            0.5555555555555556,
                            "#d8576b"
                          ],
                          [
                            0.6666666666666666,
                            "#ed7953"
                          ],
                          [
                            0.7777777777777778,
                            "#fb9f3a"
                          ],
                          [
                            0.8888888888888888,
                            "#fdca26"
                          ],
                          [
                            1,
                            "#f0f921"
                          ]
                        ],
                        "type": "histogram2dcontour"
                      }
                    ],
                    "mesh3d": [
                      {
                        "colorbar": {
                          "outlinewidth": 0,
                          "ticks": ""
                        },
                        "type": "mesh3d"
                      }
                    ],
                    "parcoords": [
                      {
                        "line": {
                          "colorbar": {
                            "outlinewidth": 0,
                            "ticks": ""
                          }
                        },
                        "type": "parcoords"
                      }
                    ],
                    "pie": [
                      {
                        "automargin": true,
                        "type": "pie"
                      }
                    ],
                    "scatter": [
                      {
                        "fillpattern": {
                          "fillmode": "overlay",
                          "size": 10,
                          "solidity": 0.2
                        },
                        "type": "scatter"
                      }
                    ],
                    "scatter3d": [
                      {
                        "line": {
                          "colorbar": {
                            "outlinewidth": 0,
                            "ticks": ""
                          }
                        },
                        "marker": {
                          "colorbar": {
                            "outlinewidth": 0,
                            "ticks": ""
                          }
                        },
                        "type": "scatter3d"
                      }
                    ],
                    "scattercarpet": [
                      {
                        "marker": {
                          "colorbar": {
                            "outlinewidth": 0,
                            "ticks": ""
                          }
                        },
                        "type": "scattercarpet"
                      }
                    ],
                    "scattergeo": [
                      {
                        "marker": {
                          "colorbar": {
                            "outlinewidth": 0,
                            "ticks": ""
                          }
                        },
                        "type": "scattergeo"
                      }
                    ],
                    "scattergl": [
                      {
                        "marker": {
                          "colorbar": {
                            "outlinewidth": 0,
                            "ticks": ""
                          }
                        },
                        "type": "scattergl"
                      }
                    ],
                    "scattermapbox": [
                      {
                        "marker": {
                          "colorbar": {
                            "outlinewidth": 0,
                            "ticks": ""
                          }
                        },
                        "type": "scattermapbox"
                      }
                    ],
                    "scatterpolar": [
                      {
                        "marker": {
                          "colorbar": {
                            "outlinewidth": 0,
                            "ticks": ""
                          }
                        },
                        "type": "scatterpolar"
                      }
                    ],
                    "scatterpolargl": [
                      {
                        "marker": {
                          "colorbar": {
                            "outlinewidth": 0,
                            "ticks": ""
                          }
                        },
                        "type": "scatterpolargl"
                      }
                    ],
                    "scatterternary": [
                      {
                        "marker": {
                          "colorbar": {
                            "outlinewidth": 0,
                            "ticks": ""
                          }
                        },
                        "type": "scatterternary"
                      }
                    ],
                    "surface": [
                      {
                        "colorbar": {
                          "outlinewidth": 0,
                          "ticks": ""
                        },
                        "colorscale": [
                          [
                            0,
                            "#0d0887"
                          ],
                          [
                            0.1111111111111111,
                            "#46039f"
                          ],
                          [
                            0.2222222222222222,
                            "#7201a8"
                          ],
                          [
                            0.3333333333333333,
                            "#9c179e"
                          ],
                          [
                            0.4444444444444444,
                            "#bd3786"
                          ],
                          [
                            0.5555555555555556,
                            "#d8576b"
                          ],
                          [
                            0.6666666666666666,
                            "#ed7953"
                          ],
                          [
                            0.7777777777777778,
                            "#fb9f3a"
                          ],
                          [
                            0.8888888888888888,
                            "#fdca26"
                          ],
                          [
                            1,
                            "#f0f921"
                          ]
                        ],
                        "type": "surface"
                      }
                    ],
                    "table": [
                      {
                        "cells": {
                          "fill": {
                            "color": "#EBF0F8"
                          },
                          "line": {
                            "color": "white"
                          }
                        },
                        "header": {
                          "fill": {
                            "color": "#C8D4E3"
                          },
                          "line": {
                            "color": "white"
                          }
                        },
                        "type": "table"
                      }
                    ]
                  },
                  "layout": {
                    "annotationdefaults": {
                      "arrowcolor": "#2a3f5f",
                      "arrowhead": 0,
                      "arrowwidth": 1
                    },
                    "autotypenumbers": "strict",
                    "coloraxis": {
                      "colorbar": {
                        "outlinewidth": 0,
                        "ticks": ""
                      }
                    },
                    "colorscale": {
                      "diverging": [
                        [
                          0,
                          "#8e0152"
                        ],
                        [
                          0.1,
                          "#c51b7d"
                        ],
                        [
                          0.2,
                          "#de77ae"
                        ],
                        [
                          0.3,
                          "#f1b6da"
                        ],
                        [
                          0.4,
                          "#fde0ef"
                        ],
                        [
                          0.5,
                          "#f7f7f7"
                        ],
                        [
                          0.6,
                          "#e6f5d0"
                        ],
                        [
                          0.7,
                          "#b8e186"
                        ],
                        [
                          0.8,
                          "#7fbc41"
                        ],
                        [
                          0.9,
                          "#4d9221"
                        ],
                        [
                          1,
                          "#276419"
                        ]
                      ],
                      "sequential": [
                        [
                          0,
                          "#0d0887"
                        ],
                        [
                          0.1111111111111111,
                          "#46039f"
                        ],
                        [
                          0.2222222222222222,
                          "#7201a8"
                        ],
                        [
                          0.3333333333333333,
                          "#9c179e"
                        ],
                        [
                          0.4444444444444444,
                          "#bd3786"
                        ],
                        [
                          0.5555555555555556,
                          "#d8576b"
                        ],
                        [
                          0.6666666666666666,
                          "#ed7953"
                        ],
                        [
                          0.7777777777777778,
                          "#fb9f3a"
                        ],
                        [
                          0.8888888888888888,
                          "#fdca26"
                        ],
                        [
                          1,
                          "#f0f921"
                        ]
                      ],
                      "sequentialminus": [
                        [
                          0,
                          "#0d0887"
                        ],
                        [
                          0.1111111111111111,
                          "#46039f"
                        ],
                        [
                          0.2222222222222222,
                          "#7201a8"
                        ],
                        [
                          0.3333333333333333,
                          "#9c179e"
                        ],
                        [
                          0.4444444444444444,
                          "#bd3786"
                        ],
                        [
                          0.5555555555555556,
                          "#d8576b"
                        ],
                        [
                          0.6666666666666666,
                          "#ed7953"
                        ],
                        [
                          0.7777777777777778,
                          "#fb9f3a"
                        ],
                        [
                          0.8888888888888888,
                          "#fdca26"
                        ],
                        [
                          1,
                          "#f0f921"
                        ]
                      ]
                    },
                    "colorway": [
                      "#636efa",
                      "#EF553B",
                      "#00cc96",
                      "#ab63fa",
                      "#FFA15A",
                      "#19d3f3",
                      "#FF6692",
                      "#B6E880",
                      "#FF97FF",
                      "#FECB52"
                    ],
                    "font": {
                      "color": "#2a3f5f"
                    },
                    "geo": {
                      "bgcolor": "white",
                      "lakecolor": "white",
                      "landcolor": "#E5ECF6",
                      "showlakes": true,
                      "showland": true,
                      "subunitcolor": "white"
                    },
                    "hoverlabel": {
                      "align": "left"
                    },
                    "hovermode": "closest",
                    "mapbox": {
                      "style": "light"
                    },
                    "paper_bgcolor": "white",
                    "plot_bgcolor": "#E5ECF6",
                    "polar": {
                      "angularaxis": {
                        "gridcolor": "white",
                        "linecolor": "white",
                        "ticks": ""
                      },
                      "bgcolor": "#E5ECF6",
                      "radialaxis": {
                        "gridcolor": "white",
                        "linecolor": "white",
                        "ticks": ""
                      }
                    },
                    "scene": {
                      "xaxis": {
                        "backgroundcolor": "#E5ECF6",
                        "gridcolor": "white",
                        "gridwidth": 2,
                        "linecolor": "white",
                        "showbackground": true,
                        "ticks": "",
                        "zerolinecolor": "white"
                      },
                      "yaxis": {
                        "backgroundcolor": "#E5ECF6",
                        "gridcolor": "white",
                        "gridwidth": 2,
                        "linecolor": "white",
                        "showbackground": true,
                        "ticks": "",
                        "zerolinecolor": "white"
                      },
                      "zaxis": {
                        "backgroundcolor": "#E5ECF6",
                        "gridcolor": "white",
                        "gridwidth": 2,
                        "linecolor": "white",
                        "showbackground": true,
                        "ticks": "",
                        "zerolinecolor": "white"
                      }
                    },
                    "shapedefaults": {
                      "line": {
                        "color": "#2a3f5f"
                      }
                    },
                    "ternary": {
                      "aaxis": {
                        "gridcolor": "white",
                        "linecolor": "white",
                        "ticks": ""
                      },
                      "baxis": {
                        "gridcolor": "white",
                        "linecolor": "white",
                        "ticks": ""
                      },
                      "bgcolor": "#E5ECF6",
                      "caxis": {
                        "gridcolor": "white",
                        "linecolor": "white",
                        "ticks": ""
                      }
                    },
                    "title": {
                      "x": 0.05
                    },
                    "xaxis": {
                      "automargin": true,
                      "gridcolor": "white",
                      "linecolor": "white",
                      "ticks": "",
                      "title": {
                        "standoff": 15
                      },
                      "zerolinecolor": "white",
                      "zerolinewidth": 2
                    },
                    "yaxis": {
                      "automargin": true,
                      "gridcolor": "white",
                      "linecolor": "white",
                      "ticks": "",
                      "title": {
                        "standoff": 15
                      },
                      "zerolinecolor": "white",
                      "zerolinewidth": 2
                    }
                  }
                }
              }
            }
          },
          "metadata": {},
          "output_type": "display_data"
        }
      ],
      "source": [
        "fig = px.treemap(rate_product, path=[px.Constant(\"Product Sold\"), 'product_category_name_english'], values='count')\n",
        "fig.update_traces(root_color=\"lightgrey\")\n",
        "fig.update_layout(margin = dict(t=50, l=25, r=25, b=25))\n",
        "fig.show()"
      ]
    },
    {
      "cell_type": "markdown",
      "metadata": {},
      "source": [
        "### Pertanyaan 6: bagaimana analisis RFMnya"
      ]
    },
    {
      "cell_type": "code",
      "execution_count": 88,
      "metadata": {},
      "outputs": [
        {
          "name": "stdout",
          "output_type": "stream",
          "text": [
            "<class 'pandas.core.frame.DataFrame'>\n",
            "RangeIndex: 115609 entries, 0 to 115608\n",
            "Data columns (total 3 columns):\n",
            " #   Column                    Non-Null Count   Dtype         \n",
            "---  ------                    --------------   -----         \n",
            " 0   order_purchase_timestamp  115609 non-null  datetime64[ns]\n",
            " 1   order_id                  115609 non-null  object        \n",
            " 2   total_price               115609 non-null  float64       \n",
            "dtypes: datetime64[ns](1), float64(1), object(1)\n",
            "memory usage: 2.6+ MB\n"
          ]
        }
      ],
      "source": [
        "all_data = pd.read_csv('data/all_dataset.csv', \n",
        "                       sep=',',\n",
        "                       parse_dates=['order_purchase_timestamp'])\n",
        "\n",
        "data = all_data[['order_purchase_timestamp','order_id','total_price']]\n",
        "data.info()"
      ]
    },
    {
      "cell_type": "code",
      "execution_count": null,
      "metadata": {},
      "outputs": [],
      "source": [
        "df = all_data.groupby(by='customer_id', as_index=False).agg({\n",
        "    'order_purchase_timestamp':'max',\n",
        "    'order_id':'count',\n",
        "    'total_price':'sum'\n",
        "})\n",
        "\n",
        "df.columns = [\"customer_id\", \"max_order_timestamp\", \"frequency\", \"monetary\"]\n",
        " # - df.max_order_timestamp.dt.date\n",
        "df[\"max_order_timestamp\"] = df.max_order_timestamp.dt.date\n",
        "rcnt_date = all_dataset.order_purchase_timestamp.dt.date.max()\n",
        "df[\"recency\"] = df[\"max_order_timestamp\"].apply(lambda x: (rcnt_date - x).days)\n",
        "df['cust_id_short'] = df.customer_id.str.slice(start=25)\n",
        "\n",
        "df.drop(\"max_order_timestamp\", axis=1, inplace=True)"
      ]
    },
    {
      "cell_type": "code",
      "execution_count": 77,
      "metadata": {},
      "outputs": [
        {
          "data": {
            "text/html": [
              "<div>\n",
              "<style scoped>\n",
              "    .dataframe tbody tr th:only-of-type {\n",
              "        vertical-align: middle;\n",
              "    }\n",
              "\n",
              "    .dataframe tbody tr th {\n",
              "        vertical-align: top;\n",
              "    }\n",
              "\n",
              "    .dataframe thead th {\n",
              "        text-align: right;\n",
              "    }\n",
              "</style>\n",
              "<table border=\"1\" class=\"dataframe\">\n",
              "  <thead>\n",
              "    <tr style=\"text-align: right;\">\n",
              "      <th></th>\n",
              "      <th>customer_id</th>\n",
              "      <th>frequency</th>\n",
              "      <th>monetary</th>\n",
              "      <th>recency</th>\n",
              "      <th>cust_id_short</th>\n",
              "    </tr>\n",
              "  </thead>\n",
              "  <tbody>\n",
              "    <tr>\n",
              "      <th>28446</th>\n",
              "      <td>4b7decb9b58e2569548b8b4c8e20e8d7</td>\n",
              "      <td>1</td>\n",
              "      <td>145.00</td>\n",
              "      <td>0</td>\n",
              "      <td>e20e8d7</td>\n",
              "    </tr>\n",
              "    <tr>\n",
              "      <th>6235</th>\n",
              "      <td>10a79ef2783cae3d8d678e85fde235ac</td>\n",
              "      <td>1</td>\n",
              "      <td>6.90</td>\n",
              "      <td>5</td>\n",
              "      <td>de235ac</td>\n",
              "    </tr>\n",
              "    <tr>\n",
              "      <th>51800</th>\n",
              "      <td>898b7fee99c4e42170ab69ba59be0a8b</td>\n",
              "      <td>1</td>\n",
              "      <td>84.99</td>\n",
              "      <td>5</td>\n",
              "      <td>9be0a8b</td>\n",
              "    </tr>\n",
              "    <tr>\n",
              "      <th>86225</th>\n",
              "      <td>e450a297a7bc6839ceb0cf1a2377fa02</td>\n",
              "      <td>1</td>\n",
              "      <td>63.90</td>\n",
              "      <td>5</td>\n",
              "      <td>377fa02</td>\n",
              "    </tr>\n",
              "    <tr>\n",
              "      <th>69923</th>\n",
              "      <td>b8c19e70d00f6927388e4f31c923d785</td>\n",
              "      <td>1</td>\n",
              "      <td>169.80</td>\n",
              "      <td>5</td>\n",
              "      <td>923d785</td>\n",
              "    </tr>\n",
              "  </tbody>\n",
              "</table>\n",
              "</div>"
            ],
            "text/plain": [
              "                            customer_id  frequency  monetary  recency  \\\n",
              "28446  4b7decb9b58e2569548b8b4c8e20e8d7          1    145.00        0   \n",
              "6235   10a79ef2783cae3d8d678e85fde235ac          1      6.90        5   \n",
              "51800  898b7fee99c4e42170ab69ba59be0a8b          1     84.99        5   \n",
              "86225  e450a297a7bc6839ceb0cf1a2377fa02          1     63.90        5   \n",
              "69923  b8c19e70d00f6927388e4f31c923d785          1    169.80        5   \n",
              "\n",
              "      cust_id_short  \n",
              "28446       e20e8d7  \n",
              "6235        de235ac  \n",
              "51800       9be0a8b  \n",
              "86225       377fa02  \n",
              "69923       923d785  "
            ]
          },
          "execution_count": 77,
          "metadata": {},
          "output_type": "execute_result"
        }
      ],
      "source": [
        "df.sort_values(by='recency', ascending=True).head()\n"
      ]
    },
    {
      "cell_type": "code",
      "execution_count": 78,
      "metadata": {},
      "outputs": [
        {
          "name": "stderr",
          "output_type": "stream",
          "text": [
            "C:\\Users\\Lenovo\\AppData\\Local\\Temp\\ipykernel_16832\\4115780139.py:5: FutureWarning:\n",
            "\n",
            "\n",
            "\n",
            "Passing `palette` without assigning `hue` is deprecated and will be removed in v0.14.0. Assign the `x` variable to `hue` and set `legend=False` for the same effect.\n",
            "\n",
            "\n",
            "C:\\Users\\Lenovo\\AppData\\Local\\Temp\\ipykernel_16832\\4115780139.py:11: FutureWarning:\n",
            "\n",
            "\n",
            "\n",
            "Passing `palette` without assigning `hue` is deprecated and will be removed in v0.14.0. Assign the `x` variable to `hue` and set `legend=False` for the same effect.\n",
            "\n",
            "\n",
            "C:\\Users\\Lenovo\\AppData\\Local\\Temp\\ipykernel_16832\\4115780139.py:17: FutureWarning:\n",
            "\n",
            "\n",
            "\n",
            "Passing `palette` without assigning `hue` is deprecated and will be removed in v0.14.0. Assign the `x` variable to `hue` and set `legend=False` for the same effect.\n",
            "\n",
            "\n"
          ]
        },
        {
          "data": {
            "image/png": "[encoded data removed]",
            "text/plain": [
              "<Figure size 3000x600 with 3 Axes>"
            ]
          },
          "metadata": {},
          "output_type": "display_data"
        }
      ],
      "source": [
        "fig, ax = plt.subplots(nrows=1, ncols=3, figsize=(30, 6))\n",
        " \n",
        "colors = [\"#72BCD4\", \"#72BCD4\", \"#72BCD4\", \"#72BCD4\", \"#72BCD4\"]\n",
        " \n",
        "sns.barplot(y=\"recency\", x=\"cust_id_short\", data=df.sort_values(by=\"recency\", ascending=True).head(5), palette=colors, ax=ax[0])\n",
        "ax[0].set_ylabel(None)\n",
        "ax[0].set_xlabel(None)\n",
        "ax[0].set_title(\"By Recency (days)\", loc=\"center\", fontsize=18)\n",
        "ax[0].tick_params(axis ='x', labelsize=15)\n",
        " \n",
        "sns.barplot(y=\"frequency\", x=\"cust_id_short\", data=df.sort_values(by=\"frequency\", ascending=False).head(5), palette=colors, ax=ax[1])\n",
        "ax[1].set_ylabel(None)\n",
        "ax[1].set_xlabel(None)\n",
        "ax[1].set_title(\"By Frequency\", loc=\"center\", fontsize=18)\n",
        "ax[1].tick_params(axis='x', labelsize=15)\n",
        " \n",
        "sns.barplot(y=\"monetary\", x=\"cust_id_short\", data=df.sort_values(by=\"monetary\", ascending=False).head(5), palette=colors, ax=ax[2])\n",
        "ax[2].set_ylabel(None)\n",
        "ax[2].set_xlabel(None)\n",
        "ax[2].set_title(\"By Monetary\", loc=\"center\", fontsize=18)\n",
        "ax[2].tick_params(axis='x', labelsize=15)\n",
        " \n",
        "plt.suptitle(\"Best Customer Based on RFM Parameters (customer_id)\", fontsize=20)\n",
        "plt.show()"
      ]
    },
    {
      "cell_type": "markdown",
      "metadata": {},
      "source": [
        "### Pertanyaan 7: bagaimana geoanalisis antara order, customer dan seller"
      ]
    },
    {
      "cell_type": "code",
      "execution_count": null,
      "metadata": {},
      "outputs": [],
      "source": []
    },
    {
      "cell_type": "markdown",
      "metadata": {
        "id": "J2CnXYGT9Tc2"
      },
      "source": [
        "## Conclusion"
      ]
    },
    {
      "cell_type": "markdown",
      "metadata": {
        "id": "f73FBkLw9V8C"
      },
      "source": [
        "- Conclution pertanyaan 1\n",
        "- conclution pertanyaan 2"
      ]
    },
    {
      "cell_type": "code",
      "execution_count": null,
      "metadata": {
        "id": "b32P72p99VN9"
      },
      "outputs": [],
      "source": []
    }
  ],
  "metadata": {
    "colab": {
      "provenance": []
    },
    "kernelspec": {
      "display_name": "Python 3",
      "name": "python3"
    },
    "language_info": {
      "codemirror_mode": {
        "name": "ipython",
        "version": 3
      },
      "file_extension": ".py",
      "mimetype": "text/x-python",
      "name": "python",
      "nbconvert_exporter": "python",
      "pygments_lexer": "ipython3",
      "version": "3.10.0"
    }
  },
  "nbformat": 4,
  "nbformat_minor": 0
}
